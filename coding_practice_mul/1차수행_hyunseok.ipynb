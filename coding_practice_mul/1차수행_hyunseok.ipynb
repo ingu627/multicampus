{
 "cells": [
  {
   "cell_type": "markdown",
   "source": [
    "## 1번"
   ],
   "metadata": {}
  },
  {
   "cell_type": "code",
   "execution_count": 1,
   "source": [
    "# 1번\r\n",
    "import re\r\n",
    "\r\n",
    "name='이유덕,이재영,권종표,이재영,박민호,강상희,이재영,김지완,최승혁,이성연,박영서,박민호,전경헌,송정환,김재성,이유덕,전경헌'\r\n",
    "\r\n",
    "# 1)\r\n",
    "name_blank=name.replace(',' , ' ')\r\n",
    "kim_num=len(re.findall('김[ㄱ-힣]{2}', name_blank))\r\n",
    "li_num=len(re.findall('이[ㄱ-힣]{2}', name_blank))\r\n",
    "\r\n",
    "print('김씨는 {}명'.format(kim_num))\r\n",
    "print('이씨는 {}명'.format(li_num))"
   ],
   "outputs": [
    {
     "output_type": "stream",
     "name": "stdout",
     "text": [
      "김씨는 2명\n",
      "이씨는 6명\n"
     ]
    }
   ],
   "metadata": {}
  },
  {
   "cell_type": "code",
   "execution_count": 2,
   "source": [
    "# 2)\r\n",
    "lijaeyoung_num=len(re.findall('이재영', name_blank))\r\n",
    "print('이재영은 {}번 반복된다.'.format(lijaeyoung_num))"
   ],
   "outputs": [
    {
     "output_type": "stream",
     "name": "stdout",
     "text": [
      "이재영은 3번 반복된다.\n"
     ]
    }
   ],
   "metadata": {}
  },
  {
   "cell_type": "code",
   "execution_count": 3,
   "source": [
    "# 3) \r\n",
    "name_set=set(name.split(','))\r\n",
    "\r\n",
    "print('중복을 제거한 이름 :', end= ' ')\r\n",
    "for each_name in list(name_set):\r\n",
    "    print(each_name, end=' ')\r\n",
    "\r\n"
   ],
   "outputs": [
    {
     "output_type": "stream",
     "name": "stdout",
     "text": [
      "중복을 제거한 이름 : 이재영 최승혁 전경헌 박영서 이유덕 강상희 권종표 이성연 송정환 김지완 박민호 김재성 "
     ]
    }
   ],
   "metadata": {}
  },
  {
   "cell_type": "code",
   "execution_count": 4,
   "source": [
    "# 4)\r\n",
    "\r\n",
    "print('오름차순으로 정리 : ', end=' ')\r\n",
    "for each_name in sorted(list(name_set)):\r\n",
    "    print(each_name, end=' ')"
   ],
   "outputs": [
    {
     "output_type": "stream",
     "name": "stdout",
     "text": [
      "오름차순으로 정리 :  강상희 권종표 김재성 김지완 박민호 박영서 송정환 이성연 이유덕 이재영 전경헌 최승혁 "
     ]
    }
   ],
   "metadata": {}
  },
  {
   "cell_type": "markdown",
   "source": [
    "## 2번"
   ],
   "metadata": {}
  },
  {
   "cell_type": "code",
   "execution_count": 14,
   "source": [
    "def compare_version(ver1, ver2):\r\n",
    "    ver1_list=ver1.split('.')\r\n",
    "    ver2_list=ver2.split('.')\r\n",
    "\r\n",
    "    for i in range(len(ver1_list)):\r\n",
    "        if eval('ver1_list[i] > ver2_list[i]'):\r\n",
    "            return print('{} > {}'.format(ver1, ver2))\r\n",
    "        elif eval('ver1_list[i] < ver2_list[i]'):\r\n",
    "            return print('{} < {}'.format(ver1, ver2))\r\n",
    "        else:\r\n",
    "            continue\r\n",
    "    \r\n",
    "print(compare_version('0.0.2', '0.0.1'))\r\n",
    "print(compare_version('1.0.10', '1.0.3'))\r\n",
    "print(compare_version('1.2.0', '1.1.99'))\r\n",
    "print(compare_version('1.1', '1.0.1'))\r\n",
    "\r\n",
    "\r\n",
    "\r\n",
    "\r\n"
   ],
   "outputs": [
    {
     "output_type": "stream",
     "name": "stdout",
     "text": [
      "0.0.2 > 0.0.1\n",
      "None\n",
      "1.0.10 < 1.0.3\n",
      "None\n",
      "1.2.0 > 1.1.99\n",
      "None\n",
      "1.1 > 1.0.1\n",
      "None\n"
     ]
    }
   ],
   "metadata": {}
  },
  {
   "cell_type": "markdown",
   "source": [
    "## 3번"
   ],
   "metadata": {}
  },
  {
   "cell_type": "code",
   "execution_count": 6,
   "source": [
    "with open('test.txt', 'w') as f:\r\n",
    "    f.write('As the country became embroiled in a domestic crisis, the first government was dislodged and succeeded by several different administrations. Bolikango served as Deputy Prime Minister in one of the new governments before a partial state of stability was reestablished in 1961. He mediated between warring factions in the Congo and briefly served once again as Deputy Prime Minister in 1962 before returning to the parliamentary opposition. After Joseph-Desire Mobutu took power in 1965, Bolikango became a minister in his government. Mobutu soon dismissed him but appointed him to the political bureau of the Mouvement Populaire de la Revolution. Bolikango left the bureau in 1970. He left Parliament in 1975 and died seven years later. His grandson created the Jean Bolikango Foundation in his memory to promote social progress. The President of the Congo posthumously awarded Bolikango a medal in 2005 for his long career in public service.')"
   ],
   "outputs": [],
   "metadata": {}
  },
  {
   "cell_type": "code",
   "execution_count": 7,
   "source": [
    "with open('test.txt', 'r') as f:\r\n",
    "    history=f.read()"
   ],
   "outputs": [],
   "metadata": {}
  },
  {
   "cell_type": "code",
   "execution_count": 8,
   "source": [
    "import re\r\n",
    "from collections import Counter\r\n",
    "\r\n",
    "history1 = history.split(' ')\r\n",
    "history2 = history.replace(',' , '')\r\n",
    "history2 = history2.replace('.', '')\r\n",
    "history_refined = history2.lower()\r\n",
    "history_list = history_refined.split(' ')\r\n",
    "\r\n",
    "history_array=Counter(history_list)\r\n",
    "history_descending= sorted(history_array.items(), key=lambda x: x[1], reverse=True)[0:10]\r\n",
    "\r\n",
    "for key, value in history_descending:\r\n",
    "    print(key, value)"
   ],
   "outputs": [
    {
     "output_type": "stream",
     "name": "stdout",
     "text": [
      "in 12\n",
      "the 11\n",
      "bolikango 5\n",
      "a 4\n",
      "of 4\n",
      "his 4\n",
      "as 3\n",
      "and 3\n",
      "minister 3\n",
      "to 3\n"
     ]
    }
   ],
   "metadata": {}
  }
 ],
 "metadata": {
  "orig_nbformat": 4,
  "language_info": {
   "name": "python",
   "version": "3.8.5",
   "mimetype": "text/x-python",
   "codemirror_mode": {
    "name": "ipython",
    "version": 3
   },
   "pygments_lexer": "ipython3",
   "nbconvert_exporter": "python",
   "file_extension": ".py"
  },
  "kernelspec": {
   "name": "python3",
   "display_name": "Python 3.8.5 64-bit ('base': conda)"
  },
  "interpreter": {
   "hash": "b3ba2566441a7c06988d0923437866b63cedc61552a5af99d1f4fb67d367b25f"
  }
 },
 "nbformat": 4,
 "nbformat_minor": 2
}