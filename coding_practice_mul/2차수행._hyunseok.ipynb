{
 "cells": [
  {
   "cell_type": "code",
   "execution_count": 14,
   "source": [
    "import numpy as np \r\n",
    "import pandas as pd\r\n",
    "from numpy import dot\r\n",
    "from numpy.linalg import norm"
   ],
   "outputs": [],
   "metadata": {}
  },
  {
   "cell_type": "code",
   "execution_count": 6,
   "source": [
    "# 1. 다음 데이터를 이용하여 BTS가 아직 관람하지 않은 영화 중 어떤 영화를 추천하는게 좋을까요?\r\n",
    "# 분석 결과와 함께 설명도 함께 해주시길 바랍니다."
   ],
   "outputs": [],
   "metadata": {}
  },
  {
   "cell_type": "markdown",
   "source": [
    "영화추천 문제의 데이터를 아래에 제시한 데이터로 변경하여 작업하세요.\r\n",
    "\r\n",
    "수행 평가 문제는 '우주소녀' 그룹이 '겨울왕국': 4.5, '사랑과전쟁': 1.0, '넘버3': 4.0 영화를 보고 평점을 남겼는데요.\r\n",
    "\r\n",
    "'우주소녀' 그룹에게 어떤 영화를 추천할 것인가? 입니다.\r\n",
    "\r\n",
    "해결 방법은 여러가지가 있는데요.\r\n",
    "\r\n",
    "한 가지 방법을 말씀드리자면, \r\n",
    "\r\n",
    "1) '우주소녀' 그룹과 가장 유사한 그룹을 찾아야 하고,  \r\n",
    "\r\n",
    "2) 해당 유사한 그룹이 높게 평점을 줬던 영화를 찾는것 이라고 할 수 있습니다 "
   ],
   "metadata": {}
  },
  {
   "cell_type": "code",
   "execution_count": 3,
   "source": [
    "critics = {\r\n",
    "    '레드벨벳': {\r\n",
    "        '택시운전사': 2.5,\r\n",
    "        '겨울왕국': 3.5,\r\n",
    "        '리빙라스베가스': 3.0,\r\n",
    "        '넘버3': 3.5,\r\n",
    "        '사랑과전쟁': 2.5,\r\n",
    "        '세계대전': 3.0,\r\n",
    "    },\r\n",
    "    'BTS': {\r\n",
    "        '택시운전사': 2.0,\r\n",
    "        '리빙라스베가스': 3.5,\r\n",
    "        '넘버3': 2.5,\r\n",
    "    },\r\n",
    "    '블랙핑크': {\r\n",
    "        '택시운전사': 3.0,\r\n",
    "        '겨울왕국': 3.5,\r\n",
    "        '리빙라스베가스': 1.5,\r\n",
    "        '넘버3': 5.0,\r\n",
    "        '세계대전': 3.0,\r\n",
    "        '사랑과전쟁': 3.5,\r\n",
    "    },\r\n",
    "    '소녀시대': {\r\n",
    "        '택시운전사': 2.5,\r\n",
    "        '겨울왕국': 3.0,\r\n",
    "        '넘버3': 3.5,\r\n",
    "        '세계대전': 4.0,\r\n",
    "    },\r\n",
    "    '마마무': {\r\n",
    "        '겨울왕국': 3.5,\r\n",
    "        '리빙라스베가스': 3.0,\r\n",
    "        '세계대전': 4.5,\r\n",
    "        '넘버3': 4.0,\r\n",
    "        '사랑과전쟁': 2.5,\r\n",
    "    },\r\n",
    "    '오마이걸': {\r\n",
    "        '택시운전사': 3.0,\r\n",
    "        '겨울왕국': 4.0,\r\n",
    "        '리빙라스베가스': 2.0,\r\n",
    "        '넘버3': 3.0,\r\n",
    "        '세계대전': 3.5,\r\n",
    "        '사랑과전쟁': 2.0,\r\n",
    "    },\r\n",
    "    '모모랜드': {\r\n",
    "        '택시운전사': 3.0,\r\n",
    "        '겨울왕국': 4.0,\r\n",
    "        '세계대전': 3.0,\r\n",
    "        '넘버3': 5.0,\r\n",
    "        '사랑과전쟁': 3.5,\r\n",
    "    },\r\n",
    "    '우주소녀': {'겨울왕국': 4.5, '사랑과전쟁': 1.0,\r\n",
    "             '넘버3': 4.0},\r\n",
    "}"
   ],
   "outputs": [],
   "metadata": {}
  },
  {
   "cell_type": "code",
   "execution_count": 61,
   "source": [
    "def Euclidean(A, B):\r\n",
    "    return np.sqrt(((a-b)**2).sum())"
   ],
   "outputs": [],
   "metadata": {}
  },
  {
   "cell_type": "code",
   "execution_count": 73,
   "source": [
    "df1 = pd.DataFrame(critics) \r\n",
    "df1"
   ],
   "outputs": [
    {
     "output_type": "execute_result",
     "data": {
      "text/plain": [
       "         레드벨벳  BTS  블랙핑크  소녀시대  마마무  오마이걸  모모랜드  우주소녀\n",
       "택시운전사     2.5  2.0   3.0   2.5  NaN   3.0   3.0   NaN\n",
       "겨울왕국      3.5  NaN   3.5   3.0  3.5   4.0   4.0   4.5\n",
       "리빙라스베가스   3.0  3.5   1.5   NaN  3.0   2.0   NaN   NaN\n",
       "넘버3       3.5  2.5   5.0   3.5  4.0   3.0   5.0   4.0\n",
       "사랑과전쟁     2.5  NaN   3.5   NaN  2.5   2.0   3.5   1.0\n",
       "세계대전      3.0  NaN   3.0   4.0  4.5   3.5   3.0   NaN"
      ],
      "text/html": [
       "<div>\n",
       "<style scoped>\n",
       "    .dataframe tbody tr th:only-of-type {\n",
       "        vertical-align: middle;\n",
       "    }\n",
       "\n",
       "    .dataframe tbody tr th {\n",
       "        vertical-align: top;\n",
       "    }\n",
       "\n",
       "    .dataframe thead th {\n",
       "        text-align: right;\n",
       "    }\n",
       "</style>\n",
       "<table border=\"1\" class=\"dataframe\">\n",
       "  <thead>\n",
       "    <tr style=\"text-align: right;\">\n",
       "      <th></th>\n",
       "      <th>레드벨벳</th>\n",
       "      <th>BTS</th>\n",
       "      <th>블랙핑크</th>\n",
       "      <th>소녀시대</th>\n",
       "      <th>마마무</th>\n",
       "      <th>오마이걸</th>\n",
       "      <th>모모랜드</th>\n",
       "      <th>우주소녀</th>\n",
       "    </tr>\n",
       "  </thead>\n",
       "  <tbody>\n",
       "    <tr>\n",
       "      <th>택시운전사</th>\n",
       "      <td>2.5</td>\n",
       "      <td>2.0</td>\n",
       "      <td>3.0</td>\n",
       "      <td>2.5</td>\n",
       "      <td>NaN</td>\n",
       "      <td>3.0</td>\n",
       "      <td>3.0</td>\n",
       "      <td>NaN</td>\n",
       "    </tr>\n",
       "    <tr>\n",
       "      <th>겨울왕국</th>\n",
       "      <td>3.5</td>\n",
       "      <td>NaN</td>\n",
       "      <td>3.5</td>\n",
       "      <td>3.0</td>\n",
       "      <td>3.5</td>\n",
       "      <td>4.0</td>\n",
       "      <td>4.0</td>\n",
       "      <td>4.5</td>\n",
       "    </tr>\n",
       "    <tr>\n",
       "      <th>리빙라스베가스</th>\n",
       "      <td>3.0</td>\n",
       "      <td>3.5</td>\n",
       "      <td>1.5</td>\n",
       "      <td>NaN</td>\n",
       "      <td>3.0</td>\n",
       "      <td>2.0</td>\n",
       "      <td>NaN</td>\n",
       "      <td>NaN</td>\n",
       "    </tr>\n",
       "    <tr>\n",
       "      <th>넘버3</th>\n",
       "      <td>3.5</td>\n",
       "      <td>2.5</td>\n",
       "      <td>5.0</td>\n",
       "      <td>3.5</td>\n",
       "      <td>4.0</td>\n",
       "      <td>3.0</td>\n",
       "      <td>5.0</td>\n",
       "      <td>4.0</td>\n",
       "    </tr>\n",
       "    <tr>\n",
       "      <th>사랑과전쟁</th>\n",
       "      <td>2.5</td>\n",
       "      <td>NaN</td>\n",
       "      <td>3.5</td>\n",
       "      <td>NaN</td>\n",
       "      <td>2.5</td>\n",
       "      <td>2.0</td>\n",
       "      <td>3.5</td>\n",
       "      <td>1.0</td>\n",
       "    </tr>\n",
       "    <tr>\n",
       "      <th>세계대전</th>\n",
       "      <td>3.0</td>\n",
       "      <td>NaN</td>\n",
       "      <td>3.0</td>\n",
       "      <td>4.0</td>\n",
       "      <td>4.5</td>\n",
       "      <td>3.5</td>\n",
       "      <td>3.0</td>\n",
       "      <td>NaN</td>\n",
       "    </tr>\n",
       "  </tbody>\n",
       "</table>\n",
       "</div>"
      ]
     },
     "metadata": {},
     "execution_count": 73
    }
   ],
   "metadata": {}
  },
  {
   "cell_type": "code",
   "execution_count": 77,
   "source": [
    "df1.fillna(0, inplace=True)"
   ],
   "outputs": [],
   "metadata": {}
  },
  {
   "cell_type": "code",
   "execution_count": 78,
   "source": [
    "for group in df1.columns[:-1]:\r\n",
    "    girl_sim = Euclidean(df1['우주소녀'] , df1[group])\r\n",
    "    print(f'우주소녀와 {group}과의 유사도 : {girl_sim:.2f}')"
   ],
   "outputs": [
    {
     "output_type": "stream",
     "name": "stdout",
     "text": [
      "우주소녀와 레드벨벳과의 유사도 : 2.83\n",
      "우주소녀와 BTS과의 유사도 : 2.83\n",
      "우주소녀와 블랙핑크과의 유사도 : 2.83\n",
      "우주소녀와 소녀시대과의 유사도 : 2.83\n",
      "우주소녀와 마마무과의 유사도 : 2.83\n",
      "우주소녀와 오마이걸과의 유사도 : 2.83\n",
      "우주소녀와 모모랜드과의 유사도 : 2.83\n"
     ]
    }
   ],
   "metadata": {}
  },
  {
   "cell_type": "markdown",
   "source": [
    "### 유클리디안으로 계산해보았지만 아쉽게도 모든 거리가 똑같이 나왔다.\r\n",
    "### 따라서 다른 방법을 택했다."
   ],
   "metadata": {}
  },
  {
   "cell_type": "code",
   "execution_count": 15,
   "source": [
    "def cos_sim(A, B):\r\n",
    "    return dot(A, B)/(norm(A)*norm(B))\r\n",
    "\r\n",
    "# 코사인 유사도 활용"
   ],
   "outputs": [],
   "metadata": {}
  },
  {
   "cell_type": "code",
   "execution_count": 68,
   "source": [
    "df2 = pd.DataFrame(critics) \r\n",
    "df2"
   ],
   "outputs": [
    {
     "output_type": "execute_result",
     "data": {
      "text/plain": [
       "         레드벨벳  BTS  블랙핑크  소녀시대  마마무  오마이걸  모모랜드  우주소녀\n",
       "택시운전사     2.5  2.0   3.0   2.5  NaN   3.0   3.0   NaN\n",
       "겨울왕국      3.5  NaN   3.5   3.0  3.5   4.0   4.0   4.5\n",
       "리빙라스베가스   3.0  3.5   1.5   NaN  3.0   2.0   NaN   NaN\n",
       "넘버3       3.5  2.5   5.0   3.5  4.0   3.0   5.0   4.0\n",
       "사랑과전쟁     2.5  NaN   3.5   NaN  2.5   2.0   3.5   1.0\n",
       "세계대전      3.0  NaN   3.0   4.0  4.5   3.5   3.0   NaN"
      ],
      "text/html": [
       "<div>\n",
       "<style scoped>\n",
       "    .dataframe tbody tr th:only-of-type {\n",
       "        vertical-align: middle;\n",
       "    }\n",
       "\n",
       "    .dataframe tbody tr th {\n",
       "        vertical-align: top;\n",
       "    }\n",
       "\n",
       "    .dataframe thead th {\n",
       "        text-align: right;\n",
       "    }\n",
       "</style>\n",
       "<table border=\"1\" class=\"dataframe\">\n",
       "  <thead>\n",
       "    <tr style=\"text-align: right;\">\n",
       "      <th></th>\n",
       "      <th>레드벨벳</th>\n",
       "      <th>BTS</th>\n",
       "      <th>블랙핑크</th>\n",
       "      <th>소녀시대</th>\n",
       "      <th>마마무</th>\n",
       "      <th>오마이걸</th>\n",
       "      <th>모모랜드</th>\n",
       "      <th>우주소녀</th>\n",
       "    </tr>\n",
       "  </thead>\n",
       "  <tbody>\n",
       "    <tr>\n",
       "      <th>택시운전사</th>\n",
       "      <td>2.5</td>\n",
       "      <td>2.0</td>\n",
       "      <td>3.0</td>\n",
       "      <td>2.5</td>\n",
       "      <td>NaN</td>\n",
       "      <td>3.0</td>\n",
       "      <td>3.0</td>\n",
       "      <td>NaN</td>\n",
       "    </tr>\n",
       "    <tr>\n",
       "      <th>겨울왕국</th>\n",
       "      <td>3.5</td>\n",
       "      <td>NaN</td>\n",
       "      <td>3.5</td>\n",
       "      <td>3.0</td>\n",
       "      <td>3.5</td>\n",
       "      <td>4.0</td>\n",
       "      <td>4.0</td>\n",
       "      <td>4.5</td>\n",
       "    </tr>\n",
       "    <tr>\n",
       "      <th>리빙라스베가스</th>\n",
       "      <td>3.0</td>\n",
       "      <td>3.5</td>\n",
       "      <td>1.5</td>\n",
       "      <td>NaN</td>\n",
       "      <td>3.0</td>\n",
       "      <td>2.0</td>\n",
       "      <td>NaN</td>\n",
       "      <td>NaN</td>\n",
       "    </tr>\n",
       "    <tr>\n",
       "      <th>넘버3</th>\n",
       "      <td>3.5</td>\n",
       "      <td>2.5</td>\n",
       "      <td>5.0</td>\n",
       "      <td>3.5</td>\n",
       "      <td>4.0</td>\n",
       "      <td>3.0</td>\n",
       "      <td>5.0</td>\n",
       "      <td>4.0</td>\n",
       "    </tr>\n",
       "    <tr>\n",
       "      <th>사랑과전쟁</th>\n",
       "      <td>2.5</td>\n",
       "      <td>NaN</td>\n",
       "      <td>3.5</td>\n",
       "      <td>NaN</td>\n",
       "      <td>2.5</td>\n",
       "      <td>2.0</td>\n",
       "      <td>3.5</td>\n",
       "      <td>1.0</td>\n",
       "    </tr>\n",
       "    <tr>\n",
       "      <th>세계대전</th>\n",
       "      <td>3.0</td>\n",
       "      <td>NaN</td>\n",
       "      <td>3.0</td>\n",
       "      <td>4.0</td>\n",
       "      <td>4.5</td>\n",
       "      <td>3.5</td>\n",
       "      <td>3.0</td>\n",
       "      <td>NaN</td>\n",
       "    </tr>\n",
       "  </tbody>\n",
       "</table>\n",
       "</div>"
      ]
     },
     "metadata": {},
     "execution_count": 68
    }
   ],
   "metadata": {}
  },
  {
   "cell_type": "code",
   "execution_count": 69,
   "source": [
    "for title in df2.index:\r\n",
    "    df2.loc[title].fillna(df2.loc[title].mean(), inplace=True)"
   ],
   "outputs": [],
   "metadata": {}
  },
  {
   "cell_type": "code",
   "execution_count": 70,
   "source": [
    "df2"
   ],
   "outputs": [
    {
     "output_type": "execute_result",
     "data": {
      "text/plain": [
       "         레드벨벳       BTS  블랙핑크  소녀시대       마마무  오마이걸  모모랜드      우주소녀\n",
       "택시운전사     2.5  2.000000   3.0   2.5  2.666667   3.0   3.0  2.666667\n",
       "겨울왕국      3.5  3.714286   3.5   3.0  3.500000   4.0   4.0  4.500000\n",
       "리빙라스베가스   3.0  3.500000   1.5   2.6  3.000000   2.0   2.6  2.600000\n",
       "넘버3       3.5  2.500000   5.0   3.5  4.000000   3.0   5.0  4.000000\n",
       "사랑과전쟁     2.5  2.500000   3.5   2.5  2.500000   2.0   3.5  1.000000\n",
       "세계대전      3.0  3.500000   3.0   4.0  4.500000   3.5   3.0  3.500000"
      ],
      "text/html": [
       "<div>\n",
       "<style scoped>\n",
       "    .dataframe tbody tr th:only-of-type {\n",
       "        vertical-align: middle;\n",
       "    }\n",
       "\n",
       "    .dataframe tbody tr th {\n",
       "        vertical-align: top;\n",
       "    }\n",
       "\n",
       "    .dataframe thead th {\n",
       "        text-align: right;\n",
       "    }\n",
       "</style>\n",
       "<table border=\"1\" class=\"dataframe\">\n",
       "  <thead>\n",
       "    <tr style=\"text-align: right;\">\n",
       "      <th></th>\n",
       "      <th>레드벨벳</th>\n",
       "      <th>BTS</th>\n",
       "      <th>블랙핑크</th>\n",
       "      <th>소녀시대</th>\n",
       "      <th>마마무</th>\n",
       "      <th>오마이걸</th>\n",
       "      <th>모모랜드</th>\n",
       "      <th>우주소녀</th>\n",
       "    </tr>\n",
       "  </thead>\n",
       "  <tbody>\n",
       "    <tr>\n",
       "      <th>택시운전사</th>\n",
       "      <td>2.5</td>\n",
       "      <td>2.000000</td>\n",
       "      <td>3.0</td>\n",
       "      <td>2.5</td>\n",
       "      <td>2.666667</td>\n",
       "      <td>3.0</td>\n",
       "      <td>3.0</td>\n",
       "      <td>2.666667</td>\n",
       "    </tr>\n",
       "    <tr>\n",
       "      <th>겨울왕국</th>\n",
       "      <td>3.5</td>\n",
       "      <td>3.714286</td>\n",
       "      <td>3.5</td>\n",
       "      <td>3.0</td>\n",
       "      <td>3.500000</td>\n",
       "      <td>4.0</td>\n",
       "      <td>4.0</td>\n",
       "      <td>4.500000</td>\n",
       "    </tr>\n",
       "    <tr>\n",
       "      <th>리빙라스베가스</th>\n",
       "      <td>3.0</td>\n",
       "      <td>3.500000</td>\n",
       "      <td>1.5</td>\n",
       "      <td>2.6</td>\n",
       "      <td>3.000000</td>\n",
       "      <td>2.0</td>\n",
       "      <td>2.6</td>\n",
       "      <td>2.600000</td>\n",
       "    </tr>\n",
       "    <tr>\n",
       "      <th>넘버3</th>\n",
       "      <td>3.5</td>\n",
       "      <td>2.500000</td>\n",
       "      <td>5.0</td>\n",
       "      <td>3.5</td>\n",
       "      <td>4.000000</td>\n",
       "      <td>3.0</td>\n",
       "      <td>5.0</td>\n",
       "      <td>4.000000</td>\n",
       "    </tr>\n",
       "    <tr>\n",
       "      <th>사랑과전쟁</th>\n",
       "      <td>2.5</td>\n",
       "      <td>2.500000</td>\n",
       "      <td>3.5</td>\n",
       "      <td>2.5</td>\n",
       "      <td>2.500000</td>\n",
       "      <td>2.0</td>\n",
       "      <td>3.5</td>\n",
       "      <td>1.000000</td>\n",
       "    </tr>\n",
       "    <tr>\n",
       "      <th>세계대전</th>\n",
       "      <td>3.0</td>\n",
       "      <td>3.500000</td>\n",
       "      <td>3.0</td>\n",
       "      <td>4.0</td>\n",
       "      <td>4.500000</td>\n",
       "      <td>3.5</td>\n",
       "      <td>3.0</td>\n",
       "      <td>3.500000</td>\n",
       "    </tr>\n",
       "  </tbody>\n",
       "</table>\n",
       "</div>"
      ]
     },
     "metadata": {},
     "execution_count": 70
    }
   ],
   "metadata": {}
  },
  {
   "cell_type": "code",
   "execution_count": 71,
   "source": [
    "for group in df2.columns[:-1]:\r\n",
    "    girl_sim = cos_sim(df['우주소녀'] , df2[group])\r\n",
    "    print(f'우주소녀와 {group}과의 유사도 : {girl_sim:.2f}')"
   ],
   "outputs": [
    {
     "output_type": "stream",
     "name": "stdout",
     "text": [
      "우주소녀와 레드벨벳과의 유사도 : 0.97\n",
      "우주소녀와 BTS과의 유사도 : 0.95\n",
      "우주소녀와 블랙핑크과의 유사도 : 0.93\n",
      "우주소녀와 소녀시대과의 유사도 : 0.96\n",
      "우주소녀와 마마무과의 유사도 : 0.97\n",
      "우주소녀와 오마이걸과의 유사도 : 0.98\n",
      "우주소녀와 모모랜드과의 유사도 : 0.95\n"
     ]
    }
   ],
   "metadata": {}
  },
  {
   "cell_type": "code",
   "execution_count": 79,
   "source": [
    "df2.loc[['택시운전사', '리빙라스베가스', '세계대전']]['오마이걸']"
   ],
   "outputs": [
    {
     "output_type": "execute_result",
     "data": {
      "text/plain": [
       "택시운전사      3.0\n",
       "리빙라스베가스    2.0\n",
       "세계대전       3.5\n",
       "Name: 오마이걸, dtype: float64"
      ]
     },
     "metadata": {},
     "execution_count": 79
    }
   ],
   "metadata": {}
  },
  {
   "cell_type": "markdown",
   "source": [
    "### 위 결과를 통해 우주소녀와 가장 유사한 그룹은 *오마이걸* 이다. \r\n",
    "### 다시 돌아와 우주소녀가 보지 않은 영화작품은 [택시운전사, 리빙라스베가스, 세계대전이다.]\r\n",
    "### 이 중 우주소녀와 가장 유사한 그룹인 오마이걸을 참조했을 때 \r\n",
    "### 세계대전이 평점이 가장 높고 전체 그룹의 평균또한 다른 영화보다 높기 때문에 \r\n",
    "\r\n",
    "### 최종적으로 우주소녀에게 **세계대전**을 추천해준다."
   ],
   "metadata": {}
  }
 ],
 "metadata": {
  "orig_nbformat": 4,
  "language_info": {
   "name": "python",
   "version": "3.8.5",
   "mimetype": "text/x-python",
   "codemirror_mode": {
    "name": "ipython",
    "version": 3
   },
   "pygments_lexer": "ipython3",
   "nbconvert_exporter": "python",
   "file_extension": ".py"
  },
  "kernelspec": {
   "name": "python3",
   "display_name": "Python 3.8.5 64-bit ('base': conda)"
  },
  "interpreter": {
   "hash": "b3ba2566441a7c06988d0923437866b63cedc61552a5af99d1f4fb67d367b25f"
  }
 },
 "nbformat": 4,
 "nbformat_minor": 2
}