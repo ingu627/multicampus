{
 "cells": [
  {
   "cell_type": "markdown",
   "source": [
    "평가기준\r\n",
    "- 데이터 변환 알고리즘 개발 능력\r\n",
    "- 정확한 결과 도출 여부\r\n",
    "- 코드의 간결함\r\n",
    "- 예외상황에 대한 적절한 처리 능력 파이썬을 이용한 데이터 수집 능력 \r\n",
    "- 구현능력\r\n",
    "- 유클리디안 함수 구현\r\n",
    "- 데이터 구조 정의 능력\r\n",
    "- 효과적 프로그래밍 능력\r\n",
    "- 모델 정확도\r\n",
    "- 알고리즘 구현능력\r\n",
    "- 데이터셋 분할능력\r\n",
    "- 함수 사용 능력\r\n",
    "- 난수 설정 능력"
   ],
   "metadata": {}
  },
  {
   "cell_type": "code",
   "execution_count": 2,
   "source": [
    "import numpy as np\r\n",
    "import pandas as pd\r\n",
    "import seaborn as sns\r\n",
    "import matplotlib.pyplot as plt"
   ],
   "outputs": [],
   "metadata": {}
  },
  {
   "cell_type": "code",
   "execution_count": 3,
   "source": [
    "# 1)\r\n",
    "# 다음 실행 예시처럼 교환할 돈을 입력받아서,\r\n",
    "#  최소한의 동전의 개수로 교환해 주는 파이썬 코드를 작성하시오.\r\n",
    "# (파이썬 언어로 해야함)\r\n",
    "\r\n",
    "# 바꿀 돈 -->7777\r\n",
    "# 500원: 15 , 100원: 2 , 50원: 1 , 10원 2 , 나머지: 7\r\n",
    "\r\n",
    "\r\n",
    "def convert_coin(n):\r\n",
    "    five_hun=0\r\n",
    "    one_hun=0\r\n",
    "    five_fif=0\r\n",
    "    one_fif=0\r\n",
    "    others=0\r\n",
    "\r\n",
    "    if n >= 500 :\r\n",
    "        five_hun=n//500\r\n",
    "        n= n - five_hun*500\r\n",
    "        print(f'500원: {five_hun}')\r\n",
    "    if n >= 100 :\r\n",
    "        one_hun = n // 100\r\n",
    "        n= n - one_hun*100\r\n",
    "        print(f'100원: {one_hun}')\r\n",
    "    if n >= 50 :\r\n",
    "        five_fif = n // 50\r\n",
    "        n= n - five_fif*50\r\n",
    "        print(f'50원: {five_fif}')\r\n",
    "    if n >= 10 :\r\n",
    "        one_fif = n // 10\r\n",
    "        others= n - one_fif*10\r\n",
    "        print(f'10원: {one_fif}\\n나머지: {others}')\r\n",
    "    \r\n",
    "    return five_hun, one_hun, five_fif, one_fif, others\r\n"
   ],
   "outputs": [],
   "metadata": {}
  },
  {
   "cell_type": "code",
   "execution_count": 4,
   "source": [
    "charge1=int(input('교환할 돈 입력'))\r\n",
    "print(convert_coin(charge1))"
   ],
   "outputs": [
    {
     "output_type": "stream",
     "name": "stdout",
     "text": [
      "500원: 15\n",
      "100원: 2\n",
      "50원: 1\n",
      "10원: 2\n",
      "나머지: 7\n",
      "(15, 2, 1, 2, 7)\n"
     ]
    }
   ],
   "metadata": {}
  },
  {
   "cell_type": "code",
   "execution_count": 5,
   "source": [
    "charge2=int(input('교환할 돈 입력'))\r\n",
    "print(convert_coin(charge2))"
   ],
   "outputs": [
    {
     "output_type": "stream",
     "name": "stdout",
     "text": [
      "500원: 1\n",
      "50원: 1\n",
      "10원: 1\n",
      "나머지: 5\n",
      "(1, 0, 1, 1, 5)\n"
     ]
    }
   ],
   "metadata": {}
  },
  {
   "cell_type": "code",
   "execution_count": 6,
   "source": [
    "# 2) \r\n",
    "# 다음 데이터를(자료구조는 자유선택) 저장한 후, 유클리디안 거리를 활용하여\r\n",
    "# 손흥민과 가장 유사하게 평점을 준(거리가 가까운) 사람의 이름과 거리를 출력하시오. (R 또는 파이썬 모두 사용가능)\r\n",
    "critics={\r\n",
    "'BTS':{'밀정':5, '경이로운소문':4, '국제시장':1.5},\r\n",
    "'손흥민':{'밀정':4,'경이로운소문':5, '국제시장':2},\r\n",
    "'레드벨벳':{'밀정':2.5, '경이로운소문':2, '국제시장':1},\r\n",
    "'트와이스':{'밀정':3.5, '경이로운소문':4, '국제시장':5}\r\n",
    "}\r\n",
    "\r\n"
   ],
   "outputs": [],
   "metadata": {}
  },
  {
   "cell_type": "code",
   "execution_count": 8,
   "source": [
    "def dist(x,y):   \r\n",
    "    return np.sqrt(np.sum((x-y)**2))"
   ],
   "outputs": [],
   "metadata": {}
  },
  {
   "cell_type": "code",
   "execution_count": 16,
   "source": [
    "bts = list(critics.values())[0]\r\n",
    "son = list(critics.values())[1]\r\n",
    "red = list(critics.values())[2]\r\n",
    "twice = list(critics.values())[3]"
   ],
   "outputs": [],
   "metadata": {}
  },
  {
   "cell_type": "code",
   "execution_count": 25,
   "source": [
    "bts_value = np.array(list(bts.values()))\r\n",
    "son_value = np.array(list(son.values()))\r\n",
    "red_value = np.array(list(red.values()))\r\n",
    "twice_value = np.array(list(twice.values()))\r\n"
   ],
   "outputs": [],
   "metadata": {}
  },
  {
   "cell_type": "code",
   "execution_count": 27,
   "source": [
    "print(dist(son_value, bts_value))\r\n",
    "print(dist(son_value, red_value))\r\n",
    "print(dist(son_value, twice_value))"
   ],
   "outputs": [
    {
     "output_type": "stream",
     "name": "stdout",
     "text": [
      "1.5\n",
      "3.5\n",
      "3.2015621187164243\n"
     ]
    }
   ],
   "metadata": {}
  },
  {
   "cell_type": "code",
   "execution_count": null,
   "source": [
    "# 손흥민과 BTS와의 유클리디안 거리가 1.5이므로 가장 유사하다는 것을 알 수 있다."
   ],
   "outputs": [],
   "metadata": {}
  }
 ],
 "metadata": {
  "orig_nbformat": 4,
  "language_info": {
   "name": "python",
   "version": "3.8.8",
   "mimetype": "text/x-python",
   "codemirror_mode": {
    "name": "ipython",
    "version": 3
   },
   "pygments_lexer": "ipython3",
   "nbconvert_exporter": "python",
   "file_extension": ".py"
  },
  "kernelspec": {
   "name": "python3",
   "display_name": "Python 3.8.8 64-bit ('base': conda)"
  },
  "interpreter": {
   "hash": "01612b57d529331fccfbf5f7721e88005b4682ef99b242f62a508f06b6f08c6a"
  }
 },
 "nbformat": 4,
 "nbformat_minor": 2
}