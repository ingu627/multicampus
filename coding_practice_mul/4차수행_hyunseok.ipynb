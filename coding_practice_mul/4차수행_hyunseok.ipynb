{
 "cells": [
  {
   "cell_type": "markdown",
   "metadata": {},
   "source": [
    "1. 베이즈 이론 및 베이즈 분류기에 대해 설명하시오."
   ]
  },
  {
   "cell_type": "markdown",
   "metadata": {},
   "source": [
    "베이즈 정리는 데이터라는 조건이 주어졌을 때의 조건부확률을 구하는 공식이다.  \n",
    "베이즈 정리를 쓰면 데이터가 주어지기 전의 사전확률값이 데이터가 주어지면서 어떻게 변하는지 계산할 수 있다.   \n",
    "따라서 데이터가 주어지기 전에 이미 어느 정도 확률값을 예측하고 있을 때 이를 새로 수집한 데이터와 합쳐서 최종 결과에 반영할 수 있다.   \n",
    "  \n",
    "조건부확률을 구하는 다음 공식을 **베이즈 정리(Bayesian rule)**라고 한다.  \n",
    "  \n",
    "$$ \n",
    "\\begin{align}\n",
    "P(A|B) = \\dfrac{P(B|A)P(A)}{P(B)} \n",
    "\\tag{6.6.1}\n",
    "\\end{align}\n",
    "$$\n",
    "\n",
    "\n",
    "(증명)\n",
    "\n",
    "\n",
    "$$\n",
    "\\begin{align}\n",
    "P(A|B) = \\dfrac{P(A,B)}{P(B)} \\;\\; \\rightarrow \\;\\; P(A,B) = P(A|B)P(B)\n",
    "\\tag{6.6.2}\n",
    "\\end{align}\n",
    "$$\n",
    "\n",
    "$$\n",
    "\\begin{align}\n",
    "P(B|A) = \\dfrac{P(A,B)}{P(A)} \\;\\; \\rightarrow \\;\\; P(A,B) = P(B|A)P(A)\n",
    "\\tag{6.6.3}\n",
    "\\end{align}\n",
    "$$\n",
    "\n",
    "$$\n",
    "\\begin{align}\n",
    "P(A,B) = P(A|B)P(B) = P(B|A)P(A)\n",
    "\\tag{6.6.4}\n",
    "\\end{align}\n",
    "$$\n",
    "\n",
    "$$\n",
    "\\begin{align}\n",
    "P(A|B) = \\dfrac{P(B|A)P(A)}{P(B)}\n",
    "\\tag{6.6.5}\n",
    "\\end{align}\n",
    "$$"
   ]
  },
  {
   "cell_type": "markdown",
   "metadata": {},
   "source": [
    "2. 이메일에 ‘나이트’라는 단어가 검출되었을 때의 스팸 확률을 수식으로 작성하시오. (베이즈 이론 수식에서 사후확률을 기술하시오)  \n",
    "P(스팸|나이트)=________________________________________  \n",
    "<=>  \n",
    "사후확률 = __________________________________________  "
   ]
  },
  {
   "cell_type": "markdown",
   "metadata": {},
   "source": [
    "$$ \n",
    "\\begin{align}\n",
    "P(A|B) = \\dfrac{P(B|A)P(A)}{P(B)} \n",
    "\\tag{6.6.1}\n",
    "\\end{align}\n",
    "$$"
   ]
  },
  {
   "cell_type": "markdown",
   "metadata": {},
   "source": [
    "\n",
    "$$ \n",
    "\\begin{align}\n",
    "P(스팸|나이트) = \\dfrac{P(나이트|스팸)P(스팸)}{P(나이트)} \n",
    "\\tag{6.6.1}\n",
    "\\end{align}\n",
    "$$"
   ]
  },
  {
   "cell_type": "markdown",
   "metadata": {},
   "source": [
    "3. 나이브 베이지안 분류기가 응용되는 예를 드시오."
   ]
  },
  {
   "cell_type": "markdown",
   "metadata": {
    "school_cell_uuid": "eea1b673520843f59b7e6e21bf0cf0c3"
   },
   "source": [
    "### 검사 시약 문제"
   ]
  },
  {
   "cell_type": "markdown",
   "metadata": {
    "school_cell_uuid": "a320c887a23a445898b7c18fc8bee38d"
   },
   "source": [
    "베이즈 정리를 이용하여 다음과 같은 문제를 풀어보자.\n",
    "\n",
    "제약사에서 환자가 특정한 병에 걸린지 확인하는 시약을 만들었다. 그 병에 걸린 환자에게 시약을 테스트한 결과 99%의 확률로 양성 반응을 보였다. 병에 걸린지 확인이 되지 않은 어떤 환자가 이 시약을 테스트한 결과 양성 반응을 보였다면 이 환자가 그 병에 걸려 있을 확률은 얼마인가? 99%일까?"
   ]
  },
  {
   "cell_type": "markdown",
   "metadata": {
    "school_cell_uuid": "cd2cd1a2c473450b90e1653c4235cbb8"
   },
   "source": [
    "이 문제를 확률론의 용어로 다시 정리하여 서술해보자.\n",
    "\n",
    "우선 환자가 실제로 병에 걸린 경우를 사건 $D$라고 하자. 그러면 병에 걸려있지 않은 경우는 사건 $D^C$ 가 된다.\n",
    "또 시약 테스트에서 양성 반응을 보이는 경우를 사건 $S$라고 하면 음성 반응을 보이는 경우는 사건 $S^C$ 이다.\n",
    "\n",
    "현재 주어진 확률값은 병에 걸린 환자에게 시약을 테스트했을 때 양성 반응을 보이는 확률이다. 병에 걸렸다는 것은 추가된 조건 혹은 정보이므로 이 확률은 $P(S|D)$로 표기할 수 있다.\n",
    "\n",
    "그런데 구해야 하는 값은 이것과 반대로 양성 반응을 보이는 환자가 병에 걸려있을 확률이다. 이 때에는 양성 반응을 보인다라는 것이 추가된 정보이므로 이 확률은 $P(D|S)$로 표기할 수 있다."
   ]
  },
  {
   "cell_type": "markdown",
   "metadata": {
    "bootstrap": {
     "panel": {
      "class": "panel-danger",
      "heading": "검사 시약 문제"
     }
    },
    "school_cell_uuid": "b9a013999a5943b9bf9c2180799baf10"
   },
   "source": [
    "* 사건\n",
    "\n",
    " * 병에 걸리는 경우 : 사건 $D$\n",
    " * 양성 반응을 보이는 경우 : 사건 $S$\n",
    " * 병에 걸린 사람이 양성 반응을 보이는 경우 : 조건부 사건 $S|D$\n",
    " * 양성 반응을 보이는 사람이 병에 걸려 있을 경우 : 조건부 사건 $D|S$\n",
    "\n",
    "\n",
    "\n",
    "* 문제\n",
    " * $P(S|D)=0.99$가 주어졌을 때, $P(D|S)$를 구하라. "
   ]
  },
  {
   "cell_type": "markdown",
   "metadata": {
    "school_cell_uuid": "81564dcdc26a4f9e8e3d7d0a2e619761"
   },
   "source": [
    "베이즈 정리에서 \n",
    "\n",
    "$$\n",
    "\\begin{align}\n",
    "P(D|S) = \\dfrac{P(S|D)P(D)}{P(S)}\n",
    "\\tag{6.6.19}\n",
    "\\end{align}\n",
    "$$\n",
    "\n",
    "임을 알고 있다. 그러나 이 식에서 우리가 알고 있는 것은 $P(S|D)$ 뿐이고 $P(D)$나 $P(S)$는 모르기 때문에 $ P(D|S)$ 현재로서는 구할 수 없다. 즉, 99%라고 간단히 말할 수 없다는 것이다."
   ]
  },
  {
   "cell_type": "markdown",
   "metadata": {
    "school_cell_uuid": "a1ab2a6c40d9495e87f365f15c604e4f"
   },
   "source": [
    "추가 조사를 통해 필요한 정보를 다음과 같이 입수했다고 하자.\n",
    "\n",
    "* 이 병은 전체 인구 중 걸린 사람이 0.2%인 희귀병이다.\n",
    "* 이 병에 걸리지 않은 사람에게 시약 검사를 했을 때, 양성 반응, 즉 잘못된 결과(False Positive)가 나타난 확률이 5%다."
   ]
  },
  {
   "cell_type": "markdown",
   "metadata": {
    "school_cell_uuid": "1c1be00659154d40bb60df9416044a4c"
   },
   "source": [
    "이를 확률론적 용어로 바꾸면 다음과 같다.\n",
    "\n",
    "$$\n",
    "\\begin{align}\n",
    "P(D) = 0.002\n",
    "\\tag{6.6.20}\n",
    "\\end{align}\n",
    "$$\n",
    "\n",
    "$$\n",
    "\\begin{align}\n",
    "P(S|D^C) = 0.05\n",
    "\\tag{6.6.21}\n",
    "\\end{align}\n",
    "$$\n"
   ]
  },
  {
   "cell_type": "markdown",
   "metadata": {
    "school_cell_uuid": "ed66b63109a14d8d8eedb90ab852b581"
   },
   "source": [
    "이 문제는 피검사자가 병에 걸렸는지 걸리지 않았는지를 알아보는 이진 분류 문제이므로 이에 해당하는 베이즈 정리의 확장을 사용하면 다음과 같이 확률을 구할 수 있다.\n",
    "\n",
    "$$ \n",
    "\\begin{align}\n",
    "\\begin{aligned}\n",
    "P(D|S) \n",
    "&= \\dfrac{P(S|D)P(D)}{P(S)} \\\\\n",
    "&= \\dfrac{P(S|D)P(D)}{P(S,D) + P(S,D^C)} \\\\\n",
    "&= \\dfrac{P(S|D)P(D)}{P(S|D)P(D) + P(S|D^C)P(D^C)} \\\\\n",
    "&= \\dfrac{P(S|D)P(D)}{P(S|D)P(D) + P(S|D^C)(1-P(D))} \\\\\n",
    "&= \\dfrac{0.99 \\cdot 0.002}{0.99 \\cdot 0.002 + 0.05 \\cdot (1 - 0.002)} \\\\\n",
    "&= 0.038\n",
    "\\end{aligned}\n",
    "\\tag{6.6.22}\n",
    "\\end{align}\n",
    "$$\n",
    "\n",
    "시약 반응에서 양성 반응을 보이는 사람이 실제로 병에 걸려 있을 확률은 약 3.8%에 불과하다."
   ]
  },
  {
   "cell_type": "markdown",
   "metadata": {},
   "source": [
    "4. abalone 데이터셋을 이용하여 다음 알고리즘을 바탕으로 성별(M/F)를 분류할 수 있는 모델을 만들고, 예측해보시오.  \n",
    "- 데이터 주소 : https://archive.ics.uci.edu/ml/machine-learning-databases/abalone/  \n",
    "- abalone.data 다운로드  \n",
    "- 데이터 설명 : abalone.names  \n",
    "- training/test 데이터를 7:3의 비율로 분할(random_state 값은 모두 1008로 설정)  \n",
    "- 모델 생성후 test 데이터로 정확도 측정 및 출력  \n",
    "- 사용 알고리즘 종류 : SVM, 랜덤포레스트, 의사결정트리, knn  \n",
    "- 모든 알고리즘의 parameter 튜닝을 해주시기 바랍니다.  \n",
    "- 전처리 및 분석, 시각화 작업도 반드시 해주세요  "
   ]
  },
  {
   "cell_type": "code",
   "execution_count": 21,
   "metadata": {},
   "outputs": [],
   "source": [
    "import pandas as pd \n",
    "import numpy as np\n",
    "import matplotlib.pyplot as plt\n",
    "import seaborn as sns"
   ]
  },
  {
   "cell_type": "code",
   "execution_count": 22,
   "metadata": {},
   "outputs": [],
   "source": [
    "import matplotlib\n",
    "from matplotlib import font_manager, rc\n",
    "import platform\n",
    "if platform.system()==\"Windows\":\n",
    "    font_name=font_manager.FontProperties(fname=\"c:/Windows/Fonts/malgun.ttf\").get_name()\n",
    "    rc('font', family=font_name)\n",
    "matplotlib.rcParams['axes.unicode_minus']=False\n",
    "\n",
    "import warnings\n",
    "warnings.filterwarnings(\"ignore\")\n"
   ]
  },
  {
   "cell_type": "code",
   "execution_count": 15,
   "metadata": {},
   "outputs": [],
   "source": [
    "columns=['Sex',\t'Length', 'Diameter', 'Height',\t'Whole weight',\t'Shucked weight', 'Viscera weight', 'Shell weightRings', 'Rings']\t"
   ]
  },
  {
   "cell_type": "code",
   "execution_count": 16,
   "metadata": {},
   "outputs": [
    {
     "data": {
      "text/html": [
       "<div>\n",
       "<style scoped>\n",
       "    .dataframe tbody tr th:only-of-type {\n",
       "        vertical-align: middle;\n",
       "    }\n",
       "\n",
       "    .dataframe tbody tr th {\n",
       "        vertical-align: top;\n",
       "    }\n",
       "\n",
       "    .dataframe thead th {\n",
       "        text-align: right;\n",
       "    }\n",
       "</style>\n",
       "<table border=\"1\" class=\"dataframe\">\n",
       "  <thead>\n",
       "    <tr style=\"text-align: right;\">\n",
       "      <th></th>\n",
       "      <th>Sex</th>\n",
       "      <th>Length</th>\n",
       "      <th>Diameter</th>\n",
       "      <th>Height</th>\n",
       "      <th>Whole weight</th>\n",
       "      <th>Shucked weight</th>\n",
       "      <th>Viscera weight</th>\n",
       "      <th>Shell weightRings</th>\n",
       "      <th>Rings</th>\n",
       "    </tr>\n",
       "  </thead>\n",
       "  <tbody>\n",
       "    <tr>\n",
       "      <th>0</th>\n",
       "      <td>M</td>\n",
       "      <td>0.455</td>\n",
       "      <td>0.365</td>\n",
       "      <td>0.095</td>\n",
       "      <td>0.5140</td>\n",
       "      <td>0.2245</td>\n",
       "      <td>0.1010</td>\n",
       "      <td>0.150</td>\n",
       "      <td>15</td>\n",
       "    </tr>\n",
       "    <tr>\n",
       "      <th>1</th>\n",
       "      <td>M</td>\n",
       "      <td>0.350</td>\n",
       "      <td>0.265</td>\n",
       "      <td>0.090</td>\n",
       "      <td>0.2255</td>\n",
       "      <td>0.0995</td>\n",
       "      <td>0.0485</td>\n",
       "      <td>0.070</td>\n",
       "      <td>7</td>\n",
       "    </tr>\n",
       "    <tr>\n",
       "      <th>2</th>\n",
       "      <td>F</td>\n",
       "      <td>0.530</td>\n",
       "      <td>0.420</td>\n",
       "      <td>0.135</td>\n",
       "      <td>0.6770</td>\n",
       "      <td>0.2565</td>\n",
       "      <td>0.1415</td>\n",
       "      <td>0.210</td>\n",
       "      <td>9</td>\n",
       "    </tr>\n",
       "    <tr>\n",
       "      <th>3</th>\n",
       "      <td>M</td>\n",
       "      <td>0.440</td>\n",
       "      <td>0.365</td>\n",
       "      <td>0.125</td>\n",
       "      <td>0.5160</td>\n",
       "      <td>0.2155</td>\n",
       "      <td>0.1140</td>\n",
       "      <td>0.155</td>\n",
       "      <td>10</td>\n",
       "    </tr>\n",
       "    <tr>\n",
       "      <th>4</th>\n",
       "      <td>I</td>\n",
       "      <td>0.330</td>\n",
       "      <td>0.255</td>\n",
       "      <td>0.080</td>\n",
       "      <td>0.2050</td>\n",
       "      <td>0.0895</td>\n",
       "      <td>0.0395</td>\n",
       "      <td>0.055</td>\n",
       "      <td>7</td>\n",
       "    </tr>\n",
       "  </tbody>\n",
       "</table>\n",
       "</div>"
      ],
      "text/plain": [
       "  Sex  Length  Diameter  Height  Whole weight  Shucked weight  Viscera weight  \\\n",
       "0   M   0.455     0.365   0.095        0.5140          0.2245          0.1010   \n",
       "1   M   0.350     0.265   0.090        0.2255          0.0995          0.0485   \n",
       "2   F   0.530     0.420   0.135        0.6770          0.2565          0.1415   \n",
       "3   M   0.440     0.365   0.125        0.5160          0.2155          0.1140   \n",
       "4   I   0.330     0.255   0.080        0.2050          0.0895          0.0395   \n",
       "\n",
       "   Shell weightRings  Rings  \n",
       "0              0.150     15  \n",
       "1              0.070      7  \n",
       "2              0.210      9  \n",
       "3              0.155     10  \n",
       "4              0.055      7  "
      ]
     },
     "execution_count": 16,
     "metadata": {},
     "output_type": "execute_result"
    }
   ],
   "source": [
    "df= pd.read_csv('f:/data/abalone.data', header=None, names=columns )\n",
    "df.head()"
   ]
  },
  {
   "cell_type": "code",
   "execution_count": 17,
   "metadata": {},
   "outputs": [
    {
     "name": "stdout",
     "output_type": "stream",
     "text": [
      "<class 'pandas.core.frame.DataFrame'>\n",
      "RangeIndex: 4177 entries, 0 to 4176\n",
      "Data columns (total 9 columns):\n",
      " #   Column             Non-Null Count  Dtype  \n",
      "---  ------             --------------  -----  \n",
      " 0   Sex                4177 non-null   object \n",
      " 1   Length             4177 non-null   float64\n",
      " 2   Diameter           4177 non-null   float64\n",
      " 3   Height             4177 non-null   float64\n",
      " 4   Whole weight       4177 non-null   float64\n",
      " 5   Shucked weight     4177 non-null   float64\n",
      " 6   Viscera weight     4177 non-null   float64\n",
      " 7   Shell weightRings  4177 non-null   float64\n",
      " 8   Rings              4177 non-null   int64  \n",
      "dtypes: float64(7), int64(1), object(1)\n",
      "memory usage: 293.8+ KB\n"
     ]
    }
   ],
   "source": [
    "df.info()"
   ]
  },
  {
   "cell_type": "code",
   "execution_count": 20,
   "metadata": {},
   "outputs": [
    {
     "data": {
      "text/html": [
       "<div>\n",
       "<style scoped>\n",
       "    .dataframe tbody tr th:only-of-type {\n",
       "        vertical-align: middle;\n",
       "    }\n",
       "\n",
       "    .dataframe tbody tr th {\n",
       "        vertical-align: top;\n",
       "    }\n",
       "\n",
       "    .dataframe thead th {\n",
       "        text-align: right;\n",
       "    }\n",
       "</style>\n",
       "<table border=\"1\" class=\"dataframe\">\n",
       "  <thead>\n",
       "    <tr style=\"text-align: right;\">\n",
       "      <th></th>\n",
       "      <th>Length</th>\n",
       "      <th>Diameter</th>\n",
       "      <th>Height</th>\n",
       "      <th>Whole weight</th>\n",
       "      <th>Shucked weight</th>\n",
       "      <th>Viscera weight</th>\n",
       "      <th>Shell weightRings</th>\n",
       "      <th>Rings</th>\n",
       "    </tr>\n",
       "  </thead>\n",
       "  <tbody>\n",
       "    <tr>\n",
       "      <th>count</th>\n",
       "      <td>4177.000000</td>\n",
       "      <td>4177.000000</td>\n",
       "      <td>4177.000000</td>\n",
       "      <td>4177.000000</td>\n",
       "      <td>4177.000000</td>\n",
       "      <td>4177.000000</td>\n",
       "      <td>4177.000000</td>\n",
       "      <td>4177.000000</td>\n",
       "    </tr>\n",
       "    <tr>\n",
       "      <th>mean</th>\n",
       "      <td>0.523992</td>\n",
       "      <td>0.407881</td>\n",
       "      <td>0.139516</td>\n",
       "      <td>0.828742</td>\n",
       "      <td>0.359367</td>\n",
       "      <td>0.180594</td>\n",
       "      <td>0.238831</td>\n",
       "      <td>9.933684</td>\n",
       "    </tr>\n",
       "    <tr>\n",
       "      <th>std</th>\n",
       "      <td>0.120093</td>\n",
       "      <td>0.099240</td>\n",
       "      <td>0.041827</td>\n",
       "      <td>0.490389</td>\n",
       "      <td>0.221963</td>\n",
       "      <td>0.109614</td>\n",
       "      <td>0.139203</td>\n",
       "      <td>3.224169</td>\n",
       "    </tr>\n",
       "    <tr>\n",
       "      <th>min</th>\n",
       "      <td>0.075000</td>\n",
       "      <td>0.055000</td>\n",
       "      <td>0.000000</td>\n",
       "      <td>0.002000</td>\n",
       "      <td>0.001000</td>\n",
       "      <td>0.000500</td>\n",
       "      <td>0.001500</td>\n",
       "      <td>1.000000</td>\n",
       "    </tr>\n",
       "    <tr>\n",
       "      <th>25%</th>\n",
       "      <td>0.450000</td>\n",
       "      <td>0.350000</td>\n",
       "      <td>0.115000</td>\n",
       "      <td>0.441500</td>\n",
       "      <td>0.186000</td>\n",
       "      <td>0.093500</td>\n",
       "      <td>0.130000</td>\n",
       "      <td>8.000000</td>\n",
       "    </tr>\n",
       "    <tr>\n",
       "      <th>50%</th>\n",
       "      <td>0.545000</td>\n",
       "      <td>0.425000</td>\n",
       "      <td>0.140000</td>\n",
       "      <td>0.799500</td>\n",
       "      <td>0.336000</td>\n",
       "      <td>0.171000</td>\n",
       "      <td>0.234000</td>\n",
       "      <td>9.000000</td>\n",
       "    </tr>\n",
       "    <tr>\n",
       "      <th>75%</th>\n",
       "      <td>0.615000</td>\n",
       "      <td>0.480000</td>\n",
       "      <td>0.165000</td>\n",
       "      <td>1.153000</td>\n",
       "      <td>0.502000</td>\n",
       "      <td>0.253000</td>\n",
       "      <td>0.329000</td>\n",
       "      <td>11.000000</td>\n",
       "    </tr>\n",
       "    <tr>\n",
       "      <th>max</th>\n",
       "      <td>0.815000</td>\n",
       "      <td>0.650000</td>\n",
       "      <td>1.130000</td>\n",
       "      <td>2.825500</td>\n",
       "      <td>1.488000</td>\n",
       "      <td>0.760000</td>\n",
       "      <td>1.005000</td>\n",
       "      <td>29.000000</td>\n",
       "    </tr>\n",
       "  </tbody>\n",
       "</table>\n",
       "</div>"
      ],
      "text/plain": [
       "            Length     Diameter       Height  Whole weight  Shucked weight  \\\n",
       "count  4177.000000  4177.000000  4177.000000   4177.000000     4177.000000   \n",
       "mean      0.523992     0.407881     0.139516      0.828742        0.359367   \n",
       "std       0.120093     0.099240     0.041827      0.490389        0.221963   \n",
       "min       0.075000     0.055000     0.000000      0.002000        0.001000   \n",
       "25%       0.450000     0.350000     0.115000      0.441500        0.186000   \n",
       "50%       0.545000     0.425000     0.140000      0.799500        0.336000   \n",
       "75%       0.615000     0.480000     0.165000      1.153000        0.502000   \n",
       "max       0.815000     0.650000     1.130000      2.825500        1.488000   \n",
       "\n",
       "       Viscera weight  Shell weightRings        Rings  \n",
       "count     4177.000000        4177.000000  4177.000000  \n",
       "mean         0.180594           0.238831     9.933684  \n",
       "std          0.109614           0.139203     3.224169  \n",
       "min          0.000500           0.001500     1.000000  \n",
       "25%          0.093500           0.130000     8.000000  \n",
       "50%          0.171000           0.234000     9.000000  \n",
       "75%          0.253000           0.329000    11.000000  \n",
       "max          0.760000           1.005000    29.000000  "
      ]
     },
     "execution_count": 20,
     "metadata": {},
     "output_type": "execute_result"
    }
   ],
   "source": [
    "df.describe()"
   ]
  },
  {
   "cell_type": "code",
   "execution_count": 19,
   "metadata": {},
   "outputs": [
    {
     "data": {
      "text/html": [
       "<div>\n",
       "<style scoped>\n",
       "    .dataframe tbody tr th:only-of-type {\n",
       "        vertical-align: middle;\n",
       "    }\n",
       "\n",
       "    .dataframe tbody tr th {\n",
       "        vertical-align: top;\n",
       "    }\n",
       "\n",
       "    .dataframe thead th {\n",
       "        text-align: right;\n",
       "    }\n",
       "</style>\n",
       "<table border=\"1\" class=\"dataframe\">\n",
       "  <thead>\n",
       "    <tr style=\"text-align: right;\">\n",
       "      <th></th>\n",
       "      <th>Sex</th>\n",
       "    </tr>\n",
       "  </thead>\n",
       "  <tbody>\n",
       "    <tr>\n",
       "      <th>count</th>\n",
       "      <td>4177</td>\n",
       "    </tr>\n",
       "    <tr>\n",
       "      <th>unique</th>\n",
       "      <td>3</td>\n",
       "    </tr>\n",
       "    <tr>\n",
       "      <th>top</th>\n",
       "      <td>M</td>\n",
       "    </tr>\n",
       "    <tr>\n",
       "      <th>freq</th>\n",
       "      <td>1528</td>\n",
       "    </tr>\n",
       "  </tbody>\n",
       "</table>\n",
       "</div>"
      ],
      "text/plain": [
       "         Sex\n",
       "count   4177\n",
       "unique     3\n",
       "top        M\n",
       "freq    1528"
      ]
     },
     "execution_count": 19,
     "metadata": {},
     "output_type": "execute_result"
    }
   ],
   "source": [
    "df.describe(include='O')"
   ]
  },
  {
   "cell_type": "code",
   "execution_count": 23,
   "metadata": {},
   "outputs": [
    {
     "data": {
      "text/plain": [
       "Sex                  0\n",
       "Length               0\n",
       "Diameter             0\n",
       "Height               0\n",
       "Whole weight         0\n",
       "Shucked weight       0\n",
       "Viscera weight       0\n",
       "Shell weightRings    0\n",
       "Rings                0\n",
       "dtype: int64"
      ]
     },
     "execution_count": 23,
     "metadata": {},
     "output_type": "execute_result"
    }
   ],
   "source": [
    "df.isnull().sum()"
   ]
  },
  {
   "cell_type": "code",
   "execution_count": 24,
   "metadata": {},
   "outputs": [
    {
     "data": {
      "text/plain": [
       "<AxesSubplot:>"
      ]
     },
     "execution_count": 24,
     "metadata": {},
     "output_type": "execute_result"
    },
    {
     "data": {
      "image/png": "[encoded data removed]",
      "text/plain": [
       "<Figure size 864x360 with 2 Axes>"
      ]
     },
     "metadata": {
      "needs_background": "light"
     },
     "output_type": "display_data"
    }
   ],
   "source": [
    "import missingno as msno\n",
    "\n",
    "msno.matrix(df, figsize=(12,5))"
   ]
  },
  {
   "cell_type": "code",
   "execution_count": 25,
   "metadata": {},
   "outputs": [
    {
     "data": {
      "text/plain": [
       "Index(['Sex', 'Length', 'Diameter', 'Height', 'Whole weight', 'Shucked weight',\n",
       "       'Viscera weight', 'Shell weightRings', 'Rings'],\n",
       "      dtype='object')"
      ]
     },
     "execution_count": 25,
     "metadata": {},
     "output_type": "execute_result"
    }
   ],
   "source": [
    "df.columns"
   ]
  },
  {
   "cell_type": "code",
   "execution_count": 31,
   "metadata": {},
   "outputs": [
    {
     "data": {
      "text/plain": [
       "array(['M', 'F', 'I'], dtype=object)"
      ]
     },
     "execution_count": 31,
     "metadata": {},
     "output_type": "execute_result"
    }
   ],
   "source": [
    "df.Sex.unique()"
   ]
  },
  {
   "cell_type": "code",
   "execution_count": 34,
   "metadata": {},
   "outputs": [
    {
     "data": {
      "text/plain": [
       "[Text(0.5, 1.0, '성별 무게')]"
      ]
     },
     "execution_count": 34,
     "metadata": {},
     "output_type": "execute_result"
    },
    {
     "data": {
      "image/png": "[encoded data removed]",
      "text/plain": [
       "<Figure size 1080x720 with 4 Axes>"
      ]
     },
     "metadata": {
      "needs_background": "light"
     },
     "output_type": "display_data"
    }
   ],
   "source": [
    "fig, axes = plt.subplots(nrows=2, ncols=2)\n",
    "fig.set_size_inches(15,10)\n",
    "sns.boxplot(data=df, x='Sex', y='Length', orient='v', ax=axes[0][0])\n",
    "sns.boxplot(data=df, x='Sex', y='Diameter', orient='v', ax=axes[0][1])\n",
    "sns.boxplot(data=df, x='Sex', y='Height', orient='v', ax=axes[1][0])\n",
    "sns.boxplot(data=df, x='Sex', y='Whole weight', orient='v', ax=axes[1][1])\n",
    "\n",
    "axes[0][0].set(title='성별 길이')\n",
    "axes[0][1].set(title='성별 지름')\n",
    "axes[1][0].set(title='성별 높이')\n",
    "axes[1][1].set(title='성별 무게')"
   ]
  },
  {
   "cell_type": "code",
   "execution_count": 35,
   "metadata": {},
   "outputs": [
    {
     "data": {
      "text/plain": [
       "[Text(0.5, 1.0, '성별 Rings')]"
      ]
     },
     "execution_count": 35,
     "metadata": {},
     "output_type": "execute_result"
    },
    {
     "data": {
      "image/png": "[encoded data removed]",
      "text/plain": [
       "<Figure size 1080x720 with 4 Axes>"
      ]
     },
     "metadata": {
      "needs_background": "light"
     },
     "output_type": "display_data"
    }
   ],
   "source": [
    "fig, axes = plt.subplots(nrows=2, ncols=2)\n",
    "fig.set_size_inches(15,10)\n",
    "\n",
    "sns.boxplot(data=df, x='Sex', y='Shucked weight', orient='v', ax=axes[0][0])\n",
    "sns.boxplot(data=df, x='Sex', y='Viscera weight', orient='v', ax=axes[0][1])\n",
    "sns.boxplot(data=df, x='Sex', y='Shell weightRings', orient='v', ax=axes[1][0])\n",
    "sns.boxplot(data=df, x='Sex', y='Rings', orient='v', ax=axes[1][1])\n",
    "\n",
    "axes[0][0].set(title='성별 Shucked weight')\n",
    "axes[0][1].set(title='성별 Viscera weight')\n",
    "axes[1][0].set(title='성별 Shell weightRings')\n",
    "axes[1][1].set(title='성별 Rings')"
   ]
  },
  {
   "cell_type": "code",
   "execution_count": 42,
   "metadata": {},
   "outputs": [
    {
     "name": "stdout",
     "output_type": "stream",
     "text": [
      "                     Length  Diameter    Height  Whole weight  Shucked weight  \\\n",
      "Length             1.000000  0.986812  0.827554      0.925261        0.897914   \n",
      "Diameter           0.986812  1.000000  0.833684      0.925452        0.893162   \n",
      "Height             0.827554  0.833684  1.000000      0.819221        0.774972   \n",
      "Whole weight       0.925261  0.925452  0.819221      1.000000        0.969405   \n",
      "Shucked weight     0.897914  0.893162  0.774972      0.969405        1.000000   \n",
      "Viscera weight     0.903018  0.899724  0.798319      0.966375        0.931961   \n",
      "Shell weightRings  0.897706  0.905330  0.817338      0.955355        0.882617   \n",
      "Rings              0.556720  0.574660  0.557467      0.540390        0.420884   \n",
      "\n",
      "                   Viscera weight  Shell weightRings     Rings  \n",
      "Length                   0.903018           0.897706  0.556720  \n",
      "Diameter                 0.899724           0.905330  0.574660  \n",
      "Height                   0.798319           0.817338  0.557467  \n",
      "Whole weight             0.966375           0.955355  0.540390  \n",
      "Shucked weight           0.931961           0.882617  0.420884  \n",
      "Viscera weight           1.000000           0.907656  0.503819  \n",
      "Shell weightRings        0.907656           1.000000  0.627574  \n",
      "Rings                    0.503819           0.627574  1.000000  \n"
     ]
    }
   ],
   "source": [
    "corr=df.iloc[:,1:].corr()\n",
    "print(corr)"
   ]
  },
  {
   "cell_type": "code",
   "execution_count": 43,
   "metadata": {},
   "outputs": [
    {
     "name": "stdout",
     "output_type": "stream",
     "text": [
      "[[0.         0.98681158 0.82755361 0.92526117 0.89791366 0.9030177\n",
      "  0.89770557 0.55671958]\n",
      " [0.         0.         0.83368369 0.9254521  0.89316248 0.89972443\n",
      "  0.90532978 0.57465985]\n",
      " [0.         0.         0.         0.81922077 0.77497229 0.7983193\n",
      "  0.81733801 0.55746732]\n",
      " [0.         0.         0.         0.         0.96940546 0.96637508\n",
      "  0.95535544 0.54038968]\n",
      " [0.         0.         0.         0.         0.         0.93196132\n",
      "  0.88261706 0.42088366]\n",
      " [0.         0.         0.         0.         0.         0.\n",
      "  0.90765632 0.50381925]\n",
      " [0.         0.         0.         0.         0.         0.\n",
      "  0.         0.62757404]\n",
      " [0.         0.         0.         0.         0.         0.\n",
      "  0.         0.        ]]\n"
     ]
    }
   ],
   "source": [
    "mask = np.array(corr)\n",
    "# print(mask)\n",
    "mask[np.tril_indices_from(mask)] = False\n",
    "print(mask)"
   ]
  },
  {
   "cell_type": "code",
   "execution_count": 45,
   "metadata": {},
   "outputs": [
    {
     "data": {
      "text/plain": [
       "<AxesSubplot:>"
      ]
     },
     "execution_count": 45,
     "metadata": {},
     "output_type": "execute_result"
    },
    {
     "data": {
      "image/png": "[encoded data removed]",
      "text/plain": [
       "<Figure size 1440x720 with 2 Axes>"
      ]
     },
     "metadata": {
      "needs_background": "light"
     },
     "output_type": "display_data"
    }
   ],
   "source": [
    "fig, ax = plt.subplots()\n",
    "fig.set_size_inches(20,10)\n",
    "sns.heatmap(corr, mask=mask, vmax=.8, square=True, annot=True)"
   ]
  },
  {
   "cell_type": "code",
   "execution_count": 47,
   "metadata": {},
   "outputs": [],
   "source": [
    "df.Sex = df.Sex.astype('category')"
   ]
  },
  {
   "cell_type": "code",
   "execution_count": 50,
   "metadata": {},
   "outputs": [],
   "source": [
    "X=df.iloc[:,1:]\n",
    "y=df['Sex']"
   ]
  },
  {
   "cell_type": "code",
   "execution_count": 51,
   "metadata": {},
   "outputs": [],
   "source": [
    "from sklearn.model_selection import train_test_split"
   ]
  },
  {
   "cell_type": "code",
   "execution_count": 53,
   "metadata": {},
   "outputs": [],
   "source": [
    "X_train, X_test, y_train, y_test = train_test_split(X, y, test_size=0.3, random_state=1000) "
   ]
  },
  {
   "cell_type": "code",
   "execution_count": 54,
   "metadata": {},
   "outputs": [],
   "source": [
    "from sklearn.linear_model import LogisticRegression"
   ]
  },
  {
   "cell_type": "code",
   "execution_count": 55,
   "metadata": {},
   "outputs": [
    {
     "data": {
      "text/plain": [
       "LogisticRegression()"
      ]
     },
     "execution_count": 55,
     "metadata": {},
     "output_type": "execute_result"
    }
   ],
   "source": [
    "model_lr = LogisticRegression()\n",
    "model_lr.fit(X_train, y_train)"
   ]
  },
  {
   "cell_type": "code",
   "execution_count": 56,
   "metadata": {},
   "outputs": [],
   "source": [
    "from sklearn.metrics import classification_report"
   ]
  },
  {
   "cell_type": "code",
   "execution_count": 57,
   "metadata": {},
   "outputs": [
    {
     "name": "stdout",
     "output_type": "stream",
     "text": [
      "              precision    recall  f1-score   support\n",
      "\n",
      "           F       0.51      0.33      0.40       392\n",
      "           I       0.65      0.82      0.73       393\n",
      "           M       0.49      0.52      0.50       469\n",
      "\n",
      "    accuracy                           0.56      1254\n",
      "   macro avg       0.55      0.56      0.54      1254\n",
      "weighted avg       0.54      0.56      0.54      1254\n",
      "\n"
     ]
    }
   ],
   "source": [
    "pred = model_lr.predict(X_test)\n",
    "print(classification_report(y_test, pred))"
   ]
  },
  {
   "cell_type": "code",
   "execution_count": 59,
   "metadata": {},
   "outputs": [],
   "source": [
    "from xgboost import XGBClassifier"
   ]
  },
  {
   "cell_type": "code",
   "execution_count": 60,
   "metadata": {},
   "outputs": [
    {
     "name": "stdout",
     "output_type": "stream",
     "text": [
      "[13:31:21] WARNING: C:/Users/Administrator/workspace/xgboost-win64_release_1.4.0/src/learner.cc:1095: Starting in XGBoost 1.3.0, the default evaluation metric used with the objective 'multi:softprob' was changed from 'merror' to 'mlogloss'. Explicitly set eval_metric if you'd like to restore the old behavior.\n"
     ]
    },
    {
     "data": {
      "text/plain": [
       "XGBClassifier(base_score=0.5, booster='gbtree', colsample_bylevel=1,\n",
       "              colsample_bynode=1, colsample_bytree=1, gamma=0, gpu_id=-1,\n",
       "              importance_type='gain', interaction_constraints='',\n",
       "              learning_rate=0.300000012, max_delta_step=0, max_depth=6,\n",
       "              min_child_weight=1, missing=nan, monotone_constraints='()',\n",
       "              n_estimators=100, n_jobs=8, num_parallel_tree=1,\n",
       "              objective='multi:softprob', random_state=0, reg_alpha=0,\n",
       "              reg_lambda=1, scale_pos_weight=None, subsample=1,\n",
       "              tree_method='exact', validate_parameters=1, verbosity=None)"
      ]
     },
     "execution_count": 60,
     "metadata": {},
     "output_type": "execute_result"
    }
   ],
   "source": [
    "model_xgb = XGBClassifier()\n",
    "model_xgb.fit(X_train, y_train)"
   ]
  },
  {
   "cell_type": "code",
   "execution_count": 61,
   "metadata": {},
   "outputs": [
    {
     "name": "stdout",
     "output_type": "stream",
     "text": [
      "              precision    recall  f1-score   support\n",
      "\n",
      "           F       0.50      0.46      0.48       392\n",
      "           I       0.73      0.74      0.74       393\n",
      "           M       0.50      0.52      0.51       469\n",
      "\n",
      "    accuracy                           0.57      1254\n",
      "   macro avg       0.58      0.57      0.58      1254\n",
      "weighted avg       0.57      0.57      0.57      1254\n",
      "\n"
     ]
    }
   ],
   "source": [
    "pred = model_xgb.predict(X_test)\n",
    "print(classification_report(y_test, pred))"
   ]
  },
  {
   "cell_type": "code",
   "execution_count": 65,
   "metadata": {},
   "outputs": [],
   "source": [
    "from sklearn.neighbors import KNeighborsClassifier"
   ]
  },
  {
   "cell_type": "code",
   "execution_count": 68,
   "metadata": {},
   "outputs": [
    {
     "data": {
      "text/plain": [
       "72.84"
      ]
     },
     "execution_count": 68,
     "metadata": {},
     "output_type": "execute_result"
    }
   ],
   "source": [
    "knn = KNeighborsClassifier(n_neighbors = 3)\n",
    "knn.fit(X_train, y_train)\n",
    "pred = knn.predict(X_test)\n",
    "acc_knn = round(knn.score(X_train, y_train) * 100, 2)\n",
    "acc_knn"
   ]
  },
  {
   "cell_type": "code",
   "execution_count": 69,
   "metadata": {},
   "outputs": [
    {
     "name": "stdout",
     "output_type": "stream",
     "text": [
      "              precision    recall  f1-score   support\n",
      "\n",
      "           F       0.41      0.45      0.43       392\n",
      "           I       0.70      0.68      0.69       393\n",
      "           M       0.47      0.43      0.45       469\n",
      "\n",
      "    accuracy                           0.52      1254\n",
      "   macro avg       0.53      0.52      0.52      1254\n",
      "weighted avg       0.52      0.52      0.52      1254\n",
      "\n"
     ]
    }
   ],
   "source": [
    "print(classification_report(y_test, pred))"
   ]
  },
  {
   "cell_type": "code",
   "execution_count": 70,
   "metadata": {},
   "outputs": [],
   "source": [
    "from sklearn.tree import DecisionTreeClassifier"
   ]
  },
  {
   "cell_type": "code",
   "execution_count": 71,
   "metadata": {},
   "outputs": [
    {
     "data": {
      "text/plain": [
       "100.0"
      ]
     },
     "execution_count": 71,
     "metadata": {},
     "output_type": "execute_result"
    }
   ],
   "source": [
    "clf = DecisionTreeClassifier()\n",
    "clf.fit(X_train, y_train)\n",
    "pred = clf.predict(X_test)\n",
    "acc_decision_tree = round(clf.score(X_train, y_train) * 100, 2)\n",
    "acc_decision_tree"
   ]
  },
  {
   "cell_type": "code",
   "execution_count": 72,
   "metadata": {},
   "outputs": [
    {
     "name": "stdout",
     "output_type": "stream",
     "text": [
      "              precision    recall  f1-score   support\n",
      "\n",
      "           F       0.41      0.44      0.43       392\n",
      "           I       0.64      0.61      0.63       393\n",
      "           M       0.44      0.44      0.44       469\n",
      "\n",
      "    accuracy                           0.49      1254\n",
      "   macro avg       0.50      0.50      0.50      1254\n",
      "weighted avg       0.50      0.49      0.49      1254\n",
      "\n"
     ]
    }
   ],
   "source": [
    "print(classification_report(y_test, pred))"
   ]
  },
  {
   "cell_type": "code",
   "execution_count": 75,
   "metadata": {},
   "outputs": [],
   "source": [
    "from sklearn.model_selection import GridSearchCV\n",
    "from sklearn.metrics import accuracy_score\n",
    "import numpy as np"
   ]
  },
  {
   "cell_type": "code",
   "execution_count": 77,
   "metadata": {},
   "outputs": [],
   "source": [
    "from sklearn.svm import SVC"
   ]
  },
  {
   "cell_type": "code",
   "execution_count": 78,
   "metadata": {},
   "outputs": [],
   "source": [
    "def svc_param_selection(x, y, nfolds):\n",
    "    svm_parameters=[{'kernel':['rbf'],\n",
    "                     'gamma':[0.00001, 0.0001, 0.001, 0.01, 0.1, 1],\n",
    "                     'C':[0.001,0.01,1,10,100,1000] }]\n",
    "    clf=GridSearchCV(SVC(), svm_parameters, cv=nfolds)\n",
    "    clf.fit(x, y)\n",
    "    print(clf.best_params_)\n",
    "    return clf # 모델 리턴"
   ]
  },
  {
   "cell_type": "code",
   "execution_count": 80,
   "metadata": {},
   "outputs": [],
   "source": [
    "# clf=svc_param_selection(X_train, y_train.values.ravel(), 10)"
   ]
  },
  {
   "cell_type": "code",
   "execution_count": 81,
   "metadata": {},
   "outputs": [
    {
     "data": {
      "text/plain": [
       "SVC(C=1, gamma=1)"
      ]
     },
     "execution_count": 81,
     "metadata": {},
     "output_type": "execute_result"
    }
   ],
   "source": [
    "clf=SVC(C=1, gamma=1)\n",
    "clf.fit(X_train, y_train)"
   ]
  },
  {
   "cell_type": "code",
   "execution_count": 83,
   "metadata": {},
   "outputs": [],
   "source": [
    "pred=clf.predict(X_test)"
   ]
  },
  {
   "cell_type": "code",
   "execution_count": 84,
   "metadata": {},
   "outputs": [
    {
     "name": "stdout",
     "output_type": "stream",
     "text": [
      "              precision    recall  f1-score   support\n",
      "\n",
      "           F       0.48      0.18      0.26       392\n",
      "           I       0.69      0.78      0.73       393\n",
      "           M       0.46      0.65      0.54       469\n",
      "\n",
      "    accuracy                           0.55      1254\n",
      "   macro avg       0.55      0.54      0.51      1254\n",
      "weighted avg       0.54      0.55      0.52      1254\n",
      "\n"
     ]
    }
   ],
   "source": [
    "print(classification_report(y_test, pred))"
   ]
  }
 ],
 "metadata": {
  "interpreter": {
   "hash": "79eb8b551db2b880459dff10818154367dbe519dd3f614e5f214e4642a67d99b"
  },
  "kernelspec": {
   "display_name": "Python 3.7.11 64-bit ('pytorch': conda)",
   "name": "python3"
  },
  "language_info": {
   "codemirror_mode": {
    "name": "ipython",
    "version": 3
   },
   "file_extension": ".py",
   "mimetype": "text/x-python",
   "name": "python",
   "nbconvert_exporter": "python",
   "pygments_lexer": "ipython3",
   "version": "3.7.11"
  },
  "orig_nbformat": 4
 },
 "nbformat": 4,
 "nbformat_minor": 2
}
