{
 "cells": [
  {
   "cell_type": "markdown",
   "metadata": {},
   "source": [
    "1. 첫번째와 세번째 문자를 출력하세요.\n",
    " letters = 'python'"
   ]
  },
  {
   "cell_type": "code",
   "execution_count": 2,
   "metadata": {},
   "outputs": [
    {
     "name": "stdout",
     "output_type": "stream",
     "text": [
      "p\n",
      "t\n"
     ]
    }
   ],
   "source": [
    "letters = 'python'\n",
    "a=letters[0]\n",
    "b=letters[2]\n",
    "\n",
    "print(a)\n",
    "print(b)"
   ]
  },
  {
   "cell_type": "markdown",
   "metadata": {},
   "source": [
    "2.뒤에 4자리만 출력하세요.\n",
    " cn=\"24가 2210\""
   ]
  },
  {
   "cell_type": "code",
   "execution_count": 3,
   "metadata": {},
   "outputs": [
    {
     "name": "stdout",
     "output_type": "stream",
     "text": [
      " 2210\n"
     ]
    }
   ],
   "source": [
    "cn=\"24가 2210\"\n",
    "a=cn[-5:]\n",
    "print(a)"
   ]
  },
  {
   "cell_type": "markdown",
   "metadata": {},
   "source": [
    "3. 문자열에서 '파' 만 출력하세요.\n",
    "s = \"파이썬파이썬파이썬\""
   ]
  },
  {
   "cell_type": "code",
   "execution_count": 4,
   "metadata": {
    "scrolled": true
   },
   "outputs": [
    {
     "name": "stdout",
     "output_type": "stream",
     "text": [
      "['파', '파', '파', '']\n"
     ]
    }
   ],
   "source": [
    "s = \"파이썬파이썬파이썬\"\n",
    "a=s.split(\"이썬\")\n",
    "print(a)"
   ]
  },
  {
   "cell_type": "markdown",
   "metadata": {},
   "source": [
    "4.문자열 '720'를 정수형으로 변환해보세요.\n",
    "num_str = \"720\""
   ]
  },
  {
   "cell_type": "code",
   "execution_count": 7,
   "metadata": {},
   "outputs": [
    {
     "name": "stdout",
     "output_type": "stream",
     "text": [
      "720\n",
      "<class 'int'>\n"
     ]
    }
   ],
   "source": [
    "num_str = \"720\"\n",
    "a=int(num_str)\n",
    "print(a)\n",
    "print(type(a))"
   ]
  },
  {
   "cell_type": "markdown",
   "metadata": {},
   "source": [
    "5. 문자열 \"15.79\"를 실수(float) 타입으로 변환해보세요.\n",
    "data = \"15.79\""
   ]
  },
  {
   "cell_type": "code",
   "execution_count": 8,
   "metadata": {},
   "outputs": [
    {
     "name": "stdout",
     "output_type": "stream",
     "text": [
      "15.79\n",
      "<class 'float'>\n"
     ]
    }
   ],
   "source": [
    "data = \"15.79\"\n",
    "a=float(data)\n",
    "print(a)\n",
    "print(type(a))"
   ]
  },
  {
   "cell_type": "markdown",
   "metadata": {},
   "source": [
    "6. 에어컨이 월 48,584원에 무이자 36개월의 조건으로 홈쇼핑에서 \n",
    "판매되고 있습니다. 총 금액은 계산한 후 이를 화면에 출력해보세요."
   ]
  },
  {
   "cell_type": "code",
   "execution_count": 9,
   "metadata": {},
   "outputs": [
    {
     "name": "stdout",
     "output_type": "stream",
     "text": [
      "1749024\n"
     ]
    }
   ],
   "source": [
    "airc=48584*36\n",
    "print(airc)"
   ]
  },
  {
   "cell_type": "markdown",
   "metadata": {},
   "source": [
    "7. jumin=\"850701-1234567\"\n",
    "생년월일과 주민번호를 분리하세요.\n",
    "성별을 추출하세요.\n",
    "태어난 월을 추출하세요."
   ]
  },
  {
   "cell_type": "code",
   "execution_count": 16,
   "metadata": {},
   "outputs": [
    {
     "name": "stdout",
     "output_type": "stream",
     "text": [
      "850701\n",
      "1234567\n",
      "이 사람은 남자\n",
      "이 사람의 태어난 월은 07\n"
     ]
    }
   ],
   "source": [
    "jumin=\"850701-1234567\"\n",
    "fir,sec=jumin.split(\"-\")\n",
    "print(fir)\n",
    "print(sec)\n",
    "\n",
    "#성별 추출\n",
    "if sec[0]==\"1\":\n",
    "    print(\"이 사람은 남자\")\n",
    "else:\n",
    "    print(\"이 사람은 여자\")\n",
    "\n",
    "a=fir[2:4]\n",
    "print(\"이 사람의 태어난 월은 \"+a)"
   ]
  }
 ],
 "metadata": {
  "kernelspec": {
   "display_name": "Python 3",
   "language": "python",
   "name": "python3"
  },
  "language_info": {
   "codemirror_mode": {
    "name": "ipython",
    "version": 3
   },
   "file_extension": ".py",
   "mimetype": "text/x-python",
   "name": "python",
   "nbconvert_exporter": "python",
   "pygments_lexer": "ipython3",
   "version": "3.8.5"
  }
 },
 "nbformat": 4,
 "nbformat_minor": 4
}
