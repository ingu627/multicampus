{
 "cells": [
  {
   "cell_type": "markdown",
   "metadata": {},
   "source": [
    "1.다음과 같은 문자열이 있을 때 이를 대문자 BTC_KRW로 변경하세요.\n",
    "ticker = \"btc_krw\""
   ]
  },
  {
   "cell_type": "code",
   "execution_count": 2,
   "metadata": {
    "scrolled": true
   },
   "outputs": [
    {
     "name": "stdout",
     "output_type": "stream",
     "text": [
      "BTC_KRW\n"
     ]
    }
   ],
   "source": [
    "ticker = \"btc_krw\"\n",
    "a=ticker.upper()\n",
    "print(a)"
   ]
  },
  {
   "cell_type": "markdown",
   "metadata": {},
   "source": [
    "2.다음과 같은 문자열이 있을 때 이를 소문자 btc_krw로 변경하세요.\n",
    "ticker = \"BTC_KRW\""
   ]
  },
  {
   "cell_type": "code",
   "execution_count": 4,
   "metadata": {},
   "outputs": [
    {
     "name": "stdout",
     "output_type": "stream",
     "text": [
      "btc_krw\n"
     ]
    }
   ],
   "source": [
    "ticker = \"BTC_KRW\"\n",
    "a=ticker.lower()\n",
    "print(a)"
   ]
  },
  {
   "cell_type": "markdown",
   "metadata": {},
   "source": [
    "3.다음과 같은 문자열이 있을 때 공백을 기준으로 문자열을 나눠보세요.\n",
    "a = \"hello world\""
   ]
  },
  {
   "cell_type": "code",
   "execution_count": 8,
   "metadata": {},
   "outputs": [
    {
     "name": "stdout",
     "output_type": "stream",
     "text": [
      "['hello', 'world']\n"
     ]
    }
   ],
   "source": [
    "a = \"hello world\"\n",
    "b=a.split()\n",
    "print(b)\n"
   ]
  },
  {
   "cell_type": "markdown",
   "metadata": {},
   "source": [
    "4.다음과 같이 문자열이 있을 때 btc와 krw로 나눠보세요.\n",
    "ticker = \"btc_krw\""
   ]
  },
  {
   "cell_type": "code",
   "execution_count": 9,
   "metadata": {},
   "outputs": [
    {
     "name": "stdout",
     "output_type": "stream",
     "text": [
      "['btc', 'krw']\n"
     ]
    }
   ],
   "source": [
    "ticker = \"btc_krw\"\n",
    "b=ticker.split(\"_\")\n",
    "print(b)"
   ]
  },
  {
   "cell_type": "markdown",
   "metadata": {},
   "source": [
    "5.다음과 같이 날짜를 표현하는 문자열이 있을 때 연도, 월, 일로 나눠보세요.\n",
    "date = \"2020-12-30\""
   ]
  },
  {
   "cell_type": "code",
   "execution_count": 12,
   "metadata": {},
   "outputs": [
    {
     "name": "stdout",
     "output_type": "stream",
     "text": [
      "연도 : 2020\n",
      "월 :  12\n",
      "일 :  30\n"
     ]
    }
   ],
   "source": [
    "date = \"2020-12-30\"\n",
    "year, month, day = date.split(\"-\")\n",
    "print(\"연도 :\", year)\n",
    "print(\"월 : \", month)\n",
    "print(\"일 : \", day)"
   ]
  },
  {
   "cell_type": "markdown",
   "metadata": {},
   "source": [
    "6.문자열의 오른쪽에 공백이 있을 때 이를 제거해보세요.\n",
    "data = \"039490     \""
   ]
  },
  {
   "cell_type": "code",
   "execution_count": 14,
   "metadata": {},
   "outputs": [
    {
     "name": "stdout",
     "output_type": "stream",
     "text": [
      "039490\n"
     ]
    }
   ],
   "source": [
    "data = \"039490     \"\n",
    "data1=data.rstrip()\n",
    "print(data1)"
   ]
  },
  {
   "cell_type": "markdown",
   "metadata": {},
   "source": [
    "변수에 다음과 같이 문자열과 정수가 바인딩되어 있을 때 % formatting을 사용해서 다음과 같이 출력해보세요.\n",
    "name1 = \"김민수\" \n",
    "age1 = 10\n",
    "name2 = \"이철희\"\n",
    "age2 = 13\n",
    "이름: 김민수 나이: 10\n",
    "이름: 이철희 나이: 13"
   ]
  },
  {
   "cell_type": "code",
   "execution_count": 17,
   "metadata": {},
   "outputs": [
    {
     "name": "stdout",
     "output_type": "stream",
     "text": [
      "이름 : 김민수 나이: 10\n",
      "이름 : 이철희 나이: 13\n"
     ]
    }
   ],
   "source": [
    "name1 = \"김민수\" \n",
    "age1 = 10\n",
    "name2 = \"이철희\"\n",
    "age2 = 13\n",
    "print(\"이름 : %s 나이: %d\" % (name1, age1))\n",
    "print(\"이름 : %s 나이: %d\" % (name2, age2))"
   ]
  },
  {
   "cell_type": "markdown",
   "metadata": {},
   "source": [
    "8. 문자열의 format( ) 메서드를 사용해서 7번 문제를 다시 풀어보세요."
   ]
  },
  {
   "cell_type": "code",
   "execution_count": 18,
   "metadata": {},
   "outputs": [
    {
     "name": "stdout",
     "output_type": "stream",
     "text": [
      "이름 : 김민수 나이: 10\n",
      "이름 : 이철희 나이: 13\n"
     ]
    }
   ],
   "source": [
    "name1 = \"김민수\" \n",
    "age1 = 10\n",
    "name2 = \"이철희\"\n",
    "age2 = 13\n",
    "print(\"이름 : {0} 나이: {1}\".format(name1, age1))\n",
    "print(\"이름 : {0} 나이: {1}\".format(name2, age2))"
   ]
  },
  {
   "cell_type": "markdown",
   "metadata": {},
   "source": [
    "9. 컴마를 제거한 후 이를 정수 타입으로 변환해보세요.\n",
    "price = \"5,969,782,550\""
   ]
  },
  {
   "cell_type": "code",
   "execution_count": 47,
   "metadata": {},
   "outputs": [
    {
     "name": "stdout",
     "output_type": "stream",
     "text": [
      "5969782550\n",
      "<class 'int'>\n"
     ]
    }
   ],
   "source": [
    "price = \"5,969,782,550\"\n",
    "a=price.split(\",\")\n",
    "b=int(\"\".join(a))\n",
    "print(b)\n",
    "print(type(b))\n"
   ]
  },
  {
   "cell_type": "markdown",
   "metadata": {},
   "source": [
    "10. 다음과 같은 문자열에서 '2020/12'만 출력하세요.\n",
    "분기 = \"2020/12(E) (IFRS연결)\""
   ]
  },
  {
   "cell_type": "code",
   "execution_count": 24,
   "metadata": {},
   "outputs": [
    {
     "name": "stdout",
     "output_type": "stream",
     "text": [
      "2020/12\n"
     ]
    }
   ],
   "source": [
    "분기 = \"2020/12(E) (IFRS연결)\"\n",
    "b=분기[:7]\n",
    "print(b)\n"
   ]
  },
  {
   "cell_type": "markdown",
   "metadata": {},
   "source": [
    "11. 아래 문자열에서 소문자 'a'를 대문자 'A'로 변경하세요.\n",
    "string = 'abcdfe2a354a32a'"
   ]
  },
  {
   "cell_type": "code",
   "execution_count": 26,
   "metadata": {},
   "outputs": [
    {
     "name": "stdout",
     "output_type": "stream",
     "text": [
      "Abcdfe2A354A32A\n"
     ]
    }
   ],
   "source": [
    "string = 'abcdfe2a354a32a'\n",
    "a=string.replace(\"a\", \"A\")\n",
    "print(a)"
   ]
  },
  {
   "cell_type": "markdown",
   "metadata": {},
   "source": [
    "12.\n",
    "주민등록번호 뒷자리의 맨 첫 번째 숫자는 성별을 나타낸다. 주민등록번호에서 성별을 나타내는 숫자를 출력해 보세요.\n",
    "pin = \"881120-1068234\""
   ]
  },
  {
   "cell_type": "code",
   "execution_count": 48,
   "metadata": {},
   "outputs": [
    {
     "name": "stdout",
     "output_type": "stream",
     "text": [
      "1\n"
     ]
    }
   ],
   "source": [
    "pin = \"881120-1068234\"\n",
    "print(pin[7])"
   ]
  },
  {
   "cell_type": "markdown",
   "metadata": {},
   "source": [
    "13.다음과 같은 문자열 a:b:c:d가 있다. a#b#c#d로 바꿔서 출력해 보세요.\n",
    "a = \"a:b:c:d\""
   ]
  },
  {
   "cell_type": "code",
   "execution_count": 32,
   "metadata": {},
   "outputs": [
    {
     "name": "stdout",
     "output_type": "stream",
     "text": [
      "a#b#c#d\n"
     ]
    }
   ],
   "source": [
    "a = \"a:b:c:d\"\n",
    "hyun=list()\n",
    "hyun=a.replace(\":\",\"#\")\n",
    "print(hyun)"
   ]
  },
  {
   "cell_type": "markdown",
   "metadata": {},
   "source": [
    "14. ['Life', 'is', 'too', 'short'] 리스트를 Life is too short 문자열로 만들어 출력해 보세요.\n",
    "(join 활용)"
   ]
  },
  {
   "cell_type": "code",
   "execution_count": 34,
   "metadata": {},
   "outputs": [
    {
     "name": "stdout",
     "output_type": "stream",
     "text": [
      "Life is too short\n"
     ]
    }
   ],
   "source": [
    "a=['Life', 'is', 'too', 'short']\n",
    "print(\" \".join(a))"
   ]
  }
 ],
 "metadata": {
  "kernelspec": {
   "display_name": "Python 3",
   "language": "python",
   "name": "python3"
  },
  "language_info": {
   "codemirror_mode": {
    "name": "ipython",
    "version": 3
   },
   "file_extension": ".py",
   "mimetype": "text/x-python",
   "name": "python",
   "nbconvert_exporter": "python",
   "pygments_lexer": "ipython3",
   "version": "3.8.5"
  }
 },
 "nbformat": 4,
 "nbformat_minor": 4
}
