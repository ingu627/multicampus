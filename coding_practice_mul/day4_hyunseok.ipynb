{
 "cells": [
  {
   "cell_type": "markdown",
   "metadata": {},
   "source": [
    "1. a 리스트에서 중복 숫자를 제거해 보자."
   ]
  },
  {
   "cell_type": "code",
   "execution_count": 3,
   "metadata": {},
   "outputs": [
    {
     "data": {
      "text/plain": [
       "[1, 2, 3, 4, 5]"
      ]
     },
     "execution_count": 3,
     "metadata": {},
     "output_type": "execute_result"
    }
   ],
   "source": [
    "a = [1, 1, 1, 2, 2, 3, 3, 3, 4, 4, 5]\n",
    "b=set(a)\n",
    "c=list(b)\n",
    "c\n"
   ]
  },
  {
   "cell_type": "markdown",
   "metadata": {},
   "source": [
    "2. while문을 사용해 1부터 1000까지의 자연수 중 3의 배수이면서 7의 배수인\n",
    "수의 합을 구해 보자."
   ]
  },
  {
   "cell_type": "code",
   "execution_count": 9,
   "metadata": {},
   "outputs": [
    {
     "name": "stdout",
     "output_type": "stream",
     "text": [
      "24696\n"
     ]
    }
   ],
   "source": [
    "i=1\n",
    "a=0\n",
    "sum=0\n",
    "while a<1000:\n",
    "    a=3*7*i\n",
    "    sum=sum+a\n",
    "    i+=1\n",
    "print(sum)\n"
   ]
  },
  {
   "cell_type": "markdown",
   "metadata": {},
   "source": [
    "3. while문을 사용하여 다음과 같이 별(*)을 표시하는 프로그램을 작성해 보자."
   ]
  },
  {
   "cell_type": "code",
   "execution_count": 4,
   "metadata": {},
   "outputs": [
    {
     "name": "stdout",
     "output_type": "stream",
     "text": [
      "*\n",
      "**\n",
      "***\n",
      "****\n",
      "*****\n"
     ]
    }
   ],
   "source": [
    "i=1\n",
    "while i<=5:\n",
    "    print(\"*\"*i)\n",
    "    i+=1"
   ]
  },
  {
   "cell_type": "markdown",
   "metadata": {},
   "source": [
    "4. for문을 사용해 1부터 100까지의 숫자를 출력해 보자."
   ]
  },
  {
   "cell_type": "code",
   "execution_count": 5,
   "metadata": {},
   "outputs": [
    {
     "name": "stdout",
     "output_type": "stream",
     "text": [
      "1 2 3 4 5 6 7 8 9 10 11 12 13 14 15 16 17 18 19 20 21 22 23 24 25 26 27 28 29 30 31 32 33 34 35 36 37 38 39 40 41 42 43 44 45 46 47 48 49 50 51 52 53 54 55 56 57 58 59 60 61 62 63 64 65 66 67 68 69 70 71 72 73 74 75 76 77 78 79 80 81 82 83 84 85 86 87 88 89 90 91 92 93 94 95 96 97 98 99 100 "
     ]
    }
   ],
   "source": [
    "for i in range(1,101):\n",
    "    print(i, end=' ')"
   ]
  },
  {
   "cell_type": "markdown",
   "metadata": {},
   "source": [
    "5.\n",
    "A 학급에 총 10명의 학생이 있다.  \n",
    "이 학생들의 중간고사 점수는 다음과 같다.  \n",
    "[70, 60, 55, 75, 95, 90, 80, 80, 85, 100]  \n",
    "for문을 사용하여 A 학급의 평균 점수를 구해 보자"
   ]
  },
  {
   "cell_type": "code",
   "execution_count": 7,
   "metadata": {},
   "outputs": [
    {
     "name": "stdout",
     "output_type": "stream",
     "text": [
      "79.0\n"
     ]
    }
   ],
   "source": [
    "class1 = [70, 60, 55, 75, 95, 90, 80, 80, 85, 100]\n",
    "sum=0\n",
    "for i in class1:\n",
    "    sum=sum+i\n",
    "    if i==class1[-1]:\n",
    "        print(sum/len(class1))\n"
   ]
  },
  {
   "cell_type": "markdown",
   "metadata": {},
   "source": [
    "\n",
    "6. 자판기(pro, 커피 한 잔에 300원이라 가정, 초기 커피는 10개)  \n",
    "돈을 넣어 주세요: 500  \n",
    "거스름돈 200를 주고 커피를 줍니다.  \n",
    "돈을 넣어 주세요: 300  \n",
    "커피를 줍니다.  \n",
    "돈을 넣어 주세요: 100  \n",
    "돈을 다시 돌려주고 커피를 주지 않습니다.  \n",
    "남은 커피의 양은 8개입니다.  \n",
    "돈을 넣어 주세요: 0  \n",
    "종료합니다  "
   ]
  },
  {
   "cell_type": "code",
   "execution_count": 2,
   "metadata": {},
   "outputs": [
    {
     "name": "stdout",
     "output_type": "stream",
     "text": [
      "자판기'('pro, 커피 한 잔에 300원이라 가정, 초기 커피는 10개')'\n",
      "돈을 넣어 주세요: 500\n",
      "거스름돈 200를 주고 커피를 줍니다.\n",
      "돈을 넣어 주세요: 300\n",
      "커피를 줍니다.\n",
      "돈을 넣어 주세요: 100\n",
      "돈을 다시 돌려주고 커피를 주지 않습니다.\n",
      "남은 커피의 양은 8입니다.\n",
      "돈을 넣어 주세요: 0\n",
      "종료합니다\n"
     ]
    }
   ],
   "source": [
    "price=300 \n",
    "quantities=10\n",
    "\n",
    "print(\"자판기'('pro, 커피 한 잔에 300원이라 가정, 초기 커피는 10개')'\")\n",
    "\n",
    "for i in range(5):\n",
    "    moneys=int(input(\"돈을 넣어 주세요: \"))\n",
    "    if moneys>price:\n",
    "        print(\"거스름돈 %d를 주고 커피를 줍니다.\" % (moneys-price))\n",
    "        quantities-=1\n",
    "    elif moneys==price:\n",
    "         print(\"커피를 줍니다.\")\n",
    "         quantities-=1    \n",
    "    elif moneys==0:\n",
    "        print(\"종료합니다\")\n",
    "        break\n",
    "\n",
    "    else:\n",
    "        print(\"돈을 다시 돌려주고 커피를 주지 않습니다.\")\n",
    "        print(\"남은 커피의 양은 %d입니다.\" % quantities)\n",
    "\n",
    "    \n",
    "\n",
    "\n",
    "\n"
   ]
  },
  {
   "cell_type": "code",
   "execution_count": null,
   "metadata": {},
   "outputs": [],
   "source": []
  }
 ],
 "metadata": {
  "interpreter": {
   "hash": "b3ba2566441a7c06988d0923437866b63cedc61552a5af99d1f4fb67d367b25f"
  },
  "kernelspec": {
   "display_name": "Python 3",
   "language": "python",
   "name": "python3"
  },
  "language_info": {
   "codemirror_mode": {
    "name": "ipython",
    "version": 3
   },
   "file_extension": ".py",
   "mimetype": "text/x-python",
   "name": "python",
   "nbconvert_exporter": "python",
   "pygments_lexer": "ipython3",
   "version": "3.8.5"
  }
 },
 "nbformat": 4,
 "nbformat_minor": 2
}
