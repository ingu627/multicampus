{
 "metadata": {
  "language_info": {
   "codemirror_mode": {
    "name": "ipython",
    "version": 3
   },
   "file_extension": ".py",
   "mimetype": "text/x-python",
   "name": "python",
   "nbconvert_exporter": "python",
   "pygments_lexer": "ipython3",
   "version": "3.8.5"
  },
  "orig_nbformat": 4,
  "kernelspec": {
   "name": "python3",
   "display_name": "Python 3.8.5 64-bit ('base': conda)"
  },
  "interpreter": {
   "hash": "b3ba2566441a7c06988d0923437866b63cedc61552a5af99d1f4fb67d367b25f"
  }
 },
 "nbformat": 4,
 "nbformat_minor": 2,
 "cells": [
  {
   "source": [
    "1. 도시이름이 S로 시작하지 않는 도시만 리스트로 만들 때 리스트 컴프리헨션을 사용하여 함수를 작성해 보세요.\n"
   ],
   "cell_type": "markdown",
   "metadata": {}
  },
  {
   "cell_type": "code",
   "execution_count": 152,
   "metadata": {},
   "outputs": [
    {
     "output_type": "execute_result",
     "data": {
      "text/plain": [
       "['Tokyo', 'Jakarta', 'Guangzhou', 'Beijing', 'Karachi', 'Delhi']"
      ]
     },
     "metadata": {},
     "execution_count": 152
    }
   ],
   "source": [
    "cities = [\"Tokyo\", \"Shanghai\", \"Jakarta\", \"Seoul\", \"Guangzhou\", \"Beijing\", \"Karachi\", \"Shenzhen\", \"Delhi\" ]\n",
    "\n",
    "[cities[i] for i in range(len(cities)) if cities[i][0]!=\"S\"]\n",
    "\n"
   ]
  },
  {
   "source": [
    "2. 상자 최대 낙차 출력(삼성)  26개 상자 모두에 대해 낙차를 구함.\n",
    "*2,3번 문제는 코드의 효율성을 고려하여 작성*\n"
   ],
   "cell_type": "markdown",
   "metadata": {}
  },
  {
   "cell_type": "code",
   "execution_count": 1,
   "metadata": {},
   "outputs": [
    {
     "output_type": "execute_result",
     "data": {
      "text/plain": [
       "[[1, 1, 1, 1, 1, 1, 1, 0],\n",
       " [1, 1, 1, 1, 0, 0, 0, 0],\n",
       " [1, 1, 0, 0, 0, 0, 0, 0],\n",
       " [0, 0, 0, 0, 0, 0, 0, 0],\n",
       " [0, 0, 0, 0, 0, 0, 0, 0],\n",
       " [1, 1, 1, 1, 1, 1, 0, 0],\n",
       " [0, 0, 0, 0, 0, 0, 0, 0],\n",
       " [1, 1, 1, 1, 1, 1, 1, 0],\n",
       " [0, 0, 0, 0, 0, 0, 0, 0]]"
      ]
     },
     "metadata": {},
     "execution_count": 1
    }
   ],
   "source": [
    "gravity=[7,4,2,0,0,6,0,7,0] \n",
    "#상자의 초기 상태 높이 #숫자 : 상자개수 #상자 높이 최대 출력 \n",
    "#답 : 7\n",
    "# 그림을 추상화를 어떻게 할건가\n",
    "\n",
    "n = len(gravity)\n",
    "m = 8\n",
    "room = [[0] * m for _ in range(n)]\n",
    "\n",
    "for i in range(n):\n",
    "    for j in range(m):\n",
    "        if gravity[i] !=0:\n",
    "            room[i][j]=1\n",
    "            gravity[i]-=1\n",
    "\n",
    "room    \n",
    "\n"
   ]
  },
  {
   "cell_type": "code",
   "execution_count": 4,
   "metadata": {},
   "outputs": [
    {
     "output_type": "stream",
     "name": "stdout",
     "text": [
      "0\n"
     ]
    }
   ],
   "source": [
    "# 1이 1과 만나면 continue \n",
    "# 1이 0과 만나면 카운트 시작 \n",
    "# 0이 1과 만나면 중지\n",
    "max_count=0\n",
    "for j in range(m):\n",
    "    count=0\n",
    "    for i in range(n):\n",
    "        if room[i][j] ==1 and room[i+1][j] == 1:\n",
    "            continue\n",
    "        if room[i][j] ==1 and room[i+1][j] == 0:\n",
    "            count+=1\n",
    "            continue\n",
    "        if room[i][j] == 1:\n",
    "            count+=1\n",
    "            if max_count < count:\n",
    "                max_count == count\n",
    "            break     #이론은 맞으나 수정필요\n",
    "print(max_count)"
   ]
  },
  {
   "source": [
    "3. 1부터 10,000까지 8이라는 숫자가 총 몇번 나오는가?(구글)\n",
    "8이 포함되어 있는 숫자의 갯수를 카운팅 하는 것이 아니라 8이라는 숫자를 모두 카운팅 해야 한다.\n",
    "(※ 예를들어 8808은 3, 8888은 4로 카운팅 해야 함)\n",
    "\n",
    "\n",
    "\n",
    "=> 각 자리 숫자를 문자로 바꿔 같으면 카운트"
   ],
   "cell_type": "markdown",
   "metadata": {}
  },
  {
   "cell_type": "code",
   "execution_count": 161,
   "metadata": {
    "tags": []
   },
   "outputs": [
    {
     "output_type": "stream",
     "name": "stdout",
     "text": [
      "4000\n"
     ]
    }
   ],
   "source": [
    "total=0\n",
    "\n",
    "for i in range(1,10001):\n",
    "    b=str(i)\n",
    "    c=list(b)\n",
    "\n",
    "    for j in range(len(b)):\n",
    "        if c[j]==\"8\":\n",
    "            total+=1\n",
    "\n",
    "print(total)\n",
    "\n",
    "    \n",
    "            "
   ]
  },
  {
   "cell_type": "code",
   "execution_count": 155,
   "metadata": {},
   "outputs": [
    {
     "output_type": "execute_result",
     "data": {
      "text/plain": [
       "'4. while문을 사용하여 다음과 같이 별(*)을 표시하는 프로그램을 작성해 보자.\\n1)\\n     *\\n    **\\n   ***\\n  ****\\n *****\\n '"
      ]
     },
     "metadata": {},
     "execution_count": 155
    }
   ],
   "source": [
    "'''4. while문을 사용하여 다음과 같이 별(*)을 표시하는 프로그램을 작성해 보자.\n",
    "1)\n",
    "     *\n",
    "    **\n",
    "   ***\n",
    "  ****\n",
    " *****\n",
    " '''"
   ]
  },
  {
   "cell_type": "code",
   "execution_count": 156,
   "metadata": {},
   "outputs": [
    {
     "output_type": "stream",
     "name": "stdout",
     "text": [
      "    *\n   **\n  ***\n ****\n*****\n"
     ]
    }
   ],
   "source": [
    "i=1\n",
    "while i<6:\n",
    "    print(\" \"*(5-i)+\"*\"*i)\n",
    "    i+=1"
   ]
  },
  {
   "cell_type": "code",
   "execution_count": 157,
   "metadata": {},
   "outputs": [
    {
     "output_type": "execute_result",
     "data": {
      "text/plain": [
       "'\\n2)\\n     *\\n    ***\\n   *****\\n  *******\\n *********\\n '"
      ]
     },
     "metadata": {},
     "execution_count": 157
    }
   ],
   "source": [
    "'''\n",
    "2)\n",
    "     *\n",
    "    ***\n",
    "   *****\n",
    "  *******\n",
    " *********\n",
    " '''"
   ]
  },
  {
   "cell_type": "code",
   "execution_count": 158,
   "metadata": {},
   "outputs": [
    {
     "output_type": "stream",
     "name": "stdout",
     "text": [
      "    *\n   ***\n  *****\n *******\n*********\n"
     ]
    }
   ],
   "source": [
    "i=1 \n",
    "while i<6:\n",
    "    print(\" \"*(5-i) + \"*\"*(i*2-1))\n",
    "    i+=1"
   ]
  },
  {
   "source": [
    "5. for문을 사용해 2부터 100까지의 숫자 중에서 소수를(prime number) 출력해 보자.\n",
    "*소수란? 1과 자기 자신으로만 나누어 떨어지는 수(ex. 2, 3, 5, 7, 11, 13,...)"
   ],
   "cell_type": "markdown",
   "metadata": {}
  },
  {
   "cell_type": "code",
   "execution_count": 159,
   "metadata": {},
   "outputs": [
    {
     "output_type": "stream",
     "name": "stdout",
     "text": [
      "2 3 5 7 11 13 17 19 23 29 31 37 41 43 47 53 59 61 67 71 73 79 83 89 97 "
     ]
    }
   ],
   "source": [
    "for i in range(2,101):\n",
    "    for j in range(2,i):\n",
    "        if i%j==0:\n",
    "            break\n",
    "    else:\n",
    "        print(i, end=\" \")\n",
    "\n",
    "\n",
    "\n",
    "        \n",
    "\n"
   ]
  }
 ]
}