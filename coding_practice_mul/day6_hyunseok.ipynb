{
 "metadata": {
  "language_info": {
   "codemirror_mode": {
    "name": "ipython",
    "version": 3
   },
   "file_extension": ".py",
   "mimetype": "text/x-python",
   "name": "python",
   "nbconvert_exporter": "python",
   "pygments_lexer": "ipython3",
   "version": "3.8.5"
  },
  "orig_nbformat": 4,
  "kernelspec": {
   "name": "python3",
   "display_name": "Python 3.8.5 64-bit ('base': conda)"
  },
  "interpreter": {
   "hash": "b3ba2566441a7c06988d0923437866b63cedc61552a5af99d1f4fb67d367b25f"
  }
 },
 "nbformat": 4,
 "nbformat_minor": 2,
 "cells": [
  {
   "source": [
    "1.\n",
    "x=\"머신러닝은 인공지능의 한 분류입니다\"  #내가 작성한 숙제\n",
    "y=\"런닝머신은 운동 기구중의 하나입니다\"  #다른 사람이 작성한 숙제\n",
    "\n",
    "#내가 작성한 숙제의 표절율?\n",
    "\n",
    "#2-gram(bi-gram) 단위로 글자 분리\n",
    "x => ['머신', '신러', ... '니다']\n",
    "y => ['런닝', '닝머', ... '니다']"
   ],
   "cell_type": "markdown",
   "metadata": {}
  },
  {
   "cell_type": "code",
   "execution_count": 13,
   "metadata": {},
   "outputs": [
    {
     "output_type": "error",
     "ename": "AttributeError",
     "evalue": "'str' object has no attribute 'append'",
     "traceback": [
      "\u001b[1;31m---------------------------------------------------------------------------\u001b[0m",
      "\u001b[1;31mAttributeError\u001b[0m                            Traceback (most recent call last)",
      "\u001b[1;32m<ipython-input-13-61ce7879e4df>\u001b[0m in \u001b[0;36m<module>\u001b[1;34m\u001b[0m\n\u001b[0;32m      8\u001b[0m     \u001b[0mx1\u001b[0m\u001b[1;33m.\u001b[0m\u001b[0mappend\u001b[0m\u001b[1;33m(\u001b[0m\u001b[0mx\u001b[0m\u001b[1;33m[\u001b[0m\u001b[0mi\u001b[0m\u001b[1;33m:\u001b[0m\u001b[0mi\u001b[0m\u001b[1;33m+\u001b[0m\u001b[1;36m2\u001b[0m\u001b[1;33m]\u001b[0m\u001b[1;33m)\u001b[0m\u001b[1;33m\u001b[0m\u001b[1;33m\u001b[0m\u001b[0m\n\u001b[0;32m      9\u001b[0m \u001b[1;32mfor\u001b[0m \u001b[0mj\u001b[0m \u001b[1;32min\u001b[0m \u001b[0mrange\u001b[0m\u001b[1;33m(\u001b[0m\u001b[0mlen\u001b[0m\u001b[1;33m(\u001b[0m\u001b[0my\u001b[0m\u001b[1;33m)\u001b[0m\u001b[1;33m-\u001b[0m\u001b[1;36m1\u001b[0m\u001b[1;33m)\u001b[0m\u001b[1;33m:\u001b[0m\u001b[1;33m\u001b[0m\u001b[1;33m\u001b[0m\u001b[0m\n\u001b[1;32m---> 10\u001b[1;33m     \u001b[0my\u001b[0m\u001b[1;33m.\u001b[0m\u001b[0mappend\u001b[0m\u001b[1;33m(\u001b[0m\u001b[0my\u001b[0m\u001b[1;33m[\u001b[0m\u001b[0mj\u001b[0m\u001b[1;33m:\u001b[0m\u001b[0mj\u001b[0m\u001b[1;33m+\u001b[0m\u001b[1;36m2\u001b[0m\u001b[1;33m]\u001b[0m\u001b[1;33m)\u001b[0m\u001b[1;33m\u001b[0m\u001b[1;33m\u001b[0m\u001b[0m\n\u001b[0m\u001b[0;32m     11\u001b[0m \u001b[0mprint\u001b[0m\u001b[1;33m(\u001b[0m\u001b[0mx1\u001b[0m\u001b[1;33m)\u001b[0m\u001b[1;33m\u001b[0m\u001b[1;33m\u001b[0m\u001b[0m\n\u001b[0;32m     12\u001b[0m \u001b[0mcount\u001b[0m\u001b[1;33m=\u001b[0m\u001b[1;36m0\u001b[0m\u001b[1;33m\u001b[0m\u001b[1;33m\u001b[0m\u001b[0m\n",
      "\u001b[1;31mAttributeError\u001b[0m: 'str' object has no attribute 'append'"
     ]
    }
   ],
   "source": [
    "x=\"머신러닝은 인공지능의 한 분류입니다\"  #내가 작성한 숙제\n",
    "y=\"런닝머신은 운동 기구중의 하나입니다\"  #다른 사람이 작성한 숙제\n",
    "\n",
    "\n",
    "x1=list()\n",
    "y1=list()\n",
    "for i in range(len(x)-1):\n",
    "    x1.append(x[i:i+2])\n",
    "for j in range(len(y)-1):\n",
    "    y.append(y[j:j+2])\n",
    "print(x1)\n",
    "count=0\n",
    "for num1 in x2:\n",
    "    for num2 in y2:\n",
    "        if num1==num2:\n",
    "            count+=1\n",
    "\n",
    "similarity = count / len(x2)\n",
    "print('유사도 :',similarity)\n",
    "\n"
   ]
  },
  {
   "source": [
    "2. 평탄화 작업\n",
    "평탄화 : 가장 높은 곳에 있는 상자를 가장 낮은 곳으로 옮기는 작업을 말한다\n",
    "{5,8,3,1,5,6,9,9,2,2,4} \n",
    "평탄화 작업을 10회 수행한 후 최고 높이 - 최저 높이 = ? 출력"
   ],
   "cell_type": "markdown",
   "metadata": {}
  },
  {
   "cell_type": "code",
   "execution_count": 10,
   "metadata": {},
   "outputs": [
    {
     "output_type": "stream",
     "name": "stdout",
     "text": [
      "[2, 2, 2, 3, 4, 5, 5, 6, 8, 9, 8]\n[3, 2, 2, 3, 4, 5, 5, 6, 8, 8, 8]\n[3, 2, 3, 3, 4, 5, 5, 6, 8, 8, 7]\n[3, 3, 3, 3, 4, 5, 5, 6, 7, 8, 7]\n[4, 3, 3, 3, 4, 5, 5, 6, 7, 7, 7]\n[4, 3, 3, 4, 4, 5, 5, 6, 7, 7, 6]\n[4, 3, 4, 4, 4, 5, 5, 6, 6, 7, 6]\n[4, 4, 4, 4, 4, 5, 5, 6, 6, 6, 6]\n[5, 4, 4, 4, 4, 5, 5, 6, 6, 6, 5]\n[5, 4, 4, 4, 5, 5, 5, 5, 6, 6, 5]\n2\n"
     ]
    }
   ],
   "source": [
    "high=[5,8,3,1,5,6,9,9,2,2,4]\n",
    "\n",
    "for i in range(10):\n",
    "    high=sorted(high)\n",
    "    high[0]=high[0]+1\n",
    "    high[-1]=high[-1]-1\n",
    "\n",
    "print(max(high)-min(high))"
   ]
  },
  {
   "source": [
    "3.  파일 이름이 저장된 리스트에서 확장자를 제거하고 파일 이름만 화면에 출력하라. \n",
    "\n",
    "리스트 = ['hello.py', 'ex01.py', 'intro.hwp']\n",
    "hello\n",
    "ex01\n",
    "intro"
   ],
   "cell_type": "markdown",
   "metadata": {}
  },
  {
   "cell_type": "code",
   "execution_count": 9,
   "metadata": {},
   "outputs": [
    {
     "output_type": "stream",
     "name": "stdout",
     "text": [
      "hello\nex01\nintro\n"
     ]
    }
   ],
   "source": [
    "리스트 = ['hello.py', 'ex01.py', 'intro.hwp']\n",
    "for i in range(len(리스트)):\n",
    "    print(리스트[i].split(\".\")[0])"
   ]
  },
  {
   "source": [
    "4. 리스트에 5일간의 저가, 고가 정보가 저장돼 있다. 고가와 저가의 차를 변동폭이라고 정의할 때, \n",
    "low, high 두 개의 리스트를 사용해서 5일간의 변동폭을 volatility 리스트에 저장하라."
   ],
   "cell_type": "markdown",
   "metadata": {}
  },
  {
   "source": [
    "low_prices = [100, 200, 400, 800, 1000]\n",
    "high_prices = [150, 300, 430, 880, 1000]\n",
    "volatility=list()\n",
    "\n",
    "for i in range(len(low_prices)):\n",
    "    volatility.append(high_prices[i]-low_prices[i])\n",
    "\n",
    "volatility\n"
   ],
   "cell_type": "code",
   "metadata": {},
   "execution_count": 11,
   "outputs": [
    {
     "output_type": "execute_result",
     "data": {
      "text/plain": [
       "[50, 100, 30, 80, 0]"
      ]
     },
     "metadata": {},
     "execution_count": 11
    }
   ]
  },
  {
   "source": [
    "5. 리스트에 저장된 데이터를 아래와 같이 출력하라.\n"
   ],
   "cell_type": "markdown",
   "metadata": {}
  },
  {
   "cell_type": "code",
   "execution_count": 18,
   "metadata": {},
   "outputs": [
    {
     "output_type": "stream",
     "name": "stdout",
     "text": [
      "101 호\n102 호\n-----\n201 호\n202 호\n-----\n301 호\n302 호\n-----\n"
     ]
    }
   ],
   "source": [
    "apart = [ [101, 102], [201, 202], [301, 302] ]\n",
    "\n",
    "for i in range(len(apart)):\n",
    "    for j in range(2):\n",
    "        print(apart[i][j],'호')\n",
    "    print('-----')"
   ]
  }
 ]
}