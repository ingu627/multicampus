{
 "metadata": {
  "language_info": {
   "codemirror_mode": {
    "name": "ipython",
    "version": 3
   },
   "file_extension": ".py",
   "mimetype": "text/x-python",
   "name": "python",
   "nbconvert_exporter": "python",
   "pygments_lexer": "ipython3",
   "version": "3.8.5"
  },
  "orig_nbformat": 4,
  "kernelspec": {
   "name": "python3",
   "display_name": "Python 3.8.5 64-bit ('base': conda)"
  },
  "interpreter": {
   "hash": "b3ba2566441a7c06988d0923437866b63cedc61552a5af99d1f4fb67d367b25f"
  }
 },
 "nbformat": 4,
 "nbformat_minor": 2,
 "cells": [
  {
   "source": [
    "1. 주어진 자연수가 홀수인지 짝수인지 판별해 주는 함수(is_odd)를 작성해 보자.\n",
    "ex)is_odd(3) -> 홀수\n",
    "\n"
   ],
   "cell_type": "markdown",
   "metadata": {}
  },
  {
   "cell_type": "code",
   "execution_count": 3,
   "metadata": {},
   "outputs": [
    {
     "output_type": "stream",
     "name": "stdout",
     "text": [
      "홀수\n짝수\n홀수\n짝수\n"
     ]
    }
   ],
   "source": [
    "def is_odd(num):\n",
    "    if num % 2 == 0:\n",
    "        print(\"짝수\")\n",
    "    else:\n",
    "        print(\"홀수\")\n",
    "\n",
    "is_odd(3)\n",
    "is_odd(6)\n",
    "is_odd(103)\n",
    "is_odd(26)\n",
    "    "
   ]
  },
  {
   "source": [
    "2. 다음은 \"test.txt\"라는 파일에 \"Life is too short\" 문자열을 저장한 후,\n",
    " 다시 그 파일을 읽어서 출력하는 프로그램이다."
   ],
   "cell_type": "markdown",
   "metadata": {}
  },
  {
   "cell_type": "code",
   "execution_count": 5,
   "metadata": {},
   "outputs": [
    {
     "output_type": "stream",
     "name": "stdout",
     "text": [
      "Life is too short\n"
     ]
    }
   ],
   "source": [
    "f=open(\"test.txt\", \"w\")\n",
    "f.write(\"Life is too short\")\n",
    "f.close()\n",
    "f=open(\"test.txt\", \"r\")\n",
    "s=f.read()\n",
    "print(s)"
   ]
  },
  {
   "source": [
    "3. 다음과 같은 내용을 지닌 파일 test.txt가 있다.   \n",
    "이 파일의 내용 중 \"Java\"라는 문자열을 \"Python\"으로 바꾸어서 저장해 보자.  \n",
    "Life is too short  \n",
    "you need Java  \n",
    "\n",
    "파일 저장 -> 파일 읽기 -> 단어 변경 -> 파일 저장  "
   ],
   "cell_type": "markdown",
   "metadata": {}
  },
  {
   "cell_type": "code",
   "execution_count": 36,
   "metadata": {},
   "outputs": [
    {
     "output_type": "stream",
     "name": "stdout",
     "text": [
      "Life is too short\nyou need Python\n"
     ]
    }
   ],
   "source": [
    "with open('test.txt', 'w') as f:\n",
    "    f.write('Life is too short\\n')\n",
    "    f.write('you need Java')\n",
    "with open('test.txt', 'r') as f:\n",
    "    s=f.readlines()\n",
    "\n",
    "with open('test.txt', 'w') as f:\n",
    "    changeWord=\"\".join(s).replace(\"Java\", \"Python\")\n",
    "    f.writelines(changeWord)\n",
    "\n",
    "with open('test.txt', 'r') as f:\n",
    "    print(''.join(f.readlines()))\n",
    "\n",
    "    \n",
    "    \n",
    "\n",
    "\n",
    "\n",
    "\n",
    "\n",
    "    "
   ]
  },
  {
   "source": [
    "4. \"비트코인\" 문자열을 화면에 출력하는 print_coin() 함수를 정의하라.  \n",
    "-함수 정의 및 호출"
   ],
   "cell_type": "markdown",
   "metadata": {}
  },
  {
   "cell_type": "code",
   "execution_count": 82,
   "metadata": {},
   "outputs": [
    {
     "output_type": "execute_result",
     "data": {
      "text/plain": [
       "'비트코인'"
      ]
     },
     "metadata": {},
     "execution_count": 82
    }
   ],
   "source": [
    "def print_coin():\n",
    "    bitcoin = '비트코인'\n",
    "    return bitcoin\n",
    "\n",
    "print_coin()"
   ]
  },
  {
   "source": [
    "5. 4에서 정의한 print_coin 함수를 100번호출하라.  "
   ],
   "cell_type": "markdown",
   "metadata": {}
  },
  {
   "cell_type": "code",
   "execution_count": 84,
   "metadata": {},
   "outputs": [
    {
     "output_type": "stream",
     "name": "stdout",
     "text": [
      "비트코인 비트코인 비트코인 비트코인 비트코인 비트코인 비트코인 비트코인 비트코인 비트코인 비트코인 비트코인 비트코인 비트코인 비트코인 비트코인 비트코인 비트코인 비트코인 비트코인 비트코인 비트코인 비트코인 비트코인 비트코인 비트코인 비트코인 비트코인 비트코인 비트코인 비트코인 비트코인 비트코인 비트코인 비트코인 비트코인 비트코인 비트코인 비트코인 비트코인 비트코인 비트코인 비트코인 비트코인 비트코인 비트코인 비트코인 비트코인 비트코인 비트코인 비트코인 비트코인 비트코인 비트코인 비트코인 비트코인 비트코인 비트코인 비트코인 비트코인 비트코인 비트코인 비트코인 비트코인 비트코인 비트코인 비트코인 비트코인 비트코인 비트코인 비트코인 비트코인 비트코인 비트코인 비트코인 비트코인 비트코인 비트코인 비트코인 비트코인 비트코인 비트코인 비트코인 비트코인 비트코인 비트코인 비트코인 비트코인 비트코인 비트코인 비트코인 비트코인 비트코인 비트코인 비트코인 비트코인 비트코인 비트코인 비트코인 비트코인 "
     ]
    }
   ],
   "source": [
    "for i in range(100):\n",
    "    print(print_coin(), end=\" \")\n"
   ]
  },
  {
   "source": [
    "6. \"비트코인\" 문자열을 100번 화면에 출력하는 print_coins() 함수를 정의하라."
   ],
   "cell_type": "markdown",
   "metadata": {}
  },
  {
   "cell_type": "code",
   "execution_count": 85,
   "metadata": {},
   "outputs": [
    {
     "output_type": "stream",
     "name": "stdout",
     "text": [
      "비트코인 비트코인 비트코인 비트코인 비트코인 비트코인 비트코인 비트코인 비트코인 비트코인 비트코인 비트코인 비트코인 비트코인 비트코인 비트코인 비트코인 비트코인 비트코인 비트코인 비트코인 비트코인 비트코인 비트코인 비트코인 비트코인 비트코인 비트코인 비트코인 비트코인 비트코인 비트코인 비트코인 비트코인 비트코인 비트코인 비트코인 비트코인 비트코인 비트코인 비트코인 비트코인 비트코인 비트코인 비트코인 비트코인 비트코인 비트코인 비트코인 비트코인 비트코인 비트코인 비트코인 비트코인 비트코인 비트코인 비트코인 비트코인 비트코인 비트코인 비트코인 비트코인 비트코인 비트코인 비트코인 비트코인 비트코인 비트코인 비트코인 비트코인 비트코인 비트코인 비트코인 비트코인 비트코인 비트코인 비트코인 비트코인 비트코인 비트코인 비트코인 비트코인 비트코인 비트코인 비트코인 비트코인 비트코인 비트코인 비트코인 비트코인 비트코인 비트코인 비트코인 비트코인 비트코인 비트코인 비트코인 비트코인 비트코인 비트코인 "
     ]
    }
   ],
   "source": [
    "def print_coins():\n",
    "    for i in range(100):\n",
    "        print(print_coin(), end=\" \")\n",
    "\n",
    "print_coins()\n"
   ]
  },
  {
   "source": [
    "7. 하나의 문자를 입력받아 문자열 끝에 \":D\" 스마일 문자열을 이어 붙여 출력하는 print_with_smile 함수를 정의하라."
   ],
   "cell_type": "markdown",
   "metadata": {}
  },
  {
   "cell_type": "code",
   "execution_count": 42,
   "metadata": {},
   "outputs": [
    {
     "output_type": "stream",
     "name": "stdout",
     "text": [
      "정현석:D\n"
     ]
    }
   ],
   "source": [
    "def print_with_smile(word):\n",
    "    print(word+\":D\")\n",
    "print_with_smile(input(\"문자 하나 입력 : \"))\n",
    "    "
   ]
  },
  {
   "source": [
    "8.  priceList에 저장된 상위 20% 내에 해당되는 값을 출력하는 print_upper_price 함수를 정의하라.  \n",
    "priceList=[90,100,10,20,30,40,50,60,70,80]에서 상위 20% 내에 해당하는 값들을 출력 => 90, 100 출력"
   ],
   "cell_type": "markdown",
   "metadata": {}
  },
  {
   "cell_type": "code",
   "execution_count": 59,
   "metadata": {},
   "outputs": [
    {
     "output_type": "stream",
     "name": "stdout",
     "text": [
      "[100, 90]\n"
     ]
    }
   ],
   "source": [
    "def print_upper_price(x):\n",
    "    print(sorted(x, reverse=True)[0:2])\n",
    "\n",
    "priceList=[90,100,10,20,30,40,50,60,70,80]\n",
    "print_upper_price(priceList)\n",
    "\n",
    "\n",
    "\n",
    "\n"
   ]
  },
  {
   "source": [
    "9. 하나의 리스트를 입력받아 짝수만 화면에 출력하는 print_even 함수를 정의하라.  \n",
    "입력 -> 리스트에 저장 -> 짝수만 출력\n",
    "​"
   ],
   "cell_type": "markdown",
   "metadata": {}
  },
  {
   "cell_type": "code",
   "execution_count": 66,
   "metadata": {},
   "outputs": [
    {
     "output_type": "stream",
     "name": "stdout",
     "text": [
      "4 2 4 2 4 4 2 8 2 4 8 2 "
     ]
    }
   ],
   "source": [
    "def print_even(x):\n",
    "    for i in x:\n",
    "        if i%2==0:\n",
    "            print(i, end=\" \")\n",
    "\n",
    "flist=list(map(int, input(\"리스트 요소 입력 : \")))\n",
    "print_even(flist)\n",
    "\n"
   ]
  },
  {
   "source": [
    "10. 딕셔너리의 key 값을 화면에 출력하는 print_keys 함수를 정의하라.  \n",
    "{'name':'kim', 'age':30, 'addr':'seoul', 'bt':'AB'}  \n",
    "\n",
    "출력 결과 => 'name', .., 'bt'  "
   ],
   "cell_type": "markdown",
   "metadata": {}
  },
  {
   "cell_type": "code",
   "execution_count": 77,
   "metadata": {},
   "outputs": [
    {
     "output_type": "stream",
     "name": "stdout",
     "text": [
      "name\nage\naddr\nbt\n"
     ]
    }
   ],
   "source": [
    "def print_keys(x):\n",
    "        for key in x.keys():\n",
    "                print(key)\n",
    "    \n",
    "\n",
    "dic1={'name':'kim', 'age':30, 'addr':'seoul', 'bt':'AB'}\n",
    "print_keys(dic1)\n"
   ]
  },
  {
   "source": [
    "11. 문자열과 한줄에 출력될 글자 수를 입력을 받아 한 줄에 입력된 글자 수만큼 출력하는 print_mxn(string) 함수를 작성하라.\n",
    "\n",
    "ex) print_mxn(\"hello\", 2)  \n",
    "​he  \n",
    "ll  \n",
    "o  "
   ],
   "cell_type": "markdown",
   "metadata": {}
  },
  {
   "cell_type": "code",
   "execution_count": 76,
   "metadata": {
    "tags": []
   },
   "outputs": [
    {
     "output_type": "stream",
     "name": "stdout",
     "text": [
      "he\nll\no1\n23\n14\n1 \n"
     ]
    }
   ],
   "source": [
    "def print_mxn(str, num):\n",
    "    strList=list(str)\n",
    "    if len(strList)%2 !=0:\n",
    "        strList.append(\" \")\n",
    "        \n",
    "    i=0\n",
    "    while i<len(strList):\n",
    "        print(strList[i]+strList[i+1])\n",
    "        i+=num\n",
    "        \n",
    "\n",
    "\n",
    "\n",
    "\n",
    "print_mxn('hello123141', 2)\n",
    "\n"
   ]
  },
  {
   "source": [
    "12. 연봉을 입력받아 월급을 계산하는 calc_monthly_salary(annual_salary) 함수를 정의하라. \n",
    "회사는 연봉을 12개월로 나누어 분할 지급하며, 이 때 1원 미만은 버림한다."
   ],
   "cell_type": "markdown",
   "metadata": {}
  },
  {
   "cell_type": "code",
   "execution_count": 81,
   "metadata": {},
   "outputs": [
    {
     "output_type": "execute_result",
     "data": {
      "text/plain": [
       "2666666"
      ]
     },
     "metadata": {},
     "execution_count": 81
    }
   ],
   "source": [
    "def calc_monthly_salary(annual_salary):\n",
    "    monthly_salary=annual_salary//12\n",
    "    return monthly_salary\n",
    "\n",
    "yourSalary = int(input(\"연봉 입력: \"))\n",
    "calc_monthly_salary(yourSalary)"
   ]
  },
  {
   "source": [
    "13. 문자열 하나를 입력받아 인터넷 주소를 반환하는 make_url 함수를 정의하라.\n",
    "make_url(\"naver\") -> 출력 결과 => www.naver.com\n",
    "참고) www.(입력받은 문자열).com으로 끝나는 인터넷 주소로 가정하여 해결"
   ],
   "cell_type": "markdown",
   "metadata": {}
  },
  {
   "cell_type": "code",
   "execution_count": 84,
   "metadata": {},
   "outputs": [
    {
     "output_type": "stream",
     "name": "stdout",
     "text": [
      "www.yahoo.com 참고\n"
     ]
    }
   ],
   "source": [
    "def make_url(url):\n",
    "    return print(\"www.\"+url+\".com 참고\") \n",
    "     \n",
    "\n",
    "internet=input(\"어느 인터넷 주소 보고 싶습니까? : \")\n",
    "make_url(internet)\n",
    "\n"
   ]
  },
  {
   "source": [
    "14. 문자열을 입력받아 각 문자들로 구성된 리스트로 반환하는 make_list 함수를 정의하라.\n",
    "make_list (\"abcde\") 호출 -> 실행 결과 => [ 'a','b',...,'e]"
   ],
   "cell_type": "markdown",
   "metadata": {}
  },
  {
   "cell_type": "code",
   "execution_count": 85,
   "metadata": {},
   "outputs": [
    {
     "output_type": "execute_result",
     "data": {
      "text/plain": [
       "['a', 'b', 'c', 'd', 'e']"
      ]
     },
     "metadata": {},
     "execution_count": 85
    }
   ],
   "source": [
    "def make_list(x):\n",
    "    return list(x)\n",
    "\n",
    "character=input(\"문자열 입력: \")\n",
    "make_list(character)"
   ]
  },
  {
   "cell_type": "code",
   "execution_count": null,
   "metadata": {},
   "outputs": [],
   "source": [
    "# 15. 게임 기업 입사문제(시간 되면)\n",
    "\n",
    "# 어떤 자연수 n이 있을 때, d(n)을 n의 각 자릿수 숫자들과 n 자신을 더한 숫자라고 정의하자.\n",
    "# 예를 들어\n",
    "# d(91) = 9 + 1 + 91 = 101\n",
    "# d(100)=1+0+0+100=101\n",
    "# 이 때, n을 d(n)의 제네레이터(generator)라고 한다. 위의 예에서 91은 101의 제네레이터이다.\n",
    "\n",
    "# 어떤 숫자들은 하나 이상의 제네레이터를 가지고 있는데, \n",
    "# 101의 제네레이터는 91 뿐 아니라 100도 있다. 그런데 반대로, 제네레이터가 없는 숫자들도 있으며, \n",
    "# 이런 숫자를 인도의 수학자 Kaprekar가 셀프 넘버(self-number)라 이름 붙였다. \n",
    "# 예를 들어 1,3,5,7,9,20,31 은 셀프 넘버 들이다.\n",
    "\n",
    "#문제 :  1 이상이고 5000 보다 작은 모든 셀프 넘버들의 합을 구하라.\n",
    "\n",
    "# 25%10=>5\n",
    "# 25//10=>2\n",
    "\n",
    "#d(1234)=1+2+3+4+1234\n",
    "\n",
    "#1234%10=>4\n",
    "#1234//10=>123\n",
    "\n",
    "#123%10=>31\n",
    "#123//10=>12 "
   ]
  },
  {
   "cell_type": "code",
   "execution_count": 12,
   "metadata": {},
   "outputs": [
    {
     "output_type": "execute_result",
     "data": {
      "text/plain": [
       "121427"
      ]
     },
     "metadata": {},
     "execution_count": 12
    }
   ],
   "source": [
    "def generator(x):\n",
    "    changeToStr=list(str(x))\n",
    "\n",
    "    count=0\n",
    "    for i in range(len(changeToStr)):\n",
    "        count+=(int(changeToStr[i]))\n",
    "    c=int(\"\".join(changeToStr))\n",
    "    count+=c\n",
    "    return count\n",
    "\n",
    "a=[]\n",
    "\n",
    "for j in range(1,5000):\n",
    "    a.append\n",
    "    \n",
    "\n",
    "    \n",
    "\n"
   ]
  },
  {
   "cell_type": "code",
   "execution_count": 14,
   "metadata": {},
   "outputs": [
    {
     "output_type": "stream",
     "name": "stdout",
     "text": [
      "1227365\n"
     ]
    }
   ],
   "source": [
    "#임태섭니꺼 참고\n",
    "\n",
    "def generator(x):\n",
    "    count =x\n",
    "    x= str(x)\n",
    "    for i in x:\n",
    "        count +=int(i)\n",
    "    return count\n",
    "\n",
    "s_total =0\n",
    "s_x=set()\n",
    "\n",
    "for i in range(1,5000):\n",
    "    s_x.add(generator(i))\n",
    "\n",
    "for i in range(1,5000):\n",
    "    if i not in s_x:\n",
    "        s_total +=i\n",
    "print(s_total)"
   ]
  },
  {
   "cell_type": "code",
   "execution_count": null,
   "metadata": {},
   "outputs": [],
   "source": []
  }
 ]
}