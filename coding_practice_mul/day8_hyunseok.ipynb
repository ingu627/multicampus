{
 "metadata": {
  "language_info": {
   "codemirror_mode": {
    "name": "ipython",
    "version": 3
   },
   "file_extension": ".py",
   "mimetype": "text/x-python",
   "name": "python",
   "nbconvert_exporter": "python",
   "pygments_lexer": "ipython3",
   "version": "3.8.5"
  },
  "orig_nbformat": 4,
  "kernelspec": {
   "name": "python3",
   "display_name": "Python 3.8.5 64-bit ('base': conda)"
  },
  "interpreter": {
   "hash": "b3ba2566441a7c06988d0923437866b63cedc61552a5af99d1f4fb67d367b25f"
  }
 },
 "nbformat": 4,
 "nbformat_minor": 2,
 "cells": [
  {
   "source": [
    "1. 첫 번째 항의 값이 0이고 두 번째 항의 값이 1일 때, 이후에 이어지는 항은 이전의 두 항을 더한 값으로 이루어지는 수열을 피보나치 수열이라고 한다.\n",
    "\n",
    "0, 1, 1, 2, 3, 5, 8, 13, ...  \n",
    "입력을 정수 n으로 받았을 때, n 이하까지의 피보나치 수열을 출력하는 함수를 작성해 보자.  \n",
    "10 => 0, 1, 1, 2, 3, 5, 8  \n"
   ],
   "cell_type": "markdown",
   "metadata": {}
  },
  {
   "cell_type": "code",
   "execution_count": 79,
   "metadata": {},
   "outputs": [
    {
     "output_type": "stream",
     "name": "stdout",
     "text": [
      "[0, 1, 1, 2, 3, 5, 8]\n입력 받은 수 :  10 None\n[0, 1, 1, 2, 3, 5, 8, 13]\n입력 받은 수 :  20 None\n[0, 1, 1, 2, 3, 5, 8, 13, 21]\n입력 받은 수 :  30 None\n"
     ]
    }
   ],
   "source": [
    "from functools import reduce\n",
    "def myFunc(a,b):\n",
    "    return a+b\n",
    "\n",
    "def Fibonacci(n):\n",
    "    x=[0,1]\n",
    "    for i in range(100):\n",
    "        x1=[]\n",
    "        x1=x[i],x[i+1]\n",
    "        if reduce(myFunc,x1)<=n:\n",
    "            x.append(reduce(myFunc,x1))\n",
    "        else:\n",
    "            break\n",
    "    print(x)\n",
    "\n",
    "get_num1=int(input(\"정수 입력: \"))\n",
    "get_num2=int(input(\"정수 입력: \"))\n",
    "get_num3=int(input(\"정수 입력: \"))\n",
    "print('입력 받은 수 : ', get_num1, Fibonacci(get_num1))\n",
    "print('입력 받은 수 : ', get_num2, Fibonacci(get_num2))\n",
    "print('입력 받은 수 : ', get_num3, Fibonacci(get_num3))"
   ]
  },
  {
   "source": [
    "2. 다음(카카오) 입사문제(리스트로 푸세요)  \n",
    "1차원의 점들이 주어졌을 때, 그 중 가장 거리가 짧은 것의 쌍을 출력하는 함수를 작성하시오.  \n",
    "(단 점들의 배열은 모두 정렬되어있다고 가정한다.)  \n",
    "예를들어 S={1, 3, 4, 8, 13, 17, 20} 이 주어졌다면, 결과값은 (3, 4)가 될 것이다.m  "
   ],
   "cell_type": "markdown",
   "metadata": {}
  },
  {
   "cell_type": "code",
   "execution_count": 21,
   "metadata": {},
   "outputs": [
    {
     "output_type": "execute_result",
     "data": {
      "text/plain": [
       "(3, 4)"
      ]
     },
     "metadata": {},
     "execution_count": 21
    }
   ],
   "source": [
    "def shortestPair(x): \n",
    "    distance=list()\n",
    "    for i in range(len(x)-1):\n",
    "        distance.append(x[i+1]-x[i]) #각각 거리 저장\n",
    "\n",
    "    num=distance.index(min(distance)) #가장 짧을 때의 index 호출\n",
    "    return x[num],x[num+1]\n",
    "\n",
    "s=[1, 3, 4, 8, 13, 17, 20]\n",
    "shortestPair(s)"
   ]
  },
  {
   "source": [
    "3. 문자열 바꾸기  \n",
    "다음과 같은 문자열이 있다.  \n",
    "a:b:c:d  \n",
    "문자열의 split와 join 함수를 사용하여 위 문자열을 다음과 같이 고치시오.  \n",
    "a#b#c#d  "
   ],
   "cell_type": "markdown",
   "metadata": {}
  },
  {
   "cell_type": "code",
   "execution_count": 24,
   "metadata": {},
   "outputs": [
    {
     "output_type": "stream",
     "name": "stdout",
     "text": [
      "a#b#c#d\n"
     ]
    }
   ],
   "source": [
    "str_list='a:b:c:d'\n",
    "str_split= str_list.split(':')\n",
    "print(\"#\".join(str_split))"
   ]
  },
  {
   "source": [
    "4. 리스트 평균 구하기  \n",
    "다음은 A학급 학생의 점수를 나타내는 리스트이다.  \n",
    "다음 리스트에서 60점 이상 점수의 평균을 구하시오.  \n",
    "A = [20, 55, 67, 82, 45, 33, 90, 87, 100, 25]  "
   ],
   "cell_type": "markdown",
   "metadata": {}
  },
  {
   "cell_type": "code",
   "execution_count": 29,
   "metadata": {},
   "outputs": [
    {
     "output_type": "stream",
     "name": "stdout",
     "text": [
      "85.2\n"
     ]
    }
   ],
   "source": [
    "A = [20, 55, 67, 82, 45, 33, 90, 87, 100, 25]\n",
    "\n",
    "high_60=list(filter(lambda x:x>=60 , A))\n",
    "print(sum(high_60)/len(high_60))\n",
    "    "
   ]
  },
  {
   "source": [
    "5. 유사도\n",
    "\n",
    "n: 문자의 개수  \n",
    "n=2일 경우,  \n",
    "1) 2개씩 쪼갠다.  \n",
    "'오늘', '늘 ', ' 멀', ..., '부했', '했다'  \n",
    "'멀티', '티캠', '캠퍼', ..., '쉬웠', '웠다'    \n",
    "\n",
    "2) 한 리스트 내에서 중복되는 단어는 제외시킨다.  \n",
    "\n",
    "3) 길이가 더 긴 쪽을 기준으로 하여 유사도를 아래와 같이 계산.  \n",
    "두 리스트에서 일치하는 단어가 12개였고  \n",
    "예를 들어 2번째 리스트 길이가 25라면,  \n",
    "12/25 = 0.5 --> 50% 유사하다   \n"
   ],
   "cell_type": "markdown",
   "metadata": {}
  },
  {
   "source": [
    "sen1 = \"오늘 멀티캠퍼스에서 너무 쉬운 프로그래밍을 공부했다\"\n",
    "sen2 = \"멀티캠퍼스에서 공부했던 오늘의 프로그래밍은 너무 쉬웠다\"\n",
    "\n",
    "def similarity(x, y, n):\n",
    "    x_list=[]\n",
    "    y_list=[]\n",
    "\n",
    "    if n==2:\n",
    "        for i in range(len(x)-1):\n",
    "            x_list.append(x[i]+x[i+1])\n",
    "        for j in range(len(y)-1):\n",
    "            y_list.append(y[j]+y[j+1])\n",
    "\n",
    "        x_set=set()\n",
    "        y_set=set()\n",
    "\n",
    "        article=0\n",
    "        for i in x_list:\n",
    "            for j in y_list:\n",
    "                if i==j:\n",
    "                    article+=1\n",
    "        sim=article*100/len(y)\n",
    "        print(\"두 문장의 유사도는 %.2f입니다.\" % sim)\n",
    "\n",
    "    if n==3:\n",
    "        for i in range(len(x)-2):\n",
    "            x_list.append(x[i]+x[i+1]+x[i+2])\n",
    "        for j in range(len(y)-2):\n",
    "            y_list.append(y[j]+y[j+1]+y[j+2])\n",
    "\n",
    "        article=0\n",
    "        for i in x_list:\n",
    "            for j in y_list:\n",
    "                if i==j:\n",
    "                    article+=1\n",
    "        sim=article*100/len(y)\n",
    "        print(\"두 문장의 유사도는 %.2f입니다.\" % sim) \n",
    "\n",
    "\n",
    "similarity(sen1, sen2, 2) #두 문장의 유사도는 68%입니다.\n",
    "similarity(sen1, sen2, 3) #두 문장의 유사도는 53%입니다.\n",
    "\n",
    "\n"
   ],
   "cell_type": "code",
   "metadata": {},
   "execution_count": 77,
   "outputs": [
    {
     "output_type": "stream",
     "name": "stdout",
     "text": [
      "두 문장의 유사도는 66.67입니다.\n두 문장의 유사도는 50.00입니다.\n"
     ]
    }
   ]
  },
  {
   "source": [
    "6. 0~9의 문자로 된 숫자를 입력받았을 때, 이 입력값이 0~9의 모든 숫자를 각각 한 번씩만 사용한 것인지 확인하는 함수를 작성하시오.  \n",
    "\n",
    "입력 예시: 0123456789 01234 01234567890 6789012345 012322456789  \n",
    "출력 예시: True False False True False  "
   ],
   "cell_type": "markdown",
   "metadata": {}
  },
  {
   "cell_type": "code",
   "execution_count": 37,
   "metadata": {},
   "outputs": [
    {
     "output_type": "execute_result",
     "data": {
      "text/plain": [
       "['True', 'True', 'False', 'True', 'False']"
      ]
     },
     "metadata": {},
     "execution_count": 37
    }
   ],
   "source": [
    "def filtering(x):\n",
    "    a=[]\n",
    "    boolean=[]\n",
    "    dataSplit=x.split(\" \")\n",
    "\n",
    "    for data in dataSplit:\n",
    "        a=list(data) #다 받기\n",
    "        b=set(data) #중복되면 제거\n",
    "        if len(a)!=len(b): #비교\n",
    "            boolean.append('False')\n",
    "        else:\n",
    "            boolean.append('True')\n",
    "    return boolean\n",
    "         \n",
    "str_data=input('입력 예시: ')\n",
    "filtering(str_data)"
   ]
  },
  {
   "cell_type": "code",
   "execution_count": null,
   "metadata": {},
   "outputs": [],
   "source": [
    "'''\n",
    "7. 입사 문제 (어려움)\n",
    "\n",
    "카카오에 입사한 신입 개발자 네오는 “카카오계정개발팀”에 배치되어, 카카오 서비스에 가입하는 유저들의 아이디를 생성하는 업무를 담당하게 되었습니다. \n",
    "“네오”에게 주어진 첫 업무는 새로 가입하는 유저들이 카카오 아이디 규칙에 맞지 않는 아이디를 입력했을 때, \n",
    "입력된 아이디와 유사하면서 규칙에 맞는 아이디를 추천해 주는 프로그램을 개발하는 것입니다.\n",
    "다음은 카카오 아이디의 규칙입니다.\n",
    "\n",
    "아이디의 길이는 3자 이상 15자 이하여야 합니다.\n",
    "아이디는 알파벳 소문자, 숫자, 빼기(-), 밑줄(_), 마침표(.) 문자만 사용할 수 있습니다.\n",
    "단, 마침표(.)는 처음과 끝에 사용할 수 없으며 또한 연속으로 사용할 수 없습니다.\n",
    "“네오”는 다음과 같이 7단계의 순차적인 처리 과정을 통해 신규 유저가 입력한 아이디가 카카오 아이디 규칙에 맞는지 검사하고 \n",
    "규칙에 맞지 않은 경우 규칙에 맞는 새로운 아이디를 추천해 주려고 합니다.\n",
    "신규 유저가 입력한 아이디가 new_id라고 한다면,\n",
    "\n",
    " 1단계 new_id의 모든 대문자를 대응되는 소문자로 치환합니다.\n",
    " 2단계 new_id에서 알파벳 소문자, 숫자, 빼기(-), 밑줄(_), 마침표(.)를 제외한 모든 문자를 제거합니다.\n",
    " 3단계 new_id에서 마침표(.)가 2번 이상 연속된 부분을 하나의 마침표(.)로 치환합니다.\n",
    " 4단계 new_id에서 마침표(.)가 처음이나 끝에 위치한다면 제거합니다.\n",
    " 5단계 new_id가 빈 문자열이라면, new_id에 \"a\"를 대입합니다.\n",
    " 6단계 new_id의 길이가 16자 이상이면, new_id의 첫 15개의 문자를 제외한 나머지 문자들을 모두 제거합니다.\n",
    "      만약 제거 후 마침표(.)가 new_id의 끝에 위치한다면 끝에 위치한 마침표(.) 문자를 제거합니다.\n",
    " 7단계 new_id의 길이가 2자 이하라면, new_id의 마지막 문자를 new_id의 길이가 3이 될 때까지 반복해서 끝에 붙입니다.\n",
    "\n",
    "예를 들어, new_id 값이 “…!@BaT#*..y.abcdefghijklm” 라면, 위 7단계를 거치고 나면 new_id는 아래와 같이 변경됩니다.\n",
    "\n",
    "…!@BaT#*..y.abcdefghijklm\n",
    "\n",
    "\n",
    "1단계 대문자 ‘B’와 ‘T’가 소문자 ‘b’와 ‘t’로 바뀌었습니다.\n",
    "\"...!@BaT#*..y.abcdefghijklm\" → \"...!@bat#*..y.abcdefghijklm\"\n",
    "\n",
    "2단계 ‘!’, ‘@’, ‘#’, ‘*’ 문자가 제거되었습니다.\n",
    "\"...!@bat#*..y.abcdefghijklm\" → \"...bat..y.abcdefghijklm\"\n",
    "\n",
    "3단계 ‘…’와 ‘..’ 가 ‘.’로 바뀌었습니다.\n",
    "\"...bat..y.abcdefghijklm\" → \".bat.y.abcdefghijklm\"\n",
    "\n",
    "4단계 아이디의 처음에 위치한 ‘.’가 제거되었습니다.\n",
    "\".bat.y.abcdefghijklm\" → \"bat.y.abcdefghijklm\"\n",
    "\n",
    "5단계 아이디가 빈 문자열이 아니므로 변화가 없습니다.\n",
    "\"bat.y.abcdefghijklm\" → \"bat.y.abcdefghijklm\"\n",
    "\n",
    "6단계 아이디의 길이가 16자 이상이므로, 처음 15자를 제외한 나머지 문자들이 제거되었습니다.\n",
    "\"bat.y.abcdefghijklm\" → \"bat.y.abcdefghi\"\n",
    "\n",
    "7단계 아이디의 길이가 2자 이하가 아니므로 변화가 없습니다.\n",
    "\"bat.y.abcdefghi\" → \"bat.y.abcdefghi\"\n",
    "\n",
    "따라서 신규 유저가 입력한 new_id가 “…!@BaT#*..y.abcdefghijklm”일 때, 네오의 프로그램이 추천하는 \n",
    "새로운 아이디는 “bat.y.abcdefghi” 입니다.\n",
    "'''\n"
   ]
  },
  {
   "cell_type": "code",
   "execution_count": 119,
   "metadata": {},
   "outputs": [
    {
     "output_type": "stream",
     "name": "stdout",
     "text": [
      "...!@bat#*..y.abcdefghijklm\n"
     ]
    }
   ],
   "source": [
    "import re\n",
    "\n",
    "new_id='...!@BaT#*..y.abcdefghijklm'\n",
    "\n",
    "#1단계 new_id의 모든 대문자를 대응되는 소문자로 치환합니다.\n",
    "new_id1=new_id.lower()\n",
    "print(new_id1)\n"
   ]
  },
  {
   "cell_type": "code",
   "execution_count": 120,
   "metadata": {},
   "outputs": [
    {
     "output_type": "stream",
     "name": "stdout",
     "text": [
      "...bat..y.abcdefghijklm\n"
     ]
    }
   ],
   "source": [
    "#2단계 new_id에서 알파벳 소문자, 숫자, 빼기(-), 밑줄(_), 마침표(.)를 제외한 모든 문자를 제거합니다.\n",
    "new_id1_1=list(new_id1)\n",
    "new_id2=[]\n",
    "\n",
    "for i in new_id1_1:\n",
    "    if 97<=ord(i)<=122:\n",
    "        new_id2.append(i)\n",
    "    elif 48<=ord(i)<=57:\n",
    "        new_id2.append(i)\n",
    "    elif ord(i)==45 or ord(i)==46 or ord(i)==96:\n",
    "        new_id2.append(i)\n",
    "\n",
    "new_id2=\"\".join(new_id2)\n",
    "print(new_id2)\n"
   ]
  },
  {
   "cell_type": "code",
   "execution_count": 121,
   "metadata": {},
   "outputs": [
    {
     "output_type": "stream",
     "name": "stdout",
     "text": [
      ".bat.y.abcdefghijklm\n"
     ]
    }
   ],
   "source": [
    "#3단계 new_id에서 마침표(.)가 2번 이상 연속된 부분을 하나의 마침표(.)로 치환합니다.\n",
    "for i in range(10,1,-1):\n",
    "    if '.'*i in new_id2:\n",
    "        new_id2=new_id2.replace('.'*i, '.')\n",
    "new_id3=new_id2\n",
    "\n",
    "print(new_id3)"
   ]
  },
  {
   "cell_type": "code",
   "execution_count": 122,
   "metadata": {},
   "outputs": [
    {
     "output_type": "stream",
     "name": "stdout",
     "text": [
      "bat.y.abcdefghijklm\n"
     ]
    }
   ],
   "source": [
    "# 4단계 new_id에서 마침표(.)가 처음이나 끝에 위치한다면 제거합니다.\n",
    "new_id3_1=list(new_id3)\n",
    "if new_id3_1[0]=='.':\n",
    "    new_id3_1.pop(0)\n",
    "elif new_id3_1[-1]=='.':\n",
    "    new_id3_1.pop(-1)\n",
    "\n",
    "new_id4=\"\".join(new_id3_1)\n",
    "\n",
    "print(new_id4)\n",
    "\n"
   ]
  },
  {
   "cell_type": "code",
   "execution_count": 123,
   "metadata": {},
   "outputs": [
    {
     "output_type": "stream",
     "name": "stdout",
     "text": [
      "bat.y.abcdefghijklm\n"
     ]
    }
   ],
   "source": [
    "#  5단계 new_id가 빈 문자열이라면, new_id에 \"a\"를 대입합니다.\n",
    "if new_id4==[]:\n",
    "    new_id5=new_id4.append('a')\n",
    "else:\n",
    "    new_id5=new_id4\n",
    "\n",
    "print(new_id5)"
   ]
  },
  {
   "cell_type": "code",
   "execution_count": 124,
   "metadata": {},
   "outputs": [
    {
     "output_type": "stream",
     "name": "stdout",
     "text": [
      "bat.y.abcdefghi\n"
     ]
    }
   ],
   "source": [
    "# 6단계 new_id의 길이가 16자 이상이면, new_id의 첫 15개의 문자를 제외한 나머지 문자들을 모두 제거합니다.\n",
    "#만약 제거 후 마침표(.)가 new_id의 끝에 위치한다면 끝에 위치한 마침표(.) 문자를 제거합니다.\n",
    "if len(new_id5)>=16:\n",
    "    new_id6=new_id5[0:15]\n",
    "    print(new_id6)\n",
    "    if new_id6[-1]=='.':\n",
    "        new_id6.pop()\n",
    "        print(new_id6)\n",
    "else:\n",
    "    new_id6=new_id5\n",
    "    print(new_id6)\n"
   ]
  },
  {
   "cell_type": "code",
   "execution_count": 125,
   "metadata": {},
   "outputs": [
    {
     "output_type": "stream",
     "name": "stdout",
     "text": [
      "bat.y.abcdefghi\n"
     ]
    }
   ],
   "source": [
    "# 7단계 new_id의 길이가 2자 이하라면, new_id의 마지막 문자를 new_id의 길이가 3이 될 때까지 반복해서 끝에 붙입니다.\n",
    "\n",
    "\n",
    "if len(new_id6)<=2:\n",
    "    last_num=new_id6[-1]\n",
    "    new_id7=[]\n",
    "    i=0\n",
    "    while i <= 3:\n",
    "        new_id7=new_id6.append(last)\n",
    "        i=len(new_id7)\n",
    "    print(new_id7)\n",
    "else:\n",
    "    new_id7=new_id6\n",
    "    print(new_id7)\n",
    "    "
   ]
  }
 ]
}