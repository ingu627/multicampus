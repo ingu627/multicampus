{
 "metadata": {
  "language_info": {
   "codemirror_mode": {
    "name": "ipython",
    "version": 3
   },
   "file_extension": ".py",
   "mimetype": "text/x-python",
   "name": "python",
   "nbconvert_exporter": "python",
   "pygments_lexer": "ipython3",
   "version": "3.8.5"
  },
  "orig_nbformat": 4,
  "kernelspec": {
   "name": "python3",
   "display_name": "Python 3.8.5 64-bit ('base': conda)"
  },
  "interpreter": {
   "hash": "b3ba2566441a7c06988d0923437866b63cedc61552a5af99d1f4fb67d367b25f"
  }
 },
 "nbformat": 4,
 "nbformat_minor": 2,
 "cells": [
  {
   "source": [
    "1. 평균값 구하기\n",
    "다음과 같이 총 10줄로 이루어진 sample.txt 파일이 있다. sample.txt 파일의   숫자 값을 모두 읽어 총합과 평균 값을 구한 후   \n",
    "평균 값을 result.txt 파일에 쓰는 프로그램을 작성하시오.  \n",
    "70  \n",
    "60  \n",
    "55  \n",
    "75   \n",
    "95  \n",
    "90  \n",
    "80  \n",
    "80  \n",
    "85  \n",
    "100  "
   ],
   "cell_type": "markdown",
   "metadata": {}
  },
  {
   "cell_type": "code",
   "execution_count": 87,
   "metadata": {},
   "outputs": [],
   "source": [
    "import re\n",
    "\n",
    "with open('sample.txt', 'r') as f:\n",
    "    s=f.readlines()\n",
    "\n",
    "a=\"\".join(s)\n",
    "b=a.split('\\n')\n",
    "b\n",
    "\n",
    "sum=0\n",
    "avg=0\n",
    "for i in b:\n",
    "    sum+=int(i)\n",
    "\n",
    "avg=sum/len(b)\n",
    "\n",
    "\n",
    "with open('result.txt', 'w') as f:\n",
    "    f.write('총합 : %d' %sum)\n",
    "    f.write('평균 값 : %.2f' % avg)"
   ]
  },
  {
   "cell_type": "code",
   "execution_count": 30,
   "metadata": {},
   "outputs": [],
   "source": [
    "# 2. 패턴식을 정의하고 테스트 하시오  \n",
    "emails = ['python@mail.example.com', 'python+kr@example.com',              # 올바른 형식  \n",
    "          'python-lang@example.co.kr', 'python_10@example.info',         # 올바른 형식    \n",
    "          'python.lang@e-xample.com',                                    # 올바른 형식  \n",
    "          '@example.com', 'python@example', 'python@example-com']          # 잘못된 형식  "
   ]
  },
  {
   "cell_type": "code",
   "execution_count": 51,
   "metadata": {},
   "outputs": [
    {
     "output_type": "stream",
     "name": "stdout",
     "text": [
      "python@mail.example.com: True\npython+kr@example.com: True\npython-lang@example.co.kr: True\npython_10@example.info: True\npython.lang@e-xample.com: True\n@example.com: False\npython@example: False\npython@example-com: False\n"
     ]
    }
   ],
   "source": [
    "import re \n",
    "\n",
    "\n",
    "for i in emails:\n",
    "    if re.match('[\\w+-_.]+@[a-z-]+[.]+[a-z]+', i):\n",
    "        print(i+': True')\n",
    "    else:\n",
    "        print(i+': False')"
   ]
  },
  {
   "cell_type": "code",
   "execution_count": 8,
   "metadata": {},
   "outputs": [],
   "source": [
    "news=\"\"\"뜨거운 열기가 계속 쌓여만 가는 느낌인데요.\n",
    "\n",
    "현재 서울 기온은 34.5도까지 치솟으며 하루 만에 올여름 최고 기온을 경신했습니다.\n",
    "\n",
    "특히 비공식 기온이지만 서울 강북구 수유동은 무려 37.2도까지 치솟으며 사람 체온을 웃돌고 있습니다.\n",
    "\n",
    "반면, 대기 불안정으로 동쪽 지방은 호우특보 속에 요란한 소나기가 쏟아지고 있는데요.\n",
    "\n",
    "시설물 관리와 안전사고에 주의하셔야겠습니다.\n",
    "\n",
    "전국 대부분 지역에 폭염특보가 계속되는 가운데, 현재 전국에서 가장 더운 곳은 경기도 안성으로, 양성면의 기온이 37.7도까지 치솟았는데요.\n",
    "\n",
    "서울도 체감 35도 안팎의 찜통더위가 계속되고 있습니다.\n",
    "\n",
    "찌는 듯한 더위 속에 대기 불안정이 심해지면서 동쪽 내륙을 중심으로는 강한 소나기 구름이 발달하고 있는데요.\n",
    "\n",
    "강원 남부 내륙과 전북 동부에 호우특보가 내려진 가운데, 내일 새벽까지 돌풍과 벼락을 동반한 시간당 50mm 이상의 장대비가 쏟아지며, 100mm 이상의 강우량을 기록하는 곳도 있겠습니다.\n",
    "\n",
    "피해 없도록 주변 점검 철저히 해주시기 바랍니다.\n",
    "\n",
    "내일과 모레도 무더위 속에 기습적인 소나기가 지나겠고요, 일요일 전국에 비가 내린 뒤 다음 주에는 더 심한 더위가 찾아오겠습니다.\n",
    "\n",
    "연일 계속되는 무더위에 온열 질환에 걸릴 가능성도 커지고 있습니다.\n",
    "\n",
    "볕이 강한 오후 2~5시 사이 장시간의 야외 활동은 자제하시는 게 좋겠습니다.\n",
    "\n",
    "YTN 신미림입니다.\n",
    "\n",
    " \"\"\""
   ]
  },
  {
   "cell_type": "code",
   "execution_count": 9,
   "metadata": {},
   "outputs": [
    {
     "output_type": "execute_result",
     "data": {
      "text/plain": [
       "['34.5도', '37.2도', '37.7도', '35도', '50mm', '100mm']"
      ]
     },
     "metadata": {},
     "execution_count": 9
    }
   ],
   "source": [
    "re.findall('[0-9.]+도|[0-9]+mm', news)"
   ]
  }
 ]
}