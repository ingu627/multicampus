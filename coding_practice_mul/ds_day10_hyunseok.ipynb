{
 "cells": [
  {
   "cell_type": "code",
   "execution_count": 1,
   "source": [
    "'''1)각 년도별로 가장 인기있는(비율이 높은) 이름 추출 ->\r\n",
    "가장 빈도수가 높은 이름부터 낮은 이름순으로 10개 이름 출력\r\n",
    "1880년~2010년 남자 아이 이름 1등=>['John','John', ..., 'Mary']\r\n",
    "\r\n",
    "2) \r\n",
    "- names에서 성별로 나누었을때, 이름에 대한 모음 및 자음 비율?\r\n",
    "- 남자 아이 이름에 대해 가장 많이 사용된 알파벳 문자?\r\n",
    "- 여자 아이 이름에 대해 가장 많이 사용된 알파벳 문자?\r\n",
    "\r\n",
    "3) adv.\r\n",
    "남성 <-> 여성 크로스가 이루어진 이름\r\n",
    "\r\n",
    "\r\n",
    "'''"
   ],
   "outputs": [
    {
     "output_type": "execute_result",
     "data": {
      "text/plain": [
       "\"1)각 년도별로 가장 인기있는(비율이 높은) 이름 추출 ->\\n가장 빈도수가 높은 이름부터 낮은 이름순으로 10개 이름 출력\\n1880년~2010년 남자 아이 이름 1등=>['John','John', ..., 'Mary']\\n\\n2) \\n- names에서 성별로 나누었을때, 이름에 대한 모음 및 자음 비율?\\n- 남자 아이 이름에 대해 가장 많이 사용된 알파벳 문자?\\n- 여자 아이 이름에 대해 가장 많이 사용된 알파벳 문자?\\n\\n3) adv.\\n남성 <-> 여성 크로스가 이루어진 이름\\n\\n\\n\""
      ]
     },
     "metadata": {},
     "execution_count": 1
    }
   ],
   "metadata": {}
  },
  {
   "cell_type": "code",
   "execution_count": 2,
   "source": [
    "import numpy as np \r\n",
    "import pandas as pd\r\n",
    "import matplotlib.pyplot as plt\r\n",
    "from collections import Counter\r\n",
    "import seaborn as sns"
   ],
   "outputs": [],
   "metadata": {}
  },
  {
   "cell_type": "code",
   "execution_count": 3,
   "source": [
    "names=pd.read_csv('names.csv', usecols=['name', 'sex', 'births', 'year', 'prop'])"
   ],
   "outputs": [],
   "metadata": {}
  },
  {
   "cell_type": "code",
   "execution_count": 4,
   "source": [
    "names"
   ],
   "outputs": [
    {
     "output_type": "execute_result",
     "data": {
      "text/plain": [
       "              name sex  births  year      prop\n",
       "0             Mary   F    7065  1880  0.077643\n",
       "1             Anna   F    2604  1880  0.028618\n",
       "2             Emma   F    2003  1880  0.022013\n",
       "3        Elizabeth   F    1939  1880  0.021309\n",
       "4           Minnie   F    1746  1880  0.019188\n",
       "...            ...  ..     ...   ...       ...\n",
       "1690779    Zymaire   M       5  2010  0.000003\n",
       "1690780     Zyonne   M       5  2010  0.000003\n",
       "1690781  Zyquarius   M       5  2010  0.000003\n",
       "1690782      Zyran   M       5  2010  0.000003\n",
       "1690783      Zzyzx   M       5  2010  0.000003\n",
       "\n",
       "[1690784 rows x 5 columns]"
      ],
      "text/html": [
       "<div>\n",
       "<style scoped>\n",
       "    .dataframe tbody tr th:only-of-type {\n",
       "        vertical-align: middle;\n",
       "    }\n",
       "\n",
       "    .dataframe tbody tr th {\n",
       "        vertical-align: top;\n",
       "    }\n",
       "\n",
       "    .dataframe thead th {\n",
       "        text-align: right;\n",
       "    }\n",
       "</style>\n",
       "<table border=\"1\" class=\"dataframe\">\n",
       "  <thead>\n",
       "    <tr style=\"text-align: right;\">\n",
       "      <th></th>\n",
       "      <th>name</th>\n",
       "      <th>sex</th>\n",
       "      <th>births</th>\n",
       "      <th>year</th>\n",
       "      <th>prop</th>\n",
       "    </tr>\n",
       "  </thead>\n",
       "  <tbody>\n",
       "    <tr>\n",
       "      <th>0</th>\n",
       "      <td>Mary</td>\n",
       "      <td>F</td>\n",
       "      <td>7065</td>\n",
       "      <td>1880</td>\n",
       "      <td>0.077643</td>\n",
       "    </tr>\n",
       "    <tr>\n",
       "      <th>1</th>\n",
       "      <td>Anna</td>\n",
       "      <td>F</td>\n",
       "      <td>2604</td>\n",
       "      <td>1880</td>\n",
       "      <td>0.028618</td>\n",
       "    </tr>\n",
       "    <tr>\n",
       "      <th>2</th>\n",
       "      <td>Emma</td>\n",
       "      <td>F</td>\n",
       "      <td>2003</td>\n",
       "      <td>1880</td>\n",
       "      <td>0.022013</td>\n",
       "    </tr>\n",
       "    <tr>\n",
       "      <th>3</th>\n",
       "      <td>Elizabeth</td>\n",
       "      <td>F</td>\n",
       "      <td>1939</td>\n",
       "      <td>1880</td>\n",
       "      <td>0.021309</td>\n",
       "    </tr>\n",
       "    <tr>\n",
       "      <th>4</th>\n",
       "      <td>Minnie</td>\n",
       "      <td>F</td>\n",
       "      <td>1746</td>\n",
       "      <td>1880</td>\n",
       "      <td>0.019188</td>\n",
       "    </tr>\n",
       "    <tr>\n",
       "      <th>...</th>\n",
       "      <td>...</td>\n",
       "      <td>...</td>\n",
       "      <td>...</td>\n",
       "      <td>...</td>\n",
       "      <td>...</td>\n",
       "    </tr>\n",
       "    <tr>\n",
       "      <th>1690779</th>\n",
       "      <td>Zymaire</td>\n",
       "      <td>M</td>\n",
       "      <td>5</td>\n",
       "      <td>2010</td>\n",
       "      <td>0.000003</td>\n",
       "    </tr>\n",
       "    <tr>\n",
       "      <th>1690780</th>\n",
       "      <td>Zyonne</td>\n",
       "      <td>M</td>\n",
       "      <td>5</td>\n",
       "      <td>2010</td>\n",
       "      <td>0.000003</td>\n",
       "    </tr>\n",
       "    <tr>\n",
       "      <th>1690781</th>\n",
       "      <td>Zyquarius</td>\n",
       "      <td>M</td>\n",
       "      <td>5</td>\n",
       "      <td>2010</td>\n",
       "      <td>0.000003</td>\n",
       "    </tr>\n",
       "    <tr>\n",
       "      <th>1690782</th>\n",
       "      <td>Zyran</td>\n",
       "      <td>M</td>\n",
       "      <td>5</td>\n",
       "      <td>2010</td>\n",
       "      <td>0.000003</td>\n",
       "    </tr>\n",
       "    <tr>\n",
       "      <th>1690783</th>\n",
       "      <td>Zzyzx</td>\n",
       "      <td>M</td>\n",
       "      <td>5</td>\n",
       "      <td>2010</td>\n",
       "      <td>0.000003</td>\n",
       "    </tr>\n",
       "  </tbody>\n",
       "</table>\n",
       "<p>1690784 rows × 5 columns</p>\n",
       "</div>"
      ]
     },
     "metadata": {},
     "execution_count": 4
    }
   ],
   "metadata": {}
  },
  {
   "cell_type": "code",
   "execution_count": 5,
   "source": [
    "def topNameList(gr):\r\n",
    "    top10_list=[]\r\n",
    "    top10_dict={}\r\n",
    "    for year in range(1880, 2011):\r\n",
    "        years=list(gr[gr['year'] == year]['name'][:10])\r\n",
    "        top10_list.append(years)\r\n",
    "        top10_dict[f'{year}']=years\r\n",
    "\r\n",
    "    return top10_dict"
   ],
   "outputs": [],
   "metadata": {}
  },
  {
   "cell_type": "code",
   "execution_count": 6,
   "source": [
    "# topNameList(names)"
   ],
   "outputs": [],
   "metadata": {}
  },
  {
   "cell_type": "code",
   "execution_count": 7,
   "source": [
    "def topOftop_name(gr):\r\n",
    "    topNames={}\r\n",
    "    for year in range(1880, 2011):\r\n",
    "        topName = gr[(gr['year']==year) & (gr['sex']=='M')].name.iloc[0]\r\n",
    "        topNames[f'{year}']= topName\r\n",
    "        \r\n",
    "    return topNames"
   ],
   "outputs": [],
   "metadata": {}
  },
  {
   "cell_type": "code",
   "execution_count": 8,
   "source": [
    "namesTop = topOftop_name(names)"
   ],
   "outputs": [],
   "metadata": {}
  },
  {
   "cell_type": "code",
   "execution_count": 9,
   "source": [
    "Counter(namesTop.values()).most_common()"
   ],
   "outputs": [
    {
     "output_type": "execute_result",
     "data": {
      "text/plain": [
       "[('John', 44),\n",
       " ('Michael', 44),\n",
       " ('Robert', 17),\n",
       " ('James', 13),\n",
       " ('Jacob', 12),\n",
       " ('David', 1)]"
      ]
     },
     "metadata": {},
     "execution_count": 9
    }
   ],
   "metadata": {}
  },
  {
   "cell_type": "code",
   "execution_count": 10,
   "source": [
    "girls = names[names.sex=='F']\r\n",
    "boys = names[names.sex=='M']"
   ],
   "outputs": [],
   "metadata": {}
  },
  {
   "cell_type": "code",
   "execution_count": 11,
   "source": [
    "def get_vowels(gr):\r\n",
    "    vow=['a', 'e', 'i', 'o', 'u']\r\n",
    "    vows=[]\r\n",
    "    non_vows=[]\r\n",
    "    error1=0\r\n",
    "    for name in list(gr['name']):\r\n",
    "        eachName=name.lower()\r\n",
    "\r\n",
    "        for obj in list(eachName):\r\n",
    "            if obj in vow:\r\n",
    "                vows.append(obj)\r\n",
    "            else:\r\n",
    "                non_vows.append(obj)\r\n",
    "\r\n",
    "    print(f'총 모음 수 : {len(vows)}\\n총 자음 수 : {len(non_vows)}\\n모음 비율 : {(len(vows)/(len(non_vows)+len(vows)))*100:.2f}%')\r\n",
    "    print(f'가장 많이 나온 모음 : {Counter(vows).most_common(1)}')\r\n",
    "    print(f'가장 많이 나온 자음 : {Counter(non_vows).most_common(1)}')"
   ],
   "outputs": [],
   "metadata": {}
  },
  {
   "cell_type": "code",
   "execution_count": 12,
   "source": [
    "get_vowels(girls)"
   ],
   "outputs": [
    {
     "output_type": "stream",
     "name": "stdout",
     "text": [
      "총 모음 수 : 2771066\n",
      "총 자음 수 : 3550542\n",
      "모음 비율 : 43.83%\n",
      "가장 많이 나온 모음 : [('a', 1107511)]\n",
      "가장 많이 나온 자음 : [('n', 587306)]\n"
     ]
    }
   ],
   "metadata": {}
  },
  {
   "cell_type": "code",
   "execution_count": 60,
   "source": [
    "get_vowels(boys)"
   ],
   "outputs": [
    {
     "output_type": "stream",
     "name": "stdout",
     "text": [
      "총 모음 수 : 1616902\n",
      "총 자음 수 : 2498850\n",
      "모음 비율 : 39.29%\n",
      "가장 많이 나온 모음 : [('a', 473874)]\n",
      "가장 많이 나온 자음 : [('n', 367913)]\n"
     ]
    }
   ],
   "metadata": {}
  },
  {
   "cell_type": "code",
   "execution_count": 65,
   "source": [
    "girl_prop = names[names['sex'] == 'F'].set_index('year').loc[1880, ['name', 'prop']]\r\n",
    "girl_prop"
   ],
   "outputs": [
    {
     "output_type": "execute_result",
     "data": {
      "text/plain": [
       "           name      prop\n",
       "year                     \n",
       "1880       Mary  0.077643\n",
       "1880       Anna  0.028618\n",
       "1880       Emma  0.022013\n",
       "1880  Elizabeth  0.021309\n",
       "1880     Minnie  0.019188\n",
       "...         ...       ...\n",
       "1880        Ula  0.000055\n",
       "1880     Vannie  0.000055\n",
       "1880     Verona  0.000055\n",
       "1880     Vertie  0.000055\n",
       "1880      Wilma  0.000055\n",
       "\n",
       "[942 rows x 2 columns]"
      ],
      "text/html": [
       "<div>\n",
       "<style scoped>\n",
       "    .dataframe tbody tr th:only-of-type {\n",
       "        vertical-align: middle;\n",
       "    }\n",
       "\n",
       "    .dataframe tbody tr th {\n",
       "        vertical-align: top;\n",
       "    }\n",
       "\n",
       "    .dataframe thead th {\n",
       "        text-align: right;\n",
       "    }\n",
       "</style>\n",
       "<table border=\"1\" class=\"dataframe\">\n",
       "  <thead>\n",
       "    <tr style=\"text-align: right;\">\n",
       "      <th></th>\n",
       "      <th>name</th>\n",
       "      <th>prop</th>\n",
       "    </tr>\n",
       "    <tr>\n",
       "      <th>year</th>\n",
       "      <th></th>\n",
       "      <th></th>\n",
       "    </tr>\n",
       "  </thead>\n",
       "  <tbody>\n",
       "    <tr>\n",
       "      <th>1880</th>\n",
       "      <td>Mary</td>\n",
       "      <td>0.077643</td>\n",
       "    </tr>\n",
       "    <tr>\n",
       "      <th>1880</th>\n",
       "      <td>Anna</td>\n",
       "      <td>0.028618</td>\n",
       "    </tr>\n",
       "    <tr>\n",
       "      <th>1880</th>\n",
       "      <td>Emma</td>\n",
       "      <td>0.022013</td>\n",
       "    </tr>\n",
       "    <tr>\n",
       "      <th>1880</th>\n",
       "      <td>Elizabeth</td>\n",
       "      <td>0.021309</td>\n",
       "    </tr>\n",
       "    <tr>\n",
       "      <th>1880</th>\n",
       "      <td>Minnie</td>\n",
       "      <td>0.019188</td>\n",
       "    </tr>\n",
       "    <tr>\n",
       "      <th>...</th>\n",
       "      <td>...</td>\n",
       "      <td>...</td>\n",
       "    </tr>\n",
       "    <tr>\n",
       "      <th>1880</th>\n",
       "      <td>Ula</td>\n",
       "      <td>0.000055</td>\n",
       "    </tr>\n",
       "    <tr>\n",
       "      <th>1880</th>\n",
       "      <td>Vannie</td>\n",
       "      <td>0.000055</td>\n",
       "    </tr>\n",
       "    <tr>\n",
       "      <th>1880</th>\n",
       "      <td>Verona</td>\n",
       "      <td>0.000055</td>\n",
       "    </tr>\n",
       "    <tr>\n",
       "      <th>1880</th>\n",
       "      <td>Vertie</td>\n",
       "      <td>0.000055</td>\n",
       "    </tr>\n",
       "    <tr>\n",
       "      <th>1880</th>\n",
       "      <td>Wilma</td>\n",
       "      <td>0.000055</td>\n",
       "    </tr>\n",
       "  </tbody>\n",
       "</table>\n",
       "<p>942 rows × 2 columns</p>\n",
       "</div>"
      ]
     },
     "metadata": {},
     "execution_count": 65
    }
   ],
   "metadata": {}
  },
  {
   "cell_type": "code",
   "execution_count": 66,
   "source": [
    "boy_prop = names[names['sex'] == 'M'].set_index('year').loc[1880, ['name', 'prop']]\r\n",
    "boy_prop"
   ],
   "outputs": [
    {
     "output_type": "execute_result",
     "data": {
      "text/plain": [
       "           name      prop\n",
       "year                     \n",
       "1880       John  0.087381\n",
       "1880    William  0.086277\n",
       "1880      James  0.053641\n",
       "1880    Charles  0.048401\n",
       "1880     George  0.046392\n",
       "...         ...       ...\n",
       "1880     Woodie  0.000045\n",
       "1880     Worthy  0.000045\n",
       "1880     Wright  0.000045\n",
       "1880       York  0.000045\n",
       "1880  Zachariah  0.000045\n",
       "\n",
       "[1058 rows x 2 columns]"
      ],
      "text/html": [
       "<div>\n",
       "<style scoped>\n",
       "    .dataframe tbody tr th:only-of-type {\n",
       "        vertical-align: middle;\n",
       "    }\n",
       "\n",
       "    .dataframe tbody tr th {\n",
       "        vertical-align: top;\n",
       "    }\n",
       "\n",
       "    .dataframe thead th {\n",
       "        text-align: right;\n",
       "    }\n",
       "</style>\n",
       "<table border=\"1\" class=\"dataframe\">\n",
       "  <thead>\n",
       "    <tr style=\"text-align: right;\">\n",
       "      <th></th>\n",
       "      <th>name</th>\n",
       "      <th>prop</th>\n",
       "    </tr>\n",
       "    <tr>\n",
       "      <th>year</th>\n",
       "      <th></th>\n",
       "      <th></th>\n",
       "    </tr>\n",
       "  </thead>\n",
       "  <tbody>\n",
       "    <tr>\n",
       "      <th>1880</th>\n",
       "      <td>John</td>\n",
       "      <td>0.087381</td>\n",
       "    </tr>\n",
       "    <tr>\n",
       "      <th>1880</th>\n",
       "      <td>William</td>\n",
       "      <td>0.086277</td>\n",
       "    </tr>\n",
       "    <tr>\n",
       "      <th>1880</th>\n",
       "      <td>James</td>\n",
       "      <td>0.053641</td>\n",
       "    </tr>\n",
       "    <tr>\n",
       "      <th>1880</th>\n",
       "      <td>Charles</td>\n",
       "      <td>0.048401</td>\n",
       "    </tr>\n",
       "    <tr>\n",
       "      <th>1880</th>\n",
       "      <td>George</td>\n",
       "      <td>0.046392</td>\n",
       "    </tr>\n",
       "    <tr>\n",
       "      <th>...</th>\n",
       "      <td>...</td>\n",
       "      <td>...</td>\n",
       "    </tr>\n",
       "    <tr>\n",
       "      <th>1880</th>\n",
       "      <td>Woodie</td>\n",
       "      <td>0.000045</td>\n",
       "    </tr>\n",
       "    <tr>\n",
       "      <th>1880</th>\n",
       "      <td>Worthy</td>\n",
       "      <td>0.000045</td>\n",
       "    </tr>\n",
       "    <tr>\n",
       "      <th>1880</th>\n",
       "      <td>Wright</td>\n",
       "      <td>0.000045</td>\n",
       "    </tr>\n",
       "    <tr>\n",
       "      <th>1880</th>\n",
       "      <td>York</td>\n",
       "      <td>0.000045</td>\n",
       "    </tr>\n",
       "    <tr>\n",
       "      <th>1880</th>\n",
       "      <td>Zachariah</td>\n",
       "      <td>0.000045</td>\n",
       "    </tr>\n",
       "  </tbody>\n",
       "</table>\n",
       "<p>1058 rows × 2 columns</p>\n",
       "</div>"
      ]
     },
     "metadata": {},
     "execution_count": 66
    }
   ],
   "metadata": {}
  },
  {
   "cell_type": "code",
   "execution_count": 75,
   "source": [
    "def intersection_to_prop(gr):\r\n",
    "list(set(list(girl_prop['name'])) & set(list(boy_prop['name'])))[0]"
   ],
   "outputs": [
    {
     "output_type": "execute_result",
     "data": {
      "text/plain": [
       "'Mattie'"
      ]
     },
     "metadata": {},
     "execution_count": 75
    }
   ],
   "metadata": {}
  },
  {
   "cell_type": "code",
   "execution_count": 84,
   "source": [
    "girl_prop.loc[girl_prop['name'] ==list(set(list(girl_prop['name'])) & set(list(boy_prop['name'])))[0]].prop"
   ],
   "outputs": [
    {
     "output_type": "execute_result",
     "data": {
      "text/plain": [
       "year\n",
       "1880    0.007737\n",
       "Name: prop, dtype: float64"
      ]
     },
     "metadata": {},
     "execution_count": 84
    }
   ],
   "metadata": {}
  },
  {
   "cell_type": "code",
   "execution_count": 93,
   "source": [
    "def intersection_to_prop(gr1, gr2):\r\n",
    "    return list(set(list(gr1['name'])) & set(list(gr2['name'])) )"
   ],
   "outputs": [],
   "metadata": {}
  },
  {
   "cell_type": "code",
   "execution_count": 95,
   "source": [
    "intersection_to_prop(girl_prop, boy_prop)"
   ],
   "outputs": [
    {
     "output_type": "execute_result",
     "data": {
      "text/plain": [
       "['Mattie',\n",
       " 'Clara',\n",
       " 'Clair',\n",
       " 'Frances',\n",
       " 'Glenn',\n",
       " 'Sidney',\n",
       " 'Hope',\n",
       " 'Jewel',\n",
       " 'Connie',\n",
       " 'Flora',\n",
       " 'Dee',\n",
       " 'Merle',\n",
       " 'Hattie',\n",
       " 'Theo',\n",
       " 'Louie',\n",
       " 'Ivy',\n",
       " 'Oda',\n",
       " 'Sammie',\n",
       " 'Anna',\n",
       " 'William',\n",
       " 'Daisy',\n",
       " 'Jesse',\n",
       " 'Ethel',\n",
       " 'Carrie',\n",
       " 'Bertie',\n",
       " 'Harry',\n",
       " 'Ira',\n",
       " 'Ida',\n",
       " 'Edgar',\n",
       " 'Marion',\n",
       " 'Artie',\n",
       " 'Rose',\n",
       " 'Joe',\n",
       " 'Emma',\n",
       " 'Cecil',\n",
       " 'Pearl',\n",
       " 'Clarence',\n",
       " 'George',\n",
       " 'John',\n",
       " 'Johnnie',\n",
       " 'Elsie',\n",
       " 'Thomas',\n",
       " 'Clare',\n",
       " 'Florence',\n",
       " 'Ray',\n",
       " 'Fred',\n",
       " 'Willie',\n",
       " 'Bennie',\n",
       " 'Leo',\n",
       " 'Charles',\n",
       " 'Nora',\n",
       " 'Jean',\n",
       " 'Lonnie',\n",
       " 'Annie',\n",
       " 'Vernie',\n",
       " 'Vivian',\n",
       " 'Walter',\n",
       " 'Claude',\n",
       " 'Mary',\n",
       " 'Minnie',\n",
       " 'Ollie',\n",
       " 'Jimmie',\n",
       " 'Lou',\n",
       " 'Alva',\n",
       " 'Robert',\n",
       " 'Myrtle',\n",
       " 'Nellie',\n",
       " 'Tommie',\n",
       " 'James',\n",
       " 'Ossie',\n",
       " 'Dora',\n",
       " 'June',\n",
       " 'Elizabeth',\n",
       " 'Ora',\n",
       " 'Arthur',\n",
       " 'Jennie',\n",
       " 'Clyde',\n",
       " 'Francis',\n",
       " 'Addie',\n",
       " 'Eliza',\n",
       " 'Dell',\n",
       " 'Lacy',\n",
       " 'Augusta',\n",
       " 'Henry',\n",
       " 'Eddie',\n",
       " 'Alpha',\n",
       " 'Allie',\n",
       " 'Jessie',\n",
       " 'Lee',\n",
       " 'Lynn',\n",
       " 'Shirley',\n",
       " 'Cleo',\n",
       " 'Clifford',\n",
       " 'Ruby',\n",
       " 'Augustine',\n",
       " 'Bird',\n",
       " 'Lillie',\n",
       " 'Alma',\n",
       " 'Frank',\n",
       " 'Leslie',\n",
       " 'Erie',\n",
       " 'Freddie',\n",
       " 'Katherine',\n",
       " 'Carey',\n",
       " 'Edith',\n",
       " 'Joseph',\n",
       " 'Fay',\n",
       " 'Hallie',\n",
       " 'Cora',\n",
       " 'Louis',\n",
       " 'Grace']"
      ]
     },
     "metadata": {},
     "execution_count": 95
    }
   ],
   "metadata": {}
  },
  {
   "cell_type": "code",
   "execution_count": 100,
   "source": [
    "gprop= girl_prop.loc[girl_prop['name'] ==intersection_to_prop(girl_prop, boy_prop)[0]].prop\r\n",
    "bprop= boy_prop.loc[boy_prop['name'] ==intersection_to_prop(girl_prop, boy_prop)[0]].prop"
   ],
   "outputs": [],
   "metadata": {}
  },
  {
   "cell_type": "code",
   "execution_count": 108,
   "source": [
    "gprop - bprop"
   ],
   "outputs": [
    {
     "output_type": "execute_result",
     "data": {
      "text/plain": [
       "year\n",
       "1880    0.007692\n",
       "Name: prop, dtype: float64"
      ]
     },
     "metadata": {},
     "execution_count": 108
    }
   ],
   "metadata": {}
  }
 ],
 "metadata": {
  "orig_nbformat": 4,
  "language_info": {
   "name": "python",
   "version": "3.8.5",
   "mimetype": "text/x-python",
   "codemirror_mode": {
    "name": "ipython",
    "version": 3
   },
   "pygments_lexer": "ipython3",
   "nbconvert_exporter": "python",
   "file_extension": ".py"
  },
  "kernelspec": {
   "name": "python3",
   "display_name": "Python 3.8.5 64-bit ('base': conda)"
  },
  "interpreter": {
   "hash": "b3ba2566441a7c06988d0923437866b63cedc61552a5af99d1f4fb67d367b25f"
  }
 },
 "nbformat": 4,
 "nbformat_minor": 2
}