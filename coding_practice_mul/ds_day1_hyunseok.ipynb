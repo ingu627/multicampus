{
 "metadata": {
  "language_info": {
   "codemirror_mode": {
    "name": "ipython",
    "version": 3
   },
   "file_extension": ".py",
   "mimetype": "text/x-python",
   "name": "python",
   "nbconvert_exporter": "python",
   "pygments_lexer": "ipython3",
   "version": "3.8.5"
  },
  "orig_nbformat": 4,
  "kernelspec": {
   "name": "python3",
   "display_name": "Python 3.8.5 64-bit ('base': conda)"
  },
  "interpreter": {
   "hash": "b3ba2566441a7c06988d0923437866b63cedc61552a5af99d1f4fb67d367b25f"
  }
 },
 "nbformat": 4,
 "nbformat_minor": 2,
 "cells": [
  {
   "cell_type": "code",
   "execution_count": null,
   "metadata": {},
   "outputs": [],
   "source": [
    "1. 딕셔너리에 저장된 자료가 다음과 같다.\n",
    "\n",
    "data = {\n",
    "    \"철수\": 98,\n",
    "    \"영희\": 80,\n",
    "    \"순이\": 100,\n",
    "    \"돌이\": 70,\n",
    "}\n",
    "\n",
    "for문을 사용하여 다음과 같이 출력하는 코드를 만들어라.\n",
    "\n",
    "철수        98\n",
    "영희        80\n",
    "순이       100\n",
    "돌이        70\n",
    "================\n",
    "평균        87"
   ]
  },
  {
   "cell_type": "code",
   "execution_count": 24,
   "metadata": {},
   "outputs": [
    {
     "output_type": "stream",
     "name": "stdout",
     "text": [
      "철수      98\n영희      80\n순이      100\n돌이      70\n=============\n평균      87\n"
     ]
    }
   ],
   "source": [
    "data = {\n",
    "    \"철수\": 98,\n",
    "    \"영희\": 80,\n",
    "    \"순이\": 100,\n",
    "    \"돌이\": 70,\n",
    "}\n",
    "\n",
    "sum=0\n",
    "\n",
    "for i in range(len(data)):\n",
    "    print(list(data.keys())[i],'    ',list(data.values())[i])\n",
    "    sum+=list(data.values())[i]\n",
    "\n",
    "print(\"=============\")\n",
    "print('평균     ',sum//len(data))"
   ]
  },
  {
   "cell_type": "code",
   "execution_count": null,
   "metadata": {},
   "outputs": [],
   "source": [
    "2. 다음은 학생 이름과 점수가 들어간 리스트의 리스트 변수다.\n",
    "\n",
    "x = [\n",
    "  [\"길동\", 90],\n",
    "  [\"철수\", 80],\n",
    "  [\"영수\", 70],\n",
    "  [\"방자\", 60],\n",
    "]\n",
    "\n",
    "res=['길동',철수',...'방자']\n",
    "복수 할당과 zip 명령을 사용하여 이 변수에서 학생 이름만 있는 변수를 만들어라."
   ]
  },
  {
   "cell_type": "code",
   "execution_count": 32,
   "metadata": {},
   "outputs": [
    {
     "output_type": "stream",
     "name": "stdout",
     "text": [
      "['길동', '철수', '영수', '방자']\n"
     ]
    }
   ],
   "source": [
    "x = [\n",
    "  [\"길동\", 90],\n",
    "  [\"철수\", 80],\n",
    "  [\"영수\", 70],\n",
    "  [\"방자\", 60],\n",
    "]\n",
    "res=[]\n",
    "\n",
    "for i in range(len(x)):\n",
    "    res.append(x[i][0])\n",
    "print(res)"
   ]
  },
  {
   "cell_type": "code",
   "execution_count": 49,
   "metadata": {},
   "outputs": [
    {
     "output_type": "stream",
     "name": "stdout",
     "text": [
      "[('길동', 90), ('철수', 80), ('영수', 70), ('방자', 60)]\n"
     ]
    }
   ],
   "source": [
    "x = [\n",
    "  [\"길동\", 90],\n",
    "  [\"철수\", 80],\n",
    "  [\"영수\", 70],\n",
    "  [\"방자\", 60],\n",
    "]\n",
    "\n",
    "res=['길동','철수','영수','방자']\n",
    "num=[90,80,70,60]\n",
    "\n",
    "name_num=list(zip(res,num))\n",
    "print(name_num)\n"
   ]
  },
  {
   "cell_type": "code",
   "execution_count": null,
   "metadata": {},
   "outputs": [],
   "source": [
    "3. 스크래핑 해보세요\n",
    "주소 : https://movie.naver.com/movie/bi/mi/basic.naver?code=184318#"
   ]
  },
  {
   "cell_type": "code",
   "execution_count": 34,
   "metadata": {},
   "outputs": [
    {
     "output_type": "stream",
     "name": "stdout",
     "text": [
      "로고 이미지 다운로드 완료\n"
     ]
    }
   ],
   "source": [
    "import urllib.request\n",
    "\n",
    "urllib.request.urlretrieve('https://movie-phinf.pstatic.net/20210617_272/1623906098516QjpeS_JPEG/movie_image.jpg?type=n77_110_2', 'black_widow.jpg')\n",
    "print('로고 이미지 다운로드 완료')"
   ]
  },
  {
   "cell_type": "code",
   "execution_count": null,
   "metadata": {},
   "outputs": [],
   "source": [
    "# content > div.article > div.section_group.section_group_frst > div:nth-child(1)"
   ]
  },
  {
   "cell_type": "code",
   "execution_count": 37,
   "metadata": {
    "tags": [
     "outputPrepend"
    ]
   },
   "outputs": [
    {
     "output_type": "stream",
     "name": "stdout",
     "text": [
      "\"></a><!-- N=a:btm.top -->\n</div>\n<script type=\"text/javascript\">\njindo.$Fn(function () {\n    var welTopAnchor = jindo.$Element('floatingTopAnchor');\n    var welContent = jindo.$Element('content');\n    var nTopMargin = 342 + welTopAnchor.height();\n    var nMaxY;\n    var nMinY = 61;\n    var oFloatingLayer = new jindo.FloatingLayer(welTopAnchor).attach({\n        beforeMove: function (oEvent) {\n            // 상단 limit\n            nMaxY = welContent.height() - nTopMargin;\n            if (oEvent.nY > nMaxY) {\n                oEvent.nY = nMaxY;\n            }\n\n             // 하단 limit\n            if (oEvent.nY < nMinY) {\n                oEvent.nY = nMinY;\n            }\n        }\n    });\n}).attach(window, 'load');\n</script>\n</div>\n\n<form id=\"reportForm\"></form>\n\n<script type=\"text/javascript\">\nvar makingnotePhaseClassName = \"con_tx no_bt\";\nvar elMakingnotePhaseHeight = 630;\n\nvar storyAndNote = {\n\t\ttoggleMakingnote : function() {\n\t\tvar elToggleMakingnoteButton = jindo.$Element(\"toggleMakingnoteButton\");\n\t\tvar eMakingNoteDiv = jindo.$(\"makingNoteDiv\");\n\t\tvar elMakingnotePhase = jindo.$Element(\"makingnotePhase\");\n\t\tvar elMoreMakingnoteButton = jindo.$Element(\"moreMakingnoteButton\");\n\t\t\n\t\tif ( elToggleMakingnoteButton.className() == \"story_more\" ) {\n\t\t\telToggleMakingnoteButton.className(\"story_more story_more_on\");\n\t\t\t\n\t\t\tif (eMakingNoteDiv != null && eMakingNoteDiv != \"undefined\") {\n\t\t\t\teMakingNoteDiv.style.display=\"\";\n\t\t\t\t\n\t\t\t\tif (elMakingnotePhase != null && elMakingnotePhase != \"undefined\") {\n\t\t\t\t\tif (elMakingnotePhase.height() == elMakingnotePhaseHeight) {\n\t\t\t\t\t\telMakingnotePhase.className(\"con_tx\");\n\t\t\t\t\t\tmakingnotePhaseClassName = \"con_tx\";\n\t\t\t\t\t} else if (elMakingnotePhase.height() > elMakingnotePhaseHeight) {\n\t\t\t\t\t\telMakingnotePhase.height(elMakingnotePhaseHeight);\n\t\t\t\t\t\telMakingnotePhase.className(\"con_tx\");\n\t\t\t\t\t\tmakingnotePhaseClassName = \"con_tx\";\n\t\t\t\t\t}\n\t\t\t\t}\n\t\t\t}\n\t\t} else {\n\t\t\telToggleMakingnoteButton.className(\"story_more\");\n\t\t\telMoreMakingnoteButton.className(\"story_more\");\n\t\t\tif (eMakingNoteDiv != null && eMakingNoteDiv != \"undefined\") {\n\t\t\t\teMakingNoteDiv.style.display=\"none\";\n\t\t\t}\n\t\t}\n\t},\n\n\tmoreMakingnote : function() {\n\t\tvar elMakingnotePhase  = jindo.$Element(\"makingnotePhase\");\n\t\tvar elMoreMakingnoteButton = jindo.$Element(\"moreMakingnoteButton\");\n\t\t\n\t\t//내용 더 보기버튼 일때\n\t\tif (elMakingnotePhase.className() == \"con_tx\") {\n\t\t\telMakingnotePhase.className(\"con_tx height100\");\n\t\t\telMoreMakingnoteButton.className(\"story_more_on\");\t\t\n\t\t} \n\t\t//제작노트 접기 버튼일때\n\t\telse {\n\t\t\tvar enableScrollMove = false;\n\t\t\t\n\t\t\tif (elMakingnotePhase.height() > elMakingnotePhaseHeight) {\n\t\t\t\tenableScrollMove = true;\n\t\t\t}\n\n\t\t\tstoryAndNote.toggleMakingnote();\n\t\t\telMakingnotePhase.className(makingnotePhaseClassName);\n\t\t\telMoreMakingnoteButton.className(\"story_more\");\n\t\t\t\n\t\t\tif (enableScrollMove) {\n\t\t\t\tjindo.$(\"tab\").scrollIntoView(true);\n\t\t\t}\n\t\t}\n\n\t}\n};\n\n\nfunction checkAlreadyPointAfterExistForDeletePoint (nid) {\n\tvar existPointType = \"pointBefore\";\n\t\n\tif (true) {\n\t\tvar oAjax = new jindo.$Ajax(\"/api/internal/point/pointAfterExistJson.naver\", {\n\t    \tonload : function (oRes) {\n\t    \t\tvar resultCode = oRes.json().resultCode;\n\t    \t\t\n\t    \t\tif (resultCode == \"error\") {\t\t\t\t\t\t\t// 서버 오류\n\t    \t\t\talert(\"오류가 발생했습니다. 잠시 후 다시 시도해주세요.\");\n\t    \t\t\treturn false;\n\t    \t\t} else {\n\t    \t\t\texistPointType = oRes.json().existPointType;\n\t    \t\t\tpoint.del(existPointType, nid);\n\t    \t\t}\n\t    \t},\n\t\t\ttimeout : 5,\n\t    \tonerror : function (oRes) {\n\t    \t\talert(\"오류가 발생했습니다. 잠시 후 다시 시도해주세요.\");\n\t    \t\treturn false;\n\t    \t},\n\t    \tontimeout : function (oRes) {\n\t    \t\talert(\"처리가 지연되고 있습니다. 다시 시도해주세요.\");\n\t    \t\treturn false;\n\t    \t}\n\t    });\n\t    \n\t    oAjax.request({\n\t    \t\"movieCode\" : \"184318\",\n\t    \t\"isActualPoint\" : \"\"\n\t    });\n\t} else {\n\t\tpoint.del(existPointType, nid);\n\t}\n}\n\nvar point = {\n\t\ttoggleMyPoint : function () {\n\t\t\tif (jindo.$(\"myPointLayer\").style.display == \"none\") {\n\t\t\t\tjindo.$(\"myPointLayer\").style.display = \"\";\n\t\t\t} else {\n\t\t\t\tjindo.$(\"myPointLayer\").style.display = \"none\";\n\t\t\t}\n\t\t},\n\t\t\n\t\tdel : function (existPointType, nid) {\n\t\t\tif (existPointType == \"actualPoint\") {\n\t\t\t\tif (confirm(\"관람객 평점 삭제시, 평점 작성으로 적립된 포인트는 회수됩니다. 평점을 삭제할까요?\") == false) {\n\t\t\t\t\treturn false;\n\t\t\t\t}\n\t\t\t} else {\n\t\t\t\tif (confirm(\"본인 삭제 시 복구할 수 없습니다.\\n평점을 삭제하시겠습니까?\") == false) {\n\t\t\t\t\treturn false;\n\t\t\t\t}\n\t\t\t}\n\t\t\t\n\t\t\tvar deleteApiUrl = \"/api/internal/point/pointBeforeDelete.naver\";\n\t\t\tif (true) {\n\t\t\t\tdeleteApiUrl = \"/api/internal/point/pointAfterDelete.naver\";\n\t\t\t}\n\t\t\t\n\t\t\tvar ajax = new jindo.$Ajax(deleteApiUrl, { \n\t\t\t\tmethod : \"POST\",\n\t\t\t\tasync : false,\n\t\t\t\tonload : this.delCallback\n\t\t\t});\n\t\t\tajax.header(\"ajax\", \"true\");\n\t\t\tajax.request({\n\t\t\t\t\"nid\":nid\n\t\t\t});\n\t\t},\n\t\t\n\t\tdelCallback : function(req) {\n\t\t\tvar returnValue = req.text();\n\t\t\t\n\t\t\tif(returnValue != \"success\"){\n\t\t\t\talert(returnValue);\n\t\t\t\treturn;\n\t\t\t}\n\t\t\t\n\t\t\ttop.location.reload(true);\n\t\t}\n};\n\nfunction toggleDropBox(id) {\n\twel = jindo.$Element(id);\n\tif (wel) {\n\t\twel.toggle();\n\t}\n}\n\nfunction reservation(mcode, mtype, gcode, tcode, date, time, bOutLink) {\n\tvar url = \"/movie/reservation/index.naver?\";\n\tvar param = \"rmcode=\" + mcode + \"_\" + mtype;\n\tparam = param + \"&gcode=\" + gcode;\n\tparam = param + \"&tcode=\" + tcode;\n\tparam = param + \"&date=\" + date;\n\tparam = param + \"&time=\" + time;\n\n\t\n\tif (bOutLink) {\n\t\twindow.open(url + param);\n\t} else {\n\t\tlocation.href = url + param;\n\t}\n}\n\nfunction showPointListByNid(nid){\n\t\n\t\t\n\t\t\n\t\tlocation.href = location.protocol + \"//\" + location.hostname + \"/movie/point/af/list.naver?st=nickname&target=after&sword=\"+nid;\n\t\t\n\t\n}\n\n// 스포일러 감상평 내용 보기\nfunction showMovieReview(rvwIdx) {\n    jindo.$Element('_text_spo_' + rvwIdx).css('display', 'none');\n    jindo.$Element('_filtered_ment_' + rvwIdx).css('display', 'block');\n}\n\n// 감상평 펼쳐보기\nfunction unfoldPointMent(obj) {\n    var fullMent = jindo.$Element(obj).attr(\"data-src\");\n    jindo.$Element(obj).parent().html(fullMent);\n}\n\njindo.$Fn(function() {\n\t\n\t\tvar elMakingnotePhase = jindo.$Element('makingnotePhase');\n\t\t\n\t\tif (elMakingnotePhase.height() == elMakingnotePhaseHeight) {\n\t\t\telMakingnotePhase.className(\"con_tx\");\n\t\t\tmakingnotePhaseClassName = \"con_tx\";\n\t\t} else if (elMakingnotePhase.height() > elMakingnotePhaseHeight) {\n\t\t\telMakingnotePhase.height(630);\n\t\t\telMakingnotePhase.className(\"con_tx\");\n\t\t\tmakingnotePhaseClassName = \"con_tx\";\n\t\t}\n\t\n}).attach(document, \"domready\");\n\nif(false == true) {\n\tif(jindo.$Element(\"btn_interest_basic\") != null && jindo.$Element(\"btn_notInterest_basic\") != null) {\n\t\tjindo.$Element(\"btn_interest_basic\").attach(\"click\", function(e){\n\t\t\te.stop(jindo.$Event.CANCEL_DEFAULT);\n\t\t\tqueryAndUpdatePreference('184318','interest');\n\t\t});\n\t\t\n\t\tjindo.$Element(\"btn_notInterest_basic\").attach(\"click\", function(e){\n\t\t\te.stop(jindo.$Event.CANCEL_DEFAULT);\n\t\t\tqueryAndUpdatePreference('184318','notInterest');\n\t\t});\n\t}\n}\n\tvar ctlToolTip = {\n\t\ttoggleTooltip: function() {\n\t\t\tvar status = jindo.$(\"aitems_tooltip\").style.display = jindo.$(\"aitems_tooltip\").style.display;\n\t\t\tjindo.$(\"aitems_tooltip\").style.display = jindo.$(\"aitems_tooltip\").style.display = status === \"block\"? \"\" : \"block\";\n\t\t},\n\t}\n</script>\n\n\n<script type=\"text/javascript\">\n\tvar sympathy = new Sympathy(\"184318\", \"after\");\n</script>\n\n\n<!-- //content -->\n\t</div>\n\t<!-- //container -->\n\t\n\t<!-- footer -->\n\t\n\n\n\n<div id=\"footer\">\n\t<div class=\"in_footer\">\n\t\t<div class=\"foot_con\">\n\t\t\t\t<ul>\n\t\t\t\t\t<li class=\"first\"><a href=\"http://www.naver.com/rules/service.html\" target=\"_blank\">이용약관</a><!-- N=a:fot.agreement --></li>\n\t\t\t\t\t<li><a href=\"http://www.naver.com/rules/privacy.html\" target=\"_blank\"><strong>개인정보처리방침</strong></a><!-- N=a:fot.privacy --></li>\n\t\t\t\t\t<li><a href=\"http://www.naver.com/rules/disclaimer.html\" target=\"_blank\">책임의 한계와 법적고지</a><!-- N=a:fot.disclaimer --></li>\n\t\t\t\t\t<li><a href=\"https://help.naver.com/support/service/main.nhn?serviceNo=800\" target=\"_blank\">영화 고객센터</a><!-- N=a:fot.help --></li>\n\t\t\t\t</ul>\n\t\t\t\t<p class=\"info\">본 콘텐츠의 저작권은 저작권자 또는 제공처에 있으며, 이를 무단 이용하는 경우 저작권법 등에 따라 법적 책임을 질 수 있습니다.</p>\n\t\t\t\t<p class=\"info\">\n\t\t\t\t\t사업자등록번호 : 220-81-62517<span>통신판매업 신고번호</span> : 경기성남 제 2006 - 692호<span>대표이사 : 한성숙</span><span><a href=\"http://www.ftc.go.kr/info/bizinfo/communicationList.jsp\">사업자등록정보 확인</a><!-- N=a:fot.bizinfo --></span><br>\n\t\t\t\t\t주소 : 경기도 성남시 분당구 불정로 6 네이버 그린팩토리 <span>대표전화 : 1588-3820</span>\n\t\t\t\t</p> \n\t\t\t\t<address>\n\t\t\t\t\t<a href=\"https://www.navercorp.com/\" target=\"_blank\" class=\"logo\"><img src=\"https://ssl.pstatic.net/static/movie/2013/07/logo_naver.png\" width=\"63\" height=\"11\" alt=\"NAVER\"></a><!-- N=a:fot.nhn -->\n\t\t\t\t\t<em>Copyright ©</em>\n\t\t\t\t\t<a href=\"https://www.navercorp.com/\" target=\"_blank\">NAVER Corp.</a><!-- N=a:fot.corp -->\n\t\t\t\t\t<span>All Rights Reserved.</span>\n\t\t\t\t</address>\n\t\t</div>\n\t</div>\n</div>\n\n\n\n\n\n\n\n\n<script type=\"text/javascript\">\n\nif (false) {\n\tvar alertType = \"NONE\";\n\tvar koreanTitle = \"\";\n\tvar movieCode = \"0\";\n\tvar userReserveCount = \"0\";\n\tvar todayDatetime = \"20210719172049\";\n\tvar endDatetimeAfterTwoDays = \"00000000000000\";\n\t\n\t\n\tif (movieCode > 0) {\n\t\topenWriteActualPointAlert (alertType, koreanTitle, movieCode, userReserveCount, todayDatetime, endDatetimeAfterTwoDays);\n\t}\n}\n\nfunction openWriteActualPointAlert (alertType, koreanTitle, movieCode, count, today, endDate) {\n\tif (alertType == \"ONE\") {\n\t\tsetCookieLastUserReserveDate(today, endDate);\n\t\tif (confirm(\"관람하신 \" + koreanTitle + \"에\\n평점 등록 시 네이버페이 포인트 500원 적립!\\n지금 평점쓰기 메뉴로 이동하시겠습니까?\")) {\n\t\t\ttop.location.href = \"https://movie.naver.com/movie/bi/mi/point.naver?code=\" + movieCode;\n\t\t}\n\t} else if (alertType == \"MORE\") {\n\t\tsetCookieLastUserReserveDate(today, endDate);\n\t\tif (confirm(\"관람하신 작품에 평점을 등록해주세요\\n작품당 네이버페이 포인트 500원씩 적립!\\n평점 미등록작 리스트를 확인하시겠습니까?\")) {\n\t\t\ttop.location.href = \"http://ticket.movie.naver.com/Order/OverdueList.aspx\";\n\t\t}\n\t}\n}\n\nfunction setCookieLastUserReserveDate(today, endDate) {\n\tvar cookieForNotOpenActualPointPopup = jindo.$Cookie();\n\t\n\t\n\tcookieForNotOpenActualPointPopup.remove(\"lastUserReserveDatetime\");\n\tcookieForNotOpenActualPointPopup.remove(\"lastUserReserveCheckDatetime\");\n\t\n\tcookieForNotOpenActualPointPopup.set(\"lastUserReserveDatetime\", endDate, 9999, \"movie.naver.com\");\n\tcookieForNotOpenActualPointPopup.set(\"lastUserReserveCheckDatetime\", today, 9999, \"movie.naver.com\");\n}\n\n</script>\n\n\n\n\n\n\n\n\n<script type=\"text/javascript\">\n\t\n\t\t\n\t\t\n\t\t\n\t\t\n\t\t\tvar alertMessage = \"지원되지 않는 브라우저로 서비스 이용에 제한이 있습니다.\";\n\t\t\n\t\n\n\tfunction getBrowser() {\n\t\tvar ua = navigator.userAgent;\n\t\tif (/NAVER/.test(ua)) {\n\t\t\treturn \"NAVER_APP\";\n\t\t} else if (/IEMobile/.test(ua)) {\n\t\t\treturn \"INTERNET_EXPLORER_MOBILE\";\n\t\t} else if (/MSIE/.test(ua) || /Trident/.test(ua)) {\n\t\t\treturn \"INTERNET_EXPLORER\";\n\t\t} else if (/Firefox/.test(ua)) {\n\t\t\treturn \"FIREFOX\";\n\t\t} else if (/Opera\\//.test(ua) || /OPR\\//.test(ua)) {\n\t\t\treturn \"OPERA\";\n\t\t}  else if (/Swing\\//.test(ua)) {\n\t\t\treturn \"SWING\";\n\t\t} else if (/Chrome\\//.test(ua) || /CriOS\\//.test(ua)) {\n\t\t\treturn \"CHROME\";\n\t\t} else if (/BAND\\//.test(ua)) {\n\t\t\treturn \"BAND_APP\";\n\t\t} else if (/FBAN\\/FBIOS/.test(ua)) {\n\t\t\treturn \"FACEBOOK_APP\";\n\t\t} else if (/Twitter/.test(ua)) {\n\t\t\treturn \"TWITTER_APP\";\n\t\t} else if (/KAKAOTALK/.test(ua)) {\n\t\t\treturn \"KAKAOTALK_APP\";\n\t\t} else if (/Android/.test(ua) && /Safari/.test(ua)) {\n\t\t\treturn \"ANDROID_INTERNET_APP\";\n\t\t} else if (/Safari/.test(ua)) {\n\t\t\treturn \"SAFARI\";\n\t\t}\n\n\t\treturn \"\";\n\t}\n\n\tif (getBrowser() === \"UNKNOWN\" && jindo.$Cookie().get(\"notSupportBrowserAlert\") != 'true') {\n\t\talert(alertMessage);\n\t\tjindo.$Cookie().set(\"notSupportBrowserAlert\", \"true\", \"9999\", \"movie.naver.com\");\n\t}\n\n\n</script>\n\n\n\t<!-- //footer -->\n</div>\n<script type=\"text/javascript\">\nvar isRecentTab = false;\n\njindo.$Fn(function (we) {\n\t\n\t    // 윈도우창 리사이징에 따른 레이아웃 1/2단 관리\n\t    var oViewMode = new nhn.movie.end.ViewMode();\n\t\n\n\t// 상단 검색영역\n\tvar oSearch = new nhn.movie.Search({\n\t\tarea : \"jSearchArea\",\n\t\tautosearch : \"https://auto-movie.naver.com/ac?q_enc=UTF-8&st=1&r_lt=1&n_ext=1&t_koreng=1&r_format=json&r_enc=UTF-8&r_unicode=0&r_escape=1&q=\",\n\t\tmovelink : \"/movie/bi/mi/basic.naver?code=\",\n\t\tpeoplelink : \"/movie/bi/pi/basic.naver?code=\"\n\t});\n\n    // 좌측 LNB\n    var oLNB = new nhn.movie.LNB();\n\tif( typeof oViewMode != \"undefined\") {\n\t\toViewMode.attach('change', jindo.$Fn(oLNB.update, oLNB).bind());\n\t}\n\n    // 2단일때, 2열에 상단 회색 라인 없애기\n\tif( typeof oViewMode != \"undefined\") {\n\t    oViewMode.attach('change', function (oEvent) {\n\t        var welSecondSectionGroup = jindo.$Element('content').queryAll('.section_group')[1];\n\t        var wel2column1rowSection;\n\t\n\t        if (welSecondSectionGroup) {\n\t            wel2column1rowSection = welSecondSectionGroup.query('.obj_section');\n\t\n\t            if (oEvent.sStyle == 'wide') {\n\t                wel2column1rowSection.addClass('noline');\n\t            } else {\n\t                wel2column1rowSection.removeClass('noline');\n\t            }\n\t        }\n\t\n\t\t    //포토 묻어가기\n\t\t    if( typeof oPhoto != \"undefined\" ){\n\t\t\t    if (oEvent.sStyle == 'wide') {\n\t\t\t\t    oPhoto.setWide(\"wide\");\n\t\t\t    } else {\n\t\t\t\t    oPhoto.setWide(\"basic\");\n\t\t\t    }\n\t\t    }\n\t\t    // 비디오 묻어가기\n\t\t    if( typeof oMovie != \"undefined\" ){\n\t\t\t    if (oEvent.sStyle == 'wide') {\n\t\t\t\t    oMovie.setWide(\"wide\", 1);\n\t\t\t    } else {\n\t\t\t\t    oMovie.setWide(\"basic\", 1);\n\t\t\t    }\n\t\t    }\n\t\n\t    });\n\t}\n\n    // 상단썸네일영역\n    \n    \n\t\tvar welTopArea = jindo.$Element('_TopArea');\n\t\tnew nhn.movie.end.TopAreaThumbnailExpander(welTopArea.query('.current_mv_list .top_poster_area')).attach({\n\t\t    click: function (oEvent) {\n\t\t        clickcr(oEvent.element, 'rnk.nimg', '', '', event);\n\t\t    }\n\t\t});\n\t\tnew nhn.movie.end.TopAreaThumbnailExpander(welTopArea.query('.expected_mv_list .top_poster_area')).attach({\n\t\t    click: function (oEvent) {\n\t\t        clickcr(oEvent.element, 'rnk.simg', '', '', event);\n\t\t    }\n\t\t});\n\t\tvar oTopAreaManager = new nhn.movie.end.movie.TopAreaManager(welTopArea);\n\t\tif ( typeof oViewMode == \"undefined\" || oViewMode.is('basic') ) {\n\t\t    oTopAreaManager.enableNavigationBtns();\n\t\t} else {\n\t\t    oTopAreaManager.disableNavigationBtns();\n\t\t}\n\t\tif( typeof oViewMode != \"undefined\" ) {\n\t\t\tvar tempEvent = {};\n\t\t\toViewMode.attach('change', jindo.$Fn(oTopAreaManager.onViewModeChange, oTopAreaManager).bind());\n\t\t\t\n\t\t    if (oViewMode.is('basic') && oViewMode.serverSstyle != 'basic') {\n\t\t    \ttempEvent.sStyle = 'basic';\n\t\t\t    oTopAreaManager.onViewModeChange(tempEvent);\n\t\t    } else if (oViewMode.is('wide') && oViewMode.serverSstyle != 'wide') {\n\t\t    \ttempEvent.sStyle = 'wide';\n\t\t\t    oTopAreaManager.onViewModeChange(tempEvent);\n\t\t    }\n\t\t}\n\t\n    \n    \n\t\n    var waelScriptOrderList = jindo.$ElementList('._gnb_another_service_layer');\n    \n    jindo.$A(waelScriptOrderList.$value()).forEach(function(value, index, array) {\n\t\tjindo.$Fn(reviewOrderLayerToggle, this).attach(value, \"blur\");\n\t});\n    //자동닫힘 기능 끝.\n    \n  //영화검색 결과에서 포커스 아웃될 경우, 검색 결과를 지우도록 변경.\n    jindo.$Element(\"lnb_gonaver\").attach(\"focus\",function(e){\n    \t\n    \tjindo.$Element('search_placeholder').attr({\n    \t\t\"style\" : \"display: inline;\"\n    \t})\n    \tjindo.$Element('ipt_tx_srch').$value().value=\"\";\n    \t\n    \tif(jindo.$Element(\"jAutoComplate\") != null){\n    \t\tjindo.$Element(\"jAutoComplate\").hide();\n    \t}\n    });    \n\n    \n    /**\n     * 영화 END 페이지\n     */\n    var welMovieInfoWideArea = jindo.$Element(jindo.$$.getSingle('.wide_info_area'));\n    var welMovieInfoBasicArea = jindo.$Element(jindo.$$.getSingle('.mv_info_area'));\n    if ( oViewMode.is('basic') ) {\n        welMovieInfoWideArea.hide();\n        welMovieInfoBasicArea.show();\n      \tif (window[\"createActualGenderPointGraph\"]) createActualGenderPointGraph();\n    } else {\n        welMovieInfoBasicArea.hide();\n        welMovieInfoWideArea.show();\n      \tif(window[\"createActualGenderPointGraph\"]) createActualGenderPointGraph(true);\n    }\n    oViewMode.attach('change', function (oEvent) {\n        // 기본정보 영역 변경\n        if ( oEvent.sStyle === 'basic' ) {\n            welMovieInfoWideArea.hide();\n            welMovieInfoBasicArea.show();\n          if(window[\"createActualGenderPointGraph\"]) createActualGenderPointGraph();\n        } else {\n            welMovieInfoBasicArea.hide();\n            welMovieInfoWideArea.show();\n\n          if(window[\"createActualGenderPointGraph\"]) createActualGenderPointGraph(true);\n        }\n    });\n\n    \n        \n        /* 영화주요정보 탭 */\n\n        // 포토영역\n        new nhn.movie.end.MainPhotoArea(\n            jindo.$('_MainPhotoArea'), // Element\n            '/movie/bi/mi/photoListJson.naver?movieCode=184318', // List API URL\n            { \n            \t\"lists\":[\n            \t\t\n            \t\t\t{\"nid\":0,\"imageNid\":6731493,\"imageType\":\"STILLCUT\",\"movieCode\":184318,\"gdid\":\"080005ea_00000066b6e5\",\"adult\":false,\"fullImageUrl427px\":\"https://movie-phinf.pstatic.net/20210610_46/1623290158398NlFJW_JPEG/movie_image.jpg?type=m427_320_2\"},\n            \t\t\n            \t\t\t{\"nid\":0,\"imageNid\":6731494,\"imageType\":\"STILLCUT\",\"movieCode\":184318,\"gdid\":\"080005ea_00000066b6e6\",\"adult\":false,\"fullImageUrl427px\":\"https://movie-phinf.pstatic.net/20210610_283/1623290209627KF4uF_JPEG/movie_image.jpg?type=m427_320_2\"},\n            \t\t\n            \t\t\t{\"nid\":0,\"imageNid\":6731495,\"imageType\":\"STILLCUT\",\"movieCode\":184318,\"gdid\":\"080005ea_00000066b6e7\",\"adult\":false,\"fullImageUrl427px\":\"https://movie-phinf.pstatic.net/20210610_1/1623290232516D1DJD_JPEG/movie_image.jpg?type=m427_320_2\"},\n            \t\t\n            \t\t\t{\"nid\":0,\"imageNid\":6731496,\"imageType\":\"STILLCUT\",\"movieCode\":184318,\"gdid\":\"080005ea_00000066b6e8\",\"adult\":false,\"fullImageUrl427px\":\"https://movie-phinf.pstatic.net/20210610_35/1623290250973812mQ_JPEG/movie_image.jpg?type=m427_320_2\"},\n            \t\t\n            \t\t\t{\"nid\":0,\"imageNid\":6731497,\"imageType\":\"STILLCUT\",\"movieCode\":184318,\"gdid\":\"080005ea_00000066b6e9\",\"adult\":false,\"fullImageUrl427px\":\"https://movie-phinf.pstatic.net/20210610_241/1623290265401lG78v_JPEG/movie_image.jpg?type=m427_320_2\"},\n            \t\t\n            \t\t\t{\"nid\":0,\"imageNid\":6731498,\"imageType\":\"STILLCUT\",\"movieCode\":184318,\"gdid\":\"080005ea_00000066b6ea\",\"adult\":false,\"fullImageUrl427px\":\"https://movie-phinf.pstatic.net/20210610_75/1623290278438a38b7_JPEG/movie_image.jpg?type=m427_320_2\"},\n            \t\t\n            \t\t\t{\"nid\":0,\"imageNid\":6731500,\"imageType\":\"STILLCUT\",\"movieCode\":184318,\"gdid\":\"080005ea_00000066b6ec\",\"adult\":false,\"fullImageUrl427px\":\"https://movie-phinf.pstatic.net/20210610_86/1623290294202tkWYJ_JPEG/movie_image.jpg?type=m427_320_2\"},\n            \t\t\n            \t\t\t{\"nid\":0,\"imageNid\":6732430,\"imageType\":\"STILLCUT\",\"movieCode\":184318,\"gdid\":\"080005ea_00000066ba8e\",\"adult\":false,\"fullImageUrl427px\":\"https://movie-phinf.pstatic.net/20210618_55/1623979187354i0gIC_JPEG/movie_image.jpg?type=m427_320_2\"}\n            \t\t\n            \t]\n            }, // First List Object\n            jindo.$('mainPhotoViewIndex')\n        ).attach('updated', function (oEvent) {\n            var sRnd = (new Date()).getTime();\n            var sb = [];\n            var _displayNIndex = eval(oEvent.nIndex) + 1;\n            \n            // 현재 포토 위치\n            jindo.$Element('mainPhotoViewIndex').text(_displayNIndex);\n\n            // 포토 조회수\n            new jindo.$Ajax('/movie/bi/mi/photoViewCount.naver?imageNid=' + oEvent.imageNid, {\n                method : 'get',\n                onload : function(res){}\n            }).request();\n\n            // NDS\n            try {\n                lcs_do();\n            } catch(e){}\n\n            // 코리안클릭 PV집계\n\t\t\tsb.push('<iframe height=\"0\" frameborder=\"0\" width=\"0\" scrolling=\"no\" src=\"');\n\t\t\tsb.push('/movie/bi/mi/photoViewCountDummy.naver?_timestamp=' + sRnd);\n\t\t\tsb.push('\"></iframe>');\n\t\t\tvar sHtml = sb.join(\"\");\n\t\t\tvar elContent = jindo.$Element(\"footer\");\n\t\t\telContent.appendHTML(sHtml);\n        });\n\n        \n        \n        \n        \n        \n        \n        \n        \n        \n    \n\t\n\n\t\n}).attach(document, 'domready');\n/**\n * 기타 공통\n */\njindo.$Fn(function() {\n    try{ lcs_do(); } catch(e){}\n}).attach(window, \"pageshow\");\n</script>\n<script type=\"text/javascript\">\n\t//nClick 초기화 영역\n\t//클릭로그 집계 코드 추가\n\tvar ccsrv=\"cc.naver.com\";\n\tvar nclk_evt = 1;\n\t\n\tnclk_do();\n\t//nClick 초기화 영역 끝\n</script>\n</body>\n</html>\n"
     ]
    }
   ],
   "source": [
    "import urllib.parse as up\n",
    "\n",
    "url='https://movie.naver.com/movie/bi/mi/basic.naver?code=184318#'\n",
    "\n",
    "res=urllib.request.urlopen(url).read()\n",
    "text=res.decode('utf-8')\n",
    "print(text)"
   ]
  },
  {
   "cell_type": "code",
   "execution_count": 47,
   "metadata": {},
   "outputs": [
    {
     "output_type": "stream",
     "name": "stdout",
     "text": [
      "스칼렛 요한슨 글자는 총 14 번 나옴\n"
     ]
    }
   ],
   "source": [
    "import re \n",
    "\n",
    "res1=re.findall('스칼렛 요한슨', text)\n",
    "\n",
    "print('스칼렛 요한슨 글자는 총', len(res1), '번 나옴')"
   ]
  },
  {
   "cell_type": "code",
   "execution_count": null,
   "metadata": {},
   "outputs": [],
   "source": [
    "<어려움, for 알고리즘 테스트 준비생,  sol:레벤슈타인거리>\n",
    "4. \"대한민국\"과 최소편집거리가 가장 짧은 문자열을 출력하시오.\n",
    "(대한민국을 기준으로...)\n",
    "[\"한국\", \"코리아\", \"KOREA\", \"고려\", \"김대한\"]\n",
    "=> 한국(2) > 김대한(3) > ..."
   ]
  },
  {
   "cell_type": "code",
   "execution_count": 50,
   "metadata": {},
   "outputs": [
    {
     "output_type": "execute_result",
     "data": {
      "text/plain": [
       "['한국', '코리아', 'KOREA', '고려', '김대한']"
      ]
     },
     "metadata": {},
     "execution_count": 50
    }
   ],
   "source": [
    "central_str = '대한민국'\n",
    "sample_str = [\"한국\", \"코리아\", \"KOREA\", \"고려\", \"김대한\"]\n",
    "\n",
    "\n"
   ]
  }
 ]
}