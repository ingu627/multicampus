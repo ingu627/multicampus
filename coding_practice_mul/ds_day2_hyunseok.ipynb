{
 "metadata": {
  "language_info": {
   "codemirror_mode": {
    "name": "ipython",
    "version": 3
   },
   "file_extension": ".py",
   "mimetype": "text/x-python",
   "name": "python",
   "nbconvert_exporter": "python",
   "pygments_lexer": "ipython3",
   "version": "3.8.5"
  },
  "orig_nbformat": 4,
  "kernelspec": {
   "name": "python3",
   "display_name": "Python 3.8.5 64-bit ('base': conda)"
  },
  "interpreter": {
   "hash": "b3ba2566441a7c06988d0923437866b63cedc61552a5af99d1f4fb67d367b25f"
  }
 },
 "nbformat": 4,
 "nbformat_minor": 2,
 "cells": [
  {
   "cell_type": "code",
   "execution_count": 13,
   "metadata": {},
   "outputs": [],
   "source": [
    "import urllib.request as req\n",
    "from bs4 import BeautifulSoup"
   ]
  },
  {
   "cell_type": "code",
   "execution_count": 14,
   "metadata": {},
   "outputs": [],
   "source": [
    "url='https://music.bugs.co.kr/chart'"
   ]
  },
  {
   "cell_type": "code",
   "execution_count": 15,
   "metadata": {
    "tags": []
   },
   "outputs": [],
   "source": [
    "res=req.urlopen(url)\n",
    "soup=BeautifulSoup(res, 'html.parser')"
   ]
  },
  {
   "cell_type": "code",
   "execution_count": 16,
   "metadata": {},
   "outputs": [
    {
     "output_type": "stream",
     "name": "stdout",
     "text": [
      "1위 : 고백\n\n2위 : Permission to Dance\n\n3위 : Weekend\n\n4위 : 좋아좋아\n\n5위 : 바라만 본다\n\n6위 : 신호등\n\n7위 : Next Level\n\n8위 : 지금 말해볼게요 (낮에 뜨는 달 X 거미)\n\n9위 : 넌 좋은 사람\n\n10위 : Butter\n\n11위 : 헤픈 우연\n\n12위 : Alcohol-Free\n\n13위 : Bad Habits\n\n14위 : 비와 당신\n\n15위 : 밤이 되니까\n\n16위 : 나를 아는 사람\n\n17위 : 뚫고 지나가요\n\n18위 : 안녕 (Hello)\n\n19위 : 치맛바람 (Chi Mat Ba Ram)\n\n20위 : ASAP\n\n"
     ]
    }
   ],
   "source": [
    "a=soup.select('th > p > a')\n",
    "\n",
    "for i in range(20):\n",
    "    print('%d위 : %s'% (i+1,a[i].string))\n",
    "    print()"
   ]
  }
 ]
}