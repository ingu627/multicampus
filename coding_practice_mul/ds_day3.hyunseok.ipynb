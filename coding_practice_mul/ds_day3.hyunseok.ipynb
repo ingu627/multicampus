{
 "cells": [
  {
   "cell_type": "markdown",
   "source": [
    "## 0. \r\n",
    "인스타그램 접속(아이디/비밀번호) -> 검색어 : 칸쿤 맛집 ->  \r\n",
    "첫번째 검색 페이지에서 좋아요, 작성일 추출 -> 출력  \r\n",
    "adv.  5개 페이지에 대해서 동일한 작업 수행  "
   ],
   "metadata": {}
  },
  {
   "cell_type": "code",
   "execution_count": 12,
   "source": [
    "from selenium import webdriver\r\n",
    "import time\r\n",
    "from bs4 import BeautifulSoup"
   ],
   "outputs": [],
   "metadata": {}
  },
  {
   "cell_type": "code",
   "execution_count": 2,
   "source": [
    "driver=webdriver.Chrome('e:\\chromedriver.exe')"
   ],
   "outputs": [],
   "metadata": {}
  },
  {
   "cell_type": "code",
   "execution_count": 3,
   "source": [
    "driver.get('http://www.instagram.com')\r\n",
    "time.sleep(2)"
   ],
   "outputs": [],
   "metadata": {}
  },
  {
   "cell_type": "code",
   "execution_count": 4,
   "source": [
    "email='이메일'\r\n",
    "inputId = driver.find_elements_by_css_selector('#loginForm > div > div > div > label > input')[0]\r\n",
    "inputId.clear()\r\n",
    "inputId.send_keys(email)\r\n",
    "\r\n",
    "#"
   ],
   "outputs": [],
   "metadata": {}
  },
  {
   "cell_type": "code",
   "execution_count": 5,
   "source": [
    "email='비밀번호'\r\n",
    "inputPw = driver.find_elements_by_css_selector('#loginForm > div > div > div > label > input')[1]\r\n",
    "inputPw.clear()\r\n",
    "inputPw.send_keys(email)\r\n",
    "inputPw.submit()\r\n",
    "time.sleep(2)\r\n",
    "\r\n",
    "#"
   ],
   "outputs": [],
   "metadata": {}
  },
  {
   "cell_type": "code",
   "execution_count": 6,
   "source": [
    "url1 = 'https://www.instagram.com/accounts/onetap/?next=%2F'\r\n",
    "driver.get(url1)"
   ],
   "outputs": [],
   "metadata": {}
  },
  {
   "cell_type": "code",
   "execution_count": 7,
   "source": [
    "later = driver.find_element_by_css_selector('button.sqdOP.yWX7d.y3zKF')\r\n",
    "later.click()\r\n",
    "time.sleep(2)"
   ],
   "outputs": [],
   "metadata": {}
  },
  {
   "cell_type": "code",
   "execution_count": 8,
   "source": [
    "word = '칸쿤맛집'\r\n",
    "url = 'https://www.instagram.com/explore/tags/'+ word \r\n",
    "driver.get(url)"
   ],
   "outputs": [],
   "metadata": {}
  },
  {
   "cell_type": "code",
   "execution_count": 9,
   "source": [
    "kan = driver.find_element_by_css_selector('div._9AhH0')\r\n",
    "kan.click()\r\n",
    "time.sleep(2)"
   ],
   "outputs": [],
   "metadata": {}
  },
  {
   "cell_type": "code",
   "execution_count": 10,
   "source": [
    "# a.zV_Nj\r\n",
    "joayoList=[]\r\n",
    "writeList=[]\r\n",
    "\r\n",
    "i=1\r\n",
    "while i<=5:\r\n",
    "    html = driver.page_source\r\n",
    "    soup = BeautifulSoup(html, 'html.parser')\r\n",
    "\r\n",
    "    joayo = soup.select('a.zV_Nj > span')[0].text\r\n",
    "    write = soup.select('a.c-Yi7')[0].text.strip()\r\n",
    "\r\n",
    "    # body > div._2dDPU.CkGkG > div.zZYga > div > article > div.eo2As > div.k_Q0X.I0_K8.NnvRN > a > time\r\n",
    "    joayoList.append(joayo)\r\n",
    "    writeList.append(write)\r\n",
    "\r\n",
    "    next1 = driver.find_element_by_css_selector('a._65Bje.coreSpriteRightPaginationArrow')\r\n",
    "    next1.click()\r\n",
    "    time.sleep(2)\r\n",
    "    i+=1\r\n",
    "\r\n",
    "for i in range(len(joayoList)):\r\n",
    "    print('좋아요 : {}개    작성년도 : {}'.format(joayoList[i], writeList[i]))\r\n"
   ],
   "outputs": [
    {
     "output_type": "stream",
     "name": "stdout",
     "text": [
      "좋아요 : 103개    작성년도 : 2018년 11월 5일\n",
      "좋아요 : 99개    작성년도 : 2020년 2월 23일\n",
      "좋아요 : 107개    작성년도 : 2019년 8월 14일\n",
      "좋아요 : 80개    작성년도 : 2019년 7월 22일\n",
      "좋아요 : 63개    작성년도 : 2020년 3월 10일\n"
     ]
    }
   ],
   "metadata": {}
  },
  {
   "cell_type": "code",
   "execution_count": 11,
   "source": [
    "driver.close()"
   ],
   "outputs": [],
   "metadata": {}
  },
  {
   "cell_type": "markdown",
   "source": [
    "## 1.  \r\n",
    "3개의 각으로 삼각형의 예각, 직각, 둔각을 구별하는 프로그램을 만들어라.  \r\n",
    " [60, 60, 60] = 예각삼각형    \r\n",
    " [30, 60, 90] = 직각삼각형  \r\n",
    " [20, 40, 120] = 둔각삼각형  \r\n",
    " [0, 90, 90] = 삼각형이 아니다  \r\n",
    " [60, 70, 80] = 삼각형이 아니다  \r\n",
    "[40, 40, 50, 50] = 삼각형이 아니다  \r\n",
    "\r\n",
    " 예각삼각형 : 3개의 각이 모두 예각인 삼각형  \r\n",
    " 직각삼각형 : 1개의 각이 직각인 삼각형  \r\n",
    " 둔각삼각형 : 1개의 각이 둔각인 삼각형  \r\n",
    "\r\n",
    " ① 각이 3개가 아닐 경우 삼각형이 아니다.  \r\n",
    " ② 3개의 각의 합이 180°가 아닐 경우 삼각형이 아니다.  "
   ],
   "metadata": {}
  },
  {
   "cell_type": "code",
   "execution_count": 33,
   "source": [
    "def triangle(*angles):\r\n",
    "    if len(angles) != 3 or sum(angles) != 180 or 0 in angles:\r\n",
    "        return '삼각형이 아니다.'\r\n",
    "\r\n",
    "    else:\r\n",
    "        if angles[0]<90 and angles[1]<90 and angles[2]<90: #예각삼각형\r\n",
    "            return '예각삼각형'\r\n",
    "        elif angles[0]==90 or angles[1]==90 or angles[2]==90: #직각삼각형\r\n",
    "            return '직각삼각형'\r\n",
    "        elif angles[0]>90 or angles[1]>90 or angles[2]>90: #둔각삼각형\r\n",
    "            return '둔각삼각형'\r\n",
    "\r\n",
    "print(triangle(60,60,60))\r\n",
    "print(triangle(30,60,90))\r\n",
    "print(triangle(20,40,120))\r\n",
    "print(triangle(0,90,90))\r\n",
    "print(triangle(60,70,80))\r\n",
    "print(triangle(40,40,50,50))"
   ],
   "outputs": [
    {
     "output_type": "stream",
     "name": "stdout",
     "text": [
      "예각삼각형\n",
      "직각삼각형\n",
      "둔각삼각형\n",
      "삼각형이 아니다.\n",
      "삼각형이 아니다.\n",
      "삼각형이 아니다.\n"
     ]
    }
   ],
   "metadata": {}
  },
  {
   "cell_type": "markdown",
   "source": [
    "## 2.\r\n",
    "크롤링 연습문제\r\n",
    "\r\n",
    "- 바나나 가격 및 재고수량 추출\r\n",
    "- 파인애플 추출\r\n",
    "\r\n"
   ],
   "metadata": {}
  },
  {
   "cell_type": "code",
   "execution_count": 34,
   "source": [
    "html = '''\r\n",
    "<html>\r\n",
    "    <head>\r\n",
    "    </head>\r\n",
    "    <body>\r\n",
    "        <h1> 우리동네시장</h1>\r\n",
    "            <div class = 'sale'>\r\n",
    "                <p id='fruits1' class='fruits'>\r\n",
    "                    <span class = 'name'> 바나나 </span>\r\n",
    "                    <span class = 'price'> 3000원 </span>\r\n",
    "                    <span class = 'inventory'> 500개 </span>\r\n",
    "                    <span class = 'store'> 가나다상회 </span>\r\n",
    "                    <a href = 'http://bit.ly/forPlaywithData' > 홈페이지 </a>\r\n",
    "                </p>\r\n",
    "            </div>\r\n",
    "            <div class = 'prepare'>\r\n",
    "                <p id='fruits2' class='fruits'>\r\n",
    "                    <span class ='name'> 파인애플 </span>\r\n",
    "                </p>\r\n",
    "            </div>\r\n",
    "    </body>\r\n",
    "</html>\r\n",
    "'''"
   ],
   "outputs": [],
   "metadata": {}
  },
  {
   "cell_type": "code",
   "execution_count": 49,
   "source": [
    "soup = BeautifulSoup(html, 'html.parser')\r\n",
    "price =soup.select('span.price')[0].text.strip()\r\n",
    "inventory = soup.select('span.inventory')[0].text.strip()\r\n",
    "\r\n",
    "pineapple = soup.select('span.name')[1].text.strip()\r\n",
    "\r\n",
    "print('바나나 가격 : {}\\n바나나 재고수량 : {}\\n\\n{}'.format(price, inventory, pineapple))\r\n",
    "\r\n"
   ],
   "outputs": [
    {
     "output_type": "stream",
     "name": "stdout",
     "text": [
      "바나나 가격 : 3000원\n",
      "바나나 재고수량 : 500개\n",
      "\n",
      "파인애플\n"
     ]
    }
   ],
   "metadata": {}
  },
  {
   "cell_type": "markdown",
   "source": [
    "## 0.\r\n",
    "인스타그램 접속(아이디/비밀번호) -> 검색어 : 칸쿤 맛집 ->  \r\n",
    "첫번째 검색 페이지에서 좋아요, 작성일 추출 -> 출력  \r\n",
    "adv. 5개 페이지에 대해서 동일한 작업 수행  "
   ],
   "metadata": {}
  },
  {
   "cell_type": "code",
   "execution_count": 3,
   "source": [
    "from selenium import webdriver\r\n",
    "import time\r\n",
    "from bs4 import BeautifulSoup"
   ],
   "outputs": [],
   "metadata": {}
  },
  {
   "cell_type": "code",
   "execution_count": 4,
   "source": [
    "driver=webdriver.Chrome('e:\\chromedriver.exe')"
   ],
   "outputs": [],
   "metadata": {}
  },
  {
   "cell_type": "code",
   "execution_count": 5,
   "source": [
    "driver.get('http://www.instagram.com')\r\n",
    "time.sleep(2)"
   ],
   "outputs": [],
   "metadata": {}
  },
  {
   "cell_type": "code",
   "execution_count": 8,
   "source": [
    "email='ingu627@ajou.ac.kr'\r\n",
    "inputId = driver.find_elements_by_css_selector('#loginForm > div > div > div > label > input')[0]\r\n",
    "inputId.clear()\r\n",
    "inputId.send_keys(email)\r\n"
   ],
   "outputs": [],
   "metadata": {}
  },
  {
   "cell_type": "code",
   "execution_count": 10,
   "source": [
    "email='dkwneo99!'\r\n",
    "inputPw = driver.find_elements_by_css_selector('#loginForm > div > div > div > label > input')[1]\r\n",
    "inputPw.clear()\r\n",
    "inputPw.send_keys(email)\r\n",
    "inputPw.submit()\r\n",
    "time.sleep(2)\r\n"
   ],
   "outputs": [],
   "metadata": {}
  },
  {
   "cell_type": "code",
   "execution_count": 11,
   "source": [
    "url1 = 'https://www.instagram.com/accounts/onetap/?next=%2F'\r\n",
    "driver.get(url1)"
   ],
   "outputs": [],
   "metadata": {}
  },
  {
   "cell_type": "code",
   "execution_count": 12,
   "source": [
    "later = driver.find_element_by_css_selector('button.sqdOP.yWX7d.y3zKF')\r\n",
    "later.click()\r\n",
    "time.sleep(2)"
   ],
   "outputs": [],
   "metadata": {}
  },
  {
   "cell_type": "code",
   "execution_count": 13,
   "source": [
    "word = '칸쿤맛집'\r\n",
    "url = 'https://www.instagram.com/explore/tags/'+ word \r\n",
    "driver.get(url)"
   ],
   "outputs": [],
   "metadata": {}
  },
  {
   "cell_type": "code",
   "execution_count": 14,
   "source": [
    "kan = driver.find_element_by_css_selector('div._9AhH0')\r\n",
    "kan.click()\r\n",
    "time.sleep(2)"
   ],
   "outputs": [],
   "metadata": {}
  },
  {
   "cell_type": "code",
   "execution_count": 15,
   "source": [
    "# a.zV_Nj\r\n",
    "joayoList=[]\r\n",
    "writeList=[]\r\n",
    "\r\n",
    "i=1\r\n",
    "while i<=5:\r\n",
    "    html = driver.page_source\r\n",
    "    soup = BeautifulSoup(html, 'html.parser')\r\n",
    "\r\n",
    "    joayo = soup.select('a.zV_Nj > span')[0].text\r\n",
    "    write = soup.select('a.c-Yi7')[0].text.strip()\r\n",
    "\r\n",
    "    # body > div._2dDPU.CkGkG > div.zZYga > div > article > div.eo2As > div.k_Q0X.I0_K8.NnvRN > a > time\r\n",
    "    joayoList.append(joayo)\r\n",
    "    writeList.append(write)\r\n",
    "\r\n",
    "    next1 = driver.find_element_by_css_selector('a._65Bje.coreSpriteRightPaginationArrow')\r\n",
    "    next1.click()\r\n",
    "    time.sleep(2)\r\n",
    "    i+=1\r\n",
    "\r\n",
    "for i in range(len(joayoList)):\r\n",
    "    print('좋아요 : {}개    작성년도 : {}'.format(joayoList[i], writeList[i]))"
   ],
   "outputs": [
    {
     "output_type": "stream",
     "name": "stdout",
     "text": [
      "좋아요 : 103개    작성년도 : 2018년 11월 5일\n",
      "좋아요 : 99개    작성년도 : 2020년 2월 23일\n",
      "좋아요 : 107개    작성년도 : 2019년 8월 14일\n",
      "좋아요 : 80개    작성년도 : 2019년 7월 22일\n",
      "좋아요 : 63개    작성년도 : 2020년 3월 10일\n"
     ]
    }
   ],
   "metadata": {}
  },
  {
   "cell_type": "code",
   "execution_count": null,
   "source": [
    "driver.close()"
   ],
   "outputs": [],
   "metadata": {}
  },
  {
   "cell_type": "markdown",
   "source": [
    "## 1.\r\n",
    "3개의 각으로 삼각형의 예각, 직각, 둔각을 구별하는 프로그램을 만들어라.  \r\n",
    "[60, 60, 60] = 예각삼각형  \r\n",
    "[30, 60, 90] = 직각삼각형  \r\n",
    "[20, 40, 120] = 둔각삼각형  \r\n",
    "[0, 90, 90] = 삼각형이 아니다  \r\n",
    "[60, 70, 80] = 삼각형이 아니다  \r\n",
    "[40, 40, 50, 50] = 삼각형이 아니다 \r\n",
    "\r\n",
    "예각삼각형 : 3개의 각이 모두 예각인 삼각형  \r\n",
    "직각삼각형 : 1개의 각이 직각인 삼각형  \r\n",
    "둔각삼각형 : 1개의 각이 둔각인 삼각형  \r\n",
    "\r\n",
    "① 각이 3개가 아닐 경우 삼각형이 아니다.  \r\n",
    "② 3개의 각의 합이 180°가 아닐 경우 삼각형이 아니다.  "
   ],
   "metadata": {}
  },
  {
   "cell_type": "code",
   "execution_count": 16,
   "source": [
    "def triangle(*angles):\r\n",
    "    if len(angles) != 3 or sum(angles) != 180 or 0 in angles:\r\n",
    "        return '삼각형이 아니다.'\r\n",
    "\r\n",
    "    else:\r\n",
    "        if angles[0]<90 and angles[1]<90 and angles[2]<90: #예각삼각형\r\n",
    "            return '예각삼각형'\r\n",
    "        elif angles[0]==90 or angles[1]==90 or angles[2]==90: #직각삼각형\r\n",
    "            return '직각삼각형'\r\n",
    "        elif angles[0]>90 or angles[1]>90 or angles[2]>90: #둔각삼각형\r\n",
    "            return '둔각삼각형'\r\n",
    "\r\n",
    "print(triangle(60,60,60))\r\n",
    "print(triangle(30,60,90))\r\n",
    "print(triangle(20,40,120))\r\n",
    "print(triangle(0,90,90))\r\n",
    "print(triangle(60,70,80))\r\n",
    "print(triangle(40,40,50,50))"
   ],
   "outputs": [
    {
     "output_type": "stream",
     "name": "stdout",
     "text": [
      "예각삼각형\n",
      "직각삼각형\n",
      "둔각삼각형\n",
      "삼각형이 아니다.\n",
      "삼각형이 아니다.\n",
      "삼각형이 아니다.\n"
     ]
    }
   ],
   "metadata": {}
  },
  {
   "cell_type": "markdown",
   "source": [
    "## 2.\r\n",
    "크롤링 연습문제  \r\n",
    "\r\n",
    "바나나 가격 및 재고수량 추출  \r\n",
    "파인애플 추출  "
   ],
   "metadata": {}
  },
  {
   "cell_type": "code",
   "execution_count": 17,
   "source": [
    "html = '''\r\n",
    "<html>\r\n",
    "    <head>\r\n",
    "    </head>\r\n",
    "    <body>\r\n",
    "        <h1> 우리동네시장</h1>\r\n",
    "            <div class = 'sale'>\r\n",
    "                <p id='fruits1' class='fruits'>\r\n",
    "                    <span class = 'name'> 바나나 </span>\r\n",
    "                    <span class = 'price'> 3000원 </span>\r\n",
    "                    <span class = 'inventory'> 500개 </span>\r\n",
    "                    <span class = 'store'> 가나다상회 </span>\r\n",
    "                    <a href = 'http://bit.ly/forPlaywithData' > 홈페이지 </a>\r\n",
    "                </p>\r\n",
    "            </div>\r\n",
    "            <div class = 'prepare'>\r\n",
    "                <p id='fruits2' class='fruits'>\r\n",
    "                    <span class ='name'> 파인애플 </span>\r\n",
    "                </p>\r\n",
    "            </div>\r\n",
    "    </body>\r\n",
    "</html>\r\n",
    "'''"
   ],
   "outputs": [],
   "metadata": {}
  },
  {
   "cell_type": "code",
   "execution_count": 18,
   "source": [
    "soup = BeautifulSoup(html, 'html.parser')\r\n",
    "price =soup.select('span.price')[0].text.strip()\r\n",
    "inventory = soup.select('span.inventory')[0].text.strip()\r\n",
    "\r\n",
    "pineapple = soup.select('span.name')[1].text.strip()\r\n",
    "\r\n",
    "print('바나나 가격 : {}\\n바나나 재고수량 : {}\\n\\n{}'.format(price, inventory, pineapple))"
   ],
   "outputs": [
    {
     "output_type": "stream",
     "name": "stdout",
     "text": [
      "바나나 가격 : 3000원\n",
      "바나나 재고수량 : 500개\n",
      "\n",
      "파인애플\n"
     ]
    }
   ],
   "metadata": {}
  },
  {
   "cell_type": "markdown",
   "source": [
    "## 3. \r\n",
    " 크롬드라이버 및 셀레니움을 사용하여 벅스,멜론, (지니)의 인기차트 데이터를 각각  50위까지 추출한 후,\r\n",
    "모두 통합하여 데이터프레임으로 저장하고 엑셀로 저장하시오."
   ],
   "metadata": {}
  },
  {
   "cell_type": "code",
   "execution_count": 23,
   "source": [
    "driver = webdriver.Chrome('e:\\chromedriver')"
   ],
   "outputs": [],
   "metadata": {}
  },
  {
   "cell_type": "code",
   "execution_count": 24,
   "source": [
    "# melon\r\n",
    "\r\n",
    "url_melon = 'https://www.melon.com/chart/index.htm'\r\n",
    "\r\n",
    "driver.get(url_melon)\r\n",
    "time.sleep(2)"
   ],
   "outputs": [],
   "metadata": {}
  },
  {
   "cell_type": "code",
   "execution_count": 25,
   "source": [
    "html_melon = driver.page_source\r\n",
    "\r\n",
    "soup_melon = BeautifulSoup(html_melon, 'html.parser')"
   ],
   "outputs": [],
   "metadata": {}
  },
  {
   "cell_type": "code",
   "execution_count": 26,
   "source": [
    "melon_song_list=[]\r\n",
    "melon_singer_list=[]\r\n",
    "\r\n",
    "for i in range(50):\r\n",
    "    melon = soup_melon.select('div.ellipsis.rank01 > span > a')[i].text.strip()\r\n",
    "    melon_song_list.append(melon)\r\n",
    "\r\n",
    "for i in range(50):\r\n",
    "    melon = soup_melon.select('div.ellipsis.rank02 > span > a')[i].text.strip()\r\n",
    "    melon_singer_list.append(melon)\r\n"
   ],
   "outputs": [],
   "metadata": {}
  },
  {
   "cell_type": "code",
   "execution_count": 27,
   "source": [
    "# 벅스 가져오기 \r\n",
    "\r\n",
    "url_bugs = 'https://music.bugs.co.kr/chart'\r\n",
    "\r\n",
    "driver.get(url_bugs)\r\n",
    "time.sleep(2)"
   ],
   "outputs": [],
   "metadata": {}
  },
  {
   "cell_type": "code",
   "execution_count": 28,
   "source": [
    "html_bugs = driver.page_source\r\n",
    "\r\n",
    "soup_bugs = BeautifulSoup(html_bugs, 'html.parser')"
   ],
   "outputs": [],
   "metadata": {}
  },
  {
   "cell_type": "code",
   "execution_count": 29,
   "source": [
    "bugs_song_list=[]\r\n",
    "bugs_singer_list=[]\r\n",
    "\r\n",
    "for i in range(50):\r\n",
    "    bugs = soup_bugs.select('th > p > a')[i].text.strip()\r\n",
    "    bugs_song_list.append(bugs)\r\n",
    "\r\n",
    "for i in range(50):\r\n",
    "    bugs = soup_bugs.select('td > p > a')[i].text.strip()\r\n",
    "    bugs_singer_list.append(bugs)\r\n"
   ],
   "outputs": [],
   "metadata": {}
  },
  {
   "cell_type": "code",
   "execution_count": 30,
   "source": [
    "# 지니 가져오기\r\n",
    "\r\n",
    "url_genie = 'https://www.genie.co.kr/chart/top200'\r\n",
    "\r\n",
    "driver.get(url_genie)\r\n",
    "time.sleep(2)"
   ],
   "outputs": [],
   "metadata": {}
  },
  {
   "cell_type": "code",
   "execution_count": 31,
   "source": [
    "html_genie = driver.page_source\r\n",
    "\r\n",
    "soup_genie = BeautifulSoup(html_genie, 'html.parser')"
   ],
   "outputs": [],
   "metadata": {}
  },
  {
   "cell_type": "code",
   "execution_count": 32,
   "source": [
    "genie_song_list=[]\r\n",
    "genie_singer_list=[]\r\n",
    "\r\n",
    "for i in range(50):\r\n",
    "    genie = soup_genie.select('tr > td.info > a.title.ellipsis')[i].text.strip()\r\n",
    "    genie_song_list.append(genie)\r\n",
    "\r\n",
    "for i in range(50):\r\n",
    "    genie = soup_genie.select('tr > td.info > a.artist.ellipsis')[i].text.strip()\r\n",
    "    genie_singer_list.append(genie)\r\n"
   ],
   "outputs": [],
   "metadata": {}
  },
  {
   "cell_type": "code",
   "execution_count": 33,
   "source": [
    "import pandas as pd"
   ],
   "outputs": [],
   "metadata": {}
  },
  {
   "cell_type": "code",
   "execution_count": 34,
   "source": [
    "data_melon = pd.DataFrame(melon_song_list, melon_singer_list)\r\n",
    "data_bugs = pd.DataFrame(bugs_song_list, bugs_singer_list)\r\n",
    "data_genie = pd.DataFrame(genie_song_list, genie_singer_list)\r\n",
    "\r\n",
    "print(data_melon.head())\r\n",
    "print(data_bugs.head())\r\n",
    "print(data_genie.head())"
   ],
   "outputs": [
    {
     "output_type": "stream",
     "name": "stdout",
     "text": [
      "                                 0\n",
      "MSG워너비(M.O.M)               바라만 본다\n",
      "aespa                   Next Level\n",
      "이무진                            신호등\n",
      "방탄소년단          Permission to Dance\n",
      "방탄소년단                       Butter\n",
      "                                 0\n",
      "방탄소년단          Permission to Dance\n",
      "태연 (TAEYEON)               Weekend\n",
      "MSG워너비(M.O.M)               바라만 본다\n",
      "조정석                           좋아좋아\n",
      "장범준                             고백\n",
      "                                  0\n",
      "MSG워너비 (M.O.M)               바라만 본다\n",
      "방탄소년단           Permission to Dance\n",
      "이무진                             신호등\n",
      "태연 (TAEYEON)                Weekend\n",
      "aespa                    Next Level\n"
     ]
    }
   ],
   "metadata": {}
  },
  {
   "cell_type": "code",
   "execution_count": 35,
   "source": [
    "driver.close()"
   ],
   "outputs": [],
   "metadata": {}
  },
  {
   "cell_type": "code",
   "execution_count": null,
   "source": [],
   "outputs": [],
   "metadata": {}
  }
 ],
 "metadata": {
  "orig_nbformat": 4,
  "language_info": {
   "name": "python",
   "version": "3.8.5",
   "mimetype": "text/x-python",
   "codemirror_mode": {
    "name": "ipython",
    "version": 3
   },
   "pygments_lexer": "ipython3",
   "nbconvert_exporter": "python",
   "file_extension": ".py"
  },
  "kernelspec": {
   "name": "python3",
   "display_name": "Python 3.8.5 64-bit ('base': conda)"
  },
  "interpreter": {
   "hash": "b3ba2566441a7c06988d0923437866b63cedc61552a5af99d1f4fb67d367b25f"
  }
 },
 "nbformat": 4,
 "nbformat_minor": 2
}