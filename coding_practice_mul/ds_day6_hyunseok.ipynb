{
 "cells": [
  {
   "cell_type": "code",
   "execution_count": null,
   "source": [
    "'''\r\n",
    "1. 가위바위보(파이썬)\r\n",
    "사용자 입력과 random함수를 사용하여, 사용자와 컴퓨터가 대결하는 \r\n",
    "가위 바위 보 게임을 만들어보자.\r\n",
    "입력: [문자열] \"가위\", \"바위\" 혹은 \"보\" \r\n",
    "출력: [문자열] 결과 반환\r\n",
    "'''"
   ],
   "outputs": [],
   "metadata": {}
  },
  {
   "cell_type": "code",
   "execution_count": 27,
   "source": [
    "import random"
   ],
   "outputs": [],
   "metadata": {}
  },
  {
   "cell_type": "code",
   "execution_count": 39,
   "source": [
    "def game(user, computer):\r\n",
    "    if user==computer:\r\n",
    "        return '비겼습니다'\r\n",
    "    else:\r\n",
    "        if user=='가위' and computer=='바위':\r\n",
    "            return '컴퓨터가 이겼습니다'\r\n",
    "        elif user=='가위' and computer=='보':\r\n",
    "            return '사용자가 이겼습니다'\r\n",
    "        elif user=='바위' and computer=='가위':\r\n",
    "            return '사용자가 이겼습니다'\r\n",
    "        elif user=='바위' and computer=='보':\r\n",
    "            return '컴퓨터가 이겼습니다'\r\n",
    "        elif user=='보' and computer=='가위':\r\n",
    "            return '컴퓨터가 이겼습니다'\r\n",
    "        elif user=='보' and computer=='바위':\r\n",
    "            return '사용자가 이겼습니다'\r\n",
    "        "
   ],
   "outputs": [],
   "metadata": {}
  },
  {
   "cell_type": "code",
   "execution_count": 43,
   "source": [
    "user=input('내십시오')\r\n",
    "\r\n",
    "sonbadak = ['가위','바위','보']\r\n",
    "computer = random.choice(sonbadak)\r\n",
    "\r\n",
    "print(f'컴퓨터는 {computer}를 냈습니다\\n',game(user,computer))"
   ],
   "outputs": [
    {
     "output_type": "stream",
     "name": "stdout",
     "text": [
      "컴퓨터는 보를 냈습니다\n",
      " 컴퓨터가 이겼습니다\n"
     ]
    }
   ],
   "metadata": {}
  },
  {
   "cell_type": "code",
   "execution_count": null,
   "source": [
    "'''\r\n",
    "2. (파이썬)\r\n",
    "구글 전화면접 문제\r\n",
    "n개의 정수를 가진 배열이 있다. 이 배열은 양의정수와 음의 정수를 모두 가지고 있다. \r\n",
    "이제 당신은 이 배열을 좀 특별한 방법으로 정렬해야 한다.\r\n",
    "정렬이 되고 난 후, 음의 정수는 앞쪽에 양의정수는 뒷쪽에 있어야 한다. \r\n",
    "또한 양의정수와 음의정수의 순서에는 변함이 없어야 한다.\r\n",
    "\r\n",
    "예. -1 1 3 -2 2 ans: -1 -2 1 3 2.\r\n",
    "'''"
   ],
   "outputs": [],
   "metadata": {}
  },
  {
   "cell_type": "code",
   "execution_count": 52,
   "source": [
    "import numpy as np"
   ],
   "outputs": [],
   "metadata": {}
  },
  {
   "cell_type": "code",
   "execution_count": 68,
   "source": [
    "s=[-1, 1, 3, -2, 2]\r\n",
    "s=np.array(s)\r\n",
    "\r\n",
    "s1=list(s[s<0])\r\n",
    "s1.extend(list(s[s>0]))\r\n",
    "\r\n",
    "print(s1)\r\n"
   ],
   "outputs": [
    {
     "output_type": "stream",
     "name": "stdout",
     "text": [
      "[-1, -2, 1, 3, 2]\n"
     ]
    }
   ],
   "metadata": {}
  },
  {
   "cell_type": "code",
   "execution_count": null,
   "source": [
    "'''\r\n",
    "3.(파이썬)\r\n",
    "A씨는 게시판 프로그램을 작성하고 있다.\r\n",
    "A씨는 게시물의 총 건수와 한 페이지에 보여줄 게시물수를 입력으로 주었을 때 \r\n",
    "총 페이지수를 리턴하는 프로그램이 필요하다고 한다.\r\n",
    "\r\n",
    "입력 : 총건수(m), 한페이지에 보여줄 게시물수(n) (단 n은 1보다 크거나 같다. n >= 1)\r\n",
    "출력 : 총페이지수\r\n",
    "\r\n",
    "A씨가 필요한 프로그램을 작성하시오.\r\n",
    "예) 프로그램 수행 시 다음과 같은 결과값이 나와야 함.\r\n",
    "\r\n",
    "m\tn\t출력\r\n",
    "0\t1\t0\r\n",
    "1\t1\t1\r\n",
    "2\t1\t2\r\n",
    "1\t10\t1\r\n",
    "10\t10\t1\r\n",
    "11\t10\t2\r\n",
    "'''"
   ],
   "outputs": [],
   "metadata": {}
  },
  {
   "cell_type": "code",
   "execution_count": 49,
   "source": [
    "def output(m,n):\r\n",
    "    if m%n !=0:\r\n",
    "        return (m//n)+1\r\n",
    "    else:\r\n",
    "        return m//n\r\n",
    "\r\n",
    "print(output(0, 1))\r\n",
    "print(output(1, 1))\r\n",
    "print(output(2, 1))\r\n",
    "print(output(1, 10))\r\n",
    "print(output(10, 10))\r\n",
    "print(output(11, 10))"
   ],
   "outputs": [
    {
     "output_type": "stream",
     "name": "stdout",
     "text": [
      "0\n",
      "1\n",
      "2\n",
      "1\n",
      "1\n",
      "2\n"
     ]
    }
   ],
   "metadata": {}
  }
 ],
 "metadata": {
  "orig_nbformat": 4,
  "language_info": {
   "name": "python",
   "version": "3.8.5",
   "mimetype": "text/x-python",
   "codemirror_mode": {
    "name": "ipython",
    "version": 3
   },
   "pygments_lexer": "ipython3",
   "nbconvert_exporter": "python",
   "file_extension": ".py"
  },
  "kernelspec": {
   "name": "python3",
   "display_name": "Python 3.8.5 64-bit ('base': conda)"
  },
  "interpreter": {
   "hash": "b3ba2566441a7c06988d0923437866b63cedc61552a5af99d1f4fb67d367b25f"
  }
 },
 "nbformat": 4,
 "nbformat_minor": 2
}