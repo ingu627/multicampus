{
 "cells": [
  {
   "cell_type": "code",
   "execution_count": 1,
   "source": [
    "import pandas as pd\r\n",
    "import numpy as np\r\n",
    "import re\r\n",
    "from collections import Counter"
   ],
   "outputs": [],
   "metadata": {}
  },
  {
   "cell_type": "code",
   "execution_count": 2,
   "source": [
    "#samsung 변수에 담긴 배열을 이용하여 오늘 학습한 함수, 열, 행 추출"
   ],
   "outputs": [],
   "metadata": {}
  },
  {
   "cell_type": "code",
   "execution_count": 3,
   "source": [
    "samsung=pd.read_csv('./samsung.csv') ; samsung"
   ],
   "outputs": [
    {
     "output_type": "execute_result",
     "data": {
      "text/plain": [
       "      Open   High    Low  Close    Adj Close    Volume\n",
       "0    57000  58800  56400  58600  56560.60547  48431566\n",
       "1    60300  60400  58600  59000  56946.68750  36476611\n",
       "2    59700  60100  59000  59000  56946.68750  19285354\n",
       "3    59500  59600  57700  57900  55884.96875  21943345\n",
       "4    57800  57900  56700  56800  54823.25000  21158940\n",
       "..     ...    ...    ...    ...          ...       ...\n",
       "244  79000  79800  78900  79700  79700.00000  12618790\n",
       "245  79700  79900  79200  79300  79300.00000   9098910\n",
       "246  79400  79500  78800  78800  78800.00000  10040975\n",
       "247  79200  79400  78500  78500  78500.00000  11427693\n",
       "248  78300  78900  78100  78300  78300.00000  10191446\n",
       "\n",
       "[249 rows x 6 columns]"
      ],
      "text/html": [
       "<div>\n",
       "<style scoped>\n",
       "    .dataframe tbody tr th:only-of-type {\n",
       "        vertical-align: middle;\n",
       "    }\n",
       "\n",
       "    .dataframe tbody tr th {\n",
       "        vertical-align: top;\n",
       "    }\n",
       "\n",
       "    .dataframe thead th {\n",
       "        text-align: right;\n",
       "    }\n",
       "</style>\n",
       "<table border=\"1\" class=\"dataframe\">\n",
       "  <thead>\n",
       "    <tr style=\"text-align: right;\">\n",
       "      <th></th>\n",
       "      <th>Open</th>\n",
       "      <th>High</th>\n",
       "      <th>Low</th>\n",
       "      <th>Close</th>\n",
       "      <th>Adj Close</th>\n",
       "      <th>Volume</th>\n",
       "    </tr>\n",
       "  </thead>\n",
       "  <tbody>\n",
       "    <tr>\n",
       "      <th>0</th>\n",
       "      <td>57000</td>\n",
       "      <td>58800</td>\n",
       "      <td>56400</td>\n",
       "      <td>58600</td>\n",
       "      <td>56560.60547</td>\n",
       "      <td>48431566</td>\n",
       "    </tr>\n",
       "    <tr>\n",
       "      <th>1</th>\n",
       "      <td>60300</td>\n",
       "      <td>60400</td>\n",
       "      <td>58600</td>\n",
       "      <td>59000</td>\n",
       "      <td>56946.68750</td>\n",
       "      <td>36476611</td>\n",
       "    </tr>\n",
       "    <tr>\n",
       "      <th>2</th>\n",
       "      <td>59700</td>\n",
       "      <td>60100</td>\n",
       "      <td>59000</td>\n",
       "      <td>59000</td>\n",
       "      <td>56946.68750</td>\n",
       "      <td>19285354</td>\n",
       "    </tr>\n",
       "    <tr>\n",
       "      <th>3</th>\n",
       "      <td>59500</td>\n",
       "      <td>59600</td>\n",
       "      <td>57700</td>\n",
       "      <td>57900</td>\n",
       "      <td>55884.96875</td>\n",
       "      <td>21943345</td>\n",
       "    </tr>\n",
       "    <tr>\n",
       "      <th>4</th>\n",
       "      <td>57800</td>\n",
       "      <td>57900</td>\n",
       "      <td>56700</td>\n",
       "      <td>56800</td>\n",
       "      <td>54823.25000</td>\n",
       "      <td>21158940</td>\n",
       "    </tr>\n",
       "    <tr>\n",
       "      <th>...</th>\n",
       "      <td>...</td>\n",
       "      <td>...</td>\n",
       "      <td>...</td>\n",
       "      <td>...</td>\n",
       "      <td>...</td>\n",
       "      <td>...</td>\n",
       "    </tr>\n",
       "    <tr>\n",
       "      <th>244</th>\n",
       "      <td>79000</td>\n",
       "      <td>79800</td>\n",
       "      <td>78900</td>\n",
       "      <td>79700</td>\n",
       "      <td>79700.00000</td>\n",
       "      <td>12618790</td>\n",
       "    </tr>\n",
       "    <tr>\n",
       "      <th>245</th>\n",
       "      <td>79700</td>\n",
       "      <td>79900</td>\n",
       "      <td>79200</td>\n",
       "      <td>79300</td>\n",
       "      <td>79300.00000</td>\n",
       "      <td>9098910</td>\n",
       "    </tr>\n",
       "    <tr>\n",
       "      <th>246</th>\n",
       "      <td>79400</td>\n",
       "      <td>79500</td>\n",
       "      <td>78800</td>\n",
       "      <td>78800</td>\n",
       "      <td>78800.00000</td>\n",
       "      <td>10040975</td>\n",
       "    </tr>\n",
       "    <tr>\n",
       "      <th>247</th>\n",
       "      <td>79200</td>\n",
       "      <td>79400</td>\n",
       "      <td>78500</td>\n",
       "      <td>78500</td>\n",
       "      <td>78500.00000</td>\n",
       "      <td>11427693</td>\n",
       "    </tr>\n",
       "    <tr>\n",
       "      <th>248</th>\n",
       "      <td>78300</td>\n",
       "      <td>78900</td>\n",
       "      <td>78100</td>\n",
       "      <td>78300</td>\n",
       "      <td>78300.00000</td>\n",
       "      <td>10191446</td>\n",
       "    </tr>\n",
       "  </tbody>\n",
       "</table>\n",
       "<p>249 rows × 6 columns</p>\n",
       "</div>"
      ]
     },
     "metadata": {},
     "execution_count": 3
    }
   ],
   "metadata": {}
  },
  {
   "cell_type": "code",
   "execution_count": 4,
   "source": [
    "print(samsung[['Open','Close']].head())\r\n",
    "print(f\"min :\\n {samsung[['Open','Close']].min()}\")\r\n",
    "print(f\"max :\\n {samsung[['Open','Close']].max()}\")\r\n",
    "print(f\"mean :\\n {samsung[['Open','Close']].mean()}\")"
   ],
   "outputs": [
    {
     "output_type": "stream",
     "name": "stdout",
     "text": [
      "    Open  Close\n",
      "0  57000  58600\n",
      "1  60300  59000\n",
      "2  59700  59000\n",
      "3  59500  57900\n",
      "4  57800  56800\n",
      "min :\n",
      " Open     54100\n",
      "Close    54000\n",
      "dtype: int64\n",
      "max :\n",
      " Open     90300\n",
      "Close    91000\n",
      "dtype: int64\n",
      "mean :\n",
      " Open     73862.650602\n",
      "Close    73844.176707\n",
      "dtype: float64\n"
     ]
    }
   ],
   "metadata": {}
  },
  {
   "cell_type": "code",
   "execution_count": 5,
   "source": [
    "samsung[(samsung['High'] > 85000) & (samsung['Volume'] > 30000000)]"
   ],
   "outputs": [
    {
     "output_type": "execute_result",
     "data": {
      "text/plain": [
       "      Open   High    Low  Close    Adj Close    Volume\n",
       "110  83300  90000  83000  88800  88407.14844  59013307\n",
       "111  90000  96800  89500  91000  90597.41406  90306177\n",
       "112  90300  91400  87800  90600  90199.17969  48682416\n",
       "113  89800  91200  89100  89700  89303.16406  36068848\n",
       "115  89800  91800  88000  88000  87610.68750  33431809\n",
       "116  86600  87300  84100  85000  84623.95313  43227951\n",
       "117  84500  88000  83600  87000  86615.10938  39895044\n",
       "120  89000  89700  86800  86800  86415.99219  30861661\n",
       "122  88800  89200  86500  86700  86316.43750  33178936\n",
       "124  83200  85600  83200  83700  83329.71094  31859808\n",
       "142  84000  85400  83000  85300  84922.63281  34155986\n",
       "144  85100  85300  83000  83600  83230.14844  33498180"
      ],
      "text/html": [
       "<div>\n",
       "<style scoped>\n",
       "    .dataframe tbody tr th:only-of-type {\n",
       "        vertical-align: middle;\n",
       "    }\n",
       "\n",
       "    .dataframe tbody tr th {\n",
       "        vertical-align: top;\n",
       "    }\n",
       "\n",
       "    .dataframe thead th {\n",
       "        text-align: right;\n",
       "    }\n",
       "</style>\n",
       "<table border=\"1\" class=\"dataframe\">\n",
       "  <thead>\n",
       "    <tr style=\"text-align: right;\">\n",
       "      <th></th>\n",
       "      <th>Open</th>\n",
       "      <th>High</th>\n",
       "      <th>Low</th>\n",
       "      <th>Close</th>\n",
       "      <th>Adj Close</th>\n",
       "      <th>Volume</th>\n",
       "    </tr>\n",
       "  </thead>\n",
       "  <tbody>\n",
       "    <tr>\n",
       "      <th>110</th>\n",
       "      <td>83300</td>\n",
       "      <td>90000</td>\n",
       "      <td>83000</td>\n",
       "      <td>88800</td>\n",
       "      <td>88407.14844</td>\n",
       "      <td>59013307</td>\n",
       "    </tr>\n",
       "    <tr>\n",
       "      <th>111</th>\n",
       "      <td>90000</td>\n",
       "      <td>96800</td>\n",
       "      <td>89500</td>\n",
       "      <td>91000</td>\n",
       "      <td>90597.41406</td>\n",
       "      <td>90306177</td>\n",
       "    </tr>\n",
       "    <tr>\n",
       "      <th>112</th>\n",
       "      <td>90300</td>\n",
       "      <td>91400</td>\n",
       "      <td>87800</td>\n",
       "      <td>90600</td>\n",
       "      <td>90199.17969</td>\n",
       "      <td>48682416</td>\n",
       "    </tr>\n",
       "    <tr>\n",
       "      <th>113</th>\n",
       "      <td>89800</td>\n",
       "      <td>91200</td>\n",
       "      <td>89100</td>\n",
       "      <td>89700</td>\n",
       "      <td>89303.16406</td>\n",
       "      <td>36068848</td>\n",
       "    </tr>\n",
       "    <tr>\n",
       "      <th>115</th>\n",
       "      <td>89800</td>\n",
       "      <td>91800</td>\n",
       "      <td>88000</td>\n",
       "      <td>88000</td>\n",
       "      <td>87610.68750</td>\n",
       "      <td>33431809</td>\n",
       "    </tr>\n",
       "    <tr>\n",
       "      <th>116</th>\n",
       "      <td>86600</td>\n",
       "      <td>87300</td>\n",
       "      <td>84100</td>\n",
       "      <td>85000</td>\n",
       "      <td>84623.95313</td>\n",
       "      <td>43227951</td>\n",
       "    </tr>\n",
       "    <tr>\n",
       "      <th>117</th>\n",
       "      <td>84500</td>\n",
       "      <td>88000</td>\n",
       "      <td>83600</td>\n",
       "      <td>87000</td>\n",
       "      <td>86615.10938</td>\n",
       "      <td>39895044</td>\n",
       "    </tr>\n",
       "    <tr>\n",
       "      <th>120</th>\n",
       "      <td>89000</td>\n",
       "      <td>89700</td>\n",
       "      <td>86800</td>\n",
       "      <td>86800</td>\n",
       "      <td>86415.99219</td>\n",
       "      <td>30861661</td>\n",
       "    </tr>\n",
       "    <tr>\n",
       "      <th>122</th>\n",
       "      <td>88800</td>\n",
       "      <td>89200</td>\n",
       "      <td>86500</td>\n",
       "      <td>86700</td>\n",
       "      <td>86316.43750</td>\n",
       "      <td>33178936</td>\n",
       "    </tr>\n",
       "    <tr>\n",
       "      <th>124</th>\n",
       "      <td>83200</td>\n",
       "      <td>85600</td>\n",
       "      <td>83200</td>\n",
       "      <td>83700</td>\n",
       "      <td>83329.71094</td>\n",
       "      <td>31859808</td>\n",
       "    </tr>\n",
       "    <tr>\n",
       "      <th>142</th>\n",
       "      <td>84000</td>\n",
       "      <td>85400</td>\n",
       "      <td>83000</td>\n",
       "      <td>85300</td>\n",
       "      <td>84922.63281</td>\n",
       "      <td>34155986</td>\n",
       "    </tr>\n",
       "    <tr>\n",
       "      <th>144</th>\n",
       "      <td>85100</td>\n",
       "      <td>85300</td>\n",
       "      <td>83000</td>\n",
       "      <td>83600</td>\n",
       "      <td>83230.14844</td>\n",
       "      <td>33498180</td>\n",
       "    </tr>\n",
       "  </tbody>\n",
       "</table>\n",
       "</div>"
      ]
     },
     "metadata": {},
     "execution_count": 5
    }
   ],
   "metadata": {}
  },
  {
   "cell_type": "code",
   "execution_count": 6,
   "source": [
    "samsung=np.loadtxt(\"samsung.csv\", skiprows=1, delimiter=',') ; samsung"
   ],
   "outputs": [
    {
     "output_type": "execute_result",
     "data": {
      "text/plain": [
       "array([[   57000.     ,    58800.     ,    56400.     ,    58600.     ,\n",
       "           56560.60547, 48431566.     ],\n",
       "       [   60300.     ,    60400.     ,    58600.     ,    59000.     ,\n",
       "           56946.6875 , 36476611.     ],\n",
       "       [   59700.     ,    60100.     ,    59000.     ,    59000.     ,\n",
       "           56946.6875 , 19285354.     ],\n",
       "       ...,\n",
       "       [   79400.     ,    79500.     ,    78800.     ,    78800.     ,\n",
       "           78800.     , 10040975.     ],\n",
       "       [   79200.     ,    79400.     ,    78500.     ,    78500.     ,\n",
       "           78500.     , 11427693.     ],\n",
       "       [   78300.     ,    78900.     ,    78100.     ,    78300.     ,\n",
       "           78300.     , 10191446.     ]])"
      ]
     },
     "metadata": {},
     "execution_count": 6
    }
   ],
   "metadata": {}
  },
  {
   "cell_type": "code",
   "execution_count": 7,
   "source": [
    "samsung[:][3]"
   ],
   "outputs": [
    {
     "output_type": "execute_result",
     "data": {
      "text/plain": [
       "array([   59500.     ,    59600.     ,    57700.     ,    57900.     ,\n",
       "          55884.96875, 21943345.     ])"
      ]
     },
     "metadata": {},
     "execution_count": 7
    }
   ],
   "metadata": {}
  },
  {
   "cell_type": "code",
   "execution_count": 8,
   "source": [
    "#모든 호칭을 추출하여 저장\r\n",
    "#호칭 종류가 몇가지 출력 \r\n",
    "#호칭 종류별 승객수 출력 \r\n",
    "# ex) Mr : 500명 \r\n",
    "# MrS : 400명"
   ],
   "outputs": [],
   "metadata": {}
  },
  {
   "cell_type": "code",
   "execution_count": 9,
   "source": [
    "df=pd.read_csv('train.csv') ; df['Name']"
   ],
   "outputs": [
    {
     "output_type": "execute_result",
     "data": {
      "text/plain": [
       "0                                Braund, Mr. Owen Harris\n",
       "1      Cumings, Mrs. John Bradley (Florence Briggs Th...\n",
       "2                                 Heikkinen, Miss. Laina\n",
       "3           Futrelle, Mrs. Jacques Heath (Lily May Peel)\n",
       "4                               Allen, Mr. William Henry\n",
       "                             ...                        \n",
       "886                                Montvila, Rev. Juozas\n",
       "887                         Graham, Miss. Margaret Edith\n",
       "888             Johnston, Miss. Catherine Helen \"Carrie\"\n",
       "889                                Behr, Mr. Karl Howell\n",
       "890                                  Dooley, Mr. Patrick\n",
       "Name: Name, Length: 891, dtype: object"
      ]
     },
     "metadata": {},
     "execution_count": 9
    }
   ],
   "metadata": {}
  },
  {
   "cell_type": "code",
   "execution_count": null,
   "source": [],
   "outputs": [],
   "metadata": {}
  },
  {
   "cell_type": "code",
   "execution_count": 14,
   "source": [
    "name=[re.findall(', [\\w]+.', df['Name'][i]) for i in range(len(df['Name']))] ; name\r\n",
    "try:\r\n",
    "    name1=[name[i][0].replace(', ', '') for i in range(len(name))] ; name1\r\n",
    "except:\r\n",
    "    print('오류발생\\n')\r\n",
    "title=set(name1) ; print(f'{title}\\n호칭 개수 :{len(title)}\\n')\r\n",
    "\r\n",
    "title_count=Counter(name1) ; title_count"
   ],
   "outputs": [
    {
     "output_type": "stream",
     "name": "stdout",
     "text": [
      "{'Major.', 'Sir.', 'Mr.', 'Master.', 'Dr.', 'the ', 'Rev.', 'Mrs.', 'Mlle.', 'Col.', 'Jonkheer.', 'Ms.', 'Capt.', 'Don.', 'Miss.', 'Lady.', 'Mme.'}\n",
      "호칭 개수 :17\n",
      "\n"
     ]
    },
    {
     "output_type": "execute_result",
     "data": {
      "text/plain": [
       "Counter({'Mr.': 517,\n",
       "         'Mrs.': 125,\n",
       "         'Miss.': 182,\n",
       "         'Master.': 40,\n",
       "         'Don.': 1,\n",
       "         'Rev.': 6,\n",
       "         'Dr.': 7,\n",
       "         'Mme.': 1,\n",
       "         'Ms.': 1,\n",
       "         'Major.': 2,\n",
       "         'Lady.': 1,\n",
       "         'Sir.': 1,\n",
       "         'Mlle.': 2,\n",
       "         'Col.': 2,\n",
       "         'Capt.': 1,\n",
       "         'the ': 1,\n",
       "         'Jonkheer.': 1})"
      ]
     },
     "metadata": {},
     "execution_count": 14
    }
   ],
   "metadata": {}
  },
  {
   "cell_type": "code",
   "execution_count": null,
   "source": [
    "# 3.카카오 신입 공채 코딩 테스트 문제\r\n",
    "#\r\n",
    "# 네오는 평소 프로도가 비상금을 숨겨놓는 장소를 알려줄 비밀지도를 손에 넣었다. \r\n",
    "# 그런데 이 비밀지도는 숫자로 암호화되어 있어 위치를 확인하기 위해서는 암호를 해독해야 한다. \r\n",
    "# 다행히 지도 암호를 해독할 방법을 적어놓은 메모도 함께 발견했다.\r\n",
    "#\r\n",
    "# 지도는 한 변의 길이가 n인 정사각형 배열 형태로, 각 칸은 “공백”(“ “) 또는 “벽”(“#”) 두 종류로 이루어져 있다.\r\n",
    "# 전체 지도는 두 장의 지도를 겹쳐서 얻을 수 있다. 각각 “지도 1”과 “지도 2”라고 하자. \r\n",
    "# 지도 1 또는 지도 2 중 어느 하나라도 벽인 부분은 전체 지도에서도 벽이다. 지도 1과 지도 2에서 모두 공백인 부분은 전체 지도에서도 공백이다.\r\n",
    "# “지도 1”과 “지도 2”는 각각 정수 배열로 암호화되어 있다.\r\n",
    "# 암호화된 배열은 지도의 각 가로줄에서 벽 부분을 1, 공백 부분을 0으로 부호화했을 때 얻어지는 이진수에 해당하는 값의 배열이다.\r\n",
    "\r\n",
    "#\r\n",
    "# 네오가 프로도의 비상금을 손에 넣을 수 있도록, 비밀지도의 암호를 해독하는 작업을 도와줄 프로그램을 작성하라.\r\n",
    "#\r\n",
    "# 입력 형식\r\n",
    "#\r\n",
    "# 입력으로 지도의 한 변 크기 n 과 2개의 정수 배열 arr1, arr2가 들어온다.\r\n",
    "#\r\n",
    "# 1 ≦ n ≦ 16\r\n",
    "# arr1, arr2는 길이 n인 정수 배열로 주어진다.\r\n",
    "# 정수 배열의 각 원소 x를 이진수로 변환했을 때의 길이는 n 이하이다. 즉, 0 ≦ x ≦ 2^n - 1을 만족한다.\r\n",
    "# 출력 형식\r\n",
    "#\r\n",
    "# 원래의 비밀지도를 해독하여 \"#\", 공백으로 구성된 문자열 배열로 출력하라.\r\n",
    "#\r\n",
    "# 입출력 예제\r\n",
    "#\r\n",
    "# 매개변수\t값\r\n",
    "# n\t              5\r\n",
    "# arr1\t[9, 20, 28, 18, 11]\r\n",
    "# arr2\t[30, 1, 21, 17, 28]\r\n",
    "# 출력\t[\"#####\",\"# # #\", \"### #\", \"#  ##\", \"#####\"]\r\n",
    "# 매개변수\t값\r\n",
    "# n\t6\r\n",
    "# arr1=[46, 33, 33 ,22, 31, 50]\r\n",
    "# arr2=[27 ,56, 19, 14, 14, 10]\r\n",
    "# 출력\t[\"######\", \"###  #\", \"##  ##\", \" #### \", \" #####\", \"### # \"]\r\n",
    "\r\n",
    "\r\n",
    "# 9 -> 01001, 20-> 10100, 28-> 11100, 18->10010, 11->01011\r\n",
    "# 30->11110,  1->  00001, 21-> 10101, 17->10001, 28->11100\r\n",
    "# --------------------------------------------------------------------------\r\n",
    "    #   11111          10101          11101        10011        11111"
   ],
   "outputs": [],
   "metadata": {}
  },
  {
   "cell_type": "code",
   "execution_count": null,
   "source": [
    "arr1 = [9, 20, 28, 18, 11]\r\n",
    "arr2 = [30, 1, 21, 17, 28]"
   ],
   "outputs": [],
   "metadata": {}
  },
  {
   "cell_type": "code",
   "execution_count": null,
   "source": [
    "arr3=[46, 33, 33 ,22, 31, 50]\r\n",
    "arr4=[27 ,56, 19, 14, 14, 10]"
   ],
   "outputs": [],
   "metadata": {}
  },
  {
   "cell_type": "code",
   "execution_count": null,
   "source": [
    "def puzzle(arr1,arr2):\r\n",
    "    final_arr=[]\r\n",
    "    for i in range(len(arr1)):\r\n",
    "        arr1_to2=list(bin(arr1[i])[2:])\r\n",
    "        arr2_to2=list(bin(arr2[i])[2:])\r\n",
    "\r\n",
    "        j=1\r\n",
    "        while j<6:\r\n",
    "            if len(arr1_to2)!=len(arr1):\r\n",
    "                arr1_to2.insert(0,'0')\r\n",
    "                j+=1\r\n",
    "            else:\r\n",
    "                break\r\n",
    "        convert_arr1=''.join(arr1_to2)\r\n",
    "        # print(convert_arr1)\r\n",
    "        j=1\r\n",
    "        while j<6:\r\n",
    "            if len(arr2_to2)!=len(arr2):\r\n",
    "                arr2_to2.insert(0,'0')\r\n",
    "                j+=1\r\n",
    "            else:\r\n",
    "                break\r\n",
    "        convert_arr2=(''.join(arr2_to2))\r\n",
    "        # print(convert_arr2)\r\n",
    "\r\n",
    "        semi_arr=[]\r\n",
    "        for z in range(len(convert_arr1)):\r\n",
    "            if convert_arr1[z]=='0' and convert_arr2[z]=='0':\r\n",
    "                semi_arr.append(' ')\r\n",
    "            else:\r\n",
    "                semi_arr.append('#')\r\n",
    "        final_arr.append(''.join(semi_arr))\r\n",
    "    # \r\n",
    "    return final_arr\r\n",
    "\r\n",
    "print(puzzle(arr1, arr2))\r\n",
    "print(puzzle(arr3, arr4))"
   ],
   "outputs": [
    {
     "output_type": "stream",
     "name": "stdout",
     "text": [
      "['#####', '# # #', '### #', '#  ##', '#####']\n",
      "['######', '###  #', '##  ##', ' #### ', ' #####', '### # ']\n"
     ]
    }
   ],
   "metadata": {}
  }
 ],
 "metadata": {
  "orig_nbformat": 4,
  "language_info": {
   "name": "python",
   "version": "3.8.5",
   "mimetype": "text/x-python",
   "codemirror_mode": {
    "name": "ipython",
    "version": 3
   },
   "pygments_lexer": "ipython3",
   "nbconvert_exporter": "python",
   "file_extension": ".py"
  },
  "kernelspec": {
   "name": "python3",
   "display_name": "Python 3.8.5 64-bit ('base': conda)"
  },
  "interpreter": {
   "hash": "b3ba2566441a7c06988d0923437866b63cedc61552a5af99d1f4fb67d367b25f"
  }
 },
 "nbformat": 4,
 "nbformat_minor": 2
}