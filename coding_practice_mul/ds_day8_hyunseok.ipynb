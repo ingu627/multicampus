{
 "cells": [
  {
   "cell_type": "code",
   "execution_count": 158,
   "source": [
    "import numpy as np \r\n",
    "import pandas as pd\r\n",
    "from numpy import dot\r\n",
    "from numpy.linalg import norm"
   ],
   "outputs": [],
   "metadata": {}
  },
  {
   "cell_type": "code",
   "execution_count": null,
   "source": [
    "# 1.\r\n",
    "# ['a1','a2','a3','b1','b2','b3'] 형태를 ['a1', 'b1', 'a2', 'b2', 'a3', 'b3'] 형태로 출력"
   ],
   "outputs": [],
   "metadata": {}
  },
  {
   "cell_type": "code",
   "execution_count": 140,
   "source": [
    "list1 = ['a1','a2','a3','b1','b2','b3']\r\n",
    "list2 = [[list1[i][0], list1[i][1]] for i in range(len(list1))];list2\r\n",
    "list3 = sorted(list2, key= lambda x: (x[1], x[0])) ; list3 # 첫번째 정렬 : x[1], 두번째 정렬 : x[0] \r\n",
    "list4 = [''.join(list3[i]) for i in range(len(list3))];list4"
   ],
   "outputs": [
    {
     "output_type": "execute_result",
     "data": {
      "text/plain": [
       "['a1', 'b1', 'a2', 'b2', 'a3', 'b3']"
      ]
     },
     "metadata": {},
     "execution_count": 140
    }
   ],
   "metadata": {}
  },
  {
   "cell_type": "code",
   "execution_count": 167,
   "source": [
    "# data = [ [\"고구마\",25000], [\"바나나\",123232], [\"파인애플\",4500], [\"감자\",3000], [\"금귤\",6000] ]\r\n",
    "# sorted(data, key=lambda x: x[1])"
   ],
   "outputs": [],
   "metadata": {}
  },
  {
   "cell_type": "code",
   "execution_count": null,
   "source": [
    "# 2.\r\n",
    "# 골드바흐의 추측(Goldbach's conjecture)은 오래전부터 알려진 정수론의 미해결 문제로,\r\n",
    "# 2보다 큰 모든 짝수는 두 개의 소수(Prime number)의 합으로 표시할 수 있다는 것이다.\r\n",
    "# 이때 하나의 소수를 두 번 사용하는 것은 허용한다.\r\n",
    "#\r\n",
    "# 2보다 큰 짝수 n을 입력 받으면, n=p1+p2 를 만족하는 소수 p1,p2의 페어를 모두 출력하는 프로그램을 작성하시오.\r\n",
    "#\r\n",
    "# 입력예1: n=26\r\n",
    "#\r\n",
    "# 출력예1: [[3, 23], [7, 19], [13, 13]]\r\n",
    "#\r\n",
    "# 입력예2: n=48\r\n",
    "#\r\n",
    "# 출력예2 [[5, 43], [7, 41], [11, 37], [17, 31], [19, 29]]"
   ],
   "outputs": [],
   "metadata": {}
  },
  {
   "cell_type": "code",
   "execution_count": null,
   "source": [
    "# 단순하게 모든 숫자를 순회하며 1을 제외한 수로 나눠지는지 ( 소수는 1와 자신을 제외한 수로 나누어지지 않는 수이므로) 확인하는 방법.\r\n",
    "\r\n",
    "# 다만 모든 수를 다 나눠볼 필요는 없고, 자신의 절반 값까지만 확인해보면된다.\r\n",
    "\r\n",
    "# 왜냐하면 자신의 절반 보다 큰 수는 x2를 하면 자신보다 큰 값이 나오기 때문이다. \r\n",
    "# ( 예) 10/2 = 5,  5×2 = 10 이지만 6×2=12 )"
   ],
   "outputs": [],
   "metadata": {}
  },
  {
   "cell_type": "code",
   "execution_count": 110,
   "source": [
    "def get_prime_nums(n):\r\n",
    "    prime_nums = []\r\n",
    "\r\n",
    "    for i in range(2, n + 1):\r\n",
    "        flag = 1\r\n",
    "        for j in range(2, i // 2 + 1):\r\n",
    "            if i % j == 0:\r\n",
    "                flag = 0\r\n",
    "                break\r\n",
    "\r\n",
    "        if flag == 1:\r\n",
    "            prime_nums.append(i)\r\n",
    "\r\n",
    "    return prime_nums"
   ],
   "outputs": [],
   "metadata": {}
  },
  {
   "cell_type": "code",
   "execution_count": 116,
   "source": [
    "def get_two_nums(prime_list, n):\r\n",
    "    prime=[]\r\n",
    "    for first_num in prime_list:\r\n",
    "        for second_num in prime_list:\r\n",
    "            if first_num==second_num:\r\n",
    "                if first_num+second_num==n:\r\n",
    "                    prime.append([first_num, second_num])\r\n",
    "                else:\r\n",
    "                    continue\r\n",
    "            else:\r\n",
    "                if first_num+second_num==n:\r\n",
    "                    prime.append([first_num, second_num])\r\n",
    "    \r\n",
    "    if len(prime)%2==0:\r\n",
    "        return prime[:len(prime)//2]\r\n",
    "    else:\r\n",
    "        return prime[:len(prime)//2 +1]\r\n",
    "\r\n",
    "    "
   ],
   "outputs": [],
   "metadata": {}
  },
  {
   "cell_type": "code",
   "execution_count": 117,
   "source": [
    "get_two_nums(get_prime_nums(26), 26)"
   ],
   "outputs": [
    {
     "output_type": "execute_result",
     "data": {
      "text/plain": [
       "[[3, 23], [7, 19], [13, 13]]"
      ]
     },
     "metadata": {},
     "execution_count": 117
    }
   ],
   "metadata": {}
  },
  {
   "cell_type": "code",
   "execution_count": 118,
   "source": [
    "get_two_nums(get_prime_nums(48), 48)\r\n"
   ],
   "outputs": [
    {
     "output_type": "execute_result",
     "data": {
      "text/plain": [
       "[[5, 43], [7, 41], [11, 37], [17, 31], [19, 29]]"
      ]
     },
     "metadata": {},
     "execution_count": 118
    }
   ],
   "metadata": {}
  },
  {
   "cell_type": "code",
   "execution_count": null,
   "source": [
    "# 3. 다음과 같은 3개의 영화가 있다.\r\n",
    "# 영화단어등장횟수 = ['사랑', '증오', '발차기', '주먹질']\r\n",
    "\r\n",
    "# 영화1=[3,2,0,2]\r\n",
    "# 영화2=[1,2,3,0]\r\n",
    "# 영화3=[2,2,2,2]\r\n",
    "\r\n",
    "# 영화 3번을 재미있게 본 사람에게 영화 1또는 2를 추천하고자 한다.\r\n",
    "# 어떤 영화를 추천할건지 다양한 고민을 해보고, 혹시 가능하면 구현해보세요.\r\n",
    "\r\n",
    "# *고민할 사항들*\r\n",
    "# 벡터 내적으로 한다면 어떤 한계(문제점)가 있을까?\r\n",
    "# 만약 한계점이 발견 됐다면 다른 어떤 좋은 방법이 있을까?"
   ],
   "outputs": [],
   "metadata": {}
  },
  {
   "cell_type": "code",
   "execution_count": 147,
   "source": [
    "영화단어등장횟수 = ['사랑', '증오', '발차기', '주먹질']\r\n",
    "\r\n",
    "영화1=[3,2,0,2]\r\n",
    "영화2=[1,2,3,0]\r\n",
    "영화3=[2,2,2,2] \r\n",
    "\r\n",
    "arr1=np.array(영화1)\r\n",
    "arr2=np.array(영화2)\r\n",
    "arr3=np.array(영화3)"
   ],
   "outputs": [],
   "metadata": {}
  },
  {
   "cell_type": "code",
   "execution_count": 156,
   "source": [
    "def cos_sim(A, B):\r\n",
    "    return dot(A, B)/(norm(A)*norm(B))"
   ],
   "outputs": [],
   "metadata": {}
  },
  {
   "cell_type": "code",
   "execution_count": 168,
   "source": [
    "# (arr1*arr2).sum()\r\n",
    "print('\\t벡터의 내적화\\n')\r\n",
    "print(f'영화1과 영화3의 유사도 : {(arr1*arr3).sum()}')\r\n",
    "print(f'영화2과 영화3의 유사도 : {(arr2*arr3).sum()}')\r\n",
    "print('벡터 내적화를 했을 때 영화3과 영화1이 더 유사도가 높으므로 영화1를 추천해준다.\\n')\r\n",
    "\r\n",
    "print('반면 코사인 유사도를 이용하면')\r\n",
    "print(f'영화1과 영화3의 유사도 : {cos_sim(arr1,arr3):.2f}')\r\n",
    "print(f'영화2과 영화3의 유사도 : {cos_sim(arr2,arr3):.2f}')\r\n",
    "print('이므로 영화3은 영화1과 유사도가 높다고 볼수 있다.')\r\n"
   ],
   "outputs": [
    {
     "output_type": "stream",
     "name": "stdout",
     "text": [
      "\t벡터의 내적화\n",
      "\n",
      "영화1과 영화3의 유사도 : 14\n",
      "영화2과 영화3의 유사도 : 12\n",
      "벡터 내적화를 했을 때 영화3과 영화1이 더 유사도가 높으므로 영화1를 추천해준다.\n",
      "\n",
      "반면 코사인 유사도를 이용하면\n",
      "영화1과 영화3의 유사도 : 0.85\n",
      "영화2과 영화3의 유사도 : 0.80\n",
      "이므로 영화3은 영화1과 유사도가 높다고 볼수 있다.\n"
     ]
    }
   ],
   "metadata": {}
  }
 ],
 "metadata": {
  "orig_nbformat": 4,
  "language_info": {
   "name": "python",
   "version": "3.8.5",
   "mimetype": "text/x-python",
   "codemirror_mode": {
    "name": "ipython",
    "version": 3
   },
   "pygments_lexer": "ipython3",
   "nbconvert_exporter": "python",
   "file_extension": ".py"
  },
  "kernelspec": {
   "name": "python3",
   "display_name": "Python 3.8.5 64-bit ('base': conda)"
  },
  "interpreter": {
   "hash": "b3ba2566441a7c06988d0923437866b63cedc61552a5af99d1f4fb67d367b25f"
  }
 },
 "nbformat": 4,
 "nbformat_minor": 2
}