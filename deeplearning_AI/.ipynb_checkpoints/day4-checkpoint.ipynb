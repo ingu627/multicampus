{
 "cells": [
  {
   "cell_type": "code",
   "execution_count": null,
   "metadata": {},
   "outputs": [],
   "source": [
    "#if : 조건문 \n",
    "# 어떤 특정 조건이 되었을 때 처리를 해라."
   ]
  },
  {
   "cell_type": "code",
   "execution_count": null,
   "metadata": {},
   "outputs": [],
   "source": [
    "*자동차가 운행 중 정지를 해야하는 상황 \n",
    "\n",
    "if 신호등==빨강:\n",
    "    정지\n",
    "if 카메라==물체감지:\n",
    "    정지\n",
    "\n",
    "if 코로나단계==3:\n",
    "    집에서 식사 #의사(pseudo) 코드 \n",
    "if 코로나단계==2:\n",
    "    편의점에서 식사\n",
    "if 코로나단계==1:\n",
    "    식당에서 식사\n",
    "    \n",
    "# if 조건식:\n",
    "#     조건이 만족할 때 실행할 구문 : 본문"
   ]
  },
  {
   "cell_type": "code",
   "execution_count": 2,
   "metadata": {},
   "outputs": [],
   "source": [
    "x=3\n",
    "if x==3:\n",
    "    pass #나중에 코드 구현\n",
    "else:\n",
    "    print(\"다름\")\n",
    "\n",
    "#pass : 파이썬에서만 존재하는 문법, 조건 만족시 아무 작업도 수행하지 않고 다음 줄로 이동\n",
    "#조건을 만족했을 때 처리해야할 구문이 아직 정해지지 않은 상황\n"
   ]
  },
  {
   "cell_type": "code",
   "execution_count": 4,
   "metadata": {},
   "outputs": [
    {
     "name": "stdout",
     "output_type": "stream",
     "text": [
      "걸어가겠다\n"
     ]
    }
   ],
   "source": [
    "pocket=int(input(\"주머니에 얼마 있냐\"))\n",
    "\n",
    "if pocket>=3000:\n",
    "    print(\"택시를 이용하겠다.\") #if True:\n",
    "else: #else는 if없이 독립적으로 사용될 수 없다.\n",
    "    print(\"걸어가겠다\")"
   ]
  },
  {
   "cell_type": "code",
   "execution_count": null,
   "metadata": {},
   "outputs": [],
   "source": [
    "ㄹㄹ"
   ]
  },
  {
   "cell_type": "code",
   "execution_count": null,
   "metadata": {},
   "outputs": [],
   "source": []
  }
 ],
 "metadata": {
  "interpreter": {
   "hash": "b3ba2566441a7c06988d0923437866b63cedc61552a5af99d1f4fb67d367b25f"
  },
  "kernelspec": {
   "display_name": "Python 3",
   "language": "python",
   "name": "python3"
  },
  "language_info": {
   "codemirror_mode": {
    "name": "ipython",
    "version": 3
   },
   "file_extension": ".py",
   "mimetype": "text/x-python",
   "name": "python",
   "nbconvert_exporter": "python",
   "pygments_lexer": "ipython3",
   "version": "3.8.5"
  }
 },
 "nbformat": 4,
 "nbformat_minor": 4
}
