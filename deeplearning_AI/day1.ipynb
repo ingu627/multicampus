{
 "cells": [
  {
   "cell_type": "markdown",
   "metadata": {},
   "source": [
    "## python\n",
    "\n",
    "**python** is really cool \n",
    "\n",
    "- python\n",
    "    - pandas\n",
    "        - depth1\n",
    "    - numpy\n",
    "- java\n",
    "\n",
    "> 파이썬은 재밌다고 하더라...\n",
    "\n",
    "$y=3x$\n",
    "\n",
    "```python \n",
    "\n",
    "a=10\n",
    "print(a)\n",
    "```\n",
    "\n",
    "파란색인 상태에서 h를 누르면 도움말이 나온다.\n",
    "\n",
    "[파이썬 링크](https://ko.wikipedia.org/wiki/%ED%8C%8C%EC%9D%B4%EC%8D%AC)"
   ]
  },
  {
   "cell_type": "code",
   "execution_count": 1,
   "metadata": {
    "scrolled": true
   },
   "outputs": [
    {
     "name": "stdout",
     "output_type": "stream",
     "text": [
      "반갑습니다\n",
      "반갑습니다\n"
     ]
    }
   ],
   "source": [
    "print(\"반갑습니다\")\n",
    "\n",
    "print(\"반갑습니다\")"
   ]
  },
  {
   "cell_type": "code",
   "execution_count": 2,
   "metadata": {},
   "outputs": [],
   "source": [
    "x=1"
   ]
  },
  {
   "cell_type": "code",
   "execution_count": 3,
   "metadata": {},
   "outputs": [
    {
     "name": "stdout",
     "output_type": "stream",
     "text": [
      "3\n"
     ]
    }
   ],
   "source": [
    "print(x+2)"
   ]
  },
  {
   "cell_type": "code",
   "execution_count": 4,
   "metadata": {},
   "outputs": [
    {
     "name": "stdout",
     "output_type": "stream",
     "text": [
      "15\n",
      "15.0\n"
     ]
    }
   ],
   "source": [
    "# sum=0\n",
    "# sum=1\n",
    "# sum=sum+1\n",
    "# print(sum)\n",
    "\n",
    "sum=0\n",
    "for i in range(1,6):\n",
    "    sum=sum+i\n",
    "print(sum)\n",
    "print(5*(5+1)/2)"
   ]
  },
  {
   "cell_type": "code",
   "execution_count": 5,
   "metadata": {},
   "outputs": [
    {
     "name": "stdout",
     "output_type": "stream",
     "text": [
      "hello world\n"
     ]
    }
   ],
   "source": [
    "print(\"hello world\")"
   ]
  },
  {
   "cell_type": "code",
   "execution_count": 7,
   "metadata": {},
   "outputs": [
    {
     "name": "stdout",
     "output_type": "stream",
     "text": [
      "hello world\n",
      "123\n"
     ]
    }
   ],
   "source": [
    "print(\"hello world\");print(\"123\")"
   ]
  },
  {
   "cell_type": "code",
   "execution_count": 14,
   "metadata": {},
   "outputs": [
    {
     "name": "stdout",
     "output_type": "stream",
     "text": [
      "1입니다\n"
     ]
    }
   ],
   "source": [
    "a=1\n",
    "if a==1:\n",
    "    print(\"1입니다\")"
   ]
  },
  {
   "cell_type": "code",
   "execution_count": 15,
   "metadata": {
    "scrolled": true
   },
   "outputs": [
    {
     "name": "stdout",
     "output_type": "stream",
     "text": [
      "410000.0\n"
     ]
    }
   ],
   "source": [
    "x=111\n",
    "x=4.1E5 #4.1 * 10의 5승 => 실수형\n",
    "x=4.1e-5 #4.1 * 10의 -5승 => 실수형\n",
    "print(x)"
   ]
  },
  {
   "cell_type": "code",
   "execution_count": 18,
   "metadata": {},
   "outputs": [
    {
     "name": "stdout",
     "output_type": "stream",
     "text": [
      "15\n"
     ]
    }
   ],
   "source": [
    "x=0o17 #8진수 17을 의미 #8의 1승*1 + 8의0승*7 = 15\n",
    "print(x) #10진수로 변환되어 출력"
   ]
  },
  {
   "cell_type": "code",
   "execution_count": 20,
   "metadata": {},
   "outputs": [
    {
     "name": "stdout",
     "output_type": "stream",
     "text": [
      "14\n"
     ]
    }
   ],
   "source": [
    "# 0x붙인다  #16진수 0,1,2,3,...9,A,B,C,D,E,F,10,11,....\n",
    "x=0xE\n",
    "print(x)"
   ]
  },
  {
   "cell_type": "code",
   "execution_count": 24,
   "metadata": {},
   "outputs": [
    {
     "name": "stdout",
     "output_type": "stream",
     "text": [
      "6\n",
      "2\n",
      "2.5\n"
     ]
    }
   ],
   "source": [
    "print(4+2)\n",
    "print(4-2)\n",
    "print(5/2)"
   ]
  },
  {
   "cell_type": "code",
   "execution_count": 25,
   "metadata": {},
   "outputs": [
    {
     "data": {
      "text/plain": [
       "2"
      ]
     },
     "execution_count": 25,
     "metadata": {},
     "output_type": "execute_result"
    }
   ],
   "source": [
    "5//2 #정수"
   ]
  },
  {
   "cell_type": "code",
   "execution_count": 28,
   "metadata": {},
   "outputs": [
    {
     "data": {
      "text/plain": [
       "2.0"
      ]
     },
     "execution_count": 28,
     "metadata": {},
     "output_type": "execute_result"
    }
   ],
   "source": [
    "5.5//2 #몫만 나옴"
   ]
  },
  {
   "cell_type": "code",
   "execution_count": 29,
   "metadata": {},
   "outputs": [
    {
     "data": {
      "text/plain": [
       "2.0"
      ]
     },
     "execution_count": 29,
     "metadata": {},
     "output_type": "execute_result"
    }
   ],
   "source": [
    "4//2.0  #한쪽만 실수가 있어도 실수로 나옴"
   ]
  },
  {
   "cell_type": "code",
   "execution_count": 32,
   "metadata": {},
   "outputs": [
    {
     "data": {
      "text/plain": [
       "8"
      ]
     },
     "execution_count": 32,
     "metadata": {},
     "output_type": "execute_result"
    }
   ],
   "source": [
    "2**3 # 2의 3승(거듭제곱)"
   ]
  },
  {
   "cell_type": "code",
   "execution_count": 34,
   "metadata": {},
   "outputs": [
    {
     "name": "stdout",
     "output_type": "stream",
     "text": [
      "1\n",
      "2\n"
     ]
    }
   ],
   "source": [
    "print(5//3) #몫\n",
    "print(5%3) #나머지"
   ]
  },
  {
   "cell_type": "code",
   "execution_count": 45,
   "metadata": {},
   "outputs": [
    {
     "name": "stdout",
     "output_type": "stream",
     "text": [
      "2\n",
      "6\n",
      "51\n",
      "5.1\n"
     ]
    }
   ],
   "source": [
    "#데이터를 정수로 변환\n",
    "print(int(5//2.0))\n",
    "#문자열 -> 정수로 변환\n",
    "print(int('5')+1)\n",
    "print('5'+'1')\n",
    "#print(int(\"5.1\"))은 에러발생 \n",
    "\n",
    "print(float(\"5.1\")) #숫자(실수)로된 문자를 숫자로"
   ]
  },
  {
   "cell_type": "code",
   "execution_count": 48,
   "metadata": {},
   "outputs": [
    {
     "data": {
      "text/plain": [
       "(1, 2)"
      ]
     },
     "execution_count": 48,
     "metadata": {},
     "output_type": "execute_result"
    }
   ],
   "source": [
    "# 몫 : // , 나머지 : % \n",
    "# divmod() #몫과 나머지를 동시에 구하는 함수\n",
    "divmod(5,3) #5를 3으로 나눈 몫과 나머지를 구해라\n",
    "\n",
    "#함수명() : 함수\n",
    "#(,) : 튜플(자료형 중의 하나)"
   ]
  },
  {
   "cell_type": "code",
   "execution_count": 53,
   "metadata": {},
   "outputs": [
    {
     "name": "stdout",
     "output_type": "stream",
     "text": [
      "1\n",
      "2\n"
     ]
    }
   ],
   "source": [
    "m,n=divmod(5,3) #다른 언어에서는 에러가 남. 파이썬에서는 정상 작동\n",
    "print(m)\n",
    "print(n)"
   ]
  },
  {
   "cell_type": "code",
   "execution_count": 59,
   "metadata": {},
   "outputs": [
    {
     "name": "stdout",
     "output_type": "stream",
     "text": [
      "(1, 2)\n",
      "1\n"
     ]
    }
   ],
   "source": [
    "res=divmod(5,3)\n",
    "print(res)\n",
    "print(res[0])"
   ]
  },
  {
   "cell_type": "code",
   "execution_count": 62,
   "metadata": {},
   "outputs": [
    {
     "name": "stdout",
     "output_type": "stream",
     "text": [
      "<class 'float'>\n"
     ]
    }
   ],
   "source": [
    "print(type(3.14))\n",
    "#3.14"
   ]
  },
  {
   "cell_type": "code",
   "execution_count": 66,
   "metadata": {},
   "outputs": [
    {
     "data": {
      "text/plain": [
       "3.14"
      ]
     },
     "execution_count": 66,
     "metadata": {},
     "output_type": "execute_result"
    }
   ],
   "source": [
    "float(5) #강제로 실수형으로 변경\n",
    "type(float(5))\n",
    "float(1+3)\n",
    "float(3.14)"
   ]
  },
  {
   "cell_type": "code",
   "execution_count": 67,
   "metadata": {},
   "outputs": [
    {
     "data": {
      "text/plain": [
       "9"
      ]
     },
     "execution_count": 67,
     "metadata": {},
     "output_type": "execute_result"
    }
   ],
   "source": [
    "(1+2)*3\n",
    "#연산자 우선순위가 헷갈리면? 괄호로 묶어라"
   ]
  },
  {
   "cell_type": "code",
   "execution_count": 68,
   "metadata": {},
   "outputs": [
    {
     "name": "stdout",
     "output_type": "stream",
     "text": [
      "3\n"
     ]
    }
   ],
   "source": [
    "x,y,z=1,2,3\n",
    "print(z)"
   ]
  },
  {
   "cell_type": "code",
   "execution_count": null,
   "metadata": {},
   "outputs": [],
   "source": [
    "a=b=1\n",
    "#b=1 \n",
    "#a=b"
   ]
  },
  {
   "cell_type": "code",
   "execution_count": 92,
   "metadata": {},
   "outputs": [],
   "source": [
    "x=2\n",
    "y=3"
   ]
  },
  {
   "cell_type": "code",
   "execution_count": 93,
   "metadata": {},
   "outputs": [
    {
     "name": "stdout",
     "output_type": "stream",
     "text": [
      "3\n",
      "2\n"
     ]
    }
   ],
   "source": [
    "x,y=y,x\n",
    "\n",
    "# t=y\n",
    "# y=x\n",
    "# x=t\n",
    "#x와 y값이 서로 교환 \n",
    "print(x)\n",
    "print(y)"
   ]
  },
  {
   "cell_type": "code",
   "execution_count": 95,
   "metadata": {},
   "outputs": [
    {
     "ename": "NameError",
     "evalue": "name 'x' is not defined",
     "output_type": "error",
     "traceback": [
      "\u001b[1;31m---------------------------------------------------------------------------\u001b[0m",
      "\u001b[1;31mNameError\u001b[0m                                 Traceback (most recent call last)",
      "\u001b[1;32m<ipython-input-95-1beca76b84e9>\u001b[0m in \u001b[0;36m<module>\u001b[1;34m\u001b[0m\n\u001b[1;32m----> 1\u001b[1;33m \u001b[1;32mdel\u001b[0m \u001b[0mx\u001b[0m\u001b[1;33m\u001b[0m\u001b[1;33m\u001b[0m\u001b[0m\n\u001b[0m\u001b[0;32m      2\u001b[0m \u001b[0mx\u001b[0m\u001b[1;33m\u001b[0m\u001b[1;33m\u001b[0m\u001b[0m\n",
      "\u001b[1;31mNameError\u001b[0m: name 'x' is not defined"
     ]
    }
   ],
   "source": [
    "del x"
   ]
  },
  {
   "cell_type": "code",
   "execution_count": 96,
   "metadata": {},
   "outputs": [],
   "source": [
    "a=3"
   ]
  },
  {
   "cell_type": "code",
   "execution_count": 97,
   "metadata": {},
   "outputs": [
    {
     "name": "stdout",
     "output_type": "stream",
     "text": [
      "3\n"
     ]
    }
   ],
   "source": [
    "print(a)"
   ]
  },
  {
   "cell_type": "code",
   "execution_count": 98,
   "metadata": {},
   "outputs": [],
   "source": [
    "b=None #값이 없음을 의미\n",
    "# None : 값이 들어가 있지 않은 변수를 선언"
   ]
  },
  {
   "cell_type": "code",
   "execution_count": null,
   "metadata": {},
   "outputs": [],
   "source": [
    "a=3\n",
    "#a=a+1, a=a-1\n",
    "#a+=1, a-=1 =>축약형"
   ]
  },
  {
   "cell_type": "code",
   "execution_count": 99,
   "metadata": {},
   "outputs": [
    {
     "name": "stdout",
     "output_type": "stream",
     "text": [
      "3\n"
     ]
    }
   ],
   "source": [
    "x=-3\n",
    "print(-x)"
   ]
  },
  {
   "cell_type": "code",
   "execution_count": 109,
   "metadata": {},
   "outputs": [
    {
     "name": "stdout",
     "output_type": "stream",
     "text": [
      "첫번째 숫자를 입력한 후 엔터를 치세요 : 5\n",
      "두번째 숫자를 입력한 후 엔터를 치세요 : 3\n"
     ]
    }
   ],
   "source": [
    "#변수 입력 \n",
    "#x=3\n",
    "\n",
    "i=int(input(\"첫번째 숫자를 입력한 후 엔터를 치세요 : \"))\n",
    "j=int(input(\"두번째 숫자를 입력한 후 엔터를 치세요 : \"))\n",
    "\n",
    "#in [*]은 실행 중이다를 의미"
   ]
  },
  {
   "cell_type": "code",
   "execution_count": 110,
   "metadata": {},
   "outputs": [
    {
     "name": "stdout",
     "output_type": "stream",
     "text": [
      "5\n",
      "3\n",
      "8\n"
     ]
    }
   ],
   "source": [
    "print(i)\n",
    "print(j)\n",
    "print(i+j) #'5'+'3'=>'53'"
   ]
  },
  {
   "cell_type": "code",
   "execution_count": 113,
   "metadata": {},
   "outputs": [
    {
     "name": "stdout",
     "output_type": "stream",
     "text": [
      "단어를 2개 입력 : hi hello\n",
      "hi\n",
      "hello\n"
     ]
    }
   ],
   "source": [
    "x=input(\"단어를 2개 입력 : \") #x=\"hi hello\"\n",
    "a,b=x.split() #문자열을 공백으로 분리\n",
    "#문자열에 대해 어떤 연산을 수행하고자 하는 경우에는\n",
    "#문자열.함수이름()\n",
    "# .은 구분자 역할\n",
    "\n",
    "print(a)\n",
    "print(b)"
   ]
  },
  {
   "cell_type": "code",
   "execution_count": 114,
   "metadata": {},
   "outputs": [
    {
     "name": "stdout",
     "output_type": "stream",
     "text": [
      "단어를 2개 입력 : hi#hello\n",
      "hi\n",
      "hello\n"
     ]
    }
   ],
   "source": [
    "x=input(\"단어를 2개 입력 : \") #x=\"hi#hello\"\n",
    "a,b=x.split(\"#\") #문자열을 #를 기준으로 분리\n",
    "#문자열에 대해 어떤 연산을 수행하고자 하는 경우에는\n",
    "#문자열.함수이름()\n",
    "# .은 구분자 역할\n",
    "\n",
    "print(a)\n",
    "print(b)"
   ]
  },
  {
   "cell_type": "code",
   "execution_count": 116,
   "metadata": {},
   "outputs": [
    {
     "name": "stdout",
     "output_type": "stream",
     "text": [
      "단어를 2개 입력 : happydayhihello\n",
      "['', 'appyday', 'i', 'ello']\n"
     ]
    }
   ],
   "source": [
    "x=input(\"단어를 2개 입력 : \") #x=\"hi#hello\"\n",
    "a=x.split(\"h\") #문자열을 #를 기준으로 분리\n",
    "#문자열에 대해 어떤 연산을 수행하고자 하는 경우에는\n",
    "#문자열.함수이름()\n",
    "# .은 구분자 역할\n",
    "\n",
    "print(a)"
   ]
  },
  {
   "cell_type": "code",
   "execution_count": 117,
   "metadata": {},
   "outputs": [
    {
     "data": {
      "text/plain": [
       "'hello'"
      ]
     },
     "execution_count": 117,
     "metadata": {},
     "output_type": "execute_result"
    }
   ],
   "source": [
    "\"hello\"\n",
    "'hello'\n",
    "'''hello'''"
   ]
  },
  {
   "cell_type": "code",
   "execution_count": 119,
   "metadata": {},
   "outputs": [
    {
     "name": "stdout",
     "output_type": "stream",
     "text": [
      "\n",
      "hello\n",
      "\n"
     ]
    }
   ],
   "source": [
    "x=\"\"\"\n",
    "hello\n",
    "\"\"\"\n",
    "print(x)"
   ]
  },
  {
   "cell_type": "code",
   "execution_count": 126,
   "metadata": {},
   "outputs": [],
   "source": [
    "x=\"\"\"Life\n",
    "is \n",
    "too\n",
    "short\n",
    "You\n",
    "need\n",
    "Python\"\"\""
   ]
  },
  {
   "cell_type": "code",
   "execution_count": 127,
   "metadata": {},
   "outputs": [
    {
     "name": "stdout",
     "output_type": "stream",
     "text": [
      "Life\n",
      "is \n",
      "too\n",
      "short\n",
      "You\n",
      "need\n",
      "Python\n"
     ]
    }
   ],
   "source": [
    "print(x)"
   ]
  },
  {
   "cell_type": "code",
   "execution_count": 136,
   "metadata": {},
   "outputs": [],
   "source": [
    "x=\"Python's\""
   ]
  },
  {
   "cell_type": "code",
   "execution_count": 137,
   "metadata": {},
   "outputs": [
    {
     "name": "stdout",
     "output_type": "stream",
     "text": [
      "Python's\n"
     ]
    }
   ],
   "source": [
    "print(x)"
   ]
  },
  {
   "cell_type": "code",
   "execution_count": 138,
   "metadata": {},
   "outputs": [
    {
     "name": "stdout",
     "output_type": "stream",
     "text": [
      "\"Python is easy.\" he says\n"
     ]
    }
   ],
   "source": [
    "he='\"Python is easy.\" he says'\n",
    "print(he)"
   ]
  },
  {
   "cell_type": "code",
   "execution_count": 140,
   "metadata": {},
   "outputs": [
    {
     "name": "stdout",
     "output_type": "stream",
     "text": [
      "Life\n",
      " is too\n",
      "short\n"
     ]
    }
   ],
   "source": [
    "s=\"Life\\n is too\\nshort\" # \\n은 줄바꿈\n",
    "print(s)"
   ]
  },
  {
   "cell_type": "code",
   "execution_count": 142,
   "metadata": {},
   "outputs": [
    {
     "name": "stdout",
     "output_type": "stream",
     "text": [
      "--------------------------------------------------\n",
      "lifelifelifelifelife\n",
      "--------------------------------------------------\n"
     ]
    }
   ],
   "source": [
    "s=\"life\"  #문자열을 원하는 횟수만큼 출력가능\n",
    "print(\"-\"*50)\n",
    "print(s*5)\n",
    "print(\"-\"*50)\n"
   ]
  },
  {
   "cell_type": "code",
   "execution_count": 144,
   "metadata": {},
   "outputs": [
    {
     "name": "stdout",
     "output_type": "stream",
     "text": [
      "4\n"
     ]
    },
    {
     "data": {
      "text/plain": [
       "'f'"
      ]
     },
     "execution_count": 144,
     "metadata": {},
     "output_type": "execute_result"
    }
   ],
   "source": [
    "s=\"life\" #len은 length의 약자 #s의 문자열의 수를 구함\n",
    "print(len(s))\n",
    "s[2]\n",
    "s[-1] #맨 뒤에서부터 첫번째 문자"
   ]
  },
  {
   "cell_type": "code",
   "execution_count": 146,
   "metadata": {},
   "outputs": [
    {
     "name": "stdout",
     "output_type": "stream",
     "text": [
      "i\n",
      "is too short\n",
      "Lif\n",
      "Life is too short\n",
      "is too sh\n"
     ]
    }
   ],
   "source": [
    "s=\"Life is too short\"\n",
    "print(s[5]) # : 은 범위지정\n",
    "print(s[5:]) #5번 index~ 마지막까지 \n",
    "print(s[:3]) #맨 앞에서부터 3-1번 index까지\n",
    "print(s[:])\n",
    "print(s[5:-3])"
   ]
  },
  {
   "cell_type": "code",
   "execution_count": 150,
   "metadata": {},
   "outputs": [
    {
     "data": {
      "text/plain": [
       "'science'"
      ]
     },
     "execution_count": 150,
     "metadata": {},
     "output_type": "execute_result"
    }
   ],
   "source": [
    "s=\"saience\" #a-> c \n",
    "#s[1]=\"c\" #문자 하나하나는 분리할 수 없다.\n",
    "\n",
    "#바꿀거면\n",
    "s[:1]+'c'+s[2:]"
   ]
  },
  {
   "cell_type": "code",
   "execution_count": null,
   "metadata": {},
   "outputs": [],
   "source": []
  },
  {
   "cell_type": "code",
   "execution_count": null,
   "metadata": {},
   "outputs": [],
   "source": []
  },
  {
   "cell_type": "code",
   "execution_count": null,
   "metadata": {},
   "outputs": [],
   "source": []
  },
  {
   "cell_type": "code",
   "execution_count": null,
   "metadata": {},
   "outputs": [],
   "source": []
  }
 ],
 "metadata": {
  "kernelspec": {
   "display_name": "Python 3",
   "language": "python",
   "name": "python3"
  },
  "language_info": {
   "codemirror_mode": {
    "name": "ipython",
    "version": 3
   },
   "file_extension": ".py",
   "mimetype": "text/x-python",
   "name": "python",
   "nbconvert_exporter": "python",
   "pygments_lexer": "ipython3",
   "version": "3.8.5"
  }
 },
 "nbformat": 4,
 "nbformat_minor": 4
}
