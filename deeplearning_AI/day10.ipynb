{
 "metadata": {
  "language_info": {
   "codemirror_mode": {
    "name": "ipython",
    "version": 3
   },
   "file_extension": ".py",
   "mimetype": "text/x-python",
   "name": "python",
   "nbconvert_exporter": "python",
   "pygments_lexer": "ipython3",
   "version": "3.8.5"
  },
  "orig_nbformat": 4,
  "kernelspec": {
   "name": "python3",
   "display_name": "Python 3.8.5 64-bit ('base': conda)"
  },
  "interpreter": {
   "hash": "b3ba2566441a7c06988d0923437866b63cedc61552a5af99d1f4fb67d367b25f"
  }
 },
 "nbformat": 4,
 "nbformat_minor": 2,
 "cells": [
  {
   "cell_type": "code",
   "execution_count": 1,
   "source": [
    "import re"
   ],
   "outputs": [],
   "metadata": {}
  },
  {
   "cell_type": "code",
   "execution_count": 5,
   "source": [
    "# Dot(.) : 모든 문자와 매치가 됨(단, \\n은 제외)\r\n",
    "re.match('ab','abc')\r\n",
    "re.match('a.b', 'abc')\r\n",
    "re.match('a.b', 'acbc')\r\n",
    "re.match('a.b', 'accbc')\r\n",
    "\r\n",
    "#[.] : 반드시 점이 있어야 함\r\n",
    "re.match('a[.]b', 'a.b')\r\n",
    "re.match('a[.,]b', 'a,b') # [ ]는 안에 중 어느 하나가 온다. 하나만 쓰면 그것만 반드시 나와야 함\r\n"
   ],
   "outputs": [
    {
     "output_type": "execute_result",
     "data": {
      "text/plain": [
       "<re.Match object; span=(0, 3), match='a,b'>"
      ]
     },
     "metadata": {},
     "execution_count": 5
    }
   ],
   "metadata": {}
  },
  {
   "cell_type": "code",
   "execution_count": 6,
   "source": [
    "re.match('a[.][.]b', 'a..b')"
   ],
   "outputs": [
    {
     "output_type": "execute_result",
     "data": {
      "text/plain": [
       "<re.Match object; span=(0, 4), match='a..b'>"
      ]
     },
     "metadata": {},
     "execution_count": 6
    }
   ],
   "metadata": {}
  },
  {
   "cell_type": "code",
   "execution_count": 12,
   "source": [
    "# 문자{숫자}: 반드시 숫자만큼 왼쪽에 있는 문자가 반복되어야 함\r\n",
    "re.match('do{2}g', 'dog') # o라는 문자가 2번반복\r\n",
    "re.match('do{2}g', 'doog')\r\n",
    "re.match('do{2}g', 'dooog')\r\n",
    "\r\n",
    "# 문자{숫자1,숫자2}: 반드시 숫자1 이상 숫자2 이하만큼 왼쪽에 있는 문자가 반복되어야 함\r\n",
    "re.match('do{2,5}g', 'doog')\r\n",
    "\r\n",
    "re.match('do{2,5}g', 'doooooog')\r\n"
   ],
   "outputs": [],
   "metadata": {}
  },
  {
   "cell_type": "code",
   "execution_count": 14,
   "source": [
    "# ? == {0,1} : 0번이상 1번이하 \r\n",
    "\r\n",
    "# * == {0, 무한대}\r\n",
    "\r\n",
    "# + == {1, 무한대}"
   ],
   "outputs": [],
   "metadata": {}
  },
  {
   "cell_type": "code",
   "execution_count": 18,
   "source": [
    "re.match('do?g', 'dog')\r\n",
    "re.match('do?g', 'dg')\r\n",
    "re.match('do?g', 'doog')"
   ],
   "outputs": [],
   "metadata": {}
  },
  {
   "cell_type": "code",
   "execution_count": 22,
   "source": [
    "s='How are you?'\r\n",
    "\r\n",
    "re.findall('[\\w?*]+', s)"
   ],
   "outputs": [
    {
     "output_type": "execute_result",
     "data": {
      "text/plain": [
       "['How', 'are', 'you?']"
      ]
     },
     "metadata": {},
     "execution_count": 22
    }
   ],
   "metadata": {}
  },
  {
   "cell_type": "code",
   "execution_count": 24,
   "source": [
    "# re.match('패턴식', '문자열')\r\n",
    "\r\n",
    "pat=re.compile('[a-z]+')\r\n",
    "res=pat.match('python')\r\n",
    "res"
   ],
   "outputs": [
    {
     "output_type": "execute_result",
     "data": {
      "text/plain": [
       "<re.Match object; span=(0, 6), match='python'>"
      ]
     },
     "metadata": {},
     "execution_count": 24
    }
   ],
   "metadata": {}
  },
  {
   "cell_type": "code",
   "execution_count": 31,
   "source": [
    "# re.match('패턴식', '문자열')\r\n",
    "\r\n",
    "pat=re.compile('[a-z]+')\r\n",
    "res=pat.search('100 python')\r\n",
    "res"
   ],
   "outputs": [
    {
     "output_type": "execute_result",
     "data": {
      "text/plain": [
       "<re.Match object; span=(4, 10), match='python'>"
      ]
     },
     "metadata": {},
     "execution_count": 31
    }
   ],
   "metadata": {}
  },
  {
   "cell_type": "code",
   "execution_count": 32,
   "source": [
    "res.group() # 매치된 문자열을 출력\r\n",
    "len(res.group())\r\n",
    "res.start() # 매치된 문자열의 시작위치\r\n",
    "res.end() # 매치된 문자열의 끝위치\r\n",
    "res.span() #매치된 문자열의 (시작, 끝)위치 리턴\r\n",
    "\r\n"
   ],
   "outputs": [
    {
     "output_type": "execute_result",
     "data": {
      "text/plain": [
       "(4, 10)"
      ]
     },
     "metadata": {},
     "execution_count": 32
    }
   ],
   "metadata": {}
  },
  {
   "cell_type": "code",
   "execution_count": 53,
   "source": [
    "# pat=re.compile('[a-z]+\\\\')\r\n",
    "# pat.search('test\\\\')\r\n",
    "\r\n",
    "re.match('\\\\\\\\','\\\\\\test')"
   ],
   "outputs": [
    {
     "output_type": "execute_result",
     "data": {
      "text/plain": [
       "<re.Match object; span=(0, 1), match='\\\\'>"
      ]
     },
     "metadata": {},
     "execution_count": 53
    }
   ],
   "metadata": {}
  },
  {
   "cell_type": "code",
   "execution_count": 64,
   "source": [
    "res=re.match('([0-9]+) ([0-9]+)','100 200')\r\n",
    "res\r\n",
    "res.group(1)\r\n",
    "res.group(2)\r\n",
    "res.group() # == res.group(0)\r\n",
    "\r\n"
   ],
   "outputs": [
    {
     "output_type": "execute_result",
     "data": {
      "text/plain": [
       "'100 200'"
      ]
     },
     "metadata": {},
     "execution_count": 64
    }
   ],
   "metadata": {}
  },
  {
   "cell_type": "code",
   "execution_count": 71,
   "source": [
    "res=re.match('(?P<first>[0-9]+) (?P<second>[0-9]+)','100 200') \r\n",
    "# ?P<그룹명>\r\n",
    "res.group(1)\r\n",
    "res.group('first')\r\n",
    "res.group(2)\r\n",
    "res.group('second')"
   ],
   "outputs": [
    {
     "output_type": "execute_result",
     "data": {
      "text/plain": [
       "'200'"
      ]
     },
     "metadata": {},
     "execution_count": 71
    }
   ],
   "metadata": {}
  },
  {
   "cell_type": "code",
   "execution_count": 73,
   "source": [
    "# 동의어 처리\r\n",
    "# re.sub('정규식', '바꿀문자열', '문자열')\r\n",
    "# 문자열이 정규식에 매칭되면 바꿀문자열로 변경하시오.\r\n",
    "\r\n",
    "re.sub('대한민국|코리아|Korea', '한국', '대한민국은 코리아(Korea)입니다.')"
   ],
   "outputs": [
    {
     "output_type": "execute_result",
     "data": {
      "text/plain": [
       "'한국은 한국(한국)입니다.'"
      ]
     },
     "metadata": {},
     "execution_count": 73
    }
   ],
   "metadata": {}
  },
  {
   "cell_type": "code",
   "execution_count": 75,
   "source": [
    "#다의어 처리???\r\n",
    "#배 -타는, 먹는, 신체...\r\n",
    "\r\n",
    "# 배를 타고 가는 길에 배를 많이 먹었더니 배가 아프다. 나는 다른 거를 타겠다. 내 배는 똥배가 나왔다.\r\n",
    "\r\n",
    "# 철수와 영희는 만나서 공부를 하였다. (그/그녀)는 영희와 도서관에 갔다"
   ],
   "outputs": [],
   "metadata": {}
  },
  {
   "cell_type": "code",
   "execution_count": 77,
   "source": [
    "re.match('(가나다)+', '가나다가나다가나다라마바') #전체가 하나로 묶여서 몇번 반복되는지 보고 싶다. ( )를 묶는다."
   ],
   "outputs": [
    {
     "output_type": "execute_result",
     "data": {
      "text/plain": [
       "<re.Match object; span=(0, 9), match='가나다가나다가나다'>"
      ]
     },
     "metadata": {},
     "execution_count": 77
    }
   ],
   "metadata": {}
  },
  {
   "cell_type": "code",
   "execution_count": 81,
   "source": [
    "#       a[.]{3,}b 패턴식\r\n",
    "re.match('a[.]{3,}b', 'accb')\r\n",
    "re.match('a[.]{3,}b', 'a........b')\r\n",
    "re.match('a[.]{3,}b', 'aaab')\r\n",
    "re.match('a[.]{3,}b', 'a.ccccb')"
   ],
   "outputs": [],
   "metadata": {}
  },
  {
   "cell_type": "code",
   "execution_count": 101,
   "source": [
    "s='''\r\n",
    "kim 010-1111-2222\r\n",
    "lee 010-1111-3333\r\n",
    "park 010-1111-1111\r\n",
    "'''\r\n",
    "#4자리 전화번호를 #기호로 모두 변경\r\n",
    "pat=re.compile('(\\d{3}[-]\\d{4})[-]\\d{4}')\r\n",
    "pat.sub('\\g<1>-####' ,s) #\\g<1> 그룹 첫번째를 의미\r\n",
    "\r\n",
    "#or\r\n",
    "re.sub('(\\d{3}[-]\\d{4})[-]\\d{4}', '\\g<1>-####',s)\r\n",
    "\r\n",
    "\r\n"
   ],
   "outputs": [
    {
     "output_type": "execute_result",
     "data": {
      "text/plain": [
       "'\\nkim 010-1111-####\\nlee 010-1111-####\\npark 010-1111-####\\n'"
      ]
     },
     "metadata": {},
     "execution_count": 101
    }
   ],
   "metadata": {}
  },
  {
   "cell_type": "code",
   "execution_count": null,
   "source": [
    "#전화번호 추출 \r\n",
    "#문의 전화는 02-123-4567으로 연락주세요 \r\n",
    "#문의 전화는 02-1234-4567으로 연락주세요 \r\n",
    "#문의 전화는 032-1234-4567으로 연락주세요 \r\n",
    "#지역번호 2 or 3, 국번호 3 or 4자리, 전화번호 4자리 패턴식 정의\r\n",
    "\r\n"
   ],
   "outputs": [],
   "metadata": {}
  },
  {
   "cell_type": "code",
   "execution_count": 103,
   "source": [
    "전화번호 = '02-123-4567'\r\n",
    "\r\n",
    "re.match('\\d{2,3}[-]\\d{3,4}[-]\\d{4}', '전화번호')"
   ],
   "outputs": [],
   "metadata": {}
  },
  {
   "cell_type": "code",
   "execution_count": 106,
   "source": [
    "re.match('\\\\\\\\', '\\\\문자열') #문자열에 \\가 왔을때, \\를 인식"
   ],
   "outputs": [
    {
     "output_type": "execute_result",
     "data": {
      "text/plain": [
       "<re.Match object; span=(0, 1), match='\\\\'>"
      ]
     },
     "metadata": {},
     "execution_count": 106
    }
   ],
   "metadata": {}
  },
  {
   "cell_type": "code",
   "execution_count": 1,
   "source": [
    "bool(0.0)"
   ],
   "outputs": [
    {
     "output_type": "execute_result",
     "data": {
      "text/plain": [
       "False"
      ]
     },
     "metadata": {},
     "execution_count": 1
    }
   ],
   "metadata": {}
  }
 ]
}