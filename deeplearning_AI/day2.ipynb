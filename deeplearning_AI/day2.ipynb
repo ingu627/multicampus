{
 "cells": [
  {
   "cell_type": "code",
   "execution_count": 2,
   "metadata": {
    "scrolled": true
   },
   "outputs": [
    {
     "name": "stdout",
     "output_type": "stream",
     "text": [
      "숫자 두 개를 입력 : 1 2\n",
      "3\n"
     ]
    }
   ],
   "source": [
    "x,y=input(\"숫자 두 개를 입력 : \").split()\n",
    "print(int(x)+int(y))"
   ]
  },
  {
   "cell_type": "code",
   "execution_count": 5,
   "metadata": {},
   "outputs": [
    {
     "name": "stdout",
     "output_type": "stream",
     "text": [
      "숫자를 입력 : 3\n",
      "5\n"
     ]
    }
   ],
   "source": [
    "x=int(input(\"숫자를 입력 : \"))\n",
    "print(x+2)"
   ]
  },
  {
   "cell_type": "code",
   "execution_count": 4,
   "metadata": {},
   "outputs": [
    {
     "name": "stdout",
     "output_type": "stream",
     "text": [
      "숫자 두 개를 입력 : 2 3 \n",
      "['2', '3']\n"
     ]
    }
   ],
   "source": [
    "print(input(\"숫자 두 개를 입력 : \").split())"
   ]
  },
  {
   "cell_type": "code",
   "execution_count": null,
   "metadata": {},
   "outputs": [],
   "source": [
    "#int(['2','3']) error"
   ]
  },
  {
   "cell_type": "code",
   "execution_count": 8,
   "metadata": {},
   "outputs": [
    {
     "name": "stdout",
     "output_type": "stream",
     "text": [
      "숫자 입력 : 2 3 \n",
      "5\n"
     ]
    }
   ],
   "source": [
    "#map함수 #2번째부터 실행 #map : 리스트의 요소를 지정된 함수로 처리해주는 함수 \n",
    "#list : 2,3이 저장되어 있는 포장된 박스\n",
    "x,y=map(int, input(\"숫자 입력 : \").split())\n",
    "print(x+y)\n"
   ]
  },
  {
   "cell_type": "code",
   "execution_count": 11,
   "metadata": {},
   "outputs": [
    {
     "name": "stdout",
     "output_type": "stream",
     "text": [
      "숫자 입력 : 1,2\n",
      "3\n"
     ]
    }
   ],
   "source": [
    "x,y=map(int,input(\"숫자 입력 : \").split(','))\n",
    "print(x+y)"
   ]
  },
  {
   "cell_type": "code",
   "execution_count": 12,
   "metadata": {},
   "outputs": [
    {
     "name": "stdout",
     "output_type": "stream",
     "text": [
      "10 20 30\n",
      "10,20,30\n"
     ]
    }
   ],
   "source": [
    "#sep = separater : 구분자 \n",
    "\n",
    "print(10,20,30)\n",
    "print(10,20,30, sep=\",\")"
   ]
  },
  {
   "cell_type": "code",
   "execution_count": 15,
   "metadata": {},
   "outputs": [
    {
     "data": {
      "text/plain": [
       "True"
      ]
     },
     "execution_count": 15,
     "metadata": {},
     "output_type": "execute_result"
    }
   ],
   "source": [
    "#boolean : 상수값 (참, 값) => True, False\n",
    "\n",
    "#비교연산자(3>2), 논리연산자 => 연산 결과가 불린형\n",
    "\n",
    "# = 의미는 assign, == 의미ㅡㄴㄴ equal\n",
    "\n",
    "3>2\n",
    "1==2\n",
    "1 !=2 # != (not equal)"
   ]
  },
  {
   "cell_type": "code",
   "execution_count": 17,
   "metadata": {},
   "outputs": [
    {
     "data": {
      "text/plain": [
       "False"
      ]
     },
     "execution_count": 17,
     "metadata": {},
     "output_type": "execute_result"
    }
   ],
   "source": [
    "'test' == 'test'\n",
    "'test' == 'Test'\n",
    "\n",
    "#자연어 전처리 과정에서는 대소문자를 통일하는 작업을 수행"
   ]
  },
  {
   "cell_type": "code",
   "execution_count": null,
   "metadata": {},
   "outputs": [],
   "source": [
    "10 >= 10 #크거나 같다."
   ]
  },
  {
   "cell_type": "code",
   "execution_count": null,
   "metadata": {},
   "outputs": [],
   "source": [
    "#변수 = 변하는 / 상수 = 고정"
   ]
  },
  {
   "cell_type": "code",
   "execution_count": 25,
   "metadata": {},
   "outputs": [
    {
     "data": {
      "text/plain": [
       "True"
      ]
     },
     "execution_count": 25,
     "metadata": {},
     "output_type": "execute_result"
    }
   ],
   "source": [
    "#논리연산자 : and, or, not 연산자 \n",
    "True \n",
    "False \n",
    "\n",
    "#and : 모두 다 참인경우만 참이 되는 연산자 \n",
    "True and False\n",
    "True and True \n",
    "\n",
    "#or : 적어도 하나 이상이 참인경우 참이 되는 연산자\n",
    "True or False\n",
    "True or True\n",
    "\n",
    "#not : 참-> 거짓, 거짓 -> 참\n",
    "not True\n",
    "\n",
    "#논리 연산자 우선순위 : not, and, or \n",
    "not True and False\n",
    "\n",
    "True and True or not True\n",
    "\n",
    "# not True and False or not False\n",
    "# => False and False or True\n",
    "# => False or True\n",
    "# => True\n",
    "\n"
   ]
  },
  {
   "cell_type": "code",
   "execution_count": 26,
   "metadata": {},
   "outputs": [
    {
     "data": {
      "text/plain": [
       "True"
      ]
     },
     "execution_count": 26,
     "metadata": {},
     "output_type": "execute_result"
    }
   ],
   "source": [
    "1==1 and 1!=2\n",
    "#비교연산자 : 2개, 논리연산자 : 1개\n",
    "#우선순위가 비교 > 논리"
   ]
  },
  {
   "cell_type": "code",
   "execution_count": 34,
   "metadata": {},
   "outputs": [
    {
     "data": {
      "text/plain": [
       "False"
      ]
     },
     "execution_count": 34,
     "metadata": {},
     "output_type": "execute_result"
    }
   ],
   "source": [
    "#bool():  정수, 실수, 문자 -> 불린\n",
    "\n",
    "bool(100)\n",
    "bool(-100)\n",
    "bool(0) # 거짓 # 0이 아닌 나머지 모든 수는 참\n",
    "\n",
    "bool(3.14)\n",
    "bool(0.0) #거짓 \n",
    "\n",
    "bool('a')\n",
    "bool('test')\n",
    "bool(\" \") #공백도 하나의 문자\n",
    "bool(\"\") #거짓"
   ]
  },
  {
   "cell_type": "code",
   "execution_count": 36,
   "metadata": {},
   "outputs": [
    {
     "name": "stdout",
     "output_type": "stream",
     "text": [
      "정상처리\n"
     ]
    }
   ],
   "source": [
    "x=\" \"\n",
    "if x:\n",
    "    print(\"정상처리\")\n",
    "else:\n",
    "    print(\"비정상처리\")"
   ]
  },
  {
   "cell_type": "code",
   "execution_count": 38,
   "metadata": {},
   "outputs": [
    {
     "name": "stdout",
     "output_type": "stream",
     "text": [
      "I eat 10 apples\n",
      "I eat hello apples\n"
     ]
    }
   ],
   "source": [
    "#문자열 관련 함수 \n",
    "#포매팅 : 정해진 출력에 맞춰서\n",
    "a=\"hello\"\n",
    "\n",
    "print(\"I eat %d apples\" % 10) #d=digit\n",
    "print(\"I eat %s apples\" % a) #s=string"
   ]
  },
  {
   "cell_type": "code",
   "execution_count": 41,
   "metadata": {},
   "outputs": [
    {
     "name": "stdout",
     "output_type": "stream",
     "text": [
      "I ate 3 apples. so I was sick for three days\n"
     ]
    }
   ],
   "source": [
    "print(\"I ate %d apples. so I was sick for %s days\" %(3, \"three\")) \n",
    "#2개 이상의 포맷이 오는 상황이면 ( )로 묶어라!! "
   ]
  },
  {
   "cell_type": "code",
   "execution_count": 45,
   "metadata": {
    "scrolled": true
   },
   "outputs": [
    {
     "name": "stdout",
     "output_type": "stream",
     "text": [
      "I eat 2 apples\n",
      "I eat 2.100000 apples\n",
      "I eat 2.10 apples\n"
     ]
    }
   ],
   "source": [
    "x=2.1\n",
    "print(\"I eat %d apples\" % x)\n",
    "print(\"I eat %f apples\" % x)\n",
    "print(\"I eat %.2f apples\" % x) #소수점 나타내기"
   ]
  },
  {
   "cell_type": "code",
   "execution_count": 47,
   "metadata": {},
   "outputs": [
    {
     "name": "stdout",
     "output_type": "stream",
     "text": [
      "Accuracy is 90%\n"
     ]
    }
   ],
   "source": [
    "print(\"Accuracy is %d%%\" % 90) # %%를 써줘야 %로 인식함 "
   ]
  },
  {
   "cell_type": "code",
   "execution_count": 74,
   "metadata": {},
   "outputs": [
    {
     "name": "stdout",
     "output_type": "stream",
     "text": [
      "     hello\n",
      "hello     \n"
     ]
    }
   ],
   "source": [
    "# print(\"%s\" % \"hello\")\n",
    "# print(\"%s\" % \"hellohi\")\n",
    "\n",
    "print(\"%10s\" % \"hello\") #10칸 확보 후 우측 정렬하여 출력\n",
    "print(\"%-10s\" % \"hello\") #10칸 확보 후 우측 정렬하여 출력"
   ]
  },
  {
   "cell_type": "code",
   "execution_count": 7,
   "metadata": {},
   "outputs": [],
   "source": [
    "num=3\n",
    "day=\"five\""
   ]
  },
  {
   "cell_type": "code",
   "execution_count": 4,
   "metadata": {},
   "outputs": [
    {
     "output_type": "stream",
     "name": "stdout",
     "text": [
      "I ate 3 apples. so I was sick for five days\nI ate 3 apples. so I was sick for five days\nI ate 3 apples. so I was sick for five days\n"
     ]
    }
   ],
   "source": [
    "print(\"I ate %d apples. so I was sick for %s days\" % (3,\"five\"))\n",
    "print(\"I ate %d apples. so I was sick for %s days\" % (num,day))\n",
    "\n",
    "print(\"I ate {0} apples. so I was sick for {1} days\".format(num,day))\n",
    "#{0}:format함수의 첫번째 인수\n",
    "#{1}:format함수의 두번째 인수"
   ]
  },
  {
   "cell_type": "code",
   "execution_count": 5,
   "metadata": {},
   "outputs": [
    {
     "output_type": "stream",
     "name": "stdout",
     "text": [
      "I ate five apples. so I was sick for 3 days\nI ate 3 apples. so I was sick for three days\n"
     ]
    }
   ],
   "source": [
    "print(\"I ate {1} apples. so I was sick for {0} days\".format(num,day))\n",
    "print(\"I ate {num} apples. so I was sick for {day} days\".format(num=3,day=\"three\"))"
   ]
  },
  {
   "cell_type": "code",
   "execution_count": 84,
   "metadata": {},
   "outputs": [
    {
     "name": "stdout",
     "output_type": "stream",
     "text": [
      "hello\n",
      "hello     \n",
      "     hello\n",
      "  hello   \n",
      "&&hello&&&\n"
     ]
    }
   ],
   "source": [
    "\"{1} {0}\".format(\"hi\", \"hello\")\n",
    "\n",
    "#정렬 옵션\n",
    "print(\"{0}\".format(\"hello\"))\n",
    "print(\"{0:<10}\".format(\"hello\")) #10자리 확보, 왼쪽 정렬\n",
    "print(\"{0:>10}\".format(\"hello\")) #10자리 확보, 오른쪽 정렬\n",
    "print(\"{0:^10}\".format(\"hello\")) #10자리 확보, 가운데 정렬\n",
    "print(\"{0:&^10}\".format(\"hello\")) #10자리 확보, 가운데 정렬,*로 채움"
   ]
  },
  {
   "cell_type": "code",
   "execution_count": 67,
   "metadata": {},
   "outputs": [
    {
     "data": {
      "text/plain": [
       "'h#e#l#l#o'"
      ]
     },
     "execution_count": 67,
     "metadata": {},
     "output_type": "execute_result"
    }
   ],
   "source": [
    "\"#\".join(\"hello\")"
   ]
  },
  {
   "cell_type": "code",
   "execution_count": 12,
   "metadata": {},
   "outputs": [
    {
     "output_type": "execute_result",
     "data": {
      "text/plain": [
       "2"
      ]
     },
     "metadata": {},
     "execution_count": 12
    }
   ],
   "source": [
    "#(문자열)내장 함수 : 문자열 자체적으로 문자열 관련 함수를 가지고 있음 \n",
    "#사용 방법 : 문자열(변수).내장함수()\n",
    "\"data\".count('a')\n",
    "\n",
    "x='data'\n",
    "x.count('a')"
   ]
  },
  {
   "cell_type": "code",
   "execution_count": 53,
   "metadata": {},
   "outputs": [
    {
     "data": {
      "text/plain": [
       "1"
      ]
     },
     "execution_count": 53,
     "metadata": {},
     "output_type": "execute_result"
    }
   ],
   "source": [
    "x.find('a') #'a'의 위치, 0번부터 시작 #find는 특정 요소의 위치를 찾아서 반환\n",
    "x.find('b') #문자가 없는 경우에는 -1 리턴\n",
    "\n",
    "x.index('a')\n",
    "x.index('b') #문자가 없는 경우에는 에러발생"
   ]
  },
  {
   "cell_type": "code",
   "execution_count": 20,
   "metadata": {},
   "outputs": [
    {
     "output_type": "execute_result",
     "data": {
      "text/plain": [
       "['a', 'b', 'c', 'd']"
      ]
     },
     "metadata": {},
     "execution_count": 20
    }
   ],
   "source": [
    "# \"a,b,c,d\" => \"abcd\"\n",
    "x=\"a,b,c,d\"\n",
    "\n",
    "res=x.split(',') #x에 저장된 문자열을 공백 문자로 분리\n",
    "res1\n",
    "\n"
   ]
  },
  {
   "cell_type": "code",
   "execution_count": 60,
   "metadata": {},
   "outputs": [
    {
     "name": "stdout",
     "output_type": "stream",
     "text": [
      "a,b,c,d\n"
     ]
    }
   ],
   "source": [
    "print(\",\".join(res)) \n",
    "#res에 저장되어 있는 각각의 문자가 컴마(,)로 연결 \n",
    "\n",
    "#split <-> join"
   ]
  },
  {
   "cell_type": "code",
   "execution_count": 64,
   "metadata": {},
   "outputs": [
    {
     "data": {
      "text/plain": [
       "'test'"
      ]
     },
     "execution_count": 64,
     "metadata": {},
     "output_type": "execute_result"
    }
   ],
   "source": [
    "\"test\".capitalize() #첫글자 대문자\n",
    "\"test\".upper() # 모든 글자 대문자 \n",
    "\"test\".lower() # 모든 글자 소문자"
   ]
  },
  {
   "cell_type": "code",
   "execution_count": 68,
   "metadata": {},
   "outputs": [
    {
     "name": "stdout",
     "output_type": "stream",
     "text": [
      " hello hi\n"
     ]
    }
   ],
   "source": [
    "a=\" hello \"\n",
    "b=\"hi\"\n",
    "print(a,b, sep=\"\")"
   ]
  },
  {
   "cell_type": "code",
   "execution_count": 71,
   "metadata": {},
   "outputs": [
    {
     "data": {
      "text/plain": [
       "' hello'"
      ]
     },
     "execution_count": 71,
     "metadata": {},
     "output_type": "execute_result"
    }
   ],
   "source": [
    "a.strip() #양쪽 공백 제거 \n",
    "a.lstrip() #왼쪽 공백 제거\n",
    "a.rstrip() #오른쪽 공백 제거"
   ]
  },
  {
   "cell_type": "code",
   "execution_count": null,
   "metadata": {},
   "outputs": [],
   "source": [
    "# ' hello' != 'hello'"
   ]
  },
  {
   "cell_type": "code",
   "execution_count": 73,
   "metadata": {},
   "outputs": [
    {
     "data": {
      "text/plain": [
       "'Pythtn is ttt easy'"
      ]
     },
     "execution_count": 73,
     "metadata": {},
     "output_type": "execute_result"
    }
   ],
   "source": [
    "a=\"Python is too easy\"\n",
    "a.replace(\"easy\", \"difficult\")\n",
    "\n",
    "a.replace(\"o\", \"t\") # 'o'를 전부 t로 바꿈"
   ]
  },
  {
   "cell_type": "markdown",
   "metadata": {},
   "source": [
    "알고리즘 = 문제 해결하기 위한 가장 좋은 방법\n",
    "자료구조 = 자료를 저장 및 관리하는 방법\n",
    "\n",
    "파이썬 자류구조? 튜플, 리스트(중요), 셋, 딕셔너리(중요)\n",
    "\n",
    "여러 개의 자료를 한번에 저장.\n",
    "\n",
    "리스트 : 데이터를 일렬로 늘어놓은 구조 \n",
    "리스트변수명=[요소값,요소값,요소값...]\n"
   ]
  },
  {
   "cell_type": "code",
   "execution_count": 21,
   "metadata": {},
   "outputs": [],
   "source": [
    "a=[] #빈 리스트\n",
    "a2=[10,20,30] #요소(element)\n",
    "a3=['hi', 'hello']\n",
    "a4=[10,20, 'hi']\n",
    "a5=[10,'hi',1.15, True] #리스트에 여러 가지 자료형에 해당되는 자료를 하나로 묶음\n",
    "\n",
    "a6=list()"
   ]
  },
  {
   "cell_type": "code",
   "execution_count": 96,
   "metadata": {},
   "outputs": [
    {
     "data": {
      "text/plain": [
       "[]"
      ]
     },
     "execution_count": 96,
     "metadata": {},
     "output_type": "execute_result"
    }
   ],
   "source": [
    "a6"
   ]
  },
  {
   "cell_type": "code",
   "execution_count": 99,
   "metadata": {},
   "outputs": [
    {
     "data": {
      "text/plain": [
       "70"
      ]
     },
     "execution_count": 99,
     "metadata": {},
     "output_type": "execute_result"
    }
   ],
   "source": [
    "#  0  1  2  3\n",
    "a=[10,20,30,40]\n",
    "a[2]+a[3]"
   ]
  },
  {
   "cell_type": "code",
   "execution_count": 103,
   "metadata": {},
   "outputs": [
    {
     "data": {
      "text/plain": [
       "20"
      ]
     },
     "execution_count": 103,
     "metadata": {},
     "output_type": "execute_result"
    }
   ],
   "source": [
    "a[1]\n",
    "a[-3]"
   ]
  },
  {
   "cell_type": "code",
   "execution_count": 104,
   "metadata": {},
   "outputs": [
    {
     "data": {
      "text/plain": [
       "[10, 20, 30, 40, [50, 'a', 'b']]"
      ]
     },
     "execution_count": 104,
     "metadata": {},
     "output_type": "execute_result"
    }
   ],
   "source": [
    "a=[10,20,30,40, [50,'a','b']] #요소는 5개  (요소는 컴마(,)로 구분되는 것들)\n",
    "a\n",
    "#리스트는 리스트를 요소값으로 할 수 있다. "
   ]
  },
  {
   "cell_type": "code",
   "execution_count": 106,
   "metadata": {},
   "outputs": [
    {
     "data": {
      "text/plain": [
       "'a'"
      ]
     },
     "execution_count": 106,
     "metadata": {},
     "output_type": "execute_result"
    }
   ],
   "source": [
    "a[4][1]\n",
    "a[-1][1]\n",
    "a[4][-2]\n",
    "a[-1][-2]\n"
   ]
  },
  {
   "cell_type": "code",
   "execution_count": 110,
   "metadata": {},
   "outputs": [
    {
     "data": {
      "text/plain": [
       "[10, 20, 30, 40, [50, 'a', [3.14, True, 100], 'b']]"
      ]
     },
     "execution_count": 110,
     "metadata": {},
     "output_type": "execute_result"
    }
   ],
   "source": [
    "a=[10,20,30,40, [50,'a',[3.14, True, 100], 'b']]\n",
    "a"
   ]
  },
  {
   "cell_type": "code",
   "execution_count": 114,
   "metadata": {
    "scrolled": true
   },
   "outputs": [
    {
     "data": {
      "text/plain": [
       "3.14"
      ]
     },
     "execution_count": 114,
     "metadata": {},
     "output_type": "execute_result"
    }
   ],
   "source": [
    "a[4][2][0]\n",
    "a[-1][-2][-3]"
   ]
  },
  {
   "cell_type": "code",
   "execution_count": null,
   "metadata": {},
   "outputs": [],
   "source": [
    "#파이썬 언어 - 리스트(동적, dynamic)\n",
    "#넘파이 배열(array, static, 정적)"
   ]
  },
  {
   "cell_type": "code",
   "execution_count": 115,
   "metadata": {},
   "outputs": [],
   "source": [
    "a=[10,20,30,40,50]"
   ]
  },
  {
   "cell_type": "code",
   "execution_count": 118,
   "metadata": {},
   "outputs": [
    {
     "data": {
      "text/plain": [
       "[20, 30, 40, 50]"
      ]
     },
     "execution_count": 118,
     "metadata": {},
     "output_type": "execute_result"
    }
   ],
   "source": [
    "a[0:2] #시작번호(포함):끝번호(포함x)\n",
    "a[:4]\n",
    "a[1:]"
   ]
  },
  {
   "cell_type": "code",
   "execution_count": 116,
   "metadata": {},
   "outputs": [
    {
     "data": {
      "text/plain": [
       "'mul'"
      ]
     },
     "execution_count": 116,
     "metadata": {},
     "output_type": "execute_result"
    }
   ],
   "source": [
    "s=\"mulcam\"\n",
    "s[0:3]"
   ]
  },
  {
   "cell_type": "code",
   "execution_count": 123,
   "metadata": {},
   "outputs": [
    {
     "data": {
      "text/plain": [
       "['가', '나']"
      ]
     },
     "execution_count": 123,
     "metadata": {},
     "output_type": "execute_result"
    }
   ],
   "source": [
    "a=[10,20,30,['가','나','다'],40,50,60]\n",
    "a[3][:2]"
   ]
  },
  {
   "cell_type": "code",
   "execution_count": 124,
   "metadata": {},
   "outputs": [],
   "source": [
    "a=[10,20]\n",
    "b=[30,40]"
   ]
  },
  {
   "cell_type": "code",
   "execution_count": 126,
   "metadata": {},
   "outputs": [
    {
     "data": {
      "text/plain": [
       "[10, 20, 30, 40]"
      ]
     },
     "execution_count": 126,
     "metadata": {},
     "output_type": "execute_result"
    }
   ],
   "source": [
    "a*3 #넘파이에서는 요소들끼리 더해진다.\n",
    "a+b"
   ]
  },
  {
   "cell_type": "code",
   "execution_count": 128,
   "metadata": {},
   "outputs": [
    {
     "data": {
      "text/plain": [
       "5"
      ]
     },
     "execution_count": 128,
     "metadata": {},
     "output_type": "execute_result"
    }
   ],
   "source": [
    "len(a) #리스트, 문자열, 딕셔너리, 튜플 다 가능\n",
    "len(\"hello\")\n",
    "\n"
   ]
  },
  {
   "cell_type": "code",
   "execution_count": 130,
   "metadata": {},
   "outputs": [
    {
     "data": {
      "text/plain": [
       "[10, 20, 'hi']"
      ]
     },
     "execution_count": 130,
     "metadata": {},
     "output_type": "execute_result"
    }
   ],
   "source": [
    "s=[10,20,\"hi\"]\n",
    "s"
   ]
  },
  {
   "cell_type": "code",
   "execution_count": 133,
   "metadata": {},
   "outputs": [
    {
     "data": {
      "text/plain": [
       "'20hi'"
      ]
     },
     "execution_count": 133,
     "metadata": {},
     "output_type": "execute_result"
    }
   ],
   "source": [
    "str(s[1])+\"hi\""
   ]
  },
  {
   "cell_type": "code",
   "execution_count": 135,
   "metadata": {},
   "outputs": [
    {
     "data": {
      "text/plain": [
       "[0, 1, 2, 3, 4]"
      ]
     },
     "execution_count": 135,
     "metadata": {},
     "output_type": "execute_result"
    }
   ],
   "source": [
    "range(5) #0~5-1까지 연속된 수열 0 1 2 3 4\n",
    "\n",
    "list(range(5)) # list안에 요소로 들어가 만들어짐"
   ]
  },
  {
   "cell_type": "code",
   "execution_count": 145,
   "metadata": {},
   "outputs": [
    {
     "data": {
      "text/plain": [
       "[20, 18, 16, 14, 12, 10, 8, 6, 4, 2]"
      ]
     },
     "execution_count": 145,
     "metadata": {},
     "output_type": "execute_result"
    }
   ],
   "source": [
    "#print(list(range(10,50)))\n",
    "#print(list(range(10,50,3)))\n",
    "#print(list(range(-10,50,2)))\n",
    "\n",
    "#range(시각, 끝, 증감값)\n",
    "\n",
    "list(range(20,0,-2))\n",
    "\n",
    "#range(5,0,-0.5)\n",
    "#넘파이에 있는 range함수는 실수값으로 증감값을 나타낼 수 있음"
   ]
  },
  {
   "cell_type": "code",
   "execution_count": 147,
   "metadata": {},
   "outputs": [
    {
     "data": {
      "text/plain": [
       "[5, 4, 3, 2, 1]"
      ]
     },
     "execution_count": 147,
     "metadata": {},
     "output_type": "execute_result"
    }
   ],
   "source": [
    "list(range(5,0,-1))"
   ]
  },
  {
   "cell_type": "code",
   "execution_count": 188,
   "metadata": {},
   "outputs": [
    {
     "name": "stdout",
     "output_type": "stream",
     "text": [
      "[5.0, 4.5, 4.0, 3.5, 3.0, 2.5, 2.0, 1.5, 1.0, 0.5]\n"
     ]
    }
   ],
   "source": [
    "#range(5,0,-0.5)\n",
    "\n",
    "a=list()\n",
    "x=list(range(50,0,-5))\n",
    "for i in range(len(x)):\n",
    "    a.append(x[i]/10)\n",
    "\n",
    "\n",
    "print(a)\n",
    "\n"
   ]
  },
  {
   "cell_type": "code",
   "execution_count": 169,
   "metadata": {},
   "outputs": [
    {
     "data": {
      "text/plain": [
       "10"
      ]
     },
     "execution_count": 169,
     "metadata": {},
     "output_type": "execute_result"
    }
   ],
   "source": [
    "x=list(range(50,0,-5))\n",
    "x\n",
    "len(x)"
   ]
  },
  {
   "cell_type": "code",
   "execution_count": 22,
   "metadata": {},
   "outputs": [
    {
     "output_type": "execute_result",
     "data": {
      "text/plain": [
       "[10, 20, 40]"
      ]
     },
     "metadata": {},
     "execution_count": 22
    }
   ],
   "source": [
    "a=[10,20,30]\n",
    "a[2]=40\n",
    "a"
   ]
  },
  {
   "cell_type": "code",
   "execution_count": 23,
   "metadata": {},
   "outputs": [],
   "source": [
    "del a[2]"
   ]
  },
  {
   "cell_type": "code",
   "execution_count": 24,
   "metadata": {},
   "outputs": [
    {
     "output_type": "execute_result",
     "data": {
      "text/plain": [
       "[10, 20]"
      ]
     },
     "metadata": {},
     "execution_count": 24
    }
   ],
   "source": [
    "a"
   ]
  },
  {
   "cell_type": "code",
   "execution_count": null,
   "metadata": {},
   "outputs": [],
   "source": [
    "#리스트는 크기가 정해져 있지 않다."
   ]
  },
  {
   "cell_type": "code",
   "execution_count": 166,
   "metadata": {},
   "outputs": [
    {
     "data": {
      "text/plain": [
       "[10, 20, 30]"
      ]
     },
     "execution_count": 166,
     "metadata": {},
     "output_type": "execute_result"
    }
   ],
   "source": [
    "a=[10,20] #append함수 : 리스트의 맨 마지막에 추가\n",
    "a.append(30)\n",
    "a"
   ]
  },
  {
   "cell_type": "code",
   "execution_count": null,
   "metadata": {},
   "outputs": [],
   "source": [
    "#sort함수 : 리스트 함수를 정렬할 때 (완전히 바뀜)"
   ]
  },
  {
   "cell_type": "code",
   "execution_count": 171,
   "metadata": {},
   "outputs": [
    {
     "data": {
      "text/plain": [
       "[10, 20, 30]"
      ]
     },
     "execution_count": 171,
     "metadata": {},
     "output_type": "execute_result"
    }
   ],
   "source": [
    "a=[30,10,20]\n",
    "a.sort()\n",
    "a"
   ]
  },
  {
   "cell_type": "code",
   "execution_count": 176,
   "metadata": {},
   "outputs": [
    {
     "name": "stdout",
     "output_type": "stream",
     "text": [
      "['Z', 'b', 'c', 't', 'v']\n"
     ]
    }
   ],
   "source": [
    "a=['b','c', 'Z', 't', 'v']\n",
    "a.sort() #기본적으로 오름차순 정렬됨(A:65 ~ Z:90, a:97 ~ z:122)\n",
    "print(a)\n",
    "\n",
    "\n",
    "#문자는 ascii코드 값을 기준으로 정렬 \n",
    "#인코딩 : 코드화(문자, 숫자 등 -> 코드(0,1)) 하는 작업 \n",
    "#디코딩 : 코드(0,1)) 하는 작업 -> 코드화(문자, 숫자 등\n",
    "\n",
    "#인코딩/디코딩 방식 : ascii(7bit), ebcdic, bcd, \n",
    "#utf8, utf16, euc-kr 등등\n",
    "\n",
    "# ascii(아스키) : 모든 문자/숫자를 7비트로 표현 (7비트 = 2의 7승 = 128가지 문자를 표현 가능)\n",
    "# 0~127까지 코드\n",
    "\n",
    "# 초성 * 중성 * 종성 = 몇만가지 \n",
    "\n",
    "# utf = universal text format (전세계적으로 가능한 코드)\n",
    "\n",
    "# utf-3byte \n"
   ]
  },
  {
   "cell_type": "code",
   "execution_count": 178,
   "metadata": {},
   "outputs": [
    {
     "name": "stdout",
     "output_type": "stream",
     "text": [
      "['v', 't', 'Z', 'c', 'b']\n"
     ]
    }
   ],
   "source": [
    "a=['b','c', 'Z', 't', 'v']\n",
    "a.reverse() #역순으로 나열 (리스트의 요소를 뒤집음)\n",
    "print(a)"
   ]
  },
  {
   "cell_type": "code",
   "execution_count": 182,
   "metadata": {},
   "outputs": [
    {
     "name": "stdout",
     "output_type": "stream",
     "text": [
      "['v', 't', 'c', 'b', 'Z', '0']\n"
     ]
    }
   ],
   "source": [
    "a=['b','c', 'Z', 't', 'v', '0'] #'0':48\n",
    "a.sort(reverse=True)\n",
    "print(a)"
   ]
  },
  {
   "cell_type": "code",
   "execution_count": 185,
   "metadata": {},
   "outputs": [
    {
     "data": {
      "text/plain": [
       "'_'"
      ]
     },
     "execution_count": 185,
     "metadata": {},
     "output_type": "execute_result"
    }
   ],
   "source": [
    "chr(65) #아스키코드 값을 아스키 문자로 변환 \n",
    "chr(90)\n",
    "chr(95)"
   ]
  },
  {
   "cell_type": "code",
   "execution_count": null,
   "metadata": {},
   "outputs": [],
   "source": []
  },
  {
   "cell_type": "code",
   "execution_count": null,
   "metadata": {},
   "outputs": [],
   "source": []
  }
 ],
 "metadata": {
  "kernelspec": {
   "name": "python3",
   "display_name": "Python 3.8.5 64-bit ('base': conda)"
  },
  "language_info": {
   "codemirror_mode": {
    "name": "ipython",
    "version": 3
   },
   "file_extension": ".py",
   "mimetype": "text/x-python",
   "name": "python",
   "nbconvert_exporter": "python",
   "pygments_lexer": "ipython3",
   "version": "3.8.5"
  },
  "interpreter": {
   "hash": "b3ba2566441a7c06988d0923437866b63cedc61552a5af99d1f4fb67d367b25f"
  }
 },
 "nbformat": 4,
 "nbformat_minor": 4
}