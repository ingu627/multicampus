{
 "cells": [
  {
   "cell_type": "code",
   "execution_count": null,
   "metadata": {},
   "outputs": [],
   "source": [
    "#if : 조건문 \n",
    "# 어떤 특정 조건이 되었을 때 처리를 해라."
   ]
  },
  {
   "source": [
    "*자동차가 운행 중 정지를 해야하는 상황 \n",
    "\n",
    "if 신호등==빨강:\n",
    "    정지\n",
    "if 카메라==물체감지 and 카메라==동물감지:\n",
    "    정지\n",
    "\n",
    "not, and, or\n",
    "\n",
    "if 코로나단계==3:  \n",
    "    집에서 식사 #의사(pseudo) 코드   \n",
    "if 코로나단계==2:  \n",
    "    편의점에서 식사  \n",
    "if 코로나단계==1:  \n",
    "    식당에서 식사  \n",
    "      \n",
    "if 조건식:\n",
    "    조건이 만족할 때 실행할 구문 : 본문"
   ],
   "cell_type": "markdown",
   "metadata": {}
  },
  {
   "cell_type": "code",
   "execution_count": 2,
   "metadata": {},
   "outputs": [],
   "source": [
    "x=3\n",
    "if x==3:\n",
    "    pass #나중에 코드 구현\n",
    "else:\n",
    "    print(\"다름\")\n",
    "\n",
    "#pass : 파이썬에서만 존재하는 문법, 조건 만족시 아무 작업도 수행하지 않고 다음 줄로 이동\n",
    "#조건을 만족했을 때 처리해야할 구문이 아직 정해지지 않은 상황\n"
   ]
  },
  {
   "cell_type": "code",
   "execution_count": 4,
   "metadata": {},
   "outputs": [
    {
     "name": "stdout",
     "output_type": "stream",
     "text": [
      "걸어가겠다\n"
     ]
    }
   ],
   "source": [
    "pocket=int(input(\"주머니에 얼마 있냐\"))\n",
    "\n",
    "if pocket>=3000:\n",
    "    print(\"택시를 이용하겠다.\") #if True:\n",
    "else: #else는 if없이 독립적으로 사용될 수 없다.\n",
    "    print(\"걸어가겠다\")"
   ]
  },
  {
   "cell_type": "code",
   "execution_count": 7,
   "metadata": {},
   "outputs": [],
   "source": [
    "# explicit(명시적) language : 파이썬, 자바\n",
    "# 명시적 언어의 한계 : 모든 조건을 다 나열할 수 없을 정도로 조건이 많음 \n",
    "\n",
    "# implicit(묵시적) 언어의 등장 : 머신러닝(인공지능) 언어\n",
    "# 모든 조건을 나열하는 것이 아닌, 확률(통계)적 접근하여 문제 해결\n",
    "# 명시는 아니더라도 인공지능이 내부적으로 확률로 판단 (이길 수 있는 가장 높은 확률로 explicit(명시적) language : 파이썬, 자바\n",
    "# # 명시적 언어의 한계 : 모든 조건을 다 나열할 수 없을 정도로 조건이 많음 \n",
    "\n",
    "# implicit(묵시적) 언어의 등장 : 머신러닝(인공지능) 언어\n",
    "# 모든 조건을 나열하는 것이 아닌, 확률(통계)적 접근하여 문제 해결\n",
    "# 명시는 아니더라도 인공지능이 내부적으로 확률로 판단 (이길 수 있는 가장 높은 확률로)\n",
    "\n",
    "# ex) 이세돌 <-> 알파고\n",
    "\n",
    "# ex) 이세돌 <-> 알파고"
   ]
  },
  {
   "cell_type": "code",
   "execution_count": 8,
   "metadata": {},
   "outputs": [],
   "source": [
    "돈=2000\n",
    "카드=True\n"
   ]
  },
  {
   "cell_type": "code",
   "execution_count": 9,
   "metadata": {},
   "outputs": [
    {
     "output_type": "stream",
     "name": "stdout",
     "text": [
      "택시\n"
     ]
    }
   ],
   "source": [
    "if 돈>3000 or 카드:\n",
    "    print(\"택시\")\n",
    "else:\n",
    "    print(\"도보\")"
   ]
  },
  {
   "cell_type": "code",
   "execution_count": null,
   "metadata": {},
   "outputs": [],
   "source": [
    "# if 신호등2번째칸==빨강:\n",
    "#     if 신호등1번째칸==화살표:\n",
    "#         좌회전\n",
    "#     else:\n",
    "#         정지"
   ]
  },
  {
   "cell_type": "code",
   "execution_count": 1,
   "metadata": {},
   "outputs": [
    {
     "output_type": "stream",
     "name": "stdout",
     "text": [
      "0 이상\n5\n"
     ]
    }
   ],
   "source": [
    "x=5\n",
    "if x>=0:\n",
    "    print(\"0 이상\")\n",
    "    if x==5:\n",
    "        print(\"5\")\n",
    "    if x==10:\n",
    "        print(\"10\")"
   ]
  },
  {
   "cell_type": "code",
   "execution_count": 2,
   "metadata": {},
   "outputs": [
    {
     "output_type": "execute_result",
     "data": {
      "text/plain": [
       "0"
      ]
     },
     "metadata": {},
     "execution_count": 2
    }
   ],
   "source": [
    "# 참수행문장(변수=값) if 조건문 else 거짓수행문장(값)\n",
    "x=1\n",
    "y=x if x==0 else 0\n",
    "y"
   ]
  },
  {
   "cell_type": "code",
   "execution_count": 1,
   "metadata": {},
   "outputs": [],
   "source": [
    "if False: #False:\n",
    "    print(\"참\")"
   ]
  },
  {
   "cell_type": "code",
   "execution_count": 3,
   "metadata": {},
   "outputs": [
    {
     "output_type": "stream",
     "name": "stdout",
     "text": [
      "출력2\n"
     ]
    }
   ],
   "source": [
    "if None:\n",
    "    print(\"출력1\")\n",
    "else:\n",
    "    print(\"출력2\")"
   ]
  },
  {
   "cell_type": "code",
   "execution_count": 4,
   "metadata": {},
   "outputs": [],
   "source": [
    "if \"\": #거짓 \n",
    "    print(\"하이\")"
   ]
  },
  {
   "cell_type": "code",
   "execution_count": 5,
   "metadata": {},
   "outputs": [
    {
     "output_type": "stream",
     "name": "stdout",
     "text": [
      "True\n"
     ]
    }
   ],
   "source": [
    "print(not 0)"
   ]
  },
  {
   "cell_type": "code",
   "execution_count": 6,
   "metadata": {},
   "outputs": [
    {
     "output_type": "stream",
     "name": "stdout",
     "text": [
      "참\n"
     ]
    }
   ],
   "source": [
    "if not 0:\n",
    "    print(\"참\")"
   ]
  },
  {
   "cell_type": "code",
   "execution_count": 7,
   "metadata": {},
   "outputs": [
    {
     "output_type": "stream",
     "name": "stdout",
     "text": [
      "참\n"
     ]
    }
   ],
   "source": [
    "if not None:\n",
    "    print(\"참\")"
   ]
  },
  {
   "cell_type": "code",
   "execution_count": 8,
   "metadata": {},
   "outputs": [
    {
     "output_type": "stream",
     "name": "stdout",
     "text": [
      "참\n"
     ]
    }
   ],
   "source": [
    "if not '':\n",
    "    print(\"참\")"
   ]
  },
  {
   "source": [
    "#x=[] 비어있는 리스트는 거짓(튜플, 딕셔너리, 셋 모두 마찬가지) \n",
    "x=[1]\n",
    "if x: #참이면 실행\n",
    "    print(\"참\")"
   ],
   "cell_type": "code",
   "metadata": {},
   "execution_count": 2,
   "outputs": [
    {
     "output_type": "stream",
     "name": "stdout",
     "text": [
      "참\n"
     ]
    }
   ]
  },
  {
   "cell_type": "code",
   "execution_count": 1,
   "metadata": {},
   "outputs": [
    {
     "output_type": "stream",
     "name": "stdout",
     "text": [
      "비었다\n"
     ]
    }
   ],
   "source": [
    "x=[]\n",
    "if not len(x):\n",
    "    print(\"비었다\")"
   ]
  },
  {
   "cell_type": "code",
   "execution_count": 2,
   "metadata": {},
   "outputs": [
    {
     "output_type": "stream",
     "name": "stdout",
     "text": [
      "비었다\n"
     ]
    }
   ],
   "source": [
    "if not x:\n",
    "    print(\"비었다\")"
   ]
  },
  {
   "cell_type": "code",
   "execution_count": 3,
   "metadata": {},
   "outputs": [],
   "source": [
    "x=5"
   ]
  },
  {
   "cell_type": "code",
   "execution_count": 4,
   "metadata": {},
   "outputs": [
    {
     "output_type": "stream",
     "name": "stdout",
     "text": [
      "5\n"
     ]
    }
   ],
   "source": [
    "# x가 0이상 10미만이면 작은수를 출력\n",
    "if x>=0 and x<10:\n",
    "    print(x)"
   ]
  },
  {
   "cell_type": "code",
   "execution_count": 5,
   "metadata": {},
   "outputs": [
    {
     "output_type": "stream",
     "name": "stdout",
     "text": [
      "5\n"
     ]
    }
   ],
   "source": [
    "if 0<=x<10: #하지만 R에서는 에러 발생\n",
    "    print(x)"
   ]
  },
  {
   "source": [
    "'''python\n",
    "\n",
    "if 조건:\n",
    "    수행문장 \n",
    "elif 조건 :\n",
    "    수행문장 \n",
    "elif 조건:\n",
    "    수행문장 \n",
    "else: \n",
    "    수행문장\n",
    "'''\n"
   ],
   "cell_type": "code",
   "metadata": {},
   "execution_count": null,
   "outputs": []
  },
  {
   "cell_type": "code",
   "execution_count": 9,
   "metadata": {},
   "outputs": [],
   "source": [
    "# a in 리스트(튜플, 문자열, set, 딕셔너리)\n",
    "# a not in 리스트(튜플, 문자열, set, 딕셔너리)"
   ]
  },
  {
   "cell_type": "code",
   "execution_count": 11,
   "metadata": {},
   "outputs": [
    {
     "output_type": "stream",
     "name": "stdout",
     "text": [
      "들어있습니다\n"
     ]
    }
   ],
   "source": [
    "if 1 in [1,2,3]:\n",
    "    print(\"들어있습니다\")"
   ]
  },
  {
   "cell_type": "code",
   "execution_count": 12,
   "metadata": {},
   "outputs": [
    {
     "output_type": "stream",
     "name": "stdout",
     "text": [
      "들어있습니다\n"
     ]
    }
   ],
   "source": [
    "if 1 in {1,2,3}:\n",
    "    print(\"들어있습니다\")"
   ]
  },
  {
   "cell_type": "code",
   "execution_count": 13,
   "metadata": {},
   "outputs": [
    {
     "output_type": "execute_result",
     "data": {
      "text/plain": [
       "{1: 'a', 2: 'b'}"
      ]
     },
     "metadata": {},
     "execution_count": 13
    }
   ],
   "source": [
    "x={1:'a', 2:'b'}\n",
    "x"
   ]
  },
  {
   "cell_type": "code",
   "execution_count": 14,
   "metadata": {},
   "outputs": [],
   "source": [
    "if 3 in x:\n",
    "    print(\"존재합니다.\")"
   ]
  },
  {
   "cell_type": "code",
   "execution_count": 15,
   "metadata": {},
   "outputs": [
    {
     "output_type": "stream",
     "name": "stdout",
     "text": [
      "합격\n"
     ]
    }
   ],
   "source": [
    "s=70\n",
    "if s>=60:\n",
    "    print(\"합격\")\n",
    "else:\n",
    "    print(\"불합격\")"
   ]
  },
  {
   "cell_type": "code",
   "execution_count": 16,
   "metadata": {},
   "outputs": [
    {
     "output_type": "stream",
     "name": "stdout",
     "text": [
      "합격\n"
     ]
    }
   ],
   "source": [
    "print(\"합격\") if s>=60 else print(\"불합격\")"
   ]
  },
  {
   "cell_type": "code",
   "execution_count": 20,
   "metadata": {},
   "outputs": [],
   "source": [
    "s=50\n",
    "msg=\"합격\" if s>=60 else \"불합격\""
   ]
  },
  {
   "cell_type": "code",
   "execution_count": 21,
   "metadata": {},
   "outputs": [
    {
     "output_type": "stream",
     "name": "stdout",
     "text": [
      "불합격\n"
     ]
    }
   ],
   "source": [
    "print(msg)"
   ]
  },
  {
   "cell_type": "code",
   "execution_count": 22,
   "metadata": {},
   "outputs": [],
   "source": [
    "ani=\"dog\"\n",
    "cat=\"cat\"\n",
    "dog=\"dog\""
   ]
  },
  {
   "cell_type": "code",
   "execution_count": 23,
   "metadata": {},
   "outputs": [
    {
     "output_type": "stream",
     "name": "stdout",
     "text": [
      "같다\n"
     ]
    }
   ],
   "source": [
    "if ani==dog:\n",
    "    print(\"같다\")"
   ]
  },
  {
   "cell_type": "code",
   "execution_count": 24,
   "metadata": {},
   "outputs": [
    {
     "output_type": "stream",
     "name": "stdout",
     "text": [
      "dog\n"
     ]
    }
   ],
   "source": [
    "# A if 조건 else B\n",
    "res=dog if ani==dog else cat #아니라면 cat은 res에 할당\n",
    "print(res)"
   ]
  },
  {
   "cell_type": "code",
   "execution_count": 32,
   "metadata": {},
   "outputs": [],
   "source": [
    "ani=\"cat\"\n",
    "cat=\"cat\"\n",
    "dog=\"dog\"\n",
    "\n",
    "res=dog if ani==dog else cat if ani==cat else \"cow\"\n",
    "# 만약에 ani==dog면 dog이 저장되고, 그렇지 않고 만약에 ani==cat면 cat이 저장되고, 그렇지 않으면 cow가 저장"
   ]
  },
  {
   "cell_type": "code",
   "execution_count": 33,
   "metadata": {},
   "outputs": [
    {
     "output_type": "stream",
     "name": "stdout",
     "text": [
      "cat\n"
     ]
    }
   ],
   "source": [
    "print(res)"
   ]
  },
  {
   "cell_type": "code",
   "execution_count": null,
   "metadata": {},
   "outputs": [],
   "source": [
    "# 50명 고객 \n",
    "# 50! 경로ㅓ의 수를 모두 비교(pruning) -> 가장 짧은 경로 1개 \n",
    "# -> 솔루션(알고리즘) 없음 (NP문제)\n",
    "# => AI를 이용한 통계적 접근 -> 근사해"
   ]
  },
  {
   "source": [
    "for 변수 in range(횟수):  \n",
    "    반복문장"
   ],
   "cell_type": "markdown",
   "metadata": {}
  },
  {
   "cell_type": "code",
   "execution_count": 34,
   "metadata": {},
   "outputs": [
    {
     "output_type": "stream",
     "name": "stdout",
     "text": [
      "0\n1\n2\n3\n4\n5\n6\n7\n8\n9\n"
     ]
    }
   ],
   "source": [
    "for i in range(10): #range(10) 범위 : 0~9까지의 값이 차례대로 i에 저장\n",
    "    print(i)"
   ]
  },
  {
   "cell_type": "code",
   "execution_count": 35,
   "metadata": {},
   "outputs": [
    {
     "output_type": "stream",
     "name": "stdout",
     "text": [
      "1\n1\n1\n1\n1\n1\n1\n1\n1\n1\n"
     ]
    }
   ],
   "source": [
    "i=1 \n",
    "for _ in range(10): #동일한 반복 0~9까지의 값을 버리겠다, 무시하겠다.\n",
    "    print(i)"
   ]
  },
  {
   "cell_type": "code",
   "execution_count": 36,
   "metadata": {},
   "outputs": [
    {
     "output_type": "stream",
     "name": "stdout",
     "text": [
      "(1, 2)\n"
     ]
    }
   ],
   "source": [
    "x=1,2\n",
    "print(x)"
   ]
  },
  {
   "cell_type": "code",
   "execution_count": 37,
   "metadata": {},
   "outputs": [
    {
     "output_type": "stream",
     "name": "stdout",
     "text": [
      "1\n3\n"
     ]
    }
   ],
   "source": [
    "x,_,z =1,2,3 # _(언더바)는 값을 무시하겠다.\n",
    "print(x)\n",
    "print(z)"
   ]
  },
  {
   "cell_type": "code",
   "execution_count": 39,
   "metadata": {},
   "outputs": [
    {
     "output_type": "stream",
     "name": "stdout",
     "text": [
      "55\n"
     ]
    }
   ],
   "source": [
    "sum=0\n",
    "for i in range(1,11): #1~10\n",
    "    sum+=i\n",
    "print(sum)"
   ]
  },
  {
   "cell_type": "code",
   "execution_count": 40,
   "metadata": {},
   "outputs": [
    {
     "output_type": "stream",
     "name": "stdout",
     "text": [
      "10\n9\n8\n7\n6\n5\n4\n3\n2\n1\n"
     ]
    }
   ],
   "source": [
    "for i in range(10,0,-1):\n",
    "    print(i)"
   ]
  },
  {
   "cell_type": "code",
   "execution_count": 43,
   "metadata": {},
   "outputs": [
    {
     "output_type": "stream",
     "name": "stdout",
     "text": [
      "9\n8\n7\n6\n5\n4\n3\n2\n1\n0\n"
     ]
    }
   ],
   "source": [
    "for i in reversed(range(10)): #반대로\n",
    "    print(i)"
   ]
  },
  {
   "cell_type": "code",
   "execution_count": 45,
   "metadata": {},
   "outputs": [
    {
     "output_type": "stream",
     "name": "stdout",
     "text": [
      "반복\n반복\n반복\n"
     ]
    }
   ],
   "source": [
    "c=int(input(\"반복 횟수 입력:\"))\n",
    "for i in range(c):\n",
    "    print(\"반복\")"
   ]
  },
  {
   "cell_type": "code",
   "execution_count": 47,
   "metadata": {},
   "outputs": [
    {
     "output_type": "stream",
     "name": "stdout",
     "text": [
      "10131619"
     ]
    }
   ],
   "source": [
    "for i in range(10,20,3):\n",
    "    print(i, end=\"\") #end=\"\" end옵션은 이어서 출력시 연결문자 "
   ]
  },
  {
   "cell_type": "code",
   "execution_count": 49,
   "metadata": {},
   "outputs": [],
   "source": [
    "#for문에 sequence 객체를 작성하여 반복처리 # sequence : 순서로 표현된 자료구조를 갖는 객체\n",
    "#sequence객체? 리스트, 튜플, 문자열 등 \n",
    "# #set, 딕셔너리는 순서가 없어 시퀀스객체로 볼 수 없지만, #최근 버전에서는 for문으로 처리가 되도록 업데이터 됨(사용하지 않는 걸 권장)"
   ]
  },
  {
   "cell_type": "code",
   "execution_count": null,
   "metadata": {},
   "outputs": [],
   "source": [
    "권장for i in [10,20,30]: #for 변수 in 시퀀스객체:\n",
    "    print(i)\n"
   ]
  },
  {
   "cell_type": "code",
   "execution_count": 51,
   "metadata": {},
   "outputs": [
    {
     "output_type": "stream",
     "name": "stdout",
     "text": [
      "1\n2\n3\n"
     ]
    }
   ],
   "source": [
    "for i in {1:10,2:20,3:30}: #키값 반환 \n",
    "    print(i)"
   ]
  },
  {
   "cell_type": "code",
   "execution_count": 52,
   "metadata": {},
   "outputs": [
    {
     "output_type": "stream",
     "name": "stdout",
     "text": [
      "a\nb\nc\n"
     ]
    }
   ],
   "source": [
    "for f in ('a','b','c'):\n",
    "    print(f)"
   ]
  },
  {
   "cell_type": "code",
   "execution_count": 54,
   "metadata": {},
   "outputs": [
    {
     "output_type": "stream",
     "name": "stdout",
     "text": [
      "h e l l o "
     ]
    }
   ],
   "source": [
    "for s in \"hello\":\n",
    "    print(s,end=\" \")"
   ]
  },
  {
   "cell_type": "code",
   "execution_count": 55,
   "metadata": {},
   "outputs": [
    {
     "output_type": "stream",
     "name": "stdout",
     "text": [
      "0\n1\n2\n3\n4\n5\n6\n7\n8\n9\n"
     ]
    }
   ],
   "source": [
    "i=0 #초기값\n",
    "while i<10: #i 변수 값이 10보다 작다는 조건을 만족하는 동안 반복해라.\n",
    "    print(i)\n",
    "    i+=1"
   ]
  },
  {
   "cell_type": "code",
   "execution_count": 56,
   "metadata": {},
   "outputs": [],
   "source": [
    "#파이썬 모듈(module, 관련된 함수의 집합, 일반적으로 파이썬 파일)\n",
    "#패키지(라이브러리) : 특정작업을 하기 위한 관련 모듈의 모임, 폴더, 패키지도 포함\n",
    "\n",
    "#라이브러리 : 파이썬 표준 라이브러리(모듈, 패키지 모두 포함)\n",
    "#파이썬 표준 라이브러리 설치"
   ]
  },
  {
   "cell_type": "code",
   "execution_count": null,
   "metadata": {},
   "outputs": [],
   "source": [
    "# import : 파이썬 모듈 불러오기 => math 모듈을 사용하기 위해 메모리에 적재\n",
    "# import 모듈1, 모듈2, 모듈3 ..."
   ]
  },
  {
   "cell_type": "code",
   "execution_count": null,
   "metadata": {},
   "outputs": [],
   "source": [
    "# math.함수()\n",
    "# math.변수\n",
    "# math.클래스()"
   ]
  },
  {
   "cell_type": "code",
   "execution_count": 68,
   "metadata": {},
   "outputs": [
    {
     "output_type": "execute_result",
     "data": {
      "text/plain": [
       "2.0"
      ]
     },
     "metadata": {},
     "execution_count": 68
    }
   ],
   "source": [
    "import math as mt #축약형 #math를 다 가져온다.\n",
    "math.pi\n",
    "math.sqrt(4)\n"
   ]
  },
  {
   "cell_type": "code",
   "execution_count": 65,
   "metadata": {},
   "outputs": [
    {
     "output_type": "execute_result",
     "data": {
      "text/plain": [
       "2.0"
      ]
     },
     "metadata": {},
     "execution_count": 65
    }
   ],
   "source": [
    "mt.sqrt(4)"
   ]
  },
  {
   "cell_type": "code",
   "execution_count": 66,
   "metadata": {},
   "outputs": [],
   "source": [
    "#from 모듈명 import 함수(변수, 클래스)명명 \n",
    "from math import sqrt  #math다 가져오지 말고 sqrt만 가져와 -> 메모리 낭비 적다."
   ]
  },
  {
   "cell_type": "code",
   "execution_count": 67,
   "metadata": {},
   "outputs": [
    {
     "output_type": "execute_result",
     "data": {
      "text/plain": [
       "2.0"
      ]
     },
     "metadata": {},
     "execution_count": 67
    }
   ],
   "source": [
    "#바로 호출 가능 \n",
    "sqrt(4)"
   ]
  },
  {
   "cell_type": "code",
   "execution_count": null,
   "metadata": {},
   "outputs": [],
   "source": [
    "# del로 모듈을 해지 가능 하다."
   ]
  },
  {
   "cell_type": "code",
   "execution_count": 1,
   "metadata": {},
   "outputs": [],
   "source": [
    "import random"
   ]
  },
  {
   "cell_type": "code",
   "execution_count": 82,
   "metadata": {},
   "outputs": [
    {
     "output_type": "execute_result",
     "data": {
      "text/plain": [
       "3"
      ]
     },
     "metadata": {},
     "execution_count": 82
    }
   ],
   "source": [
    "random.randint(1,6)  # randint : 임의의 정수 난수 # randint(1,6) 1과 6사이의 난수 1개 발생  \n",
    "#모듈이름.함수(변수.클래스)명\n",
    "#클래스명들은 보통 대문자로 시작"
   ]
  },
  {
   "cell_type": "code",
   "execution_count": 2,
   "metadata": {},
   "outputs": [
    {
     "output_type": "stream",
     "name": "stdout",
     "text": [
      "20\n44\n43\n45\n1\n29\n"
     ]
    }
   ],
   "source": [
    "for i in range(6):\n",
    "    print(random.randint(1,45))"
   ]
  },
  {
   "cell_type": "code",
   "execution_count": 34,
   "metadata": {},
   "outputs": [
    {
     "output_type": "stream",
     "name": "stdout",
     "text": [
      "2\n{32, 1, 2, 4, 21, 24}\n"
     ]
    },
    {
     "output_type": "execute_result",
     "data": {
      "text/plain": [
       "'l'"
      ]
     },
     "metadata": {},
     "execution_count": 34
    }
   ],
   "source": [
    "# random.choice([1,2,3]) # 1,2,3, 중에서 1개를 임의로 선택 #복원추출\n",
    "\n",
    "s=set()\n",
    "s.add(1)\n",
    "s.add(1)\n",
    "s.add(2)\n",
    "print(len(s))\n",
    "\n",
    "while len(s)!=6:\n",
    "    r=random.choice(range(1,46))\n",
    "    s.add(r)\n",
    "print(s)\n",
    "\n",
    "\n",
    "#random.choice(시퀀스객체)\n",
    "random.choice(\"hello\")\n"
   ]
  },
  {
   "cell_type": "code",
   "execution_count": 10,
   "metadata": {},
   "outputs": [
    {
     "output_type": "execute_result",
     "data": {
      "text/plain": [
       "[2, 1]"
      ]
     },
     "metadata": {},
     "execution_count": 10
    }
   ],
   "source": [
    "#random.sample(시퀀츠객체, 추출데이터개수)) #비복원 추출 \n",
    "random.sample([1,2,3],2) #데이터 전체를 셔플(shuffle, 뒤섞음)"
   ]
  },
  {
   "cell_type": "code",
   "execution_count": 11,
   "metadata": {},
   "outputs": [
    {
     "output_type": "stream",
     "name": "stdout",
     "text": [
      "13 5 42 30 35 "
     ]
    }
   ],
   "source": [
    "#이번 주 로또 예상 당첨 번호 5개 추출 #1~45\n",
    "import random\n",
    "for i in range(5):\n",
    "    print(random.randint(1,45), end=' ')"
   ]
  },
  {
   "cell_type": "code",
   "execution_count": 20,
   "metadata": {},
   "outputs": [
    {
     "output_type": "execute_result",
     "data": {
      "text/plain": [
       "[39, 21, 34, 19, 41]"
      ]
     },
     "metadata": {},
     "execution_count": 20
    }
   ],
   "source": [
    "random.sample(range(1,46), 5)"
   ]
  },
  {
   "cell_type": "code",
   "execution_count": 39,
   "metadata": {
    "tags": []
   },
   "outputs": [
    {
     "output_type": "error",
     "ename": "IndentationError",
     "evalue": "unexpected indent (<ipython-input-39-826c9226ec7a>, line 3)",
     "traceback": [
      "\u001b[1;36m  File \u001b[1;32m\"<ipython-input-39-826c9226ec7a>\"\u001b[1;36m, line \u001b[1;32m3\u001b[0m\n\u001b[1;33m    while 111: #0이 아니면 모두 참\u001b[0m\n\u001b[1;37m    ^\u001b[0m\n\u001b[1;31mIndentationError\u001b[0m\u001b[1;31m:\u001b[0m unexpected indent\n"
     ]
    }
   ],
   "source": [
    "cond=1\n",
    "# while True: #조건식의 결과가 항상 참이므로 계속(무한) 반복\n",
    "# while 111: #0이 아니면 모두 참 \n",
    "    print(\"1\")\n",
    "    if cond==10:\n",
    "        break #중간에서 빠져나감\n",
    "    cond=cond+1"
   ]
  },
  {
   "cell_type": "code",
   "execution_count": 42,
   "metadata": {
    "tags": []
   },
   "outputs": [
    {
     "output_type": "stream",
     "name": "stdout",
     "text": [
      "*\n*\n*\n*\n*\n*\n*\n"
     ]
    }
   ],
   "source": [
    "c=0\n",
    "while True: #시작 위치\n",
    "    print(\"*\")\n",
    "    c+=1\n",
    "    if c<2:\n",
    "        continue #계속 반복해라 -> 반복문의 시작위치로 이동 \n",
    "    if c>10:\n",
    "        break #반복을 멈춰라 -> 블록을 벗어남\n",
    "    c+=1"
   ]
  },
  {
   "cell_type": "code",
   "execution_count": 43,
   "metadata": {},
   "outputs": [
    {
     "output_type": "stream",
     "name": "stdout",
     "text": [
      "1\n3\n5\n7\n9\n"
     ]
    }
   ],
   "source": [
    "c=0\n",
    "while c<10:\n",
    "    c+=1\n",
    "    if c%2==0:\n",
    "        continue #짝수일때는 다시 처음으로\n",
    "    print(c) #홀수일때는 출력"
   ]
  },
  {
   "cell_type": "code",
   "execution_count": 44,
   "metadata": {},
   "outputs": [
    {
     "output_type": "stream",
     "name": "stdout",
     "text": [
      "1\n"
     ]
    }
   ],
   "source": [
    "c=0\n",
    "while c<10:\n",
    "    c+=1\n",
    "    if c%2==0:\n",
    "        break \n",
    "    print(c)"
   ]
  },
  {
   "cell_type": "code",
   "execution_count": null,
   "metadata": {},
   "outputs": [],
   "source": []
  },
  {
   "cell_type": "code",
   "execution_count": null,
   "metadata": {},
   "outputs": [],
   "source": []
  }
 ],
 "metadata": {
  "interpreter": {
   "hash": "b3ba2566441a7c06988d0923437866b63cedc61552a5af99d1f4fb67d367b25f"
  },
  "kernelspec": {
   "name": "python3",
   "display_name": "Python 3.8.5 64-bit ('base': conda)"
  },
  "language_info": {
   "codemirror_mode": {
    "name": "ipython",
    "version": 3
   },
   "file_extension": ".py",
   "mimetype": "text/x-python",
   "name": "python",
   "nbconvert_exporter": "python",
   "pygments_lexer": "ipython3",
   "version": "3.8.5"
  }
 },
 "nbformat": 4,
 "nbformat_minor": 4
}