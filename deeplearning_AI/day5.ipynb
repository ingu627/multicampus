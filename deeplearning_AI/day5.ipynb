{
 "metadata": {
  "language_info": {
   "codemirror_mode": {
    "name": "ipython",
    "version": 3
   },
   "file_extension": ".py",
   "mimetype": "text/x-python",
   "name": "python",
   "nbconvert_exporter": "python",
   "pygments_lexer": "ipython3",
   "version": "3.8.5"
  },
  "orig_nbformat": 4,
  "kernelspec": {
   "name": "python3",
   "display_name": "Python 3.8.5 64-bit ('base': conda)"
  },
  "interpreter": {
   "hash": "b3ba2566441a7c06988d0923437866b63cedc61552a5af99d1f4fb67d367b25f"
  }
 },
 "nbformat": 4,
 "nbformat_minor": 2,
 "cells": [
  {
   "cell_type": "code",
   "execution_count": 7,
   "metadata": {},
   "outputs": [
    {
     "output_type": "stream",
     "name": "stdout",
     "text": [
      "1 2 3 4 5 6 7 8 9 10 11 12 13 14 15 16 17 18 19 20 21 22 23 24 25 26 27 28 29 30 31 32 33 34 35 36 37 38 39 40 41 42 43 44 45 46 47 48 49 50 51 52 53 54 55 56 57 58 59 60 61 62 63 64 65 66 67 68 69 70 71 72 73 74 75 76 77 78 79 80 81 82 83 84 85 86 87 88 89 90 91 92 93 94 95 96 97 98 99 "
     ]
    }
   ],
   "source": [
    "i=1\n",
    "while True:\n",
    "    print(i, end=\" \")\n",
    "    i+=1\n",
    "    if i==100:\n",
    "        break"
   ]
  },
  {
   "cell_type": "code",
   "execution_count": 8,
   "metadata": {},
   "outputs": [
    {
     "output_type": "stream",
     "name": "stdout",
     "text": [
      "0 2 4 6 8 "
     ]
    }
   ],
   "source": [
    "#무한루프는 while True:로 표시\n",
    "for i in range(10):\n",
    "    if i%2==1:\n",
    "        continue \n",
    "    print(i, end=\" \")\n"
   ]
  },
  {
   "cell_type": "code",
   "execution_count": null,
   "metadata": {},
   "outputs": [],
   "source": [
    "# for i in range(3): #i=0\n",
    "#     for j in range(2): #j=0,1\n",
    "#         문장1 #3*2번\n",
    "#         문장2 #3*2번\n",
    "#     문장3\n",
    "#     문장4\n",
    "# 문장5\n",
    "# 문장6"
   ]
  },
  {
   "cell_type": "code",
   "execution_count": 11,
   "metadata": {},
   "outputs": [
    {
     "output_type": "stream",
     "name": "stdout",
     "text": [
      "***\n***\n***\n***\n"
     ]
    }
   ],
   "source": [
    "for i in range(4):\n",
    "    for j in range(3):\n",
    "        print(\"*\", end=\"\")\n",
    "    print()"
   ]
  },
  {
   "cell_type": "code",
   "execution_count": 12,
   "metadata": {},
   "outputs": [
    {
     "output_type": "execute_result",
     "data": {
      "text/plain": [
       "[10]"
      ]
     },
     "metadata": {},
     "execution_count": 12
    }
   ],
   "source": [
    "a=[]\n",
    "a.append(10)\n",
    "a"
   ]
  },
  {
   "cell_type": "code",
   "execution_count": 24,
   "metadata": {},
   "outputs": [
    {
     "output_type": "execute_result",
     "data": {
      "text/plain": [
       "[10, 15, 20, 25, 27, 30, 40]"
      ]
     },
     "metadata": {},
     "execution_count": 24
    }
   ],
   "source": [
    "a=[10,15,20,30,40]\n",
    "a[:3]+[25,27]+a[3:]"
   ]
  },
  {
   "cell_type": "code",
   "execution_count": 25,
   "metadata": {},
   "outputs": [
    {
     "output_type": "execute_result",
     "data": {
      "text/plain": [
       "[10, 15, 20, 25, 27, 30, 40]"
      ]
     },
     "metadata": {},
     "execution_count": 25
    }
   ],
   "source": [
    "a=[10,15,20,30,40]\n",
    "#시작번호와 끝번호를 동일하게 하면 여러 개의 데이터를 추가할 수 있음\n",
    "a[3:3]=[25,27]\n",
    "a"
   ]
  },
  {
   "cell_type": "code",
   "execution_count": 27,
   "metadata": {},
   "outputs": [
    {
     "output_type": "execute_result",
     "data": {
      "text/plain": [
       "' pop은 보통 마지막요소 삭제, \\n특정 번호의 데이터 삭제 \\nremove는 데이터 값을 찾아서 삭제\\n'"
      ]
     },
     "metadata": {},
     "execution_count": 27
    }
   ],
   "source": [
    "# pop은 보통 마지막요소 삭제, \n",
    "# 특정 번호의 데이터 삭제 \n",
    "# remove는 데이터 값을 찾아서 삭제\n",
    "\n"
   ]
  },
  {
   "cell_type": "code",
   "execution_count": 28,
   "metadata": {},
   "outputs": [
    {
     "output_type": "execute_result",
     "data": {
      "text/plain": [
       "[1, 2]"
      ]
     },
     "metadata": {},
     "execution_count": 28
    }
   ],
   "source": [
    "a=[1,2,3]\n",
    "a.pop()\n",
    "a"
   ]
  },
  {
   "cell_type": "code",
   "execution_count": 30,
   "metadata": {},
   "outputs": [
    {
     "output_type": "execute_result",
     "data": {
      "text/plain": [
       "[4, 6]"
      ]
     },
     "metadata": {},
     "execution_count": 30
    }
   ],
   "source": [
    "a=[4,5,6]\n",
    "a.remove(5)\n",
    "a"
   ]
  },
  {
   "cell_type": "code",
   "execution_count": 31,
   "metadata": {},
   "outputs": [
    {
     "output_type": "execute_result",
     "data": {
      "text/plain": [
       "[4, 6]"
      ]
     },
     "metadata": {},
     "execution_count": 31
    }
   ],
   "source": [
    "a=[4,5,6]\n",
    "del a[1]\n",
    "a"
   ]
  },
  {
   "cell_type": "code",
   "execution_count": 35,
   "metadata": {},
   "outputs": [
    {
     "output_type": "execute_result",
     "data": {
      "text/plain": [
       "1"
      ]
     },
     "metadata": {},
     "execution_count": 35
    }
   ],
   "source": [
    "a=[4,5,6]\n",
    "a.index(5) #값을 인덱스값으로 반환\n",
    "a.count(5)"
   ]
  },
  {
   "cell_type": "code",
   "execution_count": 40,
   "metadata": {},
   "outputs": [
    {
     "output_type": "execute_result",
     "data": {
      "text/plain": [
       "[6, 5, 4, 4]"
      ]
     },
     "metadata": {},
     "execution_count": 40
    }
   ],
   "source": [
    "a=[4,5,6,4]\n",
    "a.sort(reverse=True) #a에는 정렬된 결과가 저장됨\n",
    "a"
   ]
  },
  {
   "cell_type": "code",
   "execution_count": 38,
   "metadata": {},
   "outputs": [
    {
     "output_type": "execute_result",
     "data": {
      "text/plain": [
       "[4, 4, 5, 6]"
      ]
     },
     "metadata": {},
     "execution_count": 38
    }
   ],
   "source": [
    "a=[4,5,6,4]\n",
    "sorted(a) #정렬된 거를 잠깐 보겠다. 저장x "
   ]
  },
  {
   "cell_type": "code",
   "execution_count": 50,
   "metadata": {},
   "outputs": [
    {
     "output_type": "execute_result",
     "data": {
      "text/plain": [
       "[]"
      ]
     },
     "metadata": {},
     "execution_count": 50
    }
   ],
   "source": [
    "a\n",
    "# a.clear()\n",
    "del a[:]\n",
    "a\n"
   ]
  },
  {
   "cell_type": "code",
   "execution_count": 52,
   "metadata": {},
   "outputs": [
    {
     "output_type": "execute_result",
     "data": {
      "text/plain": [
       "[100, 200, 300, 400]"
      ]
     },
     "metadata": {},
     "execution_count": 52
    }
   ],
   "source": [
    "a=[100,200]\n",
    "a.extend([300,400])\n",
    "a"
   ]
  },
  {
   "cell_type": "code",
   "execution_count": 53,
   "metadata": {},
   "outputs": [
    {
     "output_type": "execute_result",
     "data": {
      "text/plain": [
       "[100, 200, 300, 400]"
      ]
     },
     "metadata": {},
     "execution_count": 53
    }
   ],
   "source": [
    "a=[100,200]\n",
    "a[len(a):]=[300,400]\n",
    "a"
   ]
  },
  {
   "cell_type": "code",
   "execution_count": 55,
   "metadata": {},
   "outputs": [
    {
     "output_type": "stream",
     "name": "stdout",
     "text": [
      "비어있지 않음\n"
     ]
    }
   ],
   "source": [
    "a \n",
    "\n",
    "if len(a): # len(a) != 0\n",
    "    print(\"비어있지 않음\")\n",
    "else:\n",
    "    print(\"비어있음\")"
   ]
  },
  {
   "cell_type": "code",
   "execution_count": 56,
   "metadata": {},
   "outputs": [
    {
     "output_type": "stream",
     "name": "stdout",
     "text": [
      "비어있지 않음\n"
     ]
    }
   ],
   "source": [
    "if a: #a에 데이터가 있으므로 참\n",
    "    print(\"비어있지 않음\")"
   ]
  },
  {
   "cell_type": "code",
   "execution_count": 6,
   "metadata": {},
   "outputs": [
    {
     "output_type": "stream",
     "name": "stdout",
     "text": [
      "1 3\n2 1\n3 2\n4 4\n5 5\n"
     ]
    }
   ],
   "source": [
    "a=[3,1,2,4,5]\n",
    "for idx, v in enumerate(a, start=1):\n",
    "    # print(idx) #index번호\n",
    "    # print(v)\n",
    "    print(idx, v)"
   ]
  },
  {
   "cell_type": "code",
   "execution_count": 8,
   "metadata": {},
   "outputs": [
    {
     "output_type": "stream",
     "name": "stdout",
     "text": [
      "3 5 1 "
     ]
    }
   ],
   "source": [
    "a=[3,-2,5,1,-6]\n",
    "for i in a:\n",
    "    if i<0:\n",
    "        continue\n",
    "    else:\n",
    "        print(i, end=\" \")"
   ]
  },
  {
   "cell_type": "code",
   "execution_count": 9,
   "metadata": {},
   "outputs": [
    {
     "output_type": "stream",
     "name": "stdout",
     "text": [
      "[3, 5, 1]\n"
     ]
    }
   ],
   "source": [
    "a=[3,-2,5,1,-6]\n",
    "for i in a:\n",
    "    if i>0:\n",
    "        continue\n",
    "    else:\n",
    "        a.remove(i)\n",
    "print(a)        "
   ]
  },
  {
   "cell_type": "code",
   "execution_count": 11,
   "metadata": {},
   "outputs": [
    {
     "output_type": "stream",
     "name": "stdout",
     "text": [
      "1\n"
     ]
    }
   ],
   "source": [
    "a=[3,7,1,5,2]\n",
    "\n",
    "#a리스트에서 최소값 #최대값은 부호 반대로\n",
    "small=a[0]\n",
    "for i in a:\n",
    "    if i < small:\n",
    "        small=i\n",
    "print(small)"
   ]
  },
  {
   "cell_type": "code",
   "execution_count": 95,
   "metadata": {},
   "outputs": [
    {
     "output_type": "execute_result",
     "data": {
      "text/plain": [
       "'e'"
      ]
     },
     "metadata": {},
     "execution_count": 95
    }
   ],
   "source": [
    "a.sort()\n",
    "a[0]\n",
    "a.sort(reverse=True)\n",
    "a[0]\n"
   ]
  },
  {
   "cell_type": "code",
   "execution_count": 19,
   "metadata": {},
   "outputs": [
    {
     "output_type": "execute_result",
     "data": {
      "text/plain": [
       "7"
      ]
     },
     "metadata": {},
     "execution_count": 19
    }
   ],
   "source": [
    "min(a)\n",
    "max(a)"
   ]
  },
  {
   "cell_type": "code",
   "execution_count": 22,
   "metadata": {},
   "outputs": [
    {
     "output_type": "execute_result",
     "data": {
      "text/plain": [
       "18"
      ]
     },
     "metadata": {},
     "execution_count": 22
    }
   ],
   "source": [
    "a=[3,7,1,5,2]\n",
    "sum(a)"
   ]
  },
  {
   "cell_type": "code",
   "execution_count": 27,
   "metadata": {},
   "outputs": [
    {
     "output_type": "execute_result",
     "data": {
      "text/plain": [
       "[0, 1, 2, 3, 4, 5, 6, 7, 8, 9]"
      ]
     },
     "metadata": {},
     "execution_count": 27
    }
   ],
   "source": [
    "# list comprehension(리스트 내포(표현식)) : 리스트 내부에 for, if문 등을 사용 \n",
    "# -> 리스트 생성\n",
    "#리스트표현식 작성법\n",
    "# [식 for 변수 in 리스트]\n",
    "[x for x in range(10)]\n"
   ]
  },
  {
   "cell_type": "code",
   "execution_count": 37,
   "metadata": {},
   "outputs": [
    {
     "output_type": "execute_result",
     "data": {
      "text/plain": [
       "[0, 1, 2, 3, 4, 5, 6, 7, 8, 9]"
      ]
     },
     "metadata": {},
     "execution_count": 37
    }
   ],
   "source": [
    "# li=[]\n",
    "# for i in range(10):\n",
    "#     li.append(i)\n",
    "# li\n",
    "\n",
    "list((x for x in range(10))) #제너레이터 #x는 임시로 사용되는 변수"
   ]
  },
  {
   "cell_type": "code",
   "execution_count": 1,
   "metadata": {},
   "outputs": [
    {
     "output_type": "execute_result",
     "data": {
      "text/plain": [
       "[10, 11, 12, 13, 14, 15, 16, 17, 18, 19, 20]"
      ]
     },
     "metadata": {},
     "execution_count": 1
    }
   ],
   "source": [
    "#리스트 내포를 이용하여 10~20까지 값을 갖는 리스트를 생성\n",
    "[x for x in range(10,21)] #이거 자체가 리스트이기 때문에 뒤에 인덱스 붙여줘도 됨\n"
   ]
  },
  {
   "cell_type": "code",
   "execution_count": 2,
   "metadata": {},
   "outputs": [
    {
     "output_type": "execute_result",
     "data": {
      "text/plain": [
       "[0, 5, 10, 15, 20, 25]"
      ]
     },
     "metadata": {},
     "execution_count": 2
    }
   ],
   "source": [
    "a=[i*5 for i in range(6)]\n",
    "a"
   ]
  },
  {
   "cell_type": "code",
   "execution_count": 54,
   "metadata": {},
   "outputs": [
    {
     "output_type": "execute_result",
     "data": {
      "text/plain": [
       "'\\n1) range(10) => 0,1,2,,...9 먼저 수행 \\n2) if i%2==0 => 짝수만 뽑아냄\\n3) 뽑아낸 짝수가 i에 전달되어 리스트가 생성됨\\n'"
      ]
     },
     "metadata": {},
     "execution_count": 54
    }
   ],
   "source": [
    "# [식 for 변수, 리스트 if 조건식 ]\n",
    "[i for i in range(10) if i%2 == 0]\n",
    "\n",
    "\"\"\"\n",
    "1) range(10) => 0,1,2,,...9 먼저 수행 \n",
    "2) if i%2==0 => 짝수만 뽑아냄\n",
    "3) 뽑아낸 짝수가 i에 전달되어 리스트가 생성됨\n",
    "\"\"\""
   ]
  },
  {
   "cell_type": "code",
   "execution_count": 62,
   "metadata": {},
   "outputs": [
    {
     "output_type": "execute_result",
     "data": {
      "text/plain": [
       "[3, 9, 15, 21, 27]"
      ]
     },
     "metadata": {},
     "execution_count": 62
    }
   ],
   "source": [
    "[i*3 for i in range(10) if i%2] #조건이 0이면 거짓"
   ]
  },
  {
   "cell_type": "code",
   "execution_count": 3,
   "metadata": {},
   "outputs": [],
   "source": [
    "a=['a','b','c','d','e']\n",
    "b=['A','B','C','D','E']"
   ]
  },
  {
   "cell_type": "code",
   "execution_count": 4,
   "metadata": {},
   "outputs": [
    {
     "output_type": "execute_result",
     "data": {
      "text/plain": [
       "['aA',\n",
       " 'aB',\n",
       " 'aC',\n",
       " 'aD',\n",
       " 'aE',\n",
       " 'bA',\n",
       " 'bB',\n",
       " 'bC',\n",
       " 'bD',\n",
       " 'bE',\n",
       " 'cA',\n",
       " 'cB',\n",
       " 'cC',\n",
       " 'cD',\n",
       " 'cE',\n",
       " 'dA',\n",
       " 'dB',\n",
       " 'dC',\n",
       " 'dD',\n",
       " 'dE',\n",
       " 'eA',\n",
       " 'eB',\n",
       " 'eC',\n",
       " 'eD',\n",
       " 'eE']"
      ]
     },
     "metadata": {},
     "execution_count": 4
    }
   ],
   "source": [
    "# [i+j for i in a for j in b]\n",
    "\n",
    "# mylist=[]\n",
    "# for i in a:\n",
    "#     for j in b:\n",
    "#         mylist.append(i+j)\n",
    "# mylist\n",
    "\n",
    "[i+j for i in a for j in b]"
   ]
  },
  {
   "cell_type": "code",
   "execution_count": 89,
   "metadata": {},
   "outputs": [
    {
     "output_type": "stream",
     "name": "stdout",
     "text": [
      "2단 :  [2, 4, 6, 8, 10, 12, 14, 16, 18]\n3단 :  [3, 6, 9, 12, 15, 18, 21, 24, 27]\n4단 :  [4, 8, 12, 16, 20, 24, 28, 32, 36]\n5단 :  [5, 10, 15, 20, 25, 30, 35, 40, 45]\n6단 :  [6, 12, 18, 24, 30, 36, 42, 48, 54]\n7단 :  [7, 14, 21, 28, 35, 42, 49, 56, 63]\n8단 :  [8, 16, 24, 32, 40, 48, 56, 64, 72]\n9단 :  [9, 18, 27, 36, 45, 54, 63, 72, 81]\n"
     ]
    }
   ],
   "source": [
    "for i in range(2,10):\n",
    "    gugu=[]\n",
    "    for j in range(1,10):\n",
    "        gugu.append(i*j)\n",
    "    print(\"%d단 : \" % i,gugu)"
   ]
  },
  {
   "cell_type": "code",
   "execution_count": 94,
   "metadata": {},
   "outputs": [
    {
     "output_type": "stream",
     "name": "stdout",
     "text": [
      "[2, 4, 6, 8, 10, 12, 14, 16, 18, 3, 6, 9, 12, 15, 18, 21, 24, 27, 4, 8, 12, 16, 20, 24, 28, 32, 36, 5, 10, 15, 20, 25, 30, 35, 40, 45, 6, 12, 18, 24, 30, 36, 42, 48, 54, 7, 14, 21, 28, 35, 42, 49, 56, 63, 8, 16, 24, 32, 40, 48, 56, 64, 72, 9, 18, 27, 36, 45, 54, 63, 72, 81]\n"
     ]
    }
   ],
   "source": [
    "print([i*j for i in range(2,10)\n",
    "           for j in range(1,10)])"
   ]
  },
  {
   "cell_type": "code",
   "execution_count": 97,
   "metadata": {},
   "outputs": [
    {
     "output_type": "execute_result",
     "data": {
      "text/plain": [
       "[0, 2, 4, 6, 8, 10, 12, 14, 16, 18, 20, 22, 24, 26, 28]"
      ]
     },
     "metadata": {},
     "execution_count": 97
    }
   ],
   "source": [
    "[i for i in range(30) if i%2==0]"
   ]
  },
  {
   "cell_type": "code",
   "execution_count": 98,
   "metadata": {},
   "outputs": [
    {
     "output_type": "execute_result",
     "data": {
      "text/plain": [
       "[0, 6, 12, 18, 24]"
      ]
     },
     "metadata": {},
     "execution_count": 98
    }
   ],
   "source": [
    "[i for i in range(30) if i%2==0 and i%3==0] #6의 배수"
   ]
  },
  {
   "cell_type": "code",
   "execution_count": 99,
   "metadata": {},
   "outputs": [
    {
     "output_type": "execute_result",
     "data": {
      "text/plain": [
       "[0, 6, 12, 18, 24]"
      ]
     },
     "metadata": {},
     "execution_count": 99
    }
   ],
   "source": [
    "[i for i in range(30) if i%2==0 if i%3==0]"
   ]
  },
  {
   "cell_type": "code",
   "execution_count": 102,
   "metadata": {},
   "outputs": [
    {
     "output_type": "execute_result",
     "data": {
      "text/plain": [
       "['even', 'odd', 'even', 'odd', 'even', 'odd', 'even', 'odd', 'even', 'odd']"
      ]
     },
     "metadata": {},
     "execution_count": 102
    }
   ],
   "source": [
    "#리스트 내포에서 else 도 사용 가능. 단, elif는 불가\n",
    "#0~9까지 수를 리스트에 저장하고자 하는데,\n",
    "#짝수는 even, 홀수는 odd\n",
    "\n",
    "['even' if i%2==0 else 'odd' for i in range(10)] #출력하고자 하는 값이 조건에 따라 다르면 for 앞에 위치"
   ]
  },
  {
   "cell_type": "code",
   "execution_count": 105,
   "metadata": {},
   "outputs": [
    {
     "output_type": "execute_result",
     "data": {
      "text/plain": [
       "['zero', 'odd', 'even', 'odd', 'even', 'odd', 'even', 'odd', 'even', 'odd']"
      ]
     },
     "metadata": {},
     "execution_count": 105
    }
   ],
   "source": [
    "['zero' if i==0 else 'even' if i%2==0 else 'odd' for i in range(10)]"
   ]
  }
 ]
}