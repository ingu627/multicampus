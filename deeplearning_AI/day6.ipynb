{
 "metadata": {
  "language_info": {
   "codemirror_mode": {
    "name": "ipython",
    "version": 3
   },
   "file_extension": ".py",
   "mimetype": "text/x-python",
   "name": "python",
   "nbconvert_exporter": "python",
   "pygments_lexer": "ipython3",
   "version": "3.8.5"
  },
  "orig_nbformat": 4,
  "kernelspec": {
   "name": "python3",
   "display_name": "Python 3.8.5 64-bit ('base': conda)"
  },
  "interpreter": {
   "hash": "b3ba2566441a7c06988d0923437866b63cedc61552a5af99d1f4fb67d367b25f"
  }
 },
 "nbformat": 4,
 "nbformat_minor": 2,
 "cells": [
  {
   "cell_type": "code",
   "execution_count": 1,
   "metadata": {},
   "outputs": [
    {
     "output_type": "execute_result",
     "data": {
      "text/plain": [
       "4000"
      ]
     },
     "metadata": {},
     "execution_count": 1
    }
   ],
   "source": [
    "cnt = 0 \n",
    "for i in range(1, 10001):\n",
    "    cnt += str(i).count('8')\n",
    "cnt\n"
   ]
  },
  {
   "cell_type": "code",
   "execution_count": 32,
   "metadata": {},
   "outputs": [
    {
     "output_type": "stream",
     "name": "stdout",
     "text": [
      "3 소수가 아님.\n4 소수가 아님.\n5 소수가 아님.\n6 소수가 아님.\n7 소수가 아님.\n8 소수가 아님.\n9 소수가 아님.\n[]\n"
     ]
    }
   ],
   "source": [
    "result = []\n",
    "for num in range(2, 10): # 2~9\n",
    "    sw=0\n",
    "    for i in range(2, num+1):\n",
    "        if num % 1 == 0 and num != i : #나누어 떨어짐&자기 자신이 아닌 \n",
    "            sw = 1\n",
    "            break\n",
    "    if(sw==1):\n",
    "        print(num, '소수가 아님.')\n",
    "print(result)"
   ]
  },
  {
   "cell_type": "code",
   "execution_count": null,
   "metadata": {},
   "outputs": [],
   "source": [
    "for i in range(5):\n",
    "    if i == 6:\n",
    "        print(\"반복 종료\")\n",
    "        break\n",
    "else:\n",
    "    print(\"루프 종료\")\n",
    "\n",
    "# for 문으로 같은 수준으로 들여쓰기를 한 else\n",
    "# break를 만나지 않고 for 가 정상 종료한 경우"
   ]
  },
  {
   "cell_type": "code",
   "execution_count": 33,
   "metadata": {},
   "outputs": [
    {
     "output_type": "execute_result",
     "data": {
      "text/plain": [
       "'\\n파이썬 파일 읽기/쓰기\\n파일 열기 -> 읽기 \\n파일 열기 -> 쓰기 \\n공통적으로 파일 열기 작업을 반드시 해야함.\\n\\n파일 열기 (open) -> 읽기 (read) / 쓰기 (write) -> 파일 닫기(close)\\n파일을 열때마다 메모리에 적재가 됨\\n'"
      ]
     },
     "metadata": {},
     "execution_count": 33
    }
   ],
   "source": [
    "'''\n",
    "파이썬 파일 읽기/쓰기\n",
    "파일 열기 -> 읽기 \n",
    "파일 열기 -> 쓰기 \n",
    "공통적으로 파일 열기 작업을 반드시 해야함.\n",
    "\n",
    "파일 열기 (open) -> 읽기 (read) / 쓰기 (write) -> 파일 닫기(close)\n",
    "파일을 열때마다 메모리에 적재가 됨\n",
    "'''"
   ]
  },
  {
   "cell_type": "code",
   "execution_count": 34,
   "metadata": {},
   "outputs": [],
   "source": [
    "f=open(\"test.txt\", \"w\") #파일을 쓰기 위해 열겠다.\n",
    "f.write(\"hihello\") # 파일에 문자열 저장\n",
    "f.close()"
   ]
  },
  {
   "cell_type": "code",
   "execution_count": 36,
   "metadata": {},
   "outputs": [
    {
     "output_type": "stream",
     "name": "stdout",
     "text": [
      "hihello\n"
     ]
    }
   ],
   "source": [
    "f=open(\"test.txt\", \"r\") #파일을 읽기 위해 열겠다.\n",
    "s=f.read() # 파일에 문자열 읽기\n",
    "print(s)\n",
    "f.close() #파일 닫기"
   ]
  },
  {
   "cell_type": "code",
   "execution_count": 37,
   "metadata": {},
   "outputs": [
    {
     "output_type": "stream",
     "name": "stdout",
     "text": [
      "hihello\n"
     ]
    }
   ],
   "source": [
    "# 두 구문이 동일함\n",
    "with open(\"test.txt\", \"r\") as f: # with 구문은 close를 하지 않아도 내부적으로 close가 됨\n",
    "    s = f.read()\n",
    "    print(s)"
   ]
  },
  {
   "cell_type": "code",
   "execution_count": 38,
   "metadata": {},
   "outputs": [],
   "source": [
    "#여러 줄 저장 \n",
    "with open(\"test.txt\", \"w\") as f: # with 구문은 close를 하지 않아도 내부적으로 close가 됨\n",
    "    f.write(\"hello world \\n\")\n",
    "    f.write(\"hello world \\n\")\n",
    "    f.write(\"hello world\")\n"
   ]
  },
  {
   "cell_type": "code",
   "execution_count": 2,
   "metadata": {},
   "outputs": [],
   "source": [
    "# 여러 줄 저장 \n",
    "with open(\"test.txt\", \"w\") as f:\n",
    "    for i in range(3):\n",
    "        s = \"hello world\" + str(i+1) + \"\\n\"\n",
    "        f.write(s)"
   ]
  },
  {
   "cell_type": "code",
   "execution_count": 3,
   "metadata": {},
   "outputs": [],
   "source": [
    "with open(\"test.txt\", \"w\") as f:\n",
    "    for i in range(3):\n",
    "        f.write(\"{2}hello{1} world {0}\".format(i+1, 999, 3.14))"
   ]
  },
  {
   "cell_type": "code",
   "execution_count": 41,
   "metadata": {},
   "outputs": [],
   "source": [
    "with open(\"test.txt\", \"w\") as f:\n",
    "    for i in range(3):\n",
    "        f.write(\"hello world %d\" %(i+1))"
   ]
  },
  {
   "cell_type": "code",
   "execution_count": 6,
   "metadata": {},
   "outputs": [],
   "source": [
    "lines = ['hello world1\\n', 'hello world2\\n', 'hello world3']"
   ]
  },
  {
   "cell_type": "code",
   "execution_count": 7,
   "metadata": {},
   "outputs": [],
   "source": [
    "with open(\"test2.txt\", \"w\") as f:\n",
    "    for i in range(len(lines)):\n",
    "        f.write(lines[1])"
   ]
  },
  {
   "cell_type": "code",
   "execution_count": 8,
   "metadata": {},
   "outputs": [],
   "source": [
    "with open(\"test2.txt\", \"w\") as f:\n",
    "    f.writelines(lines)"
   ]
  },
  {
   "cell_type": "code",
   "execution_count": 51,
   "metadata": {},
   "outputs": [
    {
     "output_type": "stream",
     "name": "stdout",
     "text": [
      "hello world1\nhello world2\nhello world3\n"
     ]
    }
   ],
   "source": [
    "# 두 구문이 동일함 \n",
    "with open(\"test2.txt\", \"r\") as f: # with 구문은 close를 하지 않아도 내부적으로 close가 됨\n",
    "    s = f.read()\n",
    "    print(s)"
   ]
  },
  {
   "cell_type": "code",
   "execution_count": 10,
   "metadata": {},
   "outputs": [
    {
     "output_type": "stream",
     "name": "stdout",
     "text": [
      "['hello world1\\n', 'hello world2\\n', 'hello world3']\n"
     ]
    }
   ],
   "source": [
    "with open(\"test2.txt\", \"r\") as f:\n",
    "    s = f.readlines()\n",
    "    print(s)\n",
    "\n",
    "# read : 파일을 읽어서 문자열로 가져옴 \n",
    "# readlines : 파일을 읽어서 리스트 형태로 가져옴"
   ]
  },
  {
   "cell_type": "code",
   "execution_count": 11,
   "metadata": {},
   "outputs": [
    {
     "output_type": "stream",
     "name": "stdout",
     "text": [
      "<class 'str'>\n"
     ]
    }
   ],
   "source": [
    "with open(\"test2.txt\", \"r\") as f:\n",
    "    s = f.readline() # 한 번에 모든 줄을 읽어들임\n",
    "    print(s)"
   ]
  },
  {
   "cell_type": "code",
   "execution_count": 55,
   "metadata": {},
   "outputs": [],
   "source": [
    "lines = ['hello world1\\n', 'hello world2\\n', 'hello world3']"
   ]
  },
  {
   "cell_type": "code",
   "execution_count": 56,
   "metadata": {},
   "outputs": [
    {
     "output_type": "stream",
     "name": "stdout",
     "text": [
      "hello world 1hello world 2hello world 3\n"
     ]
    }
   ],
   "source": [
    "with open(\"test.txt\", \"r\") as f:\n",
    "    while True:\n",
    "        s = f.readline()\n",
    "        if s!=\"\":\n",
    "            print(s.strip(\"\\n\"))\n",
    "        else:\n",
    "            break"
   ]
  },
  {
   "cell_type": "code",
   "execution_count": null,
   "metadata": {},
   "outputs": [],
   "source": [
    "with open(\"test.txt\", \"r\") as f:\n",
    "    line = None\n",
    "    while line !=\"\":\n",
    "        line = f.readline()\n",
    "        print(s.strip(\"\\n\"))"
   ]
  },
  {
   "cell_type": "code",
   "execution_count": null,
   "metadata": {},
   "outputs": [],
   "source": [
    "# 피클 (pickle) 모듈 : 객체를 파일로 저장 \n",
    "# 객체 ? 클래스(붕어빵 기계)로부터 파생된 실체 (인스턴스, 붕어빵)"
   ]
  },
  {
   "cell_type": "code",
   "execution_count": 57,
   "metadata": {},
   "outputs": [],
   "source": [
    "# 캐릭터 정보 pickle 객체로 저장 \n",
    "# 위치={'x좌표; : 270, 'y좌표': 902.283, 'z좌표': 283.443}"
   ]
  },
  {
   "cell_type": "code",
   "execution_count": 14,
   "metadata": {},
   "outputs": [],
   "source": [
    "import pickle "
   ]
  },
  {
   "cell_type": "code",
   "execution_count": null,
   "metadata": {},
   "outputs": [],
   "source": [
    "# 게임 시작 "
   ]
  },
  {
   "cell_type": "code",
   "execution_count": 15,
   "metadata": {},
   "outputs": [],
   "source": [
    "uid = 'kim'\n",
    "lv = 50\n",
    "ch = 'human'\n",
    "items = {'sword':1, 're':10}"
   ]
  },
  {
   "cell_type": "code",
   "execution_count": 16,
   "metadata": {},
   "outputs": [],
   "source": [
    "with open(\"user1.p\", 'wb') as f:\n",
    "    pickle.dump(uid, f)\n",
    "    pickle.dump(lv, f)\n",
    "    pickle.dump(ch, f)\n",
    "    pickle.dump(items, f)"
   ]
  },
  {
   "cell_type": "code",
   "execution_count": 63,
   "metadata": {},
   "outputs": [],
   "source": [
    "# 기상하자마자 게임 접속"
   ]
  },
  {
   "cell_type": "code",
   "execution_count": 64,
   "metadata": {},
   "outputs": [],
   "source": [
    "with open (\"user1.p\", \"rb\") as f:\n",
    "    uid=pickle.load(f)\n",
    "    lv=pickle.load(f)\n",
    "    ch=pickle.load(f)\n",
    "    items=pickle.load(f)"
   ]
  },
  {
   "cell_type": "code",
   "execution_count": 65,
   "metadata": {},
   "outputs": [
    {
     "output_type": "stream",
     "name": "stdout",
     "text": [
      "kim 50 human {'sword': 1, 're': 10}\n"
     ]
    }
   ],
   "source": [
    "print(uid, lv, ch, items)"
   ]
  },
  {
   "cell_type": "code",
   "execution_count": null,
   "metadata": {},
   "outputs": [],
   "source": [
    "# 해문 asbsa 앞으로 읽어도 뒤로 읽어도 같은 문자열"
   ]
  },
  {
   "cell_type": "code",
   "execution_count": 58,
   "metadata": {},
   "outputs": [
    {
     "output_type": "stream",
     "name": "stdout",
     "text": [
      "fe\nFalse\n"
     ]
    }
   ],
   "source": [
    "w=input(\"입력 : \")\n",
    "print(w)\n",
    "print(w==w[::-1])"
   ]
  },
  {
   "cell_type": "code",
   "execution_count": 66,
   "metadata": {},
   "outputs": [
    {
     "output_type": "execute_result",
     "data": {
      "text/plain": [
       "['a', 'b', 'c', 'b', 'a']"
      ]
     },
     "metadata": {},
     "execution_count": 66
    }
   ],
   "source": [
    "w='abcba'\n",
    "list(w)"
   ]
  },
  {
   "cell_type": "code",
   "execution_count": 67,
   "metadata": {},
   "outputs": [
    {
     "output_type": "execute_result",
     "data": {
      "text/plain": [
       "['a', 'b', 'c', 'b', 'a']"
      ]
     },
     "metadata": {},
     "execution_count": 67
    }
   ],
   "source": [
    "list(reversed(w))"
   ]
  },
  {
   "cell_type": "code",
   "execution_count": 69,
   "metadata": {},
   "outputs": [
    {
     "output_type": "execute_result",
     "data": {
      "text/plain": [
       "True"
      ]
     },
     "metadata": {},
     "execution_count": 69
    }
   ],
   "source": [
    "list(w)==list(reversed(w))"
   ]
  },
  {
   "cell_type": "code",
   "execution_count": 70,
   "metadata": {},
   "outputs": [
    {
     "output_type": "execute_result",
     "data": {
      "text/plain": [
       "'abcba'"
      ]
     },
     "metadata": {},
     "execution_count": 70
    }
   ],
   "source": [
    "w"
   ]
  },
  {
   "cell_type": "code",
   "execution_count": 71,
   "metadata": {},
   "outputs": [
    {
     "output_type": "execute_result",
     "data": {
      "text/plain": [
       "True"
      ]
     },
     "metadata": {},
     "execution_count": 71
    }
   ],
   "source": [
    "w==''.join(reversed(w))"
   ]
  },
  {
   "source": [
    "'''\n",
    "n 그램 : 문자열(문장)에서 n개의 연속된 문자(단어)를 추출하는 것\n",
    "n=2, 2-gram\n",
    "문장 -> 단어 단위(2-gram)로 추출 \n",
    "공백 단위로 구분했다면 => [삼성동에, 코로나가, 퍼지고 , 있습니다]\n",
    "단어 단어(2-gram)로 추출 후 => [삼성동에, 코로나가], [코로나가, 퍼지고], [퍼지고, 있습니다]\n",
    "\n",
    "문장 -> 글자 단위(2-gram)로 추출 \n",
    "삼성동에 코로나가 퍼지고 있습니다\n",
    "글자 단위(2-gram)로 추출 후 => ['삼성', '성동', '동에', '에', '코',...]\n",
    "\n",
    "ex) \n",
    "hello -> 2 -gram => he. el. ll. lo\n",
    "\n",
    "'''"
   ],
   "cell_type": "code",
   "metadata": {},
   "execution_count": null,
   "outputs": []
  },
  {
   "cell_type": "code",
   "execution_count": 20,
   "metadata": {},
   "outputs": [
    {
     "output_type": "stream",
     "name": "stdout",
     "text": [
      "['h', 'e', 'l', 'l', 'o']\n"
     ]
    }
   ],
   "source": [
    "Zzz='hello'\n",
    "a=list()\n",
    "\n",
    "for i in range(len(Zzz)):\n",
    "    a.append(Zzz[i])\n",
    "\n",
    "print(a)"
   ]
  },
  {
   "cell_type": "code",
   "execution_count": 12,
   "metadata": {},
   "outputs": [
    {
     "output_type": "stream",
     "name": "stdout",
     "text": [
      "this is\nis python\npython program\n"
     ]
    }
   ],
   "source": [
    "Zzz2=\"this is python program\"\n",
    "w=Zzz2.split()\n",
    "for i in range(len(w)-1):\n",
    "    print(w[i],w[i+1], sep=\" \")"
   ]
  },
  {
   "cell_type": "code",
   "execution_count": 13,
   "metadata": {},
   "outputs": [],
   "source": [
    "'''\n",
    "n-gram 언어 모델 : 단어(문자)의 순서(시퀀스)에 확률을 적용한 모델\n",
    "나는 아침에 줌에 접속하여 (  ) 인증을 하였다. => ()를 유추한다.\n",
    "\n",
    "언어 모델을 만드는 유형 : 통계적 방법, 신경망 방법\n",
    "N-gram은 통계적 방법 중의 하나\n",
    "\n",
    "ex) 나는 버스를 탔다 > 나는 버스를 먹었다 => 탔다가 먹었다 보다 확률적으로 올 확률이 높다.\n",
    "쉬는 시간이 다가오자, 무척 졸렸다 > 쉬는 시간이 다가오자, 무척 열심히 했다\n",
    "ex) 예를 들어 '쉬는'다음에 올 단어가 뭘까? 확률적으로 높은 단어인 '시간'이 나온다.\n",
    "\n",
    "'''"
   ]
  },
  {
   "cell_type": "code",
   "execution_count": null,
   "metadata": {},
   "outputs": [],
   "source": [
    "# P(갔다 | 나는. 오늘. 학교에 )\r\n",
    "# P(안 갔다 | 나는. 오늘. 학교에 )\r\n",
    "# P(버스를) | 나는. 오늘. 학교에 )"
   ]
  },
  {
   "cell_type": "code",
   "execution_count": null,
   "metadata": {},
   "outputs": [],
   "source": [
    "전체 문장에서 \n",
    "'''\n",
    " count(나는 오늘 학교에 갔다) = 100\n",
    "---------------------------        = 1% P(갔다 | 나는, 오늘,학교에)\n",
    " count(나는 오늘 학교에) = 10000번\n",
    " \n",
    " '''"
   ]
  },
  {
   "cell_type": "code",
   "execution_count": null,
   "metadata": {},
   "outputs": [],
   "source": [
    "# n-gram 활용 (문장 유사도 조사)\n",
    "\n",
    "# 카피킬러(copy killer) => 논문 표절 등 조사"
   ]
  },
  {
   "cell_type": "code",
   "execution_count": 29,
   "metadata": {},
   "outputs": [
    {
     "output_type": "error",
     "ename": "IndentationError",
     "evalue": "expected an indented block (<ipython-input-29-d122a4a09b14>, line 4)",
     "traceback": [
      "\u001b[1;36m  File \u001b[1;32m\"<ipython-input-29-d122a4a09b14>\"\u001b[1;36m, line \u001b[1;32m4\u001b[0m\n\u001b[1;33m    list_x[z]=0\u001b[0m\n\u001b[1;37m    ^\u001b[0m\n\u001b[1;31mIndentationError\u001b[0m\u001b[1;31m:\u001b[0m expected an indented block\n"
     ]
    }
   ],
   "source": [
    "x=\"머신러닝은 인공지능의 한 분류입니다\" #내가 작성한 숙제\n",
    "y=\"런닝머신은 운동 기구중의 하나입니다\" #다른 사람이 작성한 숙제\n",
    "for z in range(len(x)):\n",
    "list_x[z]=0\n",
    "list_y[z]=0\n",
    "\n",
    "for i in range(len(x)-1):\n",
    "    list_x[i]=x[i][i+2]\n",
    "for j in range(len(y)-1):\n",
    "    list_y[j]=y[j][j+2]\n",
    "    "
   ]
  },
  {
   "cell_type": "code",
   "execution_count": null,
   "metadata": {},
   "outputs": [],
   "source": []
  }
 ]
}