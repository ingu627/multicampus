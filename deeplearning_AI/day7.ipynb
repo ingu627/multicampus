{
 "metadata": {
  "language_info": {
   "codemirror_mode": {
    "name": "ipython",
    "version": 3
   },
   "file_extension": ".py",
   "mimetype": "text/x-python",
   "name": "python",
   "nbconvert_exporter": "python",
   "pygments_lexer": "ipython3",
   "version": "3.8.5"
  },
  "orig_nbformat": 4,
  "kernelspec": {
   "name": "python3",
   "display_name": "Python 3.8.5 64-bit ('base': conda)"
  },
  "interpreter": {
   "hash": "b3ba2566441a7c06988d0923437866b63cedc61552a5af99d1f4fb67d367b25f"
  }
 },
 "nbformat": 4,
 "nbformat_minor": 2,
 "cells": [
  {
   "cell_type": "code",
   "execution_count": null,
   "metadata": {},
   "outputs": [],
   "source": [
    "함수는 반복적인 코드를 함수로 정의함으로서 다양한 장점들이 있음(실수 줄임. 코드 짧아짐. 재사용 가능, 개발시간 단축 ... )"
   ]
  },
  {
   "cell_type": "code",
   "execution_count": null,
   "metadata": {},
   "outputs": [],
   "source": [
    "#함수 실행(호출) : 함수명()\n",
    "#함수 정의 : \n",
    "def 함수명() : #define의 약자 \n",
    "    수행할 코드1\n",
    "    수행할 코드2`\n",
    "    ...\n",
    "    수행할 코드n"
   ]
  },
  {
   "cell_type": "code",
   "execution_count": 1,
   "metadata": {},
   "outputs": [],
   "source": [
    "def hello():\n",
    "    print('hello world') \n",
    "# 아무 이름보다는 함수가 수행하는 기능을 담고 있는 이름을 되도록 쓰자 # ex) getValue():\n",
    "# return : 함수를 호출했던 곳으로 전달해라."
   ]
  },
  {
   "cell_type": "code",
   "execution_count": 3,
   "metadata": {},
   "outputs": [
    {
     "output_type": "stream",
     "name": "stdout",
     "text": [
      "hello world\nNone\n"
     ]
    }
   ],
   "source": [
    "#함수 실행(호출)\n",
    "print(hello()) #hello함수를 호출한 뒤, hello함수에서 전달받은 값을 화면에 출력\n",
    "#None: 전달받은게 없다.\n"
   ]
  },
  {
   "cell_type": "code",
   "execution_count": null,
   "metadata": {},
   "outputs": [],
   "source": [
    "def hello2(): #실행을 해서 함수를 완료한다.\n",
    "    print(\"hello world\") "
   ]
  },
  {
   "cell_type": "code",
   "execution_count": null,
   "metadata": {},
   "outputs": [],
   "source": [
    "def hello3():\n",
    "    #아직 구현할 코드를 작성하지 못한 상태\n",
    "    pass #일단 넘어가 (나중에 작성할게)\n",
    "\n",
    "print(\"안녕\") #'안녕'을 인수라 부름(argument) (전달되어지는)\n",
    "\n",
    "def print(msg): #매개변수(parameter) (전달받는)\n",
    "    #\n",
    "    #\n",
    "    #"
   ]
  },
  {
   "cell_type": "code",
   "execution_count": 4,
   "metadata": {},
   "outputs": [],
   "source": [
    "def add(x,y):\n",
    "    print(x+y)"
   ]
  },
  {
   "cell_type": "code",
   "execution_count": 5,
   "metadata": {},
   "outputs": [
    {
     "output_type": "stream",
     "name": "stdout",
     "text": [
      "3\n"
     ]
    }
   ],
   "source": [
    "add(1,2) #(실)인수"
   ]
  },
  {
   "cell_type": "code",
   "execution_count": null,
   "metadata": {},
   "outputs": [],
   "source": [
    "# 용어가 사람마다 정의가 다름"
   ]
  },
  {
   "cell_type": "code",
   "execution_count": 9,
   "metadata": {},
   "outputs": [],
   "source": [
    "def calc(x,y, op):\n",
    "    if(op=='add'):\n",
    "        print(x+y)"
   ]
  },
  {
   "cell_type": "code",
   "execution_count": 10,
   "metadata": {},
   "outputs": [
    {
     "output_type": "stream",
     "name": "stdout",
     "text": [
      "3\n"
     ]
    }
   ],
   "source": [
    "calc(1,2,'add')"
   ]
  },
  {
   "cell_type": "code",
   "execution_count": 12,
   "metadata": {},
   "outputs": [
    {
     "output_type": "stream",
     "name": "stdout",
     "text": [
      "Help on built-in function print in module builtins:\n\nprint(...)\n    print(value, ..., sep=' ', end='\\n', file=sys.stdout, flush=False)\n    \n    Prints the values to a stream, or to sys.stdout by default.\n    Optional keyword arguments:\n    file:  a file-like object (stream); defaults to the current sys.stdout.\n    sep:   string inserted between values, default a space.\n    end:   string appended after the last value, default a newline.\n    flush: whether to forcibly flush the stream.\n\n"
     ]
    }
   ],
   "source": [
    "help(print) \n",
    "#help(함수명)"
   ]
  },
  {
   "cell_type": "code",
   "execution_count": 13,
   "metadata": {},
   "outputs": [],
   "source": [
    "def add(x,y):\n",
    "    return x+y #return : 함수를 호추해 준곳으로 결과값 반환\n"
   ]
  },
  {
   "cell_type": "code",
   "execution_count": 16,
   "metadata": {},
   "outputs": [
    {
     "output_type": "execute_result",
     "data": {
      "text/plain": [
       "30"
      ]
     },
     "metadata": {},
     "execution_count": 16
    }
   ],
   "source": [
    "add(10,20)"
   ]
  },
  {
   "cell_type": "code",
   "execution_count": 25,
   "metadata": {},
   "outputs": [],
   "source": [
    "def calc(x,y, op):\n",
    "    if op=='+':\n",
    "        return x+y\n",
    "    elif op=='-':\n",
    "        return x-y\n",
    "    elif op=='*':\n",
    "        return x*y\n",
    "    elif op=='/':\n",
    "        return x/y"
   ]
  },
  {
   "cell_type": "code",
   "execution_count": 40,
   "metadata": {},
   "outputs": [],
   "source": [
    "def calc(x,y, op):\n",
    "        return eval(str(x)+op+str(y)) # eval은 문자를 수식으로 바꾸어줌\n"
   ]
  },
  {
   "cell_type": "code",
   "execution_count": 41,
   "metadata": {},
   "outputs": [
    {
     "output_type": "stream",
     "name": "stdout",
     "text": [
      "3\n-1\n6\n5.0\n"
     ]
    }
   ],
   "source": [
    "print(calc(1,2,'+')) #3\n",
    "print(calc(1,2,'-')) #-1\n",
    "print(calc(3,2,'*')) #6\n",
    "print(calc(10,2,'/')) #5"
   ]
  },
  {
   "cell_type": "code",
   "execution_count": 46,
   "metadata": {},
   "outputs": [],
   "source": [
    "def test(x,y):\n",
    "    return x+y\n",
    "\n",
    "  #  print('hello')"
   ]
  },
  {
   "cell_type": "code",
   "execution_count": 50,
   "metadata": {},
   "outputs": [],
   "source": [
    "res=test(y=2, x=5)"
   ]
  },
  {
   "cell_type": "code",
   "execution_count": 51,
   "metadata": {},
   "outputs": [
    {
     "output_type": "execute_result",
     "data": {
      "text/plain": [
       "7"
      ]
     },
     "metadata": {},
     "execution_count": 51
    }
   ],
   "source": [
    "res"
   ]
  },
  {
   "cell_type": "code",
   "execution_count": 60,
   "metadata": {},
   "outputs": [],
   "source": [
    "#인수의 개수가 정해지지 않았을 때? 함수호출 가능?\n",
    "\n",
    "#인수의 개수가 변할 수 있는 경우에 함수 정의\n",
    "def add(*args):\n",
    "    sum=0\n",
    "    for i in args: #각각 요소를 구분하기 위해 for오는 게 빈번\n",
    "        sum+=i\n",
    "    return sum\n"
   ]
  },
  {
   "cell_type": "code",
   "execution_count": 61,
   "metadata": {},
   "outputs": [
    {
     "output_type": "execute_result",
     "data": {
      "text/plain": [
       "18"
      ]
     },
     "metadata": {},
     "execution_count": 61
    }
   ],
   "source": [
    "add(1,2,5,10) #=> 튜플로 저장됨"
   ]
  },
  {
   "cell_type": "code",
   "execution_count": 79,
   "metadata": {},
   "outputs": [
    {
     "output_type": "error",
     "ename": "TypeError",
     "evalue": "unsupported operand type(s) for +=: 'int' and 'str'",
     "traceback": [
      "\u001b[1;31m---------------------------------------------------------------------------\u001b[0m",
      "\u001b[1;31mTypeError\u001b[0m                                 Traceback (most recent call last)",
      "\u001b[1;32m<ipython-input-79-c30d2c77630b>\u001b[0m in \u001b[0;36m<module>\u001b[1;34m\u001b[0m\n\u001b[0;32m     12\u001b[0m \u001b[1;33m\u001b[0m\u001b[0m\n\u001b[0;32m     13\u001b[0m \u001b[0mres1\u001b[0m\u001b[1;33m=\u001b[0m \u001b[0mfunc1\u001b[0m\u001b[1;33m(\u001b[0m\u001b[1;34m\"multiply\"\u001b[0m\u001b[1;33m,\u001b[0m \u001b[1;36m10\u001b[0m\u001b[1;33m,\u001b[0m\u001b[1;36m20\u001b[0m\u001b[1;33m,\u001b[0m\u001b[1;36m30\u001b[0m\u001b[1;33m)\u001b[0m\u001b[1;33m\u001b[0m\u001b[1;33m\u001b[0m\u001b[0m\n\u001b[1;32m---> 14\u001b[1;33m \u001b[0mres2\u001b[0m\u001b[1;33m=\u001b[0m\u001b[0mfunc1\u001b[0m\u001b[1;33m(\u001b[0m\u001b[1;34m\"sum\"\u001b[0m\u001b[1;33m,\u001b[0m\u001b[1;36m5\u001b[0m\u001b[1;33m,\u001b[0m\u001b[1;36m10\u001b[0m\u001b[1;33m,\u001b[0m\u001b[1;36m15\u001b[0m\u001b[1;33m,\u001b[0m\u001b[1;36m20\u001b[0m\u001b[1;33m,\u001b[0m\u001b[1;36m30\u001b[0m\u001b[1;33m)\u001b[0m\u001b[1;33m\u001b[0m\u001b[1;33m\u001b[0m\u001b[0m\n\u001b[0m",
      "\u001b[1;32m<ipython-input-79-c30d2c77630b>\u001b[0m in \u001b[0;36mfunc1\u001b[1;34m(*args)\u001b[0m\n\u001b[0;32m      8\u001b[0m     \u001b[1;32melif\u001b[0m \u001b[1;34m\"sum\"\u001b[0m \u001b[1;32min\u001b[0m \u001b[0margs\u001b[0m\u001b[1;33m:\u001b[0m\u001b[1;33m\u001b[0m\u001b[1;33m\u001b[0m\u001b[0m\n\u001b[0;32m      9\u001b[0m         \u001b[1;32mfor\u001b[0m \u001b[0mj\u001b[0m \u001b[1;32min\u001b[0m \u001b[0margs\u001b[0m\u001b[1;33m:\u001b[0m\u001b[1;33m\u001b[0m\u001b[1;33m\u001b[0m\u001b[0m\n\u001b[1;32m---> 10\u001b[1;33m             \u001b[0mcount\u001b[0m\u001b[1;33m+=\u001b[0m\u001b[0mj\u001b[0m\u001b[1;33m\u001b[0m\u001b[1;33m\u001b[0m\u001b[0m\n\u001b[0m\u001b[0;32m     11\u001b[0m         \u001b[1;32mreturn\u001b[0m \u001b[0mcount\u001b[0m\u001b[1;33m\u001b[0m\u001b[1;33m\u001b[0m\u001b[0m\n\u001b[0;32m     12\u001b[0m \u001b[1;33m\u001b[0m\u001b[0m\n",
      "\u001b[1;31mTypeError\u001b[0m: unsupported operand type(s) for +=: 'int' and 'str'"
     ]
    }
   ],
   "source": [
    "def func1(*args):\n",
    "    pass\n",
    "    count=0\n",
    "    if \"multiply\" in args:\n",
    "        for i in args:\n",
    "            a=re\n",
    "        return count\n",
    "    elif \"sum\" in args:\n",
    "        for j in args:\n",
    "            count+=j\n",
    "        return count\n",
    "\n",
    "res1= func1(\"multiply\", 10,20,30)\n",
    "res2=func1(\"sum\",5,10,15,20,30)"
   ]
  },
  {
   "cell_type": "code",
   "execution_count": null,
   "metadata": {},
   "outputs": [],
   "source": [
    "def func1(*args):\n",
    "    pass\n",
    "    count=0\n",
    "    if \"multiply\" in args:\n",
    "        for i in range(len(args)):\n",
    "            count*=i\n",
    "        return count\n",
    "    elif \"sum\" in args:\n",
    "        for j in range(len(args)-1):\n",
    "            count+=j\n",
    "        return count\n",
    "\n",
    "res=func1(\"multiply\", 10,20,30)\n",
    "print(res)\n",
    "res=func1(\"sum\",5,10,15,20,30)\n",
    "print(res)"
   ]
  },
  {
   "cell_type": "code",
   "execution_count": 85,
   "metadata": {},
   "outputs": [],
   "source": [
    "def func1(op, *args):\n",
    "    \n",
    "    if op==\"multiply\":\n",
    "        count=1\n",
    "        for i in args:\n",
    "            count*=i\n",
    "        return count\n",
    "    elif op==\"sum\":\n",
    "        count=0\n",
    "        for j in args:\n",
    "            count+=j\n",
    "        return count\n",
    "\n"
   ]
  },
  {
   "cell_type": "code",
   "execution_count": 86,
   "metadata": {},
   "outputs": [
    {
     "output_type": "stream",
     "name": "stdout",
     "text": [
      "6000\n80\n"
     ]
    }
   ],
   "source": [
    "res=func1(\"multiply\", 10,20,30)\n",
    "print(res)\n",
    "res=func1(\"sum\",5,10,15,20,30)\n",
    "print(res)"
   ]
  },
  {
   "cell_type": "code",
   "execution_count": 87,
   "metadata": {},
   "outputs": [],
   "source": [
    "def addsub(x,y):\n",
    "    return x+y #여기서 반환되므로 아래 문장은 수행하지 않는다.\n",
    "    return x-y "
   ]
  },
  {
   "cell_type": "code",
   "execution_count": 88,
   "metadata": {},
   "outputs": [],
   "source": [
    "def addsub(x,y):\n",
    "    return x+y, x-y "
   ]
  },
  {
   "cell_type": "code",
   "execution_count": 90,
   "metadata": {},
   "outputs": [
    {
     "output_type": "stream",
     "name": "stdout",
     "text": [
      "7\n-1\n"
     ]
    }
   ],
   "source": [
    "res=addsub(3,4) # 튜플 형식으로 반환됨. 따라서 참조가 가능하다 .\n",
    "\n",
    "print(res[0])\n",
    "print(res[1])"
   ]
  },
  {
   "cell_type": "code",
   "execution_count": 91,
   "metadata": {},
   "outputs": [
    {
     "output_type": "stream",
     "name": "stdout",
     "text": [
      "7\n-1\n"
     ]
    }
   ],
   "source": [
    "res1, res2 = addsub(3,4)\n",
    "print(res1)\n",
    "print(res2)"
   ]
  },
  {
   "cell_type": "code",
   "execution_count": 105,
   "metadata": {},
   "outputs": [
    {
     "output_type": "error",
     "ename": "SyntaxError",
     "evalue": "non-default argument follows default argument (<ipython-input-105-7e0600b5daec>, line 3)",
     "traceback": [
      "\u001b[1;36m  File \u001b[1;32m\"<ipython-input-105-7e0600b5daec>\"\u001b[1;36m, line \u001b[1;32m3\u001b[0m\n\u001b[1;33m    def intro(n, female=True, age): #매개변수 초기값 설정 #뒤에 default가 있으므로 가운데에 있으면 안된다.\u001b[0m\n\u001b[1;37m              ^\u001b[0m\n\u001b[1;31mSyntaxError\u001b[0m\u001b[1;31m:\u001b[0m non-default argument follows default argument\n"
     ]
    }
   ],
   "source": [
    "# def intro(n, age, female=True): #매개변수 초기값 설정\n",
    "\n",
    "def intro(n, female=True, age): #매개변수 초기값 설정 #뒤에 default가 있으므로 가운데에 있으면 안된다.\n",
    "    print(\"이름:\",n)\n",
    "    print(\"나이:\",age)\n",
    "    if female:\n",
    "        print(\"여성\")\n",
    "    else:\n",
    "        print('남성')"
   ]
  },
  {
   "cell_type": "code",
   "execution_count": 104,
   "metadata": {},
   "outputs": [
    {
     "output_type": "stream",
     "name": "stdout",
     "text": [
      "이름: 홍길동\n나이: False\n여성\n"
     ]
    }
   ],
   "source": [
    "intro(\"홍길동\", 25, False)"
   ]
  },
  {
   "cell_type": "code",
   "execution_count": 109,
   "metadata": {},
   "outputs": [
    {
     "output_type": "stream",
     "name": "stdout",
     "text": [
      "5\n"
     ]
    }
   ],
   "source": [
    "a=5\n",
    "b=1\n",
    "\n",
    "def test(a): #함수 정의. 매개변수는 함수 내에서만 사용하는 변수 #함수 안에서는 밖과 상관없다.\n",
    "    a=a+10\n",
    "test(b) #함수 호출\n",
    "print(a)"
   ]
  },
  {
   "cell_type": "code",
   "execution_count": 110,
   "metadata": {},
   "outputs": [
    {
     "output_type": "error",
     "ename": "NameError",
     "evalue": "name 'x' is not defined",
     "traceback": [
      "\u001b[1;31m---------------------------------------------------------------------------\u001b[0m",
      "\u001b[1;31mNameError\u001b[0m                                 Traceback (most recent call last)",
      "\u001b[1;32m<ipython-input-110-c415992bf498>\u001b[0m in \u001b[0;36m<module>\u001b[1;34m\u001b[0m\n\u001b[0;32m      3\u001b[0m \u001b[1;33m\u001b[0m\u001b[0m\n\u001b[0;32m      4\u001b[0m \u001b[0mtest2\u001b[0m\u001b[1;33m(\u001b[0m\u001b[1;36m10\u001b[0m\u001b[1;33m)\u001b[0m\u001b[1;33m\u001b[0m\u001b[1;33m\u001b[0m\u001b[0m\n\u001b[1;32m----> 5\u001b[1;33m \u001b[0mprint\u001b[0m\u001b[1;33m(\u001b[0m\u001b[0mx\u001b[0m\u001b[1;33m)\u001b[0m\u001b[1;33m\u001b[0m\u001b[1;33m\u001b[0m\u001b[0m\n\u001b[0m",
      "\u001b[1;31mNameError\u001b[0m: name 'x' is not defined"
     ]
    }
   ],
   "source": [
    "def test2(x):\n",
    "    x=x+1\n",
    "\n",
    "test2(10)\n",
    "print(x)"
   ]
  },
  {
   "cell_type": "code",
   "execution_count": 119,
   "metadata": {},
   "outputs": [
    {
     "output_type": "stream",
     "name": "stdout",
     "text": [
      "11\n"
     ]
    }
   ],
   "source": [
    "'''\n",
    "1. 함수 내부에서 함수 외부에 있는 변수의 값을 변경하는 방법\n",
    "\n",
    "x=1\n",
    "def test(x):\n",
    "    x=x+10\n",
    "    return x\n",
    "\n",
    "x=test(x)\n",
    "x\n",
    "\n",
    "2. global : 전역 변수\n",
    "'''\n",
    "\n",
    "\n",
    "x=1\n",
    "def test():\n",
    "    global x  #함수 내부에서 함수 외부에 있는 변수x를 사용하겠다.\n",
    "    x=x+10\n",
    "\n",
    "test()\n",
    "print(x)\n",
    "\n",
    "\n"
   ]
  },
  {
   "cell_type": "code",
   "execution_count": 122,
   "metadata": {},
   "outputs": [
    {
     "output_type": "stream",
     "name": "stdout",
     "text": [
      "[1, 2]\n"
     ]
    }
   ],
   "source": [
    "def test():\n",
    "    #return 1,2\n",
    "    return [1,2]\n",
    "\n",
    "res=test()\n",
    "# print(list(res))\n",
    "print(res)"
   ]
  },
  {
   "cell_type": "code",
   "execution_count": 123,
   "metadata": {},
   "outputs": [
    {
     "output_type": "stream",
     "name": "stdout",
     "text": [
      "3\n"
     ]
    },
    {
     "output_type": "execute_result",
     "data": {
      "text/plain": [
       "6"
      ]
     },
     "metadata": {},
     "execution_count": 123
    }
   ],
   "source": [
    "def mul(a,b):\n",
    "    res=a*b\n",
    "    return res\n",
    "\n",
    "def add(xx,yy):\n",
    "    zz=xx+yy\n",
    "    print(zz)\n",
    "    result=mul(zz,2)\n",
    "    return result\n",
    "\n",
    "x=1\n",
    "y=2\n",
    "add(x,y)"
   ]
  },
  {
   "cell_type": "code",
   "execution_count": null,
   "metadata": {},
   "outputs": [],
   "source": []
  }
 ]
}