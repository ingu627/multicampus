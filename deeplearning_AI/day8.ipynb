{
 "metadata": {
  "language_info": {
   "codemirror_mode": {
    "name": "ipython",
    "version": 3
   },
   "file_extension": ".py",
   "mimetype": "text/x-python",
   "name": "python",
   "nbconvert_exporter": "python",
   "pygments_lexer": "ipython3",
   "version": "3.8.5"
  },
  "orig_nbformat": 4,
  "kernelspec": {
   "name": "python3",
   "display_name": "Python 3.8.5 64-bit ('base': conda)"
  },
  "interpreter": {
   "hash": "b3ba2566441a7c06988d0923437866b63cedc61552a5af99d1f4fb67d367b25f"
  }
 },
 "nbformat": 4,
 "nbformat_minor": 2,
 "cells": [
  {
   "cell_type": "code",
   "execution_count": 2,
   "metadata": {},
   "outputs": [
    {
     "output_type": "stream",
     "name": "stdout",
     "text": [
      "[1, 2, 3]\n1 2 3\n1 2 3\n"
     ]
    }
   ],
   "source": [
    "x=[1,2,3]\n",
    "print(x)\n",
    "print(*x) #unpacking : 리스트 안의 각각의 요소를 출력해준다.\n",
    "print(*[1,2,3])\n"
   ]
  },
  {
   "cell_type": "code",
   "execution_count": 4,
   "metadata": {},
   "outputs": [
    {
     "output_type": "stream",
     "name": "stdout",
     "text": [
      "1\n2\n3\n1\n2\n3\n"
     ]
    }
   ],
   "source": [
    "def printNum(*args):\n",
    "    for i in args:\n",
    "        print(i)\n",
    "\n",
    "printNum(1,2,3)\n",
    "printNum(*[1,2,3])"
   ]
  },
  {
   "cell_type": "code",
   "execution_count": 5,
   "metadata": {},
   "outputs": [],
   "source": [
    "def perinfo(n, a, addr):\n",
    "    print(n, a, addr)\n"
   ]
  },
  {
   "cell_type": "code",
   "execution_count": 6,
   "metadata": {},
   "outputs": [
    {
     "output_type": "stream",
     "name": "stdout",
     "text": [
      "김 30 서울\n"
     ]
    }
   ],
   "source": [
    "perinfo(a=30, addr='서울', n='김')"
   ]
  },
  {
   "cell_type": "code",
   "execution_count": 7,
   "metadata": {},
   "outputs": [],
   "source": [
    "#패킹과 언패킹 \n",
    "#패킹 : 여러개의 데이터를 묶어서 변수 1개에 저장 \n",
    "#언패킹: 변수 1개에 저장된 데이터를 풀어서 여러 개의 변수에 나누어 저장 "
   ]
  },
  {
   "cell_type": "code",
   "execution_count": 8,
   "metadata": {},
   "outputs": [],
   "source": [
    "num=(10,20,30,40,50) #패킹"
   ]
  },
  {
   "cell_type": "code",
   "execution_count": 10,
   "metadata": {},
   "outputs": [],
   "source": [
    "(a,b,c,d,e)=num\n"
   ]
  },
  {
   "cell_type": "code",
   "execution_count": 14,
   "metadata": {},
   "outputs": [],
   "source": [
    "a,b,_,d,e=num # _ : 해당 자리의 데이터를 버리겠다.(무시한다.) 이것도 변수의 일종"
   ]
  },
  {
   "cell_type": "code",
   "execution_count": 16,
   "metadata": {},
   "outputs": [
    {
     "output_type": "execute_result",
     "data": {
      "text/plain": [
       "(10, 20, 30, 40, 50)"
      ]
     },
     "metadata": {},
     "execution_count": 16
    }
   ],
   "source": [
    "num"
   ]
  },
  {
   "cell_type": "code",
   "execution_count": 18,
   "metadata": {},
   "outputs": [],
   "source": [
    "x=num[0]\n",
    "y=num[1]\n",
    "z=num[2:]"
   ]
  },
  {
   "cell_type": "code",
   "execution_count": 19,
   "metadata": {},
   "outputs": [],
   "source": [
    "x,y,*z=num #나머지 데이터 전체를 리스트에 담아 저장"
   ]
  },
  {
   "cell_type": "code",
   "execution_count": 23,
   "metadata": {},
   "outputs": [
    {
     "output_type": "stream",
     "name": "stdout",
     "text": [
      "10\n20\n[30, 40, 50]\n"
     ]
    }
   ],
   "source": [
    "print(x)\n",
    "print(y)\n",
    "print(z)"
   ]
  },
  {
   "cell_type": "code",
   "execution_count": 24,
   "metadata": {},
   "outputs": [],
   "source": [
    "*x,y,z=num # *별 부분이 마지막에 실행된다."
   ]
  },
  {
   "cell_type": "code",
   "execution_count": 25,
   "metadata": {},
   "outputs": [
    {
     "output_type": "execute_result",
     "data": {
      "text/plain": [
       "[10, 20, 30]"
      ]
     },
     "metadata": {},
     "execution_count": 25
    }
   ],
   "source": [
    "x"
   ]
  },
  {
   "cell_type": "code",
   "execution_count": 26,
   "metadata": {},
   "outputs": [],
   "source": [
    "x,*y,z=num"
   ]
  },
  {
   "cell_type": "code",
   "execution_count": 27,
   "metadata": {},
   "outputs": [
    {
     "output_type": "execute_result",
     "data": {
      "text/plain": [
       "[20, 30, 40]"
      ]
     },
     "metadata": {},
     "execution_count": 27
    }
   ],
   "source": [
    "y"
   ]
  },
  {
   "cell_type": "code",
   "execution_count": 28,
   "metadata": {},
   "outputs": [],
   "source": [
    "def dString(year, month, day):\n",
    "    return str(year)+'년'+str(month)+'월'+str(day)+'일'"
   ]
  },
  {
   "cell_type": "code",
   "execution_count": 32,
   "metadata": {},
   "outputs": [
    {
     "output_type": "execute_result",
     "data": {
      "text/plain": [
       "'2021년7월14일'"
      ]
     },
     "metadata": {},
     "execution_count": 32
    }
   ],
   "source": [
    "date=(2021,7,14)\n",
    "dString(*date)"
   ]
  },
  {
   "cell_type": "code",
   "execution_count": 33,
   "metadata": {},
   "outputs": [
    {
     "output_type": "execute_result",
     "data": {
      "text/plain": [
       "'2021년7월14일'"
      ]
     },
     "metadata": {},
     "execution_count": 33
    }
   ],
   "source": [
    "dString(*[2021,7,14]) #코드가 간단해진다."
   ]
  },
  {
   "cell_type": "code",
   "execution_count": 34,
   "metadata": {},
   "outputs": [
    {
     "output_type": "stream",
     "name": "stdout",
     "text": [
      "3.5\n2.0\n"
     ]
    }
   ],
   "source": [
    "def test(*args):\n",
    "    return sum(args)/len(args)\n",
    "\n",
    "print(test(5,2))\n",
    "print(test(1,2,3))"
   ]
  },
  {
   "cell_type": "code",
   "execution_count": 36,
   "metadata": {},
   "outputs": [
    {
     "output_type": "execute_result",
     "data": {
      "text/plain": [
       "30.0"
      ]
     },
     "metadata": {},
     "execution_count": 36
    }
   ],
   "source": [
    "num\n",
    "test(*num)"
   ]
  },
  {
   "source": [
    "람다함수, 리스트내포  \n",
    "\n",
    "\n",
    "lambda : 함수를 정의할 때 사용하는 예약어(함수(def)와 동일어) => 간단한 기능의 함수 정의할때  \n",
    "def : 복잡한 기능을 갖는 함수 정의할 때 람다함수, 리스트내포  \n",
    " (익숙해지면 편해진다.)  / def를 사용할 수 없는 곳에 쓰임  \n",
    "\n",
    "lambda : 함수를 정의할 때 사용하는 예약어(함수(def)와 동일어) => 간단한 기능의 함수 정의할때  \n",
    "\n",
    "def : 복잡한 기능을 갖는 함수 정의할 때     "
   ],
   "cell_type": "markdown",
   "metadata": {}
  },
  {
   "cell_type": "code",
   "execution_count": 39,
   "metadata": {},
   "outputs": [],
   "source": [
    "def sum(a,b):\n",
    "    return a+b"
   ]
  },
  {
   "cell_type": "code",
   "execution_count": 41,
   "metadata": {},
   "outputs": [
    {
     "output_type": "stream",
     "name": "stdout",
     "text": [
      "30\n"
     ]
    }
   ],
   "source": [
    "res=sum(10,20)\n",
    "print(res)"
   ]
  },
  {
   "cell_type": "code",
   "execution_count": 42,
   "metadata": {},
   "outputs": [],
   "source": [
    "#람다 함수(함수명이 없는 경우도 있음, 익명함수)\n",
    "sum2=lambda a,b:a+b"
   ]
  },
  {
   "cell_type": "code",
   "execution_count": 44,
   "metadata": {},
   "outputs": [
    {
     "output_type": "execute_result",
     "data": {
      "text/plain": [
       "30"
      ]
     },
     "metadata": {},
     "execution_count": 44
    }
   ],
   "source": [
    "sum2(10,20)"
   ]
  },
  {
   "cell_type": "code",
   "execution_count": 45,
   "metadata": {},
   "outputs": [],
   "source": [
    "# lambda 매개변수(들):식"
   ]
  },
  {
   "cell_type": "code",
   "execution_count": 47,
   "metadata": {},
   "outputs": [
    {
     "output_type": "execute_result",
     "data": {
      "text/plain": [
       "6"
      ]
     },
     "metadata": {},
     "execution_count": 47
    }
   ],
   "source": [
    "(lambda x:x+1)(5)"
   ]
  },
  {
   "cell_type": "code",
   "execution_count": 48,
   "metadata": {},
   "outputs": [
    {
     "output_type": "execute_result",
     "data": {
      "text/plain": [
       "15"
      ]
     },
     "metadata": {},
     "execution_count": 48
    }
   ],
   "source": [
    "(lambda x,y:x+y)(5,10)"
   ]
  },
  {
   "cell_type": "code",
   "execution_count": 49,
   "metadata": {},
   "outputs": [
    {
     "output_type": "execute_result",
     "data": {
      "text/plain": [
       "15"
      ]
     },
     "metadata": {},
     "execution_count": 49
    }
   ],
   "source": [
    "(lambda x,y=10:x+y)(5) #버전에 따라 오류가 발생할 수도 있음 "
   ]
  },
  {
   "cell_type": "code",
   "execution_count": 51,
   "metadata": {},
   "outputs": [
    {
     "output_type": "execute_result",
     "data": {
      "text/plain": [
       "15"
      ]
     },
     "metadata": {},
     "execution_count": 51
    }
   ],
   "source": [
    "y=10\n",
    "(lambda x:x+y)(5)"
   ]
  },
  {
   "cell_type": "code",
   "execution_count": 67,
   "metadata": {},
   "outputs": [
    {
     "output_type": "execute_result",
     "data": {
      "text/plain": [
       "[2, 3, 4]"
      ]
     },
     "metadata": {},
     "execution_count": 67
    }
   ],
   "source": [
    "#람다함수를 map함수의 인수로 전달하여 수행\n",
    "def add(a):\n",
    "    return a+1\n",
    "\n",
    "x=[1,2,3]\n",
    "\n",
    "#[2,3,4]가 출력\n",
    "# for i in range(len(x)):\n",
    "#     x[i]=add(x[i])\n",
    "# print(x)\n",
    "\n",
    "\n",
    "# x_add= []\n",
    "# [x_add.append(add(i)) for i in x]\n",
    "# x_add\n",
    "\n"
   ]
  },
  {
   "cell_type": "code",
   "execution_count": 68,
   "metadata": {},
   "outputs": [
    {
     "output_type": "execute_result",
     "data": {
      "text/plain": [
       "[2, 3, 4]"
      ]
     },
     "metadata": {},
     "execution_count": 68
    }
   ],
   "source": [
    "def add(a):\n",
    "    for i in range(len(a)):\n",
    "        a[i] +=1 \n",
    "    return a\n",
    "\n",
    "x=[1,2,3]\n",
    "add(x)"
   ]
  },
  {
   "cell_type": "code",
   "execution_count": 70,
   "metadata": {},
   "outputs": [
    {
     "output_type": "execute_result",
     "data": {
      "text/plain": [
       "[2, 3, 4]"
      ]
     },
     "metadata": {},
     "execution_count": 70
    }
   ],
   "source": [
    "def add(a):\n",
    "    return a+1\n",
    "x=[1,2,3]\n",
    "\n",
    "#[2,3,4]가 출력\n",
    "\n",
    "list(map(add,x))"
   ]
  },
  {
   "cell_type": "code",
   "execution_count": 72,
   "metadata": {},
   "outputs": [
    {
     "output_type": "execute_result",
     "data": {
      "text/plain": [
       "[2, 3, 4]"
      ]
     },
     "metadata": {},
     "execution_count": 72
    }
   ],
   "source": [
    "list(map(lambda a:a+1 , x)) #함수 익명, a받아. 각각 a+1해라"
   ]
  },
  {
   "cell_type": "code",
   "execution_count": 87,
   "metadata": {},
   "outputs": [
    {
     "output_type": "stream",
     "name": "stdout",
     "text": [
      "[1, '2', 3, '4', 5]\nNone\n"
     ]
    }
   ],
   "source": [
    "# lambda 매개변수 : 식 \n",
    "# lambda 매개변수 : 조건식\n",
    "\n",
    "\n",
    "def strEven(a):\n",
    "    for i in range(len(a)):\n",
    "        if a[i]%2 ==0:\n",
    "            a[i]=str(a[i])\n",
    "    print(a)\n",
    "\n",
    "x=[1,2,3,4,5]\n",
    "print(strEven(x))"
   ]
  },
  {
   "cell_type": "code",
   "execution_count": 88,
   "metadata": {},
   "outputs": [
    {
     "output_type": "execute_result",
     "data": {
      "text/plain": [
       "[1, '2', 3, '4', 5]"
      ]
     },
     "metadata": {},
     "execution_count": 88
    }
   ],
   "source": [
    "x= [1,2,3,4,5]\n",
    "[str(i) if i % 2 == 0 else i for i in x]"
   ]
  },
  {
   "cell_type": "code",
   "execution_count": 97,
   "metadata": {},
   "outputs": [
    {
     "output_type": "execute_result",
     "data": {
      "text/plain": [
       "[1, '2', 3, '4', 5]"
      ]
     },
     "metadata": {},
     "execution_count": 97
    }
   ],
   "source": [
    "x = [1,2,3,4,5]\n",
    "#람다식에 if문을 쓰는 경우에는 콜론기호를 사용하지 않는다.\n",
    "#조건식=> 식 if 조건식 else 식 (반드시 else를 써야한다.)) \n",
    "list(map(lambda x:str(x) if x % 2 == 0 else x, x))"
   ]
  },
  {
   "source": [
    "#조건식 => 식 if 조건식1 else 식2 if 조건식2 else 식3\n",
    "x = [1,2,3,4,5]\n",
    "list(map(lambda x:str(x) if x==1 else x/1 if x==2 else x , x))"
   ],
   "cell_type": "code",
   "metadata": {},
   "execution_count": 103,
   "outputs": [
    {
     "output_type": "execute_result",
     "data": {
      "text/plain": [
       "['1', 2.0, 3, 4, 5]"
      ]
     },
     "metadata": {},
     "execution_count": 103
    }
   ]
  },
  {
   "cell_type": "code",
   "execution_count": 113,
   "metadata": {},
   "outputs": [
    {
     "output_type": "error",
     "ename": "TypeError",
     "evalue": "sum() missing 1 required positional argument: 'b'",
     "traceback": [
      "\u001b[1;31m---------------------------------------------------------------------------\u001b[0m",
      "\u001b[1;31mTypeError\u001b[0m                                 Traceback (most recent call last)",
      "\u001b[1;32m<ipython-input-113-51bfaa6f2945>\u001b[0m in \u001b[0;36m<module>\u001b[1;34m\u001b[0m\n\u001b[0;32m      2\u001b[0m \u001b[0my\u001b[0m\u001b[1;33m=\u001b[0m\u001b[1;33m[\u001b[0m\u001b[1;36m1\u001b[0m\u001b[1;33m,\u001b[0m \u001b[1;36m0\u001b[0m\u001b[1;33m,\u001b[0m \u001b[1;36m20\u001b[0m\u001b[1;33m,\u001b[0m \u001b[1;36m15\u001b[0m\u001b[1;33m,\u001b[0m \u001b[1;36m5\u001b[0m\u001b[1;33m]\u001b[0m\u001b[1;33m\u001b[0m\u001b[1;33m\u001b[0m\u001b[0m\n\u001b[0;32m      3\u001b[0m \u001b[1;33m\u001b[0m\u001b[0m\n\u001b[1;32m----> 4\u001b[1;33m \u001b[0msum\u001b[0m\u001b[1;33m(\u001b[0m\u001b[0mlist\u001b[0m\u001b[1;33m(\u001b[0m\u001b[0mmap\u001b[0m\u001b[1;33m(\u001b[0m\u001b[1;32mlambda\u001b[0m \u001b[0mx\u001b[0m\u001b[1;33m,\u001b[0m\u001b[0my\u001b[0m\u001b[1;33m:\u001b[0m\u001b[0mx\u001b[0m\u001b[1;33m*\u001b[0m\u001b[0my\u001b[0m\u001b[1;33m,\u001b[0m \u001b[0mx\u001b[0m\u001b[1;33m,\u001b[0m\u001b[0my\u001b[0m\u001b[1;33m)\u001b[0m\u001b[1;33m)\u001b[0m\u001b[1;33m)\u001b[0m\u001b[1;33m\u001b[0m\u001b[1;33m\u001b[0m\u001b[0m\n\u001b[0m\u001b[0;32m      5\u001b[0m \u001b[1;33m\u001b[0m\u001b[0m\n",
      "\u001b[1;31mTypeError\u001b[0m: sum() missing 1 required positional argument: 'b'"
     ]
    }
   ],
   "source": [
    "x=[10, 20, 0, 5, 10]\n",
    "y=[1, 0, 20, 15, 5]\n",
    "\n",
    "list(map(lambda x,y:x*y, x,y))\n",
    "\n",
    "#벡터의 내적 : 135"
   ]
  },
  {
   "cell_type": "code",
   "execution_count": 115,
   "metadata": {},
   "outputs": [
    {
     "output_type": "execute_result",
     "data": {
      "text/plain": [
       "1"
      ]
     },
     "metadata": {},
     "execution_count": 115
    }
   ],
   "source": [
    "#절대값\n",
    "abs(1)\n",
    "abs(-1)"
   ]
  },
  {
   "cell_type": "code",
   "execution_count": 121,
   "metadata": {},
   "outputs": [
    {
     "output_type": "stream",
     "name": "stdout",
     "text": [
      "False\n"
     ]
    },
    {
     "output_type": "execute_result",
     "data": {
      "text/plain": [
       "True"
      ]
     },
     "metadata": {},
     "execution_count": 121
    }
   ],
   "source": [
    "# any, all함수 \n",
    "# all : 모두 참이면 참\n",
    "all([10,20,-5])\n",
    "all([10,0,-5])\n",
    "print(all([\"\",\"hello\",\"hi\"])) #거짓 \n",
    "\n",
    "#any : 하나 이상 참 -> 참\n",
    "any([10,0,-5])"
   ]
  },
  {
   "cell_type": "code",
   "execution_count": 122,
   "metadata": {},
   "outputs": [
    {
     "output_type": "execute_result",
     "data": {
      "text/plain": [
       "'z'"
      ]
     },
     "metadata": {},
     "execution_count": 122
    }
   ],
   "source": [
    "chr(122)\n",
    "#유니코드를 전달받음, utf-8, 16, 32\n",
    "#유니코드 : 전 세계의 모든 문자를 표현하기 위한 표준코드\n",
    "#참고: 아스키코드는 0~127까지"
   ]
  },
  {
   "cell_type": "code",
   "execution_count": 131,
   "metadata": {},
   "outputs": [
    {
     "output_type": "execute_result",
     "data": {
      "text/plain": [
       "97"
      ]
     },
     "metadata": {},
     "execution_count": 131
    }
   ],
   "source": [
    "ord('각')\n",
    "ord('a')"
   ]
  },
  {
   "cell_type": "code",
   "execution_count": 133,
   "metadata": {},
   "outputs": [
    {
     "output_type": "execute_result",
     "data": {
      "text/plain": [
       "(1, 4)"
      ]
     },
     "metadata": {},
     "execution_count": 133
    }
   ],
   "source": [
    "divmod(9, 5) #몫, 나머지 => 튜플    \n",
    "# divide+modular => 나누기 + 나머지"
   ]
  },
  {
   "cell_type": "code",
   "execution_count": 136,
   "metadata": {},
   "outputs": [
    {
     "output_type": "stream",
     "name": "stdout",
     "text": [
      "(0, 'a')\n(1, 'b')\n(2, 'c')\n0 a\n1 b\n2 c\n0 a\n1 b\n2 c\n"
     ]
    }
   ],
   "source": [
    "#enumerate 함수 : 열거형 함수, 리스트(튜플,문자열)의\n",
    "# 자료를 입력받아 (index, 자료) 형식으로 리턴\n",
    "# 일반적으로 for와 함께 사용\n",
    "# 자료의 위치를 찾을 때  \n",
    "a=['a','b','c']\n",
    "for i in enumerate(a):\n",
    "    print(i)\n",
    "\n",
    "for i in enumerate(a):\n",
    "    print(i[0], i[1])\n",
    "\n",
    "for i, data in enumerate(a):\n",
    "    print(i, data)"
   ]
  },
  {
   "cell_type": "code",
   "execution_count": 140,
   "metadata": {},
   "outputs": [
    {
     "output_type": "execute_result",
     "data": {
      "text/plain": [
       "3"
      ]
     },
     "metadata": {},
     "execution_count": 140
    }
   ],
   "source": [
    "#eval()\n",
    "#연산이 가능한 문자열을 전달받아 연산 수행, 결과 도출\n",
    "\n",
    "eval('1+2')\n",
    "\n",
    "eval('abs(-3)') #함수도 가능"
   ]
  },
  {
   "cell_type": "code",
   "execution_count": 147,
   "metadata": {},
   "outputs": [],
   "source": [
    "# filter() 함수\n",
    "# 조건에 만족하는 자료들만 추출 (TrUE에 해당되는 값만 추출)\n",
    "# filter(함수, 리스트(튜플...)): 함수에 정의한 조건을\n",
    "# 만족하는 자료들만 필터링됨\n",
    "\n",
    "#참고 : map 함수는 반복가능한 iterable 객체를 받아서, 각 요소에 함수를 적용해주는 함수\n",
    "#map(적용시킬 함수, 적용할 요소들 filter() 함수\n",
    "# # 조건에 만족하는 자료들만 추출 (TrUE에 해당되는 값만 추출)\n",
    "# filter(함수, 리스트(튜플...)): 함수에 정의한 조건을\n",
    "# 만족하는 자료들만 필터링됨\n",
    "\n",
    "#참고 : map 함수는 반복가능한 iterable 객체를 받아서, 각 요소에 함수를 적용해주는 함수\n",
    "#map(적용시킬 함수, 적용할 요소들)\n",
    "\n",
    "def myFunc(data):\n",
    "\n",
    "\n",
    "def myFunc(data):\n",
    "    return data>3 and data<7"
   ]
  },
  {
   "cell_type": "code",
   "execution_count": 148,
   "metadata": {},
   "outputs": [
    {
     "output_type": "execute_result",
     "data": {
      "text/plain": [
       "[5, 6]"
      ]
     },
     "metadata": {},
     "execution_count": 148
    }
   ],
   "source": [
    "data=[8,1,5,2,6]\n",
    "list(filter(myFunc, data))"
   ]
  },
  {
   "cell_type": "code",
   "execution_count": 154,
   "metadata": {},
   "outputs": [
    {
     "output_type": "execute_result",
     "data": {
      "text/plain": [
       "[5, 6]"
      ]
     },
     "metadata": {},
     "execution_count": 154
    }
   ],
   "source": [
    "data=[8,1,5,2,6]\n",
    "list(filter(lambda data:data>3 and data<7, data))"
   ]
  },
  {
   "cell_type": "code",
   "execution_count": 157,
   "metadata": {},
   "outputs": [
    {
     "output_type": "execute_result",
     "data": {
      "text/plain": [
       "[False, False, True, False, True]"
      ]
     },
     "metadata": {},
     "execution_count": 157
    }
   ],
   "source": [
    "data=[8,1,5,2,6]\n",
    "list(map(lambda data:data>3 and data<7, data))"
   ]
  },
  {
   "cell_type": "code",
   "execution_count": 181,
   "metadata": {},
   "outputs": [
    {
     "output_type": "execute_result",
     "data": {
      "text/plain": [
       "[3, 2, 4]"
      ]
     },
     "metadata": {},
     "execution_count": 181
    }
   ],
   "source": [
    "def pos(data):\n",
    "     return data > 0 \n",
    "             \n",
    "\n",
    "data=[-1,3,2,-5,4]\n",
    "list(filter(pos,data))"
   ]
  },
  {
   "cell_type": "code",
   "execution_count": 188,
   "metadata": {},
   "outputs": [
    {
     "output_type": "execute_result",
     "data": {
      "text/plain": [
       "[2, 4, 6]"
      ]
     },
     "metadata": {},
     "execution_count": 188
    }
   ],
   "source": [
    "data=[1,2,3]\n",
    "\n",
    "def mul(x):\n",
    "    return x*2\n",
    "\n",
    "list(map(mul, data))    "
   ]
  },
  {
   "cell_type": "code",
   "execution_count": 189,
   "metadata": {},
   "outputs": [
    {
     "output_type": "execute_result",
     "data": {
      "text/plain": [
       "[2, 4, 6]"
      ]
     },
     "metadata": {},
     "execution_count": 189
    }
   ],
   "source": [
    "data=[1,2,3]\n",
    "list(map(lambda x:x*2, data))"
   ]
  },
  {
   "cell_type": "code",
   "execution_count": 190,
   "metadata": {},
   "outputs": [
    {
     "output_type": "stream",
     "name": "stdout",
     "text": [
      "[2, 4, 6]\n"
     ]
    }
   ],
   "source": [
    "data=[1,2,3]\n",
    "for x in range(len(data)):\n",
    "    data[x]=data[x]*2\n",
    "print(data) "
   ]
  },
  {
   "cell_type": "code",
   "execution_count": null,
   "metadata": {},
   "outputs": [],
   "source": [
    "# list(map(함수, 리스트))\n",
    "# 리스트 요소->함수적용->list에 append ->... "
   ]
  },
  {
   "cell_type": "code",
   "execution_count": 197,
   "metadata": {},
   "outputs": [
    {
     "output_type": "execute_result",
     "data": {
      "text/plain": [
       "'test가'"
      ]
     },
     "metadata": {},
     "execution_count": 197
    }
   ],
   "source": [
    "max([2,1,3])\n",
    "max(['test가']) #아스키코드가 기준\n",
    "min(['test가'])"
   ]
  },
  {
   "cell_type": "code",
   "execution_count": 201,
   "metadata": {},
   "outputs": [
    {
     "output_type": "execute_result",
     "data": {
      "text/plain": [
       "3.142"
      ]
     },
     "metadata": {},
     "execution_count": 201
    }
   ],
   "source": [
    "#pow(): 제곱 \n",
    "pow(3,2) # 3^2\n",
    "\n",
    "#round() : 반올림 \n",
    "round(3.6)\n",
    "round(3.141592, 3) #소수 셋재짜리까지 나타냄 "
   ]
  },
  {
   "cell_type": "code",
   "execution_count": 204,
   "metadata": {},
   "outputs": [
    {
     "output_type": "execute_result",
     "data": {
      "text/plain": [
       "'HI'"
      ]
     },
     "metadata": {},
     "execution_count": 204
    }
   ],
   "source": [
    "\"Hi\".lower()\n",
    "\"Hi\".upper()"
   ]
  },
  {
   "cell_type": "code",
   "execution_count": 207,
   "metadata": {},
   "outputs": [
    {
     "output_type": "execute_result",
     "data": {
      "text/plain": [
       "[(1, 3), (2, 4)]"
      ]
     },
     "metadata": {},
     "execution_count": 207
    }
   ],
   "source": [
    "# zip(): 자료들을 묶는 함수\n",
    "list(zip([1,2],[3,4])) "
   ]
  },
  {
   "cell_type": "code",
   "execution_count": 210,
   "metadata": {},
   "outputs": [
    {
     "output_type": "execute_result",
     "data": {
      "text/plain": [
       "[('h', 'h'), ('i', 'e')]"
      ]
     },
     "metadata": {},
     "execution_count": 210
    }
   ],
   "source": [
    "list(zip('hi', 'hello'))   #같은 위치에 있는 것끼리만 묶어줌"
   ]
  },
  {
   "cell_type": "code",
   "execution_count": 213,
   "metadata": {},
   "outputs": [
    {
     "output_type": "execute_result",
     "data": {
      "text/plain": [
       "[(1, 3, 5), (2, 4, 6)]"
      ]
     },
     "metadata": {},
     "execution_count": 213
    }
   ],
   "source": [
    "list(zip([1,2], [3,4], [5,6,7]))"
   ]
  },
  {
   "cell_type": "code",
   "execution_count": 214,
   "metadata": {},
   "outputs": [],
   "source": [
    "#reduce(): 누적 함수\n",
    "def myFunc(a,b):\n",
    "    return a+b"
   ]
  },
  {
   "cell_type": "code",
   "execution_count": 221,
   "metadata": {},
   "outputs": [
    {
     "output_type": "execute_result",
     "data": {
      "text/plain": [
       "150"
      ]
     },
     "metadata": {},
     "execution_count": 221
    }
   ],
   "source": [
    "from functools import reduce\n",
    "x=[10,20,30,40,50]\n",
    "reduce(myFunc,x)  #누적합\n",
    "#파이썬 3.xx 버전에서는 지원이 안됨 -> import 해야함\n",
    "\n",
    "#내장함수: import를 하지 않아도 사용 가능한 함수\n"
   ]
  },
  {
   "source": [
    "파일압축: run-length기법, 허프만 압축방식(대기업 입사문제), ...  \n",
    "run-length기법: bmp파일  \n",
    "\n",
    "압축  \n",
    "aaaaaaaabbbbbccc 16글자  \n",
    "a8b5c3 6글자로 압축  \n",
    "해제   \n",
    "a8b5c3  \n",
    "aaaaaaaabbbbbccc  \n",
    "\n",
    "한계점  \n",
    "abcdefedbacde  \n",
    "a1b1c1...e1  "
   ],
   "cell_type": "markdown",
   "metadata": {}
  },
  {
   "cell_type": "code",
   "execution_count": 230,
   "metadata": {},
   "outputs": [
    {
     "output_type": "stream",
     "name": "stdout",
     "text": [
      "a8b5c3\n"
     ]
    }
   ],
   "source": [
    "'''\n",
    "pack='aaaaaaaabbbbbccc'\n",
    "acount=0\n",
    "bcount=0\n",
    "ccount=0\n",
    "\n",
    "for i in pack:\n",
    "    if i=='a':\n",
    "        acount+=1\n",
    "    elif i=='b':\n",
    "        bcount+=1\n",
    "    else:\n",
    "        ccount+=1\n",
    "\n",
    "print('a%db%dc%d' % (acount, bcount, ccount))\n",
    "'''\n"
   ]
  },
  {
   "cell_type": "code",
   "execution_count": 231,
   "metadata": {},
   "outputs": [
    {
     "output_type": "stream",
     "name": "stdout",
     "text": [
      "a1b3a2b2\n"
     ]
    }
   ],
   "source": [
    "text='abbbaabb'\n",
    "\n",
    "result = text[0]\n",
    "count = 0 \n",
    "\n",
    "for i in text:\n",
    "    if i == result[-1]:\n",
    "        count += 1\n",
    "    else:\n",
    "        result += str(count) +i\n",
    "        count = 1 \n",
    "result += str(count)\n",
    "print(result)\n",
    "    "
   ]
  }
 ]
}