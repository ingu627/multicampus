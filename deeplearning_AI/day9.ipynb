{
 "metadata": {
  "language_info": {
   "codemirror_mode": {
    "name": "ipython",
    "version": 3
   },
   "file_extension": ".py",
   "mimetype": "text/x-python",
   "name": "python",
   "nbconvert_exporter": "python",
   "pygments_lexer": "ipython3",
   "version": "3.8.5"
  },
  "orig_nbformat": 4,
  "kernelspec": {
   "name": "python3",
   "display_name": "Python 3.8.5 64-bit ('base': conda)"
  },
  "interpreter": {
   "hash": "b3ba2566441a7c06988d0923437866b63cedc61552a5af99d1f4fb67d367b25f"
  }
 },
 "nbformat": 4,
 "nbformat_minor": 2,
 "cells": [
  {
   "source": [
    "'''\n",
    "클래스는 객체를 만들기 위한 틀\n",
    "클래스로부터 객체는 생성됨\n",
    "내가 신이면 인간을 만들때 설계\n",
    "\n",
    "ex) 게임 캐릭터 \n",
    "인간 캐릭터 -> 캐릭터 생성(아이디:홍길동, 객체)\n",
    "속성(특성) : 눈, 코, ...(사람)\n",
    "            체력, 마나, 공격력, 방어력... (게임캐릭터)\n",
    "메서드(동작, 함수) : 먹는다, 달린다, 걷는다. 말한다, 잔다, 생각한다... (사람)\n",
    "                    벤다, 무찌른다, 마법을 사용한다, 스킬을 구사한다.(게임 캐릭터)\n",
    "\n",
    "절차적 프로그래밍(꼰대프로그래밍)\n",
    "\n",
    "객체지향 프로그래밍 : 해결하려는 문제를 잘게 나누어서 객체를 생성, 객체 간의 통신을 통해 주어진 문제를 해결\n",
    "ex) 게임 -> 잘게 나누면 -> 캐릭터, NPC, 몬스터, 아이템 ...(객체                   벤다, 무찌른다, 마법을 사용한다, 스킬을 구사한다.(게임 캐릭터)\n",
    "\n",
    "객체지향 프로그래밍 : 해결하려는 문제를 잘게 나누어서 객체를 생성, 객체 간의 통신을 통해 주어진 문제를 해결\n",
    "ex) 게임 -> 잘게 나누면 -> 캐릭터, NPC, 몬스터, 아이템 ...(객체)\n",
    "'''"
   ],
   "cell_type": "code",
   "metadata": {},
   "execution_count": null,
   "outputs": []
  },
  {
   "cell_type": "code",
   "execution_count": null,
   "metadata": {},
   "outputs": [],
   "source": [
    "# class 클래스이름:\n",
    "#     def 메서드(함수)이름(self): # 메서드 : 클래스 안에 정의된 함수\n",
    "#         메서드가 수행할 작업의 코드(동작)"
   ]
  },
  {
   "cell_type": "code",
   "execution_count": 29,
   "metadata": {},
   "outputs": [],
   "source": [
    "#게이머 클래스 정의\n",
    "#self : 클래스로부터 생성된 객체 자기 자신, this와 같음 / 가져온 객체의 임시 이름 / 지칭대명사(이 사람) / hong를 나타내는 다른 언어\n",
    "\n",
    "class User:\n",
    "    def move(self): #현재 메서드 하나가 정의 \n",
    "        print('이동합니다')\n",
    "    def hunt(self): #hung를 쓰면 이 def 구문이 실행\n",
    "        print(self.msg) #msg를 출력해라.\n",
    "        self.move()\n",
    "        print('사냥합니다')\n",
    "    def __init__(self): #유저 클래스가 갖는 속성 #=> 기본값 셋팅\n",
    "        print('init 함수가 호출됐습니다')\n",
    "        self.hp=100 #게임 캐릭터의 초기 체력이 100\n",
    "        self.mp=50 #게임 캐릭터의 초기 마법력 50\n",
    "        #self.속성명=속성값\n",
    "        self.msg=\"캐릭터를 생성하였습니다\"\n",
    "# __init__ : 생성자 메서드 (클래스로부터 객체가 생성될 때 자동으로 호출되는 특별한 메서드)"
   ]
  },
  {
   "cell_type": "code",
   "execution_count": 28,
   "metadata": {},
   "outputs": [
    {
     "output_type": "stream",
     "name": "stdout",
     "text": [
      "init 함수가 호출됐습니다\n"
     ]
    }
   ],
   "source": [
    "#게이머 객체 생성\n",
    "hong=User() #게이머 만듦\n",
    "# self=hong"
   ]
  },
  {
   "cell_type": "code",
   "execution_count": 18,
   "metadata": {},
   "outputs": [
    {
     "output_type": "stream",
     "name": "stdout",
     "text": [
      "이동합니다\n"
     ]
    }
   ],
   "source": [
    "#메서드 수행 \n",
    "#객체명.메서드명()\n",
    "\n",
    "hong.move() #User가 가지고 있는 move를 호출 및 수행"
   ]
  },
  {
   "cell_type": "code",
   "execution_count": 25,
   "metadata": {},
   "outputs": [
    {
     "output_type": "stream",
     "name": "stdout",
     "text": [
      "캐릭터를 생성하였습니다\n이동합니다\n사냥합니다\n"
     ]
    },
    {
     "output_type": "execute_result",
     "data": {
      "text/plain": [
       "True"
      ]
     },
     "metadata": {},
     "execution_count": 25
    }
   ],
   "source": [
    "hong.hunt()\n",
    "\n",
    "isinstance(hong, User)\n",
    "#hong(객체)은 User 클래스의 인스턴스(객체)입니까?"
   ]
  },
  {
   "cell_type": "code",
   "execution_count": null,
   "metadata": {},
   "outputs": [],
   "source": [
    "class User2:\n",
    "    pass"
   ]
  },
  {
   "cell_type": "code",
   "execution_count": null,
   "metadata": {},
   "outputs": [],
   "source": [
    "#정규표현식(정규식, 바디 랭귀지): regex (regular + expression)\n",
    "수집 문자 데이터 -> 문자열 전처리(prerocessing) #처리하기 앞서서 처리하는 작업 "
   ]
  },
  {
   "cell_type": "code",
   "execution_count": 33,
   "metadata": {},
   "outputs": [
    {
     "output_type": "execute_result",
     "data": {
      "text/plain": [
       "14"
      ]
     },
     "metadata": {},
     "execution_count": 33
    }
   ],
   "source": [
    "# data='850101-1234567'\n",
    "# =>\n",
    "# '850101-*******'\n",
    "\n",
    "data='850101-1234567'\n",
    "#- 기호로 dataㅡㄹ 분리\n",
    "spData=data.split(\"-\")\n",
    "\n",
    "spData[1].isdigit() #숫자로 되어 있느냐 \n",
    "#문자열.isdigit()\n",
    "\n",
    "#data에 저장된 주민번호가 정상적인지 여부를 확인하는 코드 완성\n",
    "#길이=14, -기호로 분리된 각가의 데이터는 모두 숫자로만 구성\n",
    "\n",
    "\n"
   ]
  },
  {
   "cell_type": "code",
   "execution_count": 51,
   "metadata": {},
   "outputs": [
    {
     "output_type": "stream",
     "name": "stdout",
     "text": [
      "비정상\n"
     ]
    }
   ],
   "source": [
    "def jumin(data):\n",
    "    if len(data)==14:\n",
    "        if '-' in data:\n",
    "            spData=data.split(\"-\")\n",
    "            count=0\n",
    "            for i in range(2):\n",
    "                if spData[i].isdigit()==True:\n",
    "                    count+=1\n",
    "                    if count==2:\n",
    "                        print('정상')\n",
    "                else:\n",
    "                    print('비정상')\n",
    "    else:\n",
    "        print('비정상')\n",
    "\n",
    "data='850101-123457'\n",
    "jumin(data)\n",
    "            \n",
    "    "
   ]
  },
  {
   "cell_type": "code",
   "execution_count": 53,
   "metadata": {},
   "outputs": [
    {
     "output_type": "execute_result",
     "data": {
      "text/plain": [
       "'850101-*******'"
      ]
     },
     "metadata": {},
     "execution_count": 53
    }
   ],
   "source": [
    "data='850101-1234567'  \n",
    "data[7:]\n",
    "data[:6]+'-'+'*******'"
   ]
  },
  {
   "cell_type": "code",
   "execution_count": null,
   "metadata": {},
   "outputs": [],
   "source": [
    "# 정규표현식은 문자열의 패턴(규칙)에 대한 규칙을 작성"
   ]
  },
  {
   "cell_type": "code",
   "execution_count": 56,
   "metadata": {},
   "outputs": [
    {
     "output_type": "execute_result",
     "data": {
      "text/plain": [
       "'850101-*******'"
      ]
     },
     "metadata": {},
     "execution_count": 56
    }
   ],
   "source": [
    "import re  #re는 모듈\n",
    "data='850101-1234567'\n",
    "pat=re.compile(\"(\\d{6})-\\d{7}\")\n",
    "pat.sub('\\g<1>-*******', data)"
   ]
  },
  {
   "cell_type": "code",
   "execution_count": 60,
   "metadata": {},
   "outputs": [],
   "source": [
    "# re.match('패턴', '문자열') #문자열에 패턴이 있는지 확인\n",
    "re.match('hi', 'hi hello world') #'hi hello world'에 'hi'이 있는지 판단\n",
    "#패턴이 문자열에 있는 경우에는 매치된 패턴과 위치가 출력\n",
    "#처음부터 패턴이 문자열에 없다면 종료\n",
    "\n",
    "#match함수는 문자열의 최좌측부터 시작하여 패턴이 있는지 확인\n",
    "#처음부터 패턴이 문자열에 없다면 종료 hi네 hello없다.종료\n",
    "re.match('hello', 'hi hello world') #'hi hello world'에 'hello'패턴이 있는지 확인 #패턴이 기준 #h 다음에 반드시 e가 와야함 ..."
   ]
  },
  {
   "cell_type": "code",
   "execution_count": 65,
   "metadata": {},
   "outputs": [
    {
     "output_type": "stream",
     "name": "stdout",
     "text": [
      "None\n"
     ]
    }
   ],
   "source": [
    "re.match('hello', 'hello world') #True\r\n",
    "re.match('hello', '1hello world') #False\r\n",
    "re.match('hello', 'hellohello world') #True\r\n",
    "print(re.match('hello!', 'hellohello world')) #False => None 없다."
   ]
  },
  {
   "cell_type": "code",
   "execution_count": null,
   "metadata": {},
   "outputs": [],
   "source": [
    "#정규표현식 메타문자\n",
    "\n",
    "# 메타 데이터 : 데이터를 표현(설명)하는 데이터\n",
    "\n",
    "# 메타 문자 : 기호가 갖는 고유의 의미가 아닌, 정규표현식에서 식을 정의하는데 사용되는 특별한 의미의 문자(기호)\n",
    "# 메타 문자 종류 : () [] {} \\ | ? | * ^ $...\n",
    "# 특수문자는 범위가 없다. \n",
    "\n",
    "# 메타버스? Meta-verse\n"
   ]
  },
  {
   "cell_type": "code",
   "execution_count": null,
   "metadata": {},
   "outputs": [],
   "source": [
    "#1. [] : 모든 문자가 대괄호 안에 올 수 있음\n",
    "#ex) [abcde] : a,b,c,d,e 중에서 한 개의 문자와 매치"
   ]
  },
  {
   "cell_type": "code",
   "execution_count": 75,
   "metadata": {},
   "outputs": [
    {
     "output_type": "stream",
     "name": "stdout",
     "text": [
      "<re.Match object; span=(0, 1), match='a'>\n<re.Match object; span=(0, 1), match='e'>\n<re.Match object; span=(0, 1), match='a'>\n<re.Match object; span=(0, 1), match='a'>\n<re.Match object; span=(0, 4), match='abcd'>\n<re.Match object; span=(0, 1), match='a'>\n<re.Match object; span=(0, 4), match='abcd'>\n<re.Match object; span=(0, 2), match='ab'>\nNone\n"
     ]
    }
   ],
   "source": [
    "print(re.match('[abcde]', 'a'))\n",
    "print(re.match('[abcde]', 'e'))\n",
    "print(re.match('[abcde]', 'ab')) # 문자 하나만 보고 끝남 #순서와 관련 없음\n",
    "print(re.match('[abcde]', 'abcd'))\n",
    "print(re.match('[abcde]+', 'abcd')) # +는 한 문자 이상과 매칭되는지 검사\n",
    "\n",
    "print(re.match('[decab]', 'abcd')) #1개의 문자에 대해서만 매치여부 확인, 순서 없음\n",
    "print(re.match('[decab]+', 'abcd'))\n",
    "\n",
    "print(re.match('[decab]+', 'abfcd')) # []는 순서가 없다. 안에만 있으면 된다. #a가 안에 있다. b가 안에 있다. f는 없다. 매치가 안되는 시점에서 끝\n",
    "print(re.match('[decab]+', 'xabfcd'))"
   ]
  },
  {
   "cell_type": "code",
   "execution_count": 79,
   "metadata": {},
   "outputs": [
    {
     "output_type": "stream",
     "name": "stdout",
     "text": [
      "<re.Match object; span=(0, 3), match='all'>\n"
     ]
    }
   ],
   "source": [
    "print(re.match('[ablcd]+', 'all'))"
   ]
  },
  {
   "cell_type": "code",
   "execution_count": 85,
   "metadata": {},
   "outputs": [
    {
     "output_type": "stream",
     "name": "stdout",
     "text": [
      "<re.Match object; span=(0, 3), match='all'>\n<re.Match object; span=(0, 3), match='120'>\n<re.Match object; span=(0, 6), match='120348'>\n<re.Match object; span=(0, 5), match='HELLO'>\n<re.Match object; span=(0, 7), match='HELLO W'>\n"
     ]
    }
   ],
   "source": [
    "#영문자 소문자만 오면 모두 매치\n",
    "print(re.match('[a-z]+', 'all')) \n",
    "print(re.match('[10842]+', '120348'))\n",
    "print(re.match('[0-9]+', '120348'))\n",
    "print(re.match('[A-Z]+', 'HELLO World'))\n",
    "print(re.match('[A-Z a-z]+', 'HELLO World'))"
   ]
  },
  {
   "cell_type": "code",
   "execution_count": 98,
   "metadata": {},
   "outputs": [
    {
     "output_type": "stream",
     "name": "stdout",
     "text": [
      "<re.Match object; span=(0, 5), match='가다나가다'>\n<re.Match object; span=(0, 16), match='ㅎㅎㅎㅎ가다나가다라다ㅋㅋㅋㅋㅋ'>\n<re.Match object; span=(0, 16), match='ㅎㅎㅎㅎ가다나가다라다ㅋㅋㅋㅋㅋ'>\n"
     ]
    }
   ],
   "source": [
    "print(re.match('[가나다]+','가다나가다라다'))\n",
    "print(re.match('[가-힣ㄱ-ㅎ]+' , 'ㅎㅎㅎㅎ가다나가다라다ㅋㅋㅋㅋㅋ')) # 한글 범위 : '[가-힣]'\n",
    "print(re.match('[ㄱ-힣]+' , 'ㅎㅎㅎㅎ가다나가다라다ㅋㅋㅋㅋㅋ'))"
   ]
  },
  {
   "cell_type": "code",
   "execution_count": 101,
   "metadata": {},
   "outputs": [
    {
     "output_type": "stream",
     "name": "stdout",
     "text": [
      "<re.Match object; span=(0, 17), match='%#@$!$!@#abcd간다ㅏ '>\n<re.Match object; span=(0, 9), match='%#@$!$!@#'>\n"
     ]
    }
   ],
   "source": [
    "print(re.match('[^0-9]+', '%#@$!$!@#abcd간다ㅏ 8724*&'))\n",
    "# 숫자가 아니면 매치\n",
    "print(re.match('[^0-9ㄱ-힣a-z A-Z]+', '%#@$!$!@#abcd간다ㅏ 8724*&')) #특수기호만 매치 "
   ]
  },
  {
   "cell_type": "code",
   "execution_count": null,
   "metadata": {},
   "outputs": [],
   "source": [
    "# [a-z] #소문자\n",
    "# [A-Z] #대문자\n",
    "# [a-zA-Z] #소문자 대문자 \n",
    "# [0-9] == \\d #숫자\n",
    "# [^0-9] == \\D 숫자를 제외한 모든 문자 # ^ = not\n",
    "# [0-9A-Za-z] == \\w\n",
    "# [^0-9A-Za-z] == \\W\n",
    "# [ \\t\\n\\r] == \\s # \\t : tab키 # \\n : 줄바꿈 \\r : 커서를 행 앞으로\n",
    "# [^ \\t\\n\\r] == \\S"
   ]
  },
  {
   "source": [
    "print(re.search('hello', 'hello world')) # search는 hello만 있으면 된다.\n",
    "print(re.search('hello', 'world hello world')) \n",
    "print(re.search('hello', 'world hel lo world')) \n",
    "print(re.search('hel lo', 'world hel lo world'))\n",
    "\n",
    "print(re.search('[helo]+', 'world hel lo world')) #매치가 되면 끝난다."
   ],
   "cell_type": "code",
   "metadata": {},
   "execution_count": 108,
   "outputs": [
    {
     "output_type": "stream",
     "name": "stdout",
     "text": [
      "<re.Match object; span=(0, 5), match='hello'>\n<re.Match object; span=(6, 11), match='hello'>\nNone\n<re.Match object; span=(6, 12), match='hel lo'>\n<re.Match object; span=(1, 2), match='o'>\n"
     ]
    }
   ]
  },
  {
   "cell_type": "code",
   "execution_count": 112,
   "metadata": {},
   "outputs": [
    {
     "output_type": "stream",
     "name": "stdout",
     "text": [
      "None\n"
     ]
    }
   ],
   "source": [
    "print(re.search('^hi', 'hello, hi')) # 처음 h 안되네? 쭉 가서 hi 되네? match됨\n",
    "# ^: ~시작하는지 판단. ^hi : hi로 시작하는 문자열\n",
    "# $: ~끝나는지 판단, hi$ : hi로 끝나는 문자열"
   ]
  },
  {
   "cell_type": "code",
   "execution_count": 122,
   "metadata": {},
   "outputs": [
    {
     "output_type": "stream",
     "name": "stdout",
     "text": [
      "<re.Match object; span=(7, 9), match='hi'>\nNone\nNone\n<re.Match object; span=(0, 5), match='hello'>\n<re.Match object; span=(7, 9), match='hi'>\n<re.Match object; span=(0, 2), match='he'>\n"
     ]
    }
   ],
   "source": [
    "print(re.search('hi', 'hello, hi'))\n",
    "print(re.search('^hi', 'hello, hi'))\n",
    "print(re.search('^hi', 'hello, hid'))\n",
    "print(re.search('^hello', 'hello, hi'))\n",
    "print(re.search('hi$', 'hello, hi'))\n",
    "\n",
    "print(re.search('hi|he|good|hello', 'hello, hi')) # | : or (또는)"
   ]
  },
  {
   "cell_type": "code",
   "execution_count": 123,
   "metadata": {},
   "outputs": [],
   "source": [
    "# * : 0개 이상 있는지 판단 \n",
    "# + : 1개 이상 있는지 판단 "
   ]
  },
  {
   "cell_type": "code",
   "execution_count": 131,
   "metadata": {},
   "outputs": [
    {
     "output_type": "stream",
     "name": "stdout",
     "text": [
      "문자열이 패턴식에 매치가 됐습니다\n"
     ]
    }
   ],
   "source": [
    "re.match('[0-9]*', '12a3b')\n",
    "re.match('[0-9]+', '12a3b')\n",
    "re.match('[0-9]*', 'x12a3b')\n",
    "\n",
    "res=re.match('[0-9]', '12a3b')\n",
    "if res: #있으면 True\n",
    "    print('문자열이 패턴식에 매치가 됐습니다')\n",
    "else:\n",
    "    print('매치되지 않았습니다')"
   ]
  },
  {
   "cell_type": "code",
   "execution_count": null,
   "metadata": {},
   "outputs": [],
   "source": [
    "x=None\n",
    "if x:\n",
    "    print('None이 아님')\n",
    "else:\n",
    "    print('None')"
   ]
  },
  {
   "cell_type": "code",
   "execution_count": 133,
   "metadata": {},
   "outputs": [
    {
     "output_type": "stream",
     "name": "stdout",
     "text": [
      "None\n"
     ]
    }
   ],
   "source": [
    "print(re.match('[0-9]+', 'a12a3b')) # None? 매치되지 않았다\n"
   ]
  },
  {
   "cell_type": "code",
   "execution_count": 136,
   "metadata": {},
   "outputs": [
    {
     "output_type": "stream",
     "name": "stdout",
     "text": [
      "None\n<re.Match object; span=(0, 0), match=''>\n"
     ]
    }
   ],
   "source": [
    "# *: 0개 이상이 매치되는지 확인\n",
    "print(re.match('[0-9]+', 'a12a3b')) #0~9까지의 숫자가 0개 이상 매치되는지 확인\n",
    "print(re.match('[0-9]*', 'a12a3b')) #0개가 매치됐으므로 객체가 출력 #이건 True이다."
   ]
  },
  {
   "cell_type": "code",
   "execution_count": 139,
   "metadata": {},
   "outputs": [
    {
     "output_type": "stream",
     "name": "stdout",
     "text": [
      "<re.Match object; span=(0, 1), match='a'>\n<re.Match object; span=(0, 0), match=''>\nNone\n"
     ]
    }
   ],
   "source": [
    "print(re.match('[a-z]*', 'a12a3b'))\n",
    "print(re.match('[a-z]*', '12a3b'))\n",
    "print(re.match('[a-z]+', '12a3b')) # +나오면 앞에 나온 문자 하나만 본다."
   ]
  },
  {
   "cell_type": "code",
   "execution_count": 154,
   "metadata": {},
   "outputs": [
    {
     "output_type": "stream",
     "name": "stdout",
     "text": [
      "None\n<re.Match object; span=(0, 1), match='a'>\nNone\n<re.Match object; span=(0, 0), match=''>\n<re.Match object; span=(0, 1), match='a'>\nNone\n<re.Match object; span=(0, 1), match='b'>\nNone\n<re.Match object; span=(0, 8), match='aaaaaaab'>\n<re.Match object; span=(0, 7), match='aaaaaaa'>\nNone\n"
     ]
    }
   ],
   "source": [
    "print(re.match('a', 'b'))\n",
    "print(re.match('a', 'ab'))\n",
    "print(re.match('a', 'ba'))\n",
    "print(re.match('a*', 'b')) # 0개 매치됨\n",
    "print(re.match('a*', 'ab'))\n",
    "\n",
    "print(re.match('a+', 'b'))\n",
    "\n",
    "print(re.match('a*b', 'b')) # a가 0개 이상 나온 후 이어서 b가 나와야 함\n",
    "print(re.match('a*b', 'aaaaaaa')) # a가 0개 이상 ok. 하지만 그 뒤에 b가 없음\n",
    "print(re.match('a*b', 'aaaaaaabbbbbb'))\n",
    "print(re.match('a+b*', 'aaaaaaa'))\n",
    "\n",
    "print(re.match('a+b+', 'aaaaaaa'))"
   ]
  },
  {
   "cell_type": "code",
   "execution_count": 161,
   "metadata": {},
   "outputs": [
    {
     "output_type": "execute_result",
     "data": {
      "text/plain": [
       "<re.Match object; span=(0, 10), match='가고싶은100입니다'>"
      ]
     },
     "metadata": {},
     "execution_count": 161
    }
   ],
   "source": [
    "re.search('[가-힣]+[0-9]+입니다', '가고싶은100입니다')"
   ]
  },
  {
   "cell_type": "code",
   "execution_count": 1,
   "metadata": {},
   "outputs": [
    {
     "output_type": "execute_result",
     "data": {
      "text/plain": [
       "2"
      ]
     },
     "metadata": {},
     "execution_count": 1
    }
   ],
   "source": [
    "import re\n",
    "\n",
    "s=\"가나다 100 라마바 200\"\n",
    "#s에서 숫자를 추출\n",
    "# re.match(패턴식, s)\n",
    "# res=re.search('[0-9]+', s)\n",
    "# res.group() #매치된 수를 뽑아낸다.\n",
    "# re.search('\\d+',s)\n",
    "\n",
    "re.findall('[0-9]+', s)\n",
    "re.findall('\\d', s)\n",
    "len(re.findall('\\d+', s))"
   ]
  },
  {
   "cell_type": "code",
   "execution_count": 19,
   "metadata": {},
   "outputs": [
    {
     "output_type": "execute_result",
     "data": {
      "text/plain": [
       "['27.3도', '39도', '39.5도']"
      ]
     },
     "metadata": {},
     "execution_count": 19
    }
   ],
   "source": [
    "# [a-z] #소문자\n",
    "# [A-Z] #대문자\n",
    "# [a-zA-Z] #소문자 대문자 \n",
    "# [0-9] == \\d #숫자\n",
    "# [^0-9] == \\D 숫자를 제외한 모든 문자 # ^ = not\n",
    "# [0-9A-Za-z] == \\w\n",
    "# [^0-9A-Za-z] == \\W\n",
    "# [ \\t\\n\\r] == \\s # \\t : tab키 # \\n : 줄바꿈 \\r : 커서를 행 앞으로\n",
    "# [^ \\t\\n\\r] == \\S\n",
    "\n",
    "# 3.14 \n",
    "# 27.3\n",
    "# 36\n",
    "\n",
    "#나이\n",
    "re.findall('[\\d]+세','20세 3.14 27.3도 36세') # findall은 다 본다.\n",
    "\n",
    "#도\n",
    "re.findall('[\\d.]+도','20세 3.14 27.3도 36세 39도 39.5도')"
   ]
  },
  {
   "cell_type": "code",
   "execution_count": 20,
   "metadata": {},
   "outputs": [],
   "source": [
    "news=\"\"\"뜨거운 열기가 계속 쌓여만 가는 느낌인데요.\n",
    "\n",
    "현재 서울 기온은 34.5도까지 치솟으며 하루 만에 올여름 최고 기온을 경신했습니다.\n",
    "\n",
    "특히 비공식 기온이지만 서울 강북구 수유동은 무려 37.2도까지 치솟으며 사람 체온을 웃돌고 있습니다.\n",
    "\n",
    "반면, 대기 불안정으로 동쪽 지방은 호우특보 속에 요란한 소나기가 쏟아지고 있는데요.\n",
    "\n",
    "시설물 관리와 안전사고에 주의하셔야겠습니다.\n",
    "\n",
    "전국 대부분 지역에 폭염특보가 계속되는 가운데, 현재 전국에서 가장 더운 곳은 경기도 안성으로, 양성면의 기온이 37.7도까지 치솟았는데요.\n",
    "\n",
    "서울도 체감 35도 안팎의 찜통더위가 계속되고 있습니다.\n",
    "\n",
    "찌는 듯한 더위 속에 대기 불안정이 심해지면서 동쪽 내륙을 중심으로는 강한 소나기 구름이 발달하고 있는데요.\n",
    "\n",
    "강원 남부 내륙과 전북 동부에 호우특보가 내려진 가운데, 내일 새벽까지 돌풍과 벼락을 동반한 시간당 50mm 이상의 장대비가 쏟아지며, 100mm 이상의 강우량을 기록하는 곳도 있겠습니다.\n",
    "\n",
    "피해 없도록 주변 점검 철저히 해주시기 바랍니다.\n",
    "\n",
    "내일과 모레도 무더위 속에 기습적인 소나기가 지나겠고요, 일요일 전국에 비가 내린 뒤 다음 주에는 더 심한 더위가 찾아오겠습니다.\n",
    "\n",
    "연일 계속되는 무더위에 온열 질환에 걸릴 가능성도 커지고 있습니다.\n",
    "\n",
    "볕이 강한 오후 2~5시 사이 장시간의 야외 활동은 자제하시는 게 좋겠습니다.\n",
    "\n",
    "YTN 신미림입니다.\n",
    "\n",
    " \"\"\""
   ]
  },
  {
   "cell_type": "code",
   "execution_count": 21,
   "metadata": {},
   "outputs": [
    {
     "output_type": "execute_result",
     "data": {
      "text/plain": [
       "'뜨거운 열기가 계속 쌓여만 가는 느낌인데요.\\n\\n현재 서울 기온은 34.5도까지 치솟으며 하루 만에 올여름 최고 기온을 경신했습니다.\\n\\n특히 비공식 기온이지만 서울 강북구 수유동은 무려 37.2도까지 치솟으며 사람 체온을 웃돌고 있습니다.\\n\\n반면, 대기 불안정으로 동쪽 지방은 호우특보 속에 요란한 소나기가 쏟아지고 있는데요.\\n\\n시설물 관리와 안전사고에 주의하셔야겠습니다.\\n\\n전국 대부분 지역에 폭염특보가 계속되는 가운데, 현재 전국에서 가장 더운 곳은 경기도 안성으로, 양성면의 기온이 37.7도까지 치솟았는데요.\\n\\n서울도 체감 35도 안팎의 찜통더위가 계속되고 있습니다.\\n\\n찌는 듯한 더위 속에 대기 불안정이 심해지면서 동쪽 내륙을 중심으로는 강한 소나기 구름이 발달하고 있는데요.\\n\\n강원 남부 내륙과 전북 동부에 호우특보가 내려진 가운데, 내일 새벽까지 돌풍과 벼락을 동반한 시간당 50mm 이상의 장대비가 쏟아지며, 100mm 이상의 강우량을 기록하는 곳도 있겠습니다.\\n\\n피해 없도록 주변 점검 철저히 해주시기 바랍니다.\\n\\n내일과 모레도 무더위 속에 기습적인 소나기가 지나겠고요, 일요일 전국에 비가 내린 뒤 다음 주에는 더 심한 더위가 찾아오겠습니다.\\n\\n연일 계속되는 무더위에 온열 질환에 걸릴 가능성도 커지고 있습니다.\\n\\n볕이 강한 오후 2~5시 사이 장시간의 야외 활동은 자제하시는 게 좋겠습니다.\\n\\nYTN 신미림입니다.\\n\\n '"
      ]
     },
     "metadata": {},
     "execution_count": 21
    }
   ],
   "source": [
    "news"
   ]
  },
  {
   "cell_type": "code",
   "execution_count": 22,
   "metadata": {},
   "outputs": [
    {
     "output_type": "execute_result",
     "data": {
      "text/plain": [
       "['34.5도', '37.2도', '37.7도', '35도', '50mm', '100mm']"
      ]
     },
     "metadata": {},
     "execution_count": 22
    }
   ],
   "source": [
    "re.findall('[0-9.]+도|[0-9]+mm', news)"
   ]
  }
 ]
}