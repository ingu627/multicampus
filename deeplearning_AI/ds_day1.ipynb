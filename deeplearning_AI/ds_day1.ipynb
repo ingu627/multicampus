{
 "metadata": {
  "language_info": {
   "codemirror_mode": {
    "name": "ipython",
    "version": 3
   },
   "file_extension": ".py",
   "mimetype": "text/x-python",
   "name": "python",
   "nbconvert_exporter": "python",
   "pygments_lexer": "ipython3",
   "version": "3.8.5"
  },
  "orig_nbformat": 4,
  "kernelspec": {
   "name": "python3",
   "display_name": "Python 3.8.5 64-bit ('base': conda)"
  },
  "interpreter": {
   "hash": "b3ba2566441a7c06988d0923437866b63cedc61552a5af99d1f4fb67d367b25f"
  }
 },
 "nbformat": 4,
 "nbformat_minor": 2,
 "cells": [
  {
   "source": [
    "레벤슈타인 거리? 두 문자열의 최소 편집 거리   \n",
    "편집(삽입, 삭제, 수정)  \n",
    "\n",
    "같을때는 대각선 값  \n",
    "다를 때는 왼쪽, 대각선, 위쪽 값중 최솟값+1을 넣는다.  \n",
    "맨 마지막 값이 최솟값이 된다.(편집 횟수)  "
   ],
   "cell_type": "markdown",
   "metadata": {}
  },
  {
   "source": [
    "## 동적계획법 \n",
    ": 복잡하고 어려운 문제를 작은 단위의 문제로 나눈 다음, 작은 단위 문제를 해결해가면서 얻어진 해를 좀 더 큰 단위의 문제를 해결하는데 재사용하는 방법\n",
    "\n",
    "피보나치 수열의 10번째 항?(복잡하고 어려운 문제)  \n",
    "조건 : f(1)=0, f(2)=1  \n",
    "f(10)=f(9)+f(8)  \n",
    "f(9)=f(8)+f(7)  "
   ],
   "cell_type": "markdown",
   "metadata": {}
  },
  {
   "cell_type": "code",
   "execution_count": null,
   "metadata": {},
   "outputs": [],
   "source": [
    "# isdigit()"
   ]
  },
  {
   "cell_type": "code",
   "execution_count": null,
   "metadata": {},
   "outputs": [],
   "source": [
    "# 파이썬 문법 \n",
    "# 웹스크래핑-salenium, beautifulsoup\n",
    "# 네이버/다음 댓글(지식인), 인스타그램(키워드, 자동화)\n",
    "# 상권분석(음식, 지도->위치->지도시각화(서울시 지도))\n",
    "# 영화 댓글 추출, 신문사 기사 추출, ... => 감성분석 \n",
    "# 위키피디아 텍스트 추출 \n",
    "# 다나와, 보배드림... -> 데이터 추출"
   ]
  },
  {
   "cell_type": "code",
   "execution_count": 1,
   "metadata": {},
   "outputs": [],
   "source": [
    "import datetime as dt #패키지(모듈들의 집합) #"
   ]
  },
  {
   "cell_type": "code",
   "execution_count": 40,
   "metadata": {},
   "outputs": [
    {
     "output_type": "execute_result",
     "data": {
      "text/plain": [
       "datetime.datetime(2021, 7, 19, 13, 35, 14, 589042)"
      ]
     },
     "metadata": {},
     "execution_count": 40
    }
   ],
   "source": [
    "# 클래스 -> 객체 \n",
    "# Bread -> br1, br2, ...\n",
    "dt.datetime.now() #현재시간  #datetime 객체가 이미 만들어져있음 위에랑 다르다. \n",
    "\n",
    "#패키지.(클래스)객체.메서드()\n",
    "#맨 마지막 수는 백만분의 1초를 의미\n",
    "\n",
    "# 밀리세컨(10의 -3승) -> 마이크로세컨(10의 -6승) -> 나노세컨(10의 -9승) -> 피코세컨(10의 -12승) -> 펨토세컨(10의 -15승 클래스) -> 아토세컨\n"
   ]
  },
  {
   "cell_type": "code",
   "execution_count": 50,
   "metadata": {},
   "outputs": [
    {
     "output_type": "execute_result",
     "data": {
      "text/plain": [
       "datetime.datetime(2021, 7, 19, 13, 36, 49, 443336)"
      ]
     },
     "metadata": {},
     "execution_count": 50
    }
   ],
   "source": [
    "a=dt.datetime.now()\n",
    "a"
   ]
  },
  {
   "cell_type": "code",
   "execution_count": 55,
   "metadata": {},
   "outputs": [
    {
     "output_type": "execute_result",
     "data": {
      "text/plain": [
       "443336"
      ]
     },
     "metadata": {},
     "execution_count": 55
    }
   ],
   "source": [
    "#날짜/시간 속성들\n",
    "a.year\n",
    "a.month\n",
    "a.day\n",
    "a.hour\n",
    "a.minute\n",
    "a.second\n",
    "a.microsecond"
   ]
  },
  {
   "cell_type": "code",
   "execution_count": 58,
   "metadata": {},
   "outputs": [
    {
     "output_type": "execute_result",
     "data": {
      "text/plain": [
       "0"
      ]
     },
     "metadata": {},
     "execution_count": 58
    }
   ],
   "source": [
    "#날짜/시간 관련 메서드\n",
    "a.weekday() # 월요일 :0 ~ 일요일 : 6"
   ]
  },
  {
   "cell_type": "code",
   "execution_count": 61,
   "metadata": {},
   "outputs": [
    {
     "output_type": "execute_result",
     "data": {
      "text/plain": [
       "'Monday'"
      ]
     },
     "metadata": {},
     "execution_count": 61
    }
   ],
   "source": [
    "a.strftime('%A')"
   ]
  },
  {
   "cell_type": "code",
   "execution_count": 74,
   "metadata": {},
   "outputs": [
    {
     "output_type": "execute_result",
     "data": {
      "text/plain": [
       "'Monday 19, July 2021'"
      ]
     },
     "metadata": {},
     "execution_count": 74
    }
   ],
   "source": [
    "a.strftime('%A %d, %B %Y')"
   ]
  },
  {
   "cell_type": "code",
   "execution_count": 75,
   "metadata": {},
   "outputs": [
    {
     "output_type": "error",
     "ename": "ValueError",
     "evalue": "time data '2021-07-19' does not match format '%Y-%m-%d %H:%M'",
     "traceback": [
      "\u001b[1;31m---------------------------------------------------------------------------\u001b[0m",
      "\u001b[1;31mValueError\u001b[0m                                Traceback (most recent call last)",
      "\u001b[1;32m<ipython-input-75-168dc41460fb>\u001b[0m in \u001b[0;36m<module>\u001b[1;34m\u001b[0m\n\u001b[0;32m      1\u001b[0m \u001b[1;31m# striptime(): '문자열로된 날짜데이터' -> '2021-07-19'\u001b[0m\u001b[1;33m\u001b[0m\u001b[1;33m\u001b[0m\u001b[1;33m\u001b[0m\u001b[0m\n\u001b[0;32m      2\u001b[0m \u001b[1;33m\u001b[0m\u001b[0m\n\u001b[1;32m----> 3\u001b[1;33m \u001b[0mdt\u001b[0m\u001b[1;33m.\u001b[0m\u001b[0mdatetime\u001b[0m\u001b[1;33m.\u001b[0m\u001b[0mstrptime\u001b[0m\u001b[1;33m(\u001b[0m\u001b[1;34m'2021-07-19'\u001b[0m\u001b[1;33m,\u001b[0m \u001b[1;34m'%Y-%m-%d %H:%M'\u001b[0m\u001b[1;33m)\u001b[0m\u001b[1;33m\u001b[0m\u001b[1;33m\u001b[0m\u001b[0m\n\u001b[0m\u001b[0;32m      4\u001b[0m \u001b[1;33m\u001b[0m\u001b[0m\n",
      "\u001b[1;32mC:\\ProgramData\\Anaconda3\\lib\\_strptime.py\u001b[0m in \u001b[0;36m_strptime_datetime\u001b[1;34m(cls, data_string, format)\u001b[0m\n\u001b[0;32m    566\u001b[0m     \"\"\"Return a class cls instance based on the input string and the\n\u001b[0;32m    567\u001b[0m     format string.\"\"\"\n\u001b[1;32m--> 568\u001b[1;33m     \u001b[0mtt\u001b[0m\u001b[1;33m,\u001b[0m \u001b[0mfraction\u001b[0m\u001b[1;33m,\u001b[0m \u001b[0mgmtoff_fraction\u001b[0m \u001b[1;33m=\u001b[0m \u001b[0m_strptime\u001b[0m\u001b[1;33m(\u001b[0m\u001b[0mdata_string\u001b[0m\u001b[1;33m,\u001b[0m \u001b[0mformat\u001b[0m\u001b[1;33m)\u001b[0m\u001b[1;33m\u001b[0m\u001b[1;33m\u001b[0m\u001b[0m\n\u001b[0m\u001b[0;32m    569\u001b[0m     \u001b[0mtzname\u001b[0m\u001b[1;33m,\u001b[0m \u001b[0mgmtoff\u001b[0m \u001b[1;33m=\u001b[0m \u001b[0mtt\u001b[0m\u001b[1;33m[\u001b[0m\u001b[1;33m-\u001b[0m\u001b[1;36m2\u001b[0m\u001b[1;33m:\u001b[0m\u001b[1;33m]\u001b[0m\u001b[1;33m\u001b[0m\u001b[1;33m\u001b[0m\u001b[0m\n\u001b[0;32m    570\u001b[0m     \u001b[0margs\u001b[0m \u001b[1;33m=\u001b[0m \u001b[0mtt\u001b[0m\u001b[1;33m[\u001b[0m\u001b[1;33m:\u001b[0m\u001b[1;36m6\u001b[0m\u001b[1;33m]\u001b[0m \u001b[1;33m+\u001b[0m \u001b[1;33m(\u001b[0m\u001b[0mfraction\u001b[0m\u001b[1;33m,\u001b[0m\u001b[1;33m)\u001b[0m\u001b[1;33m\u001b[0m\u001b[1;33m\u001b[0m\u001b[0m\n",
      "\u001b[1;32mC:\\ProgramData\\Anaconda3\\lib\\_strptime.py\u001b[0m in \u001b[0;36m_strptime\u001b[1;34m(data_string, format)\u001b[0m\n\u001b[0;32m    347\u001b[0m     \u001b[0mfound\u001b[0m \u001b[1;33m=\u001b[0m \u001b[0mformat_regex\u001b[0m\u001b[1;33m.\u001b[0m\u001b[0mmatch\u001b[0m\u001b[1;33m(\u001b[0m\u001b[0mdata_string\u001b[0m\u001b[1;33m)\u001b[0m\u001b[1;33m\u001b[0m\u001b[1;33m\u001b[0m\u001b[0m\n\u001b[0;32m    348\u001b[0m     \u001b[1;32mif\u001b[0m \u001b[1;32mnot\u001b[0m \u001b[0mfound\u001b[0m\u001b[1;33m:\u001b[0m\u001b[1;33m\u001b[0m\u001b[1;33m\u001b[0m\u001b[0m\n\u001b[1;32m--> 349\u001b[1;33m         raise ValueError(\"time data %r does not match format %r\" %\n\u001b[0m\u001b[0;32m    350\u001b[0m                          (data_string, format))\n\u001b[0;32m    351\u001b[0m     \u001b[1;32mif\u001b[0m \u001b[0mlen\u001b[0m\u001b[1;33m(\u001b[0m\u001b[0mdata_string\u001b[0m\u001b[1;33m)\u001b[0m \u001b[1;33m!=\u001b[0m \u001b[0mfound\u001b[0m\u001b[1;33m.\u001b[0m\u001b[0mend\u001b[0m\u001b[1;33m(\u001b[0m\u001b[1;33m)\u001b[0m\u001b[1;33m:\u001b[0m\u001b[1;33m\u001b[0m\u001b[1;33m\u001b[0m\u001b[0m\n",
      "\u001b[1;31mValueError\u001b[0m: time data '2021-07-19' does not match format '%Y-%m-%d %H:%M'"
     ]
    }
   ],
   "source": [
    "# striptime(): '문자열로된 날짜데이터' -> '2021-07-19'\n",
    "\n",
    "dt.datetime.strptime('2021-07-19', '%Y-%m-%d %H:%M')\n",
    "\n"
   ]
  },
  {
   "cell_type": "code",
   "execution_count": 76,
   "metadata": {},
   "outputs": [],
   "source": [
    "#timedelita, datedelta\n",
    "dt1=dt.datetime(2021,7,19,14)\n",
    "dt2=dt.datetime(2021,7,22,18)"
   ]
  },
  {
   "cell_type": "code",
   "execution_count": 78,
   "metadata": {},
   "outputs": [
    {
     "output_type": "stream",
     "name": "stdout",
     "text": [
      "3 days, 4:00:00\n"
     ]
    }
   ],
   "source": [
    "td=dt2-dt1\n",
    "print(td)"
   ]
  },
  {
   "cell_type": "code",
   "execution_count": 79,
   "metadata": {},
   "outputs": [
    {
     "output_type": "execute_result",
     "data": {
      "text/plain": [
       "3"
      ]
     },
     "metadata": {},
     "execution_count": 79
    }
   ],
   "source": [
    "td.days"
   ]
  },
  {
   "cell_type": "code",
   "execution_count": 82,
   "metadata": {},
   "outputs": [
    {
     "output_type": "stream",
     "name": "stdout",
     "text": [
      "273600.0\n"
     ]
    }
   ],
   "source": [
    "td.seconds\n",
    "print(td.total_seconds())"
   ]
  },
  {
   "cell_type": "code",
   "execution_count": 87,
   "metadata": {},
   "outputs": [],
   "source": [
    "#지금까지 살아온 시간(초단위)\n",
    "dt1=dt.datetime(1995, 8, 9, 20)\n",
    "dt2=dt.datetime.now()"
   ]
  },
  {
   "cell_type": "code",
   "execution_count": 90,
   "metadata": {},
   "outputs": [
    {
     "output_type": "stream",
     "name": "stdout",
     "text": [
      "9475 days, 18:21:56.424956\n818706116.424956\n"
     ]
    }
   ],
   "source": [
    "td=dt2-dt1\n",
    "print(td)\n",
    "print(td.total_seconds())"
   ]
  },
  {
   "cell_type": "code",
   "execution_count": null,
   "metadata": {},
   "outputs": [],
   "source": [
    "# 스크래핑(필요시마다 긁어오는 것, 셀레니움), 크롤링(주기적으로 긁어오는 것)\n",
    "\n",
    "# 스크래핑 : 웹서버에서 데이터를 가져오는 행위 (왜 하냐? 데이터가 부족하기 때문에)\n",
    "#크롬 F12 => 개발자 도구\n",
    "\n",
    "# -> raw data -> 가공(뷰티풀 숲으로 파싱 -> 정규식 -> 데이터 추출) -> 분석"
   ]
  },
  {
   "cell_type": "code",
   "execution_count": null,
   "metadata": {},
   "outputs": [],
   "source": [
    "#weekly > ul > li:nth-child(2) > span > span:nth-child(2) > span.data.highest\n",
    "#news > div.headline_area > ul > li:nth-child(1)"
   ]
  },
  {
   "cell_type": "code",
   "execution_count": 92,
   "metadata": {},
   "outputs": [],
   "source": [
    "# all-con.co.kr\n",
    "\n",
    "#스크래핑 대상 이미지 주소 : https://www.all-con.co.kr/img/logo.new.png\n",
    "#urllib(url 모듈의 집합): 웹 사이트 데이터 추출\n",
    "#urllib.request 모듈 : 웹에 있는 데이터에 접근\n",
    "\n",
    "import urllib.request # urllib에 있는 request 모듈을 가져와라\n",
    "# from urllib import * 와도 똑같다."
   ]
  },
  {
   "cell_type": "code",
   "execution_count": 96,
   "metadata": {},
   "outputs": [
    {
     "output_type": "stream",
     "name": "stdout",
     "text": [
      "로고 이미지 다운로드 완료\n"
     ]
    }
   ],
   "source": [
    "urllib.request.urlretrieve('https://www.all-con.co.kr/img/logo.new.png', 'test.jpg') #메서드\n",
    "print('로고 이미지 다운로드 완료')"
   ]
  },
  {
   "cell_type": "code",
   "execution_count": 95,
   "metadata": {},
   "outputs": [
    {
     "output_type": "stream",
     "name": "stdout",
     "text": [
      "Help on function urlretrieve in module urllib.request:\n\nurlretrieve(url, filename=None, reporthook=None, data=None)\n    Retrieve a URL into a temporary location on disk.\n    \n    Requires a URL argument. If a filename is passed, it is used as\n    the temporary file location. The reporthook argument should be\n    a callable that accepts a block number, a read size, and the\n    total file size of the URL target. The data argument should be\n    valid URL encoded data.\n    \n    If a filename is passed and the URL points to a local resource,\n    the result is a copy from local file to new file.\n    \n    Returns a tuple containing the path to the newly created\n    data file as well as the resulting HTTPMessage object.\n\n"
     ]
    }
   ],
   "source": [
    "help(urllib.request.urlretrieve)"
   ]
  },
  {
   "cell_type": "code",
   "execution_count": null,
   "metadata": {},
   "outputs": [],
   "source": [
    "#  http://www.kma.go.kr/weather/forecast/mid-term-rss3.jsp\n",
    "# html <-> xml\n",
    "# 웹페이지를 만들기 위해 사용되는 언어 (마크업 언어)\n",
    "# 태그들로 구성된 페이지 = 웹페이지\n",
    "# xml은 확장 가능한 언어. html에선 불가능한 것을 가능하게 해줌.\n",
    "# generator = 이 페이지를 만든 사람이 누구냐를 알려줌"
   ]
  },
  {
   "cell_type": "code",
   "execution_count": 97,
   "metadata": {},
   "outputs": [],
   "source": [
    "url= 'http://www.kma.go.kr/weather/forecast/mid-term-rss3.jsp'\n"
   ]
  },
  {
   "cell_type": "code",
   "execution_count": 102,
   "metadata": {},
   "outputs": [],
   "source": [
    "myarg={'stnId':'184'}"
   ]
  },
  {
   "cell_type": "code",
   "execution_count": 104,
   "metadata": {},
   "outputs": [],
   "source": [
    "# http://www.kma.go.kr/weather/forecast/mid-term-rss3.jsp?stnId=184 #제주도 주소에 해당 "
   ]
  },
  {
   "cell_type": "code",
   "execution_count": 105,
   "metadata": {},
   "outputs": [],
   "source": [
    "import urllib.parse as up"
   ]
  },
  {
   "cell_type": "code",
   "execution_count": 108,
   "metadata": {},
   "outputs": [],
   "source": [
    "params=up.urlencode(myarg) #딕셔너리의 저장된 데이터를 읽어서 키=값 으로 반환\n",
    "addr=url+'?'+params"
   ]
  },
  {
   "cell_type": "code",
   "execution_count": 110,
   "metadata": {},
   "outputs": [
    {
     "output_type": "execute_result",
     "data": {
      "text/plain": [
       "'http://www.kma.go.kr/weather/forecast/mid-term-rss3.jsp?stnId=184'"
      ]
     },
     "metadata": {},
     "execution_count": 110
    }
   ],
   "source": [
    "addr"
   ]
  },
  {
   "cell_type": "code",
   "execution_count": 116,
   "metadata": {},
   "outputs": [],
   "source": [
    "res=urllib.request.urlopen(addr).read()\n",
    "# 클라이언트 -> 서버로 요청 -> 답변(200(정상), 40x(주소오류), 50x(서버오류))\n",
    "# 이 메시지가 HTTPResponse 객체로 반환\n",
    "# 서버는 클라이언트에게 메인페이지의 코드를 전송"
   ]
  },
  {
   "cell_type": "code",
   "execution_count": 118,
   "metadata": {},
   "outputs": [
    {
     "output_type": "stream",
     "name": "stdout",
     "text": [
      "<?xml version=\"1.0\" encoding=\"utf-8\" ?>\n<rss version=\"2.0\">\n<channel>\n<title>기상청 육상 중기예보</title>\n<link>http://www.kma.go.kr/weather/forecast/mid-term_07.jsp</link>\n<description>기상청 날씨 웹서비스</description>\n<language>ko</language>\n<generator>기상청</generator>\n<pubDate>2021년 07월 19일 (월)요일 06:00</pubDate>\n <item>\n<author>기상청</author>\n<category>육상중기예보</category>\n<title>제주도 육상 중기예보 - 2021년 07월 19일 (월)요일 06:00 발표</title>\n<link>http://www.kma.go.kr/weather/forecast/mid-term_07.jsp</link>\n<guid>http://www.kma.go.kr/weather/forecast/mid-term_07.jsp</guid>\n<description>\n\t<header>\n\t\t<title>제주도 육상중기예보</title>\n\t\t<tm>202107190600</tm>\n\t\t<wf><![CDATA[○ (하늘상태) 이번 예보기간 동안 구름많거나 흐리겠습니다.<br />○ (기온) 이번 예보기간 동안 기온은 어제(18일, 아침기온 23~24도, 낮 기온 28~31도)보다 높겠습니다.<br />○ (해상) 제주도해상과 남해서부해상은 22일(목)에는 2~5m로 매우 높게 일겠고, 그 밖의 날은 1~3m로 일겠습니다.<br /><br /> * 이번 예보기간 동안 낮최고기온이 33도 이상, 아침최저기온이 25도 이상으로 올라 매우 무덥겠으니, 건강관리에 각별히 유의하기 바랍니다.<br /> * 또한, 북태평양고기압 위치에 따라서 낮최고기온의 변동성이 크겠으니, 앞으로 발표되는 기상정보를 참고하기 바랍니다.]]></wf>\n\t</header>\n\t<body>\n\t\t\t\t\n\n\t\t<location wl_ver=\"3\">\n\t\t\t\t<province>제주도</province>\n\t\t\t\t<city>제주</city>\n\t\t\t\t\n\t\t\t\t<data>\n\t\t\t\t\t<mode>A02</mode>\n\t\t\t\t\t<tmEf>2021-07-22 00:00</tmEf>\n\t\t\t\t\t<wf>구름많음</wf>\n\t\t\t\t\t<tmn>26</tmn>\n\t\t\t\t\t<tmx>33</tmx>\n\t\t\t\t\t<reliability></reliability>\n\t\t\t\t\t<rnSt>30</rnSt>\n\t\t\t\t</data>\n\n\t\t\t\t\n\t\t\t\t<data>\n\t\t\t\t\t<mode>A02</mode>\n\t\t\t\t\t<tmEf>2021-07-22 12:00</tmEf>\n\t\t\t\t\t<wf>구름많음</wf>\n\t\t\t\t\t<tmn>26</tmn>\n\t\t\t\t\t<tmx>33</tmx>\n\t\t\t\t\t<reliability></reliability>\n\t\t\t\t\t<rnSt>30</rnSt>\n\t\t\t\t</data>\n\n\t\t\t\t\n\t\t\t\t<data>\n\t\t\t\t\t<mode>A02</mode>\n\t\t\t\t\t<tmEf>2021-07-23 00:00</tmEf>\n\t\t\t\t\t<wf>구름많음</wf>\n\t\t\t\t\t<tmn>26</tmn>\n\t\t\t\t\t<tmx>32</tmx>\n\t\t\t\t\t<reliability></reliability>\n\t\t\t\t\t<rnSt>30</rnSt>\n\t\t\t\t</data>\n\n\t\t\t\t\n\t\t\t\t<data>\n\t\t\t\t\t<mode>A02</mode>\n\t\t\t\t\t<tmEf>2021-07-23 12:00</tmEf>\n\t\t\t\t\t<wf>구름많음</wf>\n\t\t\t\t\t<tmn>26</tmn>\n\t\t\t\t\t<tmx>32</tmx>\n\t\t\t\t\t<reliability></reliability>\n\t\t\t\t\t<rnSt>30</rnSt>\n\t\t\t\t</data>\n\n\t\t\t\t\n\t\t\t\t<data>\n\t\t\t\t\t<mode>A02</mode>\n\t\t\t\t\t<tmEf>2021-07-24 00:00</tmEf>\n\t\t\t\t\t<wf>구름많음</wf>\n\t\t\t\t\t<tmn>26</tmn>\n\t\t\t\t\t<tmx>32</tmx>\n\t\t\t\t\t<reliability></reliability>\n\t\t\t\t\t<rnSt>30</rnSt>\n\t\t\t\t</data>\n\n\t\t\t\t\n\t\t\t\t<data>\n\t\t\t\t\t<mode>A02</mode>\n\t\t\t\t\t<tmEf>2021-07-24 12:00</tmEf>\n\t\t\t\t\t<wf>구름많음</wf>\n\t\t\t\t\t<tmn>26</tmn>\n\t\t\t\t\t<tmx>32</tmx>\n\t\t\t\t\t<reliability></reliability>\n\t\t\t\t\t<rnSt>30</rnSt>\n\t\t\t\t</data>\n\n\t\t\t\t\n\t\t\t\t<data>\n\t\t\t\t\t<mode>A02</mode>\n\t\t\t\t\t<tmEf>2021-07-25 00:00</tmEf>\n\t\t\t\t\t<wf>구름많음</wf>\n\t\t\t\t\t<tmn>26</tmn>\n\t\t\t\t\t<tmx>33</tmx>\n\t\t\t\t\t<reliability></reliability>\n\t\t\t\t\t<rnSt>30</rnSt>\n\t\t\t\t</data>\n\n\t\t\t\t\n\t\t\t\t<data>\n\t\t\t\t\t<mode>A02</mode>\n\t\t\t\t\t<tmEf>2021-07-25 12:00</tmEf>\n\t\t\t\t\t<wf>흐림</wf>\n\t\t\t\t\t<tmn>26</tmn>\n\t\t\t\t\t<tmx>33</tmx>\n\t\t\t\t\t<reliability></reliability>\n\t\t\t\t\t<rnSt>40</rnSt>\n\t\t\t\t</data>\n\n\t\t\t\t\n\t\t\t\t<data>\n\t\t\t\t\t<mode>A02</mode>\n\t\t\t\t\t<tmEf>2021-07-26 00:00</tmEf>\n\t\t\t\t\t<wf>흐림</wf>\n\t\t\t\t\t<tmn>26</tmn>\n\t\t\t\t\t<tmx>32</tmx>\n\t\t\t\t\t<reliability></reliability>\n\t\t\t\t\t<rnSt>40</rnSt>\n\t\t\t\t</data>\n\n\t\t\t\t\n\t\t\t\t<data>\n\t\t\t\t\t<mode>A02</mode>\n\t\t\t\t\t<tmEf>2021-07-26 12:00</tmEf>\n\t\t\t\t\t<wf>구름많음</wf>\n\t\t\t\t\t<tmn>26</tmn>\n\t\t\t\t\t<tmx>32</tmx>\n\t\t\t\t\t<reliability></reliability>\n\t\t\t\t\t<rnSt>40</rnSt>\n\t\t\t\t</data>\n\n\t\t\t\t\n\t\t\t\t<data>\n\t\t\t\t\t<mode>A01</mode>\n\t\t\t\t\t<tmEf>2021-07-27 00:00</tmEf>\n\t\t\t\t\t<wf>흐림</wf>\n\t\t\t\t\t<tmn>26</tmn>\n\t\t\t\t\t<tmx>32</tmx>\n\t\t\t\t\t<reliability></reliability>\n\t\t\t\t\t<rnSt>40</rnSt>\n\t\t\t\t</data>\n\n\t\t\t\t\n\t\t\t\t<data>\n\t\t\t\t\t<mode>A01</mode>\n\t\t\t\t\t<tmEf>2021-07-28 00:00</tmEf>\n\t\t\t\t\t<wf>구름많음</wf>\n\t\t\t\t\t<tmn>26</tmn>\n\t\t\t\t\t<tmx>32</tmx>\n\t\t\t\t\t<reliability></reliability>\n\t\t\t\t\t<rnSt>40</rnSt>\n\t\t\t\t</data>\n\n\t\t\t\t\n\t\t\t\t<data>\n\t\t\t\t\t<mode>A01</mode>\n\t\t\t\t\t<tmEf>2021-07-29 00:00</tmEf>\n\t\t\t\t\t<wf>구름많음</wf>\n\t\t\t\t\t<tmn>26</tmn>\n\t\t\t\t\t<tmx>32</tmx>\n\t\t\t\t\t<reliability></reliability>\n\t\t\t\t\t<rnSt>40</rnSt>\n\t\t\t\t</data>\n\n\n\t\t</location>\n\n\t\t<location wl_ver=\"3\">\n\t\t\t\t<province>제주도</province>\n\t\t\t\t<city>서귀포</city>\n\t\t\t\t\n\t\t\t\t<data>\n\t\t\t\t\t<mode>A02</mode>\n\t\t\t\t\t<tmEf>2021-07-22 00:00</tmEf>\n\t\t\t\t\t<wf>구름많음</wf>\n\t\t\t\t\t<tmn>26</tmn>\n\t\t\t\t\t<tmx>31</tmx>\n\t\t\t\t\t<reliability></reliability>\n\t\t\t\t\t<rnSt>30</rnSt>\n\t\t\t\t</data>\n\n\t\t\t\t\n\t\t\t\t<data>\n\t\t\t\t\t<mode>A02</mode>\n\t\t\t\t\t<tmEf>2021-07-22 12:00</tmEf>\n\t\t\t\t\t<wf>구름많음</wf>\n\t\t\t\t\t<tmn>26</tmn>\n\t\t\t\t\t<tmx>31</tmx>\n\t\t\t\t\t<reliability></reliability>\n\t\t\t\t\t<rnSt>30</rnSt>\n\t\t\t\t</data>\n\n\t\t\t\t\n\t\t\t\t<data>\n\t\t\t\t\t<mode>A02</mode>\n\t\t\t\t\t<tmEf>2021-07-23 00:00</tmEf>\n\t\t\t\t\t<wf>구름많음</wf>\n\t\t\t\t\t<tmn>26</tmn>\n\t\t\t\t\t<tmx>31</tmx>\n\t\t\t\t\t<reliability></reliability>\n\t\t\t\t\t<rnSt>30</rnSt>\n\t\t\t\t</data>\n\n\t\t\t\t\n\t\t\t\t<data>\n\t\t\t\t\t<mode>A02</mode>\n\t\t\t\t\t<tmEf>2021-07-23 12:00</tmEf>\n\t\t\t\t\t<wf>구름많음</wf>\n\t\t\t\t\t<tmn>26</tmn>\n\t\t\t\t\t<tmx>31</tmx>\n\t\t\t\t\t<reliability></reliability>\n\t\t\t\t\t<rnSt>30</rnSt>\n\t\t\t\t</data>\n\n\t\t\t\t\n\t\t\t\t<data>\n\t\t\t\t\t<mode>A02</mode>\n\t\t\t\t\t<tmEf>2021-07-24 00:00</tmEf>\n\t\t\t\t\t<wf>구름많음</wf>\n\t\t\t\t\t<tmn>26</tmn>\n\t\t\t\t\t<tmx>31</tmx>\n\t\t\t\t\t<reliability></reliability>\n\t\t\t\t\t<rnSt>30</rnSt>\n\t\t\t\t</data>\n\n\t\t\t\t\n\t\t\t\t<data>\n\t\t\t\t\t<mode>A02</mode>\n\t\t\t\t\t<tmEf>2021-07-24 12:00</tmEf>\n\t\t\t\t\t<wf>구름많음</wf>\n\t\t\t\t\t<tmn>26</tmn>\n\t\t\t\t\t<tmx>31</tmx>\n\t\t\t\t\t<reliability></reliability>\n\t\t\t\t\t<rnSt>30</rnSt>\n\t\t\t\t</data>\n\n\t\t\t\t\n\t\t\t\t<data>\n\t\t\t\t\t<mode>A02</mode>\n\t\t\t\t\t<tmEf>2021-07-25 00:00</tmEf>\n\t\t\t\t\t<wf>구름많음</wf>\n\t\t\t\t\t<tmn>26</tmn>\n\t\t\t\t\t<tmx>31</tmx>\n\t\t\t\t\t<reliability></reliability>\n\t\t\t\t\t<rnSt>30</rnSt>\n\t\t\t\t</data>\n\n\t\t\t\t\n\t\t\t\t<data>\n\t\t\t\t\t<mode>A02</mode>\n\t\t\t\t\t<tmEf>2021-07-25 12:00</tmEf>\n\t\t\t\t\t<wf>흐림</wf>\n\t\t\t\t\t<tmn>26</tmn>\n\t\t\t\t\t<tmx>31</tmx>\n\t\t\t\t\t<reliability></reliability>\n\t\t\t\t\t<rnSt>40</rnSt>\n\t\t\t\t</data>\n\n\t\t\t\t\n\t\t\t\t<data>\n\t\t\t\t\t<mode>A02</mode>\n\t\t\t\t\t<tmEf>2021-07-26 00:00</tmEf>\n\t\t\t\t\t<wf>흐림</wf>\n\t\t\t\t\t<tmn>26</tmn>\n\t\t\t\t\t<tmx>30</tmx>\n\t\t\t\t\t<reliability></reliability>\n\t\t\t\t\t<rnSt>40</rnSt>\n\t\t\t\t</data>\n\n\t\t\t\t\n\t\t\t\t<data>\n\t\t\t\t\t<mode>A02</mode>\n\t\t\t\t\t<tmEf>2021-07-26 12:00</tmEf>\n\t\t\t\t\t<wf>구름많음</wf>\n\t\t\t\t\t<tmn>26</tmn>\n\t\t\t\t\t<tmx>30</tmx>\n\t\t\t\t\t<reliability></reliability>\n\t\t\t\t\t<rnSt>40</rnSt>\n\t\t\t\t</data>\n\n\t\t\t\t\n\t\t\t\t<data>\n\t\t\t\t\t<mode>A01</mode>\n\t\t\t\t\t<tmEf>2021-07-27 00:00</tmEf>\n\t\t\t\t\t<wf>흐림</wf>\n\t\t\t\t\t<tmn>25</tmn>\n\t\t\t\t\t<tmx>31</tmx>\n\t\t\t\t\t<reliability></reliability>\n\t\t\t\t\t<rnSt>40</rnSt>\n\t\t\t\t</data>\n\n\t\t\t\t\n\t\t\t\t<data>\n\t\t\t\t\t<mode>A01</mode>\n\t\t\t\t\t<tmEf>2021-07-28 00:00</tmEf>\n\t\t\t\t\t<wf>구름많음</wf>\n\t\t\t\t\t<tmn>25</tmn>\n\t\t\t\t\t<tmx>31</tmx>\n\t\t\t\t\t<reliability></reliability>\n\t\t\t\t\t<rnSt>40</rnSt>\n\t\t\t\t</data>\n\n\t\t\t\t\n\t\t\t\t<data>\n\t\t\t\t\t<mode>A01</mode>\n\t\t\t\t\t<tmEf>2021-07-29 00:00</tmEf>\n\t\t\t\t\t<wf>구름많음</wf>\n\t\t\t\t\t<tmn>26</tmn>\n\t\t\t\t\t<tmx>31</tmx>\n\t\t\t\t\t<reliability></reliability>\n\t\t\t\t\t<rnSt>40</rnSt>\n\t\t\t\t</data>\n\n\n\t\t</location>\n\n\t\t<location wl_ver=\"3\">\n\t\t\t\t<province>제주도</province>\n\t\t\t\t<city>성산</city>\n\t\t\t\t\n\t\t\t\t<data>\n\t\t\t\t\t<mode>A02</mode>\n\t\t\t\t\t<tmEf>2021-07-22 00:00</tmEf>\n\t\t\t\t\t<wf>구름많음</wf>\n\t\t\t\t\t<tmn>25</tmn>\n\t\t\t\t\t<tmx>30</tmx>\n\t\t\t\t\t<reliability></reliability>\n\t\t\t\t\t<rnSt>30</rnSt>\n\t\t\t\t</data>\n\n\t\t\t\t\n\t\t\t\t<data>\n\t\t\t\t\t<mode>A02</mode>\n\t\t\t\t\t<tmEf>2021-07-22 12:00</tmEf>\n\t\t\t\t\t<wf>구름많음</wf>\n\t\t\t\t\t<tmn>25</tmn>\n\t\t\t\t\t<tmx>30</tmx>\n\t\t\t\t\t<reliability></reliability>\n\t\t\t\t\t<rnSt>30</rnSt>\n\t\t\t\t</data>\n\n\t\t\t\t\n\t\t\t\t<data>\n\t\t\t\t\t<mode>A02</mode>\n\t\t\t\t\t<tmEf>2021-07-23 00:00</tmEf>\n\t\t\t\t\t<wf>구름많음</wf>\n\t\t\t\t\t<tmn>25</tmn>\n\t\t\t\t\t<tmx>30</tmx>\n\t\t\t\t\t<reliability></reliability>\n\t\t\t\t\t<rnSt>30</rnSt>\n\t\t\t\t</data>\n\n\t\t\t\t\n\t\t\t\t<data>\n\t\t\t\t\t<mode>A02</mode>\n\t\t\t\t\t<tmEf>2021-07-23 12:00</tmEf>\n\t\t\t\t\t<wf>구름많음</wf>\n\t\t\t\t\t<tmn>25</tmn>\n\t\t\t\t\t<tmx>30</tmx>\n\t\t\t\t\t<reliability></reliability>\n\t\t\t\t\t<rnSt>30</rnSt>\n\t\t\t\t</data>\n\n\t\t\t\t\n\t\t\t\t<data>\n\t\t\t\t\t<mode>A02</mode>\n\t\t\t\t\t<tmEf>2021-07-24 00:00</tmEf>\n\t\t\t\t\t<wf>구름많음</wf>\n\t\t\t\t\t<tmn>25</tmn>\n\t\t\t\t\t<tmx>30</tmx>\n\t\t\t\t\t<reliability></reliability>\n\t\t\t\t\t<rnSt>30</rnSt>\n\t\t\t\t</data>\n\n\t\t\t\t\n\t\t\t\t<data>\n\t\t\t\t\t<mode>A02</mode>\n\t\t\t\t\t<tmEf>2021-07-24 12:00</tmEf>\n\t\t\t\t\t<wf>구름많음</wf>\n\t\t\t\t\t<tmn>25</tmn>\n\t\t\t\t\t<tmx>30</tmx>\n\t\t\t\t\t<reliability></reliability>\n\t\t\t\t\t<rnSt>30</rnSt>\n\t\t\t\t</data>\n\n\t\t\t\t\n\t\t\t\t<data>\n\t\t\t\t\t<mode>A02</mode>\n\t\t\t\t\t<tmEf>2021-07-25 00:00</tmEf>\n\t\t\t\t\t<wf>구름많음</wf>\n\t\t\t\t\t<tmn>25</tmn>\n\t\t\t\t\t<tmx>30</tmx>\n\t\t\t\t\t<reliability></reliability>\n\t\t\t\t\t<rnSt>30</rnSt>\n\t\t\t\t</data>\n\n\t\t\t\t\n\t\t\t\t<data>\n\t\t\t\t\t<mode>A02</mode>\n\t\t\t\t\t<tmEf>2021-07-25 12:00</tmEf>\n\t\t\t\t\t<wf>흐림</wf>\n\t\t\t\t\t<tmn>25</tmn>\n\t\t\t\t\t<tmx>30</tmx>\n\t\t\t\t\t<reliability></reliability>\n\t\t\t\t\t<rnSt>40</rnSt>\n\t\t\t\t</data>\n\n\t\t\t\t\n\t\t\t\t<data>\n\t\t\t\t\t<mode>A02</mode>\n\t\t\t\t\t<tmEf>2021-07-26 00:00</tmEf>\n\t\t\t\t\t<wf>흐림</wf>\n\t\t\t\t\t<tmn>25</tmn>\n\t\t\t\t\t<tmx>30</tmx>\n\t\t\t\t\t<reliability></reliability>\n\t\t\t\t\t<rnSt>40</rnSt>\n\t\t\t\t</data>\n\n\t\t\t\t\n\t\t\t\t<data>\n\t\t\t\t\t<mode>A02</mode>\n\t\t\t\t\t<tmEf>2021-07-26 12:00</tmEf>\n\t\t\t\t\t<wf>구름많음</wf>\n\t\t\t\t\t<tmn>25</tmn>\n\t\t\t\t\t<tmx>30</tmx>\n\t\t\t\t\t<reliability></reliability>\n\t\t\t\t\t<rnSt>40</rnSt>\n\t\t\t\t</data>\n\n\t\t\t\t\n\t\t\t\t<data>\n\t\t\t\t\t<mode>A01</mode>\n\t\t\t\t\t<tmEf>2021-07-27 00:00</tmEf>\n\t\t\t\t\t<wf>흐림</wf>\n\t\t\t\t\t<tmn>25</tmn>\n\t\t\t\t\t<tmx>30</tmx>\n\t\t\t\t\t<reliability></reliability>\n\t\t\t\t\t<rnSt>40</rnSt>\n\t\t\t\t</data>\n\n\t\t\t\t\n\t\t\t\t<data>\n\t\t\t\t\t<mode>A01</mode>\n\t\t\t\t\t<tmEf>2021-07-28 00:00</tmEf>\n\t\t\t\t\t<wf>구름많음</wf>\n\t\t\t\t\t<tmn>25</tmn>\n\t\t\t\t\t<tmx>30</tmx>\n\t\t\t\t\t<reliability></reliability>\n\t\t\t\t\t<rnSt>40</rnSt>\n\t\t\t\t</data>\n\n\t\t\t\t\n\t\t\t\t<data>\n\t\t\t\t\t<mode>A01</mode>\n\t\t\t\t\t<tmEf>2021-07-29 00:00</tmEf>\n\t\t\t\t\t<wf>구름많음</wf>\n\t\t\t\t\t<tmn>25</tmn>\n\t\t\t\t\t<tmx>31</tmx>\n\t\t\t\t\t<reliability></reliability>\n\t\t\t\t\t<rnSt>40</rnSt>\n\t\t\t\t</data>\n\n\n\t\t</location>\n\n\t\t<location wl_ver=\"3\">\n\t\t\t\t<province>제주도</province>\n\t\t\t\t<city>성판악</city>\n\t\t\t\t\n\t\t\t\t<data>\n\t\t\t\t\t<mode>A02</mode>\n\t\t\t\t\t<tmEf>2021-07-22 00:00</tmEf>\n\t\t\t\t\t<wf>구름많음</wf>\n\t\t\t\t\t<tmn>20</tmn>\n\t\t\t\t\t<tmx>24</tmx>\n\t\t\t\t\t<reliability></reliability>\n\t\t\t\t\t<rnSt>30</rnSt>\n\t\t\t\t</data>\n\n\t\t\t\t\n\t\t\t\t<data>\n\t\t\t\t\t<mode>A02</mode>\n\t\t\t\t\t<tmEf>2021-07-22 12:00</tmEf>\n\t\t\t\t\t<wf>구름많음</wf>\n\t\t\t\t\t<tmn>20</tmn>\n\t\t\t\t\t<tmx>24</tmx>\n\t\t\t\t\t<reliability></reliability>\n\t\t\t\t\t<rnSt>30</rnSt>\n\t\t\t\t</data>\n\n\t\t\t\t\n\t\t\t\t<data>\n\t\t\t\t\t<mode>A02</mode>\n\t\t\t\t\t<tmEf>2021-07-23 00:00</tmEf>\n\t\t\t\t\t<wf>구름많음</wf>\n\t\t\t\t\t<tmn>20</tmn>\n\t\t\t\t\t<tmx>25</tmx>\n\t\t\t\t\t<reliability></reliability>\n\t\t\t\t\t<rnSt>30</rnSt>\n\t\t\t\t</data>\n\n\t\t\t\t\n\t\t\t\t<data>\n\t\t\t\t\t<mode>A02</mode>\n\t\t\t\t\t<tmEf>2021-07-23 12:00</tmEf>\n\t\t\t\t\t<wf>구름많음</wf>\n\t\t\t\t\t<tmn>20</tmn>\n\t\t\t\t\t<tmx>25</tmx>\n\t\t\t\t\t<reliability></reliability>\n\t\t\t\t\t<rnSt>30</rnSt>\n\t\t\t\t</data>\n\n\t\t\t\t\n\t\t\t\t<data>\n\t\t\t\t\t<mode>A02</mode>\n\t\t\t\t\t<tmEf>2021-07-24 00:00</tmEf>\n\t\t\t\t\t<wf>구름많음</wf>\n\t\t\t\t\t<tmn>20</tmn>\n\t\t\t\t\t<tmx>26</tmx>\n\t\t\t\t\t<reliability></reliability>\n\t\t\t\t\t<rnSt>30</rnSt>\n\t\t\t\t</data>\n\n\t\t\t\t\n\t\t\t\t<data>\n\t\t\t\t\t<mode>A02</mode>\n\t\t\t\t\t<tmEf>2021-07-24 12:00</tmEf>\n\t\t\t\t\t<wf>구름많음</wf>\n\t\t\t\t\t<tmn>20</tmn>\n\t\t\t\t\t<tmx>26</tmx>\n\t\t\t\t\t<reliability></reliability>\n\t\t\t\t\t<rnSt>30</rnSt>\n\t\t\t\t</data>\n\n\t\t\t\t\n\t\t\t\t<data>\n\t\t\t\t\t<mode>A02</mode>\n\t\t\t\t\t<tmEf>2021-07-25 00:00</tmEf>\n\t\t\t\t\t<wf>구름많음</wf>\n\t\t\t\t\t<tmn>20</tmn>\n\t\t\t\t\t<tmx>26</tmx>\n\t\t\t\t\t<reliability></reliability>\n\t\t\t\t\t<rnSt>30</rnSt>\n\t\t\t\t</data>\n\n\t\t\t\t\n\t\t\t\t<data>\n\t\t\t\t\t<mode>A02</mode>\n\t\t\t\t\t<tmEf>2021-07-25 12:00</tmEf>\n\t\t\t\t\t<wf>흐림</wf>\n\t\t\t\t\t<tmn>20</tmn>\n\t\t\t\t\t<tmx>26</tmx>\n\t\t\t\t\t<reliability></reliability>\n\t\t\t\t\t<rnSt>40</rnSt>\n\t\t\t\t</data>\n\n\t\t\t\t\n\t\t\t\t<data>\n\t\t\t\t\t<mode>A02</mode>\n\t\t\t\t\t<tmEf>2021-07-26 00:00</tmEf>\n\t\t\t\t\t<wf>흐림</wf>\n\t\t\t\t\t<tmn>20</tmn>\n\t\t\t\t\t<tmx>26</tmx>\n\t\t\t\t\t<reliability></reliability>\n\t\t\t\t\t<rnSt>40</rnSt>\n\t\t\t\t</data>\n\n\t\t\t\t\n\t\t\t\t<data>\n\t\t\t\t\t<mode>A02</mode>\n\t\t\t\t\t<tmEf>2021-07-26 12:00</tmEf>\n\t\t\t\t\t<wf>구름많음</wf>\n\t\t\t\t\t<tmn>20</tmn>\n\t\t\t\t\t<tmx>26</tmx>\n\t\t\t\t\t<reliability></reliability>\n\t\t\t\t\t<rnSt>40</rnSt>\n\t\t\t\t</data>\n\n\t\t\t\t\n\t\t\t\t<data>\n\t\t\t\t\t<mode>A01</mode>\n\t\t\t\t\t<tmEf>2021-07-27 00:00</tmEf>\n\t\t\t\t\t<wf>흐림</wf>\n\t\t\t\t\t<tmn>19</tmn>\n\t\t\t\t\t<tmx>26</tmx>\n\t\t\t\t\t<reliability></reliability>\n\t\t\t\t\t<rnSt>40</rnSt>\n\t\t\t\t</data>\n\n\t\t\t\t\n\t\t\t\t<data>\n\t\t\t\t\t<mode>A01</mode>\n\t\t\t\t\t<tmEf>2021-07-28 00:00</tmEf>\n\t\t\t\t\t<wf>구름많음</wf>\n\t\t\t\t\t<tmn>20</tmn>\n\t\t\t\t\t<tmx>27</tmx>\n\t\t\t\t\t<reliability></reliability>\n\t\t\t\t\t<rnSt>40</rnSt>\n\t\t\t\t</data>\n\n\t\t\t\t\n\t\t\t\t<data>\n\t\t\t\t\t<mode>A01</mode>\n\t\t\t\t\t<tmEf>2021-07-29 00:00</tmEf>\n\t\t\t\t\t<wf>구름많음</wf>\n\t\t\t\t\t<tmn>21</tmn>\n\t\t\t\t\t<tmx>28</tmx>\n\t\t\t\t\t<reliability></reliability>\n\t\t\t\t\t<rnSt>40</rnSt>\n\t\t\t\t</data>\n\n\n\t\t</location>\n\n\t\t<location wl_ver=\"3\">\n\t\t\t\t<province>제주도</province>\n\t\t\t\t<city>고산</city>\n\t\t\t\t\n\t\t\t\t<data>\n\t\t\t\t\t<mode>A02</mode>\n\t\t\t\t\t<tmEf>2021-07-22 00:00</tmEf>\n\t\t\t\t\t<wf>구름많음</wf>\n\t\t\t\t\t<tmn>25</tmn>\n\t\t\t\t\t<tmx>31</tmx>\n\t\t\t\t\t<reliability></reliability>\n\t\t\t\t\t<rnSt>30</rnSt>\n\t\t\t\t</data>\n\n\t\t\t\t\n\t\t\t\t<data>\n\t\t\t\t\t<mode>A02</mode>\n\t\t\t\t\t<tmEf>2021-07-22 12:00</tmEf>\n\t\t\t\t\t<wf>구름많음</wf>\n\t\t\t\t\t<tmn>25</tmn>\n\t\t\t\t\t<tmx>31</tmx>\n\t\t\t\t\t<reliability></reliability>\n\t\t\t\t\t<rnSt>30</rnSt>\n\t\t\t\t</data>\n\n\t\t\t\t\n\t\t\t\t<data>\n\t\t\t\t\t<mode>A02</mode>\n\t\t\t\t\t<tmEf>2021-07-23 00:00</tmEf>\n\t\t\t\t\t<wf>구름많음</wf>\n\t\t\t\t\t<tmn>26</tmn>\n\t\t\t\t\t<tmx>31</tmx>\n\t\t\t\t\t<reliability></reliability>\n\t\t\t\t\t<rnSt>30</rnSt>\n\t\t\t\t</data>\n\n\t\t\t\t\n\t\t\t\t<data>\n\t\t\t\t\t<mode>A02</mode>\n\t\t\t\t\t<tmEf>2021-07-23 12:00</tmEf>\n\t\t\t\t\t<wf>구름많음</wf>\n\t\t\t\t\t<tmn>26</tmn>\n\t\t\t\t\t<tmx>31</tmx>\n\t\t\t\t\t<reliability></reliability>\n\t\t\t\t\t<rnSt>30</rnSt>\n\t\t\t\t</data>\n\n\t\t\t\t\n\t\t\t\t<data>\n\t\t\t\t\t<mode>A02</mode>\n\t\t\t\t\t<tmEf>2021-07-24 00:00</tmEf>\n\t\t\t\t\t<wf>구름많음</wf>\n\t\t\t\t\t<tmn>25</tmn>\n\t\t\t\t\t<tmx>31</tmx>\n\t\t\t\t\t<reliability></reliability>\n\t\t\t\t\t<rnSt>30</rnSt>\n\t\t\t\t</data>\n\n\t\t\t\t\n\t\t\t\t<data>\n\t\t\t\t\t<mode>A02</mode>\n\t\t\t\t\t<tmEf>2021-07-24 12:00</tmEf>\n\t\t\t\t\t<wf>구름많음</wf>\n\t\t\t\t\t<tmn>25</tmn>\n\t\t\t\t\t<tmx>31</tmx>\n\t\t\t\t\t<reliability></reliability>\n\t\t\t\t\t<rnSt>30</rnSt>\n\t\t\t\t</data>\n\n\t\t\t\t\n\t\t\t\t<data>\n\t\t\t\t\t<mode>A02</mode>\n\t\t\t\t\t<tmEf>2021-07-25 00:00</tmEf>\n\t\t\t\t\t<wf>구름많음</wf>\n\t\t\t\t\t<tmn>25</tmn>\n\t\t\t\t\t<tmx>31</tmx>\n\t\t\t\t\t<reliability></reliability>\n\t\t\t\t\t<rnSt>30</rnSt>\n\t\t\t\t</data>\n\n\t\t\t\t\n\t\t\t\t<data>\n\t\t\t\t\t<mode>A02</mode>\n\t\t\t\t\t<tmEf>2021-07-25 12:00</tmEf>\n\t\t\t\t\t<wf>흐림</wf>\n\t\t\t\t\t<tmn>25</tmn>\n\t\t\t\t\t<tmx>31</tmx>\n\t\t\t\t\t<reliability></reliability>\n\t\t\t\t\t<rnSt>40</rnSt>\n\t\t\t\t</data>\n\n\t\t\t\t\n\t\t\t\t<data>\n\t\t\t\t\t<mode>A02</mode>\n\t\t\t\t\t<tmEf>2021-07-26 00:00</tmEf>\n\t\t\t\t\t<wf>흐림</wf>\n\t\t\t\t\t<tmn>25</tmn>\n\t\t\t\t\t<tmx>30</tmx>\n\t\t\t\t\t<reliability></reliability>\n\t\t\t\t\t<rnSt>40</rnSt>\n\t\t\t\t</data>\n\n\t\t\t\t\n\t\t\t\t<data>\n\t\t\t\t\t<mode>A02</mode>\n\t\t\t\t\t<tmEf>2021-07-26 12:00</tmEf>\n\t\t\t\t\t<wf>구름많음</wf>\n\t\t\t\t\t<tmn>25</tmn>\n\t\t\t\t\t<tmx>30</tmx>\n\t\t\t\t\t<reliability></reliability>\n\t\t\t\t\t<rnSt>40</rnSt>\n\t\t\t\t</data>\n\n\t\t\t\t\n\t\t\t\t<data>\n\t\t\t\t\t<mode>A01</mode>\n\t\t\t\t\t<tmEf>2021-07-27 00:00</tmEf>\n\t\t\t\t\t<wf>흐림</wf>\n\t\t\t\t\t<tmn>25</tmn>\n\t\t\t\t\t<tmx>30</tmx>\n\t\t\t\t\t<reliability></reliability>\n\t\t\t\t\t<rnSt>40</rnSt>\n\t\t\t\t</data>\n\n\t\t\t\t\n\t\t\t\t<data>\n\t\t\t\t\t<mode>A01</mode>\n\t\t\t\t\t<tmEf>2021-07-28 00:00</tmEf>\n\t\t\t\t\t<wf>구름많음</wf>\n\t\t\t\t\t<tmn>25</tmn>\n\t\t\t\t\t<tmx>30</tmx>\n\t\t\t\t\t<reliability></reliability>\n\t\t\t\t\t<rnSt>40</rnSt>\n\t\t\t\t</data>\n\n\t\t\t\t\n\t\t\t\t<data>\n\t\t\t\t\t<mode>A01</mode>\n\t\t\t\t\t<tmEf>2021-07-29 00:00</tmEf>\n\t\t\t\t\t<wf>구름많음</wf>\n\t\t\t\t\t<tmn>25</tmn>\n\t\t\t\t\t<tmx>30</tmx>\n\t\t\t\t\t<reliability></reliability>\n\t\t\t\t\t<rnSt>40</rnSt>\n\t\t\t\t</data>\n\n\n\t\t</location>\n\n\t\t<location wl_ver=\"3\">\n\t\t\t\t<province>제주도</province>\n\t\t\t\t<city>이어도</city>\n\t\t\t\t\n\t\t\t\t<data>\n\t\t\t\t\t<mode>A02</mode>\n\t\t\t\t\t<tmEf>2021-07-22 00:00</tmEf>\n\t\t\t\t\t<wf>구름많음</wf>\n\t\t\t\t\t<tmn>28</tmn>\n\t\t\t\t\t<tmx>29</tmx>\n\t\t\t\t\t<reliability></reliability>\n\t\t\t\t\t<rnSt>30</rnSt>\n\t\t\t\t</data>\n\n\t\t\t\t\n\t\t\t\t<data>\n\t\t\t\t\t<mode>A02</mode>\n\t\t\t\t\t<tmEf>2021-07-22 12:00</tmEf>\n\t\t\t\t\t<wf>구름많음</wf>\n\t\t\t\t\t<tmn>28</tmn>\n\t\t\t\t\t<tmx>29</tmx>\n\t\t\t\t\t<reliability></reliability>\n\t\t\t\t\t<rnSt>30</rnSt>\n\t\t\t\t</data>\n\n\t\t\t\t\n\t\t\t\t<data>\n\t\t\t\t\t<mode>A02</mode>\n\t\t\t\t\t<tmEf>2021-07-23 00:00</tmEf>\n\t\t\t\t\t<wf>구름많음</wf>\n\t\t\t\t\t<tmn>28</tmn>\n\t\t\t\t\t<tmx>29</tmx>\n\t\t\t\t\t<reliability></reliability>\n\t\t\t\t\t<rnSt>30</rnSt>\n\t\t\t\t</data>\n\n\t\t\t\t\n\t\t\t\t<data>\n\t\t\t\t\t<mode>A02</mode>\n\t\t\t\t\t<tmEf>2021-07-23 12:00</tmEf>\n\t\t\t\t\t<wf>구름많음</wf>\n\t\t\t\t\t<tmn>28</tmn>\n\t\t\t\t\t<tmx>29</tmx>\n\t\t\t\t\t<reliability></reliability>\n\t\t\t\t\t<rnSt>30</rnSt>\n\t\t\t\t</data>\n\n\t\t\t\t\n\t\t\t\t<data>\n\t\t\t\t\t<mode>A02</mode>\n\t\t\t\t\t<tmEf>2021-07-24 00:00</tmEf>\n\t\t\t\t\t<wf>구름많음</wf>\n\t\t\t\t\t<tmn>27</tmn>\n\t\t\t\t\t<tmx>28</tmx>\n\t\t\t\t\t<reliability></reliability>\n\t\t\t\t\t<rnSt>30</rnSt>\n\t\t\t\t</data>\n\n\t\t\t\t\n\t\t\t\t<data>\n\t\t\t\t\t<mode>A02</mode>\n\t\t\t\t\t<tmEf>2021-07-24 12:00</tmEf>\n\t\t\t\t\t<wf>구름많음</wf>\n\t\t\t\t\t<tmn>27</tmn>\n\t\t\t\t\t<tmx>28</tmx>\n\t\t\t\t\t<reliability></reliability>\n\t\t\t\t\t<rnSt>30</rnSt>\n\t\t\t\t</data>\n\n\t\t\t\t\n\t\t\t\t<data>\n\t\t\t\t\t<mode>A02</mode>\n\t\t\t\t\t<tmEf>2021-07-25 00:00</tmEf>\n\t\t\t\t\t<wf>구름많음</wf>\n\t\t\t\t\t<tmn>27</tmn>\n\t\t\t\t\t<tmx>28</tmx>\n\t\t\t\t\t<reliability></reliability>\n\t\t\t\t\t<rnSt>30</rnSt>\n\t\t\t\t</data>\n\n\t\t\t\t\n\t\t\t\t<data>\n\t\t\t\t\t<mode>A02</mode>\n\t\t\t\t\t<tmEf>2021-07-25 12:00</tmEf>\n\t\t\t\t\t<wf>흐림</wf>\n\t\t\t\t\t<tmn>27</tmn>\n\t\t\t\t\t<tmx>28</tmx>\n\t\t\t\t\t<reliability></reliability>\n\t\t\t\t\t<rnSt>40</rnSt>\n\t\t\t\t</data>\n\n\t\t\t\t\n\t\t\t\t<data>\n\t\t\t\t\t<mode>A02</mode>\n\t\t\t\t\t<tmEf>2021-07-26 00:00</tmEf>\n\t\t\t\t\t<wf>흐림</wf>\n\t\t\t\t\t<tmn>27</tmn>\n\t\t\t\t\t<tmx>28</tmx>\n\t\t\t\t\t<reliability></reliability>\n\t\t\t\t\t<rnSt>40</rnSt>\n\t\t\t\t</data>\n\n\t\t\t\t\n\t\t\t\t<data>\n\t\t\t\t\t<mode>A02</mode>\n\t\t\t\t\t<tmEf>2021-07-26 12:00</tmEf>\n\t\t\t\t\t<wf>구름많음</wf>\n\t\t\t\t\t<tmn>27</tmn>\n\t\t\t\t\t<tmx>28</tmx>\n\t\t\t\t\t<reliability></reliability>\n\t\t\t\t\t<rnSt>40</rnSt>\n\t\t\t\t</data>\n\n\t\t\t\t\n\t\t\t\t<data>\n\t\t\t\t\t<mode>A01</mode>\n\t\t\t\t\t<tmEf>2021-07-27 00:00</tmEf>\n\t\t\t\t\t<wf>흐림</wf>\n\t\t\t\t\t<tmn>27</tmn>\n\t\t\t\t\t<tmx>28</tmx>\n\t\t\t\t\t<reliability></reliability>\n\t\t\t\t\t<rnSt>40</rnSt>\n\t\t\t\t</data>\n\n\t\t\t\t\n\t\t\t\t<data>\n\t\t\t\t\t<mode>A01</mode>\n\t\t\t\t\t<tmEf>2021-07-28 00:00</tmEf>\n\t\t\t\t\t<wf>구름많음</wf>\n\t\t\t\t\t<tmn>27</tmn>\n\t\t\t\t\t<tmx>28</tmx>\n\t\t\t\t\t<reliability></reliability>\n\t\t\t\t\t<rnSt>40</rnSt>\n\t\t\t\t</data>\n\n\t\t\t\t\n\t\t\t\t<data>\n\t\t\t\t\t<mode>A01</mode>\n\t\t\t\t\t<tmEf>2021-07-29 00:00</tmEf>\n\t\t\t\t\t<wf>구름많음</wf>\n\t\t\t\t\t<tmn>28</tmn>\n\t\t\t\t\t<tmx>29</tmx>\n\t\t\t\t\t<reliability></reliability>\n\t\t\t\t\t<rnSt>40</rnSt>\n\t\t\t\t</data>\n\n\n\t\t</location>\n\n\t\t<location wl_ver=\"3\">\n\t\t\t\t<province>제주도</province>\n\t\t\t\t<city>추자도</city>\n\t\t\t\t\n\t\t\t\t<data>\n\t\t\t\t\t<mode>A02</mode>\n\t\t\t\t\t<tmEf>2021-07-22 00:00</tmEf>\n\t\t\t\t\t<wf>구름많음</wf>\n\t\t\t\t\t<tmn>25</tmn>\n\t\t\t\t\t<tmx>30</tmx>\n\t\t\t\t\t<reliability></reliability>\n\t\t\t\t\t<rnSt>30</rnSt>\n\t\t\t\t</data>\n\n\t\t\t\t\n\t\t\t\t<data>\n\t\t\t\t\t<mode>A02</mode>\n\t\t\t\t\t<tmEf>2021-07-22 12:00</tmEf>\n\t\t\t\t\t<wf>구름많음</wf>\n\t\t\t\t\t<tmn>25</tmn>\n\t\t\t\t\t<tmx>30</tmx>\n\t\t\t\t\t<reliability></reliability>\n\t\t\t\t\t<rnSt>30</rnSt>\n\t\t\t\t</data>\n\n\t\t\t\t\n\t\t\t\t<data>\n\t\t\t\t\t<mode>A02</mode>\n\t\t\t\t\t<tmEf>2021-07-23 00:00</tmEf>\n\t\t\t\t\t<wf>구름많음</wf>\n\t\t\t\t\t<tmn>25</tmn>\n\t\t\t\t\t<tmx>29</tmx>\n\t\t\t\t\t<reliability></reliability>\n\t\t\t\t\t<rnSt>30</rnSt>\n\t\t\t\t</data>\n\n\t\t\t\t\n\t\t\t\t<data>\n\t\t\t\t\t<mode>A02</mode>\n\t\t\t\t\t<tmEf>2021-07-23 12:00</tmEf>\n\t\t\t\t\t<wf>구름많음</wf>\n\t\t\t\t\t<tmn>25</tmn>\n\t\t\t\t\t<tmx>29</tmx>\n\t\t\t\t\t<reliability></reliability>\n\t\t\t\t\t<rnSt>30</rnSt>\n\t\t\t\t</data>\n\n\t\t\t\t\n\t\t\t\t<data>\n\t\t\t\t\t<mode>A02</mode>\n\t\t\t\t\t<tmEf>2021-07-24 00:00</tmEf>\n\t\t\t\t\t<wf>구름많음</wf>\n\t\t\t\t\t<tmn>25</tmn>\n\t\t\t\t\t<tmx>28</tmx>\n\t\t\t\t\t<reliability></reliability>\n\t\t\t\t\t<rnSt>30</rnSt>\n\t\t\t\t</data>\n\n\t\t\t\t\n\t\t\t\t<data>\n\t\t\t\t\t<mode>A02</mode>\n\t\t\t\t\t<tmEf>2021-07-24 12:00</tmEf>\n\t\t\t\t\t<wf>구름많음</wf>\n\t\t\t\t\t<tmn>25</tmn>\n\t\t\t\t\t<tmx>28</tmx>\n\t\t\t\t\t<reliability></reliability>\n\t\t\t\t\t<rnSt>30</rnSt>\n\t\t\t\t</data>\n\n\t\t\t\t\n\t\t\t\t<data>\n\t\t\t\t\t<mode>A02</mode>\n\t\t\t\t\t<tmEf>2021-07-25 00:00</tmEf>\n\t\t\t\t\t<wf>구름많음</wf>\n\t\t\t\t\t<tmn>25</tmn>\n\t\t\t\t\t<tmx>28</tmx>\n\t\t\t\t\t<reliability></reliability>\n\t\t\t\t\t<rnSt>30</rnSt>\n\t\t\t\t</data>\n\n\t\t\t\t\n\t\t\t\t<data>\n\t\t\t\t\t<mode>A02</mode>\n\t\t\t\t\t<tmEf>2021-07-25 12:00</tmEf>\n\t\t\t\t\t<wf>흐림</wf>\n\t\t\t\t\t<tmn>25</tmn>\n\t\t\t\t\t<tmx>28</tmx>\n\t\t\t\t\t<reliability></reliability>\n\t\t\t\t\t<rnSt>40</rnSt>\n\t\t\t\t</data>\n\n\t\t\t\t\n\t\t\t\t<data>\n\t\t\t\t\t<mode>A02</mode>\n\t\t\t\t\t<tmEf>2021-07-26 00:00</tmEf>\n\t\t\t\t\t<wf>흐림</wf>\n\t\t\t\t\t<tmn>25</tmn>\n\t\t\t\t\t<tmx>28</tmx>\n\t\t\t\t\t<reliability></reliability>\n\t\t\t\t\t<rnSt>40</rnSt>\n\t\t\t\t</data>\n\n\t\t\t\t\n\t\t\t\t<data>\n\t\t\t\t\t<mode>A02</mode>\n\t\t\t\t\t<tmEf>2021-07-26 12:00</tmEf>\n\t\t\t\t\t<wf>구름많음</wf>\n\t\t\t\t\t<tmn>25</tmn>\n\t\t\t\t\t<tmx>28</tmx>\n\t\t\t\t\t<reliability></reliability>\n\t\t\t\t\t<rnSt>40</rnSt>\n\t\t\t\t</data>\n\n\t\t\t\t\n\t\t\t\t<data>\n\t\t\t\t\t<mode>A01</mode>\n\t\t\t\t\t<tmEf>2021-07-27 00:00</tmEf>\n\t\t\t\t\t<wf>흐림</wf>\n\t\t\t\t\t<tmn>25</tmn>\n\t\t\t\t\t<tmx>28</tmx>\n\t\t\t\t\t<reliability></reliability>\n\t\t\t\t\t<rnSt>40</rnSt>\n\t\t\t\t</data>\n\n\t\t\t\t\n\t\t\t\t<data>\n\t\t\t\t\t<mode>A01</mode>\n\t\t\t\t\t<tmEf>2021-07-28 00:00</tmEf>\n\t\t\t\t\t<wf>구름많음</wf>\n\t\t\t\t\t<tmn>25</tmn>\n\t\t\t\t\t<tmx>30</tmx>\n\t\t\t\t\t<reliability></reliability>\n\t\t\t\t\t<rnSt>40</rnSt>\n\t\t\t\t</data>\n\n\t\t\t\t\n\t\t\t\t<data>\n\t\t\t\t\t<mode>A01</mode>\n\t\t\t\t\t<tmEf>2021-07-29 00:00</tmEf>\n\t\t\t\t\t<wf>구름많음</wf>\n\t\t\t\t\t<tmn>26</tmn>\n\t\t\t\t\t<tmx>31</tmx>\n\t\t\t\t\t<reliability></reliability>\n\t\t\t\t\t<rnSt>40</rnSt>\n\t\t\t\t</data>\n\n\n\t\t</location>\n\n\n\t\n\n\t</body>\n</description>\n</item>\n</channel>\n</rss>\t\n"
     ]
    }
   ],
   "source": [
    "text=res.decode('utf-8')\n",
    "print(text)"
   ]
  },
  {
   "cell_type": "code",
   "execution_count": null,
   "metadata": {},
   "outputs": [],
   "source": []
  }
 ]
}