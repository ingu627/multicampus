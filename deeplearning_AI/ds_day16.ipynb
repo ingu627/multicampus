{
 "cells": [
  {
   "cell_type": "code",
   "execution_count": 1,
   "source": [
    "'''\r\n",
    "추천시스템 : 컨텐츠 기반 추천시스템, 협업필터링 추천시스템 \r\n",
    "=> ~2010년대까지 인기가 있었음\r\n",
    "=> 잠재요인 기반 필터링 추천 시스템(행렬 분해)이 등장하면서 인기가 줄어듦\r\n",
    "\r\n",
    "협업 필터링 = KNN(K최근접이웃) + 잡재 요인 기법\r\n",
    "KNN(K최근접 이웃) = 사용자 기반 + 아이템 기반 기법\r\n",
    "\r\n",
    "Collaborative Filtering(협업필터링, CF)\r\n",
    "\r\n",
    "4*5 행렬 = 4*10 10*5 => 행렬분해\r\n",
    "\r\n",
    "블랙위도우(1) = 장르*0.2 + 배우*0 + 시간여유*0.05 +...+ 돈*0.1\r\n",
    "람보(0) = 장르*0.2+배우*0.1+시간여유*0.05 +...+돈*0.1\r\n",
    "\r\n",
    "컨텐츠 기반 필터링 추천시스템 : 재밌게 본 영화와 컨텐츠가 비슷한 영화를 추천\r\n",
    "\r\n",
    "사용자 기반 협업필터링 \r\n",
    "우주소녀가 부여한 평점과 가장 유사한 사용자를 검색\r\n",
    "\r\n",
    "'''"
   ],
   "outputs": [
    {
     "output_type": "execute_result",
     "data": {
      "text/plain": [
       "'\\n추천시스템 : 컨텐츠 기반 추천시스템, 협업필터링 추천시스템 \\n=> ~2010년대까지 인기가 있었음\\n=> 잠재요인 기반 필터링 추천 시스템(행렬 분해)이 등장하면서 인기가 줄어듦\\n\\n협업 필터링 = KNN(K최근접이웃) + 잡재 요인 기법\\nKNN(K최근접 이웃) = 사용자 기반 + 아이템 기반 기법\\n\\nCollaborative Filtering(협업필터링, CF)\\n\\n4*5 행렬 = 4*10 10*5 => 행렬분해\\n\\n블랙위도우(1) = 장르*0.2 + 배우*0 + 시간여유*0.05 +...+ 돈*0.1\\n람보(0) = 장르*0.2+배우*0.1+시간여유*0.05 +...+돈*0.1\\n\\n컨텐츠 기반 필터링 추천시스템 : 재밌게 본 영화와 컨텐츠가 비슷한 영화를 추천\\n\\n사용자 기반 협업필터링 \\n우주소녀가 부여한 평점과 가장 유사한 사용자를 검색\\n\\n'"
      ]
     },
     "metadata": {},
     "execution_count": 1
    }
   ],
   "metadata": {}
  },
  {
   "cell_type": "code",
   "execution_count": 2,
   "source": [
    "import pandas as pd \r\n",
    "import numpy as np"
   ],
   "outputs": [],
   "metadata": {}
  },
  {
   "cell_type": "code",
   "execution_count": 3,
   "source": [
    "critics={\r\n",
    "    'BTS':{'암수살인':5, '바울':4, '할로윈':1.5},\r\n",
    "    '손흥민':{'바울':5, '할로윈':2}, \r\n",
    "    '레드벨벳':{'암수살인':2.5, '바울':2, '할로윈':1},\r\n",
    "    '트와이스':{'암수살인':3.5, '바울':4, '할로윈':5}\r\n",
    "}\r\n"
   ],
   "outputs": [],
   "metadata": {}
  },
  {
   "cell_type": "code",
   "execution_count": 4,
   "source": [
    "critics['손흥민']\r\n",
    "critics.get('손흥민')\r\n",
    "critics['손흥민']['바울']\r\n",
    "critics.get('손흥민').get('바울') \r\n",
    "\r\n",
    "#손흥민이가 암수살일을 본다면 평점은?\r\n",
    "# 각각을 좌표를 찍어 가장 가까운 거리를 찾는다. \r\n",
    "# (x1,y1), (x2,y2) 간의 거리 = sqrt((x1-x2)**2 + (y1-y2)**2)"
   ],
   "outputs": [
    {
     "output_type": "execute_result",
     "data": {
      "text/plain": [
       "5"
      ]
     },
     "metadata": {},
     "execution_count": 4
    }
   ],
   "metadata": {}
  },
  {
   "cell_type": "code",
   "execution_count": 5,
   "source": [
    "from math import sqrt"
   ],
   "outputs": [],
   "metadata": {}
  },
  {
   "cell_type": "code",
   "execution_count": 6,
   "source": [
    "# 손흥민과 BTS사이의 거리\r\n",
    "sqrt(pow(5-4, 2)+pow(2- 1.5,2))"
   ],
   "outputs": [
    {
     "output_type": "execute_result",
     "data": {
      "text/plain": [
       "1.118033988749895"
      ]
     },
     "metadata": {},
     "execution_count": 6
    }
   ],
   "metadata": {}
  },
  {
   "cell_type": "code",
   "execution_count": 7,
   "source": [
    "def dist(i,j): # 두 점 i 와 j 사이의 거리를 구하는 함수\r\n",
    "    return sqrt(pow(i,2)+pow(j,2))\r\n",
    "\r\n",
    "# i에는 바울에 대한 손흥민 평점 - BTS평점\r\n",
    "# j에는 할로윈에 대한 손흥민 평점 - BTS평점"
   ],
   "outputs": [],
   "metadata": {}
  },
  {
   "cell_type": "code",
   "execution_count": 8,
   "source": [
    "v1=critics['손흥민']['바울'] - critics['BTS']['바울']\r\n",
    "v2=critics['손흥민']['할로윈'] - critics['BTS']['할로윈']\r\n",
    "dist(v1,v2)"
   ],
   "outputs": [
    {
     "output_type": "execute_result",
     "data": {
      "text/plain": [
       "1.118033988749895"
      ]
     },
     "metadata": {},
     "execution_count": 8
    }
   ],
   "metadata": {}
  },
  {
   "cell_type": "code",
   "execution_count": 9,
   "source": [
    "for data in critics:\r\n",
    "    if data != '손흥민':\r\n",
    "        v1=critics['손흥민']['바울'] - critics[data]['바울']\r\n",
    "        v2=critics['손흥민']['할로윈'] - critics[data]['할로윈']\r\n",
    "        print(data, '와의 거리',dist(v1,v2))"
   ],
   "outputs": [
    {
     "output_type": "stream",
     "name": "stdout",
     "text": [
      "BTS 와의 거리 1.118033988749895\n",
      "레드벨벳 와의 거리 3.1622776601683795\n",
      "트와이스 와의 거리 3.1622776601683795\n"
     ]
    }
   ],
   "metadata": {}
  },
  {
   "cell_type": "code",
   "execution_count": 10,
   "source": [
    "critics['BTS'].keys()\r\n",
    "\r\n",
    "movies = critics['BTS'].keys() - critics['손흥민'].keys()\r\n",
    "[(k, critics['BTS'][k]) for k in movies ]\r\n"
   ],
   "outputs": [
    {
     "output_type": "execute_result",
     "data": {
      "text/plain": [
       "[('암수살인', 5)]"
      ]
     },
     "metadata": {},
     "execution_count": 10
    }
   ],
   "metadata": {}
  },
  {
   "cell_type": "code",
   "execution_count": 11,
   "source": [
    "for dt in critics['BTS']:\r\n",
    "    if dt not in critics['손흥민']:\r\n",
    "       print(dt, critics['BTS'][dt]) "
   ],
   "outputs": [
    {
     "output_type": "stream",
     "name": "stdout",
     "text": [
      "암수살인 5\n"
     ]
    }
   ],
   "metadata": {}
  },
  {
   "cell_type": "code",
   "execution_count": 12,
   "source": [
    "for key, value in critics['BTS'].items():\r\n",
    "    if key not in critics['손흥민']:\r\n",
    "        print(key, value)"
   ],
   "outputs": [
    {
     "output_type": "stream",
     "name": "stdout",
     "text": [
      "암수살인 5\n"
     ]
    }
   ],
   "metadata": {}
  },
  {
   "cell_type": "code",
   "execution_count": 13,
   "source": [
    "#유클리디안 거리 \r\n",
    "# (xi-yi)**2의 n집합의 루트"
   ],
   "outputs": [],
   "metadata": {}
  },
  {
   "cell_type": "code",
   "execution_count": 14,
   "source": [
    "critics = {\r\n",
    "\r\n",
    "\r\n",
    "'레드벨벳': {\r\n",
    "\r\n",
    "\r\n",
    "\r\n",
    "'택시운전사': 2.5,\r\n",
    "\r\n",
    "\r\n",
    "\r\n",
    "'겨울왕국': 3.5,\r\n",
    "\r\n",
    "\r\n",
    "\r\n",
    "'리빙라스베가스': 3.0,\r\n",
    "\r\n",
    "\r\n",
    "\r\n",
    "'넘버3': 3.5,\r\n",
    "\r\n",
    "\r\n",
    "\r\n",
    "'사랑과전쟁': 2.5,\r\n",
    "\r\n",
    "\r\n",
    "\r\n",
    "'세계대전': 3.0,\r\n",
    "\r\n",
    "\r\n",
    "\r\n",
    "},\r\n",
    "\r\n",
    "\r\n",
    "\r\n",
    "'BTS': {\r\n",
    "\r\n",
    "\r\n",
    "\r\n",
    "'택시운전사': 1.0,\r\n",
    "\r\n",
    "\r\n",
    "\r\n",
    "'겨울왕국': 4.5,\r\n",
    "\r\n",
    "\r\n",
    "\r\n",
    "'리빙라스베가스': 0.5,\r\n",
    "\r\n",
    "\r\n",
    "\r\n",
    "'넘버3': 1.5,\r\n",
    "\r\n",
    "\r\n",
    "\r\n",
    "'사랑과전쟁': 4.5,\r\n",
    "\r\n",
    "\r\n",
    "\r\n",
    "'세계대전': 5.0,\r\n",
    "\r\n",
    "\r\n",
    "\r\n",
    "},\r\n",
    "\r\n",
    "'블랙핑크': {\r\n",
    "\r\n",
    "'택시운전사': 3.0,\r\n",
    "\r\n",
    "'겨울왕국': 3.5,\r\n",
    "\r\n",
    "'리빙라스베가스': 1.5,\r\n",
    "\r\n",
    "'넘버3': 5.0,\r\n",
    "\r\n",
    "'세계대전': 3.0,\r\n",
    "\r\n",
    "'사랑과전쟁': 3.5,\r\n",
    "\r\n",
    "},\r\n",
    "\r\n",
    "'소녀시대': {\r\n",
    "\r\n",
    "'택시운전사': 2.5,\r\n",
    "\r\n",
    "'겨울왕국': 3.0,\r\n",
    "\r\n",
    "'넘버3': 3.5,\r\n",
    "\r\n",
    "'세계대전': 4.0,\r\n",
    "\r\n",
    "},\r\n",
    "\r\n",
    "'마마무': {\r\n",
    "\r\n",
    "'겨울왕국': 3.5,\r\n",
    "\r\n",
    "'리빙라스베가스': 3.0,\r\n",
    "\r\n",
    "'세계대전': 4.5,\r\n",
    "\r\n",
    "'넘버3': 4.0,\r\n",
    "'사랑과전쟁': 2.5,\r\n",
    "},\r\n",
    "'오마이걸': {\r\n",
    "'택시운전사': 3.0,\r\n",
    "'겨울왕국': 4.0,\r\n",
    "\r\n",
    "'리빙라스베가스': 2.0,\r\n",
    "'넘버3': 3.0,\r\n",
    "'세계대전': 3.5,\r\n",
    "'사랑과전쟁': 2.0,\r\n",
    "},\r\n",
    "\r\n",
    "\r\n",
    "'모모랜드': {\r\n",
    "            '택시운전사': 3.0,\r\n",
    "            '겨울왕국': 4.0,\r\n",
    "            '세계대전': 3.0,\r\n",
    "            '넘버3': 5.0,\r\n",
    "            '사랑과전쟁': 3.5,\r\n",
    "            },\r\n",
    "'우주소녀': {'겨울왕국': 4.5,\r\n",
    "             '사랑과전쟁': 1.0,\r\n",
    "            '넘버3': 4.0},\r\n",
    "            }\r\n"
   ],
   "outputs": [],
   "metadata": {}
  },
  {
   "cell_type": "code",
   "execution_count": null,
   "source": [
    "\r\n",
    "    # for문을 통해 딕셔너리를 for문을 돌리면 key값이 할당됩니다.\r\n",
    "    # 순서는 임의적이다.같은 순서를 보장할 수 없다.\r\n"
   ],
   "outputs": [],
   "metadata": {}
  },
  {
   "cell_type": "code",
   "execution_count": 15,
   "source": [
    "# 우주소녀에게 어떤 영향을 추천할까?\r\n",
    "\r\n",
    "\r\n",
    "# 우주소녀와 모모랜드 사이의 유클리디안 거리를 구해보자\r\n",
    "\r\n",
    "def dist(name1,name2):\r\n",
    "    sum=0\r\n",
    "    for i in critics[name1]: # i는 우주소녀가 본 영화제목 \r\n",
    "        if i in critics[name2]: #우주소녀가 본 영화(i)가 모모랜드가 본 영화목록에 있다면\r\n",
    "            sum+=pow(critics[name1][i] - critics[name2][i], 2)\r\n",
    "    return sqrt(sum)               "
   ],
   "outputs": [],
   "metadata": {}
  },
  {
   "cell_type": "code",
   "execution_count": 16,
   "source": [
    "dist('우주소녀', '모모랜드')"
   ],
   "outputs": [
    {
     "output_type": "execute_result",
     "data": {
      "text/plain": [
       "2.7386127875258306"
      ]
     },
     "metadata": {},
     "execution_count": 16
    }
   ],
   "metadata": {}
  },
  {
   "cell_type": "code",
   "execution_count": 17,
   "source": [
    "for i in critics:\r\n",
    "    print(dist('우주소녀', i))"
   ],
   "outputs": [
    {
     "output_type": "stream",
     "name": "stdout",
     "text": [
      "1.8708286933869707\n",
      "4.301162633521313\n",
      "2.8722813232690143\n",
      "1.5811388300841898\n",
      "1.8027756377319946\n",
      "1.5\n",
      "2.7386127875258306\n",
      "0.0\n"
     ]
    }
   ],
   "metadata": {}
  },
  {
   "cell_type": "code",
   "execution_count": 18,
   "source": [
    "def topN(name, n=2, distfunc=dist): #default가 n=2\r\n",
    "    m_dist=[]\r\n",
    "    for i in critics:\r\n",
    "        if name != i : #우주소녀를 뺀 나머지\r\n",
    "            m_dist.append((distfunc(name, i), i))\r\n",
    "    \r\n",
    "    m_dist.sort()\r\n",
    "    print(m_dist[:n])\r\n",
    "            \r\n",
    "\r\n",
    "    # return "
   ],
   "outputs": [],
   "metadata": {}
  },
  {
   "cell_type": "code",
   "execution_count": 19,
   "source": [
    "print(topN('우주소녀', 2)) # 우주소녀와 평점을 가장 비슷하게 준 n명 출력"
   ],
   "outputs": [
    {
     "output_type": "stream",
     "name": "stdout",
     "text": [
      "[(1.5, '오마이걸'), (1.5811388300841898, '소녀시대')]\n",
      "None\n"
     ]
    }
   ],
   "metadata": {}
  },
  {
   "cell_type": "code",
   "execution_count": null,
   "source": [
    "'''\r\n",
    "선형관계? 두 변수 사이의 직선적 관계를 의미\r\n",
    "독립변수의 값에 기울기를 곱한 다음 숫자 상수를 더한 값으로 종속변수 값을 표현\r\n",
    "ex) 키와 몸무게\r\n",
    "\r\n",
    "독립변수(x)의 값에 따라 종속변수(y)의 값이 결정됨\r\n",
    "점수=공부시간*10 + 20(기본점수)\r\n",
    "길동이는 5시간, 기본점수 20점\r\n",
    "10은 기울기, 20은 y절편\r\n",
    "\r\n",
    "y=x*10 + 20\r\n",
    "\r\n",
    "길동이 점수 = 5*10+20 = 70점\r\n",
    "\r\n",
    "변수 = 변할 수 있는 값 \r\n",
    "상수 = 정해진 값\r\n",
    "\r\n",
    "\r\n",
    "공분산 = 두 변수사이의 선형관계를 구한다.\r\n",
    "직사각형 면적의 합\r\n",
    "\r\n",
    "상관계수는 단위의 문제를 해결하기 위해 => 표준화\r\n",
    "\r\n",
    "pandas.corr(데이터프레임)\r\n",
    "corr() : 데이터프레임 구성하는 모든 열들 간의 상관계수행렬\r\n",
    "\r\n",
    "'''"
   ],
   "outputs": [],
   "metadata": {}
  },
  {
   "cell_type": "code",
   "execution_count": 25,
   "source": [
    "import seaborn as sns"
   ],
   "outputs": [],
   "metadata": {}
  },
  {
   "cell_type": "code",
   "execution_count": 26,
   "source": [
    "iris=sns.load_dataset('iris')"
   ],
   "outputs": [],
   "metadata": {}
  },
  {
   "cell_type": "code",
   "execution_count": 27,
   "source": [
    "iris.corr()"
   ],
   "outputs": [
    {
     "output_type": "execute_result",
     "data": {
      "text/plain": [
       "              sepal_length  sepal_width  petal_length  petal_width\n",
       "sepal_length      1.000000    -0.117570      0.871754     0.817941\n",
       "sepal_width      -0.117570     1.000000     -0.428440    -0.366126\n",
       "petal_length      0.871754    -0.428440      1.000000     0.962865\n",
       "petal_width       0.817941    -0.366126      0.962865     1.000000"
      ],
      "text/html": [
       "<div>\n",
       "<style scoped>\n",
       "    .dataframe tbody tr th:only-of-type {\n",
       "        vertical-align: middle;\n",
       "    }\n",
       "\n",
       "    .dataframe tbody tr th {\n",
       "        vertical-align: top;\n",
       "    }\n",
       "\n",
       "    .dataframe thead th {\n",
       "        text-align: right;\n",
       "    }\n",
       "</style>\n",
       "<table border=\"1\" class=\"dataframe\">\n",
       "  <thead>\n",
       "    <tr style=\"text-align: right;\">\n",
       "      <th></th>\n",
       "      <th>sepal_length</th>\n",
       "      <th>sepal_width</th>\n",
       "      <th>petal_length</th>\n",
       "      <th>petal_width</th>\n",
       "    </tr>\n",
       "  </thead>\n",
       "  <tbody>\n",
       "    <tr>\n",
       "      <th>sepal_length</th>\n",
       "      <td>1.000000</td>\n",
       "      <td>-0.117570</td>\n",
       "      <td>0.871754</td>\n",
       "      <td>0.817941</td>\n",
       "    </tr>\n",
       "    <tr>\n",
       "      <th>sepal_width</th>\n",
       "      <td>-0.117570</td>\n",
       "      <td>1.000000</td>\n",
       "      <td>-0.428440</td>\n",
       "      <td>-0.366126</td>\n",
       "    </tr>\n",
       "    <tr>\n",
       "      <th>petal_length</th>\n",
       "      <td>0.871754</td>\n",
       "      <td>-0.428440</td>\n",
       "      <td>1.000000</td>\n",
       "      <td>0.962865</td>\n",
       "    </tr>\n",
       "    <tr>\n",
       "      <th>petal_width</th>\n",
       "      <td>0.817941</td>\n",
       "      <td>-0.366126</td>\n",
       "      <td>0.962865</td>\n",
       "      <td>1.000000</td>\n",
       "    </tr>\n",
       "  </tbody>\n",
       "</table>\n",
       "</div>"
      ]
     },
     "metadata": {},
     "execution_count": 27
    }
   ],
   "metadata": {}
  }
 ],
 "metadata": {
  "orig_nbformat": 4,
  "language_info": {
   "name": "python",
   "version": "3.8.8",
   "mimetype": "text/x-python",
   "codemirror_mode": {
    "name": "ipython",
    "version": 3
   },
   "pygments_lexer": "ipython3",
   "nbconvert_exporter": "python",
   "file_extension": ".py"
  },
  "kernelspec": {
   "name": "python3",
   "display_name": "Python 3.8.8 64-bit ('base': conda)"
  },
  "interpreter": {
   "hash": "01612b57d529331fccfbf5f7721e88005b4682ef99b242f62a508f06b6f08c6a"
  }
 },
 "nbformat": 4,
 "nbformat_minor": 2
}