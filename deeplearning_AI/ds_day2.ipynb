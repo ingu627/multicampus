{
 "metadata": {
  "language_info": {
   "codemirror_mode": {
    "name": "ipython",
    "version": 3
   },
   "file_extension": ".py",
   "mimetype": "text/x-python",
   "name": "python",
   "nbconvert_exporter": "python",
   "pygments_lexer": "ipython3",
   "version": "3.8.5"
  },
  "orig_nbformat": 4,
  "kernelspec": {
   "name": "python3",
   "display_name": "Python 3.8.5 64-bit ('base': conda)"
  },
  "interpreter": {
   "hash": "b3ba2566441a7c06988d0923437866b63cedc61552a5af99d1f4fb67d367b25f"
  }
 },
 "nbformat": 4,
 "nbformat_minor": 2,
 "cells": [
  {
   "cell_type": "code",
   "execution_count": 8,
   "source": [
    "# 머신러닝 형태 : \r\n",
    "# 교사(지도)\r\n",
    "# 비교사(비지도)\r\n",
    "# 강화학습\r\n"
   ],
   "outputs": [],
   "metadata": {}
  },
  {
   "cell_type": "code",
   "execution_count": 3,
   "source": [
    "import urllib.request as req\r\n",
    "from bs4 import BeautifulSoup"
   ],
   "outputs": [],
   "metadata": {}
  },
  {
   "cell_type": "code",
   "execution_count": 4,
   "source": [
    "url = \"http://www.kma.go.kr/weather/forecast/mid-term-rss3.jsp\"\r\n",
    "res=req.urlopen(url)\r\n",
    "soup=BeautifulSoup(res, 'html.parser') # parser는 보기좋게 만들어줌\r\n",
    "#BeautifulSoup은 html, xml문서를 분석하는 도구\r\n",
    "#분석가능한 형태의 문서객체 = BeautifulSoup(xml(html)문서, 문서분석기)\r\n",
    "\r\n",
    "# 쉽게 말하면, \r\n",
    "# 뷰티풀숩: 웹서버에서 가져온 웹문서를 우리가 분석할 수 있도록 분석 가능한 형태의 문서 객체로 변환해주는 도구 \r\n",
    "\r\n",
    "#웹문서는 태그가 쌍으로 이루어져 있음 tag=<>\r\n",
    "# <title> 문서 전체의 제목이 담김\r\n",
    "\r\n",
    "\r\n",
    "# 붕어빵객체=붕어빵 기계(반죽, 단팥, 크림...) #붕어빵 기계가 클래스. 클래스에 ()를 붙이면 객체가 나온다. ()는 붕어빵을 굽는 과정을 수행하는 역할"
   ],
   "outputs": [],
   "metadata": {}
  },
  {
   "cell_type": "code",
   "execution_count": 11,
   "source": [
    "soup #분석 가능한 형태의 문석 객체\r\n",
    "soup.find('title')\r\n",
    "soup.find('title').string"
   ],
   "outputs": [
    {
     "output_type": "execute_result",
     "data": {
      "text/plain": [
       "'기상청 육상 중기예보'"
      ]
     },
     "metadata": {},
     "execution_count": 11
    }
   ],
   "metadata": {}
  },
  {
   "cell_type": "code",
   "execution_count": 14,
   "source": [
    "wf=soup.find('wf').string\r\n",
    "#여기에다가 정규표현식 작성(한글만..숫자만..)\r\n",
    "wf"
   ],
   "outputs": [
    {
     "output_type": "execute_result",
     "data": {
      "text/plain": [
       "'○ (하늘상태) 전국이 가끔 구름많겠습니다.<br />○ (기온) 이번 예보기간 아침 기온은 23~26도, 낮 기온은 30~36도로 어제(19일, 아침최저기온 23~26도, 낮최고기온 30~33도)와 비슷하거나 높겠습니다.<br />○ (주말전망) 24일(토)과 25일(일)은 전국이 가끔 구름많겠습니다. 주말 동안 아침 기온은 23~26도, 낮 기온은 32~36도가 되겠습니다.<br /> * 이번 예보기간 동안 우리나라는 북태평양고기압 영향을 받으면서 전국 대부분 지역에서 낮최고기온이 33도 이상, 아침최저기온이 25도 이상으로 오르겠고,  <br />   특히, 이번 주에는 동풍의 영향을 받는 서쪽 일부 지역에서 낮최고기온이 38도 이상 올라가면서 매우 무덥겠으니 건강관리에 각별히 유의하기 바랍니다. <br /> * 또한, 북태평양고기압 위치에 따라서 낮최고기온의 변동성이 크겠으니, 앞으로 발표되는 기상정보를 참고하기 바랍니다.'"
      ]
     },
     "metadata": {},
     "execution_count": 14
    }
   ],
   "metadata": {}
  },
  {
   "cell_type": "code",
   "execution_count": 15,
   "source": [
    "html=\"\"\"\r\n",
    "<html>\r\n",
    "<body>\r\n",
    "<h1>스크레핑</h1>\r\n",
    "<p>웹 페이지 분석</p>\r\n",
    "<p>원하는 부분 추출</p>\r\n",
    "</body>\r\n",
    "</html>\r\n",
    "\"\"\"\r\n"
   ],
   "outputs": [],
   "metadata": {}
  },
  {
   "cell_type": "code",
   "execution_count": 19,
   "source": [
    "soup=BeautifulSoup(html, 'html.parser')"
   ],
   "outputs": [],
   "metadata": {}
  },
  {
   "cell_type": "code",
   "execution_count": 27,
   "source": [
    "soup.find('h1')\r\n",
    "soup.html.body.h1 #디자인 패턴\r\n",
    "soup.find_all('p')\r\n",
    "soup.find_all('p')[1]\r\n",
    "soup.find_all('p')[1].string\r\n",
    "\r\n",
    "# body가 부모이고 그 아래가 자식들(이들은 형제들이다.)"
   ],
   "outputs": [
    {
     "output_type": "execute_result",
     "data": {
      "text/plain": [
       "'원하는 부분 추출'"
      ]
     },
     "metadata": {},
     "execution_count": 27
    }
   ],
   "metadata": {}
  },
  {
   "cell_type": "code",
   "execution_count": 30,
   "source": [
    "sib1=soup.html.body.h1\r\n",
    "sib1"
   ],
   "outputs": [
    {
     "output_type": "execute_result",
     "data": {
      "text/plain": [
       "<h1>스크레핑</h1>"
      ]
     },
     "metadata": {},
     "execution_count": 30
    }
   ],
   "metadata": {}
  },
  {
   "cell_type": "code",
   "execution_count": 32,
   "source": [
    "sib1.next_sibling # '\\n': 형제가 줄바꿈 문자이다.-> 즉, 형제가 없음\r\n",
    "# next_sibling은 그 다음 문자가 나오게 함"
   ],
   "outputs": [
    {
     "output_type": "execute_result",
     "data": {
      "text/plain": [
       "'\\n'"
      ]
     },
     "metadata": {},
     "execution_count": 32
    }
   ],
   "metadata": {}
  },
  {
   "cell_type": "code",
   "execution_count": 39,
   "source": [
    "sib2=soup.html.body.p\r\n",
    "sib2"
   ],
   "outputs": [
    {
     "output_type": "execute_result",
     "data": {
      "text/plain": [
       "<p>웹 페이지 분석</p>"
      ]
     },
     "metadata": {},
     "execution_count": 39
    }
   ],
   "metadata": {}
  },
  {
   "cell_type": "code",
   "execution_count": 42,
   "source": [
    "sib2.next_sibling.next_sibling"
   ],
   "outputs": [
    {
     "output_type": "execute_result",
     "data": {
      "text/plain": [
       "<p>원하는 부분 추출</p>"
      ]
     },
     "metadata": {},
     "execution_count": 42
    }
   ],
   "metadata": {}
  },
  {
   "cell_type": "code",
   "execution_count": 44,
   "source": [
    "html=\"\"\"<html><body><h1>스크레핑</h1><p>웹 페이지 분석</p><p>원하는 부분 추출</p></body></html>\"\"\""
   ],
   "outputs": [],
   "metadata": {}
  },
  {
   "cell_type": "code",
   "execution_count": 46,
   "source": [
    "soup=BeautifulSoup(html,'html.parser')\r\n",
    "soup"
   ],
   "outputs": [
    {
     "output_type": "execute_result",
     "data": {
      "text/plain": [
       "<html><body><h1>스크레핑</h1><p>웹 페이지 분석</p><p>원하는 부분 추출</p></body></html>"
      ]
     },
     "metadata": {},
     "execution_count": 46
    }
   ],
   "metadata": {}
  },
  {
   "cell_type": "code",
   "execution_count": 49,
   "source": [
    "soup.html.body.p.next_sibling #다음 태그\r\n",
    "soup.html.body.p.next_sibling.next_sibling #그다음은 아무것도 없기 때문에 안나옴"
   ],
   "outputs": [],
   "metadata": {}
  },
  {
   "cell_type": "code",
   "execution_count": 51,
   "source": [
    "html=\"\"\"\r\n",
    "<html>\r\n",
    "<body>\r\n",
    "<h1>스크레핑</h1>\r\n",
    "<p>웹 페이지 분석</p>\r\n",
    "<p>원하는 부분 추출</p>\r\n",
    "</body>\r\n",
    "</html>\r\n",
    "\"\"\""
   ],
   "outputs": [],
   "metadata": {}
  },
  {
   "cell_type": "code",
   "execution_count": 59,
   "source": [
    "# body 태그 내부의 같은 수준(레벨)으로 존재하는 태그들이 형제라고 할 수 있음\r\n",
    "# 줄바꿈 문자도 형제라고 볼 수 있음\r\n",
    "\r\n",
    "soup = BeautifulSoup(html, 'html.parser')\r\n",
    "soup.html.body.p  # 웹페이지 분석\r\n",
    "soup.html.body.p.next_sibling\r\n",
    "soup.html.body.p.next_sibling.next_sibling\r\n"
   ],
   "outputs": [
    {
     "output_type": "execute_result",
     "data": {
      "text/plain": [
       "<p>원하는 부분 추출</p>"
      ]
     },
     "metadata": {},
     "execution_count": 59
    }
   ],
   "metadata": {}
  },
  {
   "cell_type": "code",
   "execution_count": 60,
   "source": [
    "html3=\"\"\"\r\n",
    "<html><body>\r\n",
    "<ul>\r\n",
    "<li><a href=\"http://www.naver.com\">naver</a></li>\r\n",
    "<li><a href=\"http://www.daum.net\">daum</a></li>\r\n",
    "</ul>\r\n",
    "</body></html>\r\n",
    "\"\"\""
   ],
   "outputs": [],
   "metadata": {}
  },
  {
   "cell_type": "code",
   "execution_count": 66,
   "source": [
    "soup=BeautifulSoup(html3, 'html.parser')"
   ],
   "outputs": [],
   "metadata": {}
  },
  {
   "cell_type": "code",
   "execution_count": 67,
   "source": [
    "html3 #문자열 그대로 저장된 변수"
   ],
   "outputs": [
    {
     "output_type": "execute_result",
     "data": {
      "text/plain": [
       "'\\n<html><body>\\n<ul>\\n<li><a href=\"http://www.naver.com\">naver</a></li>\\n<li><a href=\"http://www.daum.net\">daum</a></li>\\n</ul>\\n</body></html>\\n'"
      ]
     },
     "metadata": {},
     "execution_count": 67
    }
   ],
   "metadata": {}
  },
  {
   "cell_type": "code",
   "execution_count": 68,
   "source": [
    "soup # 분석할 수 있는 문서 객체\r\n",
    "\r\n",
    "# a는 네이버라는 링크를 클릭하면 그 주소로 간다는 의미\r\n",
    "# ul 태크 때문에 (unordered list) 점이 생김\r\n",
    "# a 태그에 href라는 속성으로 되어 있다. "
   ],
   "outputs": [
    {
     "output_type": "execute_result",
     "data": {
      "text/plain": [
       "\n",
       "<html><body>\n",
       "<ul>\n",
       "<li><a href=\"http://www.naver.com\">naver</a></li>\n",
       "<li><a href=\"http://www.daum.net\">daum</a></li>\n",
       "</ul>\n",
       "</body></html>"
      ]
     },
     "metadata": {},
     "execution_count": 68
    }
   ],
   "metadata": {}
  },
  {
   "cell_type": "code",
   "execution_count": 71,
   "source": [
    "soup.find('a')\r\n",
    "links=soup.find_all('a')"
   ],
   "outputs": [],
   "metadata": {}
  },
  {
   "cell_type": "code",
   "execution_count": 77,
   "source": [
    "for i in links:\r\n",
    "    print(i)"
   ],
   "outputs": [
    {
     "output_type": "stream",
     "name": "stdout",
     "text": [
      "<a href=\"http://www.naver.com\">naver</a>\n",
      "<a href=\"http://www.daum.net\">daum</a>\n"
     ]
    }
   ],
   "metadata": {}
  },
  {
   "cell_type": "code",
   "execution_count": 82,
   "source": [
    "# 특정 속성명에 해당되는 값을 추출하고자 하는 경우\r\n",
    "# print(i.attrs['속성명'])\r\n",
    "\r\n",
    "\r\n",
    "for i in links:\r\n",
    "    # print(i.attrs) #딕셔너리로 옴\r\n",
    "    # print(i.attrs['href']) # values값들을 가져옴\r\n",
    "    print(i.string)"
   ],
   "outputs": [
    {
     "output_type": "stream",
     "name": "stdout",
     "text": [
      "naver\n",
      "daum\n"
     ]
    }
   ],
   "metadata": {}
  },
  {
   "cell_type": "code",
   "execution_count": 108,
   "source": [
    "html4=\"\"\"\r\n",
    "<p><a href=\"aaa.html\" name=\"kkk\">aaa page</a></p>\r\n",
    "\"\"\"\r\n",
    "#aaa.html 참조하여 출력\r\n",
    "#kkk 출력\r\n",
    "# aaa page 출력\r\n",
    "soup=BeautifulSoup(html4, 'html.parser')\r\n",
    "links=soup.find_all('a')\r\n",
    "for i in links:\r\n",
    "    print(i.attrs)\r\n",
    "print(i.attrs['href'])\r\n",
    "\r\n",
    "print(i.attrs['name'])\r\n",
    "print(i.string)\r\n"
   ],
   "outputs": [
    {
     "output_type": "stream",
     "name": "stdout",
     "text": [
      "{'href': 'aaa.html', 'name': 'kkk'}\n",
      "aaa.html\n",
      "kkk\n",
      "aaa page\n"
     ]
    }
   ],
   "metadata": {}
  },
  {
   "cell_type": "code",
   "execution_count": 109,
   "source": [
    "url=\"http://www.weather.go.kr/weather/forecast/mid-term-rss3.jsp\"\r\n",
    "res=req.urlopen(url)\r\n",
    "print(res) #res는 페이지 내용이 담겨있는 포장지(봉투)\r\n",
    "soup=BeautifulSoup(res, \"html.parser\")\r\n",
    "print(soup)"
   ],
   "outputs": [
    {
     "output_type": "stream",
     "name": "stdout",
     "text": [
      "data>\n",
      "</location>\n",
      "<location wl_ver=\"3\">\n",
      "<province>부산ㆍ울산ㆍ경상남도</province>\n",
      "<city>거창</city>\n",
      "<data>\n",
      "<mode>A02</mode>\n",
      "<tmef>2021-07-23 00:00</tmef>\n",
      "<wf>구름많음</wf>\n",
      "<tmn>22</tmn>\n",
      "<tmx>33</tmx>\n",
      "<reliability></reliability>\n",
      "<rnst>30</rnst>\n",
      "</data>\n",
      "<data>\n",
      "<mode>A02</mode>\n",
      "<tmef>2021-07-23 12:00</tmef>\n",
      "<wf>맑음</wf>\n",
      "<tmn>22</tmn>\n",
      "<tmx>33</tmx>\n",
      "<reliability></reliability>\n",
      "<rnst>0</rnst>\n",
      "</data>\n",
      "<data>\n",
      "<mode>A02</mode>\n",
      "<tmef>2021-07-24 00:00</tmef>\n",
      "<wf>구름많음</wf>\n",
      "<tmn>22</tmn>\n",
      "<tmx>33</tmx>\n",
      "<reliability></reliability>\n",
      "<rnst>30</rnst>\n",
      "</data>\n",
      "<data>\n",
      "<mode>A02</mode>\n",
      "<tmef>2021-07-24 12:00</tmef>\n",
      "<wf>구름많음</wf>\n",
      "<tmn>22</tmn>\n",
      "<tmx>33</tmx>\n",
      "<reliability></reliability>\n",
      "<rnst>30</rnst>\n",
      "</data>\n",
      "<data>\n",
      "<mode>A02</mode>\n",
      "<tmef>2021-07-25 00:00</tmef>\n",
      "<wf>구름많음</wf>\n",
      "<tmn>22</tmn>\n",
      "<tmx>33</tmx>\n",
      "<reliability></reliability>\n",
      "<rnst>30</rnst>\n",
      "</data>\n",
      "<data>\n",
      "<mode>A02</mode>\n",
      "<tmef>2021-07-25 12:00</tmef>\n",
      "<wf>맑음</wf>\n",
      "<tmn>22</tmn>\n",
      "<tmx>33</tmx>\n",
      "<reliability></reliability>\n",
      "<rnst>10</rnst>\n",
      "</data>\n",
      "<data>\n",
      "<mode>A02</mode>\n",
      "<tmef>2021-07-26 00:00</tmef>\n",
      "<wf>맑음</wf>\n",
      "<tmn>22</tmn>\n",
      "<tmx>32</tmx>\n",
      "<reliability></reliability>\n",
      "<rnst>20</rnst>\n",
      "</data>\n",
      "<data>\n",
      "<mode>A02</mode>\n",
      "<tmef>2021-07-26 12:00</tmef>\n",
      "<wf>맑음</wf>\n",
      "<tmn>22</tmn>\n",
      "<tmx>32</tmx>\n",
      "<reliability></reliability>\n",
      "<rnst>20</rnst>\n",
      "</data>\n",
      "<data>\n",
      "<mode>A02</mode>\n",
      "<tmef>2021-07-27 00:00</tmef>\n",
      "<wf>맑음</wf>\n",
      "<tmn>22</tmn>\n",
      "<tmx>32</tmx>\n",
      "<reliability></reliability>\n",
      "<rnst>20</rnst>\n",
      "</data>\n",
      "<data>\n",
      "<mode>A02</mode>\n",
      "<tmef>2021-07-27 12:00</tmef>\n",
      "<wf>맑음</wf>\n",
      "<tmn>22</tmn>\n",
      "<tmx>32</tmx>\n",
      "<reliability></reliability>\n",
      "<rnst>20</rnst>\n",
      "</data>\n",
      "<data>\n",
      "<mode>A01</mode>\n",
      "<tmef>2021-07-28 00:00</tmef>\n",
      "<wf>맑음</wf>\n",
      "<tmn>22</tmn>\n",
      "<tmx>32</tmx>\n",
      "<reliability></reliability>\n",
      "<rnst>20</rnst>\n",
      "</data>\n",
      "<data>\n",
      "<mode>A01</mode>\n",
      "<tmef>2021-07-29 00:00</tmef>\n",
      "<wf>구름많음</wf>\n",
      "<tmn>22</tmn>\n",
      "<tmx>31</tmx>\n",
      "<reliability></reliability>\n",
      "<rnst>30</rnst>\n",
      "</data>\n",
      "<data>\n",
      "<mode>A01</mode>\n",
      "<tmef>2021-07-30 00:00</tmef>\n",
      "<wf>구름많음</wf>\n",
      "<tmn>23</tmn>\n",
      "<tmx>31</tmx>\n",
      "<reliability></reliability>\n",
      "<rnst>30</rnst>\n",
      "</data>\n",
      "</location>\n",
      "<location wl_ver=\"3\">\n",
      "<province>부산ㆍ울산ㆍ경상남도</province>\n",
      "<city>통영</city>\n",
      "<data>\n",
      "<mode>A02</mode>\n",
      "<tmef>2021-07-23 00:00</tmef>\n",
      "<wf>구름많음</wf>\n",
      "<tmn>25</tmn>\n",
      "<tmx>32</tmx>\n",
      "<reliability></reliability>\n",
      "<rnst>30</rnst>\n",
      "</data>\n",
      "<data>\n",
      "<mode>A02</mode>\n",
      "<tmef>2021-07-23 12:00</tmef>\n",
      "<wf>맑음</wf>\n",
      "<tmn>25</tmn>\n",
      "<tmx>32</tmx>\n",
      "<reliability></reliability>\n",
      "<rnst>0</rnst>\n",
      "</data>\n",
      "<data>\n",
      "<mode>A02</mode>\n",
      "<tmef>2021-07-24 00:00</tmef>\n",
      "<wf>구름많음</wf>\n",
      "<tmn>25</tmn>\n",
      "<tmx>32</tmx>\n",
      "<reliability></reliability>\n",
      "<rnst>30</rnst>\n",
      "</data>\n",
      "<data>\n",
      "<mode>A02</mode>\n",
      "<tmef>2021-07-24 12:00</tmef>\n",
      "<wf>구름많음</wf>\n",
      "<tmn>25</tmn>\n",
      "<tmx>32</tmx>\n",
      "<reliability></reliability>\n",
      "<rnst>30</rnst>\n",
      "</data>\n",
      "<data>\n",
      "<mode>A02</mode>\n",
      "<tmef>2021-07-25 00:00</tmef>\n",
      "<wf>구름많음</wf>\n",
      "<tmn>25</tmn>\n",
      "<tmx>32</tmx>\n",
      "<reliability></reliability>\n",
      "<rnst>30</rnst>\n",
      "</data>\n",
      "<data>\n",
      "<mode>A02</mode>\n",
      "<tmef>2021-07-25 12:00</tmef>\n",
      "<wf>맑음</wf>\n",
      "<tmn>25</tmn>\n",
      "<tmx>32</tmx>\n",
      "<reliability></reliability>\n",
      "<rnst>10</rnst>\n",
      "</data>\n",
      "<data>\n",
      "<mode>A02</mode>\n",
      "<tmef>2021-07-26 00:00</tmef>\n",
      "<wf>맑음</wf>\n",
      "<tmn>24</tmn>\n",
      "<tmx>31</tmx>\n",
      "<reliability></reliability>\n",
      "<rnst>20</rnst>\n",
      "</data>\n",
      "<data>\n",
      "<mode>A02</mode>\n",
      "<tmef>2021-07-26 12:00</tmef>\n",
      "<wf>맑음</wf>\n",
      "<tmn>24</tmn>\n",
      "<tmx>31</tmx>\n",
      "<reliability></reliability>\n",
      "<rnst>20</rnst>\n",
      "</data>\n",
      "<data>\n",
      "<mode>A02</mode>\n",
      "<tmef>2021-07-27 00:00</tmef>\n",
      "<wf>맑음</wf>\n",
      "<tmn>24</tmn>\n",
      "<tmx>30</tmx>\n",
      "<reliability></reliability>\n",
      "<rnst>20</rnst>\n",
      "</data>\n",
      "<data>\n",
      "<mode>A02</mode>\n",
      "<tmef>2021-07-27 12:00</tmef>\n",
      "<wf>맑음</wf>\n",
      "<tmn>24</tmn>\n",
      "<tmx>30</tmx>\n",
      "<reliability></reliability>\n",
      "<rnst>20</rnst>\n",
      "</data>\n",
      "<data>\n",
      "<mode>A01</mode>\n",
      "<tmef>2021-07-28 00:00</tmef>\n",
      "<wf>맑음</wf>\n",
      "<tmn>25</tmn>\n",
      "<tmx>30</tmx>\n",
      "<reliability></reliability>\n",
      "<rnst>20</rnst>\n",
      "</data>\n",
      "<data>\n",
      "<mode>A01</mode>\n",
      "<tmef>2021-07-29 00:00</tmef>\n",
      "<wf>구름많음</wf>\n",
      "<tmn>25</tmn>\n",
      "<tmx>31</tmx>\n",
      "<reliability></reliability>\n",
      "<rnst>30</rnst>\n",
      "</data>\n",
      "<data>\n",
      "<mode>A01</mode>\n",
      "<tmef>2021-07-30 00:00</tmef>\n",
      "<wf>구름많음</wf>\n",
      "<tmn>24</tmn>\n",
      "<tmx>31</tmx>\n",
      "<reliability></reliability>\n",
      "<rnst>30</rnst>\n",
      "</data>\n",
      "</location>\n",
      "<location wl_ver=\"3\">\n",
      "<province>대구ㆍ경상북도</province>\n",
      "<city>대구</city>\n",
      "<data>\n",
      "<mode>A02</mode>\n",
      "<tmef>2021-07-23 00:00</tmef>\n",
      "<wf>구름많음</wf>\n",
      "<tmn>24</tmn>\n",
      "<tmx>34</tmx>\n",
      "<reliability></reliability>\n",
      "<rnst>20</rnst>\n",
      "</data>\n",
      "<data>\n",
      "<mode>A02</mode>\n",
      "<tmef>2021-07-23 12:00</tmef>\n",
      "<wf>맑음</wf>\n",
      "<tmn>24</tmn>\n",
      "<tmx>34</tmx>\n",
      "<reliability></reliability>\n",
      "<rnst>10</rnst>\n",
      "</data>\n",
      "<data>\n",
      "<mode>A02</mode>\n",
      "<tmef>2021-07-24 00:00</tmef>\n",
      "<wf>구름많음</wf>\n",
      "<tmn>24</tmn>\n",
      "<tmx>34</tmx>\n",
      "<reliability></reliability>\n",
      "<rnst>20</rnst>\n",
      "</data>\n",
      "<data>\n",
      "<mode>A02</mode>\n",
      "<tmef>2021-07-24 12:00</tmef>\n",
      "<wf>구름많음</wf>\n",
      "<tmn>24</tmn>\n",
      "<tmx>34</tmx>\n",
      "<reliability></reliability>\n",
      "<rnst>30</rnst>\n",
      "</data>\n",
      "<data>\n",
      "<mode>A02</mode>\n",
      "<tmef>2021-07-25 00:00</tmef>\n",
      "<wf>구름많음</wf>\n",
      "<tmn>23</tmn>\n",
      "<tmx>34</tmx>\n",
      "<reliability></reliability>\n",
      "<rnst>30</rnst>\n",
      "</data>\n",
      "<data>\n",
      "<mode>A02</mode>\n",
      "<tmef>2021-07-25 12:00</tmef>\n",
      "<wf>맑음</wf>\n",
      "<tmn>23</tmn>\n",
      "<tmx>34</tmx>\n",
      "<reliability></reliability>\n",
      "<rnst>20</rnst>\n",
      "</data>\n",
      "<data>\n",
      "<mode>A02</mode>\n",
      "<tmef>2021-07-26 00:00</tmef>\n",
      "<wf>구름많음</wf>\n",
      "<tmn>23</tmn>\n",
      "<tmx>33</tmx>\n",
      "<reliability></reliability>\n",
      "<rnst>20</rnst>\n",
      "</data>\n",
      "<data>\n",
      "<mode>A02</mode>\n",
      "<tmef>2021-07-26 12:00</tmef>\n",
      "<wf>맑음</wf>\n",
      "<tmn>23</tmn>\n",
      "<tmx>33</tmx>\n",
      "<reliability></reliability>\n",
      "<rnst>20</rnst>\n",
      "</data>\n",
      "<data>\n",
      "<mode>A02</mode>\n",
      "<tmef>2021-07-27 00:00</tmef>\n",
      "<wf>구름많음</wf>\n",
      "<tmn>23</tmn>\n",
      "<tmx>33</tmx>\n",
      "<reliability></reliability>\n",
      "<rnst>20</rnst>\n",
      "</data>\n",
      "<data>\n",
      "<mode>A02</mode>\n",
      "<tmef>2021-07-27 12:00</tmef>\n",
      "<wf>구름많음</wf>\n",
      "<tmn>23</tmn>\n",
      "<tmx>33</tmx>\n",
      "<reliability></reliability>\n",
      "<rnst>40</rnst>\n",
      "</data>\n",
      "<data>\n",
      "<mode>A01</mode>\n",
      "<tmef>2021-07-28 00:00</tmef>\n",
      "<wf>구름많음</wf>\n",
      "<tmn>24</tmn>\n",
      "<tmx>33</tmx>\n",
      "<reliability></reliability>\n",
      "<rnst>40</rnst>\n",
      "</data>\n",
      "<data>\n",
      "<mode>A01</mode>\n",
      "<tmef>2021-07-29 00:00</tmef>\n",
      "<wf>흐림</wf>\n",
      "<tmn>24</tmn>\n",
      "<tmx>34</tmx>\n",
      "<reliability></reliability>\n",
      "<rnst>40</rnst>\n",
      "</data>\n",
      "<data>\n",
      "<mode>A01</mode>\n",
      "<tmef>2021-07-30 00:00</tmef>\n",
      "<wf>흐림</wf>\n",
      "<tmn>24</tmn>\n",
      "<tmx>33</tmx>\n",
      "<reliability></reliability>\n",
      "<rnst>40</rnst>\n",
      "</data>\n",
      "</location>\n",
      "<location wl_ver=\"3\">\n",
      "<province>대구ㆍ경상북도</province>\n",
      "<city>안동</city>\n",
      "<data>\n",
      "<mode>A02</mode>\n",
      "<tmef>2021-07-23 00:00</tmef>\n",
      "<wf>구름많음</wf>\n",
      "<tmn>22</tmn>\n",
      "<tmx>33</tmx>\n",
      "<reliability></reliability>\n",
      "<rnst>20</rnst>\n",
      "</data>\n",
      "<data>\n",
      "<mode>A02</mode>\n",
      "<tmef>2021-07-23 12:00</tmef>\n",
      "<wf>맑음</wf>\n",
      "<tmn>22</tmn>\n",
      "<tmx>33</tmx>\n",
      "<reliability></reliability>\n",
      "<rnst>10</rnst>\n",
      "</data>\n",
      "<data>\n",
      "<mode>A02</mode>\n",
      "<tmef>2021-07-24 00:00</tmef>\n",
      "<wf>구름많음</wf>\n",
      "<tmn>22</tmn>\n",
      "<tmx>33</tmx>\n",
      "<reliability></reliability>\n",
      "<rnst>20</rnst>\n",
      "</data>\n",
      "<data>\n",
      "<mode>A02</mode>\n",
      "<tmef>2021-07-24 12:00</tmef>\n",
      "<wf>구름많음</wf>\n",
      "<tmn>22</tmn>\n",
      "<tmx>33</tmx>\n",
      "<reliability></reliability>\n",
      "<rnst>30</rnst>\n",
      "</data>\n",
      "<data>\n",
      "<mode>A02</mode>\n",
      "<tmef>2021-07-25 00:00</tmef>\n",
      "<wf>구름많음</wf>\n",
      "<tmn>22</tmn>\n",
      "<tmx>32</tmx>\n",
      "<reliability></reliability>\n",
      "<rnst>30</rnst>\n",
      "</data>\n",
      "<data>\n",
      "<mode>A02</mode>\n",
      "<tmef>2021-07-25 12:00</tmef>\n",
      "<wf>맑음</wf>\n",
      "<tmn>22</tmn>\n",
      "<tmx>32</tmx>\n",
      "<reliability></reliability>\n",
      "<rnst>20</rnst>\n",
      "</data>\n",
      "<data>\n",
      "<mode>A02</mode>\n",
      "<tmef>2021-07-26 00:00</tmef>\n",
      "<wf>구름많음</wf>\n",
      "<tmn>22</tmn>\n",
      "<tmx>32</tmx>\n",
      "<reliability></reliability>\n",
      "<rnst>20</rnst>\n",
      "</data>\n",
      "<data>\n",
      "<mode>A02</mode>\n",
      "<tmef>2021-07-26 12:00</tmef>\n",
      "<wf>맑음</wf>\n",
      "<tmn>22</tmn>\n",
      "<tmx>32</tmx>\n",
      "<reliability></reliability>\n",
      "<rnst>20</rnst>\n",
      "</data>\n",
      "<data>\n",
      "<mode>A02</mode>\n",
      "<tmef>2021-07-27 00:00</tmef>\n",
      "<wf>구름많음</wf>\n",
      "<tmn>22</tmn>\n",
      "<tmx>31</tmx>\n",
      "<reliability></reliability>\n",
      "<rnst>20</rnst>\n",
      "</data>\n",
      "<data>\n",
      "<mode>A02</mode>\n",
      "<tmef>2021-07-27 12:00</tmef>\n",
      "<wf>구름많음</wf>\n",
      "<tmn>22</tmn>\n",
      "<tmx>31</tmx>\n",
      "<reliability></reliability>\n",
      "<rnst>40</rnst>\n",
      "</data>\n",
      "<data>\n",
      "<mode>A01</mode>\n",
      "<tmef>2021-07-28 00:00</tmef>\n",
      "<wf>구름많음</wf>\n",
      "<tmn>22</tmn>\n",
      "<tmx>31</tmx>\n",
      "<reliability></reliability>\n",
      "<rnst>40</rnst>\n",
      "</data>\n",
      "<data>\n",
      "<mode>A01</mode>\n",
      "<tmef>2021-07-29 00:00</tmef>\n",
      "<wf>흐림</wf>\n",
      "<tmn>23</tmn>\n",
      "<tmx>32</tmx>\n",
      "<reliability></reliability>\n",
      "<rnst>40</rnst>\n",
      "</data>\n",
      "<data>\n",
      "<mode>A01</mode>\n",
      "<tmef>2021-07-30 00:00</tmef>\n",
      "<wf>흐림</wf>\n",
      "<tmn>23</tmn>\n",
      "<tmx>31</tmx>\n",
      "<reliability></reliability>\n",
      "<rnst>40</rnst>\n",
      "</data>\n",
      "</location>\n",
      "<location wl_ver=\"3\">\n",
      "<province>대구ㆍ경상북도</province>\n",
      "<city>포항</city>\n",
      "<data>\n",
      "<mode>A02</mode>\n",
      "<tmef>2021-07-23 00:00</tmef>\n",
      "<wf>구름많음</wf>\n",
      "<tmn>25</tmn>\n",
      "<tmx>31</tmx>\n",
      "<reliability></reliability>\n",
      "<rnst>20</rnst>\n",
      "</data>\n",
      "<data>\n",
      "<mode>A02</mode>\n",
      "<tmef>2021-07-23 12:00</tmef>\n",
      "<wf>맑음</wf>\n",
      "<tmn>25</tmn>\n",
      "<tmx>31</tmx>\n",
      "<reliability></reliability>\n",
      "<rnst>10</rnst>\n",
      "</data>\n",
      "<data>\n",
      "<mode>A02</mode>\n",
      "<tmef>2021-07-24 00:00</tmef>\n",
      "<wf>구름많음</wf>\n",
      "<tmn>24</tmn>\n",
      "<tmx>31</tmx>\n",
      "<reliability></reliability>\n",
      "<rnst>20</rnst>\n",
      "</data>\n",
      "<data>\n",
      "<mode>A02</mode>\n",
      "<tmef>2021-07-24 12:00</tmef>\n",
      "<wf>구름많음</wf>\n",
      "<tmn>24</tmn>\n",
      "<tmx>31</tmx>\n",
      "<reliability></reliability>\n",
      "<rnst>30</rnst>\n",
      "</data>\n",
      "<data>\n",
      "<mode>A02</mode>\n",
      "<tmef>2021-07-25 00:00</tmef>\n",
      "<wf>구름많음</wf>\n",
      "<tmn>24</tmn>\n",
      "<tmx>30</tmx>\n",
      "<reliability></reliability>\n",
      "<rnst>30</rnst>\n",
      "</data>\n",
      "<data>\n",
      "<mode>A02</mode>\n",
      "<tmef>2021-07-25 12:00</tmef>\n",
      "<wf>맑음</wf>\n",
      "<tmn>24</tmn>\n",
      "<tmx>30</tmx>\n",
      "<reliability></reliability>\n",
      "<rnst>20</rnst>\n",
      "</data>\n",
      "<data>\n",
      "<mode>A02</mode>\n",
      "<tmef>2021-07-26 00:00</tmef>\n",
      "<wf>구름많음</wf>\n",
      "<tmn>24</tmn>\n",
      "<tmx>30</tmx>\n",
      "<reliability></reliability>\n",
      "<rnst>20</rnst>\n",
      "</data>\n",
      "<data>\n",
      "<mode>A02</mode>\n",
      "<tmef>2021-07-26 12:00</tmef>\n",
      "<wf>맑음</wf>\n",
      "<tmn>24</tmn>\n",
      "<tmx>30</tmx>\n",
      "<reliability></reliability>\n",
      "<rnst>20</rnst>\n",
      "</data>\n",
      "<data>\n",
      "<mode>A02</mode>\n",
      "<tmef>2021-07-27 00:00</tmef>\n",
      "<wf>구름많음</wf>\n",
      "<tmn>24</tmn>\n",
      "<tmx>30</tmx>\n",
      "<reliability></reliability>\n",
      "<rnst>20</rnst>\n",
      "</data>\n",
      "<data>\n",
      "<mode>A02</mode>\n",
      "<tmef>2021-07-27 12:00</tmef>\n",
      "<wf>구름많음</wf>\n",
      "<tmn>24</tmn>\n",
      "<tmx>30</tmx>\n",
      "<reliability></reliability>\n",
      "<rnst>40</rnst>\n",
      "</data>\n",
      "<data>\n",
      "<mode>A01</mode>\n",
      "<tmef>2021-07-28 00:00</tmef>\n",
      "<wf>구름많음</wf>\n",
      "<tmn>24</tmn>\n",
      "<tmx>30</tmx>\n",
      "<reliability></reliability>\n",
      "<rnst>40</rnst>\n",
      "</data>\n",
      "<data>\n",
      "<mode>A01</mode>\n",
      "<tmef>2021-07-29 00:00</tmef>\n",
      "<wf>흐림</wf>\n",
      "<tmn>25</tmn>\n",
      "<tmx>30</tmx>\n",
      "<reliability></reliability>\n",
      "<rnst>40</rnst>\n",
      "</data>\n",
      "<data>\n",
      "<mode>A01</mode>\n",
      "<tmef>2021-07-30 00:00</tmef>\n",
      "<wf>흐림</wf>\n",
      "<tmn>25</tmn>\n",
      "<tmx>30</tmx>\n",
      "<reliability></reliability>\n",
      "<rnst>40</rnst>\n",
      "</data>\n",
      "</location>\n",
      "<location wl_ver=\"3\">\n",
      "<province>대구ㆍ경상북도</province>\n",
      "<city>경주</city>\n",
      "<data>\n",
      "<mode>A02</mode>\n",
      "<tmef>2021-07-23 00:00</tmef>\n",
      "<wf>구름많음</wf>\n",
      "<tmn>23</tmn>\n",
      "<tmx>33</tmx>\n",
      "<reliability></reliability>\n",
      "<rnst>20</rnst>\n",
      "</data>\n",
      "<data>\n",
      "<mode>A02</mode>\n",
      "<tmef>2021-07-23 12:00</tmef>\n",
      "<wf>맑음</wf>\n",
      "<tmn>23</tmn>\n",
      "<tmx>33</tmx>\n",
      "<reliability></reliability>\n",
      "<rnst>10</rnst>\n",
      "</data>\n",
      "<data>\n",
      "<mode>A02</mode>\n",
      "<tmef>2021-07-24 00:00</tmef>\n",
      "<wf>구름많음</wf>\n",
      "<tmn>23</tmn>\n",
      "<tmx>33</tmx>\n",
      "<reliability></reliability>\n",
      "<rnst>20</rnst>\n",
      "</data>\n",
      "<data>\n",
      "<mode>A02</mode>\n",
      "<tmef>2021-07-24 12:00</tmef>\n",
      "<wf>구름많음</wf>\n",
      "<tmn>23</tmn>\n",
      "<tmx>33</tmx>\n",
      "<reliability></reliability>\n",
      "<rnst>30</rnst>\n",
      "</data>\n",
      "<data>\n",
      "<mode>A02</mode>\n",
      "<tmef>2021-07-25 00:00</tmef>\n",
      "<wf>구름많음</wf>\n",
      "<tmn>22</tmn>\n",
      "<tmx>33</tmx>\n",
      "<reliability></reliability>\n",
      "<rnst>30</rnst>\n",
      "</data>\n",
      "<data>\n",
      "<mode>A02</mode>\n",
      "<tmef>2021-07-25 12:00</tmef>\n",
      "<wf>맑음</wf>\n",
      "<tmn>22</tmn>\n",
      "<tmx>33</tmx>\n",
      "<reliability></reliability>\n",
      "<rnst>20</rnst>\n",
      "</data>\n",
      "<data>\n",
      "<mode>A02</mode>\n",
      "<tmef>2021-07-26 00:00</tmef>\n",
      "<wf>구름많음</wf>\n",
      "<tmn>23</tmn>\n",
      "<tmx>32</tmx>\n",
      "<reliability></reliability>\n",
      "<rnst>20</rnst>\n",
      "</data>\n",
      "<data>\n",
      "<mode>A02</mode>\n",
      "<tmef>2021-07-26 12:00</tmef>\n",
      "<wf>맑음</wf>\n",
      "<tmn>23</tmn>\n",
      "<tmx>32</tmx>\n",
      "<reliability></reliability>\n",
      "<rnst>20</rnst>\n",
      "</data>\n",
      "<data>\n",
      "<mode>A02</mode>\n",
      "<tmef>2021-07-27 00:00</tmef>\n",
      "<wf>구름많음</wf>\n",
      "<tmn>23</tmn>\n",
      "<tmx>32</tmx>\n",
      "<reliability></reliability>\n",
      "<rnst>20</rnst>\n",
      "</data>\n",
      "<data>\n",
      "<mode>A02</mode>\n",
      "<tmef>2021-07-27 12:00</tmef>\n",
      "<wf>구름많음</wf>\n",
      "<tmn>23</tmn>\n",
      "<tmx>32</tmx>\n",
      "<reliability></reliability>\n",
      "<rnst>40</rnst>\n",
      "</data>\n",
      "<data>\n",
      "<mode>A01</mode>\n",
      "<tmef>2021-07-28 00:00</tmef>\n",
      "<wf>구름많음</wf>\n",
      "<tmn>23</tmn>\n",
      "<tmx>31</tmx>\n",
      "<reliability></reliability>\n",
      "<rnst>40</rnst>\n",
      "</data>\n",
      "<data>\n",
      "<mode>A01</mode>\n",
      "<tmef>2021-07-29 00:00</tmef>\n",
      "<wf>흐림</wf>\n",
      "<tmn>23</tmn>\n",
      "<tmx>32</tmx>\n",
      "<reliability></reliability>\n",
      "<rnst>40</rnst>\n",
      "</data>\n",
      "<data>\n",
      "<mode>A01</mode>\n",
      "<tmef>2021-07-30 00:00</tmef>\n",
      "<wf>흐림</wf>\n",
      "<tmn>23</tmn>\n",
      "<tmx>31</tmx>\n",
      "<reliability></reliability>\n",
      "<rnst>40</rnst>\n",
      "</data>\n",
      "</location>\n",
      "<location wl_ver=\"3\">\n",
      "<province>대구ㆍ경상북도</province>\n",
      "<city>울진</city>\n",
      "<data>\n",
      "<mode>A02</mode>\n",
      "<tmef>2021-07-23 00:00</tmef>\n",
      "<wf>구름많음</wf>\n",
      "<tmn>23</tmn>\n",
      "<tmx>28</tmx>\n",
      "<reliability></reliability>\n",
      "<rnst>20</rnst>\n",
      "</data>\n",
      "<data>\n",
      "<mode>A02</mode>\n",
      "<tmef>2021-07-23 12:00</tmef>\n",
      "<wf>맑음</wf>\n",
      "<tmn>23</tmn>\n",
      "<tmx>28</tmx>\n",
      "<reliability></reliability>\n",
      "<rnst>10</rnst>\n",
      "</data>\n",
      "<data>\n",
      "<mode>A02</mode>\n",
      "<tmef>2021-07-24 00:00</tmef>\n",
      "<wf>구름많음</wf>\n",
      "<tmn>23</tmn>\n",
      "<tmx>29</tmx>\n",
      "<reliability></reliability>\n",
      "<rnst>20</rnst>\n",
      "</data>\n",
      "<data>\n",
      "<mode>A02</mode>\n",
      "<tmef>2021-07-24 12:00</tmef>\n",
      "<wf>구름많음</wf>\n",
      "<tmn>23</tmn>\n",
      "<tmx>29</tmx>\n",
      "<reliability></reliability>\n",
      "<rnst>30</rnst>\n",
      "</data>\n",
      "<data>\n",
      "<mode>A02</mode>\n",
      "<tmef>2021-07-25 00:00</tmef>\n",
      "<wf>구름많음</wf>\n",
      "<tmn>23</tmn>\n",
      "<tmx>28</tmx>\n",
      "<reliability></reliability>\n",
      "<rnst>30</rnst>\n",
      "</data>\n",
      "<data>\n",
      "<mode>A02</mode>\n",
      "<tmef>2021-07-25 12:00</tmef>\n",
      "<wf>맑음</wf>\n",
      "<tmn>23</tmn>\n",
      "<tmx>28</tmx>\n",
      "<reliability></reliability>\n",
      "<rnst>20</rnst>\n",
      "</data>\n",
      "<data>\n",
      "<mode>A02</mode>\n",
      "<tmef>2021-07-26 00:00</tmef>\n",
      "<wf>구름많음</wf>\n",
      "<tmn>23</tmn>\n",
      "<tmx>28</tmx>\n",
      "<reliability></reliability>\n",
      "<rnst>20</rnst>\n",
      "</data>\n",
      "<data>\n",
      "<mode>A02</mode>\n",
      "<tmef>2021-07-26 12:00</tmef>\n",
      "<wf>맑음</wf>\n",
      "<tmn>23</tmn>\n",
      "<tmx>28</tmx>\n",
      "<reliability></reliability>\n",
      "<rnst>20</rnst>\n",
      "</data>\n",
      "<data>\n",
      "<mode>A02</mode>\n",
      "<tmef>2021-07-27 00:00</tmef>\n",
      "<wf>구름많음</wf>\n",
      "<tmn>22</tmn>\n",
      "<tmx>27</tmx>\n",
      "<reliability></reliability>\n",
      "<rnst>20</rnst>\n",
      "</data>\n",
      "<data>\n",
      "<mode>A02</mode>\n",
      "<tmef>2021-07-27 12:00</tmef>\n",
      "<wf>구름많음</wf>\n",
      "<tmn>22</tmn>\n",
      "<tmx>27</tmx>\n",
      "<reliability></reliability>\n",
      "<rnst>40</rnst>\n",
      "</data>\n",
      "<data>\n",
      "<mode>A01</mode>\n",
      "<tmef>2021-07-28 00:00</tmef>\n",
      "<wf>구름많음</wf>\n",
      "<tmn>23</tmn>\n",
      "<tmx>27</tmx>\n",
      "<reliability></reliability>\n",
      "<rnst>40</rnst>\n",
      "</data>\n",
      "<data>\n",
      "<mode>A01</mode>\n",
      "<tmef>2021-07-29 00:00</tmef>\n",
      "<wf>흐림</wf>\n",
      "<tmn>23</tmn>\n",
      "<tmx>28</tmx>\n",
      "<reliability></reliability>\n",
      "<rnst>40</rnst>\n",
      "</data>\n",
      "<data>\n",
      "<mode>A01</mode>\n",
      "<tmef>2021-07-30 00:00</tmef>\n",
      "<wf>흐림</wf>\n",
      "<tmn>23</tmn>\n",
      "<tmx>28</tmx>\n",
      "<reliability></reliability>\n",
      "<rnst>40</rnst>\n",
      "</data>\n",
      "</location>\n",
      "<location wl_ver=\"3\">\n",
      "<province>대구ㆍ경상북도</province>\n",
      "<city>울릉도</city>\n",
      "<data>\n",
      "<mode>A02</mode>\n",
      "<tmef>2021-07-23 00:00</tmef>\n",
      "<wf>구름많음</wf>\n",
      "<tmn>23</tmn>\n",
      "<tmx>29</tmx>\n",
      "<reliability></reliability>\n",
      "<rnst>20</rnst>\n",
      "</data>\n",
      "<data>\n",
      "<mode>A02</mode>\n",
      "<tmef>2021-07-23 12:00</tmef>\n",
      "<wf>맑음</wf>\n",
      "<tmn>23</tmn>\n",
      "<tmx>29</tmx>\n",
      "<reliability></reliability>\n",
      "<rnst>10</rnst>\n",
      "</data>\n",
      "<data>\n",
      "<mode>A02</mode>\n",
      "<tmef>2021-07-24 00:00</tmef>\n",
      "<wf>구름많음</wf>\n",
      "<tmn>24</tmn>\n",
      "<tmx>29</tmx>\n",
      "<reliability></reliability>\n",
      "<rnst>20</rnst>\n",
      "</data>\n",
      "<data>\n",
      "<mode>A02</mode>\n",
      "<tmef>2021-07-24 12:00</tmef>\n",
      "<wf>구름많음</wf>\n",
      "<tmn>24</tmn>\n",
      "<tmx>29</tmx>\n",
      "<reliability></reliability>\n",
      "<rnst>30</rnst>\n",
      "</data>\n",
      "<data>\n",
      "<mode>A02</mode>\n",
      "<tmef>2021-07-25 00:00</tmef>\n",
      "<wf>구름많음</wf>\n",
      "<tmn>24</tmn>\n",
      "<tmx>28</tmx>\n",
      "<reliability></reliability>\n",
      "<rnst>30</rnst>\n",
      "</data>\n",
      "<data>\n",
      "<mode>A02</mode>\n",
      "<tmef>2021-07-25 12:00</tmef>\n",
      "<wf>맑음</wf>\n",
      "<tmn>24</tmn>\n",
      "<tmx>28</tmx>\n",
      "<reliability></reliability>\n",
      "<rnst>20</rnst>\n",
      "</data>\n",
      "<data>\n",
      "<mode>A02</mode>\n",
      "<tmef>2021-07-26 00:00</tmef>\n",
      "<wf>구름많음</wf>\n",
      "<tmn>23</tmn>\n",
      "<tmx>27</tmx>\n",
      "<reliability></reliability>\n",
      "<rnst>20</rnst>\n",
      "</data>\n",
      "<data>\n",
      "<mode>A02</mode>\n",
      "<tmef>2021-07-26 12:00</tmef>\n",
      "<wf>맑음</wf>\n",
      "<tmn>23</tmn>\n",
      "<tmx>27</tmx>\n",
      "<reliability></reliability>\n",
      "<rnst>20</rnst>\n",
      "</data>\n",
      "<data>\n",
      "<mode>A02</mode>\n",
      "<tmef>2021-07-27 00:00</tmef>\n",
      "<wf>구름많음</wf>\n",
      "<tmn>23</tmn>\n",
      "<tmx>27</tmx>\n",
      "<reliability></reliability>\n",
      "<rnst>20</rnst>\n",
      "</data>\n",
      "<data>\n",
      "<mode>A02</mode>\n",
      "<tmef>2021-07-27 12:00</tmef>\n",
      "<wf>구름많음</wf>\n",
      "<tmn>23</tmn>\n",
      "<tmx>27</tmx>\n",
      "<reliability></reliability>\n",
      "<rnst>40</rnst>\n",
      "</data>\n",
      "<data>\n",
      "<mode>A01</mode>\n",
      "<tmef>2021-07-28 00:00</tmef>\n",
      "<wf>구름많음</wf>\n",
      "<tmn>23</tmn>\n",
      "<tmx>27</tmx>\n",
      "<reliability></reliability>\n",
      "<rnst>40</rnst>\n",
      "</data>\n",
      "<data>\n",
      "<mode>A01</mode>\n",
      "<tmef>2021-07-29 00:00</tmef>\n",
      "<wf>흐림</wf>\n",
      "<tmn>23</tmn>\n",
      "<tmx>28</tmx>\n",
      "<reliability></reliability>\n",
      "<rnst>40</rnst>\n",
      "</data>\n",
      "<data>\n",
      "<mode>A01</mode>\n",
      "<tmef>2021-07-30 00:00</tmef>\n",
      "<wf>흐림</wf>\n",
      "<tmn>23</tmn>\n",
      "<tmx>28</tmx>\n",
      "<reliability></reliability>\n",
      "<rnst>40</rnst>\n",
      "</data>\n",
      "</location>\n",
      "<location wl_ver=\"3\">\n",
      "<province>제주도</province>\n",
      "<city>제주</city>\n",
      "<data>\n",
      "<mode>A02</mode>\n",
      "<tmef>2021-07-23 00:00</tmef>\n",
      "<wf>구름많음</wf>\n",
      "<tmn>26</tmn>\n",
      "<tmx>32</tmx>\n",
      "<reliability></reliability>\n",
      "<rnst>30</rnst>\n",
      "</data>\n",
      "<data>\n",
      "<mode>A02</mode>\n",
      "<tmef>2021-07-23 12:00</tmef>\n",
      "<wf>구름많음</wf>\n",
      "<tmn>26</tmn>\n",
      "<tmx>32</tmx>\n",
      "<reliability></reliability>\n",
      "<rnst>30</rnst>\n",
      "</data>\n",
      "<data>\n",
      "<mode>A02</mode>\n",
      "<tmef>2021-07-24 00:00</tmef>\n",
      "<wf>구름많음</wf>\n",
      "<tmn>26</tmn>\n",
      "<tmx>33</tmx>\n",
      "<reliability></reliability>\n",
      "<rnst>30</rnst>\n",
      "</data>\n",
      "<data>\n",
      "<mode>A02</mode>\n",
      "<tmef>2021-07-24 12:00</tmef>\n",
      "<wf>구름많음</wf>\n",
      "<tmn>26</tmn>\n",
      "<tmx>33</tmx>\n",
      "<reliability></reliability>\n",
      "<rnst>30</rnst>\n",
      "</data>\n",
      "<data>\n",
      "<mode>A02</mode>\n",
      "<tmef>2021-07-25 00:00</tmef>\n",
      "<wf>구름많음</wf>\n",
      "<tmn>26</tmn>\n",
      "<tmx>33</tmx>\n",
      "<reliability></reliability>\n",
      "<rnst>30</rnst>\n",
      "</data>\n",
      "<data>\n",
      "<mode>A02</mode>\n",
      "<tmef>2021-07-25 12:00</tmef>\n",
      "<wf>구름많음</wf>\n",
      "<tmn>26</tmn>\n",
      "<tmx>33</tmx>\n",
      "<reliability></reliability>\n",
      "<rnst>30</rnst>\n",
      "</data>\n",
      "<data>\n",
      "<mode>A02</mode>\n",
      "<tmef>2021-07-26 00:00</tmef>\n",
      "<wf>구름많음</wf>\n",
      "<tmn>25</tmn>\n",
      "<tmx>32</tmx>\n",
      "<reliability></reliability>\n",
      "<rnst>30</rnst>\n",
      "</data>\n",
      "<data>\n",
      "<mode>A02</mode>\n",
      "<tmef>2021-07-26 12:00</tmef>\n",
      "<wf>구름많음</wf>\n",
      "<tmn>25</tmn>\n",
      "<tmx>32</tmx>\n",
      "<reliability></reliability>\n",
      "<rnst>30</rnst>\n",
      "</data>\n",
      "<data>\n",
      "<mode>A02</mode>\n",
      "<tmef>2021-07-27 00:00</tmef>\n",
      "<wf>구름많음</wf>\n",
      "<tmn>26</tmn>\n",
      "<tmx>32</tmx>\n",
      "<reliability></reliability>\n",
      "<rnst>30</rnst>\n",
      "</data>\n",
      "<data>\n",
      "<mode>A02</mode>\n",
      "<tmef>2021-07-27 12:00</tmef>\n",
      "<wf>구름많음</wf>\n",
      "<tmn>26</tmn>\n",
      "<tmx>32</tmx>\n",
      "<reliability></reliability>\n",
      "<rnst>30</rnst>\n",
      "</data>\n",
      "<data>\n",
      "<mode>A01</mode>\n",
      "<tmef>2021-07-28 00:00</tmef>\n",
      "<wf>구름많음</wf>\n",
      "<tmn>26</tmn>\n",
      "<tmx>32</tmx>\n",
      "<reliability></reliability>\n",
      "<rnst>40</rnst>\n",
      "</data>\n",
      "<data>\n",
      "<mode>A01</mode>\n",
      "<tmef>2021-07-29 00:00</tmef>\n",
      "<wf>흐림</wf>\n",
      "<tmn>26</tmn>\n",
      "<tmx>32</tmx>\n",
      "<reliability></reliability>\n",
      "<rnst>40</rnst>\n",
      "</data>\n",
      "<data>\n",
      "<mode>A01</mode>\n",
      "<tmef>2021-07-30 00:00</tmef>\n",
      "<wf>흐림</wf>\n",
      "<tmn>26</tmn>\n",
      "<tmx>32</tmx>\n",
      "<reliability></reliability>\n",
      "<rnst>40</rnst>\n",
      "</data>\n",
      "</location>\n",
      "<location wl_ver=\"3\">\n",
      "<province>제주도</province>\n",
      "<city>서귀포</city>\n",
      "<data>\n",
      "<mode>A02</mode>\n",
      "<tmef>2021-07-23 00:00</tmef>\n",
      "<wf>구름많음</wf>\n",
      "<tmn>26</tmn>\n",
      "<tmx>31</tmx>\n",
      "<reliability></reliability>\n",
      "<rnst>30</rnst>\n",
      "</data>\n",
      "<data>\n",
      "<mode>A02</mode>\n",
      "<tmef>2021-07-23 12:00</tmef>\n",
      "<wf>구름많음</wf>\n",
      "<tmn>26</tmn>\n",
      "<tmx>31</tmx>\n",
      "<reliability></reliability>\n",
      "<rnst>30</rnst>\n",
      "</data>\n",
      "<data>\n",
      "<mode>A02</mode>\n",
      "<tmef>2021-07-24 00:00</tmef>\n",
      "<wf>구름많음</wf>\n",
      "<tmn>26</tmn>\n",
      "<tmx>31</tmx>\n",
      "<reliability></reliability>\n",
      "<rnst>30</rnst>\n",
      "</data>\n",
      "<data>\n",
      "<mode>A02</mode>\n",
      "<tmef>2021-07-24 12:00</tmef>\n",
      "<wf>구름많음</wf>\n",
      "<tmn>26</tmn>\n",
      "<tmx>31</tmx>\n",
      "<reliability></reliability>\n",
      "<rnst>30</rnst>\n",
      "</data>\n",
      "<data>\n",
      "<mode>A02</mode>\n",
      "<tmef>2021-07-25 00:00</tmef>\n",
      "<wf>구름많음</wf>\n",
      "<tmn>25</tmn>\n",
      "<tmx>31</tmx>\n",
      "<reliability></reliability>\n",
      "<rnst>30</rnst>\n",
      "</data>\n",
      "<data>\n",
      "<mode>A02</mode>\n",
      "<tmef>2021-07-25 12:00</tmef>\n",
      "<wf>구름많음</wf>\n",
      "<tmn>25</tmn>\n",
      "<tmx>31</tmx>\n",
      "<reliability></reliability>\n",
      "<rnst>30</rnst>\n",
      "</data>\n",
      "<data>\n",
      "<mode>A02</mode>\n",
      "<tmef>2021-07-26 00:00</tmef>\n",
      "<wf>구름많음</wf>\n",
      "<tmn>25</tmn>\n",
      "<tmx>30</tmx>\n",
      "<reliability></reliability>\n",
      "<rnst>30</rnst>\n",
      "</data>\n",
      "<data>\n",
      "<mode>A02</mode>\n",
      "<tmef>2021-07-26 12:00</tmef>\n",
      "<wf>구름많음</wf>\n",
      "<tmn>25</tmn>\n",
      "<tmx>30</tmx>\n",
      "<reliability></reliability>\n",
      "<rnst>30</rnst>\n",
      "</data>\n",
      "<data>\n",
      "<mode>A02</mode>\n",
      "<tmef>2021-07-27 00:00</tmef>\n",
      "<wf>구름많음</wf>\n",
      "<tmn>25</tmn>\n",
      "<tmx>31</tmx>\n",
      "<reliability></reliability>\n",
      "<rnst>30</rnst>\n",
      "</data>\n",
      "<data>\n",
      "<mode>A02</mode>\n",
      "<tmef>2021-07-27 12:00</tmef>\n",
      "<wf>구름많음</wf>\n",
      "<tmn>25</tmn>\n",
      "<tmx>31</tmx>\n",
      "<reliability></reliability>\n",
      "<rnst>30</rnst>\n",
      "</data>\n",
      "<data>\n",
      "<mode>A01</mode>\n",
      "<tmef>2021-07-28 00:00</tmef>\n",
      "<wf>구름많음</wf>\n",
      "<tmn>25</tmn>\n",
      "<tmx>31</tmx>\n",
      "<reliability></reliability>\n",
      "<rnst>40</rnst>\n",
      "</data>\n",
      "<data>\n",
      "<mode>A01</mode>\n",
      "<tmef>2021-07-29 00:00</tmef>\n",
      "<wf>흐림</wf>\n",
      "<tmn>26</tmn>\n",
      "<tmx>31</tmx>\n",
      "<reliability></reliability>\n",
      "<rnst>40</rnst>\n",
      "</data>\n",
      "<data>\n",
      "<mode>A01</mode>\n",
      "<tmef>2021-07-30 00:00</tmef>\n",
      "<wf>흐림</wf>\n",
      "<tmn>26</tmn>\n",
      "<tmx>31</tmx>\n",
      "<reliability></reliability>\n",
      "<rnst>40</rnst>\n",
      "</data>\n",
      "</location>\n",
      "</body>\n",
      "</description>\n",
      "</item>\n",
      "</channel>\n",
      "</rss> \n"
     ]
    }
   ],
   "metadata": {
    "tags": [
     "outputPrepend"
    ]
   }
  },
  {
   "cell_type": "code",
   "execution_count": 123,
   "source": [
    "links1=soup.find_all('wf')\r\n",
    "links2=soup.find_all('tmn')\r\n",
    "links3=soup.find_all('tmx')\r\n",
    "\r\n",
    "a=[]\r\n",
    "b=[]\r\n",
    "c=[]\r\n",
    "for i in links1:\r\n",
    "    a.append(i.string)\r\n",
    "for i in links2:\r\n",
    "    b.append(i.string)\r\n",
    "for i in links3:\r\n",
    "    c.append(i.string)\r\n",
    "\r\n",
    "print(a, end='\\n\\n')\r\n",
    "print(b, end='\\n\\n')\r\n",
    "print(c)\r\n"
   ],
   "outputs": [
    {
     "output_type": "stream",
     "name": "stdout",
     "text": [
      "['○ (하늘상태) 전국이 가끔 구름많겠습니다.<br />○ (기온) 이번 예보기간 아침 기온은 23~26도, 낮 기온은 30~36도로 어제(19일, 아침최저기온 23~26도, 낮최고기온 30~33도)와 비슷하거나 높겠습니다.<br />○ (주말전망) 24일(토)과 25일(일)은 전국이 가끔 구름많겠습니다. 주말 동안 아침 기온은 23~26도, 낮 기온은 32~36도가 되겠습니다.<br /> * 이번 예보기간 동안 우리나라는 북태평양고기압 영향을 받으면서 전국 대부분 지역에서 낮최고기온이 33도 이상, 아침최저기온이 25도 이상으로 오르겠고,  <br />   특히, 이번 주에는 동풍의 영향을 받는 서쪽 일부 지역에서 낮최고기온이 38도 이상 올라가면서 매우 무덥겠으니 건강관리에 각별히 유의하기 바랍니다. <br /> * 또한, 북태평양고기압 위치에 따라서 낮최고기온의 변동성이 크겠으니, 앞으로 발표되는 기상정보를 참고하기 바랍니다.', '맑음', '맑음', '맑음', '맑음', '맑음', '구름많음', '맑음', '맑음', '맑음', '맑음', '맑음', '구름많음', '맑음', '맑음', '맑음', '맑음', '맑음', '맑음', '구름많음', '맑음', '맑음', '맑음', '맑음', '맑음', '구름많음', '맑음', '맑음', '맑음', '맑음', '맑음', '맑음', '구름많음', '맑음', '맑음', '맑음', '맑음', '맑음', '구름많음', '맑음', '맑음', '맑음', '맑음', '맑음', '맑음', '구름많음', '맑음', '맑음', '맑음', '맑음', '맑음', '구름많음', '맑음', '맑음', '맑음', '맑음', '맑음', '맑음', '구름많음', '맑음', '맑음', '맑음', '맑음', '맑음', '구름많음', '맑음', '맑음', '맑음', '맑음', '맑음', '맑음', '구름많음', '맑음', '맑음', '맑음', '맑음', '맑음', '구름많음', '맑음', '구름많음', '맑음', '맑음', '맑음', '맑음', '구름많음', '구름많음', '맑음', '맑음', '맑음', '맑음', '구름많음', '구름많음', '구름많음', '맑음', '맑음', '맑음', '맑음', '구름많음', '구름많음', '맑음', '맑음', '맑음', '맑음', '구름많음', '구름많음', '구름많음', '맑음', '맑음', '맑음', '구름많음', '맑음', '맑음', '구름많음', '흐림', '구름많음', '흐림', '흐림', '흐림', '구름많음', '맑음', '맑음', '구름많음', '구름많음', '맑음', '맑음', '맑음', '맑음', '맑음', '구름많음', '구름많음', '구름많음', '구름많음', '맑음', '맑음', '구름많음', '구름많음', '맑음', '맑음', '맑음', '맑음', '맑음', '구름많음', '구름많음', '구름많음', '구름많음', '맑음', '맑음', '구름많음', '구름많음', '맑음', '맑음', '맑음', '맑음', '맑음', '구름많음', '구름많음', '구름많음', '맑음', '맑음', '맑음', '맑음', '맑음', '맑음', '맑음', '맑음', '맑음', '맑음', '구름많음', '구름많음', '구름많음', '맑음', '맑음', '맑음', '맑음', '맑음', '맑음', '맑음', '맑음', '맑음', '맑음', '구름많음', '구름많음', '구름많음', '맑음', '맑음', '맑음', '맑음', '맑음', '맑음', '맑음', '맑음', '맑음', '맑음', '구름많음', '구름많음', '구름많음', '구름많음', '맑음', '구름많음', '구름많음', '구름많음', '맑음', '맑음', '구름많음', '맑음', '구름많음', '맑음', '흐림', '흐림', '구름많음', '맑음', '구름많음', '구름많음', '구름많음', '맑음', '맑음', '구름많음', '맑음', '구름많음', '맑음', '흐림', '흐림', '구름많음', '맑음', '구름많음', '구름많음', '구름많음', '맑음', '맑음', '구름많음', '맑음', '구름많음', '맑음', '흐림', '흐림', '구름많음', '맑음', '구름많음', '구름많음', '구름많음', '맑음', '맑음', '구름많음', '맑음', '구름많음', '맑음', '흐림', '흐림', '구름많음', '맑음', '구름많음', '구름많음', '구름많음', '맑음', '맑음', '구름많음', '맑음', '구름많음', '맑음', '흐림', '흐림', '구름많음', '맑음', '구름많음', '구름많음', '구름많음', '맑음', '맑음', '구름많음', '맑음', '구름많음', '맑음', '흐림', '흐림', '구름많음', '맑음', '구름많음', '구름많음', '맑음', '맑음', '맑음', '구름많음', '맑음', '구름많음', '구름많음', '구름많음', '흐림', '구름많음', '맑음', '구름많음', '구름많음', '맑음', '맑음', '맑음', '구름많음', '맑음', '구름많음', '구름많음', '구름많음', '흐림', '구름많음', '맑음', '구름많음', '구름많음', '맑음', '맑음', '맑음', '구름많음', '맑음', '구름많음', '구름많음', '구름많음', '흐림', '구름많음', '맑음', '구름많음', '구름많음', '맑음', '맑음', '맑음', '구름많음', '맑음', '구름많음', '구름많음', '구름많음', '흐림', '구름많음', '맑음', '구름많음', '구름많음', '맑음', '맑음', '맑음', '구름많음', '맑음', '구름많음', '구름많음', '구름많음', '흐림', '구름많음', '맑음', '구름많음', '구름많음', '맑음', '맑음', '맑음', '구름많음', '맑음', '구름많음', '구름많음', '구름많음', '흐림', '구름많음', '맑음', '구름많음', '구름많음', '구름많음', '맑음', '맑음', '맑음', '맑음', '맑음', '맑음', '구름많음', '구름많음', '구름많음', '맑음', '구름많음', '구름많음', '구름많음', '맑음', '맑음', '맑음', '맑음', '맑음', '맑음', '구름많음', '구름많음', '구름많음', '맑음', '구름많음', '구름많음', '구름많음', '맑음', '맑음', '맑음', '맑음', '맑음', '맑음', '구름많음', '구름많음', '구름많음', '맑음', '구름많음', '구름많음', '구름많음', '맑음', '맑음', '맑음', '맑음', '맑음', '맑음', '구름많음', '구름많음', '구름많음', '맑음', '구름많음', '구름많음', '구름많음', '맑음', '맑음', '맑음', '맑음', '맑음', '맑음', '구름많음', '구름많음', '구름많음', '맑음', '구름많음', '구름많음', '구름많음', '맑음', '맑음', '맑음', '맑음', '맑음', '맑음', '구름많음', '구름많음', '구름많음', '맑음', '구름많음', '구름많음', '구름많음', '맑음', '구름많음', '맑음', '구름많음', '구름많음', '구름많음', '흐림', '흐림', '구름많음', '맑음', '구름많음', '구름많음', '구름많음', '맑음', '구름많음', '맑음', '구름많음', '구름많음', '구름많음', '흐림', '흐림', '구름많음', '맑음', '구름많음', '구름많음', '구름많음', '맑음', '구름많음', '맑음', '구름많음', '구름많음', '구름많음', '흐림', '흐림', '구름많음', '맑음', '구름많음', '구름많음', '구름많음', '맑음', '구름많음', '맑음', '구름많음', '구름많음', '구름많음', '흐림', '흐림', '구름많음', '맑음', '구름많음', '구름많음', '구름많음', '맑음', '구름많음', '맑음', '구름많음', '구름많음', '구름많음', '흐림', '흐림', '구름많음', '맑음', '구름많음', '구름많음', '구름많음', '맑음', '구름많음', '맑음', '구름많음', '구름많음', '구름많음', '흐림', '흐림', '구름많음', '구름많음', '구름많음', '구름많음', '구름많음', '구름많음', '구름많음', '구름많음', '구름많음', '구름많음', '구름많음', '흐림', '흐림', '구름많음', '구름많음', '구름많음', '구름많음', '구름많음', '구름많음', '구름많음', '구름많음', '구름많음', '구름많음', '구름많음', '흐림', '흐림']\n",
      "\n",
      "['26', '26', '26', '26', '26', '26', '25', '25', '24', '24', '25', '25', '25', '26', '26', '26', '26', '26', '26', '26', '26', '24', '24', '24', '24', '24', '25', '25', '25', '25', '25', '25', '25', '25', '24', '24', '24', '25', '24', '23', '23', '24', '24', '24', '24', '23', '23', '23', '23', '23', '23', '23', '22', '22', '23', '23', '23', '23', '23', '23', '23', '23', '23', '23', '23', '23', '23', '24', '24', '24', '24', '24', '24', '24', '24', '24', '24', '24', '24', '24', '24', '24', '24', '24', '23', '23', '23', '23', '23', '24', '24', '23', '23', '23', '23', '23', '23', '23', '23', '23', '23', '23', '23', '23', '24', '24', '24', '24', '24', '24', '24', '24', '23', '23', '23', '24', '24', '24', '24', '24', '24', '24', '24', '24', '24', '23', '23', '24', '24', '24', '23', '23', '23', '23', '23', '23', '23', '23', '23', '23', '23', '23', '23', '23', '23', '23', '23', '23', '23', '23', '23', '23', '23', '23', '23', '23', '24', '24', '24', '24', '25', '25', '24', '24', '24', '24', '24', '24', '24', '22', '22', '23', '23', '24', '24', '23', '23', '23', '23', '22', '23', '23', '22', '22', '23', '23', '24', '24', '22', '22', '22', '22', '22', '23', '23', '25', '25', '25', '25', '25', '25', '25', '25', '24', '24', '25', '25', '25', '25', '25', '25', '25', '24', '24', '24', '24', '24', '24', '24', '25', '25', '25', '25', '25', '25', '25', '25', '25', '25', '25', '25', '25', '25', '25', '24', '24', '24', '24', '24', '24', '24', '24', '24', '24', '25', '25', '25', '24', '24', '24', '24', '24', '24', '24', '24', '24', '24', '24', '24', '25', '23', '23', '23', '23', '22', '22', '23', '23', '23', '23', '23', '24', '24', '24', '24', '24', '24', '24', '24', '24', '24', '24', '24', '24', '24', '24', '24', '24', '24', '24', '25', '25', '24', '24', '24', '24', '24', '24', '24', '23', '23', '23', '23', '23', '23', '23', '23', '23', '23', '23', '24', '24', '22', '22', '22', '22', '22', '22', '22', '22', '22', '22', '22', '23', '23', '23', '23', '24', '24', '23', '23', '23', '23', '23', '23', '23', '23', '24', '21', '21', '21', '21', '21', '21', '21', '21', '21', '21', '22', '23', '23', '25', '25', '25', '25', '25', '25', '24', '24', '24', '24', '24', '25', '25', '25', '25', '25', '25', '24', '24', '23', '23', '24', '24', '24', '24', '24', '25', '25', '25', '25', '25', '25', '24', '24', '24', '24', '24', '24', '24', '24', '24', '24', '24', '24', '24', '23', '23', '23', '23', '23', '24', '24', '22', '22', '22', '22', '22', '22', '22', '22', '22', '22', '22', '22', '23', '25', '25', '25', '25', '25', '25', '24', '24', '24', '24', '25', '25', '24', '24', '24', '24', '24', '23', '23', '23', '23', '23', '23', '24', '24', '24', '22', '22', '22', '22', '22', '22', '22', '22', '22', '22', '22', '23', '23', '25', '25', '24', '24', '24', '24', '24', '24', '24', '24', '24', '25', '25', '23', '23', '23', '23', '22', '22', '23', '23', '23', '23', '23', '23', '23', '23', '23', '23', '23', '23', '23', '23', '23', '22', '22', '23', '23', '23', '23', '23', '24', '24', '24', '24', '23', '23', '23', '23', '23', '23', '23', '26', '26', '26', '26', '26', '26', '25', '25', '26', '26', '26', '26', '26', '26', '26', '26', '26', '25', '25', '25', '25', '25', '25', '25', '26', '26']\n",
      "\n",
      "['35', '35', '35', '35', '35', '35', '34', '34', '33', '33', '33', '33', '33', '34', '34', '34', '34', '33', '33', '32', '32', '32', '32', '31', '31', '31', '35', '35', '35', '35', '35', '35', '34', '34', '34', '34', '33', '33', '33', '34', '34', '34', '34', '33', '33', '33', '33', '33', '33', '33', '33', '32', '34', '34', '34', '34', '33', '33', '33', '33', '33', '33', '33', '33', '33', '34', '34', '34', '34', '34', '34', '33', '33', '34', '34', '33', '33', '33', '36', '36', '36', '36', '35', '35', '34', '34', '34', '34', '33', '33', '33', '35', '35', '35', '35', '34', '34', '33', '33', '33', '33', '33', '33', '33', '33', '33', '33', '33', '33', '33', '32', '32', '30', '30', '30', '30', '30', '36', '36', '36', '36', '35', '35', '32', '32', '31', '31', '31', '31', '31', '36', '36', '36', '36', '35', '35', '31', '31', '31', '31', '30', '31', '31', '36', '36', '36', '36', '35', '35', '31', '31', '32', '32', '31', '32', '32', '35', '35', '35', '35', '35', '35', '34', '34', '33', '33', '33', '33', '33', '35', '35', '35', '35', '35', '35', '33', '33', '33', '33', '33', '33', '33', '35', '35', '35', '35', '35', '35', '34', '34', '33', '33', '33', '33', '33', '35', '35', '35', '35', '34', '34', '33', '33', '32', '32', '33', '33', '33', '32', '32', '32', '32', '31', '31', '31', '31', '30', '30', '30', '30', '30', '30', '30', '30', '30', '30', '30', '30', '30', '30', '30', '29', '30', '29', '33', '33', '33', '33', '33', '33', '33', '33', '32', '32', '32', '33', '33', '32', '32', '32', '32', '32', '32', '32', '32', '31', '31', '31', '32', '31', '35', '35', '35', '35', '34', '34', '33', '33', '32', '32', '33', '33', '33', '34', '34', '34', '34', '34', '34', '32', '32', '32', '32', '31', '32', '31', '33', '33', '33', '33', '32', '32', '31', '31', '31', '31', '30', '31', '30', '34', '34', '34', '34', '33', '33', '31', '31', '31', '31', '31', '32', '31', '34', '34', '33', '33', '33', '33', '32', '32', '32', '32', '31', '32', '31', '34', '34', '33', '33', '33', '33', '31', '31', '31', '31', '30', '31', '30', '33', '33', '33', '33', '32', '32', '30', '30', '30', '30', '30', '31', '30', '32', '32', '32', '32', '32', '32', '31', '31', '30', '30', '30', '30', '30', '32', '32', '32', '32', '32', '32', '31', '31', '30', '30', '30', '31', '30', '34', '34', '34', '34', '33', '33', '32', '32', '32', '32', '32', '31', '31', '34', '34', '34', '34', '34', '34', '32', '32', '32', '32', '32', '32', '32', '33', '33', '33', '33', '33', '33', '32', '32', '32', '32', '32', '31', '31', '32', '32', '32', '32', '32', '32', '31', '31', '30', '30', '30', '31', '31', '34', '34', '34', '34', '34', '34', '33', '33', '33', '33', '33', '34', '33', '33', '33', '33', '33', '32', '32', '32', '32', '31', '31', '31', '32', '31', '31', '31', '31', '31', '30', '30', '30', '30', '30', '30', '30', '30', '30', '33', '33', '33', '33', '33', '33', '32', '32', '32', '32', '31', '32', '31', '28', '28', '29', '29', '28', '28', '28', '28', '27', '27', '27', '28', '28', '29', '29', '29', '29', '28', '28', '27', '27', '27', '27', '27', '28', '28', '32', '32', '33', '33', '33', '33', '32', '32', '32', '32', '32', '32', '32', '31', '31', '31', '31', '31', '31', '30', '30', '31', '31', '31', '31', '31']\n"
     ]
    }
   ],
   "metadata": {}
  },
  {
   "cell_type": "code",
   "execution_count": 124,
   "source": [
    "# parse\r\n",
    "# parsing(구문분석)"
   ],
   "outputs": [],
   "metadata": {}
  },
  {
   "cell_type": "code",
   "execution_count": 126,
   "source": [
    "from bs4 import BeautifulSoup\r\n",
    "# div = division => 하나의 영역을 설정하는 용도\r\n",
    "# id = 식별자(구분하기 위해)\r\n",
    "# div가 부모 자식은 2개\r\n",
    "# ul태그는 목록을 나타내는 태그\r\n",
    "\r\n",
    "html4 = \"\"\"\r\n",
    "<html><body>\r\n",
    "<div id=\"lang\">  \r\n",
    "    <h1>programming</h1>\r\n",
    "    <ul class=\"items\">\r\n",
    "        <li>python</li>\r\n",
    "        <li>java</li>\r\n",
    "        <li>cpp</li>\r\n",
    "    </ul>\r\n",
    "</div>\r\n",
    "</body></html>\r\n",
    "\"\"\"\r\n"
   ],
   "outputs": [],
   "metadata": {}
  },
  {
   "cell_type": "code",
   "execution_count": 128,
   "source": [
    "soup=BeautifulSoup(html4, 'html.parser')"
   ],
   "outputs": [],
   "metadata": {}
  },
  {
   "cell_type": "code",
   "execution_count": 137,
   "source": [
    "# programming 추출\r\n",
    "soup.html.body.div.h1.string\r\n",
    "soup.h1.string\r\n",
    "soup.div.h1.string\r\n",
    "soup.find('h1').string"
   ],
   "outputs": [
    {
     "output_type": "execute_result",
     "data": {
      "text/plain": [
       "'programming'"
      ]
     },
     "metadata": {},
     "execution_count": 137
    }
   ],
   "metadata": {}
  },
  {
   "cell_type": "code",
   "execution_count": 140,
   "source": [
    "soup.select('div')\r\n",
    "\r\n",
    "# select는 find와는 다르게 대괄호([])가 있다.\r\n",
    "# find : 맨 처음 만나게 되는 div 태그 영역을 추출\r\n",
    "# select: findall처럼 div 태그를 모두 찾아냄(list 형식)\r\n",
    "# select_one: find처럼 맨 처음 만나게 되는 div 태그 영역을 추출\r\n",
    "soup.select_one('div')"
   ],
   "outputs": [
    {
     "output_type": "execute_result",
     "data": {
      "text/plain": [
       "<div id=\"lang\">\n",
       "<h1>programming</h1>\n",
       "<ul class=\"items\">\n",
       "<li>python</li>\n",
       "<li>java</li>\n",
       "<li>cpp</li>\n",
       "</ul>\n",
       "</div>"
      ]
     },
     "metadata": {},
     "execution_count": 140
    }
   ],
   "metadata": {}
  },
  {
   "cell_type": "code",
   "execution_count": 142,
   "source": [
    "html5 = \"\"\"\r\n",
    "<html><body>\r\n",
    "<div id=\"lang\">  \r\n",
    "    <h1>programming</h1>\r\n",
    "    <ul class=\"items\">\r\n",
    "        <li>python</li>\r\n",
    "        <li>java</li>\r\n",
    "        <li>cpp</li>\r\n",
    "    </ul>\r\n",
    "</div>\r\n",
    "</body></html>\r\n",
    "\"\"\""
   ],
   "outputs": [],
   "metadata": {}
  },
  {
   "cell_type": "code",
   "execution_count": 144,
   "source": [
    "soup=BeautifulSoup(html5, 'html.parser')"
   ],
   "outputs": [
    {
     "output_type": "execute_result",
     "data": {
      "text/plain": [
       "\n",
       "<html><body>\n",
       "<div id=\"lang\">\n",
       "<h1>programming</h1>\n",
       "<ul class=\"items\">\n",
       "<li>python</li>\n",
       "<li>java</li>\n",
       "<li>cpp</li>\n",
       "</ul>\n",
       "</div>\n",
       "</body></html>"
      ]
     },
     "metadata": {},
     "execution_count": 144
    }
   ],
   "metadata": {}
  },
  {
   "cell_type": "code",
   "execution_count": 150,
   "source": [
    "soup.select('div')\r\n",
    "soup.select('div')[0]\r\n",
    "# soup.select('div')[0].hi\r\n",
    "# soup.select('div').hi : error"
   ],
   "outputs": [
    {
     "output_type": "execute_result",
     "data": {
      "text/plain": [
       "<div id=\"lang\">\n",
       "<h1>programming</h1>\n",
       "<ul class=\"items\">\n",
       "<li>python</li>\n",
       "<li>java</li>\n",
       "<li>cpp</li>\n",
       "</ul>\n",
       "</div>"
      ]
     },
     "metadata": {},
     "execution_count": 150
    }
   ],
   "metadata": {}
  },
  {
   "cell_type": "code",
   "execution_count": 159,
   "source": [
    "soup.select('div#lang') #id가 lang인 div태그를 추출\r\n",
    "\r\n",
    "soup.select('div#lang')[0] # 0을 하면 내부로 들어감(리스트의)\r\n",
    "\r\n",
    "# 한 개를 추출\r\n",
    "soup.select_one('div#lang')\r\n",
    "\r\n",
    "soup.select('div#lang > h1') # 꺽새(>)를 통해 h1로 들어간다"
   ],
   "outputs": [
    {
     "output_type": "execute_result",
     "data": {
      "text/plain": [
       "[<h1>programming</h1>]"
      ]
     },
     "metadata": {},
     "execution_count": 159
    }
   ],
   "metadata": {}
  },
  {
   "cell_type": "code",
   "execution_count": 161,
   "source": [
    "soup.find_all('li')[1].string"
   ],
   "outputs": [
    {
     "output_type": "execute_result",
     "data": {
      "text/plain": [
       "'java'"
      ]
     },
     "metadata": {},
     "execution_count": 161
    }
   ],
   "metadata": {}
  },
  {
   "cell_type": "code",
   "execution_count": 163,
   "source": [
    "soup.select('li')[1].string"
   ],
   "outputs": [
    {
     "output_type": "execute_result",
     "data": {
      "text/plain": [
       "'java'"
      ]
     },
     "metadata": {},
     "execution_count": 163
    }
   ],
   "metadata": {}
  },
  {
   "cell_type": "code",
   "execution_count": 166,
   "source": [
    "soup.li.next_sibling.next_sibling.string"
   ],
   "outputs": [
    {
     "output_type": "execute_result",
     "data": {
      "text/plain": [
       "'java'"
      ]
     },
     "metadata": {},
     "execution_count": 166
    }
   ],
   "metadata": {}
  },
  {
   "cell_type": "code",
   "execution_count": 167,
   "source": [
    "soup.select('div#lang > ul > li')[1].string"
   ],
   "outputs": [
    {
     "output_type": "execute_result",
     "data": {
      "text/plain": [
       "'java'"
      ]
     },
     "metadata": {},
     "execution_count": 167
    }
   ],
   "metadata": {}
  },
  {
   "cell_type": "code",
   "execution_count": 169,
   "source": [
    "soup.find('div').find('li')"
   ],
   "outputs": [
    {
     "output_type": "execute_result",
     "data": {
      "text/plain": [
       "<li>python</li>"
      ]
     },
     "metadata": {},
     "execution_count": 169
    }
   ],
   "metadata": {}
  },
  {
   "cell_type": "code",
   "execution_count": 176,
   "source": [
    "from bs4 import BeautifulSoup \n",
    "import re # 정규 표현식을 사용할 때 --- (※1)\n",
    "html = \"\"\"\n",
    "<ul>\n",
    "  <li><a href=\"hoge.html\">hoge</li>\n",
    "  <li><a href=\"https://example.com/fuga\">fuga*</li>\n",
    "  <li><a href=\"https://example.com/foo\">foo*</li>\n",
    "  <li><a href=\"http://example.com/aaa\">aaa</li>\n",
    "</ul>\n",
    "\"\"\"\n",
    "# </a>가 생략가능"
   ],
   "outputs": [],
   "metadata": {}
  },
  {
   "cell_type": "code",
   "execution_count": 187,
   "source": [
    "soup=BeautifulSoup(html, 'html.parser')\n",
    "\n",
    "list1=soup.select('a')\n",
    "print(list1[0].string)\n",
    "print(list1[3].string)"
   ],
   "outputs": [
    {
     "output_type": "stream",
     "name": "stdout",
     "text": [
      "hoge\n",
      "aaa\n"
     ]
    }
   ],
   "metadata": {}
  },
  {
   "cell_type": "code",
   "execution_count": 194,
   "source": [
    "list2=soup.select('a')\n",
    "\n",
    "for i in list2:\n",
    "    print(i.attrs['href'])"
   ],
   "outputs": [
    {
     "output_type": "stream",
     "name": "stdout",
     "text": [
      "hoge.html\n",
      "https://example.com/fuga\n",
      "https://example.com/foo\n",
      "http://example.com/aaa\n"
     ]
    }
   ],
   "metadata": {}
  },
  {
   "cell_type": "code",
   "execution_count": 199,
   "source": [
    "[list2.attrs['href'] for list2 in soup.select('a')]"
   ],
   "outputs": [
    {
     "output_type": "execute_result",
     "data": {
      "text/plain": [
       "['hoge.html',\n",
       " 'https://example.com/fuga',\n",
       " 'https://example.com/foo',\n",
       " 'http://example.com/aaa']"
      ]
     },
     "metadata": {},
     "execution_count": 199
    }
   ],
   "metadata": {}
  },
  {
   "cell_type": "code",
   "execution_count": 198,
   "source": [
    "[sel.string for sel in soup.select('ul > li > a')]"
   ],
   "outputs": [
    {
     "output_type": "execute_result",
     "data": {
      "text/plain": [
       "['hoge', 'fuga*', 'foo*', 'aaa']"
      ]
     },
     "metadata": {},
     "execution_count": 198
    }
   ],
   "metadata": {}
  },
  {
   "cell_type": "code",
   "execution_count": 207,
   "source": [
    "res = soup.select('li > a')\n",
    "addr=[ i.attrs['href'] for i in res]"
   ],
   "outputs": [],
   "metadata": {}
  },
  {
   "cell_type": "code",
   "execution_count": 224,
   "source": [
    "import re \n",
    "\n",
    "for i in addr:\n",
    "    res=re.findall('https://[\\w./]*',i)\n",
    "    if res :\n",
    "        print(res)"
   ],
   "outputs": [
    {
     "output_type": "stream",
     "name": "stdout",
     "text": [
      "['https://example.com/fuga']\n",
      "['https://example.com/foo']\n"
     ]
    }
   ],
   "metadata": {}
  },
  {
   "cell_type": "code",
   "execution_count": 216,
   "source": [
    "[re.findall('https://[\\w./]*', i) for i in addr]"
   ],
   "outputs": [
    {
     "output_type": "execute_result",
     "data": {
      "text/plain": [
       "[[], ['https://example.com/fuga'], ['https://example.com/foo'], []]"
      ]
     },
     "metadata": {},
     "execution_count": 216
    }
   ],
   "metadata": {}
  },
  {
   "cell_type": "code",
   "execution_count": 228,
   "source": [
    "li=soup.find_all(href=re.compile('^https://')) #앞에 ^를 붙이면 시작을 의미"
   ],
   "outputs": [],
   "metadata": {}
  },
  {
   "cell_type": "code",
   "execution_count": 230,
   "source": [
    "for i in li:\n",
    "    print(i.attrs['href'])"
   ],
   "outputs": [
    {
     "output_type": "stream",
     "name": "stdout",
     "text": [
      "https://example.com/fuga\n",
      "https://example.com/foo\n"
     ]
    }
   ],
   "metadata": {}
  },
  {
   "cell_type": "code",
   "execution_count": 9,
   "source": [
    "url='https://ko.wikisource.org/wiki/%EC%A0%80%EC%9E%90:%EC%9C%A4%EB%8F%99%EC%A3%BC' #저자 윤동주"
   ],
   "outputs": [],
   "metadata": {}
  },
  {
   "cell_type": "code",
   "execution_count": 11,
   "source": [
    "res=req.urlopen(url)\r\n",
    "soup=BeautifulSoup(res, 'html.parser')\r\n",
    "soup"
   ],
   "outputs": [
    {
     "output_type": "execute_result",
     "data": {
      "text/plain": [
       "an class=\"mw-editsection\"><span class=\"mw-editsection-bracket\">[</span><a href=\"/w/index.php?title=%EC%A0%80%EC%9E%90:%EC%9C%A4%EB%8F%99%EC%A3%BC&amp;action=edit&amp;section=3\" title=\"부분 편집: 산문\">편집</a><span class=\"mw-editsection-bracket\">]</span></span></h3>\n",
       "<ul><li><a class=\"mw-redirect\" href=\"/wiki/%ED%8A%B8%EB%A3%A8%EA%B2%8C%EB%84%A4%ED%94%84%EC%9D%98_%EC%96%B8%EB%8D%95\" title=\"트루게네프의 언덕\">트루게네프의 언덕</a></li>\n",
       "<li><a href=\"/wiki/%EB%8B%AC%EC%9D%84_%EC%8F%98%EB%8B%A4\" title=\"달을 쏘다\">달을 쏘다</a></li>\n",
       "<li><a href=\"/wiki/%EB%B3%84%EB%98%A5_%EB%96%A8%EC%96%B4%EC%A7%84_%EB%8D%B0\" title=\"별똥 떨어진 데\">별똥 떨어진 데</a></li>\n",
       "<li><a class=\"mw-redirect\" href=\"/wiki/%ED%99%94%EC%9B%90%EC%97%90_%EA%BD%83%EC%9D%B4_%ED%95%80%EB%8B%A4\" title=\"화원에 꽃이 핀다\">화원에 꽃이 핀다</a></li>\n",
       "<li><a href=\"/wiki/%EC%A2%85%EC%8B%9C\" title=\"종시\">종시</a></li></ul>\n",
       "<div class=\"licenseContainer licenseBanner\" style=\"box-sizing:border-box; margin-top:0.25em; margin-bottom:0.25em; clear:both; width:auto;\">\n",
       "<div class=\"licFrame-top\" style=\"display:table; border-collapse:collapse; border-spacing:0px 0px; empty-cells:hide; border:2px solid #88A; box-sizing:border-box; margin:0 auto 0 auto; width:100%;\">\n",
       "<div style=\"display:table-row-group; background-color:#F7F8FF;\">\n",
       "<div style=\"display:table-row;\">\n",
       "<div class=\"licFrame-leftfield\" style=\"display:table-cell; padding:5px 5px 5px 5px; text-align:left; vertical-align:middle; width:auto;\"><span id=\"imageLeft\"><img alt=\"\" data-file-height=\"196\" data-file-width=\"196\" decoding=\"async\" height=\"48\" src=\"//upload.wikimedia.org/wikipedia/commons/thumb/6/62/PD-icon.svg/48px-PD-icon.svg.png\" srcset=\"//upload.wikimedia.org/wikipedia/commons/thumb/6/62/PD-icon.svg/72px-PD-icon.svg.png 1.5x, //upload.wikimedia.org/wikipedia/commons/thumb/6/62/PD-icon.svg/96px-PD-icon.svg.png 2x\" width=\"48\"/></span>\n",
       "</div>\n",
       "<div class=\"licFrame-centerfield\" style=\"display:table-cell; padding:5px 5px 5px 5px; text-align:center; vertical-align:middle; width:auto;\"><div class=\"reduP\" id=\"licFrame-centertext\" style=\"display:block; margin:0 auto 0 auto; text-align:left; width:100%;\">\n",
       "<p>이 저자의 저작물은 저자가 사망한 지 70년이 넘었으므로, 저자가 사망한 후 70년(또는 그 이하)이 지나면 저작권이 소멸하는 국가에서 <a class=\"extiw\" href=\"https://ko.wikipedia.org/wiki/%ED%8D%BC%EB%B8%94%EB%A6%AD_%EB%8F%84%EB%A9%94%EC%9D%B8\" title=\"w:퍼블릭 도메인\">퍼블릭 도메인</a>입니다. \n",
       "</p>\n",
       "<hr/>\n",
       "<div class=\"floatleft\"><a class=\"image\" href=\"/wiki/%ED%8C%8C%EC%9D%BC:Nuvola_apps_important.svg\" title=\"주의\"><img alt=\"주의\" data-file-height=\"500\" data-file-width=\"600\" decoding=\"async\" height=\"29\" src=\"//upload.wikimedia.org/wikipedia/commons/thumb/f/f7/Nuvola_apps_important.svg/35px-Nuvola_apps_important.svg.png\" srcset=\"//upload.wikimedia.org/wikipedia/commons/thumb/f/f7/Nuvola_apps_important.svg/53px-Nuvola_apps_important.svg.png 1.5x, //upload.wikimedia.org/wikipedia/commons/thumb/f/f7/Nuvola_apps_important.svg/70px-Nuvola_apps_important.svg.png 2x\" width=\"35\"/></a></div> <span style=\"font-size:85%;\">1923년에서 1977년 사이에 출판되었다면 미국에서 퍼블릭 도메인이 아닐 수 있습니다. 미국에서 퍼블릭 도메인인 저작물에는 {{<a href=\"/wiki/%ED%8B%80:PD-1996\" title=\"틀:PD-1996\">PD-1996</a>}}를 사용하십시오.</span>\n",
       "</div>\n",
       "</div>\n",
       "<div class=\"licFrame-rightfield\" style=\"display:table-cell; padding:5px 5px 5px 5px; text-align:right; vertical-align:middle; width:auto;\"><span id=\"noimageRight\"> </span>\n",
       "</div>\n",
       "</div>\n",
       "</div>\n",
       "</div>\n",
       "<div class=\"licensetpl\" style=\"display:none\"><span class=\"licensetpl_short\">Public domain</span><span class=\"licensetpl_long\">Public domain</span><span class=\"licensetpl_link_req\">false</span><span class=\"licensetpl_attr_req\">false</span>\n",
       "</div>\n",
       "</div>\n",
       "<!-- \n",
       "NewPP limit report\n",
       "Parsed by mw2327\n",
       "Cached time: 20210713102358\n",
       "Cache expiry: 1814400\n",
       "Reduced expiry: false\n",
       "Complications: []\n",
       "CPU time usage: 0.066 seconds\n",
       "Real time usage: 0.090 seconds\n",
       "Preprocessor visited node count: 278/1000000\n",
       "Post‐expand include size: 6928/2097152 bytes\n",
       "Template argument size: 1961/2097152 bytes\n",
       "Highest expansion depth: 7/40\n",
       "Expensive parser function count: 0/500\n",
       "Unstrip recursion depth: 0/20\n",
       "Unstrip post‐expand size: 0/5000000 bytes\n",
       "Number of Wikibase entities loaded: 0/400\n",
       "-->\n",
       "<!--\n",
       "Transclusion expansion time report (%,ms,calls,template)\n",
       "100.00%   30.413      1 -total\n",
       " 46.69%   14.199      1 틀:글쓴이\n",
       " 38.66%   11.757      1 틀:PD-old-70\n",
       " 24.53%    7.460      1 틀:저작권\n",
       " 12.84%    3.905      1 틀:미완성\n",
       " 12.26%    3.728      1 틀:위키백과_인용\n",
       "-->\n",
       "<!-- Saved in parser cache with key kowikisource:pcache:idhash:1681-0!canonical and timestamp 20210713102358 and revision id 193152. Serialized with JSON.\n",
       " -->\n",
       "</div><noscript><img alt=\"\" height=\"1\" src=\"//ko.wikisource.org/wiki/Special:CentralAutoLogin/start?type=1x1\" style=\"border: none; position: absolute;\" title=\"\" width=\"1\"/></noscript>\n",
       "<div class=\"printfooter\">원본 주소 \"<a dir=\"ltr\" href=\"https://ko.wikisource.org/w/index.php?title=저자:윤동주&amp;oldid=193152\">https://ko.wikisource.org/w/index.php?title=저자:윤동주&amp;oldid=193152</a>\"</div></div>\n",
       "<div class=\"catlinks\" data-mw=\"interface\" id=\"catlinks\"><div class=\"mw-normal-catlinks\" id=\"mw-normal-catlinks\"><a href=\"/wiki/%ED%8A%B9%EC%88%98:%EB%B6%84%EB%A5%98\" title=\"특수:분류\">분류</a>: <ul><li><a href=\"/wiki/%EB%B6%84%EB%A5%98:%EC%A0%80%EC%9E%90_%E3%85%87\" title=\"분류:저자 ㅇ\">저자 ㅇ</a></li><li><a href=\"/wiki/%EB%B6%84%EB%A5%98:%EC%9D%BC%EC%A0%9C_%EA%B0%95%EC%A0%90%EA%B8%B0%EC%9D%98_%EC%A0%80%EC%9E%90\" title=\"분류:일제 강점기의 저자\">일제 강점기의 저자</a></li><li><a href=\"/wiki/%EB%B6%84%EB%A5%98:1917%EB%85%84_%ED%83%9C%EC%96%B4%EB%82%A8\" title=\"분류:1917년 태어남\">1917년 태어남</a></li><li><a href=\"/wiki/%EB%B6%84%EB%A5%98:1945%EB%85%84_%EC%A3%BD%EC%9D%8C\" title=\"분류:1945년 죽음\">1945년 죽음</a></li><li><a href=\"/wiki/%EB%B6%84%EB%A5%98:%EC%A0%80%EC%9E%90-PD-old-70\" title=\"분류:저자-PD-old-70\">저자-PD-old-70</a></li></ul></div></div>\n",
       "</div>\n",
       "</div>\n",
       "<div id=\"mw-navigation\">\n",
       "<h2>둘러보기 메뉴</h2>\n",
       "<div id=\"mw-head\">\n",
       "<nav aria-labelledby=\"p-personal-label\" class=\"mw-portlet mw-portlet-personal vector-user-menu-legacy vector-menu\" id=\"p-personal\" role=\"navigation\">\n",
       "<h3 class=\"vector-menu-heading\" id=\"p-personal-label\">\n",
       "<span>개인 도구</span>\n",
       "</h3>\n",
       "<div class=\"vector-menu-content\">\n",
       "<ul class=\"vector-menu-content-list\"><li id=\"pt-anonuserpage\">로그인하지 않음</li><li id=\"pt-anontalk\"><a accesskey=\"n\" href=\"/wiki/%ED%8A%B9%EC%88%98:%EB%82%B4%EC%82%AC%EC%9A%A9%EC%9E%90%ED%86%A0%EB%A1%A0\" title=\"현재 사용하는 IP 주소에 대한 토론 문서 [n]\">토론</a></li><li id=\"pt-anoncontribs\"><a accesskey=\"y\" href=\"/wiki/%ED%8A%B9%EC%88%98:%EB%82%B4%EA%B8%B0%EC%97%AC\" title=\"이 IP 주소의 편집 목록 [y]\">기여</a></li><li id=\"pt-createaccount\"><a href=\"/w/index.php?title=%ED%8A%B9%EC%88%98:%EA%B3%84%EC%A0%95%EB%A7%8C%EB%93%A4%EA%B8%B0&amp;returnto=%EC%A0%80%EC%9E%90%3A%EC%9C%A4%EB%8F%99%EC%A3%BC\" title=\"계정을 만들고 로그인하는 것이 좋습니다; 하지만, 필수는 아닙니다\">계정 만들기</a></li><li id=\"pt-login\"><a accesskey=\"o\" href=\"/w/index.php?title=%ED%8A%B9%EC%88%98:%EB%A1%9C%EA%B7%B8%EC%9D%B8&amp;returnto=%EC%A0%80%EC%9E%90%3A%EC%9C%A4%EB%8F%99%EC%A3%BC\" title=\"꼭 로그인해야 하는 것은 아니지만, 로그인을 권장합니다. [o]\">로그인</a></li></ul>\n",
       "</div>\n",
       "</nav>\n",
       "<div id=\"left-navigation\">\n",
       "<nav aria-labelledby=\"p-namespaces-label\" class=\"mw-portlet mw-portlet-namespaces vector-menu vector-menu-tabs\" id=\"p-namespaces\" role=\"navigation\">\n",
       "<h3 class=\"vector-menu-heading\" id=\"p-namespaces-label\">\n",
       "<span>이름공간</span>\n",
       "</h3>\n",
       "<div class=\"vector-menu-content\">\n",
       "<ul class=\"vector-menu-content-list\"><li class=\"selected\" id=\"ca-nstab-저자\"><a href=\"/wiki/%EC%A0%80%EC%9E%90:%EC%9C%A4%EB%8F%99%EC%A3%BC\">저자</a></li><li id=\"ca-talk\"><a accesskey=\"t\" href=\"/wiki/%EC%A0%80%EC%9E%90%ED%86%A0%EB%A1%A0:%EC%9C%A4%EB%8F%99%EC%A3%BC\" rel=\"discussion\" title=\"문서의 내용에 대한 토론 문서 [t]\">토론</a></li></ul>\n",
       "</div>\n",
       "</nav>\n",
       "<nav aria-labelledby=\"p-variants-label\" class=\"mw-portlet mw-portlet-variants emptyPortlet vector-menu vector-menu-dropdown\" id=\"p-variants\" role=\"navigation\">\n",
       "<input aria-labelledby=\"p-variants-label\" class=\"vector-menu-checkbox\" data-event-name=\"ui.dropdown-p-variants\" type=\"checkbox\"/>\n",
       "<h3 class=\"vector-menu-heading\" id=\"p-variants-label\">\n",
       "<span>변수</span>\n",
       "</h3>\n",
       "<div class=\"vector-menu-content\">\n",
       "<ul class=\"vector-menu-content-list\"></ul>\n",
       "</div>\n",
       "</nav>\n",
       "</div>\n",
       "<div id=\"right-navigation\">\n",
       "<nav aria-labelledby=\"p-views-label\" class=\"mw-portlet mw-portlet-views vector-menu vector-menu-tabs\" id=\"p-views\" role=\"navigation\">\n",
       "<h3 class=\"vector-menu-heading\" id=\"p-views-label\">\n",
       "<span>보기</span>\n",
       "</h3>\n",
       "<div class=\"vector-menu-content\">\n",
       "<ul class=\"vector-menu-content-list\"><li class=\"selected\" id=\"ca-view\"><a href=\"/wiki/%EC%A0%80%EC%9E%90:%EC%9C%A4%EB%8F%99%EC%A3%BC\">읽기</a></li><li id=\"ca-edit\"><a accesskey=\"e\" href=\"/w/index.php?title=%EC%A0%80%EC%9E%90:%EC%9C%A4%EB%8F%99%EC%A3%BC&amp;action=edit\" title=\"이 문서 편집하기 [e]\">편집</a></li><li id=\"ca-history\"><a accesskey=\"h\" href=\"/w/index.php?title=%EC%A0%80%EC%9E%90:%EC%9C%A4%EB%8F%99%EC%A3%BC&amp;action=history\" title=\"문서의 과거 판 [h]\">역사 보기</a></li></ul>\n",
       "</div>\n",
       "</nav>\n",
       "<nav aria-labelledby=\"p-cactions-label\" class=\"mw-portlet mw-portlet-cactions emptyPortlet vector-menu vector-menu-dropdown\" id=\"p-cactions\" role=\"navigation\">\n",
       "<input aria-labelledby=\"p-cactions-label\" class=\"vector-menu-checkbox\" data-event-name=\"ui.dropdown-p-cactions\" type=\"checkbox\"/>\n",
       "<h3 class=\"vector-menu-heading\" id=\"p-cactions-label\">\n",
       "<span>더 보기</span>\n",
       "</h3>\n",
       "<div class=\"vector-menu-content\">\n",
       "<ul class=\"vector-menu-content-list\"></ul>\n",
       "</div>\n",
       "</nav>\n",
       "<div class=\"vector-search-box\" id=\"p-search\" role=\"search\">\n",
       "<div>\n",
       "<h3>\n",
       "<label for=\"searchInput\">검색</label>\n",
       "</h3>\n",
       "<form action=\"/w/index.php\" id=\"searchform\">\n",
       "<div data-search-loc=\"header-navigation\" id=\"simpleSearch\">\n",
       "<input accesskey=\"f\" autocapitalize=\"sentences\" id=\"searchInput\" name=\"search\" placeholder=\"위키문헌 검색\" title=\"위키문헌 검색 [f]\" type=\"search\"/>\n",
       "<input name=\"title\" type=\"hidden\" value=\"특수:검색\"/>\n",
       "<input class=\"searchButton mw-fallbackSearchButton\" id=\"mw-searchButton\" name=\"fulltext\" title=\"이 문자열이 포함된 문서 찾기\" type=\"submit\" value=\"검색\"/>\n",
       "<input class=\"searchButton\" id=\"searchButton\" name=\"go\" title=\"이 이름의 문서가 존재하면 그 문서로 바로가기\" type=\"submit\" value=\"보기\"/>\n",
       "</div>\n",
       "</form>\n",
       "</div>\n",
       "</div>\n",
       "</div>\n",
       "</div>\n",
       "<div id=\"mw-panel\">\n",
       "<div id=\"p-logo\" role=\"banner\">\n",
       "<a class=\"mw-wiki-logo\" href=\"/wiki/%EC%9C%84%ED%82%A4%EB%AC%B8%ED%97%8C:%EB%8C%80%EB%AC%B8\" title=\"대문으로 가기\"></a>\n",
       "</div>\n",
       "<nav aria-labelledby=\"p-navigation-label\" class=\"mw-portlet mw-portlet-navigation vector-menu vector-menu-portal portal\" id=\"p-navigation\" role=\"navigation\">\n",
       "<h3 class=\"vector-menu-heading\" id=\"p-navigation-label\">\n",
       "<span>둘러보기</span>\n",
       "</h3>\n",
       "<div class=\"vector-menu-content\">\n",
       "<ul class=\"vector-menu-content-list\"><li id=\"n-mainpage-description\"><a accesskey=\"z\" href=\"/wiki/%EC%9C%84%ED%82%A4%EB%AC%B8%ED%97%8C:%EB%8C%80%EB%AC%B8\" title=\"대문으로 가기 [z]\">대문</a></li><li id=\"n-portal\"><a href=\"/wiki/%EC%9C%84%ED%82%A4%EB%AC%B8%ED%97%8C:%EC%82%AC%EC%9A%A9%EC%9E%90_%EB%AA%A8%EC%9E%84\" title=\"프로젝트에 대해 여러분이 할 수 있고, 정보를 찾을 수 있는 곳\">사용자 모임</a></li><li id=\"n-recentchanges\"><a accesskey=\"r\" href=\"/wiki/%ED%8A%B9%EC%88%98:%EC%B5%9C%EA%B7%BC%EB%B0%94%EB%80%9C\" title=\"위키의 최근 바뀐 목록 [r]\">최근 바뀜</a></li><li id=\"n-index\"><a href=\"/wiki/%ED%8A%B9%EC%88%98:%EB%AA%A8%EB%93%A0%EB%AC%B8%EC%84%9C\">모든 문서 나열</a></li><li id=\"n-임의-작품으로\"><a href=\"/wiki/%ED%8A%B9%EC%88%98:%EC%9E%84%EC%9D%98%EC%B5%9C%EC%83%81%EC%9C%84%EB%AC%B8%EC%84%9C/Main\">임의 작품으로</a></li><li id=\"n-임의-저자로\"><a href=\"/wiki/%ED%8A%B9%EC%88%98:%EC%9E%84%EC%9D%98%EB%AC%B8%EC%84%9C/Author\">임의 저자로</a></li><li id=\"n-임의-포털로\"><a href=\"/wiki/%ED%8A%B9%EC%88%98:%EC%9E%84%EC%9D%98%EB%AC%B8%EC%84%9C/Portal\">임의 포털로</a></li><li id=\"n-help\"><a href=\"/wiki/%EC%9C%84%ED%82%A4%EB%AC%B8%ED%97%8C:%EB%8F%84%EC%9B%80%EB%A7%90\" title=\"도움말\">도움말</a></li><li id=\"n-sitesupport\"><a href=\"//donate.wikimedia.org/wiki/Special:FundraiserRedirector?utm_source=donate&amp;utm_medium=sidebar&amp;utm_campaign=C13_ko.wikisource.org&amp;uselang=ko\" title=\"지원을 기다립니다\">기부하기</a></li></ul>\n",
       "</div>\n",
       "</nav>\n",
       "<nav aria-labelledby=\"p-do-label\" class=\"mw-portlet mw-portlet-do emptyPortlet vector-menu vector-menu-portal portal\" id=\"p-do\" role=\"navigation\">\n",
       "<h3 class=\"vector-menu-heading\" id=\"p-do-label\">\n",
       "<span></span>\n",
       "</h3>\n",
       "<div class=\"vector-menu-content\">\n",
       "<ul class=\"vector-menu-content-list\"></ul>\n",
       "</div>\n",
       "</nav>\n",
       "<nav aria-labelledby=\"p-tb-label\" class=\"mw-portlet mw-portlet-tb vector-menu vector-menu-portal portal\" id=\"p-tb\" role=\"navigation\">\n",
       "<h3 class=\"vector-menu-heading\" id=\"p-tb-label\">\n",
       "<span>도구</span>\n",
       "</h3>\n",
       "<div class=\"vector-menu-content\">\n",
       "<ul class=\"vector-menu-content-list\"><li id=\"t-whatlinkshere\"><a accesskey=\"j\" href=\"/wiki/%ED%8A%B9%EC%88%98:%EA%B0%80%EB%A6%AC%ED%82%A4%EB%8A%94%EB%AC%B8%EC%84%9C/%EC%A0%80%EC%9E%90:%EC%9C%A4%EB%8F%99%EC%A3%BC\" title=\"여기를 가리키는 모든 위키 문서의 목록 [j]\">여기를 가리키는 문서</a></li><li id=\"t-recentchangeslinked\"><a accesskey=\"k\" href=\"/wiki/%ED%8A%B9%EC%88%98:%EB%A7%81%ED%81%AC%EC%B5%9C%EA%B7%BC%EB%B0%94%EB%80%9C/%EC%A0%80%EC%9E%90:%EC%9C%A4%EB%8F%99%EC%A3%BC\" rel=\"nofollow\" title=\"이 문서에서 링크한 문서의 최근 바뀜 [k]\">가리키는 글의 최근 바뀜</a></li><li id=\"t-upload\"><a accesskey=\"u\" href=\"//commons.wikimedia.org/wiki/Special:UploadWizard?uselang=ko\" title=\"파일 올리기 [u]\">파일 올리기</a></li><li id=\"t-specialpages\"><a accesskey=\"q\" href=\"/wiki/%ED%8A%B9%EC%88%98:%ED%8A%B9%EC%88%98%EB%AC%B8%EC%84%9C\" title=\"모든 특수 문서의 목록 [q]\">특수 문서 목록</a></li><li id=\"t-permalink\"><a href=\"/w/index.php?title=%EC%A0%80%EC%9E%90:%EC%9C%A4%EB%8F%99%EC%A3%BC&amp;oldid=193152\" title=\"문서의 이 판에 대한 고유링크\">고유 링크</a></li><li id=\"t-info\"><a href=\"/w/index.php?title=%EC%A0%80%EC%9E%90:%EC%9C%A4%EB%8F%99%EC%A3%BC&amp;action=info\" title=\"이 문서에 대한 자세한 정보\">문서 정보</a></li><li id=\"t-cite\"><a href=\"/w/index.php?title=%ED%8A%B9%EC%88%98:%EC%9D%B4%EB%AC%B8%EC%84%9C%EC%9D%B8%EC%9A%A9&amp;page=%EC%A0%80%EC%9E%90%3A%EC%9C%A4%EB%8F%99%EC%A3%BC&amp;id=193152&amp;wpFormIdentifier=titleform\" title=\"이 문서를 인용하는 방법에 대한 정보\">이 문서 인용하기</a></li><li id=\"t-wikibase\"><a accesskey=\"g\" href=\"https://www.wikidata.org/wiki/Special:EntityPage/Q625089\" title=\"데이터 저장소에 연결된 항목을 가리키는 링크 [g]\">위키데이터 항목</a></li></ul>\n",
       "</div>\n",
       "</nav>\n",
       "<nav aria-labelledby=\"p-coll-print_export-label\" class=\"mw-portlet mw-portlet-coll-print_export vector-menu vector-menu-portal portal\" id=\"p-coll-print_export\" role=\"navigation\">\n",
       "<h3 class=\"vector-menu-heading\" id=\"p-coll-print_export-label\">\n",
       "<span>인쇄/내보내기</span>\n",
       "</h3>\n",
       "<div class=\"vector-menu-content\">\n",
       "<ul class=\"vector-menu-content-list\"><li id=\"coll-create_a_book\"><a href=\"/w/index.php?title=%ED%8A%B9%EC%88%98:%EC%B1%85&amp;bookcmd=book_creator&amp;referer=%EC%A0%80%EC%9E%90%3A%EC%9C%A4%EB%8F%99%EC%A3%BC\">책 만들기</a></li><li id=\"t-print\"><a accesskey=\"p\" href=\"/w/index.php?title=%EC%A0%80%EC%9E%90:%EC%9C%A4%EB%8F%99%EC%A3%BC&amp;printable=yes\" title=\"이 문서의 인쇄용 판 [p]\">인쇄용 판</a></li><li id=\"wikisource-download-epub\"><a href=\"https://ws-export.wmcloud.org/?format=epub&amp;lang=ko&amp;page=%EC%A0%80%EC%9E%90:%EC%9C%A4%EB%8F%99%EC%A3%BC\" title=\"이 작품의 EPUB 버전 다운로드\">EPUB 다운로드</a></li><li id=\"wikisource-download-mobi\"><a href=\"https://ws-export.wmcloud.org/?format=mobi&amp;lang=ko&amp;page=%EC%A0%80%EC%9E%90:%EC%9C%A4%EB%8F%99%EC%A3%BC\" title=\"이 작품의 MOBI 버전 다운로드\">MOBI 다운로드</a></li><li id=\"wikisource-download-pdf\"><a href=\"https://ws-export.wmcloud.org/?format=pdf&amp;lang=ko&amp;page=%EC%A0%80%EC%9E%90:%EC%9C%A4%EB%8F%99%EC%A3%BC\" title=\"이 작품의 PDF 버전 다운로드\">PDF 다운로드</a></li><li id=\"wikisource-download-choose\"><a href=\"https://ws-export.wmcloud.org/?lang=ko&amp;title=%EC%A0%80%EC%9E%90:%EC%9C%A4%EB%8F%99%EC%A3%BC\" title=\"기타 포맷과 글꼴 등을 선택하려면 폼을 여십시오.\">기타 형식</a></li></ul>\n",
       "</div>\n",
       "</nav>\n",
       "<nav aria-labelledby=\"p-wikibase-otherprojects-label\" class=\"mw-portlet mw-portlet-wikibase-otherprojects vector-menu vector-menu-portal portal\" id=\"p-wikibase-otherprojects\" role=\"navigation\">\n",
       "<h3 class=\"vector-menu-heading\" id=\"p-wikibase-otherprojects-label\">\n",
       "<span>다른 프로젝트</span>\n",
       "</h3>\n",
       "<div class=\"vector-menu-content\">\n",
       "<ul class=\"vector-menu-content-list\"><li class=\"wb-otherproject-link wb-otherproject-commons\"><a href=\"https://commons.wikimedia.org/wiki/Category:Yun_Dong-ju\" hreflang=\"en\">위키미디어 공용</a></li><li class=\"wb-otherproject-link wb-otherproject-wikipedia\"><a href=\"https://ko.wikipedia.org/wiki/%EC%9C%A4%EB%8F%99%EC%A3%BC\" hreflang=\"ko\">위키백과</a></li><li class=\"wb-otherproject-link wb-otherproject-wikiquote\"><a href=\"https://ko.wikiquote.org/wiki/%EC%9C%A4%EB%8F%99%EC%A3%BC\" hreflang=\"ko\">위키인용집</a></li></ul>\n",
       "</div>\n",
       "</nav>\n",
       "<nav aria-labelledby=\"p-lang-label\" class=\"mw-portlet mw-portlet-lang vector-menu vector-menu-portal portal\" id=\"p-lang\" role=\"navigation\">\n",
       "<h3 class=\"vector-menu-heading\" id=\"p-lang-label\">\n",
       "<span>다른 언어</span>\n",
       "</h3>\n",
       "<div class=\"vector-menu-content\">\n",
       "<ul class=\"vector-menu-content-list\"><li class=\"interlanguage-link interwiki-ja\"><a class=\"interlanguage-link-target\" href=\"https://ja.wikisource.org/wiki/%E4%BD%9C%E8%80%85:%E5%B0%B9%E6%9D%B1%E6%9F%B1\" hreflang=\"ja\" lang=\"ja\" title=\"作者:尹東柱 – 일본어\">日本語</a></li></ul>\n",
       "<div class=\"after-portlet after-portlet-lang\"><span class=\"wb-langlinks-edit wb-langlinks-link\"><a class=\"wbc-editpage\" href=\"https://www.wikidata.org/wiki/Special:EntityPage/Q625089#sitelinks-wikisource\" title=\"언어 인터위키 링크 편집\">링크 편집</a></span></div>\n",
       "</div>\n",
       "</nav>\n",
       "</div>\n",
       "</div>\n",
       "<footer class=\"mw-footer\" id=\"footer\" role=\"contentinfo\">\n",
       "<ul id=\"footer-info\">\n",
       "<li id=\"footer-info-lastmod\"> 이 문서는 2018년 9월 25일 (화) 14:59에 마지막으로 편집되었습니다.</li>\n",
       "<li id=\"footer-info-copyright\">내용은 <a href=\"https://creativecommons.org/licenses/by-sa/3.0/deed.ko\">크리에이티브 커먼즈 저작자표시-동일조건변경허락 라이선스</a>에 따라 사용할 수 있으며 추가적인 조건이 적용될 수 있습니다.\n",
       "자세한 내용은 <a href=\"https://foundation.wikimedia.org/wiki/Terms_of_Use/ko\">이용 약관</a>을 참조하십시오.</li>\n",
       "</ul>\n",
       "<ul id=\"footer-places\">\n",
       "<li id=\"footer-places-privacy\"><a class=\"extiw\" href=\"https://foundation.wikimedia.org/wiki/Privacy_policy\" title=\"wmf:Privacy policy\">개인정보처리방침</a></li>\n",
       "<li id=\"footer-places-about\"><a href=\"/wiki/%EC%9C%84%ED%82%A4%EB%AC%B8%ED%97%8C:%EC%86%8C%EA%B0%9C\" title=\"위키문헌:소개\">위키문헌 소개</a></li>\n",
       "<li id=\"footer-places-disclaimer\"><a href=\"/wiki/%EC%9C%84%ED%82%A4%EB%AC%B8%ED%97%8C:%EB%A9%B4%EC%B1%85_%EC%A1%B0%ED%95%AD\" title=\"위키문헌:면책 조항\">면책 조항</a></li>\n",
       "<li id=\"footer-places-mobileview\"><a class=\"noprint stopMobileRedirectToggle\" href=\"//ko.m.wikisource.org/w/index.php?title=%EC%A0%80%EC%9E%90:%EC%9C%A4%EB%8F%99%EC%A3%BC&amp;mobileaction=toggle_view_mobile\">모바일 보기</a></li>\n",
       "<li id=\"footer-places-developers\"><a href=\"https://www.mediawiki.org/wiki/Special:MyLanguage/How_to_contribute\">개발자</a></li>\n",
       "<li id=\"footer-places-statslink\"><a href=\"https://stats.wikimedia.org/#/ko.wikisource.org\">통계</a></li>\n",
       "<li id=\"footer-places-cookiestatement\"><a href=\"https://foundation.wikimedia.org/wiki/Cookie_statement\">쿠키 정책</a></li>\n",
       "</ul>\n",
       "<ul class=\"noprint\" id=\"footer-icons\">\n",
       "<li id=\"footer-copyrightico\"><a href=\"https://wikimediafoundation.org/\"><img alt=\"Wikimedia Foundation\" height=\"31\" loading=\"lazy\" src=\"/static/images/footer/wikimedia-button.png\" srcset=\"/static/images/footer/wikimedia-button-1.5x.png 1.5x, /static/images/footer/wikimedia-button-2x.png 2x\" width=\"88\"/></a></li>\n",
       "<li id=\"footer-poweredbyico\"><a href=\"https://www.mediawiki.org/\"><img alt=\"Powered by MediaWiki\" height=\"31\" loading=\"lazy\" src=\"/static/images/footer/poweredby_mediawiki_88x31.png\" srcset=\"/static/images/footer/poweredby_mediawiki_132x47.png 1.5x, /static/images/footer/poweredby_mediawiki_176x62.png 2x\" width=\"88\"/></a></li>\n",
       "</ul>\n",
       "</footer>\n",
       "<script>(RLQ=window.RLQ||[]).push(function(){mw.config.set({\"wgPageParseReport\":{\"limitreport\":{\"cputime\":\"0.066\",\"walltime\":\"0.090\",\"ppvisitednodes\":{\"value\":278,\"limit\":1000000},\"postexpandincludesize\":{\"value\":6928,\"limit\":2097152},\"templateargumentsize\":{\"value\":1961,\"limit\":2097152},\"expansiondepth\":{\"value\":7,\"limit\":40},\"expensivefunctioncount\":{\"value\":0,\"limit\":500},\"unstrip-depth\":{\"value\":0,\"limit\":20},\"unstrip-size\":{\"value\":0,\"limit\":5000000},\"entityaccesscount\":{\"value\":0,\"limit\":400},\"timingprofile\":[\"100.00%   30.413      1 -total\",\" 46.69%   14.199      1 틀:글쓴이\",\" 38.66%   11.757      1 틀:PD-old-70\",\" 24.53%    7.460      1 틀:저작권\",\" 12.84%    3.905      1 틀:미완성\",\" 12.26%    3.728      1 틀:위키백과_인용\"]},\"cachereport\":{\"origin\":\"mw2327\",\"timestamp\":\"20210713102358\",\"ttl\":1814400,\"transientcontent\":false}}});mw.config.set({\"wgBackendResponseTime\":95,\"wgHostname\":\"mw2408\"});});</script>\n",
       "</body></html>"
      ]
     },
     "metadata": {},
     "execution_count": 11
    }
   ],
   "metadata": {}
  },
  {
   "cell_type": "code",
   "execution_count": 12,
   "source": [
    "res=soup.select('#mw-content-text > div.mw-parser-output > ul:nth-child(6) > li > b > a')\r\n",
    "res\r\n",
    "\r\n",
    "#하늘과 바람과 별과 시"
   ],
   "outputs": [
    {
     "output_type": "error",
     "ename": "NotImplementedError",
     "evalue": "Only the following pseudo-classes are implemented: nth-of-type.",
     "traceback": [
      "\u001b[1;31m---------------------------------------------------------------------------\u001b[0m",
      "\u001b[1;31mNotImplementedError\u001b[0m                       Traceback (most recent call last)",
      "\u001b[1;32m<ipython-input-12-88dd0f270bfd>\u001b[0m in \u001b[0;36m<module>\u001b[1;34m\u001b[0m\n\u001b[1;32m----> 1\u001b[1;33m \u001b[0mres\u001b[0m\u001b[1;33m=\u001b[0m\u001b[0msoup\u001b[0m\u001b[1;33m.\u001b[0m\u001b[0mselect\u001b[0m\u001b[1;33m(\u001b[0m\u001b[1;34m'#mw-content-text > div.mw-parser-output > ul:nth-child(6) > li > b > a'\u001b[0m\u001b[1;33m)\u001b[0m\u001b[1;33m\u001b[0m\u001b[1;33m\u001b[0m\u001b[0m\n\u001b[0m\u001b[0;32m      2\u001b[0m \u001b[0mres\u001b[0m\u001b[1;33m\u001b[0m\u001b[1;33m\u001b[0m\u001b[0m\n\u001b[0;32m      3\u001b[0m \u001b[1;33m\u001b[0m\u001b[0m\n\u001b[0;32m      4\u001b[0m \u001b[1;31m#하늘과 바람과 별과 시\u001b[0m\u001b[1;33m\u001b[0m\u001b[1;33m\u001b[0m\u001b[1;33m\u001b[0m\u001b[0m\n",
      "\u001b[1;32mC:\\ProgramData\\Anaconda3\\lib\\site-packages\\bs4\\element.py\u001b[0m in \u001b[0;36mselect\u001b[1;34m(self, selector, _candidate_generator, limit)\u001b[0m\n\u001b[0;32m   1530\u001b[0m                     print(\"    Running candidate generator on %s %s\" % (\n\u001b[0;32m   1531\u001b[0m                         tag.name, repr(tag.attrs)))\n\u001b[1;32m-> 1532\u001b[1;33m                 \u001b[1;32mfor\u001b[0m \u001b[0mcandidate\u001b[0m \u001b[1;32min\u001b[0m \u001b[0m_use_candidate_generator\u001b[0m\u001b[1;33m(\u001b[0m\u001b[0mtag\u001b[0m\u001b[1;33m)\u001b[0m\u001b[1;33m:\u001b[0m\u001b[1;33m\u001b[0m\u001b[1;33m\u001b[0m\u001b[0m\n\u001b[0m\u001b[0;32m   1533\u001b[0m                     \u001b[1;32mif\u001b[0m \u001b[1;32mnot\u001b[0m \u001b[0misinstance\u001b[0m\u001b[1;33m(\u001b[0m\u001b[0mcandidate\u001b[0m\u001b[1;33m,\u001b[0m \u001b[0mTag\u001b[0m\u001b[1;33m)\u001b[0m\u001b[1;33m:\u001b[0m\u001b[1;33m\u001b[0m\u001b[1;33m\u001b[0m\u001b[0m\n\u001b[0;32m   1534\u001b[0m                         \u001b[1;32mcontinue\u001b[0m\u001b[1;33m\u001b[0m\u001b[1;33m\u001b[0m\u001b[0m\n",
      "\u001b[1;32mC:\\ProgramData\\Anaconda3\\lib\\site-packages\\bs4\\element.py\u001b[0m in \u001b[0;36mrecursive_select\u001b[1;34m(tag)\u001b[0m\n\u001b[0;32m   1491\u001b[0m                         \u001b[0mprint\u001b[0m\u001b[1;33m(\u001b[0m\u001b[1;34m'    Calling select(\"%s\") recursively on %s %s'\u001b[0m \u001b[1;33m%\u001b[0m \u001b[1;33m(\u001b[0m\u001b[0mnext_token\u001b[0m\u001b[1;33m,\u001b[0m \u001b[0mtag\u001b[0m\u001b[1;33m.\u001b[0m\u001b[0mname\u001b[0m\u001b[1;33m,\u001b[0m \u001b[0mtag\u001b[0m\u001b[1;33m.\u001b[0m\u001b[0mattrs\u001b[0m\u001b[1;33m)\u001b[0m\u001b[1;33m)\u001b[0m\u001b[1;33m\u001b[0m\u001b[1;33m\u001b[0m\u001b[0m\n\u001b[0;32m   1492\u001b[0m                         \u001b[0mprint\u001b[0m\u001b[1;33m(\u001b[0m\u001b[1;34m'-'\u001b[0m \u001b[1;33m*\u001b[0m \u001b[1;36m40\u001b[0m\u001b[1;33m)\u001b[0m\u001b[1;33m\u001b[0m\u001b[1;33m\u001b[0m\u001b[0m\n\u001b[1;32m-> 1493\u001b[1;33m                     \u001b[1;32mfor\u001b[0m \u001b[0mi\u001b[0m \u001b[1;32min\u001b[0m \u001b[0mtag\u001b[0m\u001b[1;33m.\u001b[0m\u001b[0mselect\u001b[0m\u001b[1;33m(\u001b[0m\u001b[0mnext_token\u001b[0m\u001b[1;33m,\u001b[0m \u001b[0mrecursive_candidate_generator\u001b[0m\u001b[1;33m)\u001b[0m\u001b[1;33m:\u001b[0m\u001b[1;33m\u001b[0m\u001b[1;33m\u001b[0m\u001b[0m\n\u001b[0m\u001b[0;32m   1494\u001b[0m                         \u001b[1;32mif\u001b[0m \u001b[0mself\u001b[0m\u001b[1;33m.\u001b[0m\u001b[0m_select_debug\u001b[0m\u001b[1;33m:\u001b[0m\u001b[1;33m\u001b[0m\u001b[1;33m\u001b[0m\u001b[0m\n\u001b[0;32m   1495\u001b[0m                             \u001b[0mprint\u001b[0m\u001b[1;33m(\u001b[0m\u001b[1;34m'(Recursive select picked up candidate %s %s)'\u001b[0m \u001b[1;33m%\u001b[0m \u001b[1;33m(\u001b[0m\u001b[0mi\u001b[0m\u001b[1;33m.\u001b[0m\u001b[0mname\u001b[0m\u001b[1;33m,\u001b[0m \u001b[0mi\u001b[0m\u001b[1;33m.\u001b[0m\u001b[0mattrs\u001b[0m\u001b[1;33m)\u001b[0m\u001b[1;33m)\u001b[0m\u001b[1;33m\u001b[0m\u001b[1;33m\u001b[0m\u001b[0m\n",
      "\u001b[1;32mC:\\ProgramData\\Anaconda3\\lib\\site-packages\\bs4\\element.py\u001b[0m in \u001b[0;36mselect\u001b[1;34m(self, selector, _candidate_generator, limit)\u001b[0m\n\u001b[0;32m   1448\u001b[0m                     \u001b[0mchecker\u001b[0m \u001b[1;33m=\u001b[0m \u001b[0mCounter\u001b[0m\u001b[1;33m(\u001b[0m\u001b[0mpseudo_value\u001b[0m\u001b[1;33m)\u001b[0m\u001b[1;33m.\u001b[0m\u001b[0mnth_child_of_type\u001b[0m\u001b[1;33m\u001b[0m\u001b[1;33m\u001b[0m\u001b[0m\n\u001b[0;32m   1449\u001b[0m                 \u001b[1;32melse\u001b[0m\u001b[1;33m:\u001b[0m\u001b[1;33m\u001b[0m\u001b[1;33m\u001b[0m\u001b[0m\n\u001b[1;32m-> 1450\u001b[1;33m                     raise NotImplementedError(\n\u001b[0m\u001b[0;32m   1451\u001b[0m                         'Only the following pseudo-classes are implemented: nth-of-type.')\n\u001b[0;32m   1452\u001b[0m \u001b[1;33m\u001b[0m\u001b[0m\n",
      "\u001b[1;31mNotImplementedError\u001b[0m: Only the following pseudo-classes are implemented: nth-of-type."
     ]
    }
   ],
   "metadata": {}
  },
  {
   "cell_type": "code",
   "execution_count": null,
   "source": [
    "import urllib.request as req\r\n",
    "from bs4 import BeautifulSoup"
   ],
   "outputs": [],
   "metadata": {}
  },
  {
   "cell_type": "code",
   "execution_count": 14,
   "source": [
    "res=soup.select('#mw-content-text > div.mw-parser-output > ul > li > b > a')\r\n",
    "res\r\n"
   ],
   "outputs": [
    {
     "output_type": "execute_result",
     "data": {
      "text/plain": [
       "[<a href=\"/wiki/%ED%95%98%EB%8A%98%EA%B3%BC_%EB%B0%94%EB%9E%8C%EA%B3%BC_%EB%B3%84%EA%B3%BC_%EC%8B%9C\" title=\"하늘과 바람과 별과 시\">하늘과 바람과 별과 시</a>,\n",
       " <a href=\"/wiki/%EC%89%BD%EA%B2%8C_%EC%94%8C%EC%96%B4%EC%A7%84_%EC%8B%9C\" title=\"쉽게 씌어진 시\">쉽게 씌어진 시</a>]"
      ]
     },
     "metadata": {},
     "execution_count": 14
    }
   ],
   "metadata": {}
  },
  {
   "cell_type": "code",
   "execution_count": 25,
   "source": [
    "# 'html5 규약(프로토콜)을 잘 따르는(html5 표준화가 잘 반영된) 홈페이지입니다'\r\n",
    "# 정부쪽이 잘 되어 있다.\r\n",
    "\r\n",
    "# 하늘과 바람과 별과 시\r\n",
    "r=soup.select('#mw-content-text > div.mw-parser-output > ul > li > a') # 원하는 영역(경로)이 유일하기만 하면 빼도 된다.\r\n",
    "print('시집명 : ')\r\n",
    "\r\n",
    "pList=soup.select('#mw-content-text > div.mw-parser-output > ul > li > ul > li > a')\r\n",
    "len(pList)\r\n",
    "for p in pList:\r\n",
    "    title=p.string\r\n",
    "    print('=', title)\r\n",
    "\r\n",
    "\r\n",
    "# mw-content-text > div.mw-parser-output > ul > li > ul > li:nth-child(1) > a'\r\n",
    "\r\n",
    "# nth-of-type로 nth-child를 대체한다"
   ],
   "outputs": [
    {
     "output_type": "stream",
     "name": "stdout",
     "text": [
      "시집명 : \n",
      "= 서시\n",
      "= 자화상\n",
      "= 소년\n",
      "= 눈 오는 지도\n",
      "= 돌아와 보는 밤\n",
      "= 병원\n",
      "= 새로운 길\n",
      "= 간판 없는 거리\n",
      "= 태초의 아침\n",
      "= 또 태초의 아침\n",
      "= 새벽이 올 때까지\n",
      "= 무서운 시간\n",
      "= 십자가\n",
      "= 바람이 불어\n",
      "= 슬픈 족속\n",
      "= 눈감고 간다\n",
      "= 또 다른 고향\n",
      "= 길\n",
      "= 별 헤는 밤\n"
     ]
    }
   ],
   "metadata": {}
  },
  {
   "cell_type": "code",
   "execution_count": null,
   "source": [
    "# 셀레이눔이 근대화 \r\n",
    "# 지금까지 한 게 구식시대"
   ],
   "outputs": [],
   "metadata": {}
  }
 ]
}