{
 "cells": [
  {
   "cell_type": "code",
   "execution_count": null,
   "source": [
    "from selenium import webdriver\r\n",
    "from bs4 import BeautifulSoup"
   ],
   "outputs": [],
   "metadata": {}
  },
  {
   "cell_type": "code",
   "execution_count": null,
   "source": [
    "driver=webdriver.Chrome('e:/chromedriver')"
   ],
   "outputs": [],
   "metadata": {}
  },
  {
   "cell_type": "code",
   "execution_count": null,
   "source": [
    "driver.get('https://www.naver.com') #url 접속"
   ],
   "outputs": [],
   "metadata": {}
  },
  {
   "cell_type": "code",
   "execution_count": null,
   "source": [
    "html=driver.page_source\r\n",
    "html"
   ],
   "outputs": [],
   "metadata": {}
  },
  {
   "cell_type": "code",
   "execution_count": null,
   "source": [
    "#멜론\r\n",
    "\r\n",
    "\r\n",
    "#div = 하나의 영역\r\n",
    "#tr = table row의 약자. 하나의 행을 의미\r\n",
    "#td = 하나의 칸을 의미\r\n",
    "# class 이름은 여러개 올 수 있다. \r\n",
    "# class는 .을 찍는다."
   ],
   "outputs": [],
   "metadata": {}
  },
  {
   "cell_type": "code",
   "execution_count": null,
   "source": [
    "driver.get('http://www.melon.com/chart/index.htm')"
   ],
   "outputs": [],
   "metadata": {}
  },
  {
   "cell_type": "code",
   "execution_count": null,
   "source": [
    "soup = BeautifulSoup(html, 'html.parser')\r\n",
    "soup"
   ],
   "outputs": [],
   "metadata": {}
  },
  {
   "cell_type": "code",
   "execution_count": null,
   "source": [
    "songs = soup.select('tr')[1:] #타이틀 제외하고 1~100 곡 \r\n",
    "songs[2]"
   ],
   "outputs": [],
   "metadata": {}
  },
  {
   "cell_type": "code",
   "execution_count": null,
   "source": [
    "song=songs[0]\r\n",
    "title=song.select('a')\r\n",
    "len(title)"
   ],
   "outputs": [],
   "metadata": {}
  },
  {
   "cell_type": "code",
   "execution_count": null,
   "source": [
    "song.select('span > a')[0].text"
   ],
   "outputs": [],
   "metadata": {}
  },
  {
   "cell_type": "code",
   "execution_count": null,
   "source": [
    "song.select('div.ellipsis.rank01 > span > a')[0].text #클래스 이름이 두개이면 .으로 연결해준다.\r\n",
    "# div class='ellipsis rank01'"
   ],
   "outputs": [],
   "metadata": {}
  },
  {
   "cell_type": "code",
   "execution_count": null,
   "source": [
    "song.select('span > a')[1].text"
   ],
   "outputs": [],
   "metadata": {}
  },
  {
   "cell_type": "code",
   "execution_count": null,
   "source": [
    "for i in range(30):\r\n",
    "    title = songs.find_all('div.ellipsis.rank01 > span > a')[i].text\r\n",
    "    singer = songs.find_all('div.ellipsis.rank02 > span > a')[i].text\r\n",
    "    print('{} - {}'.format(title, singer))\r\n",
    "# 노래.select('span > a')[0].text목, 가수명에서 상위 30위까지 출력"
   ],
   "outputs": [],
   "metadata": {}
  },
  {
   "cell_type": "code",
   "execution_count": null,
   "source": [
    "#frm > div > table > tbody > tr:nth-child(1) > td:nth-child(4) > div > div > div.ellipsis.rank01 > span > a"
   ],
   "outputs": [],
   "metadata": {}
  },
  {
   "cell_type": "code",
   "execution_count": null,
   "source": [
    "#frm > div > table > tbody > tr:nth-child(1) > td:nth-child(4) > div > div > div.ellipsis.rank01 > span > a"
   ],
   "outputs": [],
   "metadata": {}
  },
  {
   "cell_type": "code",
   "execution_count": null,
   "source": [
    "### 멜론 클롱링 -> 엑셀 저장 -> pandas"
   ],
   "outputs": [],
   "metadata": {}
  },
  {
   "cell_type": "code",
   "execution_count": null,
   "source": [
    "from selenium import webdriver\r\n",
    "from bs4 import BeautifulSoup\r\n",
    "\r\n",
    "driver = webdriver.Chrome('e:\\chromedriver.exe')\r\n",
    "url = 'http://www.melon.com/chart/index.htm'\r\n",
    "driver.get(url)     \r\n",
    "\r\n",
    "html = driver.page_source\r\n",
    "soup = BeautifulSoup(html, 'html.parser')\r\n"
   ],
   "outputs": [],
   "metadata": {}
  },
  {
   "cell_type": "code",
   "execution_count": null,
   "source": [
    "song_data = []\r\n",
    "rank = 1\r\n",
    "\r\n",
    "songs = soup.select('table > tbody > tr')\r\n",
    "for song in songs:                                        \r\n",
    "    title = song.select('div.rank01 > span > a')[0].text\r\n",
    "    singer = song.select('div.rank02 > a')[0].text\r\n",
    "    song_data.append(['Melon', rank, title, singer])\r\n",
    "    rank = rank + 1\r\n"
   ],
   "outputs": [],
   "metadata": {}
  },
  {
   "cell_type": "code",
   "execution_count": null,
   "source": [
    "song_data #리스트의 리스트\r\n",
    "import pandas as pd # pandas : 데이터 분석 도구"
   ],
   "outputs": [],
   "metadata": {}
  },
  {
   "cell_type": "code",
   "execution_count": null,
   "source": [
    "data= pd.DataFrame(song_data, columns=['멜론', '순위', '제목', '가수'])\r\n",
    "data.head()"
   ],
   "outputs": [],
   "metadata": {}
  },
  {
   "cell_type": "code",
   "execution_count": null,
   "source": [
    "data.to_excel('melon.xlsx', index=False)"
   ],
   "outputs": [],
   "metadata": {}
  },
  {
   "cell_type": "code",
   "execution_count": null,
   "source": [
    "# https://youtube-rank.com/board/bbs/board.php?bo_table=youtube\r\n",
    "\r\n",
    "\r\n"
   ],
   "outputs": [],
   "metadata": {}
  },
  {
   "cell_type": "code",
   "execution_count": null,
   "source": [
    "# 유튜브 데이터 추출"
   ],
   "outputs": [],
   "metadata": {}
  },
  {
   "cell_type": "code",
   "execution_count": null,
   "source": [
    "browser = webdriver.Chrome('e:\\chromedriver')"
   ],
   "outputs": [],
   "metadata": {}
  },
  {
   "cell_type": "code",
   "execution_count": null,
   "source": [
    "url='https://youtube-rank.com/board/bbs/board.php?bo_table=youtube'"
   ],
   "outputs": [],
   "metadata": {}
  },
  {
   "cell_type": "code",
   "execution_count": null,
   "source": [
    "brower.get(url)"
   ],
   "outputs": [],
   "metadata": {}
  },
  {
   "cell_type": "code",
   "execution_count": null,
   "source": [
    "html=brower.page_source"
   ],
   "outputs": [],
   "metadata": {}
  },
  {
   "cell_type": "code",
   "execution_count": null,
   "source": [
    "soup = BeautifulSoup(html, 'html.parser')"
   ],
   "outputs": [],
   "metadata": {}
  },
  {
   "cell_type": "code",
   "execution_count": null,
   "source": [
    "soup\r\n",
    "\r\n",
    "#tr : 행줄 \r\n",
    "#href = 클릭하면 해당 링크로 이동한다.\r\n"
   ],
   "outputs": [],
   "metadata": {}
  },
  {
   "cell_type": "code",
   "execution_count": null,
   "source": [
    "channelList = soup.select('tr')"
   ],
   "outputs": [],
   "metadata": {}
  },
  {
   "cell_type": "code",
   "execution_count": null,
   "source": [
    "channelList=channelList[1:101] #제목, 사이트 정보 제거하고 나머지만 저\r\n",
    "# 순수 랭킹 데이터만 추출하여 저장"
   ],
   "outputs": [],
   "metadata": {}
  },
  {
   "cell_type": "code",
   "execution_count": null,
   "source": [
    "channel=channelList[0]"
   ],
   "outputs": [],
   "metadata": {}
  },
  {
   "cell_type": "code",
   "execution_count": null,
   "source": [
    "channel"
   ],
   "outputs": [],
   "metadata": {}
  },
  {
   "cell_type": "code",
   "execution_count": null,
   "source": [
    "len(channelList)"
   ],
   "outputs": [],
   "metadata": {}
  },
  {
   "cell_type": "code",
   "execution_count": null,
   "source": [
    "category=channel.select('p.category')[0].text.strip()"
   ],
   "outputs": [],
   "metadata": {}
  },
  {
   "cell_type": "code",
   "execution_count": null,
   "source": [
    "title=channel.select('h1 > a')[0].text.strip()"
   ],
   "outputs": [],
   "metadata": {}
  },
  {
   "cell_type": "code",
   "execution_count": null,
   "source": [
    "title"
   ],
   "outputs": [],
   "metadata": {}
  },
  {
   "cell_type": "code",
   "execution_count": null,
   "source": [
    "# <td class=\"subscriber_cnt\">6320만</td>\r\n",
    "# <td class=\"view_cnt\">186억2604만</td>\r\n",
    "# <td class=\"video_cnt\">364개</td>\r\n",
    "\r\n",
    "subscriber = channel.select('.subscriber_cnt')[0].text\r\n",
    "view = channel.select('.view_cnt')[0].text\r\n",
    "video = channel.select('.video_cnt')[0].text\r\n"
   ],
   "outputs": [],
   "metadata": {}
  },
  {
   "cell_type": "code",
   "execution_count": null,
   "source": [
    "for ch in channelList:\r\n",
    "    category=ch.select('p.category')[0].text.strip()\r\n",
    "    title=ch.select('h1 > a')[0].text.strip()\r\n",
    "    subscriber = ch.select('.subscriber_cnt')[0].text\r\n",
    "    view = ch.select('.view_cnt')[0].text\r\n",
    "    video = ch.select('.video_cnt')[0].text\r\n",
    "    print(title, category, subscriber, view, video)\r\n"
   ],
   "outputs": [],
   "metadata": {}
  },
  {
   "cell_type": "code",
   "execution_count": null,
   "source": [
    "page=1\r\n",
    "url='https://youtube-rank.com/board/bbs/board.php?bo_table=youtube&page=1'.format(page)\r\n",
    "url"
   ],
   "outputs": [],
   "metadata": {}
  },
  {
   "cell_type": "code",
   "execution_count": null,
   "source": [
    "import time\r\n",
    "import pandas as pd"
   ],
   "outputs": [],
   "metadata": {}
  },
  {
   "cell_type": "code",
   "execution_count": null,
   "source": [
    "browser = webdriver.Chrome('e:\\chromedriver')"
   ],
   "outputs": [],
   "metadata": {}
  },
  {
   "cell_type": "code",
   "execution_count": null,
   "source": [
    "data=[]\r\n",
    "for page in range(1,11):\r\n",
    "    url='https://youtube-rank.com/board/bbs/board.php?bo_table=youtube&page={}'.format(page)\r\n",
    "    # print(url)\r\n",
    "    browser.get(url) # 서버 접속하여 페이지를 가져옴(2초 이내에)\r\n",
    "    time.sleep(2)\r\n",
    "    # 여러 페이지를 읽을 때 주의, 인위적으로 delay\r\n",
    "    html = browser.page_source # 가져온 페이지의 소스코드를 저장\r\n",
    "    soup = BeautifulSoup(html, 'html.parser')\r\n",
    "    channelList=soup.select('tr')\r\n",
    "    channelList=channelList[1:101]\r\n",
    "\r\n",
    "    for ch in channelList:\r\n",
    "        category=ch.select('p.category')[0].text.strip()\r\n",
    "        title=ch.select('h1 > a')[0].text.strip()\r\n",
    "        subscriber = ch.select('.subscriber_cnt')[0].text\r\n",
    "        view = ch.select('.view_cnt')[0].text\r\n",
    "        video = ch.select('.video_cnt')[0].text\r\n",
    "        data.append([title, category, subscriber, view, video])\r\n",
    "        \r\n",
    "        # print(title, category, subscriber, view, video)\r\n",
    "    # print('-'*100)\r\n"
   ],
   "outputs": [],
   "metadata": {}
  },
  {
   "cell_type": "code",
   "execution_count": null,
   "source": [
    "df=pd.DataFrame(data)\r\n",
    "df.columns=['title', 'category', 'subscriber', 'view', 'video']"
   ],
   "outputs": [],
   "metadata": {}
  },
  {
   "cell_type": "code",
   "execution_count": null,
   "source": [
    "df\r\n",
    "df.to_excel('youtube_rank.xlsx', index=False)"
   ],
   "outputs": [],
   "metadata": {}
  },
  {
   "cell_type": "code",
   "execution_count": null,
   "source": [
    "# sns data 추출"
   ],
   "outputs": [],
   "metadata": {}
  },
  {
   "cell_type": "code",
   "execution_count": 119,
   "source": [
    "from selenium import webdriver\r\n",
    "import time\r\n",
    "from bs4 import BeautifulSoup"
   ],
   "outputs": [],
   "metadata": {}
  },
  {
   "cell_type": "code",
   "execution_count": 120,
   "source": [
    "driver=webdriver.Chrome('e:\\chromedriver.exe')"
   ],
   "outputs": [],
   "metadata": {}
  },
  {
   "cell_type": "code",
   "execution_count": 121,
   "source": [
    "driver.get('http://www.instagram.com')\r\n",
    "time.sleep(2)"
   ],
   "outputs": [],
   "metadata": {}
  },
  {
   "cell_type": "code",
   "execution_count": 122,
   "source": [
    "email='ingu627@ajou.ac.kr'\r\n",
    "inputId = driver.find_elements_by_css_selector('#loginForm > div > div > div > label > input')[0]\r\n",
    "inputId.clear()\r\n",
    "inputId.send_keys(email)\r\n",
    "\r\n",
    "#"
   ],
   "outputs": [],
   "metadata": {}
  },
  {
   "cell_type": "code",
   "execution_count": 123,
   "source": [
    "email='dkwneo99!'\r\n",
    "inputPw = driver.find_elements_by_css_selector('#loginForm > div > div > div > label > input')[1]\r\n",
    "inputPw.clear()\r\n",
    "inputPw.send_keys(email)\r\n",
    "inputPw.submit()\r\n",
    "time.sleep(2)\r\n",
    "\r\n",
    "#"
   ],
   "outputs": [],
   "metadata": {}
  },
  {
   "cell_type": "code",
   "execution_count": 124,
   "source": [
    "# https://www.instagram.com/explore/tags/%EC%A0%9C%EC%A3%BC%EB%8F%84%EB%A7%9B%EC%A7%91/\r\n",
    "\r\n",
    "word='울릉도맛집'\r\n",
    "url = 'https://www.instagram.com/explore/tags/'+ word \r\n",
    "driver.get(url)"
   ],
   "outputs": [],
   "metadata": {}
  },
  {
   "cell_type": "code",
   "execution_count": 125,
   "source": [
    "first=driver.find_element_by_css_selector('div._9AhH0')\r\n",
    "first.click()\r\n",
    "time.sleep(2)\r\n",
    "\r\n",
    "# 동일한 selector를 여러 개 가져오는 것\r\n",
    "# element는 한개 (select와 select_one과의 차이와 비슷)\r\n",
    "#react-root > section > main > article > div.EZdmt > div > div > div > div > a > div > div._9AhH0"
   ],
   "outputs": [],
   "metadata": {}
  },
  {
   "cell_type": "code",
   "execution_count": 129,
   "source": [
    "#게시물 텍스트 데이터 스크래핑 body > div._2dDPU.CkGkG > div.EfHg9 > div > div > a._65Bje.coreSpriteRightPaginationArrow\r\n",
    "right = driver.find_element_by_css_selector('a._65Bje.coreSpriteRightPaginationArrow')\r\n",
    "right.click()\r\n",
    "time.sleep(2)"
   ],
   "outputs": [],
   "metadata": {}
  },
  {
   "cell_type": "code",
   "execution_count": null,
   "source": [
    "# 인스타그램 접속(아이디/비밀번호) -> 검색어 : 칸쿤 맛집 -> \r\n",
    "# 첫번째 검색 페이지에서 좋아요, 작성일 개수 추출 -> 출력\r\n",
    "# adv. 5개 페이지에 대해서 동일한 작업 수행\r\n",
    "                                                        "
   ],
   "outputs": [],
   "metadata": {}
  },
  {
   "cell_type": "code",
   "execution_count": 183,
   "source": [
    "from selenium import webdriver\r\n",
    "import time\r\n",
    "from bs4 import BeautifulSoup"
   ],
   "outputs": [],
   "metadata": {}
  },
  {
   "cell_type": "code",
   "execution_count": 184,
   "source": [
    "driver=webdriver.Chrome('e:\\chromedriver.exe')"
   ],
   "outputs": [],
   "metadata": {}
  },
  {
   "cell_type": "code",
   "execution_count": 185,
   "source": [
    "driver.get('http://www.instagram.com')\r\n",
    "time.sleep(2)"
   ],
   "outputs": [],
   "metadata": {}
  },
  {
   "cell_type": "code",
   "execution_count": 186,
   "source": [
    "email='ingu627@ajou.ac.kr'\r\n",
    "inputId = driver.find_elements_by_css_selector('#loginForm > div > div > div > label > input')[0]\r\n",
    "inputId.clear()\r\n",
    "inputId.send_keys(email)\r\n",
    "\r\n",
    "#"
   ],
   "outputs": [],
   "metadata": {}
  },
  {
   "cell_type": "code",
   "execution_count": 187,
   "source": [
    "email='dkwneo99!'\r\n",
    "inputPw = driver.find_elements_by_css_selector('#loginForm > div > div > div > label > input')[1]\r\n",
    "inputPw.clear()\r\n",
    "inputPw.send_keys(email)\r\n",
    "inputPw.submit()\r\n",
    "time.sleep(2)\r\n",
    "\r\n",
    "#"
   ],
   "outputs": [],
   "metadata": {}
  },
  {
   "cell_type": "code",
   "execution_count": 188,
   "source": [
    "url1 = 'https://www.instagram.com/accounts/onetap/?next=%2F'\r\n",
    "driver.get(url1)"
   ],
   "outputs": [],
   "metadata": {}
  },
  {
   "cell_type": "code",
   "execution_count": 189,
   "source": [
    "later = driver.find_element_by_css_selector('button.sqdOP.yWX7d.y3zKF')\r\n",
    "later.click()\r\n",
    "time.sleep(2)"
   ],
   "outputs": [],
   "metadata": {}
  },
  {
   "cell_type": "code",
   "execution_count": 190,
   "source": [
    "word = '칸쿤맛집'\r\n",
    "url = 'https://www.instagram.com/explore/tags/'+ word \r\n",
    "driver.get(url)"
   ],
   "outputs": [],
   "metadata": {}
  },
  {
   "cell_type": "code",
   "execution_count": 191,
   "source": [
    "kan = driver.find_element_by_css_selector('div._9AhH0')\r\n",
    "kan.click()\r\n",
    "time.sleep(2)"
   ],
   "outputs": [],
   "metadata": {}
  },
  {
   "cell_type": "code",
   "execution_count": 192,
   "source": [
    "# a.zV_Nj\r\n",
    "joayoList=[]\r\n",
    "writeList=[]\r\n",
    "\r\n",
    "i=1\r\n",
    "while i<=5:\r\n",
    "    html = driver.page_source\r\n",
    "    soup = BeautifulSoup(html, 'html.parser')\r\n",
    "\r\n",
    "    joayo = soup.select('a.zV_Nj > span')[0].text\r\n",
    "    write = soup.select('a.c-Yi7')[0].text.strip()\r\n",
    "\r\n",
    "    # body > div._2dDPU.CkGkG > div.zZYga > div > article > div.eo2As > div.k_Q0X.I0_K8.NnvRN > a > time\r\n",
    "    joayoList.append(joayo)\r\n",
    "    writeList.append(write)\r\n",
    "\r\n",
    "    next1 = driver.find_element_by_css_selector('a._65Bje.coreSpriteRightPaginationArrow')\r\n",
    "    next1.click()\r\n",
    "    time.sleep(2)\r\n",
    "    i+=1\r\n",
    "\r\n",
    "for i in range(len(joayoList)):\r\n",
    "    print('좋아요 : {}개    작성년도 : {}'.format(joayoList[i], writeList[i]))\r\n"
   ],
   "outputs": [
    {
     "output_type": "stream",
     "name": "stdout",
     "text": [
      "좋아요 : 103개    작성년도 : 2018년 11월 5일\n",
      "좋아요 : 99개    작성년도 : 2020년 2월 23일\n",
      "좋아요 : 107개    작성년도 : 2019년 8월 14일\n",
      "좋아요 : 80개    작성년도 : 2019년 7월 22일\n",
      "좋아요 : 63개    작성년도 : 2020년 3월 10일\n"
     ]
    }
   ],
   "metadata": {}
  },
  {
   "cell_type": "code",
   "execution_count": null,
   "source": [],
   "outputs": [],
   "metadata": {}
  }
 ],
 "metadata": {
  "orig_nbformat": 4,
  "language_info": {
   "name": "python",
   "version": "3.8.5",
   "mimetype": "text/x-python",
   "codemirror_mode": {
    "name": "ipython",
    "version": 3
   },
   "pygments_lexer": "ipython3",
   "nbconvert_exporter": "python",
   "file_extension": ".py"
  },
  "kernelspec": {
   "name": "python3",
   "display_name": "Python 3.8.5 64-bit ('base': conda)"
  },
  "interpreter": {
   "hash": "b3ba2566441a7c06988d0923437866b63cedc61552a5af99d1f4fb67d367b25f"
  }
 },
 "nbformat": 4,
 "nbformat_minor": 2
}