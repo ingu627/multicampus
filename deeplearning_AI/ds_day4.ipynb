{
 "cells": [
  {
   "cell_type": "code",
   "execution_count": null,
   "source": [
    "# 데이터 수집을 팀플로 (1차)"
   ],
   "outputs": [],
   "metadata": {}
  },
  {
   "cell_type": "code",
   "execution_count": 10,
   "source": [
    "from selenium import webdriver\r\n",
    "import time"
   ],
   "outputs": [],
   "metadata": {}
  },
  {
   "cell_type": "code",
   "execution_count": 14,
   "source": [
    "driver = webdriver.Chrome('e:\\chromedriver')\r\n",
    "# driver = webdriver.Chrome(\"chromedriver.exe\")\r\n"
   ],
   "outputs": [],
   "metadata": {}
  },
  {
   "cell_type": "code",
   "execution_count": 15,
   "source": [
    "driver.get('https://www.instagram.com')\r\n",
    "time.sleep(2)"
   ],
   "outputs": [],
   "metadata": {}
  },
  {
   "cell_type": "code",
   "execution_count": 16,
   "source": [
    "email = 'ingu627@ajou.ac.kr'  \r\n",
    "input_id = driver.find_elements_by_css_selector('input._2hvTZ.pexuQ.zyHYP')[0]\r\n",
    "input_id.clear()\r\n",
    "input_id.send_keys(email)\r\n"
   ],
   "outputs": [],
   "metadata": {}
  },
  {
   "cell_type": "code",
   "execution_count": 17,
   "source": [
    "password = 'dkwneo99!'\r\n",
    "input_pw = driver.find_elements_by_css_selector('input._2hvTZ.pexuQ.zyHYP')[1]\r\n",
    "input_pw.clear()\r\n",
    "input_pw.send_keys(password)\r\n",
    "input_pw.submit()\r\n",
    "time.sleep(3)\r\n"
   ],
   "outputs": [],
   "metadata": {}
  },
  {
   "cell_type": "code",
   "execution_count": 18,
   "source": [
    "def insta_searching(word):\r\n",
    "    url = 'https://www.instagram.com/explore/tags/' + word\r\n",
    "    return url"
   ],
   "outputs": [],
   "metadata": {}
  },
  {
   "cell_type": "code",
   "execution_count": 20,
   "source": [
    "word = '제주도맛집'\r\n",
    "url = insta_searching(word)\r\n",
    "driver.get(url)"
   ],
   "outputs": [],
   "metadata": {}
  },
  {
   "cell_type": "code",
   "execution_count": 118,
   "source": [
    "def select_first(driver):\r\n",
    "    first = driver.find_element_by_css_selector('div._9AhH0')\r\n",
    "    first.click()\r\n",
    "    time.sleep(3)\r\n",
    "\r\n",
    "select_first(driver)"
   ],
   "outputs": [],
   "metadata": {}
  },
  {
   "cell_type": "code",
   "execution_count": 23,
   "source": [
    "import re\r\n",
    "from bs4 import BeautifulSoup"
   ],
   "outputs": [],
   "metadata": {}
  },
  {
   "cell_type": "code",
   "execution_count": 24,
   "source": [
    "#모든 게시물에 대해 공통적으로 작업\r\n",
    "\r\n",
    "# html페이지 가져오기 \r\n",
    "# 본문 가져오기\r\n",
    "# 해시태그 가져오기 \r\n",
    "# 작성일자 가져오기 "
   ],
   "outputs": [],
   "metadata": {}
  },
  {
   "cell_type": "code",
   "execution_count": 122,
   "source": [
    "def getContent(driver):\r\n",
    "    html = driver.page_source\r\n",
    "    soup = BeautifulSoup(html, 'html.parser')\r\n",
    "    content = soup.select('div.C4VMK')[0].text\r\n",
    "    tags = re.findall('#\\w+', content) # 샵(#)기호로 시작하는 해시태그를 추출하여 리스트에 저장\r\n",
    "    # print(tags)\r\n",
    "    # print(soup.select('time.FH9sR.Nzb55')[0])\r\n",
    "    date = soup.select('time._1o9PC.Nzb55')[0]['datetime'][:10] #type: str\r\n",
    "    # print(soup.select('div.C4VMK')[0])\r\n",
    "    date=[content, tags, date]\r\n",
    "    return date #본문, 해시태그, 작성일자"
   ],
   "outputs": [],
   "metadata": {}
  },
  {
   "cell_type": "code",
   "execution_count": 107,
   "source": [
    "getContent()"
   ],
   "outputs": [
    {
     "output_type": "execute_result",
     "data": {
      "text/plain": [
       "['jejuplanets.안가보면 아쉬울것 같은🥺유우명한 #서귀포명소 골라서 모아봄서귀포일대 여행계획중이면 꼭 참고❣@@칭구야 다음여행땐 여기어때👀\\u3000\\u3000#제주맛집 #제주맛집추천 #제주데이트 #제주데이트코스 #제주여행 #제주핫플 #제주핫플레이스 #제주가볼만한곳 #제주명소 #제주도명소 #제주도여행 #제주도맛집 #제주도가볼만한곳 #제주도맛집추천 #제주도핫플 #서귀포맛집 #서귀포여행 #제주공항근처맛집21시간',\n",
       " ['#서귀포명소',\n",
       "  '#제주맛집',\n",
       "  '#제주맛집추천',\n",
       "  '#제주데이트',\n",
       "  '#제주데이트코스',\n",
       "  '#제주여행',\n",
       "  '#제주핫플',\n",
       "  '#제주핫플레이스',\n",
       "  '#제주가볼만한곳',\n",
       "  '#제주명소',\n",
       "  '#제주도명소',\n",
       "  '#제주도여행',\n",
       "  '#제주도맛집',\n",
       "  '#제주도가볼만한곳',\n",
       "  '#제주도맛집추천',\n",
       "  '#제주도핫플',\n",
       "  '#서귀포맛집',\n",
       "  '#서귀포여행',\n",
       "  '#제주공항근처맛집21시간'],\n",
       " '2021-07-22']"
      ]
     },
     "metadata": {},
     "execution_count": 107
    }
   ],
   "metadata": {}
  },
  {
   "cell_type": "code",
   "execution_count": 112,
   "source": [
    "def move_next(driver):\r\n",
    "    \r\n",
    "    right = driver.find_element_by_css_selector ('a.coreSpriteRightPaginationArrow')\r\n",
    "    right.click()\r\n",
    "    time.sleep(3)\r\n",
    "\r\n",
    "move_next(driver)"
   ],
   "outputs": [],
   "metadata": {}
  },
  {
   "cell_type": "code",
   "execution_count": null,
   "source": [],
   "outputs": [],
   "metadata": {}
  },
  {
   "cell_type": "code",
   "execution_count": null,
   "source": [
    "# 지금까지의 코드를 종합하여 50개의 게시글 수집하는 크롤러 생성"
   ],
   "outputs": [],
   "metadata": {}
  },
  {
   "cell_type": "code",
   "execution_count": 125,
   "source": [
    "word = '제주도맛집'\r\n",
    "url = insta_searching(word)\r\n",
    "driver.get(url)\r\n",
    "time.sleep(5)\r\n",
    "select_first(driver)\r\n",
    "\r\n",
    "results = []\r\n",
    "target = 50\r\n",
    "\r\n",
    "for i in range(target):\r\n",
    "    try:\r\n",
    "        data = getContent(driver) #웹페이지 -> 소스코드 읽어오게 됨\r\n",
    "        results.append(data)\r\n",
    "        move_next(driver)\r\n",
    "    except:\r\n",
    "        time.sleep(1) # 시도해보고 네트워크 문제상의 문제가 생기면 일단 좀 쉬다가\r\n",
    "        print('예외발생')\r\n",
    "        move_next(driver) # 그냥 다음 페이지로 이동해\r\n",
    "\r\n",
    "#다른 외부 요인(ex. 네트워크 문제 등)에 의해 게시글 읽어들이는 과정에서 에러 발생 가능\r\n",
    "# 이런 경우를 예외상황이라고 함\r\n",
    "# 예외 처리 : 예외 상황을 미리 예상하여 대처하도록 하는 것 \r\n",
    "\r\n",
    "# try : 예외상황이 발생할 여지가 있는 코드 except:\r\n",
    "\r\n",
    "# try:\r\n",
    "#       예외상황이 발생할 여지가 있는 코드 \r\n",
    "# except:\r\n",
    "#       예외 상황 처리 코드\r\n",
    "print(results[:3])"
   ],
   "outputs": [
    {
     "output_type": "stream",
     "name": "stdout",
     "text": [
      "예외발생\n",
      "예외발생\n",
      "예외발생\n",
      "예외발생\n",
      "예외발생\n",
      "[['jeju_murung_farm[찰라의 아침]오늘의 아침 일출이 너무 아름답니다이렇게 우리주변에는 아름다운 순간들이 많지만, 우리가 보지 못하고 느끼지 못해서 없다고 말하는 것은 아닐까요?오늘 우리 주변에 수많은 아름다운 순간들을 놓치지 말기를 기대해봅니다#무릉외갓집 #제주도 #마을기업 #제주올레 #제주올레11코스 #제주올레12코스 #제주도맛집 #제주맛집 #꾸러미 #곶자왈 #휴식5시간', ['#무릉외갓집', '#제주도', '#마을기업', '#제주올레', '#제주올레11코스', '#제주올레12코스', '#제주도맛집', '#제주맛집', '#꾸러미', '#곶자왈', '#휴식5시간'], '2021-07-22'], ['ryoryo4499<광고>매일가고 싶은 제주도..볼것도 많고 먹을것도 많고제주하면 유명한 음식중 하나인 국수 🍜하지만 다른 일반 고기국수보다더 맛있는 갈비국수!!🍖🍜⠀🌀#산도롱맨도롱🌀제주시 구좌읍 해맞이해안로 2284🌀영업시간 : 07:30 ~ 17:00🌀문의 : 064-782-5105✴️ 07:30~10:00 여유롭게 식사가 가능합니다.⠀#제주맛집 #제주도맛집 #제주고기국수맛집#성산맛집 #성산일출봉맛집 #제주성산맛집#광치기해변맛집 #스누피가든 #성산읍맛집#성산밥집 #성산아침식사 #제주가볼만한곳#제주핫플 #제주도핫플 #비자림맛집3시간', ['#산도롱맨도롱', '#제주맛집', '#제주도맛집', '#제주고기국수맛집', '#성산맛집', '#성산일출봉맛집', '#제주성산맛집', '#광치기해변맛집', '#스누피가든', '#성산읍맛집', '#성산밥집', '#성산아침식사', '#제주가볼만한곳', '#제주핫플', '#제주도핫플', '#비자림맛집3시간'], '2021-07-22'], ['dhflwlsjf8522협찬제주왔음 제주흑돼지는 무조건이지🐷규모가 매우커서 거리두기 철저해 코로나 걱정도 끝👊애월해안도로에 위치해있어 애월바다를 바라보며 로맨틱한 식사❤💯제주흑돼지맛집 \"코시롱\" 으로 당장 GoGo!!♦️ 제주 제주시 애월읍 애월해안로 656#코시롱#제주맛집 #제주도맛집#애월맛집#제주흑돼지맛집#애월해안도로맛집#애월읍맛집#애월맛집추천#애월흑돼지맛집#제주애월맛집#제주도흑돼지12시간', ['#코시롱', '#제주맛집', '#제주도맛집', '#애월맛집', '#제주흑돼지맛집', '#애월해안도로맛집', '#애월읍맛집', '#애월맛집추천', '#애월흑돼지맛집', '#제주애월맛집', '#제주도흑돼지12시간'], '2021-07-22']]\n"
     ]
    }
   ],
   "metadata": {}
  },
  {
   "cell_type": "code",
   "execution_count": 5,
   "source": [
    "import pandas as pd"
   ],
   "outputs": [],
   "metadata": {}
  },
  {
   "cell_type": "code",
   "execution_count": 6,
   "source": [
    "df = pd.DataFrame(results)\r\n",
    "df\r\n",
    "df.columns=['content','tags', 'date']"
   ],
   "outputs": [
    {
     "output_type": "error",
     "ename": "NameError",
     "evalue": "name 'results' is not defined",
     "traceback": [
      "\u001b[1;31m---------------------------------------------------------------------------\u001b[0m",
      "\u001b[1;31mNameError\u001b[0m                                 Traceback (most recent call last)",
      "\u001b[1;32m<ipython-input-6-77b6e23464b2>\u001b[0m in \u001b[0;36m<module>\u001b[1;34m\u001b[0m\n\u001b[1;32m----> 1\u001b[1;33m \u001b[0mdf\u001b[0m \u001b[1;33m=\u001b[0m \u001b[0mpd\u001b[0m\u001b[1;33m.\u001b[0m\u001b[0mDataFrame\u001b[0m\u001b[1;33m(\u001b[0m\u001b[0mresults\u001b[0m\u001b[1;33m)\u001b[0m\u001b[1;33m\u001b[0m\u001b[1;33m\u001b[0m\u001b[0m\n\u001b[0m\u001b[0;32m      2\u001b[0m \u001b[0mdf\u001b[0m\u001b[1;33m\u001b[0m\u001b[1;33m\u001b[0m\u001b[0m\n\u001b[0;32m      3\u001b[0m \u001b[0mdf\u001b[0m\u001b[1;33m.\u001b[0m\u001b[0mcolumns\u001b[0m\u001b[1;33m=\u001b[0m\u001b[1;33m[\u001b[0m\u001b[1;34m'content'\u001b[0m\u001b[1;33m,\u001b[0m\u001b[1;34m'tags'\u001b[0m\u001b[1;33m,\u001b[0m \u001b[1;34m'date'\u001b[0m\u001b[1;33m]\u001b[0m\u001b[1;33m\u001b[0m\u001b[1;33m\u001b[0m\u001b[0m\n",
      "\u001b[1;31mNameError\u001b[0m: name 'results' is not defined"
     ]
    }
   ],
   "metadata": {}
  },
  {
   "cell_type": "code",
   "execution_count": null,
   "source": [
    "df\r\n",
    "df.to_excel('result.xlsx', index=False)"
   ],
   "outputs": [],
   "metadata": {}
  },
  {
   "cell_type": "code",
   "execution_count": 7,
   "source": [
    "raw_total=pd.read_excel('1_crawling_raw.xlsx')\r\n",
    "raw_total\r\n",
    "raw_total['tags'][0] # 0이면 하나의 문자열로 입력됨 # 특정 열 한개를 출력\r\n",
    "# raw_total['tags']"
   ],
   "outputs": [
    {
     "output_type": "execute_result",
     "data": {
      "text/plain": [
       "\"['#제주핫플레이스', '#제주여행', '#제주여행', '#제주도여행', '#제주가볼만한곳', '#제주도핫플', '#제주여행코스', '#제주공항', '#제주도맛집', '#제주맛집', '#제주스냅', '#제주풍경', '#제주사진', '#제주카페', '#제주도카페', '#산굼부리', '#제주도바다', '#귤체험', '#우도', '#제주관광', '#제주도여향지', '#제주여행중', '#삼육오빠', '#제주앓이']\""
      ]
     },
     "metadata": {},
     "execution_count": 7
    }
   ],
   "metadata": {}
  },
  {
   "cell_type": "code",
   "execution_count": 8,
   "source": [
    "total=[]\r\n",
    "tagsList = raw_total['tags'][1][2:-2].split(\"', '\")\r\n",
    "for tags in tagsList:\r\n",
    "    total.append(tags)\r\n",
    "\r\n"
   ],
   "outputs": [],
   "metadata": {}
  },
  {
   "cell_type": "code",
   "execution_count": 9,
   "source": [
    "import numpy as np\r\n",
    "tags_total=[]\r\n",
    "\r\n",
    "for tags in raw_total['tags']:\r\n",
    "    tagsList = tags[2:-2].split(\"', '\")\r\n",
    "    for tag in tagsList:\r\n",
    "        tags_total.append(tag)"
   ],
   "outputs": [],
   "metadata": {}
  },
  {
   "cell_type": "code",
   "execution_count": 10,
   "source": [
    "len(tags_total)"
   ],
   "outputs": [
    {
     "output_type": "execute_result",
     "data": {
      "text/plain": [
       "149495"
      ]
     },
     "metadata": {},
     "execution_count": 10
    }
   ],
   "metadata": {}
  },
  {
   "cell_type": "code",
   "execution_count": 11,
   "source": [
    "total=[]\r\n",
    "test=['#제주핫플레이스', '#제주여행', '#제주여행', '#제주도여행']\r\n",
    "for t in test:\r\n",
    "    total.append(t[1:]) #샾기호 제외해서 다시 리스트 넣음"
   ],
   "outputs": [],
   "metadata": {}
  },
  {
   "cell_type": "code",
   "execution_count": 12,
   "source": [
    "print(total)"
   ],
   "outputs": [
    {
     "output_type": "stream",
     "name": "stdout",
     "text": [
      "['제주핫플레이스', '제주여행', '제주여행', '제주도여행']\n"
     ]
    }
   ],
   "metadata": {}
  },
  {
   "cell_type": "code",
   "execution_count": 13,
   "source": [
    "# 해시태그 빈도수 조사"
   ],
   "outputs": [],
   "metadata": {}
  },
  {
   "cell_type": "code",
   "execution_count": 14,
   "source": [
    "test=['a','a','b','b','b','c']"
   ],
   "outputs": [],
   "metadata": {}
  },
  {
   "cell_type": "code",
   "execution_count": 15,
   "source": [
    "from collections import Counter"
   ],
   "outputs": [],
   "metadata": {}
  },
  {
   "cell_type": "code",
   "execution_count": 16,
   "source": [
    "Counter(test)"
   ],
   "outputs": [
    {
     "output_type": "execute_result",
     "data": {
      "text/plain": [
       "Counter({'a': 2, 'b': 3, 'c': 1})"
      ]
     },
     "metadata": {},
     "execution_count": 16
    }
   ],
   "metadata": {}
  },
  {
   "cell_type": "code",
   "execution_count": 17,
   "source": [
    "Counter(test)['b'] # 'b key에 대한 value를 알려준다."
   ],
   "outputs": [
    {
     "output_type": "execute_result",
     "data": {
      "text/plain": [
       "3"
      ]
     },
     "metadata": {},
     "execution_count": 17
    }
   ],
   "metadata": {}
  },
  {
   "cell_type": "code",
   "execution_count": 18,
   "source": [
    "Counter(test).most_common(1)"
   ],
   "outputs": [
    {
     "output_type": "execute_result",
     "data": {
      "text/plain": [
       "[('b', 3)]"
      ]
     },
     "metadata": {},
     "execution_count": 18
    }
   ],
   "metadata": {}
  },
  {
   "cell_type": "code",
   "execution_count": 20,
   "source": [
    "Counter(tags_total)\r\n",
    "Counter(tags_total).most_common(50)\r\n",
    "jejuDf = pd.DataFrame(Counter(tags_total).most_common(50))\r\n",
    "jejuDf.columns=['tags', 'counts']\r\n",
    "jejuDf\r\n"
   ],
   "outputs": [
    {
     "output_type": "execute_result",
     "data": {
      "text/plain": [
       "         tags  counts\n",
       "0       #제주맛집    3750\n",
       "1      #제주도맛집    3467\n",
       "2       #제주여행    3204\n",
       "3       #제주관광    2898\n",
       "4        #제주도    2096\n",
       "5         #제주    1567\n",
       "6      #제주도여행    1555\n",
       "7      #서귀포맛집    1392\n",
       "8   #제주도가볼만한곳    1047\n",
       "9        #서귀포     872\n",
       "10   #제주핫플레이스     848\n",
       "11      #jeju     776\n",
       "12   #제주흑돼지맛집     730\n",
       "13    #제주맛집추천     728\n",
       "14        #일상     717\n",
       "15    #제주도흑돼지     713\n",
       "16      #제주카페     711\n",
       "17  #제주도흑돼지맛집     709\n",
       "18     #제주흑돼지     693\n",
       "19      #협재맛집     677\n",
       "20     #성산일출봉     674\n",
       "21      #제주도민     637\n",
       "22     #제주도그램     609\n",
       "23  #서귀포흑돼지맛집     605\n",
       "24                588\n",
       "25    #서귀포흑돼지     582\n",
       "26   #제주가볼만한곳     580\n",
       "27   #성산일출봉맛집     567\n",
       "28      #섭지코지     558\n",
       "29    #제주도민맛집     542\n",
       "30      #제주핫플     530\n",
       "31        #선팔     522\n",
       "32    #섭지코지맛집     519\n",
       "33      #제주살이     516\n",
       "34    #여행스타그램     498\n",
       "35     #통갈치구이     495\n",
       "36   #제주통갈치구이     485\n",
       "37   #제주서귀포맛집     479\n",
       "38     #제주반영구     478\n",
       "39      #중문맛집     472\n",
       "40    #제주눈썹문신     472\n",
       "41     #제주도관광     471\n",
       "42   #서귀포눈썹문신     458\n",
       "43        #여행     455\n",
       "44     #먹스타그램     453\n",
       "45       #제주시     451\n",
       "46       #반영구     443\n",
       "47      #눈썹문신     443\n",
       "48    #제주자연눈썹     435\n",
       "49     #제주속눈썹     435"
      ],
      "text/html": [
       "<div>\n",
       "<style scoped>\n",
       "    .dataframe tbody tr th:only-of-type {\n",
       "        vertical-align: middle;\n",
       "    }\n",
       "\n",
       "    .dataframe tbody tr th {\n",
       "        vertical-align: top;\n",
       "    }\n",
       "\n",
       "    .dataframe thead th {\n",
       "        text-align: right;\n",
       "    }\n",
       "</style>\n",
       "<table border=\"1\" class=\"dataframe\">\n",
       "  <thead>\n",
       "    <tr style=\"text-align: right;\">\n",
       "      <th></th>\n",
       "      <th>tags</th>\n",
       "      <th>counts</th>\n",
       "    </tr>\n",
       "  </thead>\n",
       "  <tbody>\n",
       "    <tr>\n",
       "      <th>0</th>\n",
       "      <td>#제주맛집</td>\n",
       "      <td>3750</td>\n",
       "    </tr>\n",
       "    <tr>\n",
       "      <th>1</th>\n",
       "      <td>#제주도맛집</td>\n",
       "      <td>3467</td>\n",
       "    </tr>\n",
       "    <tr>\n",
       "      <th>2</th>\n",
       "      <td>#제주여행</td>\n",
       "      <td>3204</td>\n",
       "    </tr>\n",
       "    <tr>\n",
       "      <th>3</th>\n",
       "      <td>#제주관광</td>\n",
       "      <td>2898</td>\n",
       "    </tr>\n",
       "    <tr>\n",
       "      <th>4</th>\n",
       "      <td>#제주도</td>\n",
       "      <td>2096</td>\n",
       "    </tr>\n",
       "    <tr>\n",
       "      <th>5</th>\n",
       "      <td>#제주</td>\n",
       "      <td>1567</td>\n",
       "    </tr>\n",
       "    <tr>\n",
       "      <th>6</th>\n",
       "      <td>#제주도여행</td>\n",
       "      <td>1555</td>\n",
       "    </tr>\n",
       "    <tr>\n",
       "      <th>7</th>\n",
       "      <td>#서귀포맛집</td>\n",
       "      <td>1392</td>\n",
       "    </tr>\n",
       "    <tr>\n",
       "      <th>8</th>\n",
       "      <td>#제주도가볼만한곳</td>\n",
       "      <td>1047</td>\n",
       "    </tr>\n",
       "    <tr>\n",
       "      <th>9</th>\n",
       "      <td>#서귀포</td>\n",
       "      <td>872</td>\n",
       "    </tr>\n",
       "    <tr>\n",
       "      <th>10</th>\n",
       "      <td>#제주핫플레이스</td>\n",
       "      <td>848</td>\n",
       "    </tr>\n",
       "    <tr>\n",
       "      <th>11</th>\n",
       "      <td>#jeju</td>\n",
       "      <td>776</td>\n",
       "    </tr>\n",
       "    <tr>\n",
       "      <th>12</th>\n",
       "      <td>#제주흑돼지맛집</td>\n",
       "      <td>730</td>\n",
       "    </tr>\n",
       "    <tr>\n",
       "      <th>13</th>\n",
       "      <td>#제주맛집추천</td>\n",
       "      <td>728</td>\n",
       "    </tr>\n",
       "    <tr>\n",
       "      <th>14</th>\n",
       "      <td>#일상</td>\n",
       "      <td>717</td>\n",
       "    </tr>\n",
       "    <tr>\n",
       "      <th>15</th>\n",
       "      <td>#제주도흑돼지</td>\n",
       "      <td>713</td>\n",
       "    </tr>\n",
       "    <tr>\n",
       "      <th>16</th>\n",
       "      <td>#제주카페</td>\n",
       "      <td>711</td>\n",
       "    </tr>\n",
       "    <tr>\n",
       "      <th>17</th>\n",
       "      <td>#제주도흑돼지맛집</td>\n",
       "      <td>709</td>\n",
       "    </tr>\n",
       "    <tr>\n",
       "      <th>18</th>\n",
       "      <td>#제주흑돼지</td>\n",
       "      <td>693</td>\n",
       "    </tr>\n",
       "    <tr>\n",
       "      <th>19</th>\n",
       "      <td>#협재맛집</td>\n",
       "      <td>677</td>\n",
       "    </tr>\n",
       "    <tr>\n",
       "      <th>20</th>\n",
       "      <td>#성산일출봉</td>\n",
       "      <td>674</td>\n",
       "    </tr>\n",
       "    <tr>\n",
       "      <th>21</th>\n",
       "      <td>#제주도민</td>\n",
       "      <td>637</td>\n",
       "    </tr>\n",
       "    <tr>\n",
       "      <th>22</th>\n",
       "      <td>#제주도그램</td>\n",
       "      <td>609</td>\n",
       "    </tr>\n",
       "    <tr>\n",
       "      <th>23</th>\n",
       "      <td>#서귀포흑돼지맛집</td>\n",
       "      <td>605</td>\n",
       "    </tr>\n",
       "    <tr>\n",
       "      <th>24</th>\n",
       "      <td></td>\n",
       "      <td>588</td>\n",
       "    </tr>\n",
       "    <tr>\n",
       "      <th>25</th>\n",
       "      <td>#서귀포흑돼지</td>\n",
       "      <td>582</td>\n",
       "    </tr>\n",
       "    <tr>\n",
       "      <th>26</th>\n",
       "      <td>#제주가볼만한곳</td>\n",
       "      <td>580</td>\n",
       "    </tr>\n",
       "    <tr>\n",
       "      <th>27</th>\n",
       "      <td>#성산일출봉맛집</td>\n",
       "      <td>567</td>\n",
       "    </tr>\n",
       "    <tr>\n",
       "      <th>28</th>\n",
       "      <td>#섭지코지</td>\n",
       "      <td>558</td>\n",
       "    </tr>\n",
       "    <tr>\n",
       "      <th>29</th>\n",
       "      <td>#제주도민맛집</td>\n",
       "      <td>542</td>\n",
       "    </tr>\n",
       "    <tr>\n",
       "      <th>30</th>\n",
       "      <td>#제주핫플</td>\n",
       "      <td>530</td>\n",
       "    </tr>\n",
       "    <tr>\n",
       "      <th>31</th>\n",
       "      <td>#선팔</td>\n",
       "      <td>522</td>\n",
       "    </tr>\n",
       "    <tr>\n",
       "      <th>32</th>\n",
       "      <td>#섭지코지맛집</td>\n",
       "      <td>519</td>\n",
       "    </tr>\n",
       "    <tr>\n",
       "      <th>33</th>\n",
       "      <td>#제주살이</td>\n",
       "      <td>516</td>\n",
       "    </tr>\n",
       "    <tr>\n",
       "      <th>34</th>\n",
       "      <td>#여행스타그램</td>\n",
       "      <td>498</td>\n",
       "    </tr>\n",
       "    <tr>\n",
       "      <th>35</th>\n",
       "      <td>#통갈치구이</td>\n",
       "      <td>495</td>\n",
       "    </tr>\n",
       "    <tr>\n",
       "      <th>36</th>\n",
       "      <td>#제주통갈치구이</td>\n",
       "      <td>485</td>\n",
       "    </tr>\n",
       "    <tr>\n",
       "      <th>37</th>\n",
       "      <td>#제주서귀포맛집</td>\n",
       "      <td>479</td>\n",
       "    </tr>\n",
       "    <tr>\n",
       "      <th>38</th>\n",
       "      <td>#제주반영구</td>\n",
       "      <td>478</td>\n",
       "    </tr>\n",
       "    <tr>\n",
       "      <th>39</th>\n",
       "      <td>#중문맛집</td>\n",
       "      <td>472</td>\n",
       "    </tr>\n",
       "    <tr>\n",
       "      <th>40</th>\n",
       "      <td>#제주눈썹문신</td>\n",
       "      <td>472</td>\n",
       "    </tr>\n",
       "    <tr>\n",
       "      <th>41</th>\n",
       "      <td>#제주도관광</td>\n",
       "      <td>471</td>\n",
       "    </tr>\n",
       "    <tr>\n",
       "      <th>42</th>\n",
       "      <td>#서귀포눈썹문신</td>\n",
       "      <td>458</td>\n",
       "    </tr>\n",
       "    <tr>\n",
       "      <th>43</th>\n",
       "      <td>#여행</td>\n",
       "      <td>455</td>\n",
       "    </tr>\n",
       "    <tr>\n",
       "      <th>44</th>\n",
       "      <td>#먹스타그램</td>\n",
       "      <td>453</td>\n",
       "    </tr>\n",
       "    <tr>\n",
       "      <th>45</th>\n",
       "      <td>#제주시</td>\n",
       "      <td>451</td>\n",
       "    </tr>\n",
       "    <tr>\n",
       "      <th>46</th>\n",
       "      <td>#반영구</td>\n",
       "      <td>443</td>\n",
       "    </tr>\n",
       "    <tr>\n",
       "      <th>47</th>\n",
       "      <td>#눈썹문신</td>\n",
       "      <td>443</td>\n",
       "    </tr>\n",
       "    <tr>\n",
       "      <th>48</th>\n",
       "      <td>#제주자연눈썹</td>\n",
       "      <td>435</td>\n",
       "    </tr>\n",
       "    <tr>\n",
       "      <th>49</th>\n",
       "      <td>#제주속눈썹</td>\n",
       "      <td>435</td>\n",
       "    </tr>\n",
       "  </tbody>\n",
       "</table>\n",
       "</div>"
      ]
     },
     "metadata": {},
     "execution_count": 20
    }
   ],
   "metadata": {}
  },
  {
   "cell_type": "code",
   "execution_count": 26,
   "source": [
    "# 한글 깨짐 방지 코드\r\n",
    "import matplotlib\r\n",
    "from matplotlib import font_manager, rc\r\n",
    "import platform\r\n",
    "if platform.system()==\"Windows\":\r\n",
    "    font_name=font_manager.FontProperties(fname=\"c:/Windows/Fonts/malgun.ttf\").get_name()\r\n",
    "    rc('font', family=font_name)\r\n",
    "matplotlib.rcParams['axes.unicode_minus']=False\r\n",
    "\r\n",
    "import warnings\r\n",
    "warnings.filterwarnings(\"ignore\")"
   ],
   "outputs": [],
   "metadata": {}
  },
  {
   "cell_type": "code",
   "execution_count": 27,
   "source": [
    "import matplotlib.pyplot as plt\r\n",
    "import seaborn as sns"
   ],
   "outputs": [],
   "metadata": {}
  },
  {
   "cell_type": "code",
   "execution_count": 28,
   "source": [
    "plt.figure(figsize=(10, 8)) # figure == 도화지같은 개념 \r\n",
    "sns.barplot(x='counts', y='tags', data=jejuDf)"
   ],
   "outputs": [
    {
     "output_type": "execute_result",
     "data": {
      "text/plain": [
       "<AxesSubplot:xlabel='counts', ylabel='tags'>"
      ]
     },
     "metadata": {},
     "execution_count": 28
    },
    {
     "output_type": "display_data",
     "data": {
      "text/plain": [
       "<Figure size 720x576 with 1 Axes>"
      ],
      "image/png": "[encoded data removed]"
     },
     "metadata": {
      "needs_background": "light"
     }
    }
   ],
   "metadata": {}
  },
  {
   "cell_type": "code",
   "execution_count": null,
   "source": [
    "# 날짜별로 평균을 내서 평균을 기점으로 올라가는 추세인지 낮아지는 추세인지"
   ],
   "outputs": [],
   "metadata": {}
  },
  {
   "cell_type": "code",
   "execution_count": null,
   "source": [],
   "outputs": [],
   "metadata": {}
  },
  {
   "cell_type": "code",
   "execution_count": null,
   "source": [],
   "outputs": [],
   "metadata": {}
  }
 ],
 "metadata": {
  "orig_nbformat": 4,
  "language_info": {
   "name": "python",
   "version": "3.8.5",
   "mimetype": "text/x-python",
   "codemirror_mode": {
    "name": "ipython",
    "version": 3
   },
   "pygments_lexer": "ipython3",
   "nbconvert_exporter": "python",
   "file_extension": ".py"
  },
  "kernelspec": {
   "name": "python3",
   "display_name": "Python 3.8.5 64-bit ('base': conda)"
  },
  "interpreter": {
   "hash": "b3ba2566441a7c06988d0923437866b63cedc61552a5af99d1f4fb67d367b25f"
  }
 },
 "nbformat": 4,
 "nbformat_minor": 2
}