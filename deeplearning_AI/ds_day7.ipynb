{
 "cells": [
  {
   "cell_type": "code",
   "execution_count": null,
   "source": [
    "# numpy : 대량의 데이터를 처리하기 위해서(배열이 구현되어 있는 패키지)\r\n",
    "# -> 수치연산(벡터, 행렬연산)\r\n",
    "# 넘파이 배열은 속도가 빠름, 적은 메모리 차지, 같은 자료형, 원소의 개수 변경 불가\r\n",
    "# 리스트는 속도가 느림, 메모리 차지 많음, 자료형이 달라도 됨, 원소의 개수가 변경 가능\r\n",
    "# 파이썬은 자체적으로 배열을 제공하지 않는다."
   ],
   "outputs": [],
   "metadata": {}
  },
  {
   "cell_type": "code",
   "execution_count": 2,
   "source": [
    "import numpy as np\r\n",
    "import pandas as pd\r\n",
    "import matplotlib.pyplot as plt\r\n"
   ],
   "outputs": [],
   "metadata": {}
  },
  {
   "cell_type": "code",
   "execution_count": 4,
   "source": [
    "np.array([1,2,3,4]) # array함수에 리스트를 넣음, 1차원 배열\r\n",
    "type(np.array([1,2,3,4])) # ndarray 자료형의 구조"
   ],
   "outputs": [
    {
     "output_type": "execute_result",
     "data": {
      "text/plain": [
       "numpy.ndarray"
      ]
     },
     "metadata": {},
     "execution_count": 4
    }
   ],
   "metadata": {}
  },
  {
   "cell_type": "code",
   "execution_count": null,
   "source": [
    "# 벡터화연산 : 배열의 각 원소에 대한 반복 연산을 명령어 1개로 처리\r\n",
    "# \r\n",
    "# [1,2,3,4] -> [2,3,4,5] : 파이썬의 경우 4번 연산\r\n",
    "# [1,2,3,4] -> [2,3,4,5] : 넘파이의 경우 1번 연산"
   ],
   "outputs": [],
   "metadata": {}
  },
  {
   "cell_type": "code",
   "execution_count": 6,
   "source": [
    "#파이썬의 연산\r\n",
    "data=[1,2,3,4]\r\n",
    "ans=[i+1 for i in data]\r\n",
    "ans\r\n",
    "    "
   ],
   "outputs": [
    {
     "output_type": "execute_result",
     "data": {
      "text/plain": [
       "[2, 3, 4, 5]"
      ]
     },
     "metadata": {},
     "execution_count": 6
    }
   ],
   "metadata": {}
  },
  {
   "cell_type": "code",
   "execution_count": 9,
   "source": [
    "#넘파이 연산\r\n",
    "np.array(data)\r\n",
    "np.array(data)+1"
   ],
   "outputs": [
    {
     "output_type": "execute_result",
     "data": {
      "text/plain": [
       "array([2, 3, 4, 5])"
      ]
     },
     "metadata": {},
     "execution_count": 9
    }
   ],
   "metadata": {}
  },
  {
   "cell_type": "code",
   "execution_count": 10,
   "source": [
    "x=np.array([1,2,3])\r\n",
    "y=np.array([4,5,6])"
   ],
   "outputs": [],
   "metadata": {}
  },
  {
   "cell_type": "code",
   "execution_count": 17,
   "source": [
    "x+y #요소간 곱셈 \r\n",
    "2*x+y\r\n",
    "x ==y #각각의 요소끼리 비교\r\n",
    "x > 2\r\n",
    "y>4\r\n",
    "(x>2) & (y>4) # & : and연산"
   ],
   "outputs": [
    {
     "output_type": "execute_result",
     "data": {
      "text/plain": [
       "array([False, False,  True])"
      ]
     },
     "metadata": {},
     "execution_count": 17
    }
   ],
   "metadata": {}
  },
  {
   "cell_type": "code",
   "execution_count": null,
   "source": [
    "# 브로드캐스팅 : 손오공"
   ],
   "outputs": [],
   "metadata": {}
  },
  {
   "cell_type": "code",
   "execution_count": 20,
   "source": [
    "# 1차원 배열 : 벡터\r\n",
    "# 2차원 배열 : 행렬 (리스트의 리스트를 array에 넣으면 행렬이 된다.)\r\n",
    "\r\n",
    "x=np.array([[1,2,3],\r\n",
    "[4,5,6]]) #행이 두개 있다. 열이 3개 # 2*3배열 "
   ],
   "outputs": [],
   "metadata": {}
  },
  {
   "cell_type": "code",
   "execution_count": 22,
   "source": [
    "len(x) # 행의 개수\r\n",
    "len(x[0]) #열의 개수"
   ],
   "outputs": [
    {
     "output_type": "execute_result",
     "data": {
      "text/plain": [
       "3"
      ]
     },
     "metadata": {},
     "execution_count": 22
    }
   ],
   "metadata": {}
  },
  {
   "cell_type": "code",
   "execution_count": 23,
   "source": [
    "[[1,2,3], [1,2,3], [1,2,3]]"
   ],
   "outputs": [
    {
     "output_type": "execute_result",
     "data": {
      "text/plain": [
       "[[1, 2, 3], [1, 2, 3], [1, 2, 3]]"
      ]
     },
     "metadata": {},
     "execution_count": 23
    }
   ],
   "metadata": {}
  },
  {
   "cell_type": "code",
   "execution_count": 26,
   "source": [
    "x=np.array([[[1,2,3],[1,2,3]],[[1,2,3],[1,2,3]]])\r\n",
    "# 가장 바깥쪽에서 요소는 2개\r\n",
    "# x배열의 깊이 : 2\r\n",
    "# x배열의 행(그 다음 요소개수) : 2\r\n",
    "# x배열의 열(가장 안쪽에 있는 데이터 개수): 3\r\n",
    "# x : 2*3*4배열"
   ],
   "outputs": [],
   "metadata": {}
  },
  {
   "cell_type": "code",
   "execution_count": 27,
   "source": [
    "x"
   ],
   "outputs": [
    {
     "output_type": "execute_result",
     "data": {
      "text/plain": [
       "array([[[1, 2, 3],\n",
       "        [1, 2, 3]],\n",
       "\n",
       "       [[1, 2, 3],\n",
       "        [1, 2, 3]]])"
      ]
     },
     "metadata": {},
     "execution_count": 27
    }
   ],
   "metadata": {}
  },
  {
   "cell_type": "code",
   "execution_count": 33,
   "source": [
    "x=np.array([[[1, 2, 3, 4],\r\n",
    "               [5, 6, 7, 8],\r\n",
    "               [9, 10, 11, 12]],\r\n",
    "              [[11, 12, 13, 14],\r\n",
    "               [15, 16, 17, 18],\r\n",
    "               [19, 20, 21, 22]]])\r\n",
    "# 2*3*4\r\n",
    "# x배열의 깊이 : 2\r\n",
    "# x배열의 행 : 3 \r\n",
    "# x배열의 열 : 4\r\n",
    "# x배열의 shape? 2*3*4배열\r\n",
    "\r\n",
    "\r\n",
    "# 3차원배열x = [행렬1, 행렬2]\r\n",
    "# x[0]=행렬1\r\n",
    "# x[1]=행렬2\r\n",
    "# x[0][0]=행렬1의 첫번째 행 \r\n",
    "\r\n",
    "len(x) #깊이\r\n",
    "len(x[0]) #행\r\n",
    "len(x[0][0]) #열"
   ],
   "outputs": [
    {
     "output_type": "execute_result",
     "data": {
      "text/plain": [
       "4"
      ]
     },
     "metadata": {},
     "execution_count": 33
    }
   ],
   "metadata": {}
  },
  {
   "cell_type": "code",
   "execution_count": 38,
   "source": [
    "x.ndim # 배열의 차원 확인 # n차원에서 n구하기\r\n",
    "x.shape #shape(배열의 크기)\r\n",
    "type(x.shape)"
   ],
   "outputs": [
    {
     "output_type": "execute_result",
     "data": {
      "text/plain": [
       "tuple"
      ]
     },
     "metadata": {},
     "execution_count": 38
    }
   ],
   "metadata": {}
  },
  {
   "cell_type": "code",
   "execution_count": 12,
   "source": [
    "x=np.array([1,2,3])"
   ],
   "outputs": [],
   "metadata": {}
  },
  {
   "cell_type": "code",
   "execution_count": 46,
   "source": [
    "# axis : 축 (axes의 복수)\r\n",
    "x[-1]"
   ],
   "outputs": [
    {
     "output_type": "execute_result",
     "data": {
      "text/plain": [
       "3"
      ]
     },
     "metadata": {},
     "execution_count": 46
    }
   ],
   "metadata": {}
  },
  {
   "cell_type": "code",
   "execution_count": null,
   "source": [
    "# 코딩공부는 손으로 한다."
   ],
   "outputs": [],
   "metadata": {}
  },
  {
   "cell_type": "code",
   "execution_count": 13,
   "source": [
    "x=np.array([[1,2,3], [4,5,6]])\r\n",
    "x\r\n",
    "x[0] #첫번째 행 출력\r\n",
    "x[1]\r\n",
    "x[-1] #마지막행으로부터 거꾸로 참조\r\n",
    "x[-2]\r\n",
    "\r\n",
    "x[0][0] #첫번째 행의 첫번째 열 출력\r\n",
    "x[-2][0]\r\n",
    "x[-2][-3]\r\n",
    "x[0,0] #컴마를 이용한 접근도 가능. 컴마로 구분된 차원을 축(axis)라고 함"
   ],
   "outputs": [
    {
     "output_type": "execute_result",
     "data": {
      "text/plain": [
       "1"
      ]
     },
     "metadata": {},
     "execution_count": 13
    }
   ],
   "metadata": {}
  },
  {
   "cell_type": "code",
   "execution_count": 20,
   "source": [
    "x=np.array([[1,2,3], [4,5,6]])\r\n",
    "#x[행, 열]\r\n",
    "x[0] #첫번째 행 전체\r\n",
    "x[0,] #첫번째 행 전체\r\n",
    "x[0, :] #첫번째 행 전체\r\n",
    "\r\n",
    "x[1]\r\n",
    "x[1, :]\r\n",
    "\r\n",
    "x[:,1] # :는 전체를 의미 "
   ],
   "outputs": [
    {
     "output_type": "execute_result",
     "data": {
      "text/plain": [
       "array([2, 5])"
      ]
     },
     "metadata": {},
     "execution_count": 20
    }
   ],
   "metadata": {}
  },
  {
   "cell_type": "code",
   "execution_count": 37,
   "source": [
    "x[-1][-2:]\r\n",
    "x[1,1:]\r\n",
    "x[1,1:3]\r\n",
    "x[-1,-2:]"
   ],
   "outputs": [
    {
     "output_type": "execute_result",
     "data": {
      "text/plain": [
       "array([5, 6])"
      ]
     },
     "metadata": {},
     "execution_count": 37
    }
   ],
   "metadata": {}
  },
  {
   "cell_type": "code",
   "execution_count": 40,
   "source": [
    "x[:,1:] #x[행,열] # 시작인덱스:끝인덱스(끝은 포함안됨)"
   ],
   "outputs": [
    {
     "output_type": "execute_result",
     "data": {
      "text/plain": [
       "array([[2, 3],\n",
       "       [5, 6]])"
      ]
     },
     "metadata": {},
     "execution_count": 40
    }
   ],
   "metadata": {}
  },
  {
   "cell_type": "code",
   "execution_count": null,
   "source": [
    "#불린참조, 불린값(True/False)으로 구성된 배열로 참조,\r\n",
    "# 주의 : 참조 대상 배열(x)와 불린 배열(b)의 크기가 동일"
   ],
   "outputs": [],
   "metadata": {}
  },
  {
   "cell_type": "code",
   "execution_count": 3,
   "source": [
    "x=np.array([1,2,3])\r\n",
    "b=np.array([True,False,True])"
   ],
   "outputs": [],
   "metadata": {}
  },
  {
   "cell_type": "code",
   "execution_count": 4,
   "source": [
    "x[b]"
   ],
   "outputs": [
    {
     "output_type": "execute_result",
     "data": {
      "text/plain": [
       "array([1, 3])"
      ]
     },
     "metadata": {},
     "execution_count": 4
    }
   ],
   "metadata": {}
  },
  {
   "cell_type": "code",
   "execution_count": 6,
   "source": [
    "x>1\r\n",
    "x[x>1]"
   ],
   "outputs": [
    {
     "output_type": "execute_result",
     "data": {
      "text/plain": [
       "array([2, 3])"
      ]
     },
     "metadata": {},
     "execution_count": 6
    }
   ],
   "metadata": {}
  },
  {
   "cell_type": "code",
   "execution_count": 10,
   "source": [
    "x=np.array([1,2,3])\r\n",
    "# b=np.array([True,False,True,True])\r\n",
    "#b=np.array([True,False,True])\r\n",
    "x%2==1"
   ],
   "outputs": [
    {
     "output_type": "execute_result",
     "data": {
      "text/plain": [
       "array([ True, False,  True])"
      ]
     },
     "metadata": {},
     "execution_count": 10
    }
   ],
   "metadata": {}
  },
  {
   "cell_type": "code",
   "execution_count": 11,
   "source": [
    "x[x%2==1]"
   ],
   "outputs": [
    {
     "output_type": "execute_result",
     "data": {
      "text/plain": [
       "array([1, 3])"
      ]
     },
     "metadata": {},
     "execution_count": 11
    }
   ],
   "metadata": {}
  },
  {
   "cell_type": "code",
   "execution_count": 12,
   "source": [
    "x=np.array([10,20,30,40,50])\r\n",
    "y=np.array([0,2,4,0,0,2])"
   ],
   "outputs": [],
   "metadata": {}
  },
  {
   "cell_type": "code",
   "execution_count": 13,
   "source": [
    "#정수 배열 인덱싱 \r\n",
    "x[y]"
   ],
   "outputs": [
    {
     "output_type": "execute_result",
     "data": {
      "text/plain": [
       "array([10, 30, 50, 10, 10, 30])"
      ]
     },
     "metadata": {},
     "execution_count": 13
    }
   ],
   "metadata": {}
  },
  {
   "cell_type": "code",
   "execution_count": 14,
   "source": [
    "x=np.array([[10,20,30],[40,50,60]])"
   ],
   "outputs": [],
   "metadata": {}
  },
  {
   "cell_type": "code",
   "execution_count": 18,
   "source": [
    "x[ :, [True,False,True]] # 0번 2번 index 열 데이터 추출\r\n",
    "x[[True,False],:]"
   ],
   "outputs": [
    {
     "output_type": "execute_result",
     "data": {
      "text/plain": [
       "array([[10, 20, 30]])"
      ]
     },
     "metadata": {},
     "execution_count": 18
    }
   ],
   "metadata": {}
  },
  {
   "cell_type": "code",
   "execution_count": 19,
   "source": [
    "x[:]"
   ],
   "outputs": [
    {
     "output_type": "execute_result",
     "data": {
      "text/plain": [
       "array([[10, 20, 30],\n",
       "       [40, 50, 60]])"
      ]
     },
     "metadata": {},
     "execution_count": 19
    }
   ],
   "metadata": {}
  },
  {
   "cell_type": "code",
   "execution_count": 22,
   "source": [
    "x[ : , [0,2]]\r\n",
    "x[ : , [2,0]]\r\n",
    "x[ : , [2,0,0,2,0]]\r\n",
    "x[[1,1,1,0],:]\r\n",
    "x[[1,0],:]"
   ],
   "outputs": [
    {
     "output_type": "execute_result",
     "data": {
      "text/plain": [
       "array([[40, 50, 60],\n",
       "       [10, 20, 30]])"
      ]
     },
     "metadata": {},
     "execution_count": 22
    }
   ],
   "metadata": {}
  },
  {
   "cell_type": "code",
   "execution_count": 41,
   "source": [
    "x=np.array([[0, 1, 2, 3, 4],\r\n",
    "[5,6,7,8,9],\r\n",
    "[10,11,12,13,14]])"
   ],
   "outputs": [],
   "metadata": {}
  },
  {
   "cell_type": "code",
   "execution_count": 42,
   "source": [
    "x"
   ],
   "outputs": [
    {
     "output_type": "execute_result",
     "data": {
      "text/plain": [
       "array([[ 0,  1,  2,  3,  4],\n",
       "       [ 5,  6,  7,  8,  9],\n",
       "       [10, 11, 12, 13, 14]])"
      ]
     },
     "metadata": {},
     "execution_count": 42
    }
   ],
   "metadata": {}
  },
  {
   "cell_type": "code",
   "execution_count": 60,
   "source": [
    "# 7참조\r\n",
    "x[1,2]\r\n",
    "x[x==7]\r\n",
    "# 14참조\r\n",
    "x[-1][-1]\r\n",
    "#[6,7]참조\r\n",
    "x[1][1:3]\r\n",
    "#[7,12]참조\r\n",
    "x[1:,2]\r\n",
    "x[(x==6)|(x==7)]\r\n",
    "#[[3,4],[8,9]]\r\n",
    "x[:2,3:]"
   ],
   "outputs": [
    {
     "output_type": "execute_result",
     "data": {
      "text/plain": [
       "array([[3, 4],\n",
       "       [8, 9]])"
      ]
     },
     "metadata": {},
     "execution_count": 60
    }
   ],
   "metadata": {}
  },
  {
   "cell_type": "code",
   "execution_count": 61,
   "source": [
    "x = np.array([1, 2, 3, 4, 5, 6, 7, 8, 9, 10,\r\n",
    "             11, 12, 13, 14, 15, 16, 17, 18, 19, 20])\r\n"
   ],
   "outputs": [],
   "metadata": {}
  },
  {
   "cell_type": "code",
   "execution_count": 69,
   "source": [
    "# 3의 배수 출력\r\n",
    "x[x%3==0]\r\n",
    "# 4로 나누었을때 나머지가 1인 값을 출력 \r\n",
    "x[x%4==1]\r\n",
    "# 3으로 나누어지고 4로 나누면 나머지가 1인 값을 출력 \r\n",
    "x[((x%3==0) & (x%4==1))]"
   ],
   "outputs": [
    {
     "output_type": "execute_result",
     "data": {
      "text/plain": [
       "array([9])"
      ]
     },
     "metadata": {},
     "execution_count": 69
    }
   ],
   "metadata": {}
  },
  {
   "cell_type": "code",
   "execution_count": 74,
   "source": [
    "x=np.array([1,2.5])"
   ],
   "outputs": [],
   "metadata": {}
  },
  {
   "cell_type": "code",
   "execution_count": 75,
   "source": [
    "type(x)\r\n",
    "# 배열에 저장된 자료 타입을 확인\r\n",
    "# dtype(=data type)\r\n",
    "x.dtype"
   ],
   "outputs": [
    {
     "output_type": "execute_result",
     "data": {
      "text/plain": [
       "dtype('float64')"
      ]
     },
     "metadata": {},
     "execution_count": 75
    }
   ],
   "metadata": {}
  },
  {
   "cell_type": "code",
   "execution_count": 77,
   "source": [
    "x=np.array([1,2], dtype='f') #dtype:f :실수\r\n",
    "x.dtype\r\n",
    "x"
   ],
   "outputs": [
    {
     "output_type": "execute_result",
     "data": {
      "text/plain": [
       "array([1., 2.], dtype=float32)"
      ]
     },
     "metadata": {},
     "execution_count": 77
    }
   ],
   "metadata": {}
  },
  {
   "cell_type": "code",
   "execution_count": null,
   "source": [
    "inf #infinity, Nan (not a number)"
   ],
   "outputs": [],
   "metadata": {}
  },
  {
   "cell_type": "code",
   "execution_count": 79,
   "source": [
    "np.inf #무한대를 표현하는 상수\r\n",
    "np.nan #정의할 수 없는 숫자"
   ],
   "outputs": [
    {
     "output_type": "execute_result",
     "data": {
      "text/plain": [
       "nan"
      ]
     },
     "metadata": {},
     "execution_count": 79
    }
   ],
   "metadata": {}
  },
  {
   "cell_type": "code",
   "execution_count": 87,
   "source": [
    "print(np.array([1]) / np.array([0])) #inf\r\n",
    "print(np.array([0]) / np.array([1])) #0\r\n",
    "print(np.array([-1]) / np.array([0])) #inf\r\n",
    "print(np.array([0]) / np.array([0])) #NaN\r\n",
    "\r\n",
    "print(np.log(0))\r\n",
    "print(np.exp(-np.inf))\r\n"
   ],
   "outputs": [
    {
     "output_type": "stream",
     "name": "stdout",
     "text": [
      "[inf]\n",
      "[0.]\n",
      "[-inf]\n",
      "[nan]\n",
      "-inf\n",
      "0.0\n"
     ]
    },
    {
     "output_type": "stream",
     "name": "stderr",
     "text": [
      "<ipython-input-87-c870cdd381ce>:1: RuntimeWarning: divide by zero encountered in true_divide\n",
      "  print(np.array([1]) / np.array([0])) #inf\n",
      "<ipython-input-87-c870cdd381ce>:3: RuntimeWarning: divide by zero encountered in true_divide\n",
      "  print(np.array([-1]) / np.array([0])) #inf\n",
      "<ipython-input-87-c870cdd381ce>:4: RuntimeWarning: invalid value encountered in true_divide\n",
      "  print(np.array([0]) / np.array([0])) #NaN\n",
      "<ipython-input-87-c870cdd381ce>:6: RuntimeWarning: divide by zero encountered in log\n",
      "  print(np.log(0))\n"
     ]
    }
   ],
   "metadata": {}
  },
  {
   "cell_type": "code",
   "execution_count": 88,
   "source": [
    "np.zeros(3)"
   ],
   "outputs": [
    {
     "output_type": "execute_result",
     "data": {
      "text/plain": [
       "array([0., 0., 0.])"
      ]
     },
     "metadata": {},
     "execution_count": 88
    }
   ],
   "metadata": {}
  },
  {
   "cell_type": "code",
   "execution_count": 90,
   "source": [
    "np.zeros((3,2))\r\n",
    "np.zeros((3,2,4)) #(깊이, 행,열)"
   ],
   "outputs": [
    {
     "output_type": "execute_result",
     "data": {
      "text/plain": [
       "array([[[0., 0., 0., 0.],\n",
       "        [0., 0., 0., 0.]],\n",
       "\n",
       "       [[0., 0., 0., 0.],\n",
       "        [0., 0., 0., 0.]],\n",
       "\n",
       "       [[0., 0., 0., 0.],\n",
       "        [0., 0., 0., 0.]]])"
      ]
     },
     "metadata": {},
     "execution_count": 90
    }
   ],
   "metadata": {}
  },
  {
   "cell_type": "code",
   "execution_count": 91,
   "source": [
    "np.zeros((3,2,4), dtype='i') # i=integer 정수"
   ],
   "outputs": [
    {
     "output_type": "execute_result",
     "data": {
      "text/plain": [
       "array([[[0, 0, 0, 0],\n",
       "        [0, 0, 0, 0]],\n",
       "\n",
       "       [[0, 0, 0, 0],\n",
       "        [0, 0, 0, 0]],\n",
       "\n",
       "       [[0, 0, 0, 0],\n",
       "        [0, 0, 0, 0]]], dtype=int32)"
      ]
     },
     "metadata": {},
     "execution_count": 91
    }
   ],
   "metadata": {}
  },
  {
   "cell_type": "code",
   "execution_count": 93,
   "source": [
    "np.ones((3,2,4))*2"
   ],
   "outputs": [
    {
     "output_type": "execute_result",
     "data": {
      "text/plain": [
       "array([[[2., 2., 2., 2.],\n",
       "        [2., 2., 2., 2.]],\n",
       "\n",
       "       [[2., 2., 2., 2.],\n",
       "        [2., 2., 2., 2.]],\n",
       "\n",
       "       [[2., 2., 2., 2.],\n",
       "        [2., 2., 2., 2.]]])"
      ]
     },
     "metadata": {},
     "execution_count": 93
    }
   ],
   "metadata": {}
  },
  {
   "cell_type": "code",
   "execution_count": 95,
   "source": [
    "x=np.ones((3,2,4)) ; x"
   ],
   "outputs": [
    {
     "output_type": "execute_result",
     "data": {
      "text/plain": [
       "array([[[1., 1., 1., 1.],\n",
       "        [1., 1., 1., 1.]],\n",
       "\n",
       "       [[1., 1., 1., 1.],\n",
       "        [1., 1., 1., 1.]],\n",
       "\n",
       "       [[1., 1., 1., 1.],\n",
       "        [1., 1., 1., 1.]]])"
      ]
     },
     "metadata": {},
     "execution_count": 95
    }
   ],
   "metadata": {}
  },
  {
   "cell_type": "code",
   "execution_count": 98,
   "source": [
    "# zeros(ones)_like함수 : x배열의 크기와 동일하게 0 또는 1로 모두 초기화하여 생성\r\n",
    "y=np.zeros_like(x);y\r\n",
    "y=np.ones_like(x, dtype='i');y\r\n",
    "\r\n",
    "#np.ones_like(x, dtype='i') 작업을 하면 컴퓨터 내부에서는 어떤 일이?\r\n",
    "#x배열 크기 확인 -> x배열 크기와 동일한 배열 공간 생성 -> 1로 모두 초기화\r\n"
   ],
   "outputs": [
    {
     "output_type": "execute_result",
     "data": {
      "text/plain": [
       "array([[[1, 1, 1, 1],\n",
       "        [1, 1, 1, 1]],\n",
       "\n",
       "       [[1, 1, 1, 1],\n",
       "        [1, 1, 1, 1]],\n",
       "\n",
       "       [[1, 1, 1, 1],\n",
       "        [1, 1, 1, 1]]], dtype=int32)"
      ]
     },
     "metadata": {},
     "execution_count": 98
    }
   ],
   "metadata": {}
  },
  {
   "cell_type": "code",
   "execution_count": 99,
   "source": [
    "np.empty((3,2)) #배열만 빠르게 만든다.\r\n",
    "#zeros:0으로 초기화, empty : 기존에 메모리에 남아있는 쓰게기값으로 초기화"
   ],
   "outputs": [
    {
     "output_type": "execute_result",
     "data": {
      "text/plain": [
       "array([[0., 0.],\n",
       "       [0., 0.],\n",
       "       [0., 0.]])"
      ]
     },
     "metadata": {},
     "execution_count": 99
    }
   ],
   "metadata": {}
  },
  {
   "cell_type": "code",
   "execution_count": 103,
   "source": [
    "np.array(list(range(8)))"
   ],
   "outputs": [
    {
     "output_type": "execute_result",
     "data": {
      "text/plain": [
       "array([0, 1, 2, 3, 4, 5, 6, 7])"
      ]
     },
     "metadata": {},
     "execution_count": 103
    }
   ],
   "metadata": {}
  },
  {
   "cell_type": "code",
   "execution_count": 104,
   "source": [
    "np.array(list(range(8))).reshape(4,2) #shape를 4행 2열로 재정의"
   ],
   "outputs": [
    {
     "output_type": "execute_result",
     "data": {
      "text/plain": [
       "array([[0, 1],\n",
       "       [2, 3],\n",
       "       [4, 5],\n",
       "       [6, 7]])"
      ]
     },
     "metadata": {},
     "execution_count": 104
    }
   ],
   "metadata": {}
  },
  {
   "cell_type": "code",
   "execution_count": 108,
   "source": [
    "np.arange(8) #np.array(list(range(8)))\r\n",
    "# arange와 range 모두 범위를 만드는 객체 \r\n",
    "# arange는 넘파이 함수, range는 리스트 함수\r\n",
    "np.arange(8).reshape(2,4)"
   ],
   "outputs": [
    {
     "output_type": "execute_result",
     "data": {
      "text/plain": [
       "array([[0, 1, 2, 3],\n",
       "       [4, 5, 6, 7]])"
      ]
     },
     "metadata": {},
     "execution_count": 108
    }
   ],
   "metadata": {}
  },
  {
   "cell_type": "code",
   "execution_count": 110,
   "source": [
    "np.arange(1,11,2)"
   ],
   "outputs": [
    {
     "output_type": "execute_result",
     "data": {
      "text/plain": [
       "array([1, 3, 5, 7, 9])"
      ]
     },
     "metadata": {},
     "execution_count": 110
    }
   ],
   "metadata": {}
  },
  {
   "cell_type": "code",
   "execution_count": 111,
   "source": [
    "np.linspace(0, 100, 10) #선형 구간, 시작, 끝, 개수 #구간을 나눠 생성"
   ],
   "outputs": [
    {
     "output_type": "execute_result",
     "data": {
      "text/plain": [
       "array([  0.        ,  11.11111111,  22.22222222,  33.33333333,\n",
       "        44.44444444,  55.55555556,  66.66666667,  77.77777778,\n",
       "        88.88888889, 100.        ])"
      ]
     },
     "metadata": {},
     "execution_count": 111
    }
   ],
   "metadata": {}
  },
  {
   "cell_type": "code",
   "execution_count": 115,
   "source": [
    "# np.logspace(시작, 끝, 개수, base) \r\n",
    "#로그 스케일 값으로 배열 생성\r\n",
    "np.logspace(start=1,stop=10,num=10)\r\n",
    "np.logspace(start=1,stop=10,num=10, base=10)\r\n",
    "np.logspace(start=1,stop=10,num=10, base=2) #base가 2"
   ],
   "outputs": [
    {
     "output_type": "execute_result",
     "data": {
      "text/plain": [
       "array([   2.,    4.,    8.,   16.,   32.,   64.,  128.,  256.,  512.,\n",
       "       1024.])"
      ]
     },
     "metadata": {},
     "execution_count": 115
    }
   ],
   "metadata": {}
  },
  {
   "cell_type": "code",
   "execution_count": 116,
   "source": [
    "#전치행렬 : 행과 열을 바꾸어놓은 행렬, T속성을 이용"
   ],
   "outputs": [],
   "metadata": {}
  },
  {
   "cell_type": "code",
   "execution_count": 120,
   "source": [
    "# 1~6가지 2행 3열 행렬생성\r\n",
    "X=np.arange(1,7).reshape(2,3);X"
   ],
   "outputs": [
    {
     "output_type": "execute_result",
     "data": {
      "text/plain": [
       "array([[1, 2, 3],\n",
       "       [4, 5, 6]])"
      ]
     },
     "metadata": {},
     "execution_count": 120
    }
   ],
   "metadata": {}
  },
  {
   "cell_type": "code",
   "execution_count": 121,
   "source": [
    "X.T"
   ],
   "outputs": [
    {
     "output_type": "execute_result",
     "data": {
      "text/plain": [
       "array([[1, 4],\n",
       "       [2, 5],\n",
       "       [3, 6]])"
      ]
     },
     "metadata": {},
     "execution_count": 121
    }
   ],
   "metadata": {}
  },
  {
   "cell_type": "code",
   "execution_count": null,
   "source": [
    "# 엘리먼트 와이즈 프로덕\r\n",
    "# element wise product : 요소간 곱셈 연산\r\n",
    "\r\n",
    "# 닷 프로덕, 매트릭스 멀티플라이(행렬의 곱셈)\r\n",
    "# dot product, matrix mutliply"
   ],
   "outputs": [],
   "metadata": {}
  },
  {
   "cell_type": "code",
   "execution_count": 123,
   "source": [
    "x=np.arange(12).reshape(3,4);x"
   ],
   "outputs": [
    {
     "output_type": "execute_result",
     "data": {
      "text/plain": [
       "array([[ 0,  1,  2,  3],\n",
       "       [ 4,  5,  6,  7],\n",
       "       [ 8,  9, 10, 11]])"
      ]
     },
     "metadata": {},
     "execution_count": 123
    }
   ],
   "metadata": {}
  },
  {
   "cell_type": "code",
   "execution_count": 125,
   "source": [
    "x=np.arange(12).reshape(3,-1);x # 행은 3을 알겠는데 열은 모르겠다 -> -1로 한다.\r\n",
    "x=np.arange(12).reshape(-1,2);x # 열은 2개, 행은 네가 계산해서 알아서 해\r\n"
   ],
   "outputs": [
    {
     "output_type": "execute_result",
     "data": {
      "text/plain": [
       "array([[ 0,  1],\n",
       "       [ 2,  3],\n",
       "       [ 4,  5],\n",
       "       [ 6,  7],\n",
       "       [ 8,  9],\n",
       "       [10, 11]])"
      ]
     },
     "metadata": {},
     "execution_count": 125
    }
   ],
   "metadata": {}
  },
  {
   "cell_type": "code",
   "execution_count": 129,
   "source": [
    "x=np.arange(24);x\r\n",
    "x.reshape(2,3,-1)\r\n",
    "x.reshape(2,-1,2)"
   ],
   "outputs": [
    {
     "output_type": "execute_result",
     "data": {
      "text/plain": [
       "array([[[ 0,  1,  2,  3],\n",
       "        [ 4,  5,  6,  7],\n",
       "        [ 8,  9, 10, 11]],\n",
       "\n",
       "       [[12, 13, 14, 15],\n",
       "        [16, 17, 18, 19],\n",
       "        [20, 21, 22, 23]]])"
      ]
     },
     "metadata": {},
     "execution_count": 129
    }
   ],
   "metadata": {}
  },
  {
   "cell_type": "code",
   "execution_count": null,
   "source": [
    "# reshape으로 차원을 증가시킬 수 있다\r\n",
    "# ex) reshape함수 : 1차원 배열 -> 다차원 배열로 변환 가능\r\n",
    "\r\n",
    "# ex) flatten함수 또는 ravel함수 : 다차원 배열 -> 1차원 배열로 변환 가능 (평평하다)\r\n"
   ],
   "outputs": [],
   "metadata": {}
  },
  {
   "cell_type": "code",
   "execution_count": 134,
   "source": [
    "x=x.reshape(2,3,-1);x\r\n",
    "x.shape\r\n",
    "x.ndim"
   ],
   "outputs": [
    {
     "output_type": "execute_result",
     "data": {
      "text/plain": [
       "3"
      ]
     },
     "metadata": {},
     "execution_count": 134
    }
   ],
   "metadata": {}
  },
  {
   "cell_type": "code",
   "execution_count": 138,
   "source": [
    "x.flatten()"
   ],
   "outputs": [
    {
     "output_type": "execute_result",
     "data": {
      "text/plain": [
       "array([ 0,  1,  2,  3,  4,  5,  6,  7,  8,  9, 10, 11, 12, 13, 14, 15, 16,\n",
       "       17, 18, 19, 20, 21, 22, 23])"
      ]
     },
     "metadata": {},
     "execution_count": 138
    }
   ],
   "metadata": {}
  },
  {
   "cell_type": "code",
   "execution_count": 136,
   "source": [
    "x.ravel"
   ],
   "outputs": [
    {
     "output_type": "execute_result",
     "data": {
      "text/plain": [
       "array([ 0,  1,  2,  3,  4,  5,  6,  7,  8,  9, 10, 11, 12, 13, 14, 15, 16,\n",
       "       17, 18, 19, 20, 21, 22, 23])"
      ]
     },
     "metadata": {},
     "execution_count": 136
    }
   ],
   "metadata": {}
  },
  {
   "cell_type": "code",
   "execution_count": 139,
   "source": [
    "import pandas as pd"
   ],
   "outputs": [],
   "metadata": {}
  },
  {
   "cell_type": "code",
   "execution_count": 153,
   "source": [
    "df=pd.read_csv('e:/data/samsung.csv');df"
   ],
   "outputs": [
    {
     "output_type": "execute_result",
     "data": {
      "text/plain": [
       "      Open   High    Low  Close    Adj Close    Volume\n",
       "0    57000  58800  56400  58600  56560.60547  48431566\n",
       "1    60300  60400  58600  59000  56946.68750  36476611\n",
       "2    59700  60100  59000  59000  56946.68750  19285354\n",
       "3    59500  59600  57700  57900  55884.96875  21943345\n",
       "4    57800  57900  56700  56800  54823.25000  21158940\n",
       "..     ...    ...    ...    ...          ...       ...\n",
       "244  79000  79800  78900  79700  79700.00000  12618790\n",
       "245  79700  79900  79200  79300  79300.00000   9098910\n",
       "246  79400  79500  78800  78800  78800.00000  10040975\n",
       "247  79200  79400  78500  78500  78500.00000  11427693\n",
       "248  78300  78900  78100  78300  78300.00000  10191446\n",
       "\n",
       "[249 rows x 6 columns]"
      ],
      "text/html": [
       "<div>\n",
       "<style scoped>\n",
       "    .dataframe tbody tr th:only-of-type {\n",
       "        vertical-align: middle;\n",
       "    }\n",
       "\n",
       "    .dataframe tbody tr th {\n",
       "        vertical-align: top;\n",
       "    }\n",
       "\n",
       "    .dataframe thead th {\n",
       "        text-align: right;\n",
       "    }\n",
       "</style>\n",
       "<table border=\"1\" class=\"dataframe\">\n",
       "  <thead>\n",
       "    <tr style=\"text-align: right;\">\n",
       "      <th></th>\n",
       "      <th>Open</th>\n",
       "      <th>High</th>\n",
       "      <th>Low</th>\n",
       "      <th>Close</th>\n",
       "      <th>Adj Close</th>\n",
       "      <th>Volume</th>\n",
       "    </tr>\n",
       "  </thead>\n",
       "  <tbody>\n",
       "    <tr>\n",
       "      <th>0</th>\n",
       "      <td>57000</td>\n",
       "      <td>58800</td>\n",
       "      <td>56400</td>\n",
       "      <td>58600</td>\n",
       "      <td>56560.60547</td>\n",
       "      <td>48431566</td>\n",
       "    </tr>\n",
       "    <tr>\n",
       "      <th>1</th>\n",
       "      <td>60300</td>\n",
       "      <td>60400</td>\n",
       "      <td>58600</td>\n",
       "      <td>59000</td>\n",
       "      <td>56946.68750</td>\n",
       "      <td>36476611</td>\n",
       "    </tr>\n",
       "    <tr>\n",
       "      <th>2</th>\n",
       "      <td>59700</td>\n",
       "      <td>60100</td>\n",
       "      <td>59000</td>\n",
       "      <td>59000</td>\n",
       "      <td>56946.68750</td>\n",
       "      <td>19285354</td>\n",
       "    </tr>\n",
       "    <tr>\n",
       "      <th>3</th>\n",
       "      <td>59500</td>\n",
       "      <td>59600</td>\n",
       "      <td>57700</td>\n",
       "      <td>57900</td>\n",
       "      <td>55884.96875</td>\n",
       "      <td>21943345</td>\n",
       "    </tr>\n",
       "    <tr>\n",
       "      <th>4</th>\n",
       "      <td>57800</td>\n",
       "      <td>57900</td>\n",
       "      <td>56700</td>\n",
       "      <td>56800</td>\n",
       "      <td>54823.25000</td>\n",
       "      <td>21158940</td>\n",
       "    </tr>\n",
       "    <tr>\n",
       "      <th>...</th>\n",
       "      <td>...</td>\n",
       "      <td>...</td>\n",
       "      <td>...</td>\n",
       "      <td>...</td>\n",
       "      <td>...</td>\n",
       "      <td>...</td>\n",
       "    </tr>\n",
       "    <tr>\n",
       "      <th>244</th>\n",
       "      <td>79000</td>\n",
       "      <td>79800</td>\n",
       "      <td>78900</td>\n",
       "      <td>79700</td>\n",
       "      <td>79700.00000</td>\n",
       "      <td>12618790</td>\n",
       "    </tr>\n",
       "    <tr>\n",
       "      <th>245</th>\n",
       "      <td>79700</td>\n",
       "      <td>79900</td>\n",
       "      <td>79200</td>\n",
       "      <td>79300</td>\n",
       "      <td>79300.00000</td>\n",
       "      <td>9098910</td>\n",
       "    </tr>\n",
       "    <tr>\n",
       "      <th>246</th>\n",
       "      <td>79400</td>\n",
       "      <td>79500</td>\n",
       "      <td>78800</td>\n",
       "      <td>78800</td>\n",
       "      <td>78800.00000</td>\n",
       "      <td>10040975</td>\n",
       "    </tr>\n",
       "    <tr>\n",
       "      <th>247</th>\n",
       "      <td>79200</td>\n",
       "      <td>79400</td>\n",
       "      <td>78500</td>\n",
       "      <td>78500</td>\n",
       "      <td>78500.00000</td>\n",
       "      <td>11427693</td>\n",
       "    </tr>\n",
       "    <tr>\n",
       "      <th>248</th>\n",
       "      <td>78300</td>\n",
       "      <td>78900</td>\n",
       "      <td>78100</td>\n",
       "      <td>78300</td>\n",
       "      <td>78300.00000</td>\n",
       "      <td>10191446</td>\n",
       "    </tr>\n",
       "  </tbody>\n",
       "</table>\n",
       "<p>249 rows × 6 columns</p>\n",
       "</div>"
      ]
     },
     "metadata": {},
     "execution_count": 153
    }
   ],
   "metadata": {}
  },
  {
   "cell_type": "code",
   "execution_count": 155,
   "source": [
    "samsung = np.loadtxt('e:/data/samsung.csv', skiprows=1, delimiter=',') #첫번째 줄 스킵 \r\n",
    "samsung\r\n",
    "\r\n",
    "#samsung 변수에 담긴 배열을 이용하여 오늘 학습한 함수, 열, 행 추출"
   ],
   "outputs": [
    {
     "output_type": "execute_result",
     "data": {
      "text/plain": [
       "array([[   57000.     ,    58800.     ,    56400.     ,    58600.     ,\n",
       "           56560.60547, 48431566.     ],\n",
       "       [   60300.     ,    60400.     ,    58600.     ,    59000.     ,\n",
       "           56946.6875 , 36476611.     ],\n",
       "       [   59700.     ,    60100.     ,    59000.     ,    59000.     ,\n",
       "           56946.6875 , 19285354.     ],\n",
       "       ...,\n",
       "       [   79400.     ,    79500.     ,    78800.     ,    78800.     ,\n",
       "           78800.     , 10040975.     ],\n",
       "       [   79200.     ,    79400.     ,    78500.     ,    78500.     ,\n",
       "           78500.     , 11427693.     ],\n",
       "       [   78300.     ,    78900.     ,    78100.     ,    78300.     ,\n",
       "           78300.     , 10191446.     ]])"
      ]
     },
     "metadata": {},
     "execution_count": 155
    }
   ],
   "metadata": {}
  },
  {
   "cell_type": "code",
   "execution_count": null,
   "source": [],
   "outputs": [],
   "metadata": {}
  }
 ],
 "metadata": {
  "orig_nbformat": 4,
  "language_info": {
   "name": "python",
   "version": "3.8.5",
   "mimetype": "text/x-python",
   "codemirror_mode": {
    "name": "ipython",
    "version": 3
   },
   "pygments_lexer": "ipython3",
   "nbconvert_exporter": "python",
   "file_extension": ".py"
  },
  "kernelspec": {
   "name": "python3",
   "display_name": "Python 3.8.5 64-bit ('base': conda)"
  },
  "interpreter": {
   "hash": "b3ba2566441a7c06988d0923437866b63cedc61552a5af99d1f4fb67d367b25f"
  }
 },
 "nbformat": 4,
 "nbformat_minor": 2
}