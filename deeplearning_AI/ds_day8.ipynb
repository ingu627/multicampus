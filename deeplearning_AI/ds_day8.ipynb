{
 "cells": [
  {
   "cell_type": "code",
   "execution_count": null,
   "source": [
    "# 두 개 이상의 정렬 조건 사용하기\r\n",
    "# key함수의 리턴값이 (첫번째 기준, 두번째 기준)형식의 튜플"
   ],
   "outputs": [],
   "metadata": {}
  },
  {
   "cell_type": "code",
   "execution_count": 40,
   "source": [
    "import numpy as np\r\n",
    "import pandas as pd"
   ],
   "outputs": [],
   "metadata": {}
  },
  {
   "cell_type": "code",
   "execution_count": null,
   "source": [
    "# array 연결"
   ],
   "outputs": [],
   "metadata": {}
  },
  {
   "cell_type": "code",
   "execution_count": null,
   "source": [
    "# stack 계열 함수 : 행 또는 열의 수가 동일한 두 개 이상의 배열을 연결\r\n",
    "# hstack : 행의 개수가 동일한 배열을 옆으로 연결  \r\n",
    "# vstack : 열의 개수가 동일한 배열을 밑으로 연결"
   ],
   "outputs": [],
   "metadata": {}
  },
  {
   "cell_type": "code",
   "execution_count": 5,
   "source": [
    "x1=np.ones((2,3)) ;print(x1) # 행 2, 열 3 \r\n",
    "x2=np.zeros((2,2)) ; print(x2) # 행 2, 열 3"
   ],
   "outputs": [
    {
     "output_type": "stream",
     "name": "stdout",
     "text": [
      "[[1. 1. 1.]\n",
      " [1. 1. 1.]]\n",
      "[[0. 0.]\n",
      " [0. 0.]]\n"
     ]
    }
   ],
   "metadata": {}
  },
  {
   "cell_type": "code",
   "execution_count": 7,
   "source": [
    "np.hstack([x1,x2])"
   ],
   "outputs": [
    {
     "output_type": "execute_result",
     "data": {
      "text/plain": [
       "array([[1., 1., 1., 0., 0.],\n",
       "       [1., 1., 1., 0., 0.]])"
      ]
     },
     "metadata": {},
     "execution_count": 7
    }
   ],
   "metadata": {}
  },
  {
   "cell_type": "code",
   "execution_count": 9,
   "source": [
    "x3=np.ones((2,3)) ;print(x3) # 행 2, 열 3 \r\n",
    "x4=np.zeros((3,3)) ; print(x4) # 행 3, 열 3"
   ],
   "outputs": [
    {
     "output_type": "stream",
     "name": "stdout",
     "text": [
      "[[1. 1. 1.]\n",
      " [1. 1. 1.]]\n",
      "[[0. 0. 0.]\n",
      " [0. 0. 0.]\n",
      " [0. 0. 0.]]\n"
     ]
    }
   ],
   "metadata": {}
  },
  {
   "cell_type": "code",
   "execution_count": 10,
   "source": [
    "np.vstack([x3,x4])"
   ],
   "outputs": [
    {
     "output_type": "execute_result",
     "data": {
      "text/plain": [
       "array([[1., 1., 1.],\n",
       "       [1., 1., 1.],\n",
       "       [0., 0., 0.],\n",
       "       [0., 0., 0.],\n",
       "       [0., 0., 0.]])"
      ]
     },
     "metadata": {},
     "execution_count": 10
    }
   ],
   "metadata": {}
  },
  {
   "cell_type": "code",
   "execution_count": 25,
   "source": [
    "x=np.arange(1,10001)\r\n",
    "y=np.arange(10001,20001)"
   ],
   "outputs": [],
   "metadata": {}
  },
  {
   "cell_type": "code",
   "execution_count": 26,
   "source": [
    "%%time #실행 시간을 알고자 할 때\r\n",
    "z=np.zeros_like(x)\r\n",
    "for i in range(10000):\r\n",
    "    z[i]=x[i]+y[i]\r\n",
    "print(z)\r\n",
    "\r\n",
    "#6ms : ms(10-3승 초, 1/1000 초), us(10-6초), ns ps fs as ..."
   ],
   "outputs": [
    {
     "output_type": "stream",
     "name": "stderr",
     "text": [
      "UsageError: Can't use statement directly after '%%time'!\n"
     ]
    }
   ],
   "metadata": {}
  },
  {
   "cell_type": "code",
   "execution_count": 27,
   "source": [
    "%%time\r\n",
    "z=x+y\r\n",
    "#벡터화연산이 빠르다"
   ],
   "outputs": [
    {
     "output_type": "stream",
     "name": "stdout",
     "text": [
      "Wall time: 0 ns\n"
     ]
    }
   ],
   "metadata": {}
  },
  {
   "cell_type": "code",
   "execution_count": 28,
   "source": [
    "z"
   ],
   "outputs": [
    {
     "output_type": "execute_result",
     "data": {
      "text/plain": [
       "array([10002, 10004, 10006, ..., 29996, 29998, 30000])"
      ]
     },
     "metadata": {},
     "execution_count": 28
    }
   ],
   "metadata": {}
  },
  {
   "cell_type": "code",
   "execution_count": 31,
   "source": [
    "x1=np.array([1,2,3])\r\n",
    "x2=np.array([1,3,3])\r\n",
    "x1==x2\r\n",
    "np.all(x1==x2) #x2와 x1이 모두 같습니까?"
   ],
   "outputs": [
    {
     "output_type": "execute_result",
     "data": {
      "text/plain": [
       "False"
      ]
     },
     "metadata": {},
     "execution_count": 31
    }
   ],
   "metadata": {}
  },
  {
   "cell_type": "code",
   "execution_count": 32,
   "source": [
    "np.exp(x1) #자연상수(e)=2.718xxx"
   ],
   "outputs": [
    {
     "output_type": "execute_result",
     "data": {
      "text/plain": [
       "array([ 2.71828183,  7.3890561 , 20.08553692])"
      ]
     },
     "metadata": {},
     "execution_count": 32
    }
   ],
   "metadata": {}
  },
  {
   "cell_type": "code",
   "execution_count": 34,
   "source": [
    "10 ** x1"
   ],
   "outputs": [
    {
     "output_type": "execute_result",
     "data": {
      "text/plain": [
       "array([  10,  100, 1000], dtype=int32)"
      ]
     },
     "metadata": {},
     "execution_count": 34
    }
   ],
   "metadata": {}
  },
  {
   "cell_type": "code",
   "execution_count": 35,
   "source": [
    "'''\r\n",
    "선형대수\r\n",
    "데이터 계수 또는 형태에 따라 스칼라, 벡터, 행렬, 텐서로 구분됨\r\n",
    "스칼라? 숫자 하나로 구성된 데이터(0차원 텐서)\r\n",
    "벡터? (사전에 정의된 어떤 순서에 따라) 여러개의 숫자들로 구성된 데이터(1차원 텐서)\r\n",
    "행렬? 벡터들의 집합(2차원 텐서) \r\n",
    "텐서? 같은 크기의 행렬이 여러개 있는 것(다차원 텐서)\r\n",
    "'''"
   ],
   "outputs": [],
   "metadata": {}
  },
  {
   "cell_type": "code",
   "execution_count": 36,
   "source": [
    "from sklearn.datasets import load_iris\r\n",
    "# sklearn = science kit learn 데이터 사이언스 도구들이 모인 언어"
   ],
   "outputs": [],
   "metadata": {}
  },
  {
   "cell_type": "code",
   "execution_count": 45,
   "source": [
    "iris=load_iris();iris\r\n",
    "# iris['data']\r\n",
    "irisData=iris.data\r\n",
    "irisData.shape\r\n"
   ],
   "outputs": [
    {
     "output_type": "execute_result",
     "data": {
      "text/plain": [
       "(150, 4)"
      ]
     },
     "metadata": {},
     "execution_count": 45
    }
   ],
   "metadata": {}
  },
  {
   "cell_type": "code",
   "execution_count": 46,
   "source": [
    "irisData[149][0] #스칼라"
   ],
   "outputs": [
    {
     "output_type": "execute_result",
     "data": {
      "text/plain": [
       "5.9"
      ]
     },
     "metadata": {},
     "execution_count": 46
    }
   ],
   "metadata": {}
  },
  {
   "cell_type": "code",
   "execution_count": null,
   "source": [
    "'''\r\n",
    "과일과게 \r\n",
    "\r\n",
    "1/1 사과=10, 바나나=5, 딸기=2\r\n",
    "1/2 메론=5, 사과=3, 딸기=1\r\n",
    "...\r\n",
    "1월달 총 매출액? \r\n",
    "사과\r\n",
    "=>\r\n",
    "    사과 바나나 딸기 메론\r\n",
    "1/1  10   5    2     0   => 숫자 하나하나는 스칼라라고 부름\r\n",
    "1/2  3    0    1    5  => 순서에 따라 스칼라가 하나하나 있는 것 => (행)벡터\r\n",
    "...\r\n",
    "1/31\r\n",
    "-----------------------\r\n",
    "열벡터\r\n",
    "=> 31행 4열\r\n",
    "\r\n",
    "x1=[10,5,2,0] => 4차원 벡터\r\n",
    "'''"
   ],
   "outputs": [],
   "metadata": {}
  },
  {
   "cell_type": "code",
   "execution_count": 50,
   "source": [
    "# 넘파이에서 벡터를 표현하는 형식 : 열의 개수가 1개인 2차원 배열로 표현\r\n",
    "# 1차원 배열도 벡터로 인정해줌\r\n",
    "# 주의 : 배열의 차원은 벡터의 차원(원소의 개수)과 다른 의미!\r\n",
    "\r\n",
    "# 10  5   2   0 => 1차원 배열, 4차원 벡터\r\n",
    "\r\n",
    "np.array([[10],[5],[2],[0]]) #n번째 행의 값 #이 식이 정석\r\n",
    "np.array([10,5,2,0]) #이렇게 표현해도 된다."
   ],
   "outputs": [
    {
     "output_type": "execute_result",
     "data": {
      "text/plain": [
       "array([10,  5,  2,  0])"
      ]
     },
     "metadata": {},
     "execution_count": 50
    }
   ],
   "metadata": {}
  },
  {
   "cell_type": "code",
   "execution_count": 48,
   "source": [
    "irisData.shape #=> 2차원 배열 4차원 벡터"
   ],
   "outputs": [
    {
     "output_type": "execute_result",
     "data": {
      "text/plain": [
       "(150, 4)"
      ]
     },
     "metadata": {},
     "execution_count": 48
    }
   ],
   "metadata": {}
  },
  {
   "cell_type": "markdown",
   "source": [
    "---"
   ],
   "metadata": {}
  },
  {
   "cell_type": "code",
   "execution_count": null,
   "source": [
    "# 벡터 또는 행렬 연산 수행을 위해 두 벡터/행렬의 크기가 같아야 함\r\n",
    "# 브로드캐스팅 : 서로 다른 크기의 벡터/행렬이 연산할 수 있도록 해주는 기능\r\n",
    "# 크기가 작은 쪽 배열을 크기가 큰 쪽 배열의 크기와 동일하게 맞추는 작업"
   ],
   "outputs": [],
   "metadata": {}
  },
  {
   "cell_type": "code",
   "execution_count": 52,
   "source": [
    "x=np.arange(5)\r\n",
    "x + 10 #x는 크기가 5, 10은 크기가 1 -> 크기가 다름 \r\n",
    "# 10은 손오공 , 변신 5로 함\r\n",
    "# 10이 다섯개가 만들어진 것이다.\r\n",
    "# [0,1,2,3,4]+[10,10,10,10,10]"
   ],
   "outputs": [
    {
     "output_type": "execute_result",
     "data": {
      "text/plain": [
       "array([10, 11, 12, 13, 14])"
      ]
     },
     "metadata": {},
     "execution_count": 52
    }
   ],
   "metadata": {}
  },
  {
   "cell_type": "code",
   "execution_count": 70,
   "source": [
    "# array([[0, 1, 2],\r\n",
    "    #    [1, 2, 3],\r\n",
    "    #    [2, 3, 4],\r\n",
    "    #    [3, 4, 5],\r\n",
    "    #    [4, 5, 6]])"
   ],
   "outputs": [],
   "metadata": {}
  },
  {
   "cell_type": "code",
   "execution_count": 65,
   "source": [
    "x=np.array([0,1,2])\r\n",
    "y=[x+i for i in range(5)]\r\n",
    "np.vstack([y[0],y[1],y[2],y[3],y[4]])\r\n"
   ],
   "outputs": [
    {
     "output_type": "execute_result",
     "data": {
      "text/plain": [
       "array([[0, 1, 2],\n",
       "       [1, 2, 3],\n",
       "       [2, 3, 4],\n",
       "       [3, 4, 5],\n",
       "       [4, 5, 6]])"
      ]
     },
     "metadata": {},
     "execution_count": 65
    }
   ],
   "metadata": {}
  },
  {
   "cell_type": "code",
   "execution_count": 68,
   "source": [
    "np.array([[j for j in range(i,i+3)] for i in range(5)])"
   ],
   "outputs": [
    {
     "output_type": "execute_result",
     "data": {
      "text/plain": [
       "array([[0, 1, 2],\n",
       "       [1, 2, 3],\n",
       "       [2, 3, 4],\n",
       "       [3, 4, 5],\n",
       "       [4, 5, 6]])"
      ]
     },
     "metadata": {},
     "execution_count": 68
    }
   ],
   "metadata": {}
  },
  {
   "cell_type": "code",
   "execution_count": 72,
   "source": [
    "np.vstack([range(7)[i:i+3] for i in range(5)])"
   ],
   "outputs": [
    {
     "output_type": "display_data",
     "data": {
      "text/plain": [
       "array([[0, 1, 2],\n",
       "       [1, 2, 3],\n",
       "       [2, 3, 4],\n",
       "       [3, 4, 5],\n",
       "       [4, 5, 6]])"
      ]
     },
     "metadata": {}
    }
   ],
   "metadata": {}
  },
  {
   "cell_type": "code",
   "execution_count": 73,
   "source": [
    "x=np.array([[n,n+1,n+2] for n in range(5)]);x #5행 3열"
   ],
   "outputs": [
    {
     "output_type": "execute_result",
     "data": {
      "text/plain": [
       "array([[0, 1, 2],\n",
       "       [1, 2, 3],\n",
       "       [2, 3, 4],\n",
       "       [3, 4, 5],\n",
       "       [4, 5, 6]])"
      ]
     },
     "metadata": {},
     "execution_count": 73
    }
   ],
   "metadata": {}
  },
  {
   "cell_type": "code",
   "execution_count": 112,
   "source": [
    "y=np.arange(10,15)[:,np.newaxis] ; y #newaxis : 새로운 축 하나를 만들겠다.\r\n",
    "#x+y\r\n",
    "#x.shape #(5,3)\r\n",
    "# y.shape #(5,)\r\n",
    "#x+y"
   ],
   "outputs": [
    {
     "output_type": "execute_result",
     "data": {
      "text/plain": [
       "array([[10],\n",
       "       [11],\n",
       "       [12],\n",
       "       [13],\n",
       "       [14]])"
      ]
     },
     "metadata": {},
     "execution_count": 112
    }
   ],
   "metadata": {}
  },
  {
   "cell_type": "code",
   "execution_count": 113,
   "source": [
    "x+y"
   ],
   "outputs": [
    {
     "output_type": "execute_result",
     "data": {
      "text/plain": [
       "array([[10, 11, 12],\n",
       "       [12, 13, 14],\n",
       "       [14, 15, 16],\n",
       "       [16, 17, 18],\n",
       "       [18, 19, 20]])"
      ]
     },
     "metadata": {},
     "execution_count": 113
    }
   ],
   "metadata": {}
  },
  {
   "cell_type": "code",
   "execution_count": 114,
   "source": [
    "y=np.arange(10,15)\r\n",
    "y.shape\r\n",
    "y=y.reshape(5,1)\r\n",
    "y"
   ],
   "outputs": [
    {
     "output_type": "execute_result",
     "data": {
      "text/plain": [
       "array([[10],\n",
       "       [11],\n",
       "       [12],\n",
       "       [13],\n",
       "       [14]])"
      ]
     },
     "metadata": {},
     "execution_count": 114
    }
   ],
   "metadata": {}
  },
  {
   "cell_type": "code",
   "execution_count": 82,
   "source": [
    "np.arange(5)+np.arange(5)"
   ],
   "outputs": [
    {
     "output_type": "execute_result",
     "data": {
      "text/plain": [
       "array([0, 2, 4, 6, 8])"
      ]
     },
     "metadata": {},
     "execution_count": 82
    }
   ],
   "metadata": {}
  },
  {
   "cell_type": "code",
   "execution_count": 116,
   "source": [
    "x=np.array([1,2,3,4])"
   ],
   "outputs": [
    {
     "output_type": "execute_result",
     "data": {
      "text/plain": [
       "array([1, 2, 3, 4])"
      ]
     },
     "metadata": {},
     "execution_count": 116
    }
   ],
   "metadata": {}
  },
  {
   "cell_type": "code",
   "execution_count": 128,
   "source": [
    "np.sum(x)\r\n",
    "x.sum() #둘다 동일하게 나옴\r\n",
    "np.min(x)\r\n",
    "x.min()\r\n",
    "np.max(x)\r\n",
    "x.max()\r\n",
    "\r\n",
    "x.argmax()  # argument max : 인수의 위치를 알려줌 어떤? 최대값에 대한\r\n",
    "x.argmin()\r\n",
    "\r\n",
    "np.median(x)\r\n"
   ],
   "outputs": [
    {
     "output_type": "execute_result",
     "data": {
      "text/plain": [
       "2.5"
      ]
     },
     "metadata": {},
     "execution_count": 128
    }
   ],
   "metadata": {}
  },
  {
   "cell_type": "code",
   "execution_count": null,
   "source": [
    "# [[10,11,12], \r\n",
    "# [20,21,22],\r\n",
    "# [30,31,32],\r\n",
    "# [40,41,42]]"
   ],
   "outputs": [],
   "metadata": {}
  },
  {
   "cell_type": "code",
   "execution_count": 158,
   "source": [
    "x=[[np.arange(3) +i*10 ] for i in range(1,5)] ;x"
   ],
   "outputs": [
    {
     "output_type": "execute_result",
     "data": {
      "text/plain": [
       "[[array([10, 11, 12])],\n",
       " [array([20, 21, 22])],\n",
       " [array([30, 31, 32])],\n",
       " [array([40, 41, 42])]]"
      ]
     },
     "metadata": {},
     "execution_count": 158
    }
   ],
   "metadata": {}
  },
  {
   "cell_type": "code",
   "execution_count": 151,
   "source": [
    "x=[[i*10,i*10+1,i*10+2 ] for i in range(1,5)] ;x"
   ],
   "outputs": [
    {
     "output_type": "execute_result",
     "data": {
      "text/plain": [
       "[[10, 11, 12], [20, 21, 22], [30, 31, 32], [40, 41, 42]]"
      ]
     },
     "metadata": {},
     "execution_count": 151
    }
   ],
   "metadata": {}
  },
  {
   "cell_type": "code",
   "execution_count": 159,
   "source": [
    "x=np.array([[n, n+1, n+2] for n in range(10, 41, 10)]);x\r\n"
   ],
   "outputs": [
    {
     "output_type": "execute_result",
     "data": {
      "text/plain": [
       "array([[10, 11, 12],\n",
       "       [20, 21, 22],\n",
       "       [30, 31, 32],\n",
       "       [40, 41, 42]])"
      ]
     },
     "metadata": {},
     "execution_count": 159
    }
   ],
   "metadata": {}
  },
  {
   "cell_type": "code",
   "execution_count": 162,
   "source": [
    "x.sum() #전체합\r\n",
    "x.sum(axis=0) # 열 단위 합계(위에서 아래로) #default값\r\n",
    "x.sum(axis=1) # 행단위 합계"
   ],
   "outputs": [
    {
     "output_type": "execute_result",
     "data": {
      "text/plain": [
       "array([ 33,  63,  93, 123])"
      ]
     },
     "metadata": {},
     "execution_count": 162
    }
   ],
   "metadata": {}
  },
  {
   "cell_type": "code",
   "execution_count": 163,
   "source": [
    "from sklearn.datasets import load_digits"
   ],
   "outputs": [],
   "metadata": {}
  },
  {
   "cell_type": "code",
   "execution_count": 172,
   "source": [
    "digits=load_digits() ;digits.keys()\r\n",
    "digits.images #대괄호 개수를 센다. = 차원의 개수 #이미지(8행 8열)이 1797개 있다.\r\n",
    "\r\n",
    "digits.images[0] # 숫자 0을 뜻함 # 안에 요소크기가 클수록 진함"
   ],
   "outputs": [
    {
     "output_type": "execute_result",
     "data": {
      "text/plain": [
       "array([[ 0.,  0.,  5., 13.,  9.,  1.,  0.,  0.],\n",
       "       [ 0.,  0., 13., 15., 10., 15.,  5.,  0.],\n",
       "       [ 0.,  3., 15.,  2.,  0., 11.,  8.,  0.],\n",
       "       [ 0.,  4., 12.,  0.,  0.,  8.,  8.,  0.],\n",
       "       [ 0.,  5.,  8.,  0.,  0.,  9.,  8.,  0.],\n",
       "       [ 0.,  4., 11.,  0.,  1., 12.,  7.,  0.],\n",
       "       [ 0.,  2., 14.,  5., 10., 12.,  0.,  0.],\n",
       "       [ 0.,  0.,  6., 13., 10.,  0.,  0.,  0.]])"
      ]
     },
     "metadata": {},
     "execution_count": 172
    }
   ],
   "metadata": {}
  },
  {
   "cell_type": "code",
   "execution_count": 181,
   "source": [
    "digits.images[1796]\r\n",
    "digits.target[800]"
   ],
   "outputs": [
    {
     "output_type": "execute_result",
     "data": {
      "text/plain": [
       "4"
      ]
     },
     "metadata": {},
     "execution_count": 181
    }
   ],
   "metadata": {}
  },
  {
   "cell_type": "code",
   "execution_count": 184,
   "source": [
    "import matplotlib.pyplot as plt\r\n",
    "import matplotlib.gridspec as gridspec\r\n"
   ],
   "outputs": [],
   "metadata": {}
  },
  {
   "cell_type": "code",
   "execution_count": 185,
   "source": [
    "d1 = digits.images[0]\r\n",
    "d2 = digits.images[10]\r\n",
    "d3 = digits.images[1]\r\n",
    "d4 = digits.images[11]\r\n",
    "v1 = d1.reshape(64, 1)\r\n",
    "v2 = d2.reshape(64, 1)\r\n",
    "v3 = d3.reshape(64, 1)\r\n",
    "v4 = d4.reshape(64, 1)\r\n"
   ],
   "outputs": [],
   "metadata": {}
  },
  {
   "cell_type": "code",
   "execution_count": 186,
   "source": [
    "plt.figure(figsize=(9, 9))\r\n",
    "gs = gridspec.GridSpec(1, 8, height_ratios=[1],\r\n",
    "                       width_ratios=[9, 1, 9, 1, 9, 1, 9, 1])\r\n",
    "for i in range(4):\r\n",
    "    plt.subplot(gs[2 * i])\r\n",
    "    plt.imshow(eval(\"d\" + str(i + 1)), aspect=1,\r\n",
    "               interpolation='nearest', cmap=plt.cm.bone_r)\r\n",
    "    plt.grid(False)\r\n",
    "    plt.xticks([])\r\n",
    "    plt.yticks([])\r\n",
    "    plt.title(\"image {}\".format(i + 1))\r\n",
    "    plt.subplot(gs[2 * i + 1])\r\n",
    "    plt.imshow(eval(\"v\" + str(i + 1)), aspect=0.25,\r\n",
    "               interpolation='nearest', cmap=plt.cm.bone_r)\r\n",
    "    plt.grid(False)\r\n",
    "    plt.xticks([])\r\n",
    "    plt.yticks([])\r\n",
    "    plt.title(\"vector {}\".format(i + 1))\r\n",
    "plt.tight_layout()\r\n",
    "plt.show()\r\n"
   ],
   "outputs": [
    {
     "output_type": "display_data",
     "data": {
      "text/plain": [
       "<Figure size 648x648 with 8 Axes>"
      ],
      "image/png": "[encoded data removed]"
     },
     "metadata": {}
    }
   ],
   "metadata": {}
  },
  {
   "cell_type": "code",
   "execution_count": 187,
   "source": [
    "# 벡터의 내적을 이용한 유사도"
   ],
   "outputs": [],
   "metadata": {}
  },
  {
   "cell_type": "code",
   "execution_count": 189,
   "source": [
    "#v1 * v2 각각 요소를 곱해서 싹 다 더함 = 내적\r\n",
    "\r\n",
    "# v1과 v2 내적 = 연산결과 \r\n",
    "# v1과 v3 내적 = 연산결과 \r\n",
    "# v1과 v4 내적 = 연산결과\r\n",
    "# 이미지가 비슷한 것끼리 내적한 결과는 \r\n",
    "# 이미지가 서로 다른 것끼리 내적한 결과와 비교했을 때 비슷할수록 크다.\r\n",
    "\r\n",
    "# v1과 v2 내적 = 연산결과 \r\n",
    "# v1과 v3 내적 = 연산결과 \r\n",
    "# v1과 v4 내적 = 연산결과 \r\n",
    "# v1과 내적했을때 값이 가장 큰 벡터가 무엇인지 출력? 예상 답: v2\r\n",
    "# v3와 내적했을 때 값이 가장 큰 벡터가 무엇인지 출력? 예상 답 : v4"
   ],
   "outputs": [],
   "metadata": {}
  },
  {
   "cell_type": "code",
   "execution_count": 210,
   "source": [
    "def dot_product(v1,v2):\r\n",
    "    return (v1*v2).sum()\r\n",
    "\r\n",
    "# random.choice([v1,v2,v3], replace=False)\r\n",
    "\r\n",
    "max([dot_product(v1,v2),dot_product(v1,v3) ,dot_product(v1,v4)])\r\n",
    "\r\n",
    "\r\n"
   ],
   "outputs": [
    {
     "output_type": "execute_result",
     "data": {
      "text/plain": [
       "3064.0"
      ]
     },
     "metadata": {},
     "execution_count": 210
    }
   ],
   "metadata": {}
  },
  {
   "cell_type": "code",
   "execution_count": null,
   "source": [],
   "outputs": [],
   "metadata": {}
  }
 ],
 "metadata": {
  "orig_nbformat": 4,
  "language_info": {
   "name": "python",
   "version": "3.8.5",
   "mimetype": "text/x-python",
   "codemirror_mode": {
    "name": "ipython",
    "version": 3
   },
   "pygments_lexer": "ipython3",
   "nbconvert_exporter": "python",
   "file_extension": ".py"
  },
  "kernelspec": {
   "name": "python3",
   "display_name": "Python 3.8.5 64-bit ('base': conda)"
  },
  "interpreter": {
   "hash": "b3ba2566441a7c06988d0923437866b63cedc61552a5af99d1f4fb67d367b25f"
  }
 },
 "nbformat": 4,
 "nbformat_minor": 2
}