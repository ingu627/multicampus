{
 "cells": [
  {
   "cell_type": "code",
   "execution_count": 130,
   "source": [
    "import numpy as np\r\n",
    "import pandas as pd\r\n",
    "\r\n",
    "# Jupyter Notebook의 출력을 소수점 이하 3자리로 제한\r\n",
    "%precision 3\r\n",
    "# Dataframe의 출력을 소수점 이하 3자리로 제한\r\n",
    "pd.set_option('precision', 3)"
   ],
   "outputs": [],
   "metadata": {}
  },
  {
   "cell_type": "code",
   "execution_count": 46,
   "source": [
    "# 벡터 : 크기 + 방향 \r\n",
    "# 벡터의 크기와 방향은 좌표축 성분으로 나누어 표현\r\n",
    "\r\n",
    "# 실수로 이루어진 5 x 6 형태의 데이터 행렬을 만들고 이 데이터에 대해 다음과 같은 값을 구한다.\r\n",
    "arr = np.arange(30.).reshape(5, -1)\r\n",
    "print(arr)\r\n",
    "# 전체의 최댓값\r\n",
    "print(arr.max())\r\n",
    "# 각 행의 합\r\n",
    "print(arr.sum(axis=1))\r\n",
    "# 각 행의 최댓값\r\n",
    "print(arr.max(axis=1))\r\n",
    "# 각 열의 평균\r\n",
    "print(arr.mean(axis=0))\r\n",
    "# 각 열의 최솟값\r\n",
    "print(arr.min(axis=0))"
   ],
   "outputs": [
    {
     "output_type": "stream",
     "name": "stdout",
     "text": [
      "[[ 0.  1.  2.  3.  4.  5.]\n",
      " [ 6.  7.  8.  9. 10. 11.]\n",
      " [12. 13. 14. 15. 16. 17.]\n",
      " [18. 19. 20. 21. 22. 23.]\n",
      " [24. 25. 26. 27. 28. 29.]]\n",
      "29.0\n",
      "[ 15.  51.  87. 123. 159.]\n",
      "[ 5. 11. 17. 23. 29.]\n",
      "[12. 13. 14. 15. 16. 17.]\n",
      "[0. 1. 2. 3. 4. 5.]\n"
     ]
    }
   ],
   "metadata": {}
  },
  {
   "cell_type": "code",
   "execution_count": 48,
   "source": [
    "arr = np.arange(30.).reshape(5, -1);arr"
   ],
   "outputs": [
    {
     "output_type": "execute_result",
     "data": {
      "text/plain": [
       "array([[ 0.,  1.,  2.,  3.,  4.,  5.],\n",
       "       [ 6.,  7.,  8.,  9., 10., 11.],\n",
       "       [12., 13., 14., 15., 16., 17.],\n",
       "       [18., 19., 20., 21., 22., 23.],\n",
       "       [24., 25., 26., 27., 28., 29.]])"
      ]
     },
     "metadata": {},
     "execution_count": 48
    }
   ],
   "metadata": {}
  },
  {
   "cell_type": "code",
   "execution_count": 49,
   "source": [
    "#정렬: axis=0 -> 행을 정렬, axis=1 -> 열을 정렬"
   ],
   "outputs": [],
   "metadata": {}
  },
  {
   "cell_type": "code",
   "execution_count": 53,
   "source": [
    "arr=np.array([[4,  3,  5,  7],\r\n",
    "              [1, 12, 11,  9],\r\n",
    "              [2, 15,  1, 14]])\r\n"
   ],
   "outputs": [],
   "metadata": {}
  },
  {
   "cell_type": "code",
   "execution_count": 58,
   "source": [
    "arr.sort(axis=1) ;arr # 행 기준"
   ],
   "outputs": [
    {
     "output_type": "execute_result",
     "data": {
      "text/plain": [
       "array([[ 3,  4,  5,  7],\n",
       "       [ 1,  9, 11, 12],\n",
       "       [ 1,  2, 14, 15]])"
      ]
     },
     "metadata": {},
     "execution_count": 58
    }
   ],
   "metadata": {}
  },
  {
   "cell_type": "code",
   "execution_count": 59,
   "source": [
    "arr.sort(axis=0) ;arr # 열 기준 #inplace : 값이 자체적으로 바뀜(sort)"
   ],
   "outputs": [
    {
     "output_type": "execute_result",
     "data": {
      "text/plain": [
       "array([[ 1,  2,  5,  7],\n",
       "       [ 1,  4, 11, 12],\n",
       "       [ 3,  9, 14, 15]])"
      ]
     },
     "metadata": {},
     "execution_count": 59
    }
   ],
   "metadata": {}
  },
  {
   "cell_type": "code",
   "execution_count": 60,
   "source": [
    "x=np.argsort([40,30,10,20 ]) # 정렬된 인덱스 값 반환\r\n",
    "x"
   ],
   "outputs": [
    {
     "output_type": "execute_result",
     "data": {
      "text/plain": [
       "array([2, 3, 1, 0], dtype=int64)"
      ]
     },
     "metadata": {},
     "execution_count": 60
    }
   ],
   "metadata": {}
  },
  {
   "cell_type": "code",
   "execution_count": 61,
   "source": [
    "data = [70, 91, 69, 78, 82]"
   ],
   "outputs": [],
   "metadata": {}
  },
  {
   "cell_type": "code",
   "execution_count": 64,
   "source": [
    "# 기술통계\r\n",
    "len(data)\r\n",
    "sum(data)/len(data) # 산술통계\r\n",
    "np.mean(data)"
   ],
   "outputs": [
    {
     "output_type": "execute_result",
     "data": {
      "text/plain": [
       "78.0"
      ]
     },
     "metadata": {},
     "execution_count": 64
    }
   ],
   "metadata": {}
  },
  {
   "cell_type": "code",
   "execution_count": null,
   "source": [
    "# 분산? 데이터와 평균값 사이의 거리에 대한 제곱의 평균\r\n",
    "# 분산이 작다? 데이터가 모여 있다"
   ],
   "outputs": [],
   "metadata": {}
  },
  {
   "cell_type": "code",
   "execution_count": 91,
   "source": [
    "# def myVar(data):\r\n",
    "    # dataVar = [((data[i] - (sum(data)/len(data)))/(len(data)-1))**2  for i in range(len(data))]\r\n",
    "    # return dataVar\r\n",
    "\r\n",
    "# def myStd(data):\r\n",
    "    # dataStd = [np.sqrt(myVar(data)[i]) for i in range(len(data))]\r\n",
    "    # return dataStd"
   ],
   "outputs": [],
   "metadata": {}
  },
  {
   "cell_type": "code",
   "execution_count": 103,
   "source": [
    "data = [70, 91, 69, 78, 82]"
   ],
   "outputs": [],
   "metadata": {}
  },
  {
   "cell_type": "code",
   "execution_count": 102,
   "source": [
    "np.var(data)\r\n",
    "np.std(data)"
   ],
   "outputs": [
    {
     "data": {
      "text/plain": [
       "8.12403840463596"
      ]
     },
     "metadata": {},
     "output_type": "display_data"
    }
   ],
   "metadata": {}
  },
  {
   "cell_type": "code",
   "execution_count": 104,
   "source": [
    "np.median(data)"
   ],
   "outputs": [
    {
     "output_type": "execute_result",
     "data": {
      "text/plain": [
       "78.0"
      ]
     },
     "metadata": {},
     "execution_count": 104
    }
   ],
   "metadata": {}
  },
  {
   "cell_type": "code",
   "execution_count": 105,
   "source": [
    "#사분위수 : 데이터를 오름차순 정렬\r\n",
    "# 1사분위수 : 1/4 위치(하위 25%)에 있는 수 \r\n",
    "# 2사분위수 : 2/4 위치(median)에 있는 수 \r\n",
    "# 3사분위수 : 3/4 위치(상위 25%)에 있는 수 \r\n",
    "# 최대값 (4/4 위치)"
   ],
   "outputs": [],
   "metadata": {}
  },
  {
   "cell_type": "code",
   "execution_count": 102,
   "source": [
    "np.var(data)\r\n",
    "np.std(data)"
   ],
   "outputs": [
    {
     "data": {
      "text/plain": [
       "8.12403840463596"
      ]
     },
     "metadata": {},
     "output_type": "display_data"
    }
   ],
   "metadata": {}
  },
  {
   "cell_type": "code",
   "execution_count": 124,
   "source": [
    "np.random.seed(802) "
   ],
   "outputs": [],
   "metadata": {}
  },
  {
   "cell_type": "code",
   "execution_count": 127,
   "source": [
    "# seed: 씨앗 # 동일한 씨앗을 줬기 때문에 동일한 열매를 준다.\r\n",
    "# np.random.rand: 0~1 난수를 생성해준다.\r\n",
    "# np.random.randn: 표준정규분포 난수를 생성해준다. (n : normal distribution, 평균:0, 표준편차:1)\r\n",
    "# np.random.randint: 정수 난수 생성\r\n",
    "\r\n",
    "np.random.randint(1, 10, 5) # 1~10까지 5개의 난수 생성\r\n",
    "# 1<=난수<10"
   ],
   "outputs": [
    {
     "output_type": "execute_result",
     "data": {
      "text/plain": [
       "array([4, 9, 5, 3, 1])"
      ]
     },
     "metadata": {},
     "execution_count": 127
    }
   ],
   "metadata": {}
  },
  {
   "cell_type": "code",
   "execution_count": 132,
   "source": [
    "# 표준편차가 30 -> 평균과 차이가 크다.\r\n",
    "# 단위를 고려\r\n",
    "x=[173, 181, 168, 175, 179]\r\n",
    "y=[1.73,1.81, 1.68, 1.75, 1.79]\r\n",
    "np.var(x) #분산이 20.96\r\n",
    "np.var(y) #분산이 0.002"
   ],
   "outputs": [
    {
     "output_type": "execute_result",
     "data": {
      "text/plain": [
       "0.0020960000000000037"
      ]
     },
     "metadata": {},
     "execution_count": 132
    }
   ],
   "metadata": {}
  },
  {
   "cell_type": "code",
   "execution_count": 134,
   "source": [
    "# 머신너링할 때 데이터의 단위가 다른 것이 뒤섞여 있는 경우가 있다.\r\n",
    "# 표준값(Z값) = (데이터 - 평균) / 표준편차 => 비교가 가능"
   ],
   "outputs": [],
   "metadata": {}
  },
  {
   "cell_type": "code",
   "execution_count": 137,
   "source": [
    "x = np.random.randint(1,100, 30)\r\n",
    "x"
   ],
   "outputs": [
    {
     "output_type": "execute_result",
     "data": {
      "text/plain": [
       "array([33, 27, 91, 75, 75, 98, 61, 60, 85, 61, 22, 49, 77, 96, 22, 74, 45,\n",
       "       83, 84,  9,  9, 12,  4, 21, 32, 86, 99, 69,  2, 30])"
      ]
     },
     "metadata": {},
     "execution_count": 137
    }
   ],
   "metadata": {}
  },
  {
   "cell_type": "code",
   "execution_count": 145,
   "source": [
    "np.percentile(x, 25) #percentile:백분위수\r\n",
    "np.percentile(x, 50) #percentile:백분위수\r\n",
    "np.percentile(x, 75) #percentile:백분위수\r\n",
    "np.percentile(x, 100) #percentile:백분위수"
   ],
   "outputs": [
    {
     "output_type": "execute_result",
     "data": {
      "text/plain": [
       "99.0"
      ]
     },
     "metadata": {},
     "execution_count": 145
    }
   ],
   "metadata": {}
  },
  {
   "cell_type": "code",
   "execution_count": 152,
   "source": [
    "np.random.randint(10,20,size=(3,5))"
   ],
   "outputs": [
    {
     "output_type": "execute_result",
     "data": {
      "text/plain": [
       "array([[10, 16, 16, 16, 16],\n",
       "       [16, 11, 12, 12, 18],\n",
       "       [19, 12, 13, 10, 10]])"
      ]
     },
     "metadata": {},
     "execution_count": 152
    }
   ],
   "metadata": {}
  },
  {
   "cell_type": "code",
   "execution_count": 154,
   "source": [
    "np.unique([1,1,2,2,3])"
   ],
   "outputs": [
    {
     "output_type": "execute_result",
     "data": {
      "text/plain": [
       "array([1, 2, 3])"
      ]
     },
     "metadata": {},
     "execution_count": 154
    }
   ],
   "metadata": {}
  },
  {
   "cell_type": "code",
   "execution_count": 159,
   "source": [
    "a, b=np.unique([1,1,2,2,3], return_counts=True) # 1이 2개있다. 2가 2개있다. 3개가 1이 있다.\r\n",
    "print(a, b)"
   ],
   "outputs": [
    {
     "output_type": "stream",
     "name": "stdout",
     "text": [
      "[1 2 3] [2 2 1]\n"
     ]
    }
   ],
   "metadata": {}
  },
  {
   "cell_type": "code",
   "execution_count": 166,
   "source": [
    "np.bincount([1,1,2,2,3]) #0부터 3까지 각 수에 대한 카운트 값\r\n",
    "\r\n",
    "#주사위\r\n",
    "np.bincount([1,1,2,2,3], minlength=6) # 0부터 8까지 각 몇개 나왔냐\r\n",
    "# 0번은 버림"
   ],
   "outputs": [
    {
     "output_type": "execute_result",
     "data": {
      "text/plain": [
       "array([0, 2, 2, 1, 0, 0], dtype=int64)"
      ]
     },
     "metadata": {},
     "execution_count": 166
    }
   ],
   "metadata": {}
  }
 ],
 "metadata": {
  "orig_nbformat": 4,
  "language_info": {
   "name": "python",
   "version": "3.8.5",
   "mimetype": "text/x-python",
   "codemirror_mode": {
    "name": "ipython",
    "version": 3
   },
   "pygments_lexer": "ipython3",
   "nbconvert_exporter": "python",
   "file_extension": ".py"
  },
  "kernelspec": {
   "name": "python3",
   "display_name": "Python 3.8.5 64-bit ('base': conda)"
  },
  "interpreter": {
   "hash": "b3ba2566441a7c06988d0923437866b63cedc61552a5af99d1f4fb67d367b25f"
  }
 },
 "nbformat": 4,
 "nbformat_minor": 2
}