{
 "cells": [
  {
   "cell_type": "code",
   "execution_count": 1,
   "metadata": {},
   "outputs": [],
   "source": [
    "# 다중 선형 회귀 : x1, x2, x3\n",
    "# 단순 선형 회귀 : x=> y hat"
   ]
  },
  {
   "cell_type": "code",
   "execution_count": 2,
   "metadata": {},
   "outputs": [],
   "source": [
    "import numpy as np \n",
    "import pandas as pd \n",
    "import matplotlib.pyplot as plt\n",
    "import seaborn as sns"
   ]
  },
  {
   "cell_type": "code",
   "execution_count": 3,
   "metadata": {},
   "outputs": [
    {
     "name": "stdout",
     "output_type": "stream",
     "text": [
      "[2, 4, 6, 8]\n",
      "[9.0, 1.0, 1.0, 9.0]\n"
     ]
    }
   ],
   "source": [
    "x=[2,4,6,8] #공부시간\n",
    "y=[81,93,91,97] #점수\n",
    "\n",
    "mx = np.mean(x) #5\n",
    "my = np.mean(y) #90.5\n",
    "\n",
    "# y=ax+b \n",
    "# a는 직선의 기울기. = y값의 증가량 / x값의 증가량\n",
    "\n",
    "print(x)\n",
    "print([(mx-i)**2 for i in x]) # 분모\n",
    "divisor = sum([(mx-i)**2 for i in x])"
   ]
  },
  {
   "cell_type": "code",
   "execution_count": 4,
   "metadata": {},
   "outputs": [],
   "source": [
    "#기울기 공식의 분자\n",
    "def top(x, mx, y, my):\n",
    "    res=0\n",
    "    for i in range(len(x)):\n",
    "        res+=(x[i] - mx)*(y[i]-my)\n",
    "\n",
    "    return res"
   ]
  },
  {
   "cell_type": "code",
   "execution_count": 5,
   "metadata": {},
   "outputs": [
    {
     "name": "stdout",
     "output_type": "stream",
     "text": [
      "46.0\n",
      "2.3\n",
      "79.0\n"
     ]
    }
   ],
   "source": [
    "divide=top(x,mx,y,my)\n",
    "print(divide)\n",
    "\n",
    "a=divide/divisor # 기울기\n",
    "b=my-(mx*a)\n",
    "\n",
    "print(a)\n",
    "print(b)"
   ]
  },
  {
   "cell_type": "code",
   "execution_count": 6,
   "metadata": {},
   "outputs": [
    {
     "name": "stdout",
     "output_type": "stream",
     "text": [
      "[2, 4, 6, 8] [81, 93, 91, 97]\n"
     ]
    }
   ],
   "source": [
    "# x data, y data\n",
    "# [공부시간, 점수]\n",
    "data = [[2,81], [4,93], [6,91], [8,97]]\n",
    "x = [i[0] for i in data] # i에 요소 하나씩 불러옴\n",
    "y = [i[1] for i in data]\n",
    "\n",
    "print(x, y)\n",
    "\n",
    "# 최초의 가설함수(랜덤하게) 정의 : y=3x+76\n"
   ]
  },
  {
   "cell_type": "code",
   "execution_count": 7,
   "metadata": {},
   "outputs": [
    {
     "data": {
      "image/png": "[encoded data removed]",
      "text/plain": [
       "<Figure size 432x288 with 1 Axes>"
      ]
     },
     "metadata": {
      "needs_background": "light"
     },
     "output_type": "display_data"
    }
   ],
   "source": [
    "h_0 = [3*d[0] + 76 for d in data]\n",
    "plt.scatter(x,y)\n",
    "plt.plot(x, h_0)\n",
    "plt.show()"
   ]
  },
  {
   "cell_type": "code",
   "execution_count": 8,
   "metadata": {},
   "outputs": [
    {
     "name": "stdout",
     "output_type": "stream",
     "text": [
      "[82, 88, 94, 100]\n"
     ]
    },
    {
     "data": {
      "text/plain": [
       "11.0"
      ]
     },
     "execution_count": 8,
     "metadata": {},
     "output_type": "execute_result"
    }
   ],
   "source": [
    "# y=ax+b 에서 a,b값 대입하여 결과를 출력하는 함수\n",
    "def predict(x):\n",
    "    return 3*x + 76 # 예측값\n",
    "\n",
    "# 정답 2.3x + 76\n",
    "def mse(y, yhat):\n",
    "    return ((y-yhat)**2).mean()\n",
    "\n",
    "# x값을 입력하여 prediction\n",
    "predict_result = [predict(x[i]) for i in range(len(x))]\n",
    "print(predict_result)\n",
    "\n",
    "# MSE 출력\n",
    "mse(np.array(y), np.array(predict_result))\n",
    "    "
   ]
  },
  {
   "cell_type": "code",
   "execution_count": 9,
   "metadata": {},
   "outputs": [
    {
     "name": "stdout",
     "output_type": "stream",
     "text": [
      "기울기=27.8400, 절편=5.4300, 오차=362.0000\n",
      "기울기=7.0739, 절편=50.5117, 오차=18.6577\n",
      "기울기=4.0960, 절편=68.2822, 오차=7.0193\n",
      "기울기=2.9757, 절편=74.9678, 오차=2.6408\n",
      "기울기=2.5542, 절편=77.4830, 오차=0.9935\n",
      "기울기=2.3956, 절편=78.4293, 오차=0.3738\n",
      "기울기=2.3360, 절편=78.7853, 오차=0.1406\n",
      "기울기=2.3135, 절편=78.9192, 오차=0.0529\n",
      "기울기=2.3051, 절편=78.9696, 오차=0.0199\n",
      "기울기=2.3019, 절편=78.9886, 오차=0.0075\n",
      "기울기=2.3007, 절편=78.9957, 오차=0.0028\n",
      "기울기=2.3003, 절편=78.9984, 오차=0.0011\n",
      "기울기=2.3001, 절편=78.9994, 오차=0.0004\n",
      "기울기=2.3000, 절편=78.9998, 오차=0.0002\n",
      "기울기=2.3000, 절편=78.9999, 오차=0.0001\n",
      "기울기=2.3000, 절편=79.0000, 오차=0.0000\n",
      "기울기=2.3000, 절편=79.0000, 오차=0.0000\n",
      "기울기=2.3000, 절편=79.0000, 오차=0.0000\n",
      "기울기=2.3000, 절편=79.0000, 오차=0.0000\n",
      "기울기=2.3000, 절편=79.0000, 오차=0.0000\n",
      "기울기=2.3000, 절편=79.0000, 오차=0.0000\n"
     ]
    }
   ],
   "source": [
    "# 알파(학습률)는 얼만큼 이동할지 결정 (0.01 ~ 0.001)\n",
    "\n",
    "xdata=np.array(x)\n",
    "ydata=np.array(y)\n",
    "\n",
    "a=0 #기울기\n",
    "b=0 #y절편 \n",
    "# 가설함수 = ax+b\n",
    "\n",
    "# 학습률\n",
    "lr=0.03\n",
    "\n",
    "# a=a-lr* (cost함수)a미분\n",
    "\n",
    "# 전체 데이터(4건) 1번 반복 학습 : 1 epoch(에폭)\n",
    "# 전체 데이터(4건) 2000번 반복 학습 : 2000 epoch(에폭)\n",
    "epochs=2001\n",
    "\n",
    "#경사하강법\n",
    "for i in range(epochs):\n",
    "    yhat=a*xdata+b #예측값\n",
    "    error=ydata-yhat #오차 = 실제값 - 예측값\n",
    "    adiff= -(2/len(xdata)) * sum(xdata*error)   #오차함수를 a로 미분\n",
    "    bdiff= -(2/len(xdata)) * sum(error)   #오차함수를 b로 미분\n",
    "    a = a - lr * adiff#오차함수를 a로 미분한 값에 학습률을 곱해서 a를 업데이트\n",
    "    b = b - lr * bdiff#오차함수를 b로 미분한 값에 학습률을 곱해서 b를 업데이트\n",
    "    if i%100 == 0:\n",
    "        print(\"기울기=%.4f, 절편=%.4f, 오차=%.4f\" % (a,b, sum(error)))\n",
    "\n",
    "# epoches=2001, lr=0.01 기울기=2.3193, 절편=78.8850, 오차=0.0749\n",
    "# epoches=2001, lr=0.03 기울기=2.3000, 절편=79.0000, 오차=0.0000\n"
   ]
  },
  {
   "cell_type": "code",
   "execution_count": 10,
   "metadata": {},
   "outputs": [
    {
     "data": {
      "text/plain": [
       "[<matplotlib.lines.Line2D at 0x190a9ca0848>]"
      ]
     },
     "execution_count": 10,
     "metadata": {},
     "output_type": "execute_result"
    },
    {
     "data": {
      "image/png": "[encoded data removed]",
      "text/plain": [
       "<Figure size 432x288 with 1 Axes>"
      ]
     },
     "metadata": {
      "needs_background": "light"
     },
     "output_type": "display_data"
    }
   ],
   "source": [
    "ypred = a *xdata + b #우리 모델의 예측값\n",
    "plt.scatter(x,y)\n",
    "plt.plot([min(xdata),max(xdata)], [min(ypred), max(ypred)])"
   ]
  },
  {
   "cell_type": "code",
   "execution_count": 11,
   "metadata": {},
   "outputs": [
    {
     "name": "stdout",
     "output_type": "stream",
     "text": [
      "WARNING:tensorflow:From C:\\Users\\poeun\\anaconda3\\envs\\tf2.2\\lib\\site-packages\\tensorflow\\python\\compat\\v2_compat.py:96: disable_resource_variables (from tensorflow.python.ops.variable_scope) is deprecated and will be removed in a future version.\n",
      "Instructions for updating:\n",
      "non-resource variables are not supported in the long term\n"
     ]
    }
   ],
   "source": [
    "import tensorflow.compat.v1 as tf\n",
    "tf.disable_v2_behavior()"
   ]
  },
  {
   "cell_type": "code",
   "execution_count": 12,
   "metadata": {},
   "outputs": [
    {
     "data": {
      "image/png": "[encoded data removed]",
      "text/plain": [
       "<Figure size 432x288 with 1 Axes>"
      ]
     },
     "metadata": {
      "needs_background": "light"
     },
     "output_type": "display_data"
    }
   ],
   "source": [
    "# 텐서플로 라이브러리를 이용한 모델링\n",
    "X = [2, 4, 6, 8]\n",
    "Y = [81, 93, 91, 97]\n",
    "\n",
    "W = tf.placeholder(tf.float32)\n",
    "\n",
    "hypothesis = X * W # 가설함수, b는 무시\n",
    "\n",
    "cost = tf.reduce_mean(tf.square(hypothesis - Y))\n",
    "\n",
    "# Launch the graph in a session.\n",
    "sess = tf.Session()\n",
    "\n",
    "# Initializes global variables in the graph.\n",
    "sess.run(tf.global_variables_initializer())\n",
    "\n",
    "W_val = []\n",
    "cost_val = []\n",
    "for i in range(-30, 50): # i : -30~49까지\n",
    "    feed_W = i * 0.1 #-30 * 0.1 => -3, -2.9, .. 4.8\n",
    "    curr_cost, curr_W = sess.run([cost, W], feed_dict={W: feed_W})\n",
    "    W_val.append(curr_W)\n",
    "    cost_val.append(curr_cost)\n",
    "\n",
    "plt.plot(W_val, cost_val)\n",
    "plt.show()\n"
   ]
  },
  {
   "cell_type": "code",
   "execution_count": 13,
   "metadata": {},
   "outputs": [],
   "source": [
    "# 텐서플로우 프로그래밍"
   ]
  },
  {
   "cell_type": "code",
   "execution_count": 14,
   "metadata": {},
   "outputs": [
    {
     "data": {
      "text/plain": [
       "'2.2.0'"
      ]
     },
     "execution_count": 14,
     "metadata": {},
     "output_type": "execute_result"
    }
   ],
   "source": [
    "tf.__version__"
   ]
  },
  {
   "cell_type": "code",
   "execution_count": 15,
   "metadata": {},
   "outputs": [],
   "source": [
    "hello = tf.constant(\"Hello, TensorFlow!\") # constant = 연산자\n",
    "# 문자열을 나타내는 노드\n",
    "# 텐서플로우는 그래프를 그리는 작업이 모델을 만드는 것 "
   ]
  },
  {
   "cell_type": "code",
   "execution_count": 16,
   "metadata": {},
   "outputs": [
    {
     "data": {
      "text/plain": [
       "<tf.Tensor 'Const:0' shape=() dtype=string>"
      ]
     },
     "execution_count": 16,
     "metadata": {},
     "output_type": "execute_result"
    }
   ],
   "source": [
    "hello\n",
    "# 실행하려면 session객체를 사용. "
   ]
  },
  {
   "cell_type": "code",
   "execution_count": 17,
   "metadata": {},
   "outputs": [],
   "source": [
    "sess = tf.Session()"
   ]
  },
  {
   "cell_type": "code",
   "execution_count": 18,
   "metadata": {},
   "outputs": [
    {
     "name": "stdout",
     "output_type": "stream",
     "text": [
      "b'Hello, TensorFlow!'\n"
     ]
    }
   ],
   "source": [
    "print(sess.run(hello))"
   ]
  },
  {
   "cell_type": "code",
   "execution_count": 19,
   "metadata": {},
   "outputs": [
    {
     "data": {
      "text/plain": [
       "3"
      ]
     },
     "execution_count": 19,
     "metadata": {},
     "output_type": "execute_result"
    }
   ],
   "source": [
    "3 # 0차원 텐서(스칼라)"
   ]
  },
  {
   "cell_type": "code",
   "execution_count": 20,
   "metadata": {},
   "outputs": [
    {
     "data": {
      "text/plain": [
       "[[[1.0, 2.0, 3.0]], [[7.0, 8.0, 9.0]]]"
      ]
     },
     "execution_count": 20,
     "metadata": {},
     "output_type": "execute_result"
    }
   ],
   "source": [
    "[1. ,2., 3.] # 1차원 텐서(스칼라)\n",
    "[[1., 2., 3.], [4., 5., 6.]] # 2차원 텐서(스칼라)\n",
    "[[[1., 2., 3.]], [[7., 8., 9.]]] # 3차원 텐서(스칼라)"
   ]
  },
  {
   "cell_type": "code",
   "execution_count": 21,
   "metadata": {},
   "outputs": [],
   "source": [
    "node1 = tf.constant(3.0, tf.float32)\n",
    "node2 = tf.constant(4.0)"
   ]
  },
  {
   "cell_type": "code",
   "execution_count": 22,
   "metadata": {},
   "outputs": [
    {
     "name": "stdout",
     "output_type": "stream",
     "text": [
      "7.0\n"
     ]
    }
   ],
   "source": [
    "print(sess.run(node1) + sess.run(node2))"
   ]
  },
  {
   "cell_type": "code",
   "execution_count": 23,
   "metadata": {},
   "outputs": [],
   "source": [
    "node3 = tf.add(node1, node2)"
   ]
  },
  {
   "cell_type": "code",
   "execution_count": 24,
   "metadata": {},
   "outputs": [
    {
     "data": {
      "text/plain": [
       "7.0"
      ]
     },
     "execution_count": 24,
     "metadata": {},
     "output_type": "execute_result"
    }
   ],
   "source": [
    "sess.run(node3)"
   ]
  },
  {
   "cell_type": "code",
   "execution_count": 25,
   "metadata": {},
   "outputs": [
    {
     "name": "stdout",
     "output_type": "stream",
     "text": [
      "sess.run(node1, node2):  [3.0, 4.0]\n"
     ]
    }
   ],
   "source": [
    "print(\"sess.run(node1, node2): \", sess.run([node1, node2]))"
   ]
  },
  {
   "cell_type": "code",
   "execution_count": 26,
   "metadata": {},
   "outputs": [],
   "source": [
    "a = tf.placeholder(tf.float32) # placeholder : 비어있는 변수 (아직 값이 정해지지 않은)\n",
    "b = tf.placeholder(tf.float32)\n",
    "adder_node = a + b\n",
    "adder_node\n",
    "# 텐서플로우는 연쇄된 노드들을 다 실행된다. adder_node 실행하면 연결된 a,b 도 실행이 된다. \n",
    "add_tri = adder_node*3"
   ]
  },
  {
   "cell_type": "code",
   "execution_count": 27,
   "metadata": {},
   "outputs": [
    {
     "data": {
      "text/plain": [
       "array([ 8., 10.], dtype=float32)"
      ]
     },
     "execution_count": 27,
     "metadata": {},
     "output_type": "execute_result"
    }
   ],
   "source": [
    "sess.run(adder_node, feed_dict={a:3, b:5 }) # feed_dct : dict형태로 전달한다\n",
    "sess.run(adder_node, feed_dict={a:[3,4], b:[5,6] })"
   ]
  },
  {
   "cell_type": "code",
   "execution_count": 28,
   "metadata": {},
   "outputs": [
    {
     "data": {
      "text/plain": [
       "24.0"
      ]
     },
     "execution_count": 28,
     "metadata": {},
     "output_type": "execute_result"
    }
   ],
   "source": [
    "sess.run(add_tri, feed_dict={a:3, b:5}) # 이걸 실행할 때 조차 feed_dict가 있어야함 "
   ]
  },
  {
   "cell_type": "code",
   "execution_count": 29,
   "metadata": {},
   "outputs": [],
   "source": [
    "# 선형회귀모델 (텐서플로우)\n",
    "\n",
    "x_train = [1, 2, 3]\n",
    "y_train = [1, 2, 3]\n",
    "# y_train=x_train*w+b\n",
    "# 변수 : w, b 업데이트 대상\n",
    "tf.set_random_seed(1013) # seed 씨앗 \n",
    "W = tf.Variable(tf.random_normal([1]), name='weight')\n",
    "b = tf.Variable(tf.random_normal([1]), name='bias')"
   ]
  },
  {
   "cell_type": "code",
   "execution_count": 30,
   "metadata": {},
   "outputs": [],
   "source": [
    "sess.run(tf.random_normal([1]))\n",
    "\n",
    "#모델 정의\n",
    "hypothesis = x_train * W + b # x_train * 0.9971487 + 0.00648174"
   ]
  },
  {
   "cell_type": "code",
   "execution_count": 31,
   "metadata": {},
   "outputs": [],
   "source": [
    "sess.run(tf.global_variables_initializer()) # 변수가 사용가능한 상태로\n",
    "sess.run(hypothesis) # 우리의 모델이 예측한 값\n",
    "\n",
    "# 정답과 가까워지도록 계속 미분하며 loss를 낮춘다. \n",
    "cost = tf.reduce_mean(tf.square(hypothesis - y_train))\n"
   ]
  },
  {
   "cell_type": "code",
   "execution_count": 32,
   "metadata": {},
   "outputs": [],
   "source": [
    "optimizer = tf.train.GradientDescentOptimizer(learning_rate=0.01) # 경사하강법\n",
    "train = optimizer.minimize(cost)\n",
    "# train만 실행하면 optimizer와 cost가 함께 자동으로 실행\n",
    "# optimizer가 실행되면 learning_rate=0.01로 셋팅\n",
    "# cost가 실행되면 hypothesis와 y_train가 실행 \n",
    "# y_train은 이미 값이 저장되어 있음 \n",
    "# hypothesis가 실행되면서 x_train*W + b가 실행 \n",
    "# x_train은 이미 값이 저장되어 있음 \n",
    "# W와 b가 실행됨 => 변수들이므로, 트레이닝 과정에서 계속 업데이트가 됨"
   ]
  },
  {
   "cell_type": "code",
   "execution_count": 33,
   "metadata": {},
   "outputs": [
    {
     "name": "stdout",
     "output_type": "stream",
     "text": [
      "0 7.307005 [-0.39525598] [0.3391494]\n",
      "200 0.03491998 [0.78296345] [0.49337506]\n",
      "400 0.013334141 [0.8658846] [0.3048757]\n",
      "600 0.005091628 [0.91712487] [0.18839476]\n",
      "800 0.0019442387 [0.9487881] [0.11641654]\n",
      "1000 0.0007424063 [0.96835417] [0.07193838]\n",
      "1200 0.00028348615 [0.98044485] [0.04445356]\n",
      "1400 0.000108248125 [0.98791605] [0.02746961]\n",
      "1600 4.133508e-05 [0.9925329] [0.01697455]\n",
      "1800 1.5783347e-05 [0.99538577] [0.01048927]\n",
      "2000 6.02715e-06 [0.9971487] [0.00648174]\n"
     ]
    }
   ],
   "source": [
    "for step in range(2001):\n",
    "    sess.run(train)\n",
    "    if step % 200 == 0:\n",
    "        print(step, sess.run(cost), sess.run(W), sess.run(b))\n"
   ]
  },
  {
   "cell_type": "code",
   "execution_count": 38,
   "metadata": {},
   "outputs": [],
   "source": [
    "W = tf.Variable(tf.random_normal([1]), name='weight')\n",
    "b = tf.Variable(tf.random_normal([1]), name='bias')"
   ]
  },
  {
   "cell_type": "code",
   "execution_count": 40,
   "metadata": {},
   "outputs": [],
   "source": [
    "X = tf.placeholder(tf.float32, shape=[None]) # 나중에 값이 전달 될 것. 전달받게 되면 타입이 float\n",
    "Y = tf.placeholder(tf.float32, shape=[None])\n",
    "# shape=[None] 는 feeding되는 데이터 크기가 아직 정해져 있지 않다."
   ]
  },
  {
   "cell_type": "code",
   "execution_count": 41,
   "metadata": {},
   "outputs": [],
   "source": [
    "hypothesis = X * W + b\n",
    "cost = tf.reduce_mean(tf.square(hypothesis - Y))\n",
    "optimizer = tf.train.GradientDescentOptimizer(learning_rate=0.01)\n",
    "train = optimizer.minimize(cost)\n"
   ]
  },
  {
   "cell_type": "code",
   "execution_count": 42,
   "metadata": {},
   "outputs": [
    {
     "name": "stdout",
     "output_type": "stream",
     "text": [
      "0 1.8437586 [1.373529] [0.4215942]\n",
      "200 0.0025577147 [0.9414028] [0.13320532]\n",
      "400 0.0009766677 [0.9637904] [0.08231291]\n",
      "600 0.0003729393 [0.9776247] [0.05086438]\n",
      "800 0.00014240644 [0.98617345] [0.03143102]\n",
      "1000 5.4376957e-05 [0.99145603] [0.01942241]\n",
      "1200 2.0763438e-05 [0.99472034] [0.01200182]\n",
      "1400 7.928421e-06 [0.99673754] [0.00741647]\n",
      "1600 3.027623e-06 [0.99798393] [0.00458295]\n",
      "1800 1.1562565e-06 [0.99875414] [0.0028321]\n",
      "2000 4.4157537e-07 [0.99923] [0.00175019]\n"
     ]
    }
   ],
   "source": [
    "sess.run(tf.global_variables_initializer()) # 노드 초기화 \n",
    "for step in range(2001):\n",
    "    cost_val, W_val, b_val, _ = \\\n",
    "        sess.run([cost, W, b, train], # 노드 4개가 한꺼번에 진행\n",
    "                 feed_dict={X: [1, 2, 3], Y: [1, 2, 3]})\n",
    "    if step % 200 == 0:\n",
    "        print(step, cost_val, W_val, b_val)\n"
   ]
  },
  {
   "cell_type": "code",
   "execution_count": 44,
   "metadata": {},
   "outputs": [
    {
     "data": {
      "text/plain": [
       "array([5.497515], dtype=float32)"
      ]
     },
     "execution_count": 44,
     "metadata": {},
     "output_type": "execute_result"
    }
   ],
   "source": [
    "# 예측은 어떻게 하나요?\n",
    "# ex) x가 5.5인데 y는 얼마로 예측될까요?\n",
    "# sess.run(hypothesis, feed_dict={x_train:[5.5]})\n",
    "sess.run(hypothesis, feed_dict={X:[5.5]})"
   ]
  },
  {
   "cell_type": "code",
   "execution_count": 45,
   "metadata": {},
   "outputs": [
    {
     "name": "stdout",
     "output_type": "stream",
     "text": [
      "0 1.2112328 [1.0652944] [0.02376139]\n",
      "200 0.04884409 [1.1429993] [0.5837276]\n",
      "400 0.012603337 [1.0726391] [0.8377501]\n",
      "600 0.0032520746 [1.0368984] [0.9667851]\n",
      "800 0.0008391212 [1.018743] [1.0323317]\n",
      "1000 0.00021652198 [1.0095208] [1.0656264]\n",
      "1200 5.5863977e-05 [1.0048362] [1.0825399]\n",
      "1400 1.4416117e-05 [1.0024567] [1.0911304]\n",
      "1600 3.7201426e-06 [1.0012481] [1.095494]\n",
      "1800 9.600471e-07 [1.0006341] [1.097711]\n",
      "2000 2.4795307e-07 [1.0003222] [1.0988368]\n"
     ]
    }
   ],
   "source": [
    "for step in range(2001):\n",
    "    cost_val, W_val, b_val, _ = \\\n",
    "        sess.run([cost, W, b, train],\n",
    "                 feed_dict={X: [1, 2, 3, 4, 5],\n",
    "                            Y: [2.1, 3.1, 4.1, 5.1, 6.1]})\n",
    "    if step % 200 == 0:\n",
    "        print(step, cost_val, W_val, b_val)"
   ]
  },
  {
   "cell_type": "code",
   "execution_count": 46,
   "metadata": {},
   "outputs": [
    {
     "name": "stdout",
     "output_type": "stream",
     "text": [
      "[2.59932   4.5999646]\n"
     ]
    }
   ],
   "source": [
    "print(sess.run(hypothesis, feed_dict={X: [1.5, 3.5]}))"
   ]
  },
  {
   "cell_type": "code",
   "execution_count": null,
   "metadata": {},
   "outputs": [],
   "source": []
  },
  {
   "cell_type": "code",
   "execution_count": null,
   "metadata": {},
   "outputs": [],
   "source": [
    "#cost함수 그래프 출력해보기"
   ]
  },
  {
   "cell_type": "code",
   "execution_count": 47,
   "metadata": {},
   "outputs": [],
   "source": [
    "# 나는 선형회귀를 만들어 x=0일 때는 y는 얼마일까를 보고 싶다.\n",
    "X = [1, 2, 3] \n",
    "Y = [1, 2, 3]\n",
    "\n",
    "W = tf.placeholder(tf.float32)\n",
    "hypothesis = X * W # y절편이 0\n",
    "cost = tf.reduce_mean(tf.square(hypothesis - Y)) # square 제곱 \n",
    "# reduce_mean : 평균을 구하면서 차원이 줄여든다. \n",
    "# : [1,2,3] => 2\n",
    "# : [[1,2,3], [4,5,6]] => [2,5] \n",
    "sess.run(tf.global_variables_initializer())\n",
    "\n",
    "W_history = []\n",
    "cost_history = []\n",
    "\n",
    "for i in range(-30, 50):\n",
    "    curr_W = i * 0.1 # 현재 W를 의미 # 처음에는 -3\n",
    "    curr_cost = sess.run(cost, feed_dict={W: curr_W})\n",
    "    W_history.append(curr_W)\n",
    "    cost_history.append(curr_cost)\n"
   ]
  },
  {
   "cell_type": "code",
   "execution_count": 49,
   "metadata": {},
   "outputs": [
    {
     "data": {
      "text/plain": [
       "[<matplotlib.lines.Line2D at 0x190b70441c8>]"
      ]
     },
     "execution_count": 49,
     "metadata": {},
     "output_type": "execute_result"
    },
    {
     "data": {
      "image/png": "[encoded data removed]",
      "text/plain": [
       "<Figure size 432x288 with 1 Axes>"
      ]
     },
     "metadata": {
      "needs_background": "light"
     },
     "output_type": "display_data"
    }
   ],
   "source": [
    "plt.plot(W_history, cost_history)"
   ]
  },
  {
   "cell_type": "code",
   "execution_count": null,
   "metadata": {},
   "outputs": [],
   "source": []
  }
 ],
 "metadata": {
  "interpreter": {
   "hash": "aa58c0ed82c692c0b88754a3c2a9e69ead6d1ad4625cc9925c53cda4c083e0fe"
  },
  "kernelspec": {
   "display_name": "Python 3.7.11 64-bit ('tf2.2': conda)",
   "name": "python3"
  },
  "language_info": {
   "codemirror_mode": {
    "name": "ipython",
    "version": 3
   },
   "file_extension": ".py",
   "mimetype": "text/x-python",
   "name": "python",
   "nbconvert_exporter": "python",
   "pygments_lexer": "ipython3",
   "version": "3.7.11"
  },
  "orig_nbformat": 4
 },
 "nbformat": 4,
 "nbformat_minor": 2
}
