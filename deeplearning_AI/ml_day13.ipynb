{
 "cells": [
  {
   "cell_type": "code",
   "execution_count": 1,
   "metadata": {},
   "outputs": [],
   "source": [
    "import pandas as pd \n",
    "import numpy as np\n",
    "import matplotlib.pyplot as plt\n",
    "import seaborn as sns"
   ]
  },
  {
   "cell_type": "code",
   "execution_count": 37,
   "metadata": {},
   "outputs": [],
   "source": [
    "import tensorflow.compat.v1 as tf\n",
    "tf.disable_v2_behavior()"
   ]
  },
  {
   "cell_type": "code",
   "execution_count": 10,
   "metadata": {},
   "outputs": [],
   "source": [
    "x_data = [[1, 2, 1, 1],\n",
    "          [2, 1, 3, 2],\n",
    "          [3, 1, 3, 4],\n",
    "          [4, 1, 5, 5],\n",
    "          [1, 7, 5, 5],\n",
    "          [1, 2, 5, 6],\n",
    "          [1, 6, 6, 6],\n",
    "          [1, 7, 7, 7]]\n",
    "\n",
    "y_data = [2,2,2,1,1,1,0,0]\n"
   ]
  },
  {
   "cell_type": "code",
   "execution_count": 11,
   "metadata": {},
   "outputs": [],
   "source": [
    "y_data=np.array(pd.get_dummies(y_data))\n"
   ]
  },
  {
   "cell_type": "code",
   "execution_count": 12,
   "metadata": {},
   "outputs": [],
   "source": [
    "# 분류기 : 3개\n",
    "X=tf.placeholder('float', [None, 4])\n",
    "Y=tf.placeholder('float', [None, 3])\n",
    "W=tf.Variable(tf.random_normal([4,3]))\n",
    "b=tf.Variable(tf.random_normal([3]))\n",
    "hx=tf.nn.softmax(tf.matmul(X,W)+b)\n",
    "cost=tf.reduce_mean(-tf.reduce_sum(Y+tf.log(hx), axis=1))\n",
    "train=tf.train.GradientDescentOptimizer(learning_rate=0.1).minimize(cost)"
   ]
  },
  {
   "cell_type": "code",
   "execution_count": 13,
   "metadata": {},
   "outputs": [],
   "source": [
    "from tqdm import tqdm_notebook"
   ]
  },
  {
   "cell_type": "code",
   "execution_count": 14,
   "metadata": {},
   "outputs": [
    {
     "name": "stderr",
     "output_type": "stream",
     "text": [
      "C:\\Users\\poeun\\AppData\\Roaming\\Python\\Python37\\site-packages\\ipykernel_launcher.py:4: TqdmDeprecationWarning: This function will be removed in tqdm==5.0.0\n",
      "Please use `tqdm.notebook.tqdm` instead of `tqdm.tqdm_notebook`\n",
      "  after removing the cwd from sys.path.\n"
     ]
    },
    {
     "data": {
      "application/vnd.jupyter.widget-view+json": {
       "model_id": "e9fa562dbfca49219bbb0e89cd8f7617",
       "version_major": 2,
       "version_minor": 0
      },
      "text/plain": [
       "  0%|          | 0/2001 [00:00<?, ?it/s]"
      ]
     },
     "metadata": {},
     "output_type": "display_data"
    },
    {
     "name": "stdout",
     "output_type": "stream",
     "text": [
      "0 21.355442\n",
      "200 16.580969\n",
      "400 14.775995\n",
      "600 14.477133\n",
      "800 15.740231\n",
      "1000 15.060213\n",
      "1200 14.625165\n",
      "1400 15.568745\n",
      "1600 15.117209\n",
      "1800 14.668413\n",
      "2000 15.512439\n"
     ]
    }
   ],
   "source": [
    "sess = tf.Session()\n",
    "sess.run(tf.global_variables_initializer())\n",
    "\n",
    "for step in tqdm_notebook(range(2001)):\n",
    "    _, cv = sess.run([train, cost], feed_dict={X:x_data, Y:y_data})\n",
    "    # train을 run하면 모델 생성\n",
    "    if step%200==0:\n",
    "        print(step, cv)"
   ]
  },
  {
   "cell_type": "code",
   "execution_count": 16,
   "metadata": {},
   "outputs": [
    {
     "data": {
      "text/plain": [
       "array([[7.8752142e-05, 2.8422777e-09, 9.9992120e-01]], dtype=float32)"
      ]
     },
     "execution_count": 16,
     "metadata": {},
     "output_type": "execute_result"
    }
   ],
   "source": [
    "res=sess.run(hx, feed_dict={X:[[1,10,7,9]]})\n",
    "res # 예측값"
   ]
  },
  {
   "cell_type": "code",
   "execution_count": 23,
   "metadata": {},
   "outputs": [
    {
     "data": {
      "text/plain": [
       "2"
      ]
     },
     "execution_count": 23,
     "metadata": {},
     "output_type": "execute_result"
    }
   ],
   "source": [
    "tf.argmax(res, axis=1) # 최댓값의 인덱스를 반환해준다.\n",
    "sess.run(tf.argmax(res, axis=1))[0] # *=> 2 => C로 예측"
   ]
  },
  {
   "cell_type": "code",
   "execution_count": 61,
   "metadata": {},
   "outputs": [],
   "source": [
    "xy=np.loadtxt('f:/data/data-zoo.csv', delimiter=',')\n",
    "x_data = xy[:,0:-1]\n",
    "y_data=xy[:,[-1]]"
   ]
  },
  {
   "cell_type": "code",
   "execution_count": 62,
   "metadata": {},
   "outputs": [
    {
     "data": {
      "text/plain": [
       "(101, 1)"
      ]
     },
     "execution_count": 62,
     "metadata": {},
     "output_type": "execute_result"
    }
   ],
   "source": [
    "x_data.shape # (101, 16)\n",
    "y_data.shape # (101, 1)"
   ]
  },
  {
   "cell_type": "code",
   "execution_count": 63,
   "metadata": {},
   "outputs": [],
   "source": [
    "X=tf.placeholder(tf.float32, [None, 16])\n",
    "Y=tf.placeholder(tf.int32, [None, 1])"
   ]
  },
  {
   "cell_type": "code",
   "execution_count": 64,
   "metadata": {},
   "outputs": [],
   "source": [
    "Y_one_hot=tf.one_hot(Y, 7) # 7가지 종류의 동물이 존재, Y값을 7자리의 수로 원핫 인코딩 해줌\n",
    "# 원핫 인코딩은 integer만 가능. float은 안됨"
   ]
  },
  {
   "cell_type": "code",
   "execution_count": 65,
   "metadata": {},
   "outputs": [
    {
     "data": {
      "text/plain": [
       "<tf.Tensor 'one_hot_3:0' shape=(?, 1, 7) dtype=float32>"
      ]
     },
     "execution_count": 65,
     "metadata": {},
     "output_type": "execute_result"
    }
   ],
   "source": [
    "Y_one_hot\n",
    "#[None, 1] -> [None, 7]\n",
    "#e ? : None\n",
    "\n",
    "# 현재는 3 -> [[0,0,0,1,0,0,0]]"
   ]
  },
  {
   "cell_type": "code",
   "execution_count": 66,
   "metadata": {},
   "outputs": [
    {
     "data": {
      "text/plain": [
       "<tf.Tensor 'Reshape_2:0' shape=(?, 7) dtype=float32>"
      ]
     },
     "execution_count": 66,
     "metadata": {},
     "output_type": "execute_result"
    }
   ],
   "source": [
    "Y_one_hot=tf.reshape(Y_one_hot, [-1, 7])\n",
    "Y_one_hot"
   ]
  },
  {
   "cell_type": "code",
   "execution_count": 67,
   "metadata": {},
   "outputs": [],
   "source": [
    "W = tf.Variable(tf.random_normal([16,7]))\n",
    "b = tf.Variable(tf.random_normal([7]))"
   ]
  },
  {
   "cell_type": "code",
   "execution_count": 68,
   "metadata": {},
   "outputs": [],
   "source": [
    "hx = tf.nn.softmax(tf.matmul(X,W)+b)\n",
    "logits=tf.matmul(X,W)+b"
   ]
  },
  {
   "cell_type": "code",
   "execution_count": 69,
   "metadata": {},
   "outputs": [],
   "source": [
    "cost =tf.reduce_mean(tf.nn.softmax_cross_entropy_with_logits_v2(logits=logits, labels=Y_one_hot))"
   ]
  },
  {
   "cell_type": "code",
   "execution_count": 70,
   "metadata": {},
   "outputs": [],
   "source": [
    "train=tf.train.GradientDescentOptimizer(learning_rate=0.1).minimize(cost)"
   ]
  },
  {
   "cell_type": "code",
   "execution_count": 71,
   "metadata": {},
   "outputs": [],
   "source": [
    "pred=tf.argmax(hx, axis=1) # 하나의 줄에 대해 가장 큰 값을 뽑아라 # pred에는 동물의 0`6번까지 들어감\n",
    "acc=tf.reduce_mean(tf.cast(tf.equal(pred, tf.argmax(Y_one_hot, 1)), tf.float32))\n",
    "# 두 개 인수를 같은지 다른지 보기 위해. boolena형태로 나옴 => casting(True->1, False->0)"
   ]
  },
  {
   "cell_type": "code",
   "execution_count": 77,
   "metadata": {},
   "outputs": [
    {
     "data": {
      "text/plain": [
       "array([0., 0., 3., 0., 0., 0., 0., 3., 3., 0., 0., 1., 3., 6., 6., 6., 1.,\n",
       "       0., 3., 0., 1., 1., 0., 1., 5., 4., 4., 0., 0., 0., 5., 0., 0., 1.,\n",
       "       3., 0., 0., 1., 3., 5., 5., 1., 5., 1., 0., 0., 6., 0., 0., 0., 0.,\n",
       "       5., 4., 6., 0., 0., 1., 1., 1., 1., 3., 3., 2., 0., 0., 0., 0., 0.,\n",
       "       0., 0., 0., 1., 6., 3., 0., 0., 2., 6., 1., 1., 2., 6., 3., 1., 0.,\n",
       "       6., 3., 1., 5., 4., 2., 2., 3., 0., 0., 1., 0., 5., 0., 6., 1.])"
      ]
     },
     "execution_count": 77,
     "metadata": {},
     "output_type": "execute_result"
    }
   ],
   "source": [
    "y_data.flatten()\n",
    "y_data.ravel()"
   ]
  },
  {
   "cell_type": "code",
   "execution_count": 79,
   "metadata": {},
   "outputs": [
    {
     "name": "stderr",
     "output_type": "stream",
     "text": [
      "C:\\Users\\poeun\\AppData\\Roaming\\Python\\Python37\\site-packages\\ipykernel_launcher.py:3: TqdmDeprecationWarning: This function will be removed in tqdm==5.0.0\n",
      "Please use `tqdm.notebook.tqdm` instead of `tqdm.tqdm_notebook`\n",
      "  This is separate from the ipykernel package so we can avoid doing imports until\n"
     ]
    },
    {
     "data": {
      "application/vnd.jupyter.widget-view+json": {
       "model_id": "ac3e3a1e59e24534b505a6de66d7c106",
       "version_major": 2,
       "version_minor": 0
      },
      "text/plain": [
       "  0%|          | 0/2001 [00:00<?, ?it/s]"
      ]
     },
     "metadata": {},
     "output_type": "display_data"
    },
    {
     "name": "stdout",
     "output_type": "stream",
     "text": [
      "Prediction:0, Y:0\n",
      "Prediction:0, Y:0\n",
      "Prediction:3, Y:3\n",
      "Prediction:0, Y:0\n",
      "Prediction:0, Y:0\n",
      "Prediction:0, Y:0\n",
      "Prediction:0, Y:0\n",
      "Prediction:3, Y:3\n",
      "Prediction:3, Y:3\n",
      "Prediction:0, Y:0\n",
      "Prediction:0, Y:0\n",
      "Prediction:1, Y:1\n",
      "Prediction:3, Y:3\n",
      "Prediction:6, Y:6\n",
      "Prediction:6, Y:6\n",
      "Prediction:6, Y:6\n",
      "Prediction:1, Y:1\n",
      "Prediction:0, Y:0\n",
      "Prediction:3, Y:3\n",
      "Prediction:0, Y:0\n",
      "Prediction:1, Y:1\n",
      "Prediction:1, Y:1\n",
      "Prediction:0, Y:0\n",
      "Prediction:1, Y:1\n",
      "Prediction:5, Y:5\n",
      "Prediction:4, Y:4\n",
      "Prediction:4, Y:4\n",
      "Prediction:0, Y:0\n",
      "Prediction:0, Y:0\n",
      "Prediction:0, Y:0\n",
      "Prediction:5, Y:5\n",
      "Prediction:0, Y:0\n",
      "Prediction:0, Y:0\n",
      "Prediction:1, Y:1\n",
      "Prediction:3, Y:3\n",
      "Prediction:0, Y:0\n",
      "Prediction:0, Y:0\n",
      "Prediction:1, Y:1\n",
      "Prediction:3, Y:3\n",
      "Prediction:5, Y:5\n",
      "Prediction:5, Y:5\n",
      "Prediction:1, Y:1\n",
      "Prediction:5, Y:5\n",
      "Prediction:1, Y:1\n",
      "Prediction:0, Y:0\n",
      "Prediction:0, Y:0\n",
      "Prediction:6, Y:6\n",
      "Prediction:0, Y:0\n",
      "Prediction:0, Y:0\n",
      "Prediction:0, Y:0\n",
      "Prediction:0, Y:0\n",
      "Prediction:5, Y:5\n",
      "Prediction:4, Y:4\n",
      "Prediction:6, Y:6\n",
      "Prediction:0, Y:0\n",
      "Prediction:0, Y:0\n",
      "Prediction:1, Y:1\n",
      "Prediction:1, Y:1\n",
      "Prediction:1, Y:1\n",
      "Prediction:1, Y:1\n",
      "Prediction:3, Y:3\n",
      "Prediction:3, Y:3\n",
      "Prediction:2, Y:2\n",
      "Prediction:0, Y:0\n",
      "Prediction:0, Y:0\n",
      "Prediction:0, Y:0\n",
      "Prediction:0, Y:0\n",
      "Prediction:0, Y:0\n",
      "Prediction:0, Y:0\n",
      "Prediction:0, Y:0\n",
      "Prediction:0, Y:0\n",
      "Prediction:1, Y:1\n",
      "Prediction:6, Y:6\n",
      "Prediction:3, Y:3\n",
      "Prediction:0, Y:0\n",
      "Prediction:0, Y:0\n",
      "Prediction:2, Y:2\n",
      "Prediction:6, Y:6\n",
      "Prediction:1, Y:1\n",
      "Prediction:1, Y:1\n",
      "Prediction:2, Y:2\n",
      "Prediction:6, Y:6\n",
      "Prediction:3, Y:3\n",
      "Prediction:1, Y:1\n",
      "Prediction:0, Y:0\n",
      "Prediction:6, Y:6\n",
      "Prediction:3, Y:3\n",
      "Prediction:1, Y:1\n",
      "Prediction:5, Y:5\n",
      "Prediction:4, Y:4\n",
      "Prediction:2, Y:2\n",
      "Prediction:2, Y:2\n",
      "Prediction:3, Y:3\n",
      "Prediction:0, Y:0\n",
      "Prediction:0, Y:0\n",
      "Prediction:1, Y:1\n",
      "Prediction:0, Y:0\n",
      "Prediction:5, Y:5\n",
      "Prediction:0, Y:0\n",
      "Prediction:6, Y:6\n",
      "Prediction:1, Y:1\n"
     ]
    }
   ],
   "source": [
    "with tf.Session() as sess:\n",
    "    sess.run(tf.global_variables_initializer())\n",
    "    for step in tqdm_notebook(range(2001)):\n",
    "        _, cv, accv = sess.run([train, cost, acc], feed_dict={X: x_data, Y: y_data})\n",
    "        # if step % 100 == 0:\n",
    "            # print(step, cv, accv)\n",
    "    # print(sess.run(hx, feed_dict={X:x_data}))\n",
    "    prediction=sess.run(pred, feed_dict={X:x_data})  # 예측값\n",
    "    # print(prediction, y_data)\n",
    "    for p, y in zip(prediction, y_data.flatten()):\n",
    "        print('Prediction:{}, Y:{}'.format(p,int(y)))"
   ]
  },
  {
   "cell_type": "code",
   "execution_count": null,
   "metadata": {},
   "outputs": [],
   "source": []
  }
 ],
 "metadata": {
  "interpreter": {
   "hash": "aa58c0ed82c692c0b88754a3c2a9e69ead6d1ad4625cc9925c53cda4c083e0fe"
  },
  "kernelspec": {
   "display_name": "Python 3.7.11 64-bit ('tf2.2': conda)",
   "name": "python3"
  },
  "language_info": {
   "codemirror_mode": {
    "name": "ipython",
    "version": 3
   },
   "file_extension": ".py",
   "mimetype": "text/x-python",
   "name": "python",
   "nbconvert_exporter": "python",
   "pygments_lexer": "ipython3",
   "version": "3.7.11"
  },
  "orig_nbformat": 4
 },
 "nbformat": 4,
 "nbformat_minor": 2
}
