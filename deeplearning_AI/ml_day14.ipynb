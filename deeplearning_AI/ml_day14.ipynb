{
 "cells": [
  {
   "cell_type": "code",
   "execution_count": 3,
   "metadata": {},
   "outputs": [],
   "source": [
    "import numpy as np"
   ]
  },
  {
   "cell_type": "code",
   "execution_count": 4,
   "metadata": {},
   "outputs": [],
   "source": [
    "#퍼셉트론\n",
    "w11 = np.array([-2,-2])\n",
    "w12 = np.array([2,2])\n",
    "w2 = np.array([1,1])\n",
    "b1=3\n",
    "b2=-1\n",
    "b3=-1"
   ]
  },
  {
   "cell_type": "code",
   "execution_count": 10,
   "metadata": {},
   "outputs": [],
   "source": [
    "#and 논리연산 분류 모델\n",
    "# x1 x2 y\n",
    "# 0  0  0\n",
    "# 0  1  1\n",
    "# 1  0  1\n",
    "# 1  1  1\n",
    "\n",
    "# y=w1*1 + 2*2 +b 직선 방정식\n",
    "\n",
    "# ...\n",
    "    # return 0\n",
    "    # ...\n",
    "    # return 1\n",
    "\n",
    "# AND 퍼센트론\n",
    "def AND(x1, x2):\n",
    "    x=np.array([x1,x2])\n",
    "    w=np.array([0.5, 0.5])\n",
    "    b=-0.7\n",
    "    y=np.sum(w*x)+b\n",
    "    if y<=0:\n",
    "        return 0\n",
    "    else:\n",
    "        return 1\n",
    "\n",
    "# OR퍼셉트론\n",
    "def OR(x1, x2):\n",
    "    x=np.array([x1,x2])\n",
    "    w=np.array([0.5,0.5])\n",
    "    b=-0.2\n",
    "    y=np.sum(w*x)+b\n",
    "    if y<=0:\n",
    "        return 0\n",
    "    else:\n",
    "        return 1\n",
    "\n",
    "# NAND퍼셉트론  (NOT + AND)\n",
    "def NAND(x1, x2):\n",
    "    x=np.array([x1,x2])\n",
    "    w=np.array([-0.5, -0.5])\n",
    "    b=0.7\n",
    "    y=np.sum(w*x)+b\n",
    "    if y <=0:\n",
    "        return 0\n",
    "    else:\n",
    "        return 1\n",
    "\n",
    "# XOR퍼셉트론\n",
    "def XOR(x1, x2):\n",
    "    s1=NAND(x1, x2)\n",
    "    s2=OR(x1, x2)\n",
    "    y=AND(s1, s2)\n",
    "    return y"
   ]
  },
  {
   "cell_type": "code",
   "execution_count": 7,
   "metadata": {},
   "outputs": [
    {
     "name": "stdout",
     "output_type": "stream",
     "text": [
      "(0, 0) 0\n",
      "(1, 0) 0\n",
      "(0, 1) 0\n",
      "(1, 1) 1\n"
     ]
    }
   ],
   "source": [
    "for x in [(0,0), (1,0), (0,1), (1,1)]:\n",
    "    print(x, AND(x[0], x[1]))\n",
    "\n",
    "#우리의 모델 : y=0.5 * x1 + 0.5 * x2 - 0.7"
   ]
  },
  {
   "cell_type": "code",
   "execution_count": 8,
   "metadata": {},
   "outputs": [
    {
     "name": "stdout",
     "output_type": "stream",
     "text": [
      "(0, 0) 0\n",
      "(1, 0) 1\n",
      "(0, 1) 1\n",
      "(1, 1) 1\n"
     ]
    }
   ],
   "source": [
    "for x in [(0,0), (1,0), (0,1), (1,1)]:\n",
    "    print(x, OR(x[0], x[1]))\n",
    "\n",
    "#우리의 모델 : y=0.5 * x1 + 0.5 * x2 - 0.2"
   ]
  },
  {
   "cell_type": "code",
   "execution_count": 9,
   "metadata": {},
   "outputs": [
    {
     "name": "stdout",
     "output_type": "stream",
     "text": [
      "(0, 0) 1\n",
      "(1, 0) 1\n",
      "(0, 1) 1\n",
      "(1, 1) 0\n"
     ]
    }
   ],
   "source": [
    "for x in [(0,0), (1,0), (0,1), (1,1)]:\n",
    "    print(x, NAND(x[0], x[1]))\n",
    "\n",
    "#우리의 모델 : y= -0.5 * x1 -0.5 * x2 + 0.7"
   ]
  },
  {
   "cell_type": "code",
   "execution_count": 12,
   "metadata": {},
   "outputs": [
    {
     "name": "stdout",
     "output_type": "stream",
     "text": [
      "(0, 0) 0\n",
      "(1, 0) 1\n",
      "(0, 1) 1\n",
      "(1, 1) 0\n"
     ]
    }
   ],
   "source": [
    "for x in [(0,0), (1,0), (0,1), (1,1)]:\n",
    "    print(x, XOR(x[0], x[1]))"
   ]
  }
 ],
 "metadata": {
  "interpreter": {
   "hash": "aa58c0ed82c692c0b88754a3c2a9e69ead6d1ad4625cc9925c53cda4c083e0fe"
  },
  "kernelspec": {
   "display_name": "Python 3.7.11 64-bit ('tf2.2': conda)",
   "name": "python3"
  },
  "language_info": {
   "codemirror_mode": {
    "name": "ipython",
    "version": 3
   },
   "file_extension": ".py",
   "mimetype": "text/x-python",
   "name": "python",
   "nbconvert_exporter": "python",
   "pygments_lexer": "ipython3",
   "version": "3.7.11"
  },
  "orig_nbformat": 4
 },
 "nbformat": 4,
 "nbformat_minor": 2
}
