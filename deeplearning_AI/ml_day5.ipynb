{
 "cells": [
  {
   "cell_type": "code",
   "execution_count": null,
   "source": [
    "#타이타닉 데이터 다운로드\r\n",
    "# 탐색적 데이터분석, 데이터전처리, 특성공학, 모델 선택, 튜닝"
   ],
   "outputs": [],
   "metadata": {}
  },
  {
   "cell_type": "code",
   "execution_count": null,
   "source": [
    "# # 캐글 데이터 분석 절차\r\n",
    "# 1. 데이터 확인\r\n",
    "# 2. 시각화(타깃 변수, 수치 데이터, 범주 데이터 확인)\r\n",
    "# 3. 데이터 정제 (nullm outliers 처리)\r\n",
    "# 4. 시각화\r\n",
    "# 5. 특성공학(feature engineering), 원핫인코딩 \r\n",
    "# 6. 모델 생성, 평가(파라미터 수정)\r\n",
    "# 7. 결과 제출"
   ],
   "outputs": [],
   "metadata": {}
  },
  {
   "cell_type": "code",
   "execution_count": 1,
   "source": [
    "import numpy as np\r\n",
    "import pandas as pd"
   ],
   "outputs": [],
   "metadata": {}
  },
  {
   "cell_type": "code",
   "execution_count": 3,
   "source": [
    "train=pd.read_csv('f:/data/titanic/train.csv')\r\n",
    "test=pd.read_csv('f:/data/titanic/test.csv')"
   ],
   "outputs": [],
   "metadata": {}
  },
  {
   "cell_type": "code",
   "execution_count": 4,
   "source": [
    "train.dtypes.unique()"
   ],
   "outputs": [
    {
     "output_type": "execute_result",
     "data": {
      "text/plain": [
       "array([dtype('int64'), dtype('O'), dtype('float64')], dtype=object)"
      ]
     },
     "metadata": {},
     "execution_count": 4
    }
   ],
   "metadata": {}
  }
 ],
 "metadata": {
  "orig_nbformat": 4,
  "language_info": {
   "name": "python",
   "version": "3.7.11",
   "mimetype": "text/x-python",
   "codemirror_mode": {
    "name": "ipython",
    "version": 3
   },
   "pygments_lexer": "ipython3",
   "nbconvert_exporter": "python",
   "file_extension": ".py"
  },
  "kernelspec": {
   "name": "python3",
   "display_name": "Python 3.7.11 64-bit ('pytorch': conda)"
  },
  "interpreter": {
   "hash": "79eb8b551db2b880459dff10818154367dbe519dd3f614e5f214e4642a67d99b"
  }
 },
 "nbformat": 4,
 "nbformat_minor": 2
}