{
 "cells": [
  {
   "cell_type": "code",
   "execution_count": 1,
   "source": [
    "from sklearn.svm import SVC"
   ],
   "outputs": [],
   "metadata": {}
  },
  {
   "cell_type": "code",
   "execution_count": 3,
   "source": [
    "clf=SVC(kernel='linear')"
   ],
   "outputs": [],
   "metadata": {}
  },
  {
   "cell_type": "code",
   "execution_count": 4,
   "source": [
    "data_points=[[1,2],[1,5],[2,2],[7,5],[9,4],[8,2]]\r\n",
    "label=[1,1,1,0,0,0]"
   ],
   "outputs": [],
   "metadata": {}
  },
  {
   "cell_type": "code",
   "execution_count": 6,
   "source": [
    "import matplotlib.pyplot as plt\r\n",
    "import seaborn as sns"
   ],
   "outputs": [],
   "metadata": {}
  },
  {
   "cell_type": "code",
   "execution_count": 16,
   "source": [
    "# 시각화 (산점도)\r\n",
    "x1= [data_points[i][0] for i in range(len(data_points))]\r\n",
    "y1= [data_points[i][1] for i in range(len(data_points))]\r\n",
    "sns.scatterplot(x1, y1, hue=label)"
   ],
   "outputs": [
    {
     "output_type": "stream",
     "name": "stderr",
     "text": [
      "C:\\Users\\poeun\\anaconda3\\envs\\pytorch\\lib\\site-packages\\seaborn\\_decorators.py:43: FutureWarning: Pass the following variables as keyword args: x, y. From version 0.12, the only valid positional argument will be `data`, and passing other arguments without an explicit keyword will result in an error or misinterpretation.\n",
      "  FutureWarning\n"
     ]
    },
    {
     "output_type": "execute_result",
     "data": {
      "text/plain": [
       "<AxesSubplot:>"
      ]
     },
     "metadata": {},
     "execution_count": 16
    },
    {
     "output_type": "display_data",
     "data": {
      "image/png": "[encoded data removed]",
      "text/plain": [
       "<Figure size 432x288 with 1 Axes>"
      ]
     },
     "metadata": {
      "needs_background": "light"
     }
    }
   ],
   "metadata": {}
  },
  {
   "cell_type": "code",
   "execution_count": 17,
   "source": [
    "clf.fit(data_points, label)"
   ],
   "outputs": [
    {
     "output_type": "execute_result",
     "data": {
      "text/plain": [
       "SVC(kernel='linear')"
      ]
     },
     "metadata": {},
     "execution_count": 17
    }
   ],
   "metadata": {}
  },
  {
   "cell_type": "code",
   "execution_count": 21,
   "source": [
    "clf.predict([[3,2], [1,3], [7,4]]) \r\n",
    "# 예측할 때는 2차원 이상 구조로"
   ],
   "outputs": [
    {
     "output_type": "execute_result",
     "data": {
      "text/plain": [
       "array([1, 1, 0])"
      ]
     },
     "metadata": {},
     "execution_count": 21
    }
   ],
   "metadata": {}
  },
  {
   "cell_type": "code",
   "execution_count": 22,
   "source": [
    "clf.support_vectors_"
   ],
   "outputs": [
    {
     "output_type": "execute_result",
     "data": {
      "text/plain": [
       "array([[7., 5.],\n",
       "       [8., 2.],\n",
       "       [2., 2.]])"
      ]
     },
     "metadata": {},
     "execution_count": 22
    }
   ],
   "metadata": {}
  },
  {
   "cell_type": "code",
   "execution_count": 23,
   "source": [
    "clf=SVC(C=1) #오류를 어느정도 허용하겠느냐?, 기본값:1\r\n",
    "#C값이 클수록 하드마진(오류 허용 안함)\r\n",
    "#C값이 작을수록 소프트마진(오류 허용함)\r\n",
    "#C값은 답이 없음. 직접 다양하게 넣어보면서 테스트 및 검증, 튜닝해야 함"
   ],
   "outputs": [],
   "metadata": {}
  },
  {
   "cell_type": "code",
   "execution_count": 24,
   "source": [
    "from sklearn.model_selection import GridSearchCV\r\n",
    "from sklearn.metrics import accuracy_score\r\n",
    "import numpy as np"
   ],
   "outputs": [],
   "metadata": {}
  },
  {
   "cell_type": "code",
   "execution_count": 25,
   "source": [
    "import pandas as pd"
   ],
   "outputs": [],
   "metadata": {}
  },
  {
   "cell_type": "code",
   "execution_count": 26,
   "source": [
    "df=pd.read_csv(\"f:/data/basketball_stat.csv\")"
   ],
   "outputs": [],
   "metadata": {}
  },
  {
   "cell_type": "code",
   "execution_count": 27,
   "source": [
    "df.drop(['2P', 'AST', 'STL'], axis=1, inplace=True)"
   ],
   "outputs": [],
   "metadata": {}
  },
  {
   "cell_type": "code",
   "execution_count": 28,
   "source": [
    "df"
   ],
   "outputs": [
    {
     "output_type": "execute_result",
     "data": {
      "text/html": [
       "<div>\n",
       "<style scoped>\n",
       "    .dataframe tbody tr th:only-of-type {\n",
       "        vertical-align: middle;\n",
       "    }\n",
       "\n",
       "    .dataframe tbody tr th {\n",
       "        vertical-align: top;\n",
       "    }\n",
       "\n",
       "    .dataframe thead th {\n",
       "        text-align: right;\n",
       "    }\n",
       "</style>\n",
       "<table border=\"1\" class=\"dataframe\">\n",
       "  <thead>\n",
       "    <tr style=\"text-align: right;\">\n",
       "      <th></th>\n",
       "      <th>Player</th>\n",
       "      <th>Pos</th>\n",
       "      <th>3P</th>\n",
       "      <th>TRB</th>\n",
       "      <th>BLK</th>\n",
       "    </tr>\n",
       "  </thead>\n",
       "  <tbody>\n",
       "    <tr>\n",
       "      <th>0</th>\n",
       "      <td>Alex Abrines</td>\n",
       "      <td>SG</td>\n",
       "      <td>1.4</td>\n",
       "      <td>1.3</td>\n",
       "      <td>0.1</td>\n",
       "    </tr>\n",
       "    <tr>\n",
       "      <th>1</th>\n",
       "      <td>Steven Adams</td>\n",
       "      <td>C</td>\n",
       "      <td>0.0</td>\n",
       "      <td>7.7</td>\n",
       "      <td>1.0</td>\n",
       "    </tr>\n",
       "    <tr>\n",
       "      <th>2</th>\n",
       "      <td>Alexis Ajinca</td>\n",
       "      <td>C</td>\n",
       "      <td>0.0</td>\n",
       "      <td>4.5</td>\n",
       "      <td>0.6</td>\n",
       "    </tr>\n",
       "    <tr>\n",
       "      <th>3</th>\n",
       "      <td>Chris Andersen</td>\n",
       "      <td>C</td>\n",
       "      <td>0.0</td>\n",
       "      <td>2.6</td>\n",
       "      <td>0.6</td>\n",
       "    </tr>\n",
       "    <tr>\n",
       "      <th>4</th>\n",
       "      <td>Will Barton</td>\n",
       "      <td>SG</td>\n",
       "      <td>1.5</td>\n",
       "      <td>4.3</td>\n",
       "      <td>0.5</td>\n",
       "    </tr>\n",
       "    <tr>\n",
       "      <th>...</th>\n",
       "      <td>...</td>\n",
       "      <td>...</td>\n",
       "      <td>...</td>\n",
       "      <td>...</td>\n",
       "      <td>...</td>\n",
       "    </tr>\n",
       "    <tr>\n",
       "      <th>95</th>\n",
       "      <td>Nikola Vucevic</td>\n",
       "      <td>C</td>\n",
       "      <td>0.3</td>\n",
       "      <td>10.4</td>\n",
       "      <td>1.0</td>\n",
       "    </tr>\n",
       "    <tr>\n",
       "      <th>96</th>\n",
       "      <td>Dwyane Wade</td>\n",
       "      <td>SG</td>\n",
       "      <td>0.8</td>\n",
       "      <td>4.5</td>\n",
       "      <td>0.7</td>\n",
       "    </tr>\n",
       "    <tr>\n",
       "      <th>97</th>\n",
       "      <td>Dion Waiters</td>\n",
       "      <td>SG</td>\n",
       "      <td>1.8</td>\n",
       "      <td>3.3</td>\n",
       "      <td>0.4</td>\n",
       "    </tr>\n",
       "    <tr>\n",
       "      <th>98</th>\n",
       "      <td>Hassan Whiteside</td>\n",
       "      <td>C</td>\n",
       "      <td>0.0</td>\n",
       "      <td>14.1</td>\n",
       "      <td>2.1</td>\n",
       "    </tr>\n",
       "    <tr>\n",
       "      <th>99</th>\n",
       "      <td>Lou Williams</td>\n",
       "      <td>SG</td>\n",
       "      <td>2.0</td>\n",
       "      <td>2.5</td>\n",
       "      <td>0.2</td>\n",
       "    </tr>\n",
       "  </tbody>\n",
       "</table>\n",
       "<p>100 rows × 5 columns</p>\n",
       "</div>"
      ],
      "text/plain": [
       "              Player Pos   3P   TRB  BLK\n",
       "0       Alex Abrines  SG  1.4   1.3  0.1\n",
       "1       Steven Adams   C  0.0   7.7  1.0\n",
       "2      Alexis Ajinca   C  0.0   4.5  0.6\n",
       "3     Chris Andersen   C  0.0   2.6  0.6\n",
       "4        Will Barton  SG  1.5   4.3  0.5\n",
       "..               ...  ..  ...   ...  ...\n",
       "95    Nikola Vucevic   C  0.3  10.4  1.0\n",
       "96       Dwyane Wade  SG  0.8   4.5  0.7\n",
       "97      Dion Waiters  SG  1.8   3.3  0.4\n",
       "98  Hassan Whiteside   C  0.0  14.1  2.1\n",
       "99      Lou Williams  SG  2.0   2.5  0.2\n",
       "\n",
       "[100 rows x 5 columns]"
      ]
     },
     "metadata": {},
     "execution_count": 28
    }
   ],
   "metadata": {}
  },
  {
   "cell_type": "code",
   "execution_count": 29,
   "source": [
    "from sklearn.model_selection import train_test_split"
   ],
   "outputs": [],
   "metadata": {}
  },
  {
   "cell_type": "code",
   "execution_count": 30,
   "source": [
    "train, test = train_test_split(df, test_size=0.3, random_state=928)"
   ],
   "outputs": [],
   "metadata": {}
  },
  {
   "cell_type": "code",
   "execution_count": 31,
   "source": [
    "import pickle"
   ],
   "outputs": [],
   "metadata": {}
  },
  {
   "cell_type": "code",
   "execution_count": 32,
   "source": [
    "with open(\"basketball_train.pkl\", \"wb\") as train_data:\r\n",
    "    pickle.dump(train, train_data)"
   ],
   "outputs": [],
   "metadata": {}
  },
  {
   "cell_type": "code",
   "execution_count": 33,
   "source": [
    "with open(\"basketball_test.pkl\", \"wb\") as test_data:\r\n",
    "    pickle.dump(test, test_data)"
   ],
   "outputs": [],
   "metadata": {}
  },
  {
   "cell_type": "code",
   "execution_count": 34,
   "source": [
    "#피클로 저장된 파일을 불러오기\r\n",
    "with open(\"basketball_train.pkl\", \"rb\") as train_data:\r\n",
    "    mytrain=pickle.load(train_data)"
   ],
   "outputs": [],
   "metadata": {}
  },
  {
   "cell_type": "code",
   "execution_count": 35,
   "source": [
    "with open(\"basketball_test.pkl\", \"rb\") as test_data:\r\n",
    "    mytest=pickle.load(test_data)"
   ],
   "outputs": [],
   "metadata": {}
  },
  {
   "cell_type": "code",
   "execution_count": 36,
   "source": [
    "mytest"
   ],
   "outputs": [
    {
     "output_type": "execute_result",
     "data": {
      "text/html": [
       "<div>\n",
       "<style scoped>\n",
       "    .dataframe tbody tr th:only-of-type {\n",
       "        vertical-align: middle;\n",
       "    }\n",
       "\n",
       "    .dataframe tbody tr th {\n",
       "        vertical-align: top;\n",
       "    }\n",
       "\n",
       "    .dataframe thead th {\n",
       "        text-align: right;\n",
       "    }\n",
       "</style>\n",
       "<table border=\"1\" class=\"dataframe\">\n",
       "  <thead>\n",
       "    <tr style=\"text-align: right;\">\n",
       "      <th></th>\n",
       "      <th>Player</th>\n",
       "      <th>Pos</th>\n",
       "      <th>3P</th>\n",
       "      <th>TRB</th>\n",
       "      <th>BLK</th>\n",
       "    </tr>\n",
       "  </thead>\n",
       "  <tbody>\n",
       "    <tr>\n",
       "      <th>95</th>\n",
       "      <td>Nikola Vucevic</td>\n",
       "      <td>C</td>\n",
       "      <td>0.3</td>\n",
       "      <td>10.4</td>\n",
       "      <td>1.0</td>\n",
       "    </tr>\n",
       "    <tr>\n",
       "      <th>51</th>\n",
       "      <td>Dwight Howard</td>\n",
       "      <td>C</td>\n",
       "      <td>0.0</td>\n",
       "      <td>12.7</td>\n",
       "      <td>1.2</td>\n",
       "    </tr>\n",
       "    <tr>\n",
       "      <th>25</th>\n",
       "      <td>Andre Drummond</td>\n",
       "      <td>C</td>\n",
       "      <td>0.0</td>\n",
       "      <td>13.8</td>\n",
       "      <td>1.1</td>\n",
       "    </tr>\n",
       "    <tr>\n",
       "      <th>13</th>\n",
       "      <td>Avery Bradley</td>\n",
       "      <td>SG</td>\n",
       "      <td>2.0</td>\n",
       "      <td>6.1</td>\n",
       "      <td>0.2</td>\n",
       "    </tr>\n",
       "    <tr>\n",
       "      <th>97</th>\n",
       "      <td>Dion Waiters</td>\n",
       "      <td>SG</td>\n",
       "      <td>1.8</td>\n",
       "      <td>3.3</td>\n",
       "      <td>0.4</td>\n",
       "    </tr>\n",
       "    <tr>\n",
       "      <th>44</th>\n",
       "      <td>Roy Hibbert</td>\n",
       "      <td>C</td>\n",
       "      <td>0.0</td>\n",
       "      <td>3.2</td>\n",
       "      <td>1.0</td>\n",
       "    </tr>\n",
       "    <tr>\n",
       "      <th>80</th>\n",
       "      <td>Iman Shumpert</td>\n",
       "      <td>SG</td>\n",
       "      <td>1.2</td>\n",
       "      <td>2.9</td>\n",
       "      <td>0.4</td>\n",
       "    </tr>\n",
       "    <tr>\n",
       "      <th>32</th>\n",
       "      <td>Manu Ginobili</td>\n",
       "      <td>SG</td>\n",
       "      <td>1.3</td>\n",
       "      <td>2.3</td>\n",
       "      <td>0.2</td>\n",
       "    </tr>\n",
       "    <tr>\n",
       "      <th>3</th>\n",
       "      <td>Chris Andersen</td>\n",
       "      <td>C</td>\n",
       "      <td>0.0</td>\n",
       "      <td>2.6</td>\n",
       "      <td>0.6</td>\n",
       "    </tr>\n",
       "    <tr>\n",
       "      <th>11</th>\n",
       "      <td>Andrew Bogut</td>\n",
       "      <td>C</td>\n",
       "      <td>0.0</td>\n",
       "      <td>8.1</td>\n",
       "      <td>0.9</td>\n",
       "    </tr>\n",
       "    <tr>\n",
       "      <th>48</th>\n",
       "      <td>Richaun Holmes</td>\n",
       "      <td>C</td>\n",
       "      <td>0.5</td>\n",
       "      <td>5.5</td>\n",
       "      <td>1.0</td>\n",
       "    </tr>\n",
       "    <tr>\n",
       "      <th>79</th>\n",
       "      <td>Austin Rivers</td>\n",
       "      <td>SG</td>\n",
       "      <td>1.5</td>\n",
       "      <td>2.2</td>\n",
       "      <td>0.1</td>\n",
       "    </tr>\n",
       "    <tr>\n",
       "      <th>98</th>\n",
       "      <td>Hassan Whiteside</td>\n",
       "      <td>C</td>\n",
       "      <td>0.0</td>\n",
       "      <td>14.1</td>\n",
       "      <td>2.1</td>\n",
       "    </tr>\n",
       "    <tr>\n",
       "      <th>6</th>\n",
       "      <td>Bradley Beal</td>\n",
       "      <td>SG</td>\n",
       "      <td>2.9</td>\n",
       "      <td>3.1</td>\n",
       "      <td>0.3</td>\n",
       "    </tr>\n",
       "    <tr>\n",
       "      <th>12</th>\n",
       "      <td>Devin Booker</td>\n",
       "      <td>SG</td>\n",
       "      <td>1.9</td>\n",
       "      <td>3.2</td>\n",
       "      <td>0.3</td>\n",
       "    </tr>\n",
       "    <tr>\n",
       "      <th>93</th>\n",
       "      <td>Jonas Valanciunas</td>\n",
       "      <td>C</td>\n",
       "      <td>0.0</td>\n",
       "      <td>9.5</td>\n",
       "      <td>0.8</td>\n",
       "    </tr>\n",
       "    <tr>\n",
       "      <th>20</th>\n",
       "      <td>Jamal Crawford</td>\n",
       "      <td>SG</td>\n",
       "      <td>1.4</td>\n",
       "      <td>1.6</td>\n",
       "      <td>0.2</td>\n",
       "    </tr>\n",
       "    <tr>\n",
       "      <th>73</th>\n",
       "      <td>Victor Oladipo</td>\n",
       "      <td>SG</td>\n",
       "      <td>1.9</td>\n",
       "      <td>4.3</td>\n",
       "      <td>0.3</td>\n",
       "    </tr>\n",
       "    <tr>\n",
       "      <th>7</th>\n",
       "      <td>Marco Belinelli</td>\n",
       "      <td>SG</td>\n",
       "      <td>1.4</td>\n",
       "      <td>2.4</td>\n",
       "      <td>0.1</td>\n",
       "    </tr>\n",
       "    <tr>\n",
       "      <th>21</th>\n",
       "      <td>Jordan Crawford</td>\n",
       "      <td>SG</td>\n",
       "      <td>1.9</td>\n",
       "      <td>1.8</td>\n",
       "      <td>0.1</td>\n",
       "    </tr>\n",
       "    <tr>\n",
       "      <th>77</th>\n",
       "      <td>Willie Reed</td>\n",
       "      <td>C</td>\n",
       "      <td>0.0</td>\n",
       "      <td>4.7</td>\n",
       "      <td>0.7</td>\n",
       "    </tr>\n",
       "    <tr>\n",
       "      <th>2</th>\n",
       "      <td>Alexis Ajinca</td>\n",
       "      <td>C</td>\n",
       "      <td>0.0</td>\n",
       "      <td>4.5</td>\n",
       "      <td>0.6</td>\n",
       "    </tr>\n",
       "    <tr>\n",
       "      <th>33</th>\n",
       "      <td>Rudy Gobert</td>\n",
       "      <td>C</td>\n",
       "      <td>0.0</td>\n",
       "      <td>12.8</td>\n",
       "      <td>2.6</td>\n",
       "    </tr>\n",
       "    <tr>\n",
       "      <th>52</th>\n",
       "      <td>Nikola Jokic</td>\n",
       "      <td>C</td>\n",
       "      <td>0.6</td>\n",
       "      <td>9.8</td>\n",
       "      <td>0.8</td>\n",
       "    </tr>\n",
       "    <tr>\n",
       "      <th>78</th>\n",
       "      <td>Josh Richardson</td>\n",
       "      <td>SG</td>\n",
       "      <td>1.4</td>\n",
       "      <td>3.2</td>\n",
       "      <td>0.7</td>\n",
       "    </tr>\n",
       "    <tr>\n",
       "      <th>36</th>\n",
       "      <td>Danny Green</td>\n",
       "      <td>SG</td>\n",
       "      <td>1.7</td>\n",
       "      <td>3.3</td>\n",
       "      <td>0.8</td>\n",
       "    </tr>\n",
       "    <tr>\n",
       "      <th>54</th>\n",
       "      <td>Frank Kaminsky</td>\n",
       "      <td>C</td>\n",
       "      <td>1.5</td>\n",
       "      <td>4.5</td>\n",
       "      <td>0.5</td>\n",
       "    </tr>\n",
       "    <tr>\n",
       "      <th>83</th>\n",
       "      <td>Jason Smith</td>\n",
       "      <td>C</td>\n",
       "      <td>0.5</td>\n",
       "      <td>3.5</td>\n",
       "      <td>0.7</td>\n",
       "    </tr>\n",
       "    <tr>\n",
       "      <th>63</th>\n",
       "      <td>Ian Mahinmi</td>\n",
       "      <td>C</td>\n",
       "      <td>0.0</td>\n",
       "      <td>4.8</td>\n",
       "      <td>0.8</td>\n",
       "    </tr>\n",
       "    <tr>\n",
       "      <th>37</th>\n",
       "      <td>Justin Hamilton</td>\n",
       "      <td>C</td>\n",
       "      <td>0.9</td>\n",
       "      <td>4.1</td>\n",
       "      <td>0.7</td>\n",
       "    </tr>\n",
       "  </tbody>\n",
       "</table>\n",
       "</div>"
      ],
      "text/plain": [
       "               Player Pos   3P   TRB  BLK\n",
       "95     Nikola Vucevic   C  0.3  10.4  1.0\n",
       "51      Dwight Howard   C  0.0  12.7  1.2\n",
       "25     Andre Drummond   C  0.0  13.8  1.1\n",
       "13      Avery Bradley  SG  2.0   6.1  0.2\n",
       "97       Dion Waiters  SG  1.8   3.3  0.4\n",
       "44        Roy Hibbert   C  0.0   3.2  1.0\n",
       "80      Iman Shumpert  SG  1.2   2.9  0.4\n",
       "32      Manu Ginobili  SG  1.3   2.3  0.2\n",
       "3      Chris Andersen   C  0.0   2.6  0.6\n",
       "11       Andrew Bogut   C  0.0   8.1  0.9\n",
       "48     Richaun Holmes   C  0.5   5.5  1.0\n",
       "79      Austin Rivers  SG  1.5   2.2  0.1\n",
       "98   Hassan Whiteside   C  0.0  14.1  2.1\n",
       "6        Bradley Beal  SG  2.9   3.1  0.3\n",
       "12       Devin Booker  SG  1.9   3.2  0.3\n",
       "93  Jonas Valanciunas   C  0.0   9.5  0.8\n",
       "20     Jamal Crawford  SG  1.4   1.6  0.2\n",
       "73     Victor Oladipo  SG  1.9   4.3  0.3\n",
       "7     Marco Belinelli  SG  1.4   2.4  0.1\n",
       "21    Jordan Crawford  SG  1.9   1.8  0.1\n",
       "77        Willie Reed   C  0.0   4.7  0.7\n",
       "2       Alexis Ajinca   C  0.0   4.5  0.6\n",
       "33        Rudy Gobert   C  0.0  12.8  2.6\n",
       "52       Nikola Jokic   C  0.6   9.8  0.8\n",
       "78    Josh Richardson  SG  1.4   3.2  0.7\n",
       "36        Danny Green  SG  1.7   3.3  0.8\n",
       "54     Frank Kaminsky   C  1.5   4.5  0.5\n",
       "83        Jason Smith   C  0.5   3.5  0.7\n",
       "63        Ian Mahinmi   C  0.0   4.8  0.8\n",
       "37    Justin Hamilton   C  0.9   4.1  0.7"
      ]
     },
     "metadata": {},
     "execution_count": 36
    }
   ],
   "metadata": {}
  },
  {
   "cell_type": "code",
   "execution_count": 37,
   "source": [
    "train"
   ],
   "outputs": [
    {
     "output_type": "execute_result",
     "data": {
      "text/html": [
       "<div>\n",
       "<style scoped>\n",
       "    .dataframe tbody tr th:only-of-type {\n",
       "        vertical-align: middle;\n",
       "    }\n",
       "\n",
       "    .dataframe tbody tr th {\n",
       "        vertical-align: top;\n",
       "    }\n",
       "\n",
       "    .dataframe thead th {\n",
       "        text-align: right;\n",
       "    }\n",
       "</style>\n",
       "<table border=\"1\" class=\"dataframe\">\n",
       "  <thead>\n",
       "    <tr style=\"text-align: right;\">\n",
       "      <th></th>\n",
       "      <th>Player</th>\n",
       "      <th>Pos</th>\n",
       "      <th>3P</th>\n",
       "      <th>TRB</th>\n",
       "      <th>BLK</th>\n",
       "    </tr>\n",
       "  </thead>\n",
       "  <tbody>\n",
       "    <tr>\n",
       "      <th>31</th>\n",
       "      <td>Pau Gasol</td>\n",
       "      <td>C</td>\n",
       "      <td>0.9</td>\n",
       "      <td>7.8</td>\n",
       "      <td>1.1</td>\n",
       "    </tr>\n",
       "    <tr>\n",
       "      <th>49</th>\n",
       "      <td>Rodney Hood</td>\n",
       "      <td>SG</td>\n",
       "      <td>1.9</td>\n",
       "      <td>3.4</td>\n",
       "      <td>0.2</td>\n",
       "    </tr>\n",
       "    <tr>\n",
       "      <th>18</th>\n",
       "      <td>DeMarcus Cousins</td>\n",
       "      <td>C</td>\n",
       "      <td>1.8</td>\n",
       "      <td>11.0</td>\n",
       "      <td>1.3</td>\n",
       "    </tr>\n",
       "    <tr>\n",
       "      <th>38</th>\n",
       "      <td>A.J. Hammons</td>\n",
       "      <td>C</td>\n",
       "      <td>0.2</td>\n",
       "      <td>1.6</td>\n",
       "      <td>0.6</td>\n",
       "    </tr>\n",
       "    <tr>\n",
       "      <th>29</th>\n",
       "      <td>Channing Frye</td>\n",
       "      <td>C</td>\n",
       "      <td>1.9</td>\n",
       "      <td>3.9</td>\n",
       "      <td>0.5</td>\n",
       "    </tr>\n",
       "    <tr>\n",
       "      <th>...</th>\n",
       "      <td>...</td>\n",
       "      <td>...</td>\n",
       "      <td>...</td>\n",
       "      <td>...</td>\n",
       "      <td>...</td>\n",
       "    </tr>\n",
       "    <tr>\n",
       "      <th>91</th>\n",
       "      <td>Karl-Anthony Towns</td>\n",
       "      <td>C</td>\n",
       "      <td>1.2</td>\n",
       "      <td>12.3</td>\n",
       "      <td>1.3</td>\n",
       "    </tr>\n",
       "    <tr>\n",
       "      <th>28</th>\n",
       "      <td>Evan Fournier</td>\n",
       "      <td>SG</td>\n",
       "      <td>1.9</td>\n",
       "      <td>3.1</td>\n",
       "      <td>0.1</td>\n",
       "    </tr>\n",
       "    <tr>\n",
       "      <th>19</th>\n",
       "      <td>Allen Crabbe</td>\n",
       "      <td>SG</td>\n",
       "      <td>1.7</td>\n",
       "      <td>2.9</td>\n",
       "      <td>0.3</td>\n",
       "    </tr>\n",
       "    <tr>\n",
       "      <th>85</th>\n",
       "      <td>Marreese Speights</td>\n",
       "      <td>C</td>\n",
       "      <td>1.3</td>\n",
       "      <td>4.5</td>\n",
       "      <td>0.5</td>\n",
       "    </tr>\n",
       "    <tr>\n",
       "      <th>99</th>\n",
       "      <td>Lou Williams</td>\n",
       "      <td>SG</td>\n",
       "      <td>2.0</td>\n",
       "      <td>2.5</td>\n",
       "      <td>0.2</td>\n",
       "    </tr>\n",
       "  </tbody>\n",
       "</table>\n",
       "<p>70 rows × 5 columns</p>\n",
       "</div>"
      ],
      "text/plain": [
       "                Player Pos   3P   TRB  BLK\n",
       "31           Pau Gasol   C  0.9   7.8  1.1\n",
       "49         Rodney Hood  SG  1.9   3.4  0.2\n",
       "18    DeMarcus Cousins   C  1.8  11.0  1.3\n",
       "38        A.J. Hammons   C  0.2   1.6  0.6\n",
       "29       Channing Frye   C  1.9   3.9  0.5\n",
       "..                 ...  ..  ...   ...  ...\n",
       "91  Karl-Anthony Towns   C  1.2  12.3  1.3\n",
       "28       Evan Fournier  SG  1.9   3.1  0.1\n",
       "19        Allen Crabbe  SG  1.7   2.9  0.3\n",
       "85   Marreese Speights   C  1.3   4.5  0.5\n",
       "99        Lou Williams  SG  2.0   2.5  0.2\n",
       "\n",
       "[70 rows x 5 columns]"
      ]
     },
     "metadata": {},
     "execution_count": 37
    }
   ],
   "metadata": {}
  },
  {
   "cell_type": "code",
   "execution_count": 38,
   "source": [
    "x_train=train[['3P', 'BLK']]\r\n",
    "y_train=train[['Pos']]"
   ],
   "outputs": [],
   "metadata": {}
  },
  {
   "cell_type": "code",
   "execution_count": 39,
   "source": [
    "def svc_param_selection(x, y, nfolds):\r\n",
    "    svm_parameters=[{'kernel':['rbf'],\r\n",
    "                     'gamma':[0.00001, 0.0001, 0.001, 0.01, 0.1, 1],\r\n",
    "                     'C':[0.001,0.01,1,10,100,1000] }]\r\n",
    "    clf=GridSearchCV(SVC(), svm_parameters, cv=nfolds)\r\n",
    "    clf.fit(x, y)\r\n",
    "    print(clf.best_params_)\r\n",
    "    return clf # 모델 리턴"
   ],
   "outputs": [],
   "metadata": {}
  },
  {
   "cell_type": "code",
   "execution_count": 40,
   "source": [
    "clf=svc_param_selection(x_train, y_train.values.ravel(), 10)"
   ],
   "outputs": [
    {
     "output_type": "stream",
     "name": "stdout",
     "text": [
      "{'C': 1, 'gamma': 1, 'kernel': 'rbf'}\n"
     ]
    }
   ],
   "metadata": {}
  },
  {
   "cell_type": "code",
   "execution_count": 41,
   "source": [
    "clf=SVC(C=1, gamma=1)\r\n",
    "clf.fit(x_train, y_train)"
   ],
   "outputs": [
    {
     "output_type": "stream",
     "name": "stderr",
     "text": [
      "C:\\Users\\poeun\\anaconda3\\envs\\pytorch\\lib\\site-packages\\sklearn\\utils\\validation.py:985: DataConversionWarning: A column-vector y was passed when a 1d array was expected. Please change the shape of y to (n_samples, ), for example using ravel().\n",
      "  y = column_or_1d(y, warn=True)\n"
     ]
    },
    {
     "output_type": "execute_result",
     "data": {
      "text/plain": [
       "SVC(C=1, gamma=1)"
      ]
     },
     "metadata": {},
     "execution_count": 41
    }
   ],
   "metadata": {}
  },
  {
   "cell_type": "code",
   "execution_count": 42,
   "source": [
    "y_test=test[['Pos']]\r\n",
    "x_test=test[['3P', 'BLK']]"
   ],
   "outputs": [],
   "metadata": {}
  },
  {
   "cell_type": "code",
   "execution_count": 43,
   "source": [
    "pred=clf.predict(x_test)"
   ],
   "outputs": [],
   "metadata": {}
  },
  {
   "cell_type": "code",
   "execution_count": 44,
   "source": [
    "y_test\r\n",
    "pred\r\n",
    "accuracy_score(y_test, pred)"
   ],
   "outputs": [
    {
     "output_type": "execute_result",
     "data": {
      "text/plain": [
       "0.9333333333333333"
      ]
     },
     "metadata": {},
     "execution_count": 44
    }
   ],
   "metadata": {}
  }
 ],
 "metadata": {
  "orig_nbformat": 4,
  "language_info": {
   "name": "python",
   "version": "3.7.11",
   "mimetype": "text/x-python",
   "codemirror_mode": {
    "name": "ipython",
    "version": 3
   },
   "pygments_lexer": "ipython3",
   "nbconvert_exporter": "python",
   "file_extension": ".py"
  },
  "kernelspec": {
   "name": "python3",
   "display_name": "Python 3.7.11 64-bit ('pytorch': conda)"
  },
  "interpreter": {
   "hash": "79eb8b551db2b880459dff10818154367dbe519dd3f614e5f214e4642a67d99b"
  }
 },
 "nbformat": 4,
 "nbformat_minor": 2
}